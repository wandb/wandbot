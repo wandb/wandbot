{
 "cells": [
  {
   "cell_type": "code",
   "execution_count": 1,
   "metadata": {
    "ExecuteTime": {
     "end_time": "2024-01-18T05:32:12.233346928Z",
     "start_time": "2024-01-18T05:32:11.961330477Z"
    }
   },
   "outputs": [],
   "source": [
    "import os\n",
    "\n",
    "import pandas as pd\n",
    "import plotly.express as px\n",
    "import plotly.graph_objects as go\n",
    "import wandb\n",
    "\n",
    "os.environ[\"WANDB_PROJECT\"] = \"wandbot-eval\""
   ]
  },
  {
   "cell_type": "code",
   "execution_count": 2,
   "metadata": {
    "ExecuteTime": {
     "end_time": "2024-01-18T05:32:19.595672952Z",
     "start_time": "2024-01-18T05:32:13.032115958Z"
    }
   },
   "outputs": [
    {
     "data": {
      "application/vnd.jupyter.widget-view+json": {
       "model_id": "b356e4cc4b614a43adeefba4a52d916b",
       "version_major": 2,
       "version_minor": 0
      },
      "text/plain": [
       "VBox(children=(Label(value='Waiting for wandb.init()...\\r'), FloatProgress(value=0.011112689988739375, max=1.0…"
      ]
     },
     "metadata": {},
     "output_type": "display_data"
    }
   ],
   "source": [
    "run = wandb.init(\n",
    "    entity=\"wandbot\",\n",
    "    project=\"wandbot-eval\",\n",
    "    group=\"auto-eval\",\n",
    "    job_type=\"eval-analysis\",\n",
    ")"
   ]
  },
  {
   "cell_type": "code",
   "execution_count": 3,
   "metadata": {
    "ExecuteTime": {
     "end_time": "2024-01-18T05:32:27.182926617Z",
     "start_time": "2024-01-18T05:32:24.634291597Z"
    }
   },
   "outputs": [],
   "source": [
    "artifact = run.use_artifact(\n",
    "    \"wandbot/wandbot-eval/autoeval_dataset:latest\", type=\"dataset\"\n",
    ")\n",
    "artifact_dir = artifact.download()"
   ]
  },
  {
   "cell_type": "code",
   "execution_count": 4,
   "metadata": {},
   "outputs": [],
   "source": [
    "def load_dfs_from_artifact(artifact, table_names):\n",
    "    dfs = {}\n",
    "    for table_name in table_names:\n",
    "        table = artifact.get(table_name)\n",
    "        dfs[table_name] = table.get_dataframe()\n",
    "    return dfs"
   ]
  },
  {
   "cell_type": "code",
   "execution_count": 5,
   "metadata": {},
   "outputs": [],
   "source": [
    "table_names = [\n",
    "    \"gpt4_0613_autoeval_data\",\n",
    "    \"gpt35_autoeval_data\",\n",
    "    \"gpt4_turbo_autoeval_data\",\n",
    "    \"gpt4_1106_preview_v1_1_autoeval_data\",\n",
    "]"
   ]
  },
  {
   "cell_type": "code",
   "execution_count": 6,
   "metadata": {},
   "outputs": [],
   "source": [
    "dfs = load_dfs_from_artifact(artifact, table_names)"
   ]
  },
  {
   "cell_type": "code",
   "execution_count": 7,
   "metadata": {},
   "outputs": [],
   "source": [
    "def table_metrics(dfs, table_names, metric_cols, metric_prefix=\"\"):\n",
    "    metrics_df = []\n",
    "    for table_name in table_names:\n",
    "        for col in metric_cols:\n",
    "            model_name = dfs[table_name][\"model\"].value_counts().index[0]\n",
    "            metric_df = pd.DataFrame(\n",
    "                dfs[table_name][col].values, columns=[\"score\"]\n",
    "            )\n",
    "            metric_df[\"model\"] = (\n",
    "                model_name + \"-v1.1\" if \"v1_1\" in table_name else model_name\n",
    "            )\n",
    "            metric_df[\"metric\"] = (\n",
    "                metric_prefix + \" \".join(col.split(\"_\")[:-1]).title()\n",
    "            )\n",
    "            metrics_df.append(metric_df)\n",
    "    metrics_df = pd.concat(metrics_df)\n",
    "    metrics_df.fillna(0, inplace=True)\n",
    "    return metrics_df\n",
    "\n",
    "\n",
    "def plot_categorical_metric_heatmaps(\n",
    "    dfs, table_names, metric_col, metric_prefix=\"\"\n",
    "):\n",
    "    metric_cols = [metric_col]\n",
    "    metrics_df = table_metrics(dfs, table_names, metric_cols, metric_prefix)\n",
    "    # Create pivot table\n",
    "    pivot_table = pd.pivot_table(\n",
    "        metrics_df,\n",
    "        values=\"score\",\n",
    "        index=[\"metric\", \"score\"],\n",
    "        columns=[\"model\"],\n",
    "        aggfunc=\"size\",\n",
    "        fill_value=0,\n",
    "    )\n",
    "\n",
    "    # Convert multi-index to string\n",
    "    pivot_table.index = pivot_table.index.map(lambda x: \"=\".join(map(str, x)))\n",
    "\n",
    "    z_text = pivot_table.applymap(str).values\n",
    "\n",
    "    fig = px.imshow(\n",
    "        pivot_table.values,\n",
    "        x=pivot_table.columns,\n",
    "        y=pivot_table.index,\n",
    "        color_continuous_scale=\"Viridis\",\n",
    "        aspect=\"auto\",\n",
    "    )\n",
    "    metric_name = \" \".join(metric_col.split(\"_\")).title()\n",
    "    # fig.update_layout(title_text=metric_name, title_x=0.5)\n",
    "    fig.update_traces(text=z_text, texttemplate=\"%{text}\")\n",
    "    wandb_plot = wandb.Plotly(fig)\n",
    "\n",
    "    run.log({f\"{metric_name} Heatmap\": wandb_plot})\n",
    "    return fig.show()"
   ]
  },
  {
   "cell_type": "code",
   "execution_count": 8,
   "metadata": {},
   "outputs": [
    {
     "data": {
      "application/vnd.plotly.v1+json": {
       "config": {
        "plotlyServerURL": "https://plot.ly"
       },
       "data": [
        {
         "coloraxis": "coloraxis",
         "hovertemplate": "x: %{x}<br>y: %{y}<br>color: %{z}<extra></extra>",
         "name": "0",
         "text": [
          [
           "36",
           "18",
           "6",
           "7"
          ],
          [
           "38",
           "51",
           "28",
           "22"
          ],
          [
           "24",
           "29",
           "64",
           "69"
          ]
         ],
         "texttemplate": "%{text}",
         "type": "heatmap",
         "x": [
          "gpt-3.5-turbo-16k-0613",
          "gpt-4-0613",
          "gpt-4-1106-preview",
          "gpt-4-1106-preview-v1.1"
         ],
         "xaxis": "x",
         "y": [
          "Answer Correctness=1",
          "Answer Correctness=2",
          "Answer Correctness=3"
         ],
         "yaxis": "y",
         "z": [
          [
           36,
           18,
           6,
           7
          ],
          [
           38,
           51,
           28,
           22
          ],
          [
           24,
           29,
           64,
           69
          ]
         ]
        }
       ],
       "layout": {
        "coloraxis": {
         "colorscale": [
          [
           0,
           "#440154"
          ],
          [
           0.1111111111111111,
           "#482878"
          ],
          [
           0.2222222222222222,
           "#3e4989"
          ],
          [
           0.3333333333333333,
           "#31688e"
          ],
          [
           0.4444444444444444,
           "#26828e"
          ],
          [
           0.5555555555555556,
           "#1f9e89"
          ],
          [
           0.6666666666666666,
           "#35b779"
          ],
          [
           0.7777777777777778,
           "#6ece58"
          ],
          [
           0.8888888888888888,
           "#b5de2b"
          ],
          [
           1,
           "#fde725"
          ]
         ]
        },
        "margin": {
         "t": 60
        },
        "template": {
         "data": {
          "bar": [
           {
            "error_x": {
             "color": "#2a3f5f"
            },
            "error_y": {
             "color": "#2a3f5f"
            },
            "marker": {
             "line": {
              "color": "#E5ECF6",
              "width": 0.5
             },
             "pattern": {
              "fillmode": "overlay",
              "size": 10,
              "solidity": 0.2
             }
            },
            "type": "bar"
           }
          ],
          "barpolar": [
           {
            "marker": {
             "line": {
              "color": "#E5ECF6",
              "width": 0.5
             },
             "pattern": {
              "fillmode": "overlay",
              "size": 10,
              "solidity": 0.2
             }
            },
            "type": "barpolar"
           }
          ],
          "carpet": [
           {
            "aaxis": {
             "endlinecolor": "#2a3f5f",
             "gridcolor": "white",
             "linecolor": "white",
             "minorgridcolor": "white",
             "startlinecolor": "#2a3f5f"
            },
            "baxis": {
             "endlinecolor": "#2a3f5f",
             "gridcolor": "white",
             "linecolor": "white",
             "minorgridcolor": "white",
             "startlinecolor": "#2a3f5f"
            },
            "type": "carpet"
           }
          ],
          "choropleth": [
           {
            "colorbar": {
             "outlinewidth": 0,
             "ticks": ""
            },
            "type": "choropleth"
           }
          ],
          "contour": [
           {
            "colorbar": {
             "outlinewidth": 0,
             "ticks": ""
            },
            "colorscale": [
             [
              0,
              "#0d0887"
             ],
             [
              0.1111111111111111,
              "#46039f"
             ],
             [
              0.2222222222222222,
              "#7201a8"
             ],
             [
              0.3333333333333333,
              "#9c179e"
             ],
             [
              0.4444444444444444,
              "#bd3786"
             ],
             [
              0.5555555555555556,
              "#d8576b"
             ],
             [
              0.6666666666666666,
              "#ed7953"
             ],
             [
              0.7777777777777778,
              "#fb9f3a"
             ],
             [
              0.8888888888888888,
              "#fdca26"
             ],
             [
              1,
              "#f0f921"
             ]
            ],
            "type": "contour"
           }
          ],
          "contourcarpet": [
           {
            "colorbar": {
             "outlinewidth": 0,
             "ticks": ""
            },
            "type": "contourcarpet"
           }
          ],
          "heatmap": [
           {
            "colorbar": {
             "outlinewidth": 0,
             "ticks": ""
            },
            "colorscale": [
             [
              0,
              "#0d0887"
             ],
             [
              0.1111111111111111,
              "#46039f"
             ],
             [
              0.2222222222222222,
              "#7201a8"
             ],
             [
              0.3333333333333333,
              "#9c179e"
             ],
             [
              0.4444444444444444,
              "#bd3786"
             ],
             [
              0.5555555555555556,
              "#d8576b"
             ],
             [
              0.6666666666666666,
              "#ed7953"
             ],
             [
              0.7777777777777778,
              "#fb9f3a"
             ],
             [
              0.8888888888888888,
              "#fdca26"
             ],
             [
              1,
              "#f0f921"
             ]
            ],
            "type": "heatmap"
           }
          ],
          "heatmapgl": [
           {
            "colorbar": {
             "outlinewidth": 0,
             "ticks": ""
            },
            "colorscale": [
             [
              0,
              "#0d0887"
             ],
             [
              0.1111111111111111,
              "#46039f"
             ],
             [
              0.2222222222222222,
              "#7201a8"
             ],
             [
              0.3333333333333333,
              "#9c179e"
             ],
             [
              0.4444444444444444,
              "#bd3786"
             ],
             [
              0.5555555555555556,
              "#d8576b"
             ],
             [
              0.6666666666666666,
              "#ed7953"
             ],
             [
              0.7777777777777778,
              "#fb9f3a"
             ],
             [
              0.8888888888888888,
              "#fdca26"
             ],
             [
              1,
              "#f0f921"
             ]
            ],
            "type": "heatmapgl"
           }
          ],
          "histogram": [
           {
            "marker": {
             "pattern": {
              "fillmode": "overlay",
              "size": 10,
              "solidity": 0.2
             }
            },
            "type": "histogram"
           }
          ],
          "histogram2d": [
           {
            "colorbar": {
             "outlinewidth": 0,
             "ticks": ""
            },
            "colorscale": [
             [
              0,
              "#0d0887"
             ],
             [
              0.1111111111111111,
              "#46039f"
             ],
             [
              0.2222222222222222,
              "#7201a8"
             ],
             [
              0.3333333333333333,
              "#9c179e"
             ],
             [
              0.4444444444444444,
              "#bd3786"
             ],
             [
              0.5555555555555556,
              "#d8576b"
             ],
             [
              0.6666666666666666,
              "#ed7953"
             ],
             [
              0.7777777777777778,
              "#fb9f3a"
             ],
             [
              0.8888888888888888,
              "#fdca26"
             ],
             [
              1,
              "#f0f921"
             ]
            ],
            "type": "histogram2d"
           }
          ],
          "histogram2dcontour": [
           {
            "colorbar": {
             "outlinewidth": 0,
             "ticks": ""
            },
            "colorscale": [
             [
              0,
              "#0d0887"
             ],
             [
              0.1111111111111111,
              "#46039f"
             ],
             [
              0.2222222222222222,
              "#7201a8"
             ],
             [
              0.3333333333333333,
              "#9c179e"
             ],
             [
              0.4444444444444444,
              "#bd3786"
             ],
             [
              0.5555555555555556,
              "#d8576b"
             ],
             [
              0.6666666666666666,
              "#ed7953"
             ],
             [
              0.7777777777777778,
              "#fb9f3a"
             ],
             [
              0.8888888888888888,
              "#fdca26"
             ],
             [
              1,
              "#f0f921"
             ]
            ],
            "type": "histogram2dcontour"
           }
          ],
          "mesh3d": [
           {
            "colorbar": {
             "outlinewidth": 0,
             "ticks": ""
            },
            "type": "mesh3d"
           }
          ],
          "parcoords": [
           {
            "line": {
             "colorbar": {
              "outlinewidth": 0,
              "ticks": ""
             }
            },
            "type": "parcoords"
           }
          ],
          "pie": [
           {
            "automargin": true,
            "type": "pie"
           }
          ],
          "scatter": [
           {
            "fillpattern": {
             "fillmode": "overlay",
             "size": 10,
             "solidity": 0.2
            },
            "type": "scatter"
           }
          ],
          "scatter3d": [
           {
            "line": {
             "colorbar": {
              "outlinewidth": 0,
              "ticks": ""
             }
            },
            "marker": {
             "colorbar": {
              "outlinewidth": 0,
              "ticks": ""
             }
            },
            "type": "scatter3d"
           }
          ],
          "scattercarpet": [
           {
            "marker": {
             "colorbar": {
              "outlinewidth": 0,
              "ticks": ""
             }
            },
            "type": "scattercarpet"
           }
          ],
          "scattergeo": [
           {
            "marker": {
             "colorbar": {
              "outlinewidth": 0,
              "ticks": ""
             }
            },
            "type": "scattergeo"
           }
          ],
          "scattergl": [
           {
            "marker": {
             "colorbar": {
              "outlinewidth": 0,
              "ticks": ""
             }
            },
            "type": "scattergl"
           }
          ],
          "scattermapbox": [
           {
            "marker": {
             "colorbar": {
              "outlinewidth": 0,
              "ticks": ""
             }
            },
            "type": "scattermapbox"
           }
          ],
          "scatterpolar": [
           {
            "marker": {
             "colorbar": {
              "outlinewidth": 0,
              "ticks": ""
             }
            },
            "type": "scatterpolar"
           }
          ],
          "scatterpolargl": [
           {
            "marker": {
             "colorbar": {
              "outlinewidth": 0,
              "ticks": ""
             }
            },
            "type": "scatterpolargl"
           }
          ],
          "scatterternary": [
           {
            "marker": {
             "colorbar": {
              "outlinewidth": 0,
              "ticks": ""
             }
            },
            "type": "scatterternary"
           }
          ],
          "surface": [
           {
            "colorbar": {
             "outlinewidth": 0,
             "ticks": ""
            },
            "colorscale": [
             [
              0,
              "#0d0887"
             ],
             [
              0.1111111111111111,
              "#46039f"
             ],
             [
              0.2222222222222222,
              "#7201a8"
             ],
             [
              0.3333333333333333,
              "#9c179e"
             ],
             [
              0.4444444444444444,
              "#bd3786"
             ],
             [
              0.5555555555555556,
              "#d8576b"
             ],
             [
              0.6666666666666666,
              "#ed7953"
             ],
             [
              0.7777777777777778,
              "#fb9f3a"
             ],
             [
              0.8888888888888888,
              "#fdca26"
             ],
             [
              1,
              "#f0f921"
             ]
            ],
            "type": "surface"
           }
          ],
          "table": [
           {
            "cells": {
             "fill": {
              "color": "#EBF0F8"
             },
             "line": {
              "color": "white"
             }
            },
            "header": {
             "fill": {
              "color": "#C8D4E3"
             },
             "line": {
              "color": "white"
             }
            },
            "type": "table"
           }
          ]
         },
         "layout": {
          "annotationdefaults": {
           "arrowcolor": "#2a3f5f",
           "arrowhead": 0,
           "arrowwidth": 1
          },
          "autotypenumbers": "strict",
          "coloraxis": {
           "colorbar": {
            "outlinewidth": 0,
            "ticks": ""
           }
          },
          "colorscale": {
           "diverging": [
            [
             0,
             "#8e0152"
            ],
            [
             0.1,
             "#c51b7d"
            ],
            [
             0.2,
             "#de77ae"
            ],
            [
             0.3,
             "#f1b6da"
            ],
            [
             0.4,
             "#fde0ef"
            ],
            [
             0.5,
             "#f7f7f7"
            ],
            [
             0.6,
             "#e6f5d0"
            ],
            [
             0.7,
             "#b8e186"
            ],
            [
             0.8,
             "#7fbc41"
            ],
            [
             0.9,
             "#4d9221"
            ],
            [
             1,
             "#276419"
            ]
           ],
           "sequential": [
            [
             0,
             "#0d0887"
            ],
            [
             0.1111111111111111,
             "#46039f"
            ],
            [
             0.2222222222222222,
             "#7201a8"
            ],
            [
             0.3333333333333333,
             "#9c179e"
            ],
            [
             0.4444444444444444,
             "#bd3786"
            ],
            [
             0.5555555555555556,
             "#d8576b"
            ],
            [
             0.6666666666666666,
             "#ed7953"
            ],
            [
             0.7777777777777778,
             "#fb9f3a"
            ],
            [
             0.8888888888888888,
             "#fdca26"
            ],
            [
             1,
             "#f0f921"
            ]
           ],
           "sequentialminus": [
            [
             0,
             "#0d0887"
            ],
            [
             0.1111111111111111,
             "#46039f"
            ],
            [
             0.2222222222222222,
             "#7201a8"
            ],
            [
             0.3333333333333333,
             "#9c179e"
            ],
            [
             0.4444444444444444,
             "#bd3786"
            ],
            [
             0.5555555555555556,
             "#d8576b"
            ],
            [
             0.6666666666666666,
             "#ed7953"
            ],
            [
             0.7777777777777778,
             "#fb9f3a"
            ],
            [
             0.8888888888888888,
             "#fdca26"
            ],
            [
             1,
             "#f0f921"
            ]
           ]
          },
          "colorway": [
           "#636efa",
           "#EF553B",
           "#00cc96",
           "#ab63fa",
           "#FFA15A",
           "#19d3f3",
           "#FF6692",
           "#B6E880",
           "#FF97FF",
           "#FECB52"
          ],
          "font": {
           "color": "#2a3f5f"
          },
          "geo": {
           "bgcolor": "white",
           "lakecolor": "white",
           "landcolor": "#E5ECF6",
           "showlakes": true,
           "showland": true,
           "subunitcolor": "white"
          },
          "hoverlabel": {
           "align": "left"
          },
          "hovermode": "closest",
          "mapbox": {
           "style": "light"
          },
          "paper_bgcolor": "white",
          "plot_bgcolor": "#E5ECF6",
          "polar": {
           "angularaxis": {
            "gridcolor": "white",
            "linecolor": "white",
            "ticks": ""
           },
           "bgcolor": "#E5ECF6",
           "radialaxis": {
            "gridcolor": "white",
            "linecolor": "white",
            "ticks": ""
           }
          },
          "scene": {
           "xaxis": {
            "backgroundcolor": "#E5ECF6",
            "gridcolor": "white",
            "gridwidth": 2,
            "linecolor": "white",
            "showbackground": true,
            "ticks": "",
            "zerolinecolor": "white"
           },
           "yaxis": {
            "backgroundcolor": "#E5ECF6",
            "gridcolor": "white",
            "gridwidth": 2,
            "linecolor": "white",
            "showbackground": true,
            "ticks": "",
            "zerolinecolor": "white"
           },
           "zaxis": {
            "backgroundcolor": "#E5ECF6",
            "gridcolor": "white",
            "gridwidth": 2,
            "linecolor": "white",
            "showbackground": true,
            "ticks": "",
            "zerolinecolor": "white"
           }
          },
          "shapedefaults": {
           "line": {
            "color": "#2a3f5f"
           }
          },
          "ternary": {
           "aaxis": {
            "gridcolor": "white",
            "linecolor": "white",
            "ticks": ""
           },
           "baxis": {
            "gridcolor": "white",
            "linecolor": "white",
            "ticks": ""
           },
           "bgcolor": "#E5ECF6",
           "caxis": {
            "gridcolor": "white",
            "linecolor": "white",
            "ticks": ""
           }
          },
          "title": {
           "x": 0.05
          },
          "xaxis": {
           "automargin": true,
           "gridcolor": "white",
           "linecolor": "white",
           "ticks": "",
           "title": {
            "standoff": 15
           },
           "zerolinecolor": "white",
           "zerolinewidth": 2
          },
          "yaxis": {
           "automargin": true,
           "gridcolor": "white",
           "linecolor": "white",
           "ticks": "",
           "title": {
            "standoff": 15
           },
           "zerolinecolor": "white",
           "zerolinewidth": 2
          }
         }
        },
        "xaxis": {
         "anchor": "y",
         "domain": [
          0,
          1
         ]
        },
        "yaxis": {
         "anchor": "x",
         "autorange": "reversed",
         "domain": [
          0,
          1
         ]
        }
       }
      }
     },
     "metadata": {},
     "output_type": "display_data"
    },
    {
     "data": {
      "application/vnd.plotly.v1+json": {
       "config": {
        "plotlyServerURL": "https://plot.ly"
       },
       "data": [
        {
         "coloraxis": "coloraxis",
         "hovertemplate": "x: %{x}<br>y: %{y}<br>color: %{z}<extra></extra>",
         "name": "0",
         "text": [
          [
           "58",
           "35",
           "44",
           "32"
          ],
          [
           "9",
           "5",
           "11",
           "10"
          ],
          [
           "31",
           "58",
           "43",
           "56"
          ]
         ],
         "texttemplate": "%{text}",
         "type": "heatmap",
         "x": [
          "gpt-3.5-turbo-16k-0613",
          "gpt-4-0613",
          "gpt-4-1106-preview",
          "gpt-4-1106-preview-v1.1"
         ],
         "xaxis": "x",
         "y": [
          "Answer Faithfulness=1",
          "Answer Faithfulness=2",
          "Answer Faithfulness=3"
         ],
         "yaxis": "y",
         "z": [
          [
           58,
           35,
           44,
           32
          ],
          [
           9,
           5,
           11,
           10
          ],
          [
           31,
           58,
           43,
           56
          ]
         ]
        }
       ],
       "layout": {
        "coloraxis": {
         "colorscale": [
          [
           0,
           "#440154"
          ],
          [
           0.1111111111111111,
           "#482878"
          ],
          [
           0.2222222222222222,
           "#3e4989"
          ],
          [
           0.3333333333333333,
           "#31688e"
          ],
          [
           0.4444444444444444,
           "#26828e"
          ],
          [
           0.5555555555555556,
           "#1f9e89"
          ],
          [
           0.6666666666666666,
           "#35b779"
          ],
          [
           0.7777777777777778,
           "#6ece58"
          ],
          [
           0.8888888888888888,
           "#b5de2b"
          ],
          [
           1,
           "#fde725"
          ]
         ]
        },
        "margin": {
         "t": 60
        },
        "template": {
         "data": {
          "bar": [
           {
            "error_x": {
             "color": "#2a3f5f"
            },
            "error_y": {
             "color": "#2a3f5f"
            },
            "marker": {
             "line": {
              "color": "#E5ECF6",
              "width": 0.5
             },
             "pattern": {
              "fillmode": "overlay",
              "size": 10,
              "solidity": 0.2
             }
            },
            "type": "bar"
           }
          ],
          "barpolar": [
           {
            "marker": {
             "line": {
              "color": "#E5ECF6",
              "width": 0.5
             },
             "pattern": {
              "fillmode": "overlay",
              "size": 10,
              "solidity": 0.2
             }
            },
            "type": "barpolar"
           }
          ],
          "carpet": [
           {
            "aaxis": {
             "endlinecolor": "#2a3f5f",
             "gridcolor": "white",
             "linecolor": "white",
             "minorgridcolor": "white",
             "startlinecolor": "#2a3f5f"
            },
            "baxis": {
             "endlinecolor": "#2a3f5f",
             "gridcolor": "white",
             "linecolor": "white",
             "minorgridcolor": "white",
             "startlinecolor": "#2a3f5f"
            },
            "type": "carpet"
           }
          ],
          "choropleth": [
           {
            "colorbar": {
             "outlinewidth": 0,
             "ticks": ""
            },
            "type": "choropleth"
           }
          ],
          "contour": [
           {
            "colorbar": {
             "outlinewidth": 0,
             "ticks": ""
            },
            "colorscale": [
             [
              0,
              "#0d0887"
             ],
             [
              0.1111111111111111,
              "#46039f"
             ],
             [
              0.2222222222222222,
              "#7201a8"
             ],
             [
              0.3333333333333333,
              "#9c179e"
             ],
             [
              0.4444444444444444,
              "#bd3786"
             ],
             [
              0.5555555555555556,
              "#d8576b"
             ],
             [
              0.6666666666666666,
              "#ed7953"
             ],
             [
              0.7777777777777778,
              "#fb9f3a"
             ],
             [
              0.8888888888888888,
              "#fdca26"
             ],
             [
              1,
              "#f0f921"
             ]
            ],
            "type": "contour"
           }
          ],
          "contourcarpet": [
           {
            "colorbar": {
             "outlinewidth": 0,
             "ticks": ""
            },
            "type": "contourcarpet"
           }
          ],
          "heatmap": [
           {
            "colorbar": {
             "outlinewidth": 0,
             "ticks": ""
            },
            "colorscale": [
             [
              0,
              "#0d0887"
             ],
             [
              0.1111111111111111,
              "#46039f"
             ],
             [
              0.2222222222222222,
              "#7201a8"
             ],
             [
              0.3333333333333333,
              "#9c179e"
             ],
             [
              0.4444444444444444,
              "#bd3786"
             ],
             [
              0.5555555555555556,
              "#d8576b"
             ],
             [
              0.6666666666666666,
              "#ed7953"
             ],
             [
              0.7777777777777778,
              "#fb9f3a"
             ],
             [
              0.8888888888888888,
              "#fdca26"
             ],
             [
              1,
              "#f0f921"
             ]
            ],
            "type": "heatmap"
           }
          ],
          "heatmapgl": [
           {
            "colorbar": {
             "outlinewidth": 0,
             "ticks": ""
            },
            "colorscale": [
             [
              0,
              "#0d0887"
             ],
             [
              0.1111111111111111,
              "#46039f"
             ],
             [
              0.2222222222222222,
              "#7201a8"
             ],
             [
              0.3333333333333333,
              "#9c179e"
             ],
             [
              0.4444444444444444,
              "#bd3786"
             ],
             [
              0.5555555555555556,
              "#d8576b"
             ],
             [
              0.6666666666666666,
              "#ed7953"
             ],
             [
              0.7777777777777778,
              "#fb9f3a"
             ],
             [
              0.8888888888888888,
              "#fdca26"
             ],
             [
              1,
              "#f0f921"
             ]
            ],
            "type": "heatmapgl"
           }
          ],
          "histogram": [
           {
            "marker": {
             "pattern": {
              "fillmode": "overlay",
              "size": 10,
              "solidity": 0.2
             }
            },
            "type": "histogram"
           }
          ],
          "histogram2d": [
           {
            "colorbar": {
             "outlinewidth": 0,
             "ticks": ""
            },
            "colorscale": [
             [
              0,
              "#0d0887"
             ],
             [
              0.1111111111111111,
              "#46039f"
             ],
             [
              0.2222222222222222,
              "#7201a8"
             ],
             [
              0.3333333333333333,
              "#9c179e"
             ],
             [
              0.4444444444444444,
              "#bd3786"
             ],
             [
              0.5555555555555556,
              "#d8576b"
             ],
             [
              0.6666666666666666,
              "#ed7953"
             ],
             [
              0.7777777777777778,
              "#fb9f3a"
             ],
             [
              0.8888888888888888,
              "#fdca26"
             ],
             [
              1,
              "#f0f921"
             ]
            ],
            "type": "histogram2d"
           }
          ],
          "histogram2dcontour": [
           {
            "colorbar": {
             "outlinewidth": 0,
             "ticks": ""
            },
            "colorscale": [
             [
              0,
              "#0d0887"
             ],
             [
              0.1111111111111111,
              "#46039f"
             ],
             [
              0.2222222222222222,
              "#7201a8"
             ],
             [
              0.3333333333333333,
              "#9c179e"
             ],
             [
              0.4444444444444444,
              "#bd3786"
             ],
             [
              0.5555555555555556,
              "#d8576b"
             ],
             [
              0.6666666666666666,
              "#ed7953"
             ],
             [
              0.7777777777777778,
              "#fb9f3a"
             ],
             [
              0.8888888888888888,
              "#fdca26"
             ],
             [
              1,
              "#f0f921"
             ]
            ],
            "type": "histogram2dcontour"
           }
          ],
          "mesh3d": [
           {
            "colorbar": {
             "outlinewidth": 0,
             "ticks": ""
            },
            "type": "mesh3d"
           }
          ],
          "parcoords": [
           {
            "line": {
             "colorbar": {
              "outlinewidth": 0,
              "ticks": ""
             }
            },
            "type": "parcoords"
           }
          ],
          "pie": [
           {
            "automargin": true,
            "type": "pie"
           }
          ],
          "scatter": [
           {
            "fillpattern": {
             "fillmode": "overlay",
             "size": 10,
             "solidity": 0.2
            },
            "type": "scatter"
           }
          ],
          "scatter3d": [
           {
            "line": {
             "colorbar": {
              "outlinewidth": 0,
              "ticks": ""
             }
            },
            "marker": {
             "colorbar": {
              "outlinewidth": 0,
              "ticks": ""
             }
            },
            "type": "scatter3d"
           }
          ],
          "scattercarpet": [
           {
            "marker": {
             "colorbar": {
              "outlinewidth": 0,
              "ticks": ""
             }
            },
            "type": "scattercarpet"
           }
          ],
          "scattergeo": [
           {
            "marker": {
             "colorbar": {
              "outlinewidth": 0,
              "ticks": ""
             }
            },
            "type": "scattergeo"
           }
          ],
          "scattergl": [
           {
            "marker": {
             "colorbar": {
              "outlinewidth": 0,
              "ticks": ""
             }
            },
            "type": "scattergl"
           }
          ],
          "scattermapbox": [
           {
            "marker": {
             "colorbar": {
              "outlinewidth": 0,
              "ticks": ""
             }
            },
            "type": "scattermapbox"
           }
          ],
          "scatterpolar": [
           {
            "marker": {
             "colorbar": {
              "outlinewidth": 0,
              "ticks": ""
             }
            },
            "type": "scatterpolar"
           }
          ],
          "scatterpolargl": [
           {
            "marker": {
             "colorbar": {
              "outlinewidth": 0,
              "ticks": ""
             }
            },
            "type": "scatterpolargl"
           }
          ],
          "scatterternary": [
           {
            "marker": {
             "colorbar": {
              "outlinewidth": 0,
              "ticks": ""
             }
            },
            "type": "scatterternary"
           }
          ],
          "surface": [
           {
            "colorbar": {
             "outlinewidth": 0,
             "ticks": ""
            },
            "colorscale": [
             [
              0,
              "#0d0887"
             ],
             [
              0.1111111111111111,
              "#46039f"
             ],
             [
              0.2222222222222222,
              "#7201a8"
             ],
             [
              0.3333333333333333,
              "#9c179e"
             ],
             [
              0.4444444444444444,
              "#bd3786"
             ],
             [
              0.5555555555555556,
              "#d8576b"
             ],
             [
              0.6666666666666666,
              "#ed7953"
             ],
             [
              0.7777777777777778,
              "#fb9f3a"
             ],
             [
              0.8888888888888888,
              "#fdca26"
             ],
             [
              1,
              "#f0f921"
             ]
            ],
            "type": "surface"
           }
          ],
          "table": [
           {
            "cells": {
             "fill": {
              "color": "#EBF0F8"
             },
             "line": {
              "color": "white"
             }
            },
            "header": {
             "fill": {
              "color": "#C8D4E3"
             },
             "line": {
              "color": "white"
             }
            },
            "type": "table"
           }
          ]
         },
         "layout": {
          "annotationdefaults": {
           "arrowcolor": "#2a3f5f",
           "arrowhead": 0,
           "arrowwidth": 1
          },
          "autotypenumbers": "strict",
          "coloraxis": {
           "colorbar": {
            "outlinewidth": 0,
            "ticks": ""
           }
          },
          "colorscale": {
           "diverging": [
            [
             0,
             "#8e0152"
            ],
            [
             0.1,
             "#c51b7d"
            ],
            [
             0.2,
             "#de77ae"
            ],
            [
             0.3,
             "#f1b6da"
            ],
            [
             0.4,
             "#fde0ef"
            ],
            [
             0.5,
             "#f7f7f7"
            ],
            [
             0.6,
             "#e6f5d0"
            ],
            [
             0.7,
             "#b8e186"
            ],
            [
             0.8,
             "#7fbc41"
            ],
            [
             0.9,
             "#4d9221"
            ],
            [
             1,
             "#276419"
            ]
           ],
           "sequential": [
            [
             0,
             "#0d0887"
            ],
            [
             0.1111111111111111,
             "#46039f"
            ],
            [
             0.2222222222222222,
             "#7201a8"
            ],
            [
             0.3333333333333333,
             "#9c179e"
            ],
            [
             0.4444444444444444,
             "#bd3786"
            ],
            [
             0.5555555555555556,
             "#d8576b"
            ],
            [
             0.6666666666666666,
             "#ed7953"
            ],
            [
             0.7777777777777778,
             "#fb9f3a"
            ],
            [
             0.8888888888888888,
             "#fdca26"
            ],
            [
             1,
             "#f0f921"
            ]
           ],
           "sequentialminus": [
            [
             0,
             "#0d0887"
            ],
            [
             0.1111111111111111,
             "#46039f"
            ],
            [
             0.2222222222222222,
             "#7201a8"
            ],
            [
             0.3333333333333333,
             "#9c179e"
            ],
            [
             0.4444444444444444,
             "#bd3786"
            ],
            [
             0.5555555555555556,
             "#d8576b"
            ],
            [
             0.6666666666666666,
             "#ed7953"
            ],
            [
             0.7777777777777778,
             "#fb9f3a"
            ],
            [
             0.8888888888888888,
             "#fdca26"
            ],
            [
             1,
             "#f0f921"
            ]
           ]
          },
          "colorway": [
           "#636efa",
           "#EF553B",
           "#00cc96",
           "#ab63fa",
           "#FFA15A",
           "#19d3f3",
           "#FF6692",
           "#B6E880",
           "#FF97FF",
           "#FECB52"
          ],
          "font": {
           "color": "#2a3f5f"
          },
          "geo": {
           "bgcolor": "white",
           "lakecolor": "white",
           "landcolor": "#E5ECF6",
           "showlakes": true,
           "showland": true,
           "subunitcolor": "white"
          },
          "hoverlabel": {
           "align": "left"
          },
          "hovermode": "closest",
          "mapbox": {
           "style": "light"
          },
          "paper_bgcolor": "white",
          "plot_bgcolor": "#E5ECF6",
          "polar": {
           "angularaxis": {
            "gridcolor": "white",
            "linecolor": "white",
            "ticks": ""
           },
           "bgcolor": "#E5ECF6",
           "radialaxis": {
            "gridcolor": "white",
            "linecolor": "white",
            "ticks": ""
           }
          },
          "scene": {
           "xaxis": {
            "backgroundcolor": "#E5ECF6",
            "gridcolor": "white",
            "gridwidth": 2,
            "linecolor": "white",
            "showbackground": true,
            "ticks": "",
            "zerolinecolor": "white"
           },
           "yaxis": {
            "backgroundcolor": "#E5ECF6",
            "gridcolor": "white",
            "gridwidth": 2,
            "linecolor": "white",
            "showbackground": true,
            "ticks": "",
            "zerolinecolor": "white"
           },
           "zaxis": {
            "backgroundcolor": "#E5ECF6",
            "gridcolor": "white",
            "gridwidth": 2,
            "linecolor": "white",
            "showbackground": true,
            "ticks": "",
            "zerolinecolor": "white"
           }
          },
          "shapedefaults": {
           "line": {
            "color": "#2a3f5f"
           }
          },
          "ternary": {
           "aaxis": {
            "gridcolor": "white",
            "linecolor": "white",
            "ticks": ""
           },
           "baxis": {
            "gridcolor": "white",
            "linecolor": "white",
            "ticks": ""
           },
           "bgcolor": "#E5ECF6",
           "caxis": {
            "gridcolor": "white",
            "linecolor": "white",
            "ticks": ""
           }
          },
          "title": {
           "x": 0.05
          },
          "xaxis": {
           "automargin": true,
           "gridcolor": "white",
           "linecolor": "white",
           "ticks": "",
           "title": {
            "standoff": 15
           },
           "zerolinecolor": "white",
           "zerolinewidth": 2
          },
          "yaxis": {
           "automargin": true,
           "gridcolor": "white",
           "linecolor": "white",
           "ticks": "",
           "title": {
            "standoff": 15
           },
           "zerolinecolor": "white",
           "zerolinewidth": 2
          }
         }
        },
        "xaxis": {
         "anchor": "y",
         "domain": [
          0,
          1
         ]
        },
        "yaxis": {
         "anchor": "x",
         "autorange": "reversed",
         "domain": [
          0,
          1
         ]
        }
       }
      }
     },
     "metadata": {},
     "output_type": "display_data"
    },
    {
     "data": {
      "application/vnd.plotly.v1+json": {
       "config": {
        "plotlyServerURL": "https://plot.ly"
       },
       "data": [
        {
         "coloraxis": "coloraxis",
         "hovertemplate": "x: %{x}<br>y: %{y}<br>color: %{z}<extra></extra>",
         "name": "0",
         "text": [
          [
           "10",
           "6",
           "0",
           "0"
          ],
          [
           "49",
           "59",
           "9",
           "17"
          ],
          [
           "39",
           "33",
           "89",
           "81"
          ]
         ],
         "texttemplate": "%{text}",
         "type": "heatmap",
         "x": [
          "gpt-3.5-turbo-16k-0613",
          "gpt-4-0613",
          "gpt-4-1106-preview",
          "gpt-4-1106-preview-v1.1"
         ],
         "xaxis": "x",
         "y": [
          "Answer Relevancy=1",
          "Answer Relevancy=2",
          "Answer Relevancy=3"
         ],
         "yaxis": "y",
         "z": [
          [
           10,
           6,
           0,
           0
          ],
          [
           49,
           59,
           9,
           17
          ],
          [
           39,
           33,
           89,
           81
          ]
         ]
        }
       ],
       "layout": {
        "coloraxis": {
         "colorscale": [
          [
           0,
           "#440154"
          ],
          [
           0.1111111111111111,
           "#482878"
          ],
          [
           0.2222222222222222,
           "#3e4989"
          ],
          [
           0.3333333333333333,
           "#31688e"
          ],
          [
           0.4444444444444444,
           "#26828e"
          ],
          [
           0.5555555555555556,
           "#1f9e89"
          ],
          [
           0.6666666666666666,
           "#35b779"
          ],
          [
           0.7777777777777778,
           "#6ece58"
          ],
          [
           0.8888888888888888,
           "#b5de2b"
          ],
          [
           1,
           "#fde725"
          ]
         ]
        },
        "margin": {
         "t": 60
        },
        "template": {
         "data": {
          "bar": [
           {
            "error_x": {
             "color": "#2a3f5f"
            },
            "error_y": {
             "color": "#2a3f5f"
            },
            "marker": {
             "line": {
              "color": "#E5ECF6",
              "width": 0.5
             },
             "pattern": {
              "fillmode": "overlay",
              "size": 10,
              "solidity": 0.2
             }
            },
            "type": "bar"
           }
          ],
          "barpolar": [
           {
            "marker": {
             "line": {
              "color": "#E5ECF6",
              "width": 0.5
             },
             "pattern": {
              "fillmode": "overlay",
              "size": 10,
              "solidity": 0.2
             }
            },
            "type": "barpolar"
           }
          ],
          "carpet": [
           {
            "aaxis": {
             "endlinecolor": "#2a3f5f",
             "gridcolor": "white",
             "linecolor": "white",
             "minorgridcolor": "white",
             "startlinecolor": "#2a3f5f"
            },
            "baxis": {
             "endlinecolor": "#2a3f5f",
             "gridcolor": "white",
             "linecolor": "white",
             "minorgridcolor": "white",
             "startlinecolor": "#2a3f5f"
            },
            "type": "carpet"
           }
          ],
          "choropleth": [
           {
            "colorbar": {
             "outlinewidth": 0,
             "ticks": ""
            },
            "type": "choropleth"
           }
          ],
          "contour": [
           {
            "colorbar": {
             "outlinewidth": 0,
             "ticks": ""
            },
            "colorscale": [
             [
              0,
              "#0d0887"
             ],
             [
              0.1111111111111111,
              "#46039f"
             ],
             [
              0.2222222222222222,
              "#7201a8"
             ],
             [
              0.3333333333333333,
              "#9c179e"
             ],
             [
              0.4444444444444444,
              "#bd3786"
             ],
             [
              0.5555555555555556,
              "#d8576b"
             ],
             [
              0.6666666666666666,
              "#ed7953"
             ],
             [
              0.7777777777777778,
              "#fb9f3a"
             ],
             [
              0.8888888888888888,
              "#fdca26"
             ],
             [
              1,
              "#f0f921"
             ]
            ],
            "type": "contour"
           }
          ],
          "contourcarpet": [
           {
            "colorbar": {
             "outlinewidth": 0,
             "ticks": ""
            },
            "type": "contourcarpet"
           }
          ],
          "heatmap": [
           {
            "colorbar": {
             "outlinewidth": 0,
             "ticks": ""
            },
            "colorscale": [
             [
              0,
              "#0d0887"
             ],
             [
              0.1111111111111111,
              "#46039f"
             ],
             [
              0.2222222222222222,
              "#7201a8"
             ],
             [
              0.3333333333333333,
              "#9c179e"
             ],
             [
              0.4444444444444444,
              "#bd3786"
             ],
             [
              0.5555555555555556,
              "#d8576b"
             ],
             [
              0.6666666666666666,
              "#ed7953"
             ],
             [
              0.7777777777777778,
              "#fb9f3a"
             ],
             [
              0.8888888888888888,
              "#fdca26"
             ],
             [
              1,
              "#f0f921"
             ]
            ],
            "type": "heatmap"
           }
          ],
          "heatmapgl": [
           {
            "colorbar": {
             "outlinewidth": 0,
             "ticks": ""
            },
            "colorscale": [
             [
              0,
              "#0d0887"
             ],
             [
              0.1111111111111111,
              "#46039f"
             ],
             [
              0.2222222222222222,
              "#7201a8"
             ],
             [
              0.3333333333333333,
              "#9c179e"
             ],
             [
              0.4444444444444444,
              "#bd3786"
             ],
             [
              0.5555555555555556,
              "#d8576b"
             ],
             [
              0.6666666666666666,
              "#ed7953"
             ],
             [
              0.7777777777777778,
              "#fb9f3a"
             ],
             [
              0.8888888888888888,
              "#fdca26"
             ],
             [
              1,
              "#f0f921"
             ]
            ],
            "type": "heatmapgl"
           }
          ],
          "histogram": [
           {
            "marker": {
             "pattern": {
              "fillmode": "overlay",
              "size": 10,
              "solidity": 0.2
             }
            },
            "type": "histogram"
           }
          ],
          "histogram2d": [
           {
            "colorbar": {
             "outlinewidth": 0,
             "ticks": ""
            },
            "colorscale": [
             [
              0,
              "#0d0887"
             ],
             [
              0.1111111111111111,
              "#46039f"
             ],
             [
              0.2222222222222222,
              "#7201a8"
             ],
             [
              0.3333333333333333,
              "#9c179e"
             ],
             [
              0.4444444444444444,
              "#bd3786"
             ],
             [
              0.5555555555555556,
              "#d8576b"
             ],
             [
              0.6666666666666666,
              "#ed7953"
             ],
             [
              0.7777777777777778,
              "#fb9f3a"
             ],
             [
              0.8888888888888888,
              "#fdca26"
             ],
             [
              1,
              "#f0f921"
             ]
            ],
            "type": "histogram2d"
           }
          ],
          "histogram2dcontour": [
           {
            "colorbar": {
             "outlinewidth": 0,
             "ticks": ""
            },
            "colorscale": [
             [
              0,
              "#0d0887"
             ],
             [
              0.1111111111111111,
              "#46039f"
             ],
             [
              0.2222222222222222,
              "#7201a8"
             ],
             [
              0.3333333333333333,
              "#9c179e"
             ],
             [
              0.4444444444444444,
              "#bd3786"
             ],
             [
              0.5555555555555556,
              "#d8576b"
             ],
             [
              0.6666666666666666,
              "#ed7953"
             ],
             [
              0.7777777777777778,
              "#fb9f3a"
             ],
             [
              0.8888888888888888,
              "#fdca26"
             ],
             [
              1,
              "#f0f921"
             ]
            ],
            "type": "histogram2dcontour"
           }
          ],
          "mesh3d": [
           {
            "colorbar": {
             "outlinewidth": 0,
             "ticks": ""
            },
            "type": "mesh3d"
           }
          ],
          "parcoords": [
           {
            "line": {
             "colorbar": {
              "outlinewidth": 0,
              "ticks": ""
             }
            },
            "type": "parcoords"
           }
          ],
          "pie": [
           {
            "automargin": true,
            "type": "pie"
           }
          ],
          "scatter": [
           {
            "fillpattern": {
             "fillmode": "overlay",
             "size": 10,
             "solidity": 0.2
            },
            "type": "scatter"
           }
          ],
          "scatter3d": [
           {
            "line": {
             "colorbar": {
              "outlinewidth": 0,
              "ticks": ""
             }
            },
            "marker": {
             "colorbar": {
              "outlinewidth": 0,
              "ticks": ""
             }
            },
            "type": "scatter3d"
           }
          ],
          "scattercarpet": [
           {
            "marker": {
             "colorbar": {
              "outlinewidth": 0,
              "ticks": ""
             }
            },
            "type": "scattercarpet"
           }
          ],
          "scattergeo": [
           {
            "marker": {
             "colorbar": {
              "outlinewidth": 0,
              "ticks": ""
             }
            },
            "type": "scattergeo"
           }
          ],
          "scattergl": [
           {
            "marker": {
             "colorbar": {
              "outlinewidth": 0,
              "ticks": ""
             }
            },
            "type": "scattergl"
           }
          ],
          "scattermapbox": [
           {
            "marker": {
             "colorbar": {
              "outlinewidth": 0,
              "ticks": ""
             }
            },
            "type": "scattermapbox"
           }
          ],
          "scatterpolar": [
           {
            "marker": {
             "colorbar": {
              "outlinewidth": 0,
              "ticks": ""
             }
            },
            "type": "scatterpolar"
           }
          ],
          "scatterpolargl": [
           {
            "marker": {
             "colorbar": {
              "outlinewidth": 0,
              "ticks": ""
             }
            },
            "type": "scatterpolargl"
           }
          ],
          "scatterternary": [
           {
            "marker": {
             "colorbar": {
              "outlinewidth": 0,
              "ticks": ""
             }
            },
            "type": "scatterternary"
           }
          ],
          "surface": [
           {
            "colorbar": {
             "outlinewidth": 0,
             "ticks": ""
            },
            "colorscale": [
             [
              0,
              "#0d0887"
             ],
             [
              0.1111111111111111,
              "#46039f"
             ],
             [
              0.2222222222222222,
              "#7201a8"
             ],
             [
              0.3333333333333333,
              "#9c179e"
             ],
             [
              0.4444444444444444,
              "#bd3786"
             ],
             [
              0.5555555555555556,
              "#d8576b"
             ],
             [
              0.6666666666666666,
              "#ed7953"
             ],
             [
              0.7777777777777778,
              "#fb9f3a"
             ],
             [
              0.8888888888888888,
              "#fdca26"
             ],
             [
              1,
              "#f0f921"
             ]
            ],
            "type": "surface"
           }
          ],
          "table": [
           {
            "cells": {
             "fill": {
              "color": "#EBF0F8"
             },
             "line": {
              "color": "white"
             }
            },
            "header": {
             "fill": {
              "color": "#C8D4E3"
             },
             "line": {
              "color": "white"
             }
            },
            "type": "table"
           }
          ]
         },
         "layout": {
          "annotationdefaults": {
           "arrowcolor": "#2a3f5f",
           "arrowhead": 0,
           "arrowwidth": 1
          },
          "autotypenumbers": "strict",
          "coloraxis": {
           "colorbar": {
            "outlinewidth": 0,
            "ticks": ""
           }
          },
          "colorscale": {
           "diverging": [
            [
             0,
             "#8e0152"
            ],
            [
             0.1,
             "#c51b7d"
            ],
            [
             0.2,
             "#de77ae"
            ],
            [
             0.3,
             "#f1b6da"
            ],
            [
             0.4,
             "#fde0ef"
            ],
            [
             0.5,
             "#f7f7f7"
            ],
            [
             0.6,
             "#e6f5d0"
            ],
            [
             0.7,
             "#b8e186"
            ],
            [
             0.8,
             "#7fbc41"
            ],
            [
             0.9,
             "#4d9221"
            ],
            [
             1,
             "#276419"
            ]
           ],
           "sequential": [
            [
             0,
             "#0d0887"
            ],
            [
             0.1111111111111111,
             "#46039f"
            ],
            [
             0.2222222222222222,
             "#7201a8"
            ],
            [
             0.3333333333333333,
             "#9c179e"
            ],
            [
             0.4444444444444444,
             "#bd3786"
            ],
            [
             0.5555555555555556,
             "#d8576b"
            ],
            [
             0.6666666666666666,
             "#ed7953"
            ],
            [
             0.7777777777777778,
             "#fb9f3a"
            ],
            [
             0.8888888888888888,
             "#fdca26"
            ],
            [
             1,
             "#f0f921"
            ]
           ],
           "sequentialminus": [
            [
             0,
             "#0d0887"
            ],
            [
             0.1111111111111111,
             "#46039f"
            ],
            [
             0.2222222222222222,
             "#7201a8"
            ],
            [
             0.3333333333333333,
             "#9c179e"
            ],
            [
             0.4444444444444444,
             "#bd3786"
            ],
            [
             0.5555555555555556,
             "#d8576b"
            ],
            [
             0.6666666666666666,
             "#ed7953"
            ],
            [
             0.7777777777777778,
             "#fb9f3a"
            ],
            [
             0.8888888888888888,
             "#fdca26"
            ],
            [
             1,
             "#f0f921"
            ]
           ]
          },
          "colorway": [
           "#636efa",
           "#EF553B",
           "#00cc96",
           "#ab63fa",
           "#FFA15A",
           "#19d3f3",
           "#FF6692",
           "#B6E880",
           "#FF97FF",
           "#FECB52"
          ],
          "font": {
           "color": "#2a3f5f"
          },
          "geo": {
           "bgcolor": "white",
           "lakecolor": "white",
           "landcolor": "#E5ECF6",
           "showlakes": true,
           "showland": true,
           "subunitcolor": "white"
          },
          "hoverlabel": {
           "align": "left"
          },
          "hovermode": "closest",
          "mapbox": {
           "style": "light"
          },
          "paper_bgcolor": "white",
          "plot_bgcolor": "#E5ECF6",
          "polar": {
           "angularaxis": {
            "gridcolor": "white",
            "linecolor": "white",
            "ticks": ""
           },
           "bgcolor": "#E5ECF6",
           "radialaxis": {
            "gridcolor": "white",
            "linecolor": "white",
            "ticks": ""
           }
          },
          "scene": {
           "xaxis": {
            "backgroundcolor": "#E5ECF6",
            "gridcolor": "white",
            "gridwidth": 2,
            "linecolor": "white",
            "showbackground": true,
            "ticks": "",
            "zerolinecolor": "white"
           },
           "yaxis": {
            "backgroundcolor": "#E5ECF6",
            "gridcolor": "white",
            "gridwidth": 2,
            "linecolor": "white",
            "showbackground": true,
            "ticks": "",
            "zerolinecolor": "white"
           },
           "zaxis": {
            "backgroundcolor": "#E5ECF6",
            "gridcolor": "white",
            "gridwidth": 2,
            "linecolor": "white",
            "showbackground": true,
            "ticks": "",
            "zerolinecolor": "white"
           }
          },
          "shapedefaults": {
           "line": {
            "color": "#2a3f5f"
           }
          },
          "ternary": {
           "aaxis": {
            "gridcolor": "white",
            "linecolor": "white",
            "ticks": ""
           },
           "baxis": {
            "gridcolor": "white",
            "linecolor": "white",
            "ticks": ""
           },
           "bgcolor": "#E5ECF6",
           "caxis": {
            "gridcolor": "white",
            "linecolor": "white",
            "ticks": ""
           }
          },
          "title": {
           "x": 0.05
          },
          "xaxis": {
           "automargin": true,
           "gridcolor": "white",
           "linecolor": "white",
           "ticks": "",
           "title": {
            "standoff": 15
           },
           "zerolinecolor": "white",
           "zerolinewidth": 2
          },
          "yaxis": {
           "automargin": true,
           "gridcolor": "white",
           "linecolor": "white",
           "ticks": "",
           "title": {
            "standoff": 15
           },
           "zerolinecolor": "white",
           "zerolinewidth": 2
          }
         }
        },
        "xaxis": {
         "anchor": "y",
         "domain": [
          0,
          1
         ]
        },
        "yaxis": {
         "anchor": "x",
         "autorange": "reversed",
         "domain": [
          0,
          1
         ]
        }
       }
      }
     },
     "metadata": {},
     "output_type": "display_data"
    }
   ],
   "source": [
    "categorical_metrics = [\n",
    "    \"answer_correctness_score\",\n",
    "    \"answer_faithfulness_score\",\n",
    "    \"answer_relevancy_score\",\n",
    "]\n",
    "\n",
    "for metric_col in categorical_metrics:\n",
    "    plot_categorical_metric_heatmaps(dfs, table_names, metric_col)"
   ]
  },
  {
   "cell_type": "code",
   "execution_count": 9,
   "metadata": {},
   "outputs": [],
   "source": [
    "def plot_categorical_metrics(dfs, table_names, metric_cols, metric_prefix=\"\"):\n",
    "    for metric in metric_cols:\n",
    "        metrics_df = table_metrics(dfs, table_names, [metric])\n",
    "\n",
    "        fig = px.histogram(\n",
    "            metrics_df,\n",
    "            x=\"score\",\n",
    "            color=\"model\",\n",
    "            nbins=3,\n",
    "            barmode=\"group\",\n",
    "        )\n",
    "        metric_name = metrics_df.iloc[0][\"metric\"]\n",
    "        # fig.update_layout(title_text=metric_name, title_x=0.5)\n",
    "        score_plot = wandb.Plotly(fig)\n",
    "        run.log({f\"{metric_name} Histogram\": score_plot})\n",
    "        fig.show()"
   ]
  },
  {
   "cell_type": "code",
   "execution_count": 10,
   "metadata": {},
   "outputs": [
    {
     "data": {
      "application/vnd.plotly.v1+json": {
       "config": {
        "plotlyServerURL": "https://plot.ly"
       },
       "data": [
        {
         "alignmentgroup": "True",
         "bingroup": "x",
         "hovertemplate": "model=gpt-4-0613<br>score=%{x}<br>count=%{y}<extra></extra>",
         "legendgroup": "gpt-4-0613",
         "marker": {
          "color": "#636efa",
          "pattern": {
           "shape": ""
          }
         },
         "name": "gpt-4-0613",
         "nbinsx": 3,
         "offsetgroup": "gpt-4-0613",
         "orientation": "v",
         "showlegend": true,
         "type": "histogram",
         "x": [
          1,
          3,
          2,
          2,
          3,
          3,
          1,
          2,
          1,
          2,
          3,
          1,
          2,
          2,
          1,
          1,
          3,
          2,
          1,
          3,
          1,
          3,
          2,
          2,
          2,
          2,
          2,
          1,
          2,
          3,
          3,
          3,
          3,
          2,
          2,
          2,
          2,
          1,
          3,
          2,
          2,
          3,
          1,
          2,
          3,
          1,
          2,
          2,
          2,
          2,
          3,
          2,
          2,
          2,
          2,
          2,
          3,
          2,
          2,
          1,
          2,
          3,
          2,
          1,
          2,
          3,
          2,
          2,
          2,
          2,
          3,
          3,
          2,
          3,
          2,
          2,
          1,
          2,
          2,
          2,
          1,
          2,
          2,
          2,
          3,
          1,
          3,
          2,
          1,
          2,
          2,
          3,
          3,
          3,
          2,
          3,
          3,
          3
         ],
         "xaxis": "x",
         "yaxis": "y"
        },
        {
         "alignmentgroup": "True",
         "bingroup": "x",
         "hovertemplate": "model=gpt-3.5-turbo-16k-0613<br>score=%{x}<br>count=%{y}<extra></extra>",
         "legendgroup": "gpt-3.5-turbo-16k-0613",
         "marker": {
          "color": "#EF553B",
          "pattern": {
           "shape": ""
          }
         },
         "name": "gpt-3.5-turbo-16k-0613",
         "nbinsx": 3,
         "offsetgroup": "gpt-3.5-turbo-16k-0613",
         "orientation": "v",
         "showlegend": true,
         "type": "histogram",
         "x": [
          3,
          2,
          2,
          2,
          3,
          2,
          2,
          2,
          1,
          2,
          1,
          1,
          2,
          1,
          2,
          2,
          2,
          1,
          1,
          1,
          1,
          3,
          1,
          2,
          2,
          1,
          2,
          1,
          1,
          3,
          1,
          3,
          2,
          1,
          1,
          1,
          2,
          2,
          1,
          2,
          3,
          3,
          1,
          1,
          3,
          1,
          2,
          2,
          1,
          1,
          3,
          3,
          2,
          3,
          3,
          3,
          1,
          3,
          2,
          3,
          2,
          2,
          3,
          2,
          2,
          3,
          2,
          1,
          3,
          1,
          3,
          3,
          2,
          2,
          1,
          1,
          1,
          2,
          2,
          2,
          3,
          1,
          1,
          1,
          3,
          1,
          1,
          2,
          3,
          2,
          2,
          1,
          1,
          1,
          2,
          2,
          3,
          2
         ],
         "xaxis": "x",
         "yaxis": "y"
        },
        {
         "alignmentgroup": "True",
         "bingroup": "x",
         "hovertemplate": "model=gpt-4-1106-preview<br>score=%{x}<br>count=%{y}<extra></extra>",
         "legendgroup": "gpt-4-1106-preview",
         "marker": {
          "color": "#00cc96",
          "pattern": {
           "shape": ""
          }
         },
         "name": "gpt-4-1106-preview",
         "nbinsx": 3,
         "offsetgroup": "gpt-4-1106-preview",
         "orientation": "v",
         "showlegend": true,
         "type": "histogram",
         "x": [
          2,
          3,
          3,
          3,
          3,
          3,
          3,
          2,
          3,
          2,
          3,
          3,
          2,
          3,
          1,
          3,
          3,
          3,
          2,
          2,
          3,
          3,
          3,
          3,
          2,
          3,
          3,
          3,
          3,
          3,
          2,
          3,
          3,
          2,
          2,
          2,
          2,
          3,
          3,
          2,
          3,
          3,
          1,
          2,
          2,
          2,
          2,
          3,
          2,
          3,
          3,
          3,
          2,
          3,
          3,
          3,
          3,
          3,
          3,
          3,
          3,
          3,
          3,
          2,
          3,
          2,
          2,
          2,
          2,
          3,
          3,
          3,
          1,
          3,
          3,
          3,
          1,
          1,
          3,
          3,
          3,
          3,
          2,
          2,
          3,
          1,
          3,
          3,
          3,
          3,
          3,
          3,
          2,
          3,
          3,
          2,
          3,
          3
         ],
         "xaxis": "x",
         "yaxis": "y"
        },
        {
         "alignmentgroup": "True",
         "bingroup": "x",
         "hovertemplate": "model=gpt-4-1106-preview-v1.1<br>score=%{x}<br>count=%{y}<extra></extra>",
         "legendgroup": "gpt-4-1106-preview-v1.1",
         "marker": {
          "color": "#ab63fa",
          "pattern": {
           "shape": ""
          }
         },
         "name": "gpt-4-1106-preview-v1.1",
         "nbinsx": 3,
         "offsetgroup": "gpt-4-1106-preview-v1.1",
         "orientation": "v",
         "showlegend": true,
         "type": "histogram",
         "x": [
          2,
          3,
          3,
          3,
          3,
          3,
          2,
          2,
          3,
          2,
          3,
          1,
          2,
          3,
          1,
          3,
          3,
          3,
          3,
          3,
          1,
          3,
          3,
          3,
          2,
          3,
          3,
          3,
          1,
          3,
          3,
          2,
          3,
          2,
          3,
          3,
          2,
          3,
          3,
          3,
          3,
          3,
          1,
          2,
          3,
          2,
          3,
          3,
          3,
          3,
          3,
          3,
          3,
          3,
          3,
          3,
          3,
          3,
          2,
          3,
          3,
          3,
          2,
          3,
          2,
          3,
          3,
          2,
          2,
          3,
          3,
          3,
          3,
          3,
          3,
          2,
          1,
          3,
          3,
          3,
          2,
          3,
          3,
          2,
          3,
          1,
          3,
          3,
          3,
          3,
          2,
          3,
          3,
          3,
          2,
          2,
          3,
          3
         ],
         "xaxis": "x",
         "yaxis": "y"
        }
       ],
       "layout": {
        "barmode": "group",
        "legend": {
         "title": {
          "text": "model"
         },
         "tracegroupgap": 0
        },
        "margin": {
         "t": 60
        },
        "template": {
         "data": {
          "bar": [
           {
            "error_x": {
             "color": "#2a3f5f"
            },
            "error_y": {
             "color": "#2a3f5f"
            },
            "marker": {
             "line": {
              "color": "#E5ECF6",
              "width": 0.5
             },
             "pattern": {
              "fillmode": "overlay",
              "size": 10,
              "solidity": 0.2
             }
            },
            "type": "bar"
           }
          ],
          "barpolar": [
           {
            "marker": {
             "line": {
              "color": "#E5ECF6",
              "width": 0.5
             },
             "pattern": {
              "fillmode": "overlay",
              "size": 10,
              "solidity": 0.2
             }
            },
            "type": "barpolar"
           }
          ],
          "carpet": [
           {
            "aaxis": {
             "endlinecolor": "#2a3f5f",
             "gridcolor": "white",
             "linecolor": "white",
             "minorgridcolor": "white",
             "startlinecolor": "#2a3f5f"
            },
            "baxis": {
             "endlinecolor": "#2a3f5f",
             "gridcolor": "white",
             "linecolor": "white",
             "minorgridcolor": "white",
             "startlinecolor": "#2a3f5f"
            },
            "type": "carpet"
           }
          ],
          "choropleth": [
           {
            "colorbar": {
             "outlinewidth": 0,
             "ticks": ""
            },
            "type": "choropleth"
           }
          ],
          "contour": [
           {
            "colorbar": {
             "outlinewidth": 0,
             "ticks": ""
            },
            "colorscale": [
             [
              0,
              "#0d0887"
             ],
             [
              0.1111111111111111,
              "#46039f"
             ],
             [
              0.2222222222222222,
              "#7201a8"
             ],
             [
              0.3333333333333333,
              "#9c179e"
             ],
             [
              0.4444444444444444,
              "#bd3786"
             ],
             [
              0.5555555555555556,
              "#d8576b"
             ],
             [
              0.6666666666666666,
              "#ed7953"
             ],
             [
              0.7777777777777778,
              "#fb9f3a"
             ],
             [
              0.8888888888888888,
              "#fdca26"
             ],
             [
              1,
              "#f0f921"
             ]
            ],
            "type": "contour"
           }
          ],
          "contourcarpet": [
           {
            "colorbar": {
             "outlinewidth": 0,
             "ticks": ""
            },
            "type": "contourcarpet"
           }
          ],
          "heatmap": [
           {
            "colorbar": {
             "outlinewidth": 0,
             "ticks": ""
            },
            "colorscale": [
             [
              0,
              "#0d0887"
             ],
             [
              0.1111111111111111,
              "#46039f"
             ],
             [
              0.2222222222222222,
              "#7201a8"
             ],
             [
              0.3333333333333333,
              "#9c179e"
             ],
             [
              0.4444444444444444,
              "#bd3786"
             ],
             [
              0.5555555555555556,
              "#d8576b"
             ],
             [
              0.6666666666666666,
              "#ed7953"
             ],
             [
              0.7777777777777778,
              "#fb9f3a"
             ],
             [
              0.8888888888888888,
              "#fdca26"
             ],
             [
              1,
              "#f0f921"
             ]
            ],
            "type": "heatmap"
           }
          ],
          "heatmapgl": [
           {
            "colorbar": {
             "outlinewidth": 0,
             "ticks": ""
            },
            "colorscale": [
             [
              0,
              "#0d0887"
             ],
             [
              0.1111111111111111,
              "#46039f"
             ],
             [
              0.2222222222222222,
              "#7201a8"
             ],
             [
              0.3333333333333333,
              "#9c179e"
             ],
             [
              0.4444444444444444,
              "#bd3786"
             ],
             [
              0.5555555555555556,
              "#d8576b"
             ],
             [
              0.6666666666666666,
              "#ed7953"
             ],
             [
              0.7777777777777778,
              "#fb9f3a"
             ],
             [
              0.8888888888888888,
              "#fdca26"
             ],
             [
              1,
              "#f0f921"
             ]
            ],
            "type": "heatmapgl"
           }
          ],
          "histogram": [
           {
            "marker": {
             "pattern": {
              "fillmode": "overlay",
              "size": 10,
              "solidity": 0.2
             }
            },
            "type": "histogram"
           }
          ],
          "histogram2d": [
           {
            "colorbar": {
             "outlinewidth": 0,
             "ticks": ""
            },
            "colorscale": [
             [
              0,
              "#0d0887"
             ],
             [
              0.1111111111111111,
              "#46039f"
             ],
             [
              0.2222222222222222,
              "#7201a8"
             ],
             [
              0.3333333333333333,
              "#9c179e"
             ],
             [
              0.4444444444444444,
              "#bd3786"
             ],
             [
              0.5555555555555556,
              "#d8576b"
             ],
             [
              0.6666666666666666,
              "#ed7953"
             ],
             [
              0.7777777777777778,
              "#fb9f3a"
             ],
             [
              0.8888888888888888,
              "#fdca26"
             ],
             [
              1,
              "#f0f921"
             ]
            ],
            "type": "histogram2d"
           }
          ],
          "histogram2dcontour": [
           {
            "colorbar": {
             "outlinewidth": 0,
             "ticks": ""
            },
            "colorscale": [
             [
              0,
              "#0d0887"
             ],
             [
              0.1111111111111111,
              "#46039f"
             ],
             [
              0.2222222222222222,
              "#7201a8"
             ],
             [
              0.3333333333333333,
              "#9c179e"
             ],
             [
              0.4444444444444444,
              "#bd3786"
             ],
             [
              0.5555555555555556,
              "#d8576b"
             ],
             [
              0.6666666666666666,
              "#ed7953"
             ],
             [
              0.7777777777777778,
              "#fb9f3a"
             ],
             [
              0.8888888888888888,
              "#fdca26"
             ],
             [
              1,
              "#f0f921"
             ]
            ],
            "type": "histogram2dcontour"
           }
          ],
          "mesh3d": [
           {
            "colorbar": {
             "outlinewidth": 0,
             "ticks": ""
            },
            "type": "mesh3d"
           }
          ],
          "parcoords": [
           {
            "line": {
             "colorbar": {
              "outlinewidth": 0,
              "ticks": ""
             }
            },
            "type": "parcoords"
           }
          ],
          "pie": [
           {
            "automargin": true,
            "type": "pie"
           }
          ],
          "scatter": [
           {
            "fillpattern": {
             "fillmode": "overlay",
             "size": 10,
             "solidity": 0.2
            },
            "type": "scatter"
           }
          ],
          "scatter3d": [
           {
            "line": {
             "colorbar": {
              "outlinewidth": 0,
              "ticks": ""
             }
            },
            "marker": {
             "colorbar": {
              "outlinewidth": 0,
              "ticks": ""
             }
            },
            "type": "scatter3d"
           }
          ],
          "scattercarpet": [
           {
            "marker": {
             "colorbar": {
              "outlinewidth": 0,
              "ticks": ""
             }
            },
            "type": "scattercarpet"
           }
          ],
          "scattergeo": [
           {
            "marker": {
             "colorbar": {
              "outlinewidth": 0,
              "ticks": ""
             }
            },
            "type": "scattergeo"
           }
          ],
          "scattergl": [
           {
            "marker": {
             "colorbar": {
              "outlinewidth": 0,
              "ticks": ""
             }
            },
            "type": "scattergl"
           }
          ],
          "scattermapbox": [
           {
            "marker": {
             "colorbar": {
              "outlinewidth": 0,
              "ticks": ""
             }
            },
            "type": "scattermapbox"
           }
          ],
          "scatterpolar": [
           {
            "marker": {
             "colorbar": {
              "outlinewidth": 0,
              "ticks": ""
             }
            },
            "type": "scatterpolar"
           }
          ],
          "scatterpolargl": [
           {
            "marker": {
             "colorbar": {
              "outlinewidth": 0,
              "ticks": ""
             }
            },
            "type": "scatterpolargl"
           }
          ],
          "scatterternary": [
           {
            "marker": {
             "colorbar": {
              "outlinewidth": 0,
              "ticks": ""
             }
            },
            "type": "scatterternary"
           }
          ],
          "surface": [
           {
            "colorbar": {
             "outlinewidth": 0,
             "ticks": ""
            },
            "colorscale": [
             [
              0,
              "#0d0887"
             ],
             [
              0.1111111111111111,
              "#46039f"
             ],
             [
              0.2222222222222222,
              "#7201a8"
             ],
             [
              0.3333333333333333,
              "#9c179e"
             ],
             [
              0.4444444444444444,
              "#bd3786"
             ],
             [
              0.5555555555555556,
              "#d8576b"
             ],
             [
              0.6666666666666666,
              "#ed7953"
             ],
             [
              0.7777777777777778,
              "#fb9f3a"
             ],
             [
              0.8888888888888888,
              "#fdca26"
             ],
             [
              1,
              "#f0f921"
             ]
            ],
            "type": "surface"
           }
          ],
          "table": [
           {
            "cells": {
             "fill": {
              "color": "#EBF0F8"
             },
             "line": {
              "color": "white"
             }
            },
            "header": {
             "fill": {
              "color": "#C8D4E3"
             },
             "line": {
              "color": "white"
             }
            },
            "type": "table"
           }
          ]
         },
         "layout": {
          "annotationdefaults": {
           "arrowcolor": "#2a3f5f",
           "arrowhead": 0,
           "arrowwidth": 1
          },
          "autotypenumbers": "strict",
          "coloraxis": {
           "colorbar": {
            "outlinewidth": 0,
            "ticks": ""
           }
          },
          "colorscale": {
           "diverging": [
            [
             0,
             "#8e0152"
            ],
            [
             0.1,
             "#c51b7d"
            ],
            [
             0.2,
             "#de77ae"
            ],
            [
             0.3,
             "#f1b6da"
            ],
            [
             0.4,
             "#fde0ef"
            ],
            [
             0.5,
             "#f7f7f7"
            ],
            [
             0.6,
             "#e6f5d0"
            ],
            [
             0.7,
             "#b8e186"
            ],
            [
             0.8,
             "#7fbc41"
            ],
            [
             0.9,
             "#4d9221"
            ],
            [
             1,
             "#276419"
            ]
           ],
           "sequential": [
            [
             0,
             "#0d0887"
            ],
            [
             0.1111111111111111,
             "#46039f"
            ],
            [
             0.2222222222222222,
             "#7201a8"
            ],
            [
             0.3333333333333333,
             "#9c179e"
            ],
            [
             0.4444444444444444,
             "#bd3786"
            ],
            [
             0.5555555555555556,
             "#d8576b"
            ],
            [
             0.6666666666666666,
             "#ed7953"
            ],
            [
             0.7777777777777778,
             "#fb9f3a"
            ],
            [
             0.8888888888888888,
             "#fdca26"
            ],
            [
             1,
             "#f0f921"
            ]
           ],
           "sequentialminus": [
            [
             0,
             "#0d0887"
            ],
            [
             0.1111111111111111,
             "#46039f"
            ],
            [
             0.2222222222222222,
             "#7201a8"
            ],
            [
             0.3333333333333333,
             "#9c179e"
            ],
            [
             0.4444444444444444,
             "#bd3786"
            ],
            [
             0.5555555555555556,
             "#d8576b"
            ],
            [
             0.6666666666666666,
             "#ed7953"
            ],
            [
             0.7777777777777778,
             "#fb9f3a"
            ],
            [
             0.8888888888888888,
             "#fdca26"
            ],
            [
             1,
             "#f0f921"
            ]
           ]
          },
          "colorway": [
           "#636efa",
           "#EF553B",
           "#00cc96",
           "#ab63fa",
           "#FFA15A",
           "#19d3f3",
           "#FF6692",
           "#B6E880",
           "#FF97FF",
           "#FECB52"
          ],
          "font": {
           "color": "#2a3f5f"
          },
          "geo": {
           "bgcolor": "white",
           "lakecolor": "white",
           "landcolor": "#E5ECF6",
           "showlakes": true,
           "showland": true,
           "subunitcolor": "white"
          },
          "hoverlabel": {
           "align": "left"
          },
          "hovermode": "closest",
          "mapbox": {
           "style": "light"
          },
          "paper_bgcolor": "white",
          "plot_bgcolor": "#E5ECF6",
          "polar": {
           "angularaxis": {
            "gridcolor": "white",
            "linecolor": "white",
            "ticks": ""
           },
           "bgcolor": "#E5ECF6",
           "radialaxis": {
            "gridcolor": "white",
            "linecolor": "white",
            "ticks": ""
           }
          },
          "scene": {
           "xaxis": {
            "backgroundcolor": "#E5ECF6",
            "gridcolor": "white",
            "gridwidth": 2,
            "linecolor": "white",
            "showbackground": true,
            "ticks": "",
            "zerolinecolor": "white"
           },
           "yaxis": {
            "backgroundcolor": "#E5ECF6",
            "gridcolor": "white",
            "gridwidth": 2,
            "linecolor": "white",
            "showbackground": true,
            "ticks": "",
            "zerolinecolor": "white"
           },
           "zaxis": {
            "backgroundcolor": "#E5ECF6",
            "gridcolor": "white",
            "gridwidth": 2,
            "linecolor": "white",
            "showbackground": true,
            "ticks": "",
            "zerolinecolor": "white"
           }
          },
          "shapedefaults": {
           "line": {
            "color": "#2a3f5f"
           }
          },
          "ternary": {
           "aaxis": {
            "gridcolor": "white",
            "linecolor": "white",
            "ticks": ""
           },
           "baxis": {
            "gridcolor": "white",
            "linecolor": "white",
            "ticks": ""
           },
           "bgcolor": "#E5ECF6",
           "caxis": {
            "gridcolor": "white",
            "linecolor": "white",
            "ticks": ""
           }
          },
          "title": {
           "x": 0.05
          },
          "xaxis": {
           "automargin": true,
           "gridcolor": "white",
           "linecolor": "white",
           "ticks": "",
           "title": {
            "standoff": 15
           },
           "zerolinecolor": "white",
           "zerolinewidth": 2
          },
          "yaxis": {
           "automargin": true,
           "gridcolor": "white",
           "linecolor": "white",
           "ticks": "",
           "title": {
            "standoff": 15
           },
           "zerolinecolor": "white",
           "zerolinewidth": 2
          }
         }
        },
        "xaxis": {
         "anchor": "y",
         "domain": [
          0,
          1
         ],
         "title": {
          "text": "score"
         }
        },
        "yaxis": {
         "anchor": "x",
         "domain": [
          0,
          1
         ],
         "title": {
          "text": "count"
         }
        }
       }
      }
     },
     "metadata": {},
     "output_type": "display_data"
    },
    {
     "data": {
      "application/vnd.plotly.v1+json": {
       "config": {
        "plotlyServerURL": "https://plot.ly"
       },
       "data": [
        {
         "alignmentgroup": "True",
         "bingroup": "x",
         "hovertemplate": "model=gpt-4-0613<br>score=%{x}<br>count=%{y}<extra></extra>",
         "legendgroup": "gpt-4-0613",
         "marker": {
          "color": "#636efa",
          "pattern": {
           "shape": ""
          }
         },
         "name": "gpt-4-0613",
         "nbinsx": 3,
         "offsetgroup": "gpt-4-0613",
         "orientation": "v",
         "showlegend": true,
         "type": "histogram",
         "x": [
          1,
          3,
          1,
          1,
          3,
          3,
          1,
          3,
          1,
          2,
          2,
          3,
          3,
          3,
          1,
          1,
          3,
          1,
          1,
          3,
          1,
          1,
          3,
          1,
          3,
          3,
          3,
          1,
          1,
          1,
          3,
          1,
          3,
          1,
          1,
          3,
          1,
          3,
          1,
          1,
          3,
          3,
          3,
          3,
          3,
          1,
          3,
          3,
          1,
          1,
          3,
          3,
          1,
          3,
          3,
          3,
          3,
          1,
          3,
          3,
          3,
          3,
          3,
          1,
          2,
          3,
          3,
          1,
          3,
          3,
          3,
          3,
          1,
          3,
          1,
          1,
          3,
          3,
          3,
          3,
          3,
          1,
          2,
          1,
          3,
          3,
          3,
          3,
          1,
          3,
          3,
          1,
          3,
          2,
          3,
          3,
          3,
          3
         ],
         "xaxis": "x",
         "yaxis": "y"
        },
        {
         "alignmentgroup": "True",
         "bingroup": "x",
         "hovertemplate": "model=gpt-3.5-turbo-16k-0613<br>score=%{x}<br>count=%{y}<extra></extra>",
         "legendgroup": "gpt-3.5-turbo-16k-0613",
         "marker": {
          "color": "#EF553B",
          "pattern": {
           "shape": ""
          }
         },
         "name": "gpt-3.5-turbo-16k-0613",
         "nbinsx": 3,
         "offsetgroup": "gpt-3.5-turbo-16k-0613",
         "orientation": "v",
         "showlegend": true,
         "type": "histogram",
         "x": [
          1,
          1,
          1,
          1,
          3,
          1,
          3,
          3,
          1,
          1,
          1,
          3,
          3,
          2,
          1,
          2,
          3,
          2,
          1,
          1,
          1,
          1,
          3,
          1,
          3,
          1,
          3,
          1,
          1,
          1,
          1,
          1,
          1,
          1,
          1,
          1,
          1,
          2,
          1,
          1,
          3,
          3,
          1,
          1,
          3,
          1,
          1,
          2,
          1,
          1,
          3,
          3,
          1,
          2,
          3,
          3,
          1,
          1,
          1,
          3,
          1,
          3,
          2,
          1,
          1,
          1,
          3,
          1,
          1,
          1,
          3,
          3,
          1,
          3,
          1,
          1,
          1,
          3,
          3,
          3,
          1,
          1,
          1,
          1,
          3,
          1,
          1,
          3,
          1,
          1,
          3,
          1,
          3,
          1,
          2,
          2,
          3,
          3
         ],
         "xaxis": "x",
         "yaxis": "y"
        },
        {
         "alignmentgroup": "True",
         "bingroup": "x",
         "hovertemplate": "model=gpt-4-1106-preview<br>score=%{x}<br>count=%{y}<extra></extra>",
         "legendgroup": "gpt-4-1106-preview",
         "marker": {
          "color": "#00cc96",
          "pattern": {
           "shape": ""
          }
         },
         "name": "gpt-4-1106-preview",
         "nbinsx": 3,
         "offsetgroup": "gpt-4-1106-preview",
         "orientation": "v",
         "showlegend": true,
         "type": "histogram",
         "x": [
          1,
          3,
          1,
          1,
          3,
          1,
          1,
          3,
          1,
          1,
          3,
          2,
          3,
          3,
          1,
          1,
          3,
          3,
          1,
          3,
          2,
          1,
          3,
          1,
          3,
          3,
          3,
          1,
          1,
          1,
          1,
          1,
          1,
          1,
          1,
          3,
          1,
          2,
          3,
          1,
          3,
          3,
          1,
          3,
          3,
          1,
          1,
          3,
          1,
          1,
          3,
          3,
          2,
          3,
          3,
          3,
          3,
          1,
          2,
          3,
          2,
          3,
          3,
          1,
          2,
          1,
          3,
          1,
          1,
          3,
          1,
          3,
          1,
          3,
          1,
          1,
          3,
          1,
          2,
          3,
          1,
          1,
          3,
          1,
          3,
          1,
          3,
          3,
          1,
          1,
          3,
          2,
          2,
          1,
          2,
          3,
          3,
          3
         ],
         "xaxis": "x",
         "yaxis": "y"
        },
        {
         "alignmentgroup": "True",
         "bingroup": "x",
         "hovertemplate": "model=gpt-4-1106-preview-v1.1<br>score=%{x}<br>count=%{y}<extra></extra>",
         "legendgroup": "gpt-4-1106-preview-v1.1",
         "marker": {
          "color": "#ab63fa",
          "pattern": {
           "shape": ""
          }
         },
         "name": "gpt-4-1106-preview-v1.1",
         "nbinsx": 3,
         "offsetgroup": "gpt-4-1106-preview-v1.1",
         "orientation": "v",
         "showlegend": true,
         "type": "histogram",
         "x": [
          1,
          3,
          1,
          1,
          3,
          3,
          1,
          3,
          3,
          1,
          2,
          3,
          3,
          1,
          1,
          3,
          3,
          2,
          1,
          3,
          2,
          1,
          3,
          3,
          3,
          2,
          3,
          1,
          1,
          1,
          2,
          1,
          1,
          1,
          1,
          3,
          2,
          3,
          1,
          1,
          3,
          3,
          1,
          3,
          3,
          1,
          3,
          3,
          3,
          3,
          3,
          3,
          3,
          3,
          3,
          3,
          3,
          1,
          3,
          3,
          3,
          3,
          3,
          1,
          2,
          3,
          3,
          1,
          1,
          3,
          3,
          3,
          1,
          3,
          1,
          1,
          1,
          3,
          3,
          3,
          3,
          1,
          1,
          2,
          3,
          1,
          3,
          3,
          1,
          2,
          3,
          3,
          3,
          3,
          3,
          3,
          3,
          2
         ],
         "xaxis": "x",
         "yaxis": "y"
        }
       ],
       "layout": {
        "barmode": "group",
        "legend": {
         "title": {
          "text": "model"
         },
         "tracegroupgap": 0
        },
        "margin": {
         "t": 60
        },
        "template": {
         "data": {
          "bar": [
           {
            "error_x": {
             "color": "#2a3f5f"
            },
            "error_y": {
             "color": "#2a3f5f"
            },
            "marker": {
             "line": {
              "color": "#E5ECF6",
              "width": 0.5
             },
             "pattern": {
              "fillmode": "overlay",
              "size": 10,
              "solidity": 0.2
             }
            },
            "type": "bar"
           }
          ],
          "barpolar": [
           {
            "marker": {
             "line": {
              "color": "#E5ECF6",
              "width": 0.5
             },
             "pattern": {
              "fillmode": "overlay",
              "size": 10,
              "solidity": 0.2
             }
            },
            "type": "barpolar"
           }
          ],
          "carpet": [
           {
            "aaxis": {
             "endlinecolor": "#2a3f5f",
             "gridcolor": "white",
             "linecolor": "white",
             "minorgridcolor": "white",
             "startlinecolor": "#2a3f5f"
            },
            "baxis": {
             "endlinecolor": "#2a3f5f",
             "gridcolor": "white",
             "linecolor": "white",
             "minorgridcolor": "white",
             "startlinecolor": "#2a3f5f"
            },
            "type": "carpet"
           }
          ],
          "choropleth": [
           {
            "colorbar": {
             "outlinewidth": 0,
             "ticks": ""
            },
            "type": "choropleth"
           }
          ],
          "contour": [
           {
            "colorbar": {
             "outlinewidth": 0,
             "ticks": ""
            },
            "colorscale": [
             [
              0,
              "#0d0887"
             ],
             [
              0.1111111111111111,
              "#46039f"
             ],
             [
              0.2222222222222222,
              "#7201a8"
             ],
             [
              0.3333333333333333,
              "#9c179e"
             ],
             [
              0.4444444444444444,
              "#bd3786"
             ],
             [
              0.5555555555555556,
              "#d8576b"
             ],
             [
              0.6666666666666666,
              "#ed7953"
             ],
             [
              0.7777777777777778,
              "#fb9f3a"
             ],
             [
              0.8888888888888888,
              "#fdca26"
             ],
             [
              1,
              "#f0f921"
             ]
            ],
            "type": "contour"
           }
          ],
          "contourcarpet": [
           {
            "colorbar": {
             "outlinewidth": 0,
             "ticks": ""
            },
            "type": "contourcarpet"
           }
          ],
          "heatmap": [
           {
            "colorbar": {
             "outlinewidth": 0,
             "ticks": ""
            },
            "colorscale": [
             [
              0,
              "#0d0887"
             ],
             [
              0.1111111111111111,
              "#46039f"
             ],
             [
              0.2222222222222222,
              "#7201a8"
             ],
             [
              0.3333333333333333,
              "#9c179e"
             ],
             [
              0.4444444444444444,
              "#bd3786"
             ],
             [
              0.5555555555555556,
              "#d8576b"
             ],
             [
              0.6666666666666666,
              "#ed7953"
             ],
             [
              0.7777777777777778,
              "#fb9f3a"
             ],
             [
              0.8888888888888888,
              "#fdca26"
             ],
             [
              1,
              "#f0f921"
             ]
            ],
            "type": "heatmap"
           }
          ],
          "heatmapgl": [
           {
            "colorbar": {
             "outlinewidth": 0,
             "ticks": ""
            },
            "colorscale": [
             [
              0,
              "#0d0887"
             ],
             [
              0.1111111111111111,
              "#46039f"
             ],
             [
              0.2222222222222222,
              "#7201a8"
             ],
             [
              0.3333333333333333,
              "#9c179e"
             ],
             [
              0.4444444444444444,
              "#bd3786"
             ],
             [
              0.5555555555555556,
              "#d8576b"
             ],
             [
              0.6666666666666666,
              "#ed7953"
             ],
             [
              0.7777777777777778,
              "#fb9f3a"
             ],
             [
              0.8888888888888888,
              "#fdca26"
             ],
             [
              1,
              "#f0f921"
             ]
            ],
            "type": "heatmapgl"
           }
          ],
          "histogram": [
           {
            "marker": {
             "pattern": {
              "fillmode": "overlay",
              "size": 10,
              "solidity": 0.2
             }
            },
            "type": "histogram"
           }
          ],
          "histogram2d": [
           {
            "colorbar": {
             "outlinewidth": 0,
             "ticks": ""
            },
            "colorscale": [
             [
              0,
              "#0d0887"
             ],
             [
              0.1111111111111111,
              "#46039f"
             ],
             [
              0.2222222222222222,
              "#7201a8"
             ],
             [
              0.3333333333333333,
              "#9c179e"
             ],
             [
              0.4444444444444444,
              "#bd3786"
             ],
             [
              0.5555555555555556,
              "#d8576b"
             ],
             [
              0.6666666666666666,
              "#ed7953"
             ],
             [
              0.7777777777777778,
              "#fb9f3a"
             ],
             [
              0.8888888888888888,
              "#fdca26"
             ],
             [
              1,
              "#f0f921"
             ]
            ],
            "type": "histogram2d"
           }
          ],
          "histogram2dcontour": [
           {
            "colorbar": {
             "outlinewidth": 0,
             "ticks": ""
            },
            "colorscale": [
             [
              0,
              "#0d0887"
             ],
             [
              0.1111111111111111,
              "#46039f"
             ],
             [
              0.2222222222222222,
              "#7201a8"
             ],
             [
              0.3333333333333333,
              "#9c179e"
             ],
             [
              0.4444444444444444,
              "#bd3786"
             ],
             [
              0.5555555555555556,
              "#d8576b"
             ],
             [
              0.6666666666666666,
              "#ed7953"
             ],
             [
              0.7777777777777778,
              "#fb9f3a"
             ],
             [
              0.8888888888888888,
              "#fdca26"
             ],
             [
              1,
              "#f0f921"
             ]
            ],
            "type": "histogram2dcontour"
           }
          ],
          "mesh3d": [
           {
            "colorbar": {
             "outlinewidth": 0,
             "ticks": ""
            },
            "type": "mesh3d"
           }
          ],
          "parcoords": [
           {
            "line": {
             "colorbar": {
              "outlinewidth": 0,
              "ticks": ""
             }
            },
            "type": "parcoords"
           }
          ],
          "pie": [
           {
            "automargin": true,
            "type": "pie"
           }
          ],
          "scatter": [
           {
            "fillpattern": {
             "fillmode": "overlay",
             "size": 10,
             "solidity": 0.2
            },
            "type": "scatter"
           }
          ],
          "scatter3d": [
           {
            "line": {
             "colorbar": {
              "outlinewidth": 0,
              "ticks": ""
             }
            },
            "marker": {
             "colorbar": {
              "outlinewidth": 0,
              "ticks": ""
             }
            },
            "type": "scatter3d"
           }
          ],
          "scattercarpet": [
           {
            "marker": {
             "colorbar": {
              "outlinewidth": 0,
              "ticks": ""
             }
            },
            "type": "scattercarpet"
           }
          ],
          "scattergeo": [
           {
            "marker": {
             "colorbar": {
              "outlinewidth": 0,
              "ticks": ""
             }
            },
            "type": "scattergeo"
           }
          ],
          "scattergl": [
           {
            "marker": {
             "colorbar": {
              "outlinewidth": 0,
              "ticks": ""
             }
            },
            "type": "scattergl"
           }
          ],
          "scattermapbox": [
           {
            "marker": {
             "colorbar": {
              "outlinewidth": 0,
              "ticks": ""
             }
            },
            "type": "scattermapbox"
           }
          ],
          "scatterpolar": [
           {
            "marker": {
             "colorbar": {
              "outlinewidth": 0,
              "ticks": ""
             }
            },
            "type": "scatterpolar"
           }
          ],
          "scatterpolargl": [
           {
            "marker": {
             "colorbar": {
              "outlinewidth": 0,
              "ticks": ""
             }
            },
            "type": "scatterpolargl"
           }
          ],
          "scatterternary": [
           {
            "marker": {
             "colorbar": {
              "outlinewidth": 0,
              "ticks": ""
             }
            },
            "type": "scatterternary"
           }
          ],
          "surface": [
           {
            "colorbar": {
             "outlinewidth": 0,
             "ticks": ""
            },
            "colorscale": [
             [
              0,
              "#0d0887"
             ],
             [
              0.1111111111111111,
              "#46039f"
             ],
             [
              0.2222222222222222,
              "#7201a8"
             ],
             [
              0.3333333333333333,
              "#9c179e"
             ],
             [
              0.4444444444444444,
              "#bd3786"
             ],
             [
              0.5555555555555556,
              "#d8576b"
             ],
             [
              0.6666666666666666,
              "#ed7953"
             ],
             [
              0.7777777777777778,
              "#fb9f3a"
             ],
             [
              0.8888888888888888,
              "#fdca26"
             ],
             [
              1,
              "#f0f921"
             ]
            ],
            "type": "surface"
           }
          ],
          "table": [
           {
            "cells": {
             "fill": {
              "color": "#EBF0F8"
             },
             "line": {
              "color": "white"
             }
            },
            "header": {
             "fill": {
              "color": "#C8D4E3"
             },
             "line": {
              "color": "white"
             }
            },
            "type": "table"
           }
          ]
         },
         "layout": {
          "annotationdefaults": {
           "arrowcolor": "#2a3f5f",
           "arrowhead": 0,
           "arrowwidth": 1
          },
          "autotypenumbers": "strict",
          "coloraxis": {
           "colorbar": {
            "outlinewidth": 0,
            "ticks": ""
           }
          },
          "colorscale": {
           "diverging": [
            [
             0,
             "#8e0152"
            ],
            [
             0.1,
             "#c51b7d"
            ],
            [
             0.2,
             "#de77ae"
            ],
            [
             0.3,
             "#f1b6da"
            ],
            [
             0.4,
             "#fde0ef"
            ],
            [
             0.5,
             "#f7f7f7"
            ],
            [
             0.6,
             "#e6f5d0"
            ],
            [
             0.7,
             "#b8e186"
            ],
            [
             0.8,
             "#7fbc41"
            ],
            [
             0.9,
             "#4d9221"
            ],
            [
             1,
             "#276419"
            ]
           ],
           "sequential": [
            [
             0,
             "#0d0887"
            ],
            [
             0.1111111111111111,
             "#46039f"
            ],
            [
             0.2222222222222222,
             "#7201a8"
            ],
            [
             0.3333333333333333,
             "#9c179e"
            ],
            [
             0.4444444444444444,
             "#bd3786"
            ],
            [
             0.5555555555555556,
             "#d8576b"
            ],
            [
             0.6666666666666666,
             "#ed7953"
            ],
            [
             0.7777777777777778,
             "#fb9f3a"
            ],
            [
             0.8888888888888888,
             "#fdca26"
            ],
            [
             1,
             "#f0f921"
            ]
           ],
           "sequentialminus": [
            [
             0,
             "#0d0887"
            ],
            [
             0.1111111111111111,
             "#46039f"
            ],
            [
             0.2222222222222222,
             "#7201a8"
            ],
            [
             0.3333333333333333,
             "#9c179e"
            ],
            [
             0.4444444444444444,
             "#bd3786"
            ],
            [
             0.5555555555555556,
             "#d8576b"
            ],
            [
             0.6666666666666666,
             "#ed7953"
            ],
            [
             0.7777777777777778,
             "#fb9f3a"
            ],
            [
             0.8888888888888888,
             "#fdca26"
            ],
            [
             1,
             "#f0f921"
            ]
           ]
          },
          "colorway": [
           "#636efa",
           "#EF553B",
           "#00cc96",
           "#ab63fa",
           "#FFA15A",
           "#19d3f3",
           "#FF6692",
           "#B6E880",
           "#FF97FF",
           "#FECB52"
          ],
          "font": {
           "color": "#2a3f5f"
          },
          "geo": {
           "bgcolor": "white",
           "lakecolor": "white",
           "landcolor": "#E5ECF6",
           "showlakes": true,
           "showland": true,
           "subunitcolor": "white"
          },
          "hoverlabel": {
           "align": "left"
          },
          "hovermode": "closest",
          "mapbox": {
           "style": "light"
          },
          "paper_bgcolor": "white",
          "plot_bgcolor": "#E5ECF6",
          "polar": {
           "angularaxis": {
            "gridcolor": "white",
            "linecolor": "white",
            "ticks": ""
           },
           "bgcolor": "#E5ECF6",
           "radialaxis": {
            "gridcolor": "white",
            "linecolor": "white",
            "ticks": ""
           }
          },
          "scene": {
           "xaxis": {
            "backgroundcolor": "#E5ECF6",
            "gridcolor": "white",
            "gridwidth": 2,
            "linecolor": "white",
            "showbackground": true,
            "ticks": "",
            "zerolinecolor": "white"
           },
           "yaxis": {
            "backgroundcolor": "#E5ECF6",
            "gridcolor": "white",
            "gridwidth": 2,
            "linecolor": "white",
            "showbackground": true,
            "ticks": "",
            "zerolinecolor": "white"
           },
           "zaxis": {
            "backgroundcolor": "#E5ECF6",
            "gridcolor": "white",
            "gridwidth": 2,
            "linecolor": "white",
            "showbackground": true,
            "ticks": "",
            "zerolinecolor": "white"
           }
          },
          "shapedefaults": {
           "line": {
            "color": "#2a3f5f"
           }
          },
          "ternary": {
           "aaxis": {
            "gridcolor": "white",
            "linecolor": "white",
            "ticks": ""
           },
           "baxis": {
            "gridcolor": "white",
            "linecolor": "white",
            "ticks": ""
           },
           "bgcolor": "#E5ECF6",
           "caxis": {
            "gridcolor": "white",
            "linecolor": "white",
            "ticks": ""
           }
          },
          "title": {
           "x": 0.05
          },
          "xaxis": {
           "automargin": true,
           "gridcolor": "white",
           "linecolor": "white",
           "ticks": "",
           "title": {
            "standoff": 15
           },
           "zerolinecolor": "white",
           "zerolinewidth": 2
          },
          "yaxis": {
           "automargin": true,
           "gridcolor": "white",
           "linecolor": "white",
           "ticks": "",
           "title": {
            "standoff": 15
           },
           "zerolinecolor": "white",
           "zerolinewidth": 2
          }
         }
        },
        "xaxis": {
         "anchor": "y",
         "domain": [
          0,
          1
         ],
         "title": {
          "text": "score"
         }
        },
        "yaxis": {
         "anchor": "x",
         "domain": [
          0,
          1
         ],
         "title": {
          "text": "count"
         }
        }
       }
      }
     },
     "metadata": {},
     "output_type": "display_data"
    },
    {
     "data": {
      "application/vnd.plotly.v1+json": {
       "config": {
        "plotlyServerURL": "https://plot.ly"
       },
       "data": [
        {
         "alignmentgroup": "True",
         "bingroup": "x",
         "hovertemplate": "model=gpt-4-0613<br>score=%{x}<br>count=%{y}<extra></extra>",
         "legendgroup": "gpt-4-0613",
         "marker": {
          "color": "#636efa",
          "pattern": {
           "shape": ""
          }
         },
         "name": "gpt-4-0613",
         "nbinsx": 3,
         "offsetgroup": "gpt-4-0613",
         "orientation": "v",
         "showlegend": true,
         "type": "histogram",
         "x": [
          2,
          3,
          2,
          3,
          3,
          2,
          2,
          2,
          2,
          2,
          3,
          2,
          2,
          2,
          2,
          2,
          3,
          2,
          2,
          3,
          2,
          3,
          2,
          2,
          2,
          2,
          2,
          2,
          3,
          3,
          2,
          3,
          1,
          2,
          3,
          2,
          2,
          1,
          3,
          2,
          3,
          3,
          1,
          3,
          3,
          2,
          2,
          3,
          3,
          2,
          3,
          2,
          2,
          2,
          2,
          2,
          3,
          2,
          3,
          2,
          2,
          3,
          2,
          2,
          2,
          2,
          2,
          2,
          2,
          2,
          3,
          3,
          3,
          3,
          2,
          2,
          1,
          2,
          2,
          2,
          1,
          3,
          2,
          2,
          2,
          1,
          2,
          2,
          2,
          3,
          2,
          2,
          3,
          3,
          2,
          3,
          3,
          3
         ],
         "xaxis": "x",
         "yaxis": "y"
        },
        {
         "alignmentgroup": "True",
         "bingroup": "x",
         "hovertemplate": "model=gpt-3.5-turbo-16k-0613<br>score=%{x}<br>count=%{y}<extra></extra>",
         "legendgroup": "gpt-3.5-turbo-16k-0613",
         "marker": {
          "color": "#EF553B",
          "pattern": {
           "shape": ""
          }
         },
         "name": "gpt-3.5-turbo-16k-0613",
         "nbinsx": 3,
         "offsetgroup": "gpt-3.5-turbo-16k-0613",
         "orientation": "v",
         "showlegend": true,
         "type": "histogram",
         "x": [
          3,
          3,
          2,
          2,
          3,
          2,
          3,
          2,
          1,
          3,
          1,
          2,
          2,
          2,
          2,
          2,
          3,
          1,
          2,
          2,
          1,
          3,
          2,
          2,
          3,
          2,
          3,
          2,
          2,
          3,
          2,
          3,
          3,
          2,
          1,
          2,
          2,
          2,
          3,
          2,
          3,
          3,
          2,
          2,
          2,
          2,
          3,
          2,
          2,
          2,
          3,
          2,
          2,
          3,
          3,
          2,
          2,
          3,
          2,
          3,
          2,
          3,
          3,
          3,
          2,
          3,
          2,
          1,
          3,
          2,
          3,
          2,
          2,
          3,
          2,
          1,
          3,
          2,
          2,
          2,
          3,
          2,
          1,
          1,
          3,
          3,
          1,
          2,
          2,
          3,
          3,
          2,
          3,
          3,
          3,
          3,
          3,
          2
         ],
         "xaxis": "x",
         "yaxis": "y"
        },
        {
         "alignmentgroup": "True",
         "bingroup": "x",
         "hovertemplate": "model=gpt-4-1106-preview<br>score=%{x}<br>count=%{y}<extra></extra>",
         "legendgroup": "gpt-4-1106-preview",
         "marker": {
          "color": "#00cc96",
          "pattern": {
           "shape": ""
          }
         },
         "name": "gpt-4-1106-preview",
         "nbinsx": 3,
         "offsetgroup": "gpt-4-1106-preview",
         "orientation": "v",
         "showlegend": true,
         "type": "histogram",
         "x": [
          3,
          3,
          3,
          3,
          3,
          3,
          3,
          3,
          3,
          3,
          3,
          3,
          2,
          3,
          3,
          3,
          3,
          2,
          3,
          2,
          3,
          3,
          3,
          3,
          3,
          3,
          3,
          3,
          3,
          3,
          3,
          3,
          3,
          3,
          3,
          3,
          3,
          3,
          3,
          3,
          3,
          3,
          3,
          3,
          3,
          3,
          2,
          3,
          3,
          3,
          3,
          3,
          2,
          3,
          3,
          3,
          3,
          3,
          3,
          3,
          3,
          3,
          3,
          3,
          3,
          3,
          3,
          3,
          3,
          3,
          3,
          3,
          2,
          3,
          3,
          3,
          3,
          2,
          3,
          3,
          3,
          3,
          3,
          2,
          3,
          3,
          3,
          3,
          3,
          3,
          3,
          3,
          3,
          3,
          3,
          3,
          3,
          2
         ],
         "xaxis": "x",
         "yaxis": "y"
        },
        {
         "alignmentgroup": "True",
         "bingroup": "x",
         "hovertemplate": "model=gpt-4-1106-preview-v1.1<br>score=%{x}<br>count=%{y}<extra></extra>",
         "legendgroup": "gpt-4-1106-preview-v1.1",
         "marker": {
          "color": "#ab63fa",
          "pattern": {
           "shape": ""
          }
         },
         "name": "gpt-4-1106-preview-v1.1",
         "nbinsx": 3,
         "offsetgroup": "gpt-4-1106-preview-v1.1",
         "orientation": "v",
         "showlegend": true,
         "type": "histogram",
         "x": [
          2,
          3,
          3,
          3,
          3,
          3,
          2,
          3,
          3,
          2,
          3,
          2,
          2,
          3,
          3,
          3,
          3,
          3,
          3,
          3,
          2,
          3,
          3,
          3,
          3,
          3,
          3,
          3,
          2,
          3,
          3,
          2,
          3,
          3,
          3,
          3,
          3,
          3,
          3,
          3,
          3,
          3,
          3,
          3,
          3,
          2,
          3,
          3,
          3,
          3,
          3,
          3,
          3,
          3,
          3,
          3,
          3,
          3,
          3,
          3,
          2,
          3,
          2,
          3,
          2,
          3,
          3,
          2,
          2,
          3,
          3,
          3,
          2,
          3,
          3,
          2,
          3,
          3,
          3,
          3,
          3,
          3,
          3,
          2,
          3,
          3,
          3,
          3,
          3,
          3,
          3,
          3,
          3,
          3,
          3,
          3,
          3,
          3
         ],
         "xaxis": "x",
         "yaxis": "y"
        }
       ],
       "layout": {
        "barmode": "group",
        "legend": {
         "title": {
          "text": "model"
         },
         "tracegroupgap": 0
        },
        "margin": {
         "t": 60
        },
        "template": {
         "data": {
          "bar": [
           {
            "error_x": {
             "color": "#2a3f5f"
            },
            "error_y": {
             "color": "#2a3f5f"
            },
            "marker": {
             "line": {
              "color": "#E5ECF6",
              "width": 0.5
             },
             "pattern": {
              "fillmode": "overlay",
              "size": 10,
              "solidity": 0.2
             }
            },
            "type": "bar"
           }
          ],
          "barpolar": [
           {
            "marker": {
             "line": {
              "color": "#E5ECF6",
              "width": 0.5
             },
             "pattern": {
              "fillmode": "overlay",
              "size": 10,
              "solidity": 0.2
             }
            },
            "type": "barpolar"
           }
          ],
          "carpet": [
           {
            "aaxis": {
             "endlinecolor": "#2a3f5f",
             "gridcolor": "white",
             "linecolor": "white",
             "minorgridcolor": "white",
             "startlinecolor": "#2a3f5f"
            },
            "baxis": {
             "endlinecolor": "#2a3f5f",
             "gridcolor": "white",
             "linecolor": "white",
             "minorgridcolor": "white",
             "startlinecolor": "#2a3f5f"
            },
            "type": "carpet"
           }
          ],
          "choropleth": [
           {
            "colorbar": {
             "outlinewidth": 0,
             "ticks": ""
            },
            "type": "choropleth"
           }
          ],
          "contour": [
           {
            "colorbar": {
             "outlinewidth": 0,
             "ticks": ""
            },
            "colorscale": [
             [
              0,
              "#0d0887"
             ],
             [
              0.1111111111111111,
              "#46039f"
             ],
             [
              0.2222222222222222,
              "#7201a8"
             ],
             [
              0.3333333333333333,
              "#9c179e"
             ],
             [
              0.4444444444444444,
              "#bd3786"
             ],
             [
              0.5555555555555556,
              "#d8576b"
             ],
             [
              0.6666666666666666,
              "#ed7953"
             ],
             [
              0.7777777777777778,
              "#fb9f3a"
             ],
             [
              0.8888888888888888,
              "#fdca26"
             ],
             [
              1,
              "#f0f921"
             ]
            ],
            "type": "contour"
           }
          ],
          "contourcarpet": [
           {
            "colorbar": {
             "outlinewidth": 0,
             "ticks": ""
            },
            "type": "contourcarpet"
           }
          ],
          "heatmap": [
           {
            "colorbar": {
             "outlinewidth": 0,
             "ticks": ""
            },
            "colorscale": [
             [
              0,
              "#0d0887"
             ],
             [
              0.1111111111111111,
              "#46039f"
             ],
             [
              0.2222222222222222,
              "#7201a8"
             ],
             [
              0.3333333333333333,
              "#9c179e"
             ],
             [
              0.4444444444444444,
              "#bd3786"
             ],
             [
              0.5555555555555556,
              "#d8576b"
             ],
             [
              0.6666666666666666,
              "#ed7953"
             ],
             [
              0.7777777777777778,
              "#fb9f3a"
             ],
             [
              0.8888888888888888,
              "#fdca26"
             ],
             [
              1,
              "#f0f921"
             ]
            ],
            "type": "heatmap"
           }
          ],
          "heatmapgl": [
           {
            "colorbar": {
             "outlinewidth": 0,
             "ticks": ""
            },
            "colorscale": [
             [
              0,
              "#0d0887"
             ],
             [
              0.1111111111111111,
              "#46039f"
             ],
             [
              0.2222222222222222,
              "#7201a8"
             ],
             [
              0.3333333333333333,
              "#9c179e"
             ],
             [
              0.4444444444444444,
              "#bd3786"
             ],
             [
              0.5555555555555556,
              "#d8576b"
             ],
             [
              0.6666666666666666,
              "#ed7953"
             ],
             [
              0.7777777777777778,
              "#fb9f3a"
             ],
             [
              0.8888888888888888,
              "#fdca26"
             ],
             [
              1,
              "#f0f921"
             ]
            ],
            "type": "heatmapgl"
           }
          ],
          "histogram": [
           {
            "marker": {
             "pattern": {
              "fillmode": "overlay",
              "size": 10,
              "solidity": 0.2
             }
            },
            "type": "histogram"
           }
          ],
          "histogram2d": [
           {
            "colorbar": {
             "outlinewidth": 0,
             "ticks": ""
            },
            "colorscale": [
             [
              0,
              "#0d0887"
             ],
             [
              0.1111111111111111,
              "#46039f"
             ],
             [
              0.2222222222222222,
              "#7201a8"
             ],
             [
              0.3333333333333333,
              "#9c179e"
             ],
             [
              0.4444444444444444,
              "#bd3786"
             ],
             [
              0.5555555555555556,
              "#d8576b"
             ],
             [
              0.6666666666666666,
              "#ed7953"
             ],
             [
              0.7777777777777778,
              "#fb9f3a"
             ],
             [
              0.8888888888888888,
              "#fdca26"
             ],
             [
              1,
              "#f0f921"
             ]
            ],
            "type": "histogram2d"
           }
          ],
          "histogram2dcontour": [
           {
            "colorbar": {
             "outlinewidth": 0,
             "ticks": ""
            },
            "colorscale": [
             [
              0,
              "#0d0887"
             ],
             [
              0.1111111111111111,
              "#46039f"
             ],
             [
              0.2222222222222222,
              "#7201a8"
             ],
             [
              0.3333333333333333,
              "#9c179e"
             ],
             [
              0.4444444444444444,
              "#bd3786"
             ],
             [
              0.5555555555555556,
              "#d8576b"
             ],
             [
              0.6666666666666666,
              "#ed7953"
             ],
             [
              0.7777777777777778,
              "#fb9f3a"
             ],
             [
              0.8888888888888888,
              "#fdca26"
             ],
             [
              1,
              "#f0f921"
             ]
            ],
            "type": "histogram2dcontour"
           }
          ],
          "mesh3d": [
           {
            "colorbar": {
             "outlinewidth": 0,
             "ticks": ""
            },
            "type": "mesh3d"
           }
          ],
          "parcoords": [
           {
            "line": {
             "colorbar": {
              "outlinewidth": 0,
              "ticks": ""
             }
            },
            "type": "parcoords"
           }
          ],
          "pie": [
           {
            "automargin": true,
            "type": "pie"
           }
          ],
          "scatter": [
           {
            "fillpattern": {
             "fillmode": "overlay",
             "size": 10,
             "solidity": 0.2
            },
            "type": "scatter"
           }
          ],
          "scatter3d": [
           {
            "line": {
             "colorbar": {
              "outlinewidth": 0,
              "ticks": ""
             }
            },
            "marker": {
             "colorbar": {
              "outlinewidth": 0,
              "ticks": ""
             }
            },
            "type": "scatter3d"
           }
          ],
          "scattercarpet": [
           {
            "marker": {
             "colorbar": {
              "outlinewidth": 0,
              "ticks": ""
             }
            },
            "type": "scattercarpet"
           }
          ],
          "scattergeo": [
           {
            "marker": {
             "colorbar": {
              "outlinewidth": 0,
              "ticks": ""
             }
            },
            "type": "scattergeo"
           }
          ],
          "scattergl": [
           {
            "marker": {
             "colorbar": {
              "outlinewidth": 0,
              "ticks": ""
             }
            },
            "type": "scattergl"
           }
          ],
          "scattermapbox": [
           {
            "marker": {
             "colorbar": {
              "outlinewidth": 0,
              "ticks": ""
             }
            },
            "type": "scattermapbox"
           }
          ],
          "scatterpolar": [
           {
            "marker": {
             "colorbar": {
              "outlinewidth": 0,
              "ticks": ""
             }
            },
            "type": "scatterpolar"
           }
          ],
          "scatterpolargl": [
           {
            "marker": {
             "colorbar": {
              "outlinewidth": 0,
              "ticks": ""
             }
            },
            "type": "scatterpolargl"
           }
          ],
          "scatterternary": [
           {
            "marker": {
             "colorbar": {
              "outlinewidth": 0,
              "ticks": ""
             }
            },
            "type": "scatterternary"
           }
          ],
          "surface": [
           {
            "colorbar": {
             "outlinewidth": 0,
             "ticks": ""
            },
            "colorscale": [
             [
              0,
              "#0d0887"
             ],
             [
              0.1111111111111111,
              "#46039f"
             ],
             [
              0.2222222222222222,
              "#7201a8"
             ],
             [
              0.3333333333333333,
              "#9c179e"
             ],
             [
              0.4444444444444444,
              "#bd3786"
             ],
             [
              0.5555555555555556,
              "#d8576b"
             ],
             [
              0.6666666666666666,
              "#ed7953"
             ],
             [
              0.7777777777777778,
              "#fb9f3a"
             ],
             [
              0.8888888888888888,
              "#fdca26"
             ],
             [
              1,
              "#f0f921"
             ]
            ],
            "type": "surface"
           }
          ],
          "table": [
           {
            "cells": {
             "fill": {
              "color": "#EBF0F8"
             },
             "line": {
              "color": "white"
             }
            },
            "header": {
             "fill": {
              "color": "#C8D4E3"
             },
             "line": {
              "color": "white"
             }
            },
            "type": "table"
           }
          ]
         },
         "layout": {
          "annotationdefaults": {
           "arrowcolor": "#2a3f5f",
           "arrowhead": 0,
           "arrowwidth": 1
          },
          "autotypenumbers": "strict",
          "coloraxis": {
           "colorbar": {
            "outlinewidth": 0,
            "ticks": ""
           }
          },
          "colorscale": {
           "diverging": [
            [
             0,
             "#8e0152"
            ],
            [
             0.1,
             "#c51b7d"
            ],
            [
             0.2,
             "#de77ae"
            ],
            [
             0.3,
             "#f1b6da"
            ],
            [
             0.4,
             "#fde0ef"
            ],
            [
             0.5,
             "#f7f7f7"
            ],
            [
             0.6,
             "#e6f5d0"
            ],
            [
             0.7,
             "#b8e186"
            ],
            [
             0.8,
             "#7fbc41"
            ],
            [
             0.9,
             "#4d9221"
            ],
            [
             1,
             "#276419"
            ]
           ],
           "sequential": [
            [
             0,
             "#0d0887"
            ],
            [
             0.1111111111111111,
             "#46039f"
            ],
            [
             0.2222222222222222,
             "#7201a8"
            ],
            [
             0.3333333333333333,
             "#9c179e"
            ],
            [
             0.4444444444444444,
             "#bd3786"
            ],
            [
             0.5555555555555556,
             "#d8576b"
            ],
            [
             0.6666666666666666,
             "#ed7953"
            ],
            [
             0.7777777777777778,
             "#fb9f3a"
            ],
            [
             0.8888888888888888,
             "#fdca26"
            ],
            [
             1,
             "#f0f921"
            ]
           ],
           "sequentialminus": [
            [
             0,
             "#0d0887"
            ],
            [
             0.1111111111111111,
             "#46039f"
            ],
            [
             0.2222222222222222,
             "#7201a8"
            ],
            [
             0.3333333333333333,
             "#9c179e"
            ],
            [
             0.4444444444444444,
             "#bd3786"
            ],
            [
             0.5555555555555556,
             "#d8576b"
            ],
            [
             0.6666666666666666,
             "#ed7953"
            ],
            [
             0.7777777777777778,
             "#fb9f3a"
            ],
            [
             0.8888888888888888,
             "#fdca26"
            ],
            [
             1,
             "#f0f921"
            ]
           ]
          },
          "colorway": [
           "#636efa",
           "#EF553B",
           "#00cc96",
           "#ab63fa",
           "#FFA15A",
           "#19d3f3",
           "#FF6692",
           "#B6E880",
           "#FF97FF",
           "#FECB52"
          ],
          "font": {
           "color": "#2a3f5f"
          },
          "geo": {
           "bgcolor": "white",
           "lakecolor": "white",
           "landcolor": "#E5ECF6",
           "showlakes": true,
           "showland": true,
           "subunitcolor": "white"
          },
          "hoverlabel": {
           "align": "left"
          },
          "hovermode": "closest",
          "mapbox": {
           "style": "light"
          },
          "paper_bgcolor": "white",
          "plot_bgcolor": "#E5ECF6",
          "polar": {
           "angularaxis": {
            "gridcolor": "white",
            "linecolor": "white",
            "ticks": ""
           },
           "bgcolor": "#E5ECF6",
           "radialaxis": {
            "gridcolor": "white",
            "linecolor": "white",
            "ticks": ""
           }
          },
          "scene": {
           "xaxis": {
            "backgroundcolor": "#E5ECF6",
            "gridcolor": "white",
            "gridwidth": 2,
            "linecolor": "white",
            "showbackground": true,
            "ticks": "",
            "zerolinecolor": "white"
           },
           "yaxis": {
            "backgroundcolor": "#E5ECF6",
            "gridcolor": "white",
            "gridwidth": 2,
            "linecolor": "white",
            "showbackground": true,
            "ticks": "",
            "zerolinecolor": "white"
           },
           "zaxis": {
            "backgroundcolor": "#E5ECF6",
            "gridcolor": "white",
            "gridwidth": 2,
            "linecolor": "white",
            "showbackground": true,
            "ticks": "",
            "zerolinecolor": "white"
           }
          },
          "shapedefaults": {
           "line": {
            "color": "#2a3f5f"
           }
          },
          "ternary": {
           "aaxis": {
            "gridcolor": "white",
            "linecolor": "white",
            "ticks": ""
           },
           "baxis": {
            "gridcolor": "white",
            "linecolor": "white",
            "ticks": ""
           },
           "bgcolor": "#E5ECF6",
           "caxis": {
            "gridcolor": "white",
            "linecolor": "white",
            "ticks": ""
           }
          },
          "title": {
           "x": 0.05
          },
          "xaxis": {
           "automargin": true,
           "gridcolor": "white",
           "linecolor": "white",
           "ticks": "",
           "title": {
            "standoff": 15
           },
           "zerolinecolor": "white",
           "zerolinewidth": 2
          },
          "yaxis": {
           "automargin": true,
           "gridcolor": "white",
           "linecolor": "white",
           "ticks": "",
           "title": {
            "standoff": 15
           },
           "zerolinecolor": "white",
           "zerolinewidth": 2
          }
         }
        },
        "xaxis": {
         "anchor": "y",
         "domain": [
          0,
          1
         ],
         "title": {
          "text": "score"
         }
        },
        "yaxis": {
         "anchor": "x",
         "domain": [
          0,
          1
         ],
         "title": {
          "text": "count"
         }
        }
       }
      }
     },
     "metadata": {},
     "output_type": "display_data"
    }
   ],
   "source": [
    "plot_categorical_metrics(dfs, table_names, categorical_metrics)"
   ]
  },
  {
   "cell_type": "code",
   "execution_count": 11,
   "metadata": {},
   "outputs": [],
   "source": [
    "def plot_ragas_violin_metrics(dfs, table_names, metric_cols):\n",
    "    for metric in metric_cols:\n",
    "        metrics_df = table_metrics(\n",
    "            dfs, table_names, [metric], metric_prefix=\"Ragas \"\n",
    "        )\n",
    "\n",
    "        fig = px.violin(\n",
    "            metrics_df,\n",
    "            x=\"score\",\n",
    "            y=\"model\",\n",
    "            color=\"model\",\n",
    "            box=True,\n",
    "            points=\"all\",\n",
    "            orientation=\"h\",\n",
    "        )\n",
    "        metric_name = metrics_df.iloc[0][\"metric\"]\n",
    "        # fig.update_layout(title_text=metric_name, title_x=0.5)\n",
    "        fig.update_xaxes(\n",
    "            tickangle=0\n",
    "        )  # update x-axis labels to vertical orientation\n",
    "        score_plot = wandb.Plotly(fig)\n",
    "        run.log({f\"{metric_name} ViolinPlot\": score_plot})\n",
    "        fig.show()"
   ]
  },
  {
   "cell_type": "code",
   "execution_count": 12,
   "metadata": {},
   "outputs": [
    {
     "data": {
      "application/vnd.plotly.v1+json": {
       "config": {
        "plotlyServerURL": "https://plot.ly"
       },
       "data": [
        {
         "alignmentgroup": "True",
         "box": {
          "visible": true
         },
         "hovertemplate": "model=%{y}<br>score=%{x}<extra></extra>",
         "legendgroup": "gpt-4-0613",
         "marker": {
          "color": "#636efa"
         },
         "name": "gpt-4-0613",
         "offsetgroup": "gpt-4-0613",
         "orientation": "h",
         "points": "all",
         "scalegroup": "True",
         "showlegend": true,
         "type": "violin",
         "x": [
          0.39343307287210505,
          0.313877097756802,
          0.251606842909852,
          0.333620177794889,
          0.29380225212105804,
          0.358949576290923,
          0.39800104553168203,
          0.286689521066018,
          0.287877903424873,
          0.9357287030230721,
          0.29134048827020104,
          0.36702663665696506,
          0.33247254559028805,
          0.414782760925816,
          0.46814386988563805,
          0.16494416177569102,
          0.16793713197863103,
          0.33006342568795805,
          0.359980811950245,
          0.350171182071566,
          0.32162561386575905,
          0.47537563688525203,
          0.318336345272472,
          0.177762202157724,
          0.41487178423868604,
          0.17088104503141502,
          0.7828658329923941,
          0.49531851915706204,
          0.259680868153697,
          0.553632179739318,
          0.51536458866207,
          0.35807082639187804,
          0.175940364087241,
          0.175796765630191,
          0.316845715617436,
          0.30157059728793,
          0.336180304631479,
          0.182679544085722,
          0.43886679001342804,
          0.339869639121723,
          0.41926829103850105,
          0.255920696875483,
          0.179879398603588,
          0.315215341026301,
          0.7807762142385181,
          0.43873546542225306,
          0.362132156043026,
          0.36191250736970204,
          0.46863026528990304,
          0.42058155155706406,
          0.538039524235699,
          0.29570837357491203,
          0.49754403923556706,
          0.185630104582222,
          0.180833868637852,
          0.5622158247311521,
          0.42032288775563703,
          0.7173095567745731,
          0.508799362687694,
          0.17579170513861703,
          0.350946777706025,
          0.17206682872089402,
          0.323979191365283,
          0.45160939181353005,
          0.38504048063531804,
          0.31855684135343604,
          0.47689487754869403,
          0.169171791824643,
          0.49643923338203305,
          0.329895322962713,
          0.32918174850241905,
          0.281435877438496,
          0.38284839303663204,
          0.467955057870492,
          0.176808603916598,
          0.254428324471961,
          0.17427665960038102,
          0.42317074856220205,
          0.18395472842523203,
          0.172632666429684,
          0.18087639523006602,
          0.274600749441411,
          0.333905861594857,
          0.38111196330539304,
          0.72984446308566,
          0.17684611975924103,
          0.182012179050757,
          0.17169753397040402,
          0.17922947205143802,
          0.178386687757624,
          0.552424516975875,
          0.30676462483385003,
          0.41970191613592506,
          0.18335950230664103,
          0.8704173414221521,
          0.17199095814533102,
          0.9328627699151371,
          0.23932682238305802
         ],
         "x0": " ",
         "xaxis": "x",
         "y": [
          "gpt-4-0613",
          "gpt-4-0613",
          "gpt-4-0613",
          "gpt-4-0613",
          "gpt-4-0613",
          "gpt-4-0613",
          "gpt-4-0613",
          "gpt-4-0613",
          "gpt-4-0613",
          "gpt-4-0613",
          "gpt-4-0613",
          "gpt-4-0613",
          "gpt-4-0613",
          "gpt-4-0613",
          "gpt-4-0613",
          "gpt-4-0613",
          "gpt-4-0613",
          "gpt-4-0613",
          "gpt-4-0613",
          "gpt-4-0613",
          "gpt-4-0613",
          "gpt-4-0613",
          "gpt-4-0613",
          "gpt-4-0613",
          "gpt-4-0613",
          "gpt-4-0613",
          "gpt-4-0613",
          "gpt-4-0613",
          "gpt-4-0613",
          "gpt-4-0613",
          "gpt-4-0613",
          "gpt-4-0613",
          "gpt-4-0613",
          "gpt-4-0613",
          "gpt-4-0613",
          "gpt-4-0613",
          "gpt-4-0613",
          "gpt-4-0613",
          "gpt-4-0613",
          "gpt-4-0613",
          "gpt-4-0613",
          "gpt-4-0613",
          "gpt-4-0613",
          "gpt-4-0613",
          "gpt-4-0613",
          "gpt-4-0613",
          "gpt-4-0613",
          "gpt-4-0613",
          "gpt-4-0613",
          "gpt-4-0613",
          "gpt-4-0613",
          "gpt-4-0613",
          "gpt-4-0613",
          "gpt-4-0613",
          "gpt-4-0613",
          "gpt-4-0613",
          "gpt-4-0613",
          "gpt-4-0613",
          "gpt-4-0613",
          "gpt-4-0613",
          "gpt-4-0613",
          "gpt-4-0613",
          "gpt-4-0613",
          "gpt-4-0613",
          "gpt-4-0613",
          "gpt-4-0613",
          "gpt-4-0613",
          "gpt-4-0613",
          "gpt-4-0613",
          "gpt-4-0613",
          "gpt-4-0613",
          "gpt-4-0613",
          "gpt-4-0613",
          "gpt-4-0613",
          "gpt-4-0613",
          "gpt-4-0613",
          "gpt-4-0613",
          "gpt-4-0613",
          "gpt-4-0613",
          "gpt-4-0613",
          "gpt-4-0613",
          "gpt-4-0613",
          "gpt-4-0613",
          "gpt-4-0613",
          "gpt-4-0613",
          "gpt-4-0613",
          "gpt-4-0613",
          "gpt-4-0613",
          "gpt-4-0613",
          "gpt-4-0613",
          "gpt-4-0613",
          "gpt-4-0613",
          "gpt-4-0613",
          "gpt-4-0613",
          "gpt-4-0613",
          "gpt-4-0613",
          "gpt-4-0613",
          "gpt-4-0613"
         ],
         "y0": " ",
         "yaxis": "y"
        },
        {
         "alignmentgroup": "True",
         "box": {
          "visible": true
         },
         "hovertemplate": "model=%{y}<br>score=%{x}<extra></extra>",
         "legendgroup": "gpt-3.5-turbo-16k-0613",
         "marker": {
          "color": "#EF553B"
         },
         "name": "gpt-3.5-turbo-16k-0613",
         "offsetgroup": "gpt-3.5-turbo-16k-0613",
         "orientation": "h",
         "points": "all",
         "scalegroup": "True",
         "showlegend": true,
         "type": "violin",
         "x": [
          0.39300336637237404,
          0.243949469170943,
          0.926001410595747,
          0.336559242928198,
          0.91682368180129,
          0.177609107552494,
          0.39758080055717504,
          0.16729948530848401,
          0.33744683302683304,
          0.302706288864559,
          0.37316389423314406,
          0.508082972223852,
          0.18146237070218102,
          0.541144320998284,
          0.42585545779642503,
          0.17510009647354802,
          0.16806325984001702,
          0.30698792473087805,
          0.342750627601805,
          0.256204764807323,
          0.537625716721426,
          0.7364716111863461,
          0.277590760637743,
          0.17942123725876602,
          0.5654714235961721,
          0.457603977475645,
          0.5896381645822001,
          0.505416146841291,
          0.164619042349216,
          0.679697806020625,
          0.17860624819054902,
          0.42344344848013105,
          0.9215749360435961,
          0.17175759727438,
          0.28423005977991,
          0.49880357754661003,
          0.31972097938916205,
          0.169428764850859,
          0.349123978676996,
          0.674841449509004,
          0.46550899449415206,
          0.25866613294088603,
          0.31995725140067804,
          0.37834920219379703,
          0.348965991895468,
          0.289803439021356,
          0.92244916308081,
          0.358854467386779,
          0.17419451023596003,
          0.41896333416400106,
          0.28611188779435404,
          0.36681759606492104,
          0.29827859033582205,
          0.7920711510573961,
          0.17882944836264603,
          0.9356293472305941,
          0.9246258528180531,
          0.6674331332266611,
          0.550078702823512,
          0.358906809834974,
          0.18248031802866002,
          0.17213399028575002,
          0.358339816509723,
          0.24852588822522803,
          0.364207128953547,
          0.318609175056007,
          0.48149947753104205,
          0.916548152658155,
          0.16455027206102102,
          0.293753466402676,
          0.16247829412377002,
          0.16326922765374202,
          0.32255740818043604,
          0.41335656154584605,
          0.17855090221015701,
          0.256514403113322,
          0.9157342129087981,
          0.31406199125730505,
          0.281708306835718,
          0.543808307657984,
          0.5555840420365731,
          0.16631282674505202,
          0.329253973219646,
          0.339552199945226,
          0.49622701948373205,
          0.17127143457976501,
          0.9319537614891961,
          0.36399502779416604,
          0.176202185121236,
          0.38994767629006105,
          0.48215478326373906,
          0.43546349426506703,
          0.35394589737165105,
          0.18220630447938901,
          0.34158083587771604,
          0.389023839563629,
          0.9322431595975661,
          0.9180222357333551
         ],
         "x0": " ",
         "xaxis": "x",
         "y": [
          "gpt-3.5-turbo-16k-0613",
          "gpt-3.5-turbo-16k-0613",
          "gpt-3.5-turbo-16k-0613",
          "gpt-3.5-turbo-16k-0613",
          "gpt-3.5-turbo-16k-0613",
          "gpt-3.5-turbo-16k-0613",
          "gpt-3.5-turbo-16k-0613",
          "gpt-3.5-turbo-16k-0613",
          "gpt-3.5-turbo-16k-0613",
          "gpt-3.5-turbo-16k-0613",
          "gpt-3.5-turbo-16k-0613",
          "gpt-3.5-turbo-16k-0613",
          "gpt-3.5-turbo-16k-0613",
          "gpt-3.5-turbo-16k-0613",
          "gpt-3.5-turbo-16k-0613",
          "gpt-3.5-turbo-16k-0613",
          "gpt-3.5-turbo-16k-0613",
          "gpt-3.5-turbo-16k-0613",
          "gpt-3.5-turbo-16k-0613",
          "gpt-3.5-turbo-16k-0613",
          "gpt-3.5-turbo-16k-0613",
          "gpt-3.5-turbo-16k-0613",
          "gpt-3.5-turbo-16k-0613",
          "gpt-3.5-turbo-16k-0613",
          "gpt-3.5-turbo-16k-0613",
          "gpt-3.5-turbo-16k-0613",
          "gpt-3.5-turbo-16k-0613",
          "gpt-3.5-turbo-16k-0613",
          "gpt-3.5-turbo-16k-0613",
          "gpt-3.5-turbo-16k-0613",
          "gpt-3.5-turbo-16k-0613",
          "gpt-3.5-turbo-16k-0613",
          "gpt-3.5-turbo-16k-0613",
          "gpt-3.5-turbo-16k-0613",
          "gpt-3.5-turbo-16k-0613",
          "gpt-3.5-turbo-16k-0613",
          "gpt-3.5-turbo-16k-0613",
          "gpt-3.5-turbo-16k-0613",
          "gpt-3.5-turbo-16k-0613",
          "gpt-3.5-turbo-16k-0613",
          "gpt-3.5-turbo-16k-0613",
          "gpt-3.5-turbo-16k-0613",
          "gpt-3.5-turbo-16k-0613",
          "gpt-3.5-turbo-16k-0613",
          "gpt-3.5-turbo-16k-0613",
          "gpt-3.5-turbo-16k-0613",
          "gpt-3.5-turbo-16k-0613",
          "gpt-3.5-turbo-16k-0613",
          "gpt-3.5-turbo-16k-0613",
          "gpt-3.5-turbo-16k-0613",
          "gpt-3.5-turbo-16k-0613",
          "gpt-3.5-turbo-16k-0613",
          "gpt-3.5-turbo-16k-0613",
          "gpt-3.5-turbo-16k-0613",
          "gpt-3.5-turbo-16k-0613",
          "gpt-3.5-turbo-16k-0613",
          "gpt-3.5-turbo-16k-0613",
          "gpt-3.5-turbo-16k-0613",
          "gpt-3.5-turbo-16k-0613",
          "gpt-3.5-turbo-16k-0613",
          "gpt-3.5-turbo-16k-0613",
          "gpt-3.5-turbo-16k-0613",
          "gpt-3.5-turbo-16k-0613",
          "gpt-3.5-turbo-16k-0613",
          "gpt-3.5-turbo-16k-0613",
          "gpt-3.5-turbo-16k-0613",
          "gpt-3.5-turbo-16k-0613",
          "gpt-3.5-turbo-16k-0613",
          "gpt-3.5-turbo-16k-0613",
          "gpt-3.5-turbo-16k-0613",
          "gpt-3.5-turbo-16k-0613",
          "gpt-3.5-turbo-16k-0613",
          "gpt-3.5-turbo-16k-0613",
          "gpt-3.5-turbo-16k-0613",
          "gpt-3.5-turbo-16k-0613",
          "gpt-3.5-turbo-16k-0613",
          "gpt-3.5-turbo-16k-0613",
          "gpt-3.5-turbo-16k-0613",
          "gpt-3.5-turbo-16k-0613",
          "gpt-3.5-turbo-16k-0613",
          "gpt-3.5-turbo-16k-0613",
          "gpt-3.5-turbo-16k-0613",
          "gpt-3.5-turbo-16k-0613",
          "gpt-3.5-turbo-16k-0613",
          "gpt-3.5-turbo-16k-0613",
          "gpt-3.5-turbo-16k-0613",
          "gpt-3.5-turbo-16k-0613",
          "gpt-3.5-turbo-16k-0613",
          "gpt-3.5-turbo-16k-0613",
          "gpt-3.5-turbo-16k-0613",
          "gpt-3.5-turbo-16k-0613",
          "gpt-3.5-turbo-16k-0613",
          "gpt-3.5-turbo-16k-0613",
          "gpt-3.5-turbo-16k-0613",
          "gpt-3.5-turbo-16k-0613",
          "gpt-3.5-turbo-16k-0613",
          "gpt-3.5-turbo-16k-0613",
          "gpt-3.5-turbo-16k-0613"
         ],
         "y0": " ",
         "yaxis": "y"
        },
        {
         "alignmentgroup": "True",
         "box": {
          "visible": true
         },
         "hovertemplate": "model=%{y}<br>score=%{x}<extra></extra>",
         "legendgroup": "gpt-4-1106-preview",
         "marker": {
          "color": "#00cc96"
         },
         "name": "gpt-4-1106-preview",
         "offsetgroup": "gpt-4-1106-preview",
         "orientation": "h",
         "points": "all",
         "scalegroup": "True",
         "showlegend": true,
         "type": "violin",
         "x": [
          0.24413090965849502,
          0.39899722966320705,
          0.275114012627299,
          0.282663170538272,
          0.34267855045774304,
          0.17302074690184802,
          0.290837998820187,
          0.707137178271203,
          0.259184632873016,
          0.276535703008911,
          0.464693226332886,
          0.31510644441984104,
          0.181701219537506,
          0.27186358613302103,
          0.17362814396999401,
          0.305767218434491,
          0.17017705297285501,
          0.271519635551884,
          0.37568364845746705,
          0.31899283716105803,
          0.40639987487712803,
          0.1737836379014,
          0.38955494805503504,
          0.29964196537249105,
          0.165493575526365,
          0.31525805423827,
          0.18035549185122202,
          0.288785872207095,
          0.23500733610352803,
          0.36164153547138805,
          0.180969546965561,
          0.277728674202711,
          0.74897883452552,
          0.39953983522295206,
          0.163807229969358,
          0.288692945263939,
          0.282897324715399,
          0.16871287485285402,
          0.31123501007779103,
          0.171598549000708,
          0.266521643106066,
          0.43525568384309804,
          0.31710627413546605,
          0.616544343681767,
          0.9337327187768051,
          0.167225642127063,
          0.91979732571862,
          0.25662777653803004,
          0.41381116442765203,
          0.168885925523168,
          0.46017525115776603,
          0.599332729860791,
          0.635198378933113,
          0.29148754468583205,
          0.17861179244580203,
          0.7105682348608101,
          0.173533766217456,
          0.813688593593157,
          0.284710824007169,
          0.42092986789837306,
          0.300644431811164,
          0.17031666904644302,
          0.28776708793475203,
          0.30149475606757903,
          0,
          0.353035661487263,
          0.320139909615587,
          0.16535149155783502,
          0.164064202242783,
          0.16632516389787602,
          0.16352878716101302,
          0.519902851684344,
          0.308774746568905,
          0.33209528992894305,
          0.6792127510930951,
          0.22923237305962002,
          0.16602713239758501,
          0.850144439301855,
          0.464068119043525,
          0.17064328435422702,
          0.182649564564582,
          0.304234251210561,
          0.28184208015718404,
          0.27856868715390004,
          0.180471496736094,
          0.171312572545766,
          0.482087901102474,
          0.176412875399647,
          0.17538350691349303,
          0.17900376824048903,
          0.430821215740238,
          0.37717716720784306,
          0.16753296325720002,
          0.368316780841191,
          0.941777932715788,
          0.304261922692316,
          0.47869657240717806,
          0.21694087310192903
         ],
         "x0": " ",
         "xaxis": "x",
         "y": [
          "gpt-4-1106-preview",
          "gpt-4-1106-preview",
          "gpt-4-1106-preview",
          "gpt-4-1106-preview",
          "gpt-4-1106-preview",
          "gpt-4-1106-preview",
          "gpt-4-1106-preview",
          "gpt-4-1106-preview",
          "gpt-4-1106-preview",
          "gpt-4-1106-preview",
          "gpt-4-1106-preview",
          "gpt-4-1106-preview",
          "gpt-4-1106-preview",
          "gpt-4-1106-preview",
          "gpt-4-1106-preview",
          "gpt-4-1106-preview",
          "gpt-4-1106-preview",
          "gpt-4-1106-preview",
          "gpt-4-1106-preview",
          "gpt-4-1106-preview",
          "gpt-4-1106-preview",
          "gpt-4-1106-preview",
          "gpt-4-1106-preview",
          "gpt-4-1106-preview",
          "gpt-4-1106-preview",
          "gpt-4-1106-preview",
          "gpt-4-1106-preview",
          "gpt-4-1106-preview",
          "gpt-4-1106-preview",
          "gpt-4-1106-preview",
          "gpt-4-1106-preview",
          "gpt-4-1106-preview",
          "gpt-4-1106-preview",
          "gpt-4-1106-preview",
          "gpt-4-1106-preview",
          "gpt-4-1106-preview",
          "gpt-4-1106-preview",
          "gpt-4-1106-preview",
          "gpt-4-1106-preview",
          "gpt-4-1106-preview",
          "gpt-4-1106-preview",
          "gpt-4-1106-preview",
          "gpt-4-1106-preview",
          "gpt-4-1106-preview",
          "gpt-4-1106-preview",
          "gpt-4-1106-preview",
          "gpt-4-1106-preview",
          "gpt-4-1106-preview",
          "gpt-4-1106-preview",
          "gpt-4-1106-preview",
          "gpt-4-1106-preview",
          "gpt-4-1106-preview",
          "gpt-4-1106-preview",
          "gpt-4-1106-preview",
          "gpt-4-1106-preview",
          "gpt-4-1106-preview",
          "gpt-4-1106-preview",
          "gpt-4-1106-preview",
          "gpt-4-1106-preview",
          "gpt-4-1106-preview",
          "gpt-4-1106-preview",
          "gpt-4-1106-preview",
          "gpt-4-1106-preview",
          "gpt-4-1106-preview",
          "gpt-4-1106-preview",
          "gpt-4-1106-preview",
          "gpt-4-1106-preview",
          "gpt-4-1106-preview",
          "gpt-4-1106-preview",
          "gpt-4-1106-preview",
          "gpt-4-1106-preview",
          "gpt-4-1106-preview",
          "gpt-4-1106-preview",
          "gpt-4-1106-preview",
          "gpt-4-1106-preview",
          "gpt-4-1106-preview",
          "gpt-4-1106-preview",
          "gpt-4-1106-preview",
          "gpt-4-1106-preview",
          "gpt-4-1106-preview",
          "gpt-4-1106-preview",
          "gpt-4-1106-preview",
          "gpt-4-1106-preview",
          "gpt-4-1106-preview",
          "gpt-4-1106-preview",
          "gpt-4-1106-preview",
          "gpt-4-1106-preview",
          "gpt-4-1106-preview",
          "gpt-4-1106-preview",
          "gpt-4-1106-preview",
          "gpt-4-1106-preview",
          "gpt-4-1106-preview",
          "gpt-4-1106-preview",
          "gpt-4-1106-preview",
          "gpt-4-1106-preview",
          "gpt-4-1106-preview",
          "gpt-4-1106-preview",
          "gpt-4-1106-preview"
         ],
         "y0": " ",
         "yaxis": "y"
        },
        {
         "alignmentgroup": "True",
         "box": {
          "visible": true
         },
         "hovertemplate": "model=%{y}<br>score=%{x}<extra></extra>",
         "legendgroup": "gpt-4-1106-preview-v1.1",
         "marker": {
          "color": "#ab63fa"
         },
         "name": "gpt-4-1106-preview-v1.1",
         "offsetgroup": "gpt-4-1106-preview-v1.1",
         "orientation": "h",
         "points": "all",
         "scalegroup": "True",
         "showlegend": true,
         "type": "violin",
         "x": [
          0.32340602047857403,
          0.36369172342988904,
          0.31780563450069005,
          0.27350778123130604,
          0.270706494553737,
          0.17058655014960802,
          0.9117222810285011,
          0.16760930238377802,
          0.272649801714068,
          0.414429297505278,
          0.39528512614372,
          0.326465817510778,
          0.216510432717145,
          0.27104571836733105,
          0.25528648173629803,
          0.167015749094431,
          0.16669858456639,
          0.222771515288672,
          0.250238371875422,
          0.26601687166611504,
          0.246537173974709,
          0.17060865193364502,
          0.308361290722919,
          0.42138851578003206,
          0.244491882164412,
          0.26810834457126104,
          0.432503607241608,
          0.329962174943972,
          0.210234211383547,
          0.334596648481572,
          0.39521082555337905,
          0.304150348995861,
          0.32217707485622205,
          0.467379124460065,
          0.274710994089158,
          0.286789425260488,
          0.281352868239927,
          0.16949326226438602,
          0.43526389149326805,
          0.166174718537866,
          0.315589915771232,
          0.33959126430972203,
          0.364150790518659,
          0.37994758294270203,
          0.382214013143925,
          0.23451058906829103,
          0.24628461539123303,
          0.35086371553620704,
          0.462766728868063,
          0.46863324453803806,
          0.324050212234867,
          0.260535118890169,
          0.176080424896185,
          0.29457331378982504,
          0.364035667461152,
          0.456972416037191,
          0.168704625763959,
          0.563499421662321,
          0.40682175821964306,
          0.354347509051044,
          0.269569426970151,
          0.16762398001321102,
          0.24592638579255702,
          0.325535509460954,
          0.344214383148284,
          0.19935118678664301,
          0.23575187966990502,
          0.315740230472806,
          0.48928498760354505,
          0.16000349107224301,
          0.5920647594589881,
          0.15997116341689002,
          0.39928082898613104,
          0.30022386907692,
          0.606455794253946,
          0.8580445926726811,
          0.28024865718477404,
          0.5345266815754081,
          0.180115486230531,
          0.166753594245788,
          0.17122668539326702,
          0.303697647900669,
          0.42501519268814303,
          0.39295731851055105,
          0.17859590704779102,
          0.16588315719850202,
          0.273003559368354,
          0.363074804829628,
          0.9211303831256901,
          0.249247078867698,
          0.34133487393209805,
          0.31137064796713704,
          0.282430756066718,
          0.340520730406072,
          0.269721918677508,
          0.303014865968174,
          0.38527099712942103,
          0.20216529808476702
         ],
         "x0": " ",
         "xaxis": "x",
         "y": [
          "gpt-4-1106-preview-v1.1",
          "gpt-4-1106-preview-v1.1",
          "gpt-4-1106-preview-v1.1",
          "gpt-4-1106-preview-v1.1",
          "gpt-4-1106-preview-v1.1",
          "gpt-4-1106-preview-v1.1",
          "gpt-4-1106-preview-v1.1",
          "gpt-4-1106-preview-v1.1",
          "gpt-4-1106-preview-v1.1",
          "gpt-4-1106-preview-v1.1",
          "gpt-4-1106-preview-v1.1",
          "gpt-4-1106-preview-v1.1",
          "gpt-4-1106-preview-v1.1",
          "gpt-4-1106-preview-v1.1",
          "gpt-4-1106-preview-v1.1",
          "gpt-4-1106-preview-v1.1",
          "gpt-4-1106-preview-v1.1",
          "gpt-4-1106-preview-v1.1",
          "gpt-4-1106-preview-v1.1",
          "gpt-4-1106-preview-v1.1",
          "gpt-4-1106-preview-v1.1",
          "gpt-4-1106-preview-v1.1",
          "gpt-4-1106-preview-v1.1",
          "gpt-4-1106-preview-v1.1",
          "gpt-4-1106-preview-v1.1",
          "gpt-4-1106-preview-v1.1",
          "gpt-4-1106-preview-v1.1",
          "gpt-4-1106-preview-v1.1",
          "gpt-4-1106-preview-v1.1",
          "gpt-4-1106-preview-v1.1",
          "gpt-4-1106-preview-v1.1",
          "gpt-4-1106-preview-v1.1",
          "gpt-4-1106-preview-v1.1",
          "gpt-4-1106-preview-v1.1",
          "gpt-4-1106-preview-v1.1",
          "gpt-4-1106-preview-v1.1",
          "gpt-4-1106-preview-v1.1",
          "gpt-4-1106-preview-v1.1",
          "gpt-4-1106-preview-v1.1",
          "gpt-4-1106-preview-v1.1",
          "gpt-4-1106-preview-v1.1",
          "gpt-4-1106-preview-v1.1",
          "gpt-4-1106-preview-v1.1",
          "gpt-4-1106-preview-v1.1",
          "gpt-4-1106-preview-v1.1",
          "gpt-4-1106-preview-v1.1",
          "gpt-4-1106-preview-v1.1",
          "gpt-4-1106-preview-v1.1",
          "gpt-4-1106-preview-v1.1",
          "gpt-4-1106-preview-v1.1",
          "gpt-4-1106-preview-v1.1",
          "gpt-4-1106-preview-v1.1",
          "gpt-4-1106-preview-v1.1",
          "gpt-4-1106-preview-v1.1",
          "gpt-4-1106-preview-v1.1",
          "gpt-4-1106-preview-v1.1",
          "gpt-4-1106-preview-v1.1",
          "gpt-4-1106-preview-v1.1",
          "gpt-4-1106-preview-v1.1",
          "gpt-4-1106-preview-v1.1",
          "gpt-4-1106-preview-v1.1",
          "gpt-4-1106-preview-v1.1",
          "gpt-4-1106-preview-v1.1",
          "gpt-4-1106-preview-v1.1",
          "gpt-4-1106-preview-v1.1",
          "gpt-4-1106-preview-v1.1",
          "gpt-4-1106-preview-v1.1",
          "gpt-4-1106-preview-v1.1",
          "gpt-4-1106-preview-v1.1",
          "gpt-4-1106-preview-v1.1",
          "gpt-4-1106-preview-v1.1",
          "gpt-4-1106-preview-v1.1",
          "gpt-4-1106-preview-v1.1",
          "gpt-4-1106-preview-v1.1",
          "gpt-4-1106-preview-v1.1",
          "gpt-4-1106-preview-v1.1",
          "gpt-4-1106-preview-v1.1",
          "gpt-4-1106-preview-v1.1",
          "gpt-4-1106-preview-v1.1",
          "gpt-4-1106-preview-v1.1",
          "gpt-4-1106-preview-v1.1",
          "gpt-4-1106-preview-v1.1",
          "gpt-4-1106-preview-v1.1",
          "gpt-4-1106-preview-v1.1",
          "gpt-4-1106-preview-v1.1",
          "gpt-4-1106-preview-v1.1",
          "gpt-4-1106-preview-v1.1",
          "gpt-4-1106-preview-v1.1",
          "gpt-4-1106-preview-v1.1",
          "gpt-4-1106-preview-v1.1",
          "gpt-4-1106-preview-v1.1",
          "gpt-4-1106-preview-v1.1",
          "gpt-4-1106-preview-v1.1",
          "gpt-4-1106-preview-v1.1",
          "gpt-4-1106-preview-v1.1",
          "gpt-4-1106-preview-v1.1",
          "gpt-4-1106-preview-v1.1",
          "gpt-4-1106-preview-v1.1"
         ],
         "y0": " ",
         "yaxis": "y"
        }
       ],
       "layout": {
        "legend": {
         "title": {
          "text": "model"
         },
         "tracegroupgap": 0
        },
        "margin": {
         "t": 60
        },
        "template": {
         "data": {
          "bar": [
           {
            "error_x": {
             "color": "#2a3f5f"
            },
            "error_y": {
             "color": "#2a3f5f"
            },
            "marker": {
             "line": {
              "color": "#E5ECF6",
              "width": 0.5
             },
             "pattern": {
              "fillmode": "overlay",
              "size": 10,
              "solidity": 0.2
             }
            },
            "type": "bar"
           }
          ],
          "barpolar": [
           {
            "marker": {
             "line": {
              "color": "#E5ECF6",
              "width": 0.5
             },
             "pattern": {
              "fillmode": "overlay",
              "size": 10,
              "solidity": 0.2
             }
            },
            "type": "barpolar"
           }
          ],
          "carpet": [
           {
            "aaxis": {
             "endlinecolor": "#2a3f5f",
             "gridcolor": "white",
             "linecolor": "white",
             "minorgridcolor": "white",
             "startlinecolor": "#2a3f5f"
            },
            "baxis": {
             "endlinecolor": "#2a3f5f",
             "gridcolor": "white",
             "linecolor": "white",
             "minorgridcolor": "white",
             "startlinecolor": "#2a3f5f"
            },
            "type": "carpet"
           }
          ],
          "choropleth": [
           {
            "colorbar": {
             "outlinewidth": 0,
             "ticks": ""
            },
            "type": "choropleth"
           }
          ],
          "contour": [
           {
            "colorbar": {
             "outlinewidth": 0,
             "ticks": ""
            },
            "colorscale": [
             [
              0,
              "#0d0887"
             ],
             [
              0.1111111111111111,
              "#46039f"
             ],
             [
              0.2222222222222222,
              "#7201a8"
             ],
             [
              0.3333333333333333,
              "#9c179e"
             ],
             [
              0.4444444444444444,
              "#bd3786"
             ],
             [
              0.5555555555555556,
              "#d8576b"
             ],
             [
              0.6666666666666666,
              "#ed7953"
             ],
             [
              0.7777777777777778,
              "#fb9f3a"
             ],
             [
              0.8888888888888888,
              "#fdca26"
             ],
             [
              1,
              "#f0f921"
             ]
            ],
            "type": "contour"
           }
          ],
          "contourcarpet": [
           {
            "colorbar": {
             "outlinewidth": 0,
             "ticks": ""
            },
            "type": "contourcarpet"
           }
          ],
          "heatmap": [
           {
            "colorbar": {
             "outlinewidth": 0,
             "ticks": ""
            },
            "colorscale": [
             [
              0,
              "#0d0887"
             ],
             [
              0.1111111111111111,
              "#46039f"
             ],
             [
              0.2222222222222222,
              "#7201a8"
             ],
             [
              0.3333333333333333,
              "#9c179e"
             ],
             [
              0.4444444444444444,
              "#bd3786"
             ],
             [
              0.5555555555555556,
              "#d8576b"
             ],
             [
              0.6666666666666666,
              "#ed7953"
             ],
             [
              0.7777777777777778,
              "#fb9f3a"
             ],
             [
              0.8888888888888888,
              "#fdca26"
             ],
             [
              1,
              "#f0f921"
             ]
            ],
            "type": "heatmap"
           }
          ],
          "heatmapgl": [
           {
            "colorbar": {
             "outlinewidth": 0,
             "ticks": ""
            },
            "colorscale": [
             [
              0,
              "#0d0887"
             ],
             [
              0.1111111111111111,
              "#46039f"
             ],
             [
              0.2222222222222222,
              "#7201a8"
             ],
             [
              0.3333333333333333,
              "#9c179e"
             ],
             [
              0.4444444444444444,
              "#bd3786"
             ],
             [
              0.5555555555555556,
              "#d8576b"
             ],
             [
              0.6666666666666666,
              "#ed7953"
             ],
             [
              0.7777777777777778,
              "#fb9f3a"
             ],
             [
              0.8888888888888888,
              "#fdca26"
             ],
             [
              1,
              "#f0f921"
             ]
            ],
            "type": "heatmapgl"
           }
          ],
          "histogram": [
           {
            "marker": {
             "pattern": {
              "fillmode": "overlay",
              "size": 10,
              "solidity": 0.2
             }
            },
            "type": "histogram"
           }
          ],
          "histogram2d": [
           {
            "colorbar": {
             "outlinewidth": 0,
             "ticks": ""
            },
            "colorscale": [
             [
              0,
              "#0d0887"
             ],
             [
              0.1111111111111111,
              "#46039f"
             ],
             [
              0.2222222222222222,
              "#7201a8"
             ],
             [
              0.3333333333333333,
              "#9c179e"
             ],
             [
              0.4444444444444444,
              "#bd3786"
             ],
             [
              0.5555555555555556,
              "#d8576b"
             ],
             [
              0.6666666666666666,
              "#ed7953"
             ],
             [
              0.7777777777777778,
              "#fb9f3a"
             ],
             [
              0.8888888888888888,
              "#fdca26"
             ],
             [
              1,
              "#f0f921"
             ]
            ],
            "type": "histogram2d"
           }
          ],
          "histogram2dcontour": [
           {
            "colorbar": {
             "outlinewidth": 0,
             "ticks": ""
            },
            "colorscale": [
             [
              0,
              "#0d0887"
             ],
             [
              0.1111111111111111,
              "#46039f"
             ],
             [
              0.2222222222222222,
              "#7201a8"
             ],
             [
              0.3333333333333333,
              "#9c179e"
             ],
             [
              0.4444444444444444,
              "#bd3786"
             ],
             [
              0.5555555555555556,
              "#d8576b"
             ],
             [
              0.6666666666666666,
              "#ed7953"
             ],
             [
              0.7777777777777778,
              "#fb9f3a"
             ],
             [
              0.8888888888888888,
              "#fdca26"
             ],
             [
              1,
              "#f0f921"
             ]
            ],
            "type": "histogram2dcontour"
           }
          ],
          "mesh3d": [
           {
            "colorbar": {
             "outlinewidth": 0,
             "ticks": ""
            },
            "type": "mesh3d"
           }
          ],
          "parcoords": [
           {
            "line": {
             "colorbar": {
              "outlinewidth": 0,
              "ticks": ""
             }
            },
            "type": "parcoords"
           }
          ],
          "pie": [
           {
            "automargin": true,
            "type": "pie"
           }
          ],
          "scatter": [
           {
            "fillpattern": {
             "fillmode": "overlay",
             "size": 10,
             "solidity": 0.2
            },
            "type": "scatter"
           }
          ],
          "scatter3d": [
           {
            "line": {
             "colorbar": {
              "outlinewidth": 0,
              "ticks": ""
             }
            },
            "marker": {
             "colorbar": {
              "outlinewidth": 0,
              "ticks": ""
             }
            },
            "type": "scatter3d"
           }
          ],
          "scattercarpet": [
           {
            "marker": {
             "colorbar": {
              "outlinewidth": 0,
              "ticks": ""
             }
            },
            "type": "scattercarpet"
           }
          ],
          "scattergeo": [
           {
            "marker": {
             "colorbar": {
              "outlinewidth": 0,
              "ticks": ""
             }
            },
            "type": "scattergeo"
           }
          ],
          "scattergl": [
           {
            "marker": {
             "colorbar": {
              "outlinewidth": 0,
              "ticks": ""
             }
            },
            "type": "scattergl"
           }
          ],
          "scattermapbox": [
           {
            "marker": {
             "colorbar": {
              "outlinewidth": 0,
              "ticks": ""
             }
            },
            "type": "scattermapbox"
           }
          ],
          "scatterpolar": [
           {
            "marker": {
             "colorbar": {
              "outlinewidth": 0,
              "ticks": ""
             }
            },
            "type": "scatterpolar"
           }
          ],
          "scatterpolargl": [
           {
            "marker": {
             "colorbar": {
              "outlinewidth": 0,
              "ticks": ""
             }
            },
            "type": "scatterpolargl"
           }
          ],
          "scatterternary": [
           {
            "marker": {
             "colorbar": {
              "outlinewidth": 0,
              "ticks": ""
             }
            },
            "type": "scatterternary"
           }
          ],
          "surface": [
           {
            "colorbar": {
             "outlinewidth": 0,
             "ticks": ""
            },
            "colorscale": [
             [
              0,
              "#0d0887"
             ],
             [
              0.1111111111111111,
              "#46039f"
             ],
             [
              0.2222222222222222,
              "#7201a8"
             ],
             [
              0.3333333333333333,
              "#9c179e"
             ],
             [
              0.4444444444444444,
              "#bd3786"
             ],
             [
              0.5555555555555556,
              "#d8576b"
             ],
             [
              0.6666666666666666,
              "#ed7953"
             ],
             [
              0.7777777777777778,
              "#fb9f3a"
             ],
             [
              0.8888888888888888,
              "#fdca26"
             ],
             [
              1,
              "#f0f921"
             ]
            ],
            "type": "surface"
           }
          ],
          "table": [
           {
            "cells": {
             "fill": {
              "color": "#EBF0F8"
             },
             "line": {
              "color": "white"
             }
            },
            "header": {
             "fill": {
              "color": "#C8D4E3"
             },
             "line": {
              "color": "white"
             }
            },
            "type": "table"
           }
          ]
         },
         "layout": {
          "annotationdefaults": {
           "arrowcolor": "#2a3f5f",
           "arrowhead": 0,
           "arrowwidth": 1
          },
          "autotypenumbers": "strict",
          "coloraxis": {
           "colorbar": {
            "outlinewidth": 0,
            "ticks": ""
           }
          },
          "colorscale": {
           "diverging": [
            [
             0,
             "#8e0152"
            ],
            [
             0.1,
             "#c51b7d"
            ],
            [
             0.2,
             "#de77ae"
            ],
            [
             0.3,
             "#f1b6da"
            ],
            [
             0.4,
             "#fde0ef"
            ],
            [
             0.5,
             "#f7f7f7"
            ],
            [
             0.6,
             "#e6f5d0"
            ],
            [
             0.7,
             "#b8e186"
            ],
            [
             0.8,
             "#7fbc41"
            ],
            [
             0.9,
             "#4d9221"
            ],
            [
             1,
             "#276419"
            ]
           ],
           "sequential": [
            [
             0,
             "#0d0887"
            ],
            [
             0.1111111111111111,
             "#46039f"
            ],
            [
             0.2222222222222222,
             "#7201a8"
            ],
            [
             0.3333333333333333,
             "#9c179e"
            ],
            [
             0.4444444444444444,
             "#bd3786"
            ],
            [
             0.5555555555555556,
             "#d8576b"
            ],
            [
             0.6666666666666666,
             "#ed7953"
            ],
            [
             0.7777777777777778,
             "#fb9f3a"
            ],
            [
             0.8888888888888888,
             "#fdca26"
            ],
            [
             1,
             "#f0f921"
            ]
           ],
           "sequentialminus": [
            [
             0,
             "#0d0887"
            ],
            [
             0.1111111111111111,
             "#46039f"
            ],
            [
             0.2222222222222222,
             "#7201a8"
            ],
            [
             0.3333333333333333,
             "#9c179e"
            ],
            [
             0.4444444444444444,
             "#bd3786"
            ],
            [
             0.5555555555555556,
             "#d8576b"
            ],
            [
             0.6666666666666666,
             "#ed7953"
            ],
            [
             0.7777777777777778,
             "#fb9f3a"
            ],
            [
             0.8888888888888888,
             "#fdca26"
            ],
            [
             1,
             "#f0f921"
            ]
           ]
          },
          "colorway": [
           "#636efa",
           "#EF553B",
           "#00cc96",
           "#ab63fa",
           "#FFA15A",
           "#19d3f3",
           "#FF6692",
           "#B6E880",
           "#FF97FF",
           "#FECB52"
          ],
          "font": {
           "color": "#2a3f5f"
          },
          "geo": {
           "bgcolor": "white",
           "lakecolor": "white",
           "landcolor": "#E5ECF6",
           "showlakes": true,
           "showland": true,
           "subunitcolor": "white"
          },
          "hoverlabel": {
           "align": "left"
          },
          "hovermode": "closest",
          "mapbox": {
           "style": "light"
          },
          "paper_bgcolor": "white",
          "plot_bgcolor": "#E5ECF6",
          "polar": {
           "angularaxis": {
            "gridcolor": "white",
            "linecolor": "white",
            "ticks": ""
           },
           "bgcolor": "#E5ECF6",
           "radialaxis": {
            "gridcolor": "white",
            "linecolor": "white",
            "ticks": ""
           }
          },
          "scene": {
           "xaxis": {
            "backgroundcolor": "#E5ECF6",
            "gridcolor": "white",
            "gridwidth": 2,
            "linecolor": "white",
            "showbackground": true,
            "ticks": "",
            "zerolinecolor": "white"
           },
           "yaxis": {
            "backgroundcolor": "#E5ECF6",
            "gridcolor": "white",
            "gridwidth": 2,
            "linecolor": "white",
            "showbackground": true,
            "ticks": "",
            "zerolinecolor": "white"
           },
           "zaxis": {
            "backgroundcolor": "#E5ECF6",
            "gridcolor": "white",
            "gridwidth": 2,
            "linecolor": "white",
            "showbackground": true,
            "ticks": "",
            "zerolinecolor": "white"
           }
          },
          "shapedefaults": {
           "line": {
            "color": "#2a3f5f"
           }
          },
          "ternary": {
           "aaxis": {
            "gridcolor": "white",
            "linecolor": "white",
            "ticks": ""
           },
           "baxis": {
            "gridcolor": "white",
            "linecolor": "white",
            "ticks": ""
           },
           "bgcolor": "#E5ECF6",
           "caxis": {
            "gridcolor": "white",
            "linecolor": "white",
            "ticks": ""
           }
          },
          "title": {
           "x": 0.05
          },
          "xaxis": {
           "automargin": true,
           "gridcolor": "white",
           "linecolor": "white",
           "ticks": "",
           "title": {
            "standoff": 15
           },
           "zerolinecolor": "white",
           "zerolinewidth": 2
          },
          "yaxis": {
           "automargin": true,
           "gridcolor": "white",
           "linecolor": "white",
           "ticks": "",
           "title": {
            "standoff": 15
           },
           "zerolinecolor": "white",
           "zerolinewidth": 2
          }
         }
        },
        "violinmode": "overlay",
        "xaxis": {
         "anchor": "y",
         "domain": [
          0,
          1
         ],
         "tickangle": 0,
         "title": {
          "text": "score"
         }
        },
        "yaxis": {
         "anchor": "x",
         "categoryarray": [
          "gpt-4-1106-preview-v1.1",
          "gpt-4-1106-preview",
          "gpt-3.5-turbo-16k-0613",
          "gpt-4-0613"
         ],
         "categoryorder": "array",
         "domain": [
          0,
          1
         ],
         "title": {
          "text": "model"
         }
        }
       }
      }
     },
     "metadata": {},
     "output_type": "display_data"
    },
    {
     "data": {
      "application/vnd.plotly.v1+json": {
       "config": {
        "plotlyServerURL": "https://plot.ly"
       },
       "data": [
        {
         "alignmentgroup": "True",
         "box": {
          "visible": true
         },
         "hovertemplate": "model=%{y}<br>score=%{x}<extra></extra>",
         "legendgroup": "gpt-4-0613",
         "marker": {
          "color": "#636efa"
         },
         "name": "gpt-4-0613",
         "offsetgroup": "gpt-4-0613",
         "orientation": "h",
         "points": "all",
         "scalegroup": "True",
         "showlegend": true,
         "type": "violin",
         "x": [
          0.775151277992133,
          0.8677141719372721,
          0.805709857167876,
          0.838555894936834,
          0.835816684381235,
          0.8580194107705961,
          0.929275186746341,
          0.7650399235147071,
          0.907325720581141,
          0.8523430018072471,
          0.799681641733711,
          0.9141430974982361,
          0.8769296126444981,
          0.7681605949969491,
          0.6524946797591771,
          0.768839671402272,
          0.807369854214908,
          0.8441837067791691,
          0.735372692062852,
          0.773235967848877,
          0.8123789495997981,
          0.8444978800877491,
          0.8463200687501891,
          0.8297093160240241,
          0.9020336723002671,
          0.782889121814857,
          0.8158429558774931,
          0.773282938421541,
          0.688104670662911,
          0.995979083354329,
          0.8840496630664421,
          0.8564814912189561,
          0.796995186405916,
          0,
          0.7937981555373831,
          0.918679059461156,
          0.73131585763202,
          0.9710773235794251,
          0.78027707042571,
          0.829316430192466,
          0.945273610848495,
          0.831921912318581,
          0,
          0.9299593832935961,
          0.772156957808492,
          0.821521420245488,
          0.8386283664184061,
          0.7154692940636981,
          0.7143511302800091,
          0.8260122573278,
          0.81236241461833,
          0.87332996703798,
          0.8142061177063331,
          0.933110447881993,
          0.999998248879527,
          0.82900670451326,
          0.815809890603104,
          0.833653048023658,
          0.68750802975406,
          0.950809693609406,
          0.8182458113947281,
          0.788931628862187,
          0.9552621254159881,
          0.758645313181402,
          0.8673383453636141,
          0.860103595989354,
          0.9545231499762751,
          0.7516899259124521,
          0.75145624926355,
          0.993491014491448,
          0.962437809239693,
          0.9420602528982521,
          0.8274309594951781,
          0.864436737720313,
          0.9167783030009861,
          0.7428030941682521,
          0.9528034351260791,
          0.6773883853058881,
          0.8515841860982941,
          0.968053487160152,
          0.9474342662448261,
          0.803628675259467,
          0.8239314653389811,
          0.7570950093250071,
          0.811662682738521,
          0,
          0.8279881875894881,
          0.9776074009782371,
          0.90637278937314,
          0.782945220743212,
          0.9501149284197281,
          0.9788072235910531,
          0.9126500237164651,
          0,
          0.7727480527578321,
          0.9748283406631961,
          0.9004483938906761,
          0.774337258773629
         ],
         "x0": " ",
         "xaxis": "x",
         "y": [
          "gpt-4-0613",
          "gpt-4-0613",
          "gpt-4-0613",
          "gpt-4-0613",
          "gpt-4-0613",
          "gpt-4-0613",
          "gpt-4-0613",
          "gpt-4-0613",
          "gpt-4-0613",
          "gpt-4-0613",
          "gpt-4-0613",
          "gpt-4-0613",
          "gpt-4-0613",
          "gpt-4-0613",
          "gpt-4-0613",
          "gpt-4-0613",
          "gpt-4-0613",
          "gpt-4-0613",
          "gpt-4-0613",
          "gpt-4-0613",
          "gpt-4-0613",
          "gpt-4-0613",
          "gpt-4-0613",
          "gpt-4-0613",
          "gpt-4-0613",
          "gpt-4-0613",
          "gpt-4-0613",
          "gpt-4-0613",
          "gpt-4-0613",
          "gpt-4-0613",
          "gpt-4-0613",
          "gpt-4-0613",
          "gpt-4-0613",
          "gpt-4-0613",
          "gpt-4-0613",
          "gpt-4-0613",
          "gpt-4-0613",
          "gpt-4-0613",
          "gpt-4-0613",
          "gpt-4-0613",
          "gpt-4-0613",
          "gpt-4-0613",
          "gpt-4-0613",
          "gpt-4-0613",
          "gpt-4-0613",
          "gpt-4-0613",
          "gpt-4-0613",
          "gpt-4-0613",
          "gpt-4-0613",
          "gpt-4-0613",
          "gpt-4-0613",
          "gpt-4-0613",
          "gpt-4-0613",
          "gpt-4-0613",
          "gpt-4-0613",
          "gpt-4-0613",
          "gpt-4-0613",
          "gpt-4-0613",
          "gpt-4-0613",
          "gpt-4-0613",
          "gpt-4-0613",
          "gpt-4-0613",
          "gpt-4-0613",
          "gpt-4-0613",
          "gpt-4-0613",
          "gpt-4-0613",
          "gpt-4-0613",
          "gpt-4-0613",
          "gpt-4-0613",
          "gpt-4-0613",
          "gpt-4-0613",
          "gpt-4-0613",
          "gpt-4-0613",
          "gpt-4-0613",
          "gpt-4-0613",
          "gpt-4-0613",
          "gpt-4-0613",
          "gpt-4-0613",
          "gpt-4-0613",
          "gpt-4-0613",
          "gpt-4-0613",
          "gpt-4-0613",
          "gpt-4-0613",
          "gpt-4-0613",
          "gpt-4-0613",
          "gpt-4-0613",
          "gpt-4-0613",
          "gpt-4-0613",
          "gpt-4-0613",
          "gpt-4-0613",
          "gpt-4-0613",
          "gpt-4-0613",
          "gpt-4-0613",
          "gpt-4-0613",
          "gpt-4-0613",
          "gpt-4-0613",
          "gpt-4-0613",
          "gpt-4-0613"
         ],
         "y0": " ",
         "yaxis": "y"
        },
        {
         "alignmentgroup": "True",
         "box": {
          "visible": true
         },
         "hovertemplate": "model=%{y}<br>score=%{x}<extra></extra>",
         "legendgroup": "gpt-3.5-turbo-16k-0613",
         "marker": {
          "color": "#EF553B"
         },
         "name": "gpt-3.5-turbo-16k-0613",
         "offsetgroup": "gpt-3.5-turbo-16k-0613",
         "orientation": "h",
         "points": "all",
         "scalegroup": "True",
         "showlegend": true,
         "type": "violin",
         "x": [
          0.8515167506078191,
          0.8858671397790641,
          0.858929249904512,
          0.812957625184016,
          0.9555230695843061,
          0.7820311353316151,
          0.7616142887518591,
          0.870238159390861,
          0.826783703916765,
          0.8682037019245891,
          0.799771166869493,
          0.9230349586386801,
          0.797471258089908,
          0.754486166690973,
          0.652512089981617,
          0.9161479895670561,
          0.921856434750958,
          0.8882369720766301,
          0.729828503654469,
          0.8922491905009701,
          0.818348379777817,
          0.9166854660893011,
          0.903413902761889,
          0.9495434637612871,
          0.9509902088015441,
          0.798777024429815,
          0.8425670709508991,
          0.7856613806693691,
          0.9743192292420191,
          0.9919412874313971,
          0.8799841662829231,
          0.8297718657216021,
          0.933729488393763,
          0.9314460149066601,
          0.8540853315495031,
          0.9359002795183411,
          0.82194261748601,
          0.896123319262706,
          0.891090384346464,
          0.8843480786571871,
          0.9453487194828041,
          0.828780458751678,
          0.991790286518732,
          0.928594328228689,
          0.772156957808492,
          0.9141540412395821,
          0.9102169882386271,
          0.6986412692681141,
          0.8805425957982521,
          0.894365331677009,
          0.7662926654721021,
          0.8942422181163271,
          0.8142061177063331,
          0.85607998554894,
          0.9930018454289921,
          0.8362439493332741,
          0.962043176852945,
          0.7811664086294411,
          0.687535988253522,
          0.9820994917968661,
          0.813540946874245,
          0.903444039248517,
          0.8855744078996811,
          0.763936956186917,
          0.8263111574308251,
          0.8893000086564431,
          0.9545231499762751,
          0.7829560123854591,
          0.751439203433355,
          0.9935005955856331,
          0.9760931846060411,
          0.9436931837897141,
          0.8060397371244951,
          0.9570676775720931,
          0.918565920507992,
          0.6905303700548071,
          0.9484384862238181,
          0.8721635014742031,
          0.9839914617143101,
          0.9579394260747791,
          0.9602194684086041,
          0.7957590809692531,
          0.787916156124937,
          0.753636163646011,
          0.811662682738521,
          0.760186329137236,
          0.988604071987022,
          0.960747456788504,
          0.9442634056242191,
          0.820319931363736,
          0.9501149284197281,
          0.910662025260586,
          0.5811640828398661,
          0.9302299619080381,
          0.9535305265075901,
          0.987586123292237,
          0.9031216385650731,
          0.748797959000678
         ],
         "x0": " ",
         "xaxis": "x",
         "y": [
          "gpt-3.5-turbo-16k-0613",
          "gpt-3.5-turbo-16k-0613",
          "gpt-3.5-turbo-16k-0613",
          "gpt-3.5-turbo-16k-0613",
          "gpt-3.5-turbo-16k-0613",
          "gpt-3.5-turbo-16k-0613",
          "gpt-3.5-turbo-16k-0613",
          "gpt-3.5-turbo-16k-0613",
          "gpt-3.5-turbo-16k-0613",
          "gpt-3.5-turbo-16k-0613",
          "gpt-3.5-turbo-16k-0613",
          "gpt-3.5-turbo-16k-0613",
          "gpt-3.5-turbo-16k-0613",
          "gpt-3.5-turbo-16k-0613",
          "gpt-3.5-turbo-16k-0613",
          "gpt-3.5-turbo-16k-0613",
          "gpt-3.5-turbo-16k-0613",
          "gpt-3.5-turbo-16k-0613",
          "gpt-3.5-turbo-16k-0613",
          "gpt-3.5-turbo-16k-0613",
          "gpt-3.5-turbo-16k-0613",
          "gpt-3.5-turbo-16k-0613",
          "gpt-3.5-turbo-16k-0613",
          "gpt-3.5-turbo-16k-0613",
          "gpt-3.5-turbo-16k-0613",
          "gpt-3.5-turbo-16k-0613",
          "gpt-3.5-turbo-16k-0613",
          "gpt-3.5-turbo-16k-0613",
          "gpt-3.5-turbo-16k-0613",
          "gpt-3.5-turbo-16k-0613",
          "gpt-3.5-turbo-16k-0613",
          "gpt-3.5-turbo-16k-0613",
          "gpt-3.5-turbo-16k-0613",
          "gpt-3.5-turbo-16k-0613",
          "gpt-3.5-turbo-16k-0613",
          "gpt-3.5-turbo-16k-0613",
          "gpt-3.5-turbo-16k-0613",
          "gpt-3.5-turbo-16k-0613",
          "gpt-3.5-turbo-16k-0613",
          "gpt-3.5-turbo-16k-0613",
          "gpt-3.5-turbo-16k-0613",
          "gpt-3.5-turbo-16k-0613",
          "gpt-3.5-turbo-16k-0613",
          "gpt-3.5-turbo-16k-0613",
          "gpt-3.5-turbo-16k-0613",
          "gpt-3.5-turbo-16k-0613",
          "gpt-3.5-turbo-16k-0613",
          "gpt-3.5-turbo-16k-0613",
          "gpt-3.5-turbo-16k-0613",
          "gpt-3.5-turbo-16k-0613",
          "gpt-3.5-turbo-16k-0613",
          "gpt-3.5-turbo-16k-0613",
          "gpt-3.5-turbo-16k-0613",
          "gpt-3.5-turbo-16k-0613",
          "gpt-3.5-turbo-16k-0613",
          "gpt-3.5-turbo-16k-0613",
          "gpt-3.5-turbo-16k-0613",
          "gpt-3.5-turbo-16k-0613",
          "gpt-3.5-turbo-16k-0613",
          "gpt-3.5-turbo-16k-0613",
          "gpt-3.5-turbo-16k-0613",
          "gpt-3.5-turbo-16k-0613",
          "gpt-3.5-turbo-16k-0613",
          "gpt-3.5-turbo-16k-0613",
          "gpt-3.5-turbo-16k-0613",
          "gpt-3.5-turbo-16k-0613",
          "gpt-3.5-turbo-16k-0613",
          "gpt-3.5-turbo-16k-0613",
          "gpt-3.5-turbo-16k-0613",
          "gpt-3.5-turbo-16k-0613",
          "gpt-3.5-turbo-16k-0613",
          "gpt-3.5-turbo-16k-0613",
          "gpt-3.5-turbo-16k-0613",
          "gpt-3.5-turbo-16k-0613",
          "gpt-3.5-turbo-16k-0613",
          "gpt-3.5-turbo-16k-0613",
          "gpt-3.5-turbo-16k-0613",
          "gpt-3.5-turbo-16k-0613",
          "gpt-3.5-turbo-16k-0613",
          "gpt-3.5-turbo-16k-0613",
          "gpt-3.5-turbo-16k-0613",
          "gpt-3.5-turbo-16k-0613",
          "gpt-3.5-turbo-16k-0613",
          "gpt-3.5-turbo-16k-0613",
          "gpt-3.5-turbo-16k-0613",
          "gpt-3.5-turbo-16k-0613",
          "gpt-3.5-turbo-16k-0613",
          "gpt-3.5-turbo-16k-0613",
          "gpt-3.5-turbo-16k-0613",
          "gpt-3.5-turbo-16k-0613",
          "gpt-3.5-turbo-16k-0613",
          "gpt-3.5-turbo-16k-0613",
          "gpt-3.5-turbo-16k-0613",
          "gpt-3.5-turbo-16k-0613",
          "gpt-3.5-turbo-16k-0613",
          "gpt-3.5-turbo-16k-0613",
          "gpt-3.5-turbo-16k-0613",
          "gpt-3.5-turbo-16k-0613"
         ],
         "y0": " ",
         "yaxis": "y"
        },
        {
         "alignmentgroup": "True",
         "box": {
          "visible": true
         },
         "hovertemplate": "model=%{y}<br>score=%{x}<extra></extra>",
         "legendgroup": "gpt-4-1106-preview",
         "marker": {
          "color": "#00cc96"
         },
         "name": "gpt-4-1106-preview",
         "offsetgroup": "gpt-4-1106-preview",
         "orientation": "h",
         "points": "all",
         "scalegroup": "True",
         "showlegend": true,
         "type": "violin",
         "x": [
          0.7717259137570931,
          0.8269692231441721,
          0.8223823266038921,
          0.851453202363007,
          0.7329932180773571,
          0.899847611992976,
          0.761534427361079,
          0.817525952321667,
          0.853190269104787,
          0.8365196635580131,
          0.7998954418386711,
          0.899740969488751,
          0.8785410810496881,
          0.7640103423283591,
          0.6524946797591771,
          0.845222626706953,
          0.808447358516816,
          0.851699082483484,
          0.7300434389972731,
          0.910060761839343,
          0.675097960868659,
          0.848705546019999,
          0.8144211525322451,
          0.870522686877305,
          0.8862841870231001,
          0.7669590910757941,
          0.8428771659773361,
          0.8302026719774961,
          0.6855707856516241,
          0.991353628972759,
          0.8225708907665731,
          0.845467954869868,
          0.929068040774479,
          0.8503009918482961,
          0.7937981555373831,
          0.7664827521122181,
          0.81271834423468,
          0.885769733617887,
          0.803779549212092,
          0.84845636647387,
          0.9394997409701821,
          0.8705814007314591,
          0.9810434913180931,
          0.7940362741309901,
          0.772156957808492,
          0.8470248429972771,
          0.789812438683763,
          0.7233023328550331,
          0.860304957907815,
          0,
          0.8068338650159781,
          0.8733009258395941,
          0.8142061177063331,
          0.9170914160128231,
          0.941666468411231,
          0.7527347082411721,
          0.8088883801457061,
          0.876362409711752,
          0.6873999017832101,
          0.9530207418659771,
          0.8705033930328651,
          0.8502747309988621,
          0.7951409058414851,
          0.7638569669061931,
          0.806877664169618,
          0.9436739265427091,
          0.9545231499762751,
          0.783042056747352,
          0.7514596715545181,
          0.9666766465525111,
          0.962437809239693,
          0.83896415240232,
          0.8044658859621041,
          0.8479296849481911,
          0.834903590722037,
          0.695890534658811,
          0.7091357441744871,
          0.8344688038721201,
          0.9839914617143101,
          0.917825627380435,
          0,
          0.8668281549505951,
          0.794247259393246,
          0.7469799246155591,
          0.872492516744212,
          0.9146470271843341,
          0.8279881875894881,
          0.8526666641826891,
          0.9679138165577731,
          0.719610732741183,
          0.9431394219874991,
          0.9744891331871031,
          0.8991981099362291,
          0,
          0.9241850163229991,
          0.9792130634318711,
          0.9871817574064321,
          0.7829417450968651
         ],
         "x0": " ",
         "xaxis": "x",
         "y": [
          "gpt-4-1106-preview",
          "gpt-4-1106-preview",
          "gpt-4-1106-preview",
          "gpt-4-1106-preview",
          "gpt-4-1106-preview",
          "gpt-4-1106-preview",
          "gpt-4-1106-preview",
          "gpt-4-1106-preview",
          "gpt-4-1106-preview",
          "gpt-4-1106-preview",
          "gpt-4-1106-preview",
          "gpt-4-1106-preview",
          "gpt-4-1106-preview",
          "gpt-4-1106-preview",
          "gpt-4-1106-preview",
          "gpt-4-1106-preview",
          "gpt-4-1106-preview",
          "gpt-4-1106-preview",
          "gpt-4-1106-preview",
          "gpt-4-1106-preview",
          "gpt-4-1106-preview",
          "gpt-4-1106-preview",
          "gpt-4-1106-preview",
          "gpt-4-1106-preview",
          "gpt-4-1106-preview",
          "gpt-4-1106-preview",
          "gpt-4-1106-preview",
          "gpt-4-1106-preview",
          "gpt-4-1106-preview",
          "gpt-4-1106-preview",
          "gpt-4-1106-preview",
          "gpt-4-1106-preview",
          "gpt-4-1106-preview",
          "gpt-4-1106-preview",
          "gpt-4-1106-preview",
          "gpt-4-1106-preview",
          "gpt-4-1106-preview",
          "gpt-4-1106-preview",
          "gpt-4-1106-preview",
          "gpt-4-1106-preview",
          "gpt-4-1106-preview",
          "gpt-4-1106-preview",
          "gpt-4-1106-preview",
          "gpt-4-1106-preview",
          "gpt-4-1106-preview",
          "gpt-4-1106-preview",
          "gpt-4-1106-preview",
          "gpt-4-1106-preview",
          "gpt-4-1106-preview",
          "gpt-4-1106-preview",
          "gpt-4-1106-preview",
          "gpt-4-1106-preview",
          "gpt-4-1106-preview",
          "gpt-4-1106-preview",
          "gpt-4-1106-preview",
          "gpt-4-1106-preview",
          "gpt-4-1106-preview",
          "gpt-4-1106-preview",
          "gpt-4-1106-preview",
          "gpt-4-1106-preview",
          "gpt-4-1106-preview",
          "gpt-4-1106-preview",
          "gpt-4-1106-preview",
          "gpt-4-1106-preview",
          "gpt-4-1106-preview",
          "gpt-4-1106-preview",
          "gpt-4-1106-preview",
          "gpt-4-1106-preview",
          "gpt-4-1106-preview",
          "gpt-4-1106-preview",
          "gpt-4-1106-preview",
          "gpt-4-1106-preview",
          "gpt-4-1106-preview",
          "gpt-4-1106-preview",
          "gpt-4-1106-preview",
          "gpt-4-1106-preview",
          "gpt-4-1106-preview",
          "gpt-4-1106-preview",
          "gpt-4-1106-preview",
          "gpt-4-1106-preview",
          "gpt-4-1106-preview",
          "gpt-4-1106-preview",
          "gpt-4-1106-preview",
          "gpt-4-1106-preview",
          "gpt-4-1106-preview",
          "gpt-4-1106-preview",
          "gpt-4-1106-preview",
          "gpt-4-1106-preview",
          "gpt-4-1106-preview",
          "gpt-4-1106-preview",
          "gpt-4-1106-preview",
          "gpt-4-1106-preview",
          "gpt-4-1106-preview",
          "gpt-4-1106-preview",
          "gpt-4-1106-preview",
          "gpt-4-1106-preview",
          "gpt-4-1106-preview",
          "gpt-4-1106-preview"
         ],
         "y0": " ",
         "yaxis": "y"
        },
        {
         "alignmentgroup": "True",
         "box": {
          "visible": true
         },
         "hovertemplate": "model=%{y}<br>score=%{x}<extra></extra>",
         "legendgroup": "gpt-4-1106-preview-v1.1",
         "marker": {
          "color": "#ab63fa"
         },
         "name": "gpt-4-1106-preview-v1.1",
         "offsetgroup": "gpt-4-1106-preview-v1.1",
         "orientation": "h",
         "points": "all",
         "scalegroup": "True",
         "showlegend": true,
         "type": "violin",
         "x": [
          0.8606861509004741,
          0.8238622998804871,
          0.8337803528147321,
          0.7362773634323501,
          0.7314928572765961,
          0.751454693266271,
          0.794149040917553,
          0.6870418981762401,
          0.8937335390227651,
          0.83104314150444,
          0.7973746250118621,
          0.9295154725933221,
          0.7991266703178561,
          0.769029267912756,
          0.7402330898207681,
          0.6819301108062761,
          0.786990555459522,
          0.784811892982692,
          0.754866915151662,
          0.803007763188545,
          0.7467399984818871,
          0.801083835274164,
          0.8389666409442,
          0.825614639123029,
          0.9140763282827391,
          0.6884310590100841,
          0.755813337140072,
          0.8140652084469111,
          0.923247928479049,
          0.9919412874313971,
          0.760820880189598,
          0.761369307656878,
          0.729794136502756,
          0.7592798040856471,
          0.8805149523346241,
          0.8012792845386001,
          0.8199429442284181,
          0.805815212547728,
          0.840563815941306,
          0.7984088251943791,
          0.935115061696238,
          0.8701799756576981,
          0.9518197021176981,
          0.9016055685779911,
          0.772156957808492,
          0.919935267143081,
          0.688073142763586,
          0.7085483274489841,
          0.826162363814349,
          0.7435198385609101,
          0.839053551626016,
          0.8808265826090541,
          0.815309782867988,
          0.8246860703429191,
          0.8623270337101511,
          0.8958079537460251,
          0.7349388884578391,
          0.8552465426772221,
          0.694484358588036,
          0.701542397995047,
          0.811792501109944,
          0.718990990384597,
          0.814222141256257,
          0.8039644219027571,
          0.820333776871858,
          0.7440309513402421,
          0.7943768734196841,
          0.854752534950004,
          0.862313329455306,
          0.82354100499286,
          0.919289169927977,
          0.872109860207371,
          0.7330103339714651,
          0.8801395645720501,
          0.918796382680307,
          0.7231194705375741,
          0.709154648963499,
          0.795522524988573,
          0.929257552852022,
          0.9014077447306461,
          0.7847418472068081,
          0.8857318265398181,
          0.7776149147257421,
          0.7740943979007191,
          0.750473721172343,
          0.9279310782498501,
          0.974696411067659,
          0.8549043129914261,
          0.9705537093999791,
          0.7919911635477811,
          0.9040355883573371,
          0.8723411923515381,
          0.81844782672127,
          0.799483944308458,
          0.914787928800823,
          0.95125751978115,
          0.798611798264067,
          0.765847836846244
         ],
         "x0": " ",
         "xaxis": "x",
         "y": [
          "gpt-4-1106-preview-v1.1",
          "gpt-4-1106-preview-v1.1",
          "gpt-4-1106-preview-v1.1",
          "gpt-4-1106-preview-v1.1",
          "gpt-4-1106-preview-v1.1",
          "gpt-4-1106-preview-v1.1",
          "gpt-4-1106-preview-v1.1",
          "gpt-4-1106-preview-v1.1",
          "gpt-4-1106-preview-v1.1",
          "gpt-4-1106-preview-v1.1",
          "gpt-4-1106-preview-v1.1",
          "gpt-4-1106-preview-v1.1",
          "gpt-4-1106-preview-v1.1",
          "gpt-4-1106-preview-v1.1",
          "gpt-4-1106-preview-v1.1",
          "gpt-4-1106-preview-v1.1",
          "gpt-4-1106-preview-v1.1",
          "gpt-4-1106-preview-v1.1",
          "gpt-4-1106-preview-v1.1",
          "gpt-4-1106-preview-v1.1",
          "gpt-4-1106-preview-v1.1",
          "gpt-4-1106-preview-v1.1",
          "gpt-4-1106-preview-v1.1",
          "gpt-4-1106-preview-v1.1",
          "gpt-4-1106-preview-v1.1",
          "gpt-4-1106-preview-v1.1",
          "gpt-4-1106-preview-v1.1",
          "gpt-4-1106-preview-v1.1",
          "gpt-4-1106-preview-v1.1",
          "gpt-4-1106-preview-v1.1",
          "gpt-4-1106-preview-v1.1",
          "gpt-4-1106-preview-v1.1",
          "gpt-4-1106-preview-v1.1",
          "gpt-4-1106-preview-v1.1",
          "gpt-4-1106-preview-v1.1",
          "gpt-4-1106-preview-v1.1",
          "gpt-4-1106-preview-v1.1",
          "gpt-4-1106-preview-v1.1",
          "gpt-4-1106-preview-v1.1",
          "gpt-4-1106-preview-v1.1",
          "gpt-4-1106-preview-v1.1",
          "gpt-4-1106-preview-v1.1",
          "gpt-4-1106-preview-v1.1",
          "gpt-4-1106-preview-v1.1",
          "gpt-4-1106-preview-v1.1",
          "gpt-4-1106-preview-v1.1",
          "gpt-4-1106-preview-v1.1",
          "gpt-4-1106-preview-v1.1",
          "gpt-4-1106-preview-v1.1",
          "gpt-4-1106-preview-v1.1",
          "gpt-4-1106-preview-v1.1",
          "gpt-4-1106-preview-v1.1",
          "gpt-4-1106-preview-v1.1",
          "gpt-4-1106-preview-v1.1",
          "gpt-4-1106-preview-v1.1",
          "gpt-4-1106-preview-v1.1",
          "gpt-4-1106-preview-v1.1",
          "gpt-4-1106-preview-v1.1",
          "gpt-4-1106-preview-v1.1",
          "gpt-4-1106-preview-v1.1",
          "gpt-4-1106-preview-v1.1",
          "gpt-4-1106-preview-v1.1",
          "gpt-4-1106-preview-v1.1",
          "gpt-4-1106-preview-v1.1",
          "gpt-4-1106-preview-v1.1",
          "gpt-4-1106-preview-v1.1",
          "gpt-4-1106-preview-v1.1",
          "gpt-4-1106-preview-v1.1",
          "gpt-4-1106-preview-v1.1",
          "gpt-4-1106-preview-v1.1",
          "gpt-4-1106-preview-v1.1",
          "gpt-4-1106-preview-v1.1",
          "gpt-4-1106-preview-v1.1",
          "gpt-4-1106-preview-v1.1",
          "gpt-4-1106-preview-v1.1",
          "gpt-4-1106-preview-v1.1",
          "gpt-4-1106-preview-v1.1",
          "gpt-4-1106-preview-v1.1",
          "gpt-4-1106-preview-v1.1",
          "gpt-4-1106-preview-v1.1",
          "gpt-4-1106-preview-v1.1",
          "gpt-4-1106-preview-v1.1",
          "gpt-4-1106-preview-v1.1",
          "gpt-4-1106-preview-v1.1",
          "gpt-4-1106-preview-v1.1",
          "gpt-4-1106-preview-v1.1",
          "gpt-4-1106-preview-v1.1",
          "gpt-4-1106-preview-v1.1",
          "gpt-4-1106-preview-v1.1",
          "gpt-4-1106-preview-v1.1",
          "gpt-4-1106-preview-v1.1",
          "gpt-4-1106-preview-v1.1",
          "gpt-4-1106-preview-v1.1",
          "gpt-4-1106-preview-v1.1",
          "gpt-4-1106-preview-v1.1",
          "gpt-4-1106-preview-v1.1",
          "gpt-4-1106-preview-v1.1",
          "gpt-4-1106-preview-v1.1"
         ],
         "y0": " ",
         "yaxis": "y"
        }
       ],
       "layout": {
        "legend": {
         "title": {
          "text": "model"
         },
         "tracegroupgap": 0
        },
        "margin": {
         "t": 60
        },
        "template": {
         "data": {
          "bar": [
           {
            "error_x": {
             "color": "#2a3f5f"
            },
            "error_y": {
             "color": "#2a3f5f"
            },
            "marker": {
             "line": {
              "color": "#E5ECF6",
              "width": 0.5
             },
             "pattern": {
              "fillmode": "overlay",
              "size": 10,
              "solidity": 0.2
             }
            },
            "type": "bar"
           }
          ],
          "barpolar": [
           {
            "marker": {
             "line": {
              "color": "#E5ECF6",
              "width": 0.5
             },
             "pattern": {
              "fillmode": "overlay",
              "size": 10,
              "solidity": 0.2
             }
            },
            "type": "barpolar"
           }
          ],
          "carpet": [
           {
            "aaxis": {
             "endlinecolor": "#2a3f5f",
             "gridcolor": "white",
             "linecolor": "white",
             "minorgridcolor": "white",
             "startlinecolor": "#2a3f5f"
            },
            "baxis": {
             "endlinecolor": "#2a3f5f",
             "gridcolor": "white",
             "linecolor": "white",
             "minorgridcolor": "white",
             "startlinecolor": "#2a3f5f"
            },
            "type": "carpet"
           }
          ],
          "choropleth": [
           {
            "colorbar": {
             "outlinewidth": 0,
             "ticks": ""
            },
            "type": "choropleth"
           }
          ],
          "contour": [
           {
            "colorbar": {
             "outlinewidth": 0,
             "ticks": ""
            },
            "colorscale": [
             [
              0,
              "#0d0887"
             ],
             [
              0.1111111111111111,
              "#46039f"
             ],
             [
              0.2222222222222222,
              "#7201a8"
             ],
             [
              0.3333333333333333,
              "#9c179e"
             ],
             [
              0.4444444444444444,
              "#bd3786"
             ],
             [
              0.5555555555555556,
              "#d8576b"
             ],
             [
              0.6666666666666666,
              "#ed7953"
             ],
             [
              0.7777777777777778,
              "#fb9f3a"
             ],
             [
              0.8888888888888888,
              "#fdca26"
             ],
             [
              1,
              "#f0f921"
             ]
            ],
            "type": "contour"
           }
          ],
          "contourcarpet": [
           {
            "colorbar": {
             "outlinewidth": 0,
             "ticks": ""
            },
            "type": "contourcarpet"
           }
          ],
          "heatmap": [
           {
            "colorbar": {
             "outlinewidth": 0,
             "ticks": ""
            },
            "colorscale": [
             [
              0,
              "#0d0887"
             ],
             [
              0.1111111111111111,
              "#46039f"
             ],
             [
              0.2222222222222222,
              "#7201a8"
             ],
             [
              0.3333333333333333,
              "#9c179e"
             ],
             [
              0.4444444444444444,
              "#bd3786"
             ],
             [
              0.5555555555555556,
              "#d8576b"
             ],
             [
              0.6666666666666666,
              "#ed7953"
             ],
             [
              0.7777777777777778,
              "#fb9f3a"
             ],
             [
              0.8888888888888888,
              "#fdca26"
             ],
             [
              1,
              "#f0f921"
             ]
            ],
            "type": "heatmap"
           }
          ],
          "heatmapgl": [
           {
            "colorbar": {
             "outlinewidth": 0,
             "ticks": ""
            },
            "colorscale": [
             [
              0,
              "#0d0887"
             ],
             [
              0.1111111111111111,
              "#46039f"
             ],
             [
              0.2222222222222222,
              "#7201a8"
             ],
             [
              0.3333333333333333,
              "#9c179e"
             ],
             [
              0.4444444444444444,
              "#bd3786"
             ],
             [
              0.5555555555555556,
              "#d8576b"
             ],
             [
              0.6666666666666666,
              "#ed7953"
             ],
             [
              0.7777777777777778,
              "#fb9f3a"
             ],
             [
              0.8888888888888888,
              "#fdca26"
             ],
             [
              1,
              "#f0f921"
             ]
            ],
            "type": "heatmapgl"
           }
          ],
          "histogram": [
           {
            "marker": {
             "pattern": {
              "fillmode": "overlay",
              "size": 10,
              "solidity": 0.2
             }
            },
            "type": "histogram"
           }
          ],
          "histogram2d": [
           {
            "colorbar": {
             "outlinewidth": 0,
             "ticks": ""
            },
            "colorscale": [
             [
              0,
              "#0d0887"
             ],
             [
              0.1111111111111111,
              "#46039f"
             ],
             [
              0.2222222222222222,
              "#7201a8"
             ],
             [
              0.3333333333333333,
              "#9c179e"
             ],
             [
              0.4444444444444444,
              "#bd3786"
             ],
             [
              0.5555555555555556,
              "#d8576b"
             ],
             [
              0.6666666666666666,
              "#ed7953"
             ],
             [
              0.7777777777777778,
              "#fb9f3a"
             ],
             [
              0.8888888888888888,
              "#fdca26"
             ],
             [
              1,
              "#f0f921"
             ]
            ],
            "type": "histogram2d"
           }
          ],
          "histogram2dcontour": [
           {
            "colorbar": {
             "outlinewidth": 0,
             "ticks": ""
            },
            "colorscale": [
             [
              0,
              "#0d0887"
             ],
             [
              0.1111111111111111,
              "#46039f"
             ],
             [
              0.2222222222222222,
              "#7201a8"
             ],
             [
              0.3333333333333333,
              "#9c179e"
             ],
             [
              0.4444444444444444,
              "#bd3786"
             ],
             [
              0.5555555555555556,
              "#d8576b"
             ],
             [
              0.6666666666666666,
              "#ed7953"
             ],
             [
              0.7777777777777778,
              "#fb9f3a"
             ],
             [
              0.8888888888888888,
              "#fdca26"
             ],
             [
              1,
              "#f0f921"
             ]
            ],
            "type": "histogram2dcontour"
           }
          ],
          "mesh3d": [
           {
            "colorbar": {
             "outlinewidth": 0,
             "ticks": ""
            },
            "type": "mesh3d"
           }
          ],
          "parcoords": [
           {
            "line": {
             "colorbar": {
              "outlinewidth": 0,
              "ticks": ""
             }
            },
            "type": "parcoords"
           }
          ],
          "pie": [
           {
            "automargin": true,
            "type": "pie"
           }
          ],
          "scatter": [
           {
            "fillpattern": {
             "fillmode": "overlay",
             "size": 10,
             "solidity": 0.2
            },
            "type": "scatter"
           }
          ],
          "scatter3d": [
           {
            "line": {
             "colorbar": {
              "outlinewidth": 0,
              "ticks": ""
             }
            },
            "marker": {
             "colorbar": {
              "outlinewidth": 0,
              "ticks": ""
             }
            },
            "type": "scatter3d"
           }
          ],
          "scattercarpet": [
           {
            "marker": {
             "colorbar": {
              "outlinewidth": 0,
              "ticks": ""
             }
            },
            "type": "scattercarpet"
           }
          ],
          "scattergeo": [
           {
            "marker": {
             "colorbar": {
              "outlinewidth": 0,
              "ticks": ""
             }
            },
            "type": "scattergeo"
           }
          ],
          "scattergl": [
           {
            "marker": {
             "colorbar": {
              "outlinewidth": 0,
              "ticks": ""
             }
            },
            "type": "scattergl"
           }
          ],
          "scattermapbox": [
           {
            "marker": {
             "colorbar": {
              "outlinewidth": 0,
              "ticks": ""
             }
            },
            "type": "scattermapbox"
           }
          ],
          "scatterpolar": [
           {
            "marker": {
             "colorbar": {
              "outlinewidth": 0,
              "ticks": ""
             }
            },
            "type": "scatterpolar"
           }
          ],
          "scatterpolargl": [
           {
            "marker": {
             "colorbar": {
              "outlinewidth": 0,
              "ticks": ""
             }
            },
            "type": "scatterpolargl"
           }
          ],
          "scatterternary": [
           {
            "marker": {
             "colorbar": {
              "outlinewidth": 0,
              "ticks": ""
             }
            },
            "type": "scatterternary"
           }
          ],
          "surface": [
           {
            "colorbar": {
             "outlinewidth": 0,
             "ticks": ""
            },
            "colorscale": [
             [
              0,
              "#0d0887"
             ],
             [
              0.1111111111111111,
              "#46039f"
             ],
             [
              0.2222222222222222,
              "#7201a8"
             ],
             [
              0.3333333333333333,
              "#9c179e"
             ],
             [
              0.4444444444444444,
              "#bd3786"
             ],
             [
              0.5555555555555556,
              "#d8576b"
             ],
             [
              0.6666666666666666,
              "#ed7953"
             ],
             [
              0.7777777777777778,
              "#fb9f3a"
             ],
             [
              0.8888888888888888,
              "#fdca26"
             ],
             [
              1,
              "#f0f921"
             ]
            ],
            "type": "surface"
           }
          ],
          "table": [
           {
            "cells": {
             "fill": {
              "color": "#EBF0F8"
             },
             "line": {
              "color": "white"
             }
            },
            "header": {
             "fill": {
              "color": "#C8D4E3"
             },
             "line": {
              "color": "white"
             }
            },
            "type": "table"
           }
          ]
         },
         "layout": {
          "annotationdefaults": {
           "arrowcolor": "#2a3f5f",
           "arrowhead": 0,
           "arrowwidth": 1
          },
          "autotypenumbers": "strict",
          "coloraxis": {
           "colorbar": {
            "outlinewidth": 0,
            "ticks": ""
           }
          },
          "colorscale": {
           "diverging": [
            [
             0,
             "#8e0152"
            ],
            [
             0.1,
             "#c51b7d"
            ],
            [
             0.2,
             "#de77ae"
            ],
            [
             0.3,
             "#f1b6da"
            ],
            [
             0.4,
             "#fde0ef"
            ],
            [
             0.5,
             "#f7f7f7"
            ],
            [
             0.6,
             "#e6f5d0"
            ],
            [
             0.7,
             "#b8e186"
            ],
            [
             0.8,
             "#7fbc41"
            ],
            [
             0.9,
             "#4d9221"
            ],
            [
             1,
             "#276419"
            ]
           ],
           "sequential": [
            [
             0,
             "#0d0887"
            ],
            [
             0.1111111111111111,
             "#46039f"
            ],
            [
             0.2222222222222222,
             "#7201a8"
            ],
            [
             0.3333333333333333,
             "#9c179e"
            ],
            [
             0.4444444444444444,
             "#bd3786"
            ],
            [
             0.5555555555555556,
             "#d8576b"
            ],
            [
             0.6666666666666666,
             "#ed7953"
            ],
            [
             0.7777777777777778,
             "#fb9f3a"
            ],
            [
             0.8888888888888888,
             "#fdca26"
            ],
            [
             1,
             "#f0f921"
            ]
           ],
           "sequentialminus": [
            [
             0,
             "#0d0887"
            ],
            [
             0.1111111111111111,
             "#46039f"
            ],
            [
             0.2222222222222222,
             "#7201a8"
            ],
            [
             0.3333333333333333,
             "#9c179e"
            ],
            [
             0.4444444444444444,
             "#bd3786"
            ],
            [
             0.5555555555555556,
             "#d8576b"
            ],
            [
             0.6666666666666666,
             "#ed7953"
            ],
            [
             0.7777777777777778,
             "#fb9f3a"
            ],
            [
             0.8888888888888888,
             "#fdca26"
            ],
            [
             1,
             "#f0f921"
            ]
           ]
          },
          "colorway": [
           "#636efa",
           "#EF553B",
           "#00cc96",
           "#ab63fa",
           "#FFA15A",
           "#19d3f3",
           "#FF6692",
           "#B6E880",
           "#FF97FF",
           "#FECB52"
          ],
          "font": {
           "color": "#2a3f5f"
          },
          "geo": {
           "bgcolor": "white",
           "lakecolor": "white",
           "landcolor": "#E5ECF6",
           "showlakes": true,
           "showland": true,
           "subunitcolor": "white"
          },
          "hoverlabel": {
           "align": "left"
          },
          "hovermode": "closest",
          "mapbox": {
           "style": "light"
          },
          "paper_bgcolor": "white",
          "plot_bgcolor": "#E5ECF6",
          "polar": {
           "angularaxis": {
            "gridcolor": "white",
            "linecolor": "white",
            "ticks": ""
           },
           "bgcolor": "#E5ECF6",
           "radialaxis": {
            "gridcolor": "white",
            "linecolor": "white",
            "ticks": ""
           }
          },
          "scene": {
           "xaxis": {
            "backgroundcolor": "#E5ECF6",
            "gridcolor": "white",
            "gridwidth": 2,
            "linecolor": "white",
            "showbackground": true,
            "ticks": "",
            "zerolinecolor": "white"
           },
           "yaxis": {
            "backgroundcolor": "#E5ECF6",
            "gridcolor": "white",
            "gridwidth": 2,
            "linecolor": "white",
            "showbackground": true,
            "ticks": "",
            "zerolinecolor": "white"
           },
           "zaxis": {
            "backgroundcolor": "#E5ECF6",
            "gridcolor": "white",
            "gridwidth": 2,
            "linecolor": "white",
            "showbackground": true,
            "ticks": "",
            "zerolinecolor": "white"
           }
          },
          "shapedefaults": {
           "line": {
            "color": "#2a3f5f"
           }
          },
          "ternary": {
           "aaxis": {
            "gridcolor": "white",
            "linecolor": "white",
            "ticks": ""
           },
           "baxis": {
            "gridcolor": "white",
            "linecolor": "white",
            "ticks": ""
           },
           "bgcolor": "#E5ECF6",
           "caxis": {
            "gridcolor": "white",
            "linecolor": "white",
            "ticks": ""
           }
          },
          "title": {
           "x": 0.05
          },
          "xaxis": {
           "automargin": true,
           "gridcolor": "white",
           "linecolor": "white",
           "ticks": "",
           "title": {
            "standoff": 15
           },
           "zerolinecolor": "white",
           "zerolinewidth": 2
          },
          "yaxis": {
           "automargin": true,
           "gridcolor": "white",
           "linecolor": "white",
           "ticks": "",
           "title": {
            "standoff": 15
           },
           "zerolinecolor": "white",
           "zerolinewidth": 2
          }
         }
        },
        "violinmode": "overlay",
        "xaxis": {
         "anchor": "y",
         "domain": [
          0,
          1
         ],
         "tickangle": 0,
         "title": {
          "text": "score"
         }
        },
        "yaxis": {
         "anchor": "x",
         "categoryarray": [
          "gpt-4-1106-preview-v1.1",
          "gpt-4-1106-preview",
          "gpt-3.5-turbo-16k-0613",
          "gpt-4-0613"
         ],
         "categoryorder": "array",
         "domain": [
          0,
          1
         ],
         "title": {
          "text": "model"
         }
        }
       }
      }
     },
     "metadata": {},
     "output_type": "display_data"
    },
    {
     "data": {
      "application/vnd.plotly.v1+json": {
       "config": {
        "plotlyServerURL": "https://plot.ly"
       },
       "data": [
        {
         "alignmentgroup": "True",
         "box": {
          "visible": true
         },
         "hovertemplate": "model=%{y}<br>score=%{x}<extra></extra>",
         "legendgroup": "gpt-4-0613",
         "marker": {
          "color": "#636efa"
         },
         "name": "gpt-4-0613",
         "offsetgroup": "gpt-4-0613",
         "orientation": "h",
         "points": "all",
         "scalegroup": "True",
         "showlegend": true,
         "type": "violin",
         "x": [
          1,
          0.8,
          0.36363636363636304,
          0.33333333333333304,
          0.42857142857142805,
          0.4,
          0.4,
          1,
          0,
          0.833333333333333,
          0.6666666666666661,
          0.833333333333333,
          0.777777777777777,
          0.8,
          0,
          0.6000000000000001,
          1,
          0.125,
          0.16666666666666602,
          0.8888888888888881,
          0.2,
          1,
          0.8571428571428571,
          0.6000000000000001,
          1,
          1,
          1,
          0.8571428571428571,
          0.625,
          0.33333333333333304,
          0.875,
          0.8,
          0,
          0.25,
          0.8888888888888881,
          1,
          0.25,
          0.6666666666666661,
          0.5,
          0,
          1,
          0.8,
          0,
          0.5,
          0.75,
          0.33333333333333304,
          1,
          0.14285714285714202,
          0,
          0,
          0.25,
          1,
          0.625,
          0.6666666666666661,
          1,
          0.777777777777777,
          1,
          1,
          0.6666666666666661,
          0.75,
          0.5714285714285711,
          0.11111111111111101,
          1,
          0.125,
          0.4,
          1,
          0.5,
          0.5,
          1,
          0.4,
          0.33333333333333304,
          1,
          1,
          1,
          0.25,
          0,
          0.5,
          0.875,
          1,
          0.4,
          0,
          0.625,
          0.125,
          0.28571428571428503,
          1,
          0.6666666666666661,
          0.6666666666666661,
          0.8888888888888881,
          0,
          0.8,
          1,
          1,
          0.5,
          0.75,
          1,
          1,
          0.5,
          1
         ],
         "x0": " ",
         "xaxis": "x",
         "y": [
          "gpt-4-0613",
          "gpt-4-0613",
          "gpt-4-0613",
          "gpt-4-0613",
          "gpt-4-0613",
          "gpt-4-0613",
          "gpt-4-0613",
          "gpt-4-0613",
          "gpt-4-0613",
          "gpt-4-0613",
          "gpt-4-0613",
          "gpt-4-0613",
          "gpt-4-0613",
          "gpt-4-0613",
          "gpt-4-0613",
          "gpt-4-0613",
          "gpt-4-0613",
          "gpt-4-0613",
          "gpt-4-0613",
          "gpt-4-0613",
          "gpt-4-0613",
          "gpt-4-0613",
          "gpt-4-0613",
          "gpt-4-0613",
          "gpt-4-0613",
          "gpt-4-0613",
          "gpt-4-0613",
          "gpt-4-0613",
          "gpt-4-0613",
          "gpt-4-0613",
          "gpt-4-0613",
          "gpt-4-0613",
          "gpt-4-0613",
          "gpt-4-0613",
          "gpt-4-0613",
          "gpt-4-0613",
          "gpt-4-0613",
          "gpt-4-0613",
          "gpt-4-0613",
          "gpt-4-0613",
          "gpt-4-0613",
          "gpt-4-0613",
          "gpt-4-0613",
          "gpt-4-0613",
          "gpt-4-0613",
          "gpt-4-0613",
          "gpt-4-0613",
          "gpt-4-0613",
          "gpt-4-0613",
          "gpt-4-0613",
          "gpt-4-0613",
          "gpt-4-0613",
          "gpt-4-0613",
          "gpt-4-0613",
          "gpt-4-0613",
          "gpt-4-0613",
          "gpt-4-0613",
          "gpt-4-0613",
          "gpt-4-0613",
          "gpt-4-0613",
          "gpt-4-0613",
          "gpt-4-0613",
          "gpt-4-0613",
          "gpt-4-0613",
          "gpt-4-0613",
          "gpt-4-0613",
          "gpt-4-0613",
          "gpt-4-0613",
          "gpt-4-0613",
          "gpt-4-0613",
          "gpt-4-0613",
          "gpt-4-0613",
          "gpt-4-0613",
          "gpt-4-0613",
          "gpt-4-0613",
          "gpt-4-0613",
          "gpt-4-0613",
          "gpt-4-0613",
          "gpt-4-0613",
          "gpt-4-0613",
          "gpt-4-0613",
          "gpt-4-0613",
          "gpt-4-0613",
          "gpt-4-0613",
          "gpt-4-0613",
          "gpt-4-0613",
          "gpt-4-0613",
          "gpt-4-0613",
          "gpt-4-0613",
          "gpt-4-0613",
          "gpt-4-0613",
          "gpt-4-0613",
          "gpt-4-0613",
          "gpt-4-0613",
          "gpt-4-0613",
          "gpt-4-0613",
          "gpt-4-0613",
          "gpt-4-0613"
         ],
         "y0": " ",
         "yaxis": "y"
        },
        {
         "alignmentgroup": "True",
         "box": {
          "visible": true
         },
         "hovertemplate": "model=%{y}<br>score=%{x}<extra></extra>",
         "legendgroup": "gpt-3.5-turbo-16k-0613",
         "marker": {
          "color": "#EF553B"
         },
         "name": "gpt-3.5-turbo-16k-0613",
         "offsetgroup": "gpt-3.5-turbo-16k-0613",
         "orientation": "h",
         "points": "all",
         "scalegroup": "True",
         "showlegend": true,
         "type": "violin",
         "x": [
          0.6000000000000001,
          0.6666666666666661,
          1,
          0.6666666666666661,
          0.9166666666666661,
          0.33333333333333304,
          0.28571428571428503,
          1,
          0.6666666666666661,
          0,
          0.8,
          0.8,
          1,
          0,
          1,
          0.625,
          1,
          0,
          1,
          1,
          0,
          0.833333333333333,
          1,
          0.75,
          0.8571428571428571,
          0.25,
          1,
          0.5,
          0.5,
          0,
          1,
          0.2,
          0,
          1,
          0.833333333333333,
          0,
          0.75,
          1,
          0,
          0,
          0.33333333333333304,
          0.7142857142857141,
          0.25,
          0.5,
          0.6666666666666661,
          0.5714285714285711,
          1,
          1,
          0,
          0,
          0,
          1,
          1,
          0.684210526315789,
          0.5,
          0.4,
          0.6666666666666661,
          0.4,
          0.33333333333333304,
          0.875,
          0.14285714285714202,
          1,
          0.5714285714285711,
          0.6000000000000001,
          0.4,
          1,
          0.6666666666666661,
          0.25,
          1,
          0,
          0,
          0.9090909090909091,
          0.125,
          1,
          0.6666666666666661,
          0.2,
          0.75,
          1,
          0.8,
          0.75,
          1,
          0,
          0.4,
          0.25,
          0.7000000000000001,
          0.6666666666666661,
          0.33333333333333304,
          0.6000000000000001,
          1,
          0.777777777777777,
          1,
          0.5,
          0,
          0,
          1,
          1,
          0.75,
          1
         ],
         "x0": " ",
         "xaxis": "x",
         "y": [
          "gpt-3.5-turbo-16k-0613",
          "gpt-3.5-turbo-16k-0613",
          "gpt-3.5-turbo-16k-0613",
          "gpt-3.5-turbo-16k-0613",
          "gpt-3.5-turbo-16k-0613",
          "gpt-3.5-turbo-16k-0613",
          "gpt-3.5-turbo-16k-0613",
          "gpt-3.5-turbo-16k-0613",
          "gpt-3.5-turbo-16k-0613",
          "gpt-3.5-turbo-16k-0613",
          "gpt-3.5-turbo-16k-0613",
          "gpt-3.5-turbo-16k-0613",
          "gpt-3.5-turbo-16k-0613",
          "gpt-3.5-turbo-16k-0613",
          "gpt-3.5-turbo-16k-0613",
          "gpt-3.5-turbo-16k-0613",
          "gpt-3.5-turbo-16k-0613",
          "gpt-3.5-turbo-16k-0613",
          "gpt-3.5-turbo-16k-0613",
          "gpt-3.5-turbo-16k-0613",
          "gpt-3.5-turbo-16k-0613",
          "gpt-3.5-turbo-16k-0613",
          "gpt-3.5-turbo-16k-0613",
          "gpt-3.5-turbo-16k-0613",
          "gpt-3.5-turbo-16k-0613",
          "gpt-3.5-turbo-16k-0613",
          "gpt-3.5-turbo-16k-0613",
          "gpt-3.5-turbo-16k-0613",
          "gpt-3.5-turbo-16k-0613",
          "gpt-3.5-turbo-16k-0613",
          "gpt-3.5-turbo-16k-0613",
          "gpt-3.5-turbo-16k-0613",
          "gpt-3.5-turbo-16k-0613",
          "gpt-3.5-turbo-16k-0613",
          "gpt-3.5-turbo-16k-0613",
          "gpt-3.5-turbo-16k-0613",
          "gpt-3.5-turbo-16k-0613",
          "gpt-3.5-turbo-16k-0613",
          "gpt-3.5-turbo-16k-0613",
          "gpt-3.5-turbo-16k-0613",
          "gpt-3.5-turbo-16k-0613",
          "gpt-3.5-turbo-16k-0613",
          "gpt-3.5-turbo-16k-0613",
          "gpt-3.5-turbo-16k-0613",
          "gpt-3.5-turbo-16k-0613",
          "gpt-3.5-turbo-16k-0613",
          "gpt-3.5-turbo-16k-0613",
          "gpt-3.5-turbo-16k-0613",
          "gpt-3.5-turbo-16k-0613",
          "gpt-3.5-turbo-16k-0613",
          "gpt-3.5-turbo-16k-0613",
          "gpt-3.5-turbo-16k-0613",
          "gpt-3.5-turbo-16k-0613",
          "gpt-3.5-turbo-16k-0613",
          "gpt-3.5-turbo-16k-0613",
          "gpt-3.5-turbo-16k-0613",
          "gpt-3.5-turbo-16k-0613",
          "gpt-3.5-turbo-16k-0613",
          "gpt-3.5-turbo-16k-0613",
          "gpt-3.5-turbo-16k-0613",
          "gpt-3.5-turbo-16k-0613",
          "gpt-3.5-turbo-16k-0613",
          "gpt-3.5-turbo-16k-0613",
          "gpt-3.5-turbo-16k-0613",
          "gpt-3.5-turbo-16k-0613",
          "gpt-3.5-turbo-16k-0613",
          "gpt-3.5-turbo-16k-0613",
          "gpt-3.5-turbo-16k-0613",
          "gpt-3.5-turbo-16k-0613",
          "gpt-3.5-turbo-16k-0613",
          "gpt-3.5-turbo-16k-0613",
          "gpt-3.5-turbo-16k-0613",
          "gpt-3.5-turbo-16k-0613",
          "gpt-3.5-turbo-16k-0613",
          "gpt-3.5-turbo-16k-0613",
          "gpt-3.5-turbo-16k-0613",
          "gpt-3.5-turbo-16k-0613",
          "gpt-3.5-turbo-16k-0613",
          "gpt-3.5-turbo-16k-0613",
          "gpt-3.5-turbo-16k-0613",
          "gpt-3.5-turbo-16k-0613",
          "gpt-3.5-turbo-16k-0613",
          "gpt-3.5-turbo-16k-0613",
          "gpt-3.5-turbo-16k-0613",
          "gpt-3.5-turbo-16k-0613",
          "gpt-3.5-turbo-16k-0613",
          "gpt-3.5-turbo-16k-0613",
          "gpt-3.5-turbo-16k-0613",
          "gpt-3.5-turbo-16k-0613",
          "gpt-3.5-turbo-16k-0613",
          "gpt-3.5-turbo-16k-0613",
          "gpt-3.5-turbo-16k-0613",
          "gpt-3.5-turbo-16k-0613",
          "gpt-3.5-turbo-16k-0613",
          "gpt-3.5-turbo-16k-0613",
          "gpt-3.5-turbo-16k-0613",
          "gpt-3.5-turbo-16k-0613",
          "gpt-3.5-turbo-16k-0613"
         ],
         "y0": " ",
         "yaxis": "y"
        },
        {
         "alignmentgroup": "True",
         "box": {
          "visible": true
         },
         "hovertemplate": "model=%{y}<br>score=%{x}<extra></extra>",
         "legendgroup": "gpt-4-1106-preview",
         "marker": {
          "color": "#00cc96"
         },
         "name": "gpt-4-1106-preview",
         "offsetgroup": "gpt-4-1106-preview",
         "orientation": "h",
         "points": "all",
         "scalegroup": "True",
         "showlegend": true,
         "type": "violin",
         "x": [
          1,
          0.555555555555555,
          1,
          1,
          1,
          1,
          0.33333333333333304,
          0,
          0.28571428571428503,
          1,
          0.833333333333333,
          0.7142857142857141,
          0.44444444444444403,
          0.375,
          1,
          0.7142857142857141,
          0.75,
          0,
          1,
          0.8571428571428571,
          0.11111111111111101,
          1,
          0.777777777777777,
          0.833333333333333,
          1,
          0.833333333333333,
          0.8888888888888881,
          0.16666666666666602,
          1,
          0.25,
          1,
          0.33333333333333304,
          1,
          0.75,
          0.625,
          0.16666666666666602,
          1,
          0.8888888888888881,
          0,
          0.5,
          1,
          0.42857142857142805,
          0.25,
          0.28571428571428503,
          0.8888888888888881,
          1,
          1,
          1,
          0,
          0.11111111111111101,
          0.14285714285714202,
          0.75,
          1,
          0.6000000000000001,
          1,
          0.8571428571428571,
          0.9090909090909091,
          1,
          0.33333333333333304,
          1,
          0.0625,
          0,
          0.833333333333333,
          1,
          0.7000000000000001,
          1,
          1,
          1,
          1,
          0.923076923076923,
          0.33333333333333304,
          1,
          0.14285714285714202,
          1,
          0.8,
          0,
          0.6000000000000001,
          1,
          0.5,
          0.5,
          0.14285714285714202,
          0.777777777777777,
          1,
          0,
          1,
          0.875,
          0.6666666666666661,
          0.5454545454545451,
          1,
          0.6000000000000001,
          1,
          1,
          0.875,
          0.6000000000000001,
          1,
          1,
          1,
          1
         ],
         "x0": " ",
         "xaxis": "x",
         "y": [
          "gpt-4-1106-preview",
          "gpt-4-1106-preview",
          "gpt-4-1106-preview",
          "gpt-4-1106-preview",
          "gpt-4-1106-preview",
          "gpt-4-1106-preview",
          "gpt-4-1106-preview",
          "gpt-4-1106-preview",
          "gpt-4-1106-preview",
          "gpt-4-1106-preview",
          "gpt-4-1106-preview",
          "gpt-4-1106-preview",
          "gpt-4-1106-preview",
          "gpt-4-1106-preview",
          "gpt-4-1106-preview",
          "gpt-4-1106-preview",
          "gpt-4-1106-preview",
          "gpt-4-1106-preview",
          "gpt-4-1106-preview",
          "gpt-4-1106-preview",
          "gpt-4-1106-preview",
          "gpt-4-1106-preview",
          "gpt-4-1106-preview",
          "gpt-4-1106-preview",
          "gpt-4-1106-preview",
          "gpt-4-1106-preview",
          "gpt-4-1106-preview",
          "gpt-4-1106-preview",
          "gpt-4-1106-preview",
          "gpt-4-1106-preview",
          "gpt-4-1106-preview",
          "gpt-4-1106-preview",
          "gpt-4-1106-preview",
          "gpt-4-1106-preview",
          "gpt-4-1106-preview",
          "gpt-4-1106-preview",
          "gpt-4-1106-preview",
          "gpt-4-1106-preview",
          "gpt-4-1106-preview",
          "gpt-4-1106-preview",
          "gpt-4-1106-preview",
          "gpt-4-1106-preview",
          "gpt-4-1106-preview",
          "gpt-4-1106-preview",
          "gpt-4-1106-preview",
          "gpt-4-1106-preview",
          "gpt-4-1106-preview",
          "gpt-4-1106-preview",
          "gpt-4-1106-preview",
          "gpt-4-1106-preview",
          "gpt-4-1106-preview",
          "gpt-4-1106-preview",
          "gpt-4-1106-preview",
          "gpt-4-1106-preview",
          "gpt-4-1106-preview",
          "gpt-4-1106-preview",
          "gpt-4-1106-preview",
          "gpt-4-1106-preview",
          "gpt-4-1106-preview",
          "gpt-4-1106-preview",
          "gpt-4-1106-preview",
          "gpt-4-1106-preview",
          "gpt-4-1106-preview",
          "gpt-4-1106-preview",
          "gpt-4-1106-preview",
          "gpt-4-1106-preview",
          "gpt-4-1106-preview",
          "gpt-4-1106-preview",
          "gpt-4-1106-preview",
          "gpt-4-1106-preview",
          "gpt-4-1106-preview",
          "gpt-4-1106-preview",
          "gpt-4-1106-preview",
          "gpt-4-1106-preview",
          "gpt-4-1106-preview",
          "gpt-4-1106-preview",
          "gpt-4-1106-preview",
          "gpt-4-1106-preview",
          "gpt-4-1106-preview",
          "gpt-4-1106-preview",
          "gpt-4-1106-preview",
          "gpt-4-1106-preview",
          "gpt-4-1106-preview",
          "gpt-4-1106-preview",
          "gpt-4-1106-preview",
          "gpt-4-1106-preview",
          "gpt-4-1106-preview",
          "gpt-4-1106-preview",
          "gpt-4-1106-preview",
          "gpt-4-1106-preview",
          "gpt-4-1106-preview",
          "gpt-4-1106-preview",
          "gpt-4-1106-preview",
          "gpt-4-1106-preview",
          "gpt-4-1106-preview",
          "gpt-4-1106-preview",
          "gpt-4-1106-preview",
          "gpt-4-1106-preview"
         ],
         "y0": " ",
         "yaxis": "y"
        },
        {
         "alignmentgroup": "True",
         "box": {
          "visible": true
         },
         "hovertemplate": "model=%{y}<br>score=%{x}<extra></extra>",
         "legendgroup": "gpt-4-1106-preview-v1.1",
         "marker": {
          "color": "#ab63fa"
         },
         "name": "gpt-4-1106-preview-v1.1",
         "offsetgroup": "gpt-4-1106-preview-v1.1",
         "orientation": "h",
         "points": "all",
         "scalegroup": "True",
         "showlegend": true,
         "type": "violin",
         "x": [
          0,
          0.6000000000000001,
          1,
          0.833333333333333,
          0.5,
          0.45454545454545403,
          1,
          0.33333333333333304,
          1,
          0.6000000000000001,
          0.4,
          0.875,
          0.625,
          0.5714285714285711,
          0,
          1,
          1,
          0.625,
          1,
          1,
          0,
          1,
          0.25,
          1,
          0.375,
          0,
          1,
          1,
          1,
          0.625,
          0.818181818181818,
          1,
          0.75,
          0.7272727272727271,
          1,
          0,
          0.9166666666666661,
          1,
          1,
          1,
          1,
          0.6000000000000001,
          0.45454545454545403,
          0.555555555555555,
          1,
          0.4,
          1,
          1,
          1,
          0.6666666666666661,
          0.25,
          1,
          1,
          0.75,
          0.833333333333333,
          1,
          0.875,
          0.6666666666666661,
          0.5,
          1,
          0.33333333333333304,
          0.5,
          1,
          1,
          0.7142857142857141,
          0.7142857142857141,
          0.8888888888888881,
          0.5,
          0,
          0.6000000000000001,
          0.4,
          0.875,
          0.4,
          1,
          0.555555555555555,
          0.42857142857142805,
          0,
          1,
          0.75,
          0.7142857142857141,
          0.5,
          0.2,
          0.833333333333333,
          1,
          1,
          0,
          0.75,
          0.5454545454545451,
          0,
          1,
          1,
          1,
          1,
          0.8888888888888881,
          0.875,
          1,
          0.833333333333333,
          1
         ],
         "x0": " ",
         "xaxis": "x",
         "y": [
          "gpt-4-1106-preview-v1.1",
          "gpt-4-1106-preview-v1.1",
          "gpt-4-1106-preview-v1.1",
          "gpt-4-1106-preview-v1.1",
          "gpt-4-1106-preview-v1.1",
          "gpt-4-1106-preview-v1.1",
          "gpt-4-1106-preview-v1.1",
          "gpt-4-1106-preview-v1.1",
          "gpt-4-1106-preview-v1.1",
          "gpt-4-1106-preview-v1.1",
          "gpt-4-1106-preview-v1.1",
          "gpt-4-1106-preview-v1.1",
          "gpt-4-1106-preview-v1.1",
          "gpt-4-1106-preview-v1.1",
          "gpt-4-1106-preview-v1.1",
          "gpt-4-1106-preview-v1.1",
          "gpt-4-1106-preview-v1.1",
          "gpt-4-1106-preview-v1.1",
          "gpt-4-1106-preview-v1.1",
          "gpt-4-1106-preview-v1.1",
          "gpt-4-1106-preview-v1.1",
          "gpt-4-1106-preview-v1.1",
          "gpt-4-1106-preview-v1.1",
          "gpt-4-1106-preview-v1.1",
          "gpt-4-1106-preview-v1.1",
          "gpt-4-1106-preview-v1.1",
          "gpt-4-1106-preview-v1.1",
          "gpt-4-1106-preview-v1.1",
          "gpt-4-1106-preview-v1.1",
          "gpt-4-1106-preview-v1.1",
          "gpt-4-1106-preview-v1.1",
          "gpt-4-1106-preview-v1.1",
          "gpt-4-1106-preview-v1.1",
          "gpt-4-1106-preview-v1.1",
          "gpt-4-1106-preview-v1.1",
          "gpt-4-1106-preview-v1.1",
          "gpt-4-1106-preview-v1.1",
          "gpt-4-1106-preview-v1.1",
          "gpt-4-1106-preview-v1.1",
          "gpt-4-1106-preview-v1.1",
          "gpt-4-1106-preview-v1.1",
          "gpt-4-1106-preview-v1.1",
          "gpt-4-1106-preview-v1.1",
          "gpt-4-1106-preview-v1.1",
          "gpt-4-1106-preview-v1.1",
          "gpt-4-1106-preview-v1.1",
          "gpt-4-1106-preview-v1.1",
          "gpt-4-1106-preview-v1.1",
          "gpt-4-1106-preview-v1.1",
          "gpt-4-1106-preview-v1.1",
          "gpt-4-1106-preview-v1.1",
          "gpt-4-1106-preview-v1.1",
          "gpt-4-1106-preview-v1.1",
          "gpt-4-1106-preview-v1.1",
          "gpt-4-1106-preview-v1.1",
          "gpt-4-1106-preview-v1.1",
          "gpt-4-1106-preview-v1.1",
          "gpt-4-1106-preview-v1.1",
          "gpt-4-1106-preview-v1.1",
          "gpt-4-1106-preview-v1.1",
          "gpt-4-1106-preview-v1.1",
          "gpt-4-1106-preview-v1.1",
          "gpt-4-1106-preview-v1.1",
          "gpt-4-1106-preview-v1.1",
          "gpt-4-1106-preview-v1.1",
          "gpt-4-1106-preview-v1.1",
          "gpt-4-1106-preview-v1.1",
          "gpt-4-1106-preview-v1.1",
          "gpt-4-1106-preview-v1.1",
          "gpt-4-1106-preview-v1.1",
          "gpt-4-1106-preview-v1.1",
          "gpt-4-1106-preview-v1.1",
          "gpt-4-1106-preview-v1.1",
          "gpt-4-1106-preview-v1.1",
          "gpt-4-1106-preview-v1.1",
          "gpt-4-1106-preview-v1.1",
          "gpt-4-1106-preview-v1.1",
          "gpt-4-1106-preview-v1.1",
          "gpt-4-1106-preview-v1.1",
          "gpt-4-1106-preview-v1.1",
          "gpt-4-1106-preview-v1.1",
          "gpt-4-1106-preview-v1.1",
          "gpt-4-1106-preview-v1.1",
          "gpt-4-1106-preview-v1.1",
          "gpt-4-1106-preview-v1.1",
          "gpt-4-1106-preview-v1.1",
          "gpt-4-1106-preview-v1.1",
          "gpt-4-1106-preview-v1.1",
          "gpt-4-1106-preview-v1.1",
          "gpt-4-1106-preview-v1.1",
          "gpt-4-1106-preview-v1.1",
          "gpt-4-1106-preview-v1.1",
          "gpt-4-1106-preview-v1.1",
          "gpt-4-1106-preview-v1.1",
          "gpt-4-1106-preview-v1.1",
          "gpt-4-1106-preview-v1.1",
          "gpt-4-1106-preview-v1.1",
          "gpt-4-1106-preview-v1.1"
         ],
         "y0": " ",
         "yaxis": "y"
        }
       ],
       "layout": {
        "legend": {
         "title": {
          "text": "model"
         },
         "tracegroupgap": 0
        },
        "margin": {
         "t": 60
        },
        "template": {
         "data": {
          "bar": [
           {
            "error_x": {
             "color": "#2a3f5f"
            },
            "error_y": {
             "color": "#2a3f5f"
            },
            "marker": {
             "line": {
              "color": "#E5ECF6",
              "width": 0.5
             },
             "pattern": {
              "fillmode": "overlay",
              "size": 10,
              "solidity": 0.2
             }
            },
            "type": "bar"
           }
          ],
          "barpolar": [
           {
            "marker": {
             "line": {
              "color": "#E5ECF6",
              "width": 0.5
             },
             "pattern": {
              "fillmode": "overlay",
              "size": 10,
              "solidity": 0.2
             }
            },
            "type": "barpolar"
           }
          ],
          "carpet": [
           {
            "aaxis": {
             "endlinecolor": "#2a3f5f",
             "gridcolor": "white",
             "linecolor": "white",
             "minorgridcolor": "white",
             "startlinecolor": "#2a3f5f"
            },
            "baxis": {
             "endlinecolor": "#2a3f5f",
             "gridcolor": "white",
             "linecolor": "white",
             "minorgridcolor": "white",
             "startlinecolor": "#2a3f5f"
            },
            "type": "carpet"
           }
          ],
          "choropleth": [
           {
            "colorbar": {
             "outlinewidth": 0,
             "ticks": ""
            },
            "type": "choropleth"
           }
          ],
          "contour": [
           {
            "colorbar": {
             "outlinewidth": 0,
             "ticks": ""
            },
            "colorscale": [
             [
              0,
              "#0d0887"
             ],
             [
              0.1111111111111111,
              "#46039f"
             ],
             [
              0.2222222222222222,
              "#7201a8"
             ],
             [
              0.3333333333333333,
              "#9c179e"
             ],
             [
              0.4444444444444444,
              "#bd3786"
             ],
             [
              0.5555555555555556,
              "#d8576b"
             ],
             [
              0.6666666666666666,
              "#ed7953"
             ],
             [
              0.7777777777777778,
              "#fb9f3a"
             ],
             [
              0.8888888888888888,
              "#fdca26"
             ],
             [
              1,
              "#f0f921"
             ]
            ],
            "type": "contour"
           }
          ],
          "contourcarpet": [
           {
            "colorbar": {
             "outlinewidth": 0,
             "ticks": ""
            },
            "type": "contourcarpet"
           }
          ],
          "heatmap": [
           {
            "colorbar": {
             "outlinewidth": 0,
             "ticks": ""
            },
            "colorscale": [
             [
              0,
              "#0d0887"
             ],
             [
              0.1111111111111111,
              "#46039f"
             ],
             [
              0.2222222222222222,
              "#7201a8"
             ],
             [
              0.3333333333333333,
              "#9c179e"
             ],
             [
              0.4444444444444444,
              "#bd3786"
             ],
             [
              0.5555555555555556,
              "#d8576b"
             ],
             [
              0.6666666666666666,
              "#ed7953"
             ],
             [
              0.7777777777777778,
              "#fb9f3a"
             ],
             [
              0.8888888888888888,
              "#fdca26"
             ],
             [
              1,
              "#f0f921"
             ]
            ],
            "type": "heatmap"
           }
          ],
          "heatmapgl": [
           {
            "colorbar": {
             "outlinewidth": 0,
             "ticks": ""
            },
            "colorscale": [
             [
              0,
              "#0d0887"
             ],
             [
              0.1111111111111111,
              "#46039f"
             ],
             [
              0.2222222222222222,
              "#7201a8"
             ],
             [
              0.3333333333333333,
              "#9c179e"
             ],
             [
              0.4444444444444444,
              "#bd3786"
             ],
             [
              0.5555555555555556,
              "#d8576b"
             ],
             [
              0.6666666666666666,
              "#ed7953"
             ],
             [
              0.7777777777777778,
              "#fb9f3a"
             ],
             [
              0.8888888888888888,
              "#fdca26"
             ],
             [
              1,
              "#f0f921"
             ]
            ],
            "type": "heatmapgl"
           }
          ],
          "histogram": [
           {
            "marker": {
             "pattern": {
              "fillmode": "overlay",
              "size": 10,
              "solidity": 0.2
             }
            },
            "type": "histogram"
           }
          ],
          "histogram2d": [
           {
            "colorbar": {
             "outlinewidth": 0,
             "ticks": ""
            },
            "colorscale": [
             [
              0,
              "#0d0887"
             ],
             [
              0.1111111111111111,
              "#46039f"
             ],
             [
              0.2222222222222222,
              "#7201a8"
             ],
             [
              0.3333333333333333,
              "#9c179e"
             ],
             [
              0.4444444444444444,
              "#bd3786"
             ],
             [
              0.5555555555555556,
              "#d8576b"
             ],
             [
              0.6666666666666666,
              "#ed7953"
             ],
             [
              0.7777777777777778,
              "#fb9f3a"
             ],
             [
              0.8888888888888888,
              "#fdca26"
             ],
             [
              1,
              "#f0f921"
             ]
            ],
            "type": "histogram2d"
           }
          ],
          "histogram2dcontour": [
           {
            "colorbar": {
             "outlinewidth": 0,
             "ticks": ""
            },
            "colorscale": [
             [
              0,
              "#0d0887"
             ],
             [
              0.1111111111111111,
              "#46039f"
             ],
             [
              0.2222222222222222,
              "#7201a8"
             ],
             [
              0.3333333333333333,
              "#9c179e"
             ],
             [
              0.4444444444444444,
              "#bd3786"
             ],
             [
              0.5555555555555556,
              "#d8576b"
             ],
             [
              0.6666666666666666,
              "#ed7953"
             ],
             [
              0.7777777777777778,
              "#fb9f3a"
             ],
             [
              0.8888888888888888,
              "#fdca26"
             ],
             [
              1,
              "#f0f921"
             ]
            ],
            "type": "histogram2dcontour"
           }
          ],
          "mesh3d": [
           {
            "colorbar": {
             "outlinewidth": 0,
             "ticks": ""
            },
            "type": "mesh3d"
           }
          ],
          "parcoords": [
           {
            "line": {
             "colorbar": {
              "outlinewidth": 0,
              "ticks": ""
             }
            },
            "type": "parcoords"
           }
          ],
          "pie": [
           {
            "automargin": true,
            "type": "pie"
           }
          ],
          "scatter": [
           {
            "fillpattern": {
             "fillmode": "overlay",
             "size": 10,
             "solidity": 0.2
            },
            "type": "scatter"
           }
          ],
          "scatter3d": [
           {
            "line": {
             "colorbar": {
              "outlinewidth": 0,
              "ticks": ""
             }
            },
            "marker": {
             "colorbar": {
              "outlinewidth": 0,
              "ticks": ""
             }
            },
            "type": "scatter3d"
           }
          ],
          "scattercarpet": [
           {
            "marker": {
             "colorbar": {
              "outlinewidth": 0,
              "ticks": ""
             }
            },
            "type": "scattercarpet"
           }
          ],
          "scattergeo": [
           {
            "marker": {
             "colorbar": {
              "outlinewidth": 0,
              "ticks": ""
             }
            },
            "type": "scattergeo"
           }
          ],
          "scattergl": [
           {
            "marker": {
             "colorbar": {
              "outlinewidth": 0,
              "ticks": ""
             }
            },
            "type": "scattergl"
           }
          ],
          "scattermapbox": [
           {
            "marker": {
             "colorbar": {
              "outlinewidth": 0,
              "ticks": ""
             }
            },
            "type": "scattermapbox"
           }
          ],
          "scatterpolar": [
           {
            "marker": {
             "colorbar": {
              "outlinewidth": 0,
              "ticks": ""
             }
            },
            "type": "scatterpolar"
           }
          ],
          "scatterpolargl": [
           {
            "marker": {
             "colorbar": {
              "outlinewidth": 0,
              "ticks": ""
             }
            },
            "type": "scatterpolargl"
           }
          ],
          "scatterternary": [
           {
            "marker": {
             "colorbar": {
              "outlinewidth": 0,
              "ticks": ""
             }
            },
            "type": "scatterternary"
           }
          ],
          "surface": [
           {
            "colorbar": {
             "outlinewidth": 0,
             "ticks": ""
            },
            "colorscale": [
             [
              0,
              "#0d0887"
             ],
             [
              0.1111111111111111,
              "#46039f"
             ],
             [
              0.2222222222222222,
              "#7201a8"
             ],
             [
              0.3333333333333333,
              "#9c179e"
             ],
             [
              0.4444444444444444,
              "#bd3786"
             ],
             [
              0.5555555555555556,
              "#d8576b"
             ],
             [
              0.6666666666666666,
              "#ed7953"
             ],
             [
              0.7777777777777778,
              "#fb9f3a"
             ],
             [
              0.8888888888888888,
              "#fdca26"
             ],
             [
              1,
              "#f0f921"
             ]
            ],
            "type": "surface"
           }
          ],
          "table": [
           {
            "cells": {
             "fill": {
              "color": "#EBF0F8"
             },
             "line": {
              "color": "white"
             }
            },
            "header": {
             "fill": {
              "color": "#C8D4E3"
             },
             "line": {
              "color": "white"
             }
            },
            "type": "table"
           }
          ]
         },
         "layout": {
          "annotationdefaults": {
           "arrowcolor": "#2a3f5f",
           "arrowhead": 0,
           "arrowwidth": 1
          },
          "autotypenumbers": "strict",
          "coloraxis": {
           "colorbar": {
            "outlinewidth": 0,
            "ticks": ""
           }
          },
          "colorscale": {
           "diverging": [
            [
             0,
             "#8e0152"
            ],
            [
             0.1,
             "#c51b7d"
            ],
            [
             0.2,
             "#de77ae"
            ],
            [
             0.3,
             "#f1b6da"
            ],
            [
             0.4,
             "#fde0ef"
            ],
            [
             0.5,
             "#f7f7f7"
            ],
            [
             0.6,
             "#e6f5d0"
            ],
            [
             0.7,
             "#b8e186"
            ],
            [
             0.8,
             "#7fbc41"
            ],
            [
             0.9,
             "#4d9221"
            ],
            [
             1,
             "#276419"
            ]
           ],
           "sequential": [
            [
             0,
             "#0d0887"
            ],
            [
             0.1111111111111111,
             "#46039f"
            ],
            [
             0.2222222222222222,
             "#7201a8"
            ],
            [
             0.3333333333333333,
             "#9c179e"
            ],
            [
             0.4444444444444444,
             "#bd3786"
            ],
            [
             0.5555555555555556,
             "#d8576b"
            ],
            [
             0.6666666666666666,
             "#ed7953"
            ],
            [
             0.7777777777777778,
             "#fb9f3a"
            ],
            [
             0.8888888888888888,
             "#fdca26"
            ],
            [
             1,
             "#f0f921"
            ]
           ],
           "sequentialminus": [
            [
             0,
             "#0d0887"
            ],
            [
             0.1111111111111111,
             "#46039f"
            ],
            [
             0.2222222222222222,
             "#7201a8"
            ],
            [
             0.3333333333333333,
             "#9c179e"
            ],
            [
             0.4444444444444444,
             "#bd3786"
            ],
            [
             0.5555555555555556,
             "#d8576b"
            ],
            [
             0.6666666666666666,
             "#ed7953"
            ],
            [
             0.7777777777777778,
             "#fb9f3a"
            ],
            [
             0.8888888888888888,
             "#fdca26"
            ],
            [
             1,
             "#f0f921"
            ]
           ]
          },
          "colorway": [
           "#636efa",
           "#EF553B",
           "#00cc96",
           "#ab63fa",
           "#FFA15A",
           "#19d3f3",
           "#FF6692",
           "#B6E880",
           "#FF97FF",
           "#FECB52"
          ],
          "font": {
           "color": "#2a3f5f"
          },
          "geo": {
           "bgcolor": "white",
           "lakecolor": "white",
           "landcolor": "#E5ECF6",
           "showlakes": true,
           "showland": true,
           "subunitcolor": "white"
          },
          "hoverlabel": {
           "align": "left"
          },
          "hovermode": "closest",
          "mapbox": {
           "style": "light"
          },
          "paper_bgcolor": "white",
          "plot_bgcolor": "#E5ECF6",
          "polar": {
           "angularaxis": {
            "gridcolor": "white",
            "linecolor": "white",
            "ticks": ""
           },
           "bgcolor": "#E5ECF6",
           "radialaxis": {
            "gridcolor": "white",
            "linecolor": "white",
            "ticks": ""
           }
          },
          "scene": {
           "xaxis": {
            "backgroundcolor": "#E5ECF6",
            "gridcolor": "white",
            "gridwidth": 2,
            "linecolor": "white",
            "showbackground": true,
            "ticks": "",
            "zerolinecolor": "white"
           },
           "yaxis": {
            "backgroundcolor": "#E5ECF6",
            "gridcolor": "white",
            "gridwidth": 2,
            "linecolor": "white",
            "showbackground": true,
            "ticks": "",
            "zerolinecolor": "white"
           },
           "zaxis": {
            "backgroundcolor": "#E5ECF6",
            "gridcolor": "white",
            "gridwidth": 2,
            "linecolor": "white",
            "showbackground": true,
            "ticks": "",
            "zerolinecolor": "white"
           }
          },
          "shapedefaults": {
           "line": {
            "color": "#2a3f5f"
           }
          },
          "ternary": {
           "aaxis": {
            "gridcolor": "white",
            "linecolor": "white",
            "ticks": ""
           },
           "baxis": {
            "gridcolor": "white",
            "linecolor": "white",
            "ticks": ""
           },
           "bgcolor": "#E5ECF6",
           "caxis": {
            "gridcolor": "white",
            "linecolor": "white",
            "ticks": ""
           }
          },
          "title": {
           "x": 0.05
          },
          "xaxis": {
           "automargin": true,
           "gridcolor": "white",
           "linecolor": "white",
           "ticks": "",
           "title": {
            "standoff": 15
           },
           "zerolinecolor": "white",
           "zerolinewidth": 2
          },
          "yaxis": {
           "automargin": true,
           "gridcolor": "white",
           "linecolor": "white",
           "ticks": "",
           "title": {
            "standoff": 15
           },
           "zerolinecolor": "white",
           "zerolinewidth": 2
          }
         }
        },
        "violinmode": "overlay",
        "xaxis": {
         "anchor": "y",
         "domain": [
          0,
          1
         ],
         "tickangle": 0,
         "title": {
          "text": "score"
         }
        },
        "yaxis": {
         "anchor": "x",
         "categoryarray": [
          "gpt-4-1106-preview-v1.1",
          "gpt-4-1106-preview",
          "gpt-3.5-turbo-16k-0613",
          "gpt-4-0613"
         ],
         "categoryorder": "array",
         "domain": [
          0,
          1
         ],
         "title": {
          "text": "model"
         }
        }
       }
      }
     },
     "metadata": {},
     "output_type": "display_data"
    },
    {
     "data": {
      "application/vnd.plotly.v1+json": {
       "config": {
        "plotlyServerURL": "https://plot.ly"
       },
       "data": [
        {
         "alignmentgroup": "True",
         "box": {
          "visible": true
         },
         "hovertemplate": "model=%{y}<br>score=%{x}<extra></extra>",
         "legendgroup": "gpt-4-0613",
         "marker": {
          "color": "#636efa"
         },
         "name": "gpt-4-0613",
         "offsetgroup": "gpt-4-0613",
         "orientation": "h",
         "points": "all",
         "scalegroup": "True",
         "showlegend": true,
         "type": "violin",
         "x": [
          0.7165894343455641,
          0.65550839102721,
          0.690637897955198,
          0.6678140445128931,
          0.675209008484234,
          0.685798305163692,
          0.6689272590498081,
          0.6852196227256111,
          0.6515116136994931,
          0.742914812092288,
          0.665361953080804,
          0.7181065466278611,
          0.7298901823611541,
          0.659131043703266,
          0.672575479542553,
          0.6597766471027671,
          0.6716637914384691,
          0.653587036085165,
          0.689923247800983,
          0.7339329433090961,
          0.619835788796369,
          0.701502547541011,
          0.6734447327448451,
          0.7110077976827951,
          0.659487136954746,
          0.6835241801256631,
          0.731463331969578,
          0.695559790913965,
          0.663723472614788,
          0.7145287189572721,
          0.7282615739284041,
          0.682283305567515,
          0.703740657796313,
          0.703187062520766,
          0.6673828624697471,
          0.6608278436971761,
          0.67805455185925,
          0.7305406275883951,
          0.664558069144624,
          0.692811889820227,
          0.677073449399165,
          0.6487800551674391,
          0.719517594414353,
          0.660861364105205,
          0.7232630363321141,
          0.6640327707799221,
          0.698528624172105,
          0.697650029478809,
          0.674958023924215,
          0.6822772849785781,
          0.651728588773249,
          0.721295032761186,
          0.7400918039384391,
          0.742520418328891,
          0.7234084942463691,
          0.748863298924608,
          0.6812583553714241,
          0.6873424989996211,
          0.701789285241981,
          0.7031668205544681,
          0.737120444157433,
          0.6883666040080251,
          0.6962104886832651,
          0.6814375672541221,
          0.6829629149148311,
          0.6742273654137451,
          0.707579510194776,
          0.6765840369960641,
          0.6524236001947991,
          0.6529146251841871,
          0.650060327343012,
          0.6639314711246651,
          0.6742507150036721,
          0.671820231481971,
          0.707234415666395,
          0.642713297887845,
          0.697081382654928,
          0.6927396798362331,
          0.7358189137009281,
          0.690530665718738,
          0.723429734087988,
          0.669920270426212,
          0.668956779712761,
          0.667339117290849,
          0.708851536553166,
          0.7073844790369651,
          0.728048716203029,
          0.6867901358816181,
          0.7169178882057541,
          0.71351234223962,
          0.7096980679035021,
          0.627058499335402,
          0.678807664543701,
          0.7334574895562621,
          0.754396638415881,
          0.6879638325813261,
          0.731451079660548,
          0.6844806539046051
         ],
         "x0": " ",
         "xaxis": "x",
         "y": [
          "gpt-4-0613",
          "gpt-4-0613",
          "gpt-4-0613",
          "gpt-4-0613",
          "gpt-4-0613",
          "gpt-4-0613",
          "gpt-4-0613",
          "gpt-4-0613",
          "gpt-4-0613",
          "gpt-4-0613",
          "gpt-4-0613",
          "gpt-4-0613",
          "gpt-4-0613",
          "gpt-4-0613",
          "gpt-4-0613",
          "gpt-4-0613",
          "gpt-4-0613",
          "gpt-4-0613",
          "gpt-4-0613",
          "gpt-4-0613",
          "gpt-4-0613",
          "gpt-4-0613",
          "gpt-4-0613",
          "gpt-4-0613",
          "gpt-4-0613",
          "gpt-4-0613",
          "gpt-4-0613",
          "gpt-4-0613",
          "gpt-4-0613",
          "gpt-4-0613",
          "gpt-4-0613",
          "gpt-4-0613",
          "gpt-4-0613",
          "gpt-4-0613",
          "gpt-4-0613",
          "gpt-4-0613",
          "gpt-4-0613",
          "gpt-4-0613",
          "gpt-4-0613",
          "gpt-4-0613",
          "gpt-4-0613",
          "gpt-4-0613",
          "gpt-4-0613",
          "gpt-4-0613",
          "gpt-4-0613",
          "gpt-4-0613",
          "gpt-4-0613",
          "gpt-4-0613",
          "gpt-4-0613",
          "gpt-4-0613",
          "gpt-4-0613",
          "gpt-4-0613",
          "gpt-4-0613",
          "gpt-4-0613",
          "gpt-4-0613",
          "gpt-4-0613",
          "gpt-4-0613",
          "gpt-4-0613",
          "gpt-4-0613",
          "gpt-4-0613",
          "gpt-4-0613",
          "gpt-4-0613",
          "gpt-4-0613",
          "gpt-4-0613",
          "gpt-4-0613",
          "gpt-4-0613",
          "gpt-4-0613",
          "gpt-4-0613",
          "gpt-4-0613",
          "gpt-4-0613",
          "gpt-4-0613",
          "gpt-4-0613",
          "gpt-4-0613",
          "gpt-4-0613",
          "gpt-4-0613",
          "gpt-4-0613",
          "gpt-4-0613",
          "gpt-4-0613",
          "gpt-4-0613",
          "gpt-4-0613",
          "gpt-4-0613",
          "gpt-4-0613",
          "gpt-4-0613",
          "gpt-4-0613",
          "gpt-4-0613",
          "gpt-4-0613",
          "gpt-4-0613",
          "gpt-4-0613",
          "gpt-4-0613",
          "gpt-4-0613",
          "gpt-4-0613",
          "gpt-4-0613",
          "gpt-4-0613",
          "gpt-4-0613",
          "gpt-4-0613",
          "gpt-4-0613",
          "gpt-4-0613",
          "gpt-4-0613"
         ],
         "y0": " ",
         "yaxis": "y"
        },
        {
         "alignmentgroup": "True",
         "box": {
          "visible": true
         },
         "hovertemplate": "model=%{y}<br>score=%{x}<extra></extra>",
         "legendgroup": "gpt-3.5-turbo-16k-0613",
         "marker": {
          "color": "#EF553B"
         },
         "name": "gpt-3.5-turbo-16k-0613",
         "offsetgroup": "gpt-3.5-turbo-16k-0613",
         "orientation": "h",
         "points": "all",
         "scalegroup": "True",
         "showlegend": true,
         "type": "violin",
         "x": [
          0.7148706083466421,
          0.660124044921626,
          0.703938533196062,
          0.679570305046128,
          0.667294727205163,
          0.710141378481257,
          0.667246279151778,
          0.6691979412339361,
          0.6439049791661571,
          0.7492866939197751,
          0.635512719789722,
          0.698998555562075,
          0.7258494828087271,
          0.6645772839931381,
          0.7034218311857,
          0.7004256168704871,
          0.6722530393600711,
          0.682497153468967,
          0.704335843740556,
          0.724819059229292,
          0.650502866885704,
          0.6958864447453841,
          0.710363042550975,
          0.7176849490350641,
          0.661759600477243,
          0.630415909902581,
          0.7221890219651661,
          0.688331254031834,
          0.658476169396864,
          0.7187912240825031,
          0.7144249927621991,
          0.6937737939205271,
          0.6862997441743841,
          0.687048242579369,
          0.675337561754173,
          0.6619052661979941,
          0.6789118650893401,
          0.677715059403437,
          0.6464959147079871,
          0.6993657980360181,
          0.6620359779766091,
          0.659664531763545,
          0.6798290056027151,
          0.656253951632332,
          0.7291973009152071,
          0.6591912195911811,
          0.689796652323243,
          0.685417869547117,
          0.6967780409438411,
          0.6760790089030071,
          0.644447551177418,
          0.717270384259687,
          0.6931143613432911,
          0.7682846042295861,
          0.715466909524037,
          0.7425173889223791,
          0.698503411272213,
          0.669732532906646,
          0.700208994313339,
          0.685552928701846,
          0.7299212721146401,
          0.6885359611430031,
          0.6833242597372691,
          0.66077115141381,
          0.674175246881865,
          0.674436700224028,
          0.726000816447944,
          0.6663621811764541,
          0.6582010882440861,
          0.6750138656107051,
          0.6499131764950821,
          0.6530769106149711,
          0.6902296327217441,
          0.6534262461833861,
          0.71420360884063,
          0.6510576124532881,
          0.66280213573374,
          0.710793419574676,
          0.726833227342874,
          0.676031136435652,
          0.7222907462537741,
          0.6652513069802081,
          0.6854369455101641,
          0.691592372858799,
          0.721750183198086,
          0.685085738319061,
          0.7277738833496911,
          0.7058852985969221,
          0.7048595333816231,
          0.7026478480173891,
          0.7285683873055611,
          0.6509448861511791,
          0.6657835894866051,
          0.7288252179175561,
          0.7663233435108671,
          0.698919873244032,
          0.7289965648102611,
          0.672088942933422
         ],
         "x0": " ",
         "xaxis": "x",
         "y": [
          "gpt-3.5-turbo-16k-0613",
          "gpt-3.5-turbo-16k-0613",
          "gpt-3.5-turbo-16k-0613",
          "gpt-3.5-turbo-16k-0613",
          "gpt-3.5-turbo-16k-0613",
          "gpt-3.5-turbo-16k-0613",
          "gpt-3.5-turbo-16k-0613",
          "gpt-3.5-turbo-16k-0613",
          "gpt-3.5-turbo-16k-0613",
          "gpt-3.5-turbo-16k-0613",
          "gpt-3.5-turbo-16k-0613",
          "gpt-3.5-turbo-16k-0613",
          "gpt-3.5-turbo-16k-0613",
          "gpt-3.5-turbo-16k-0613",
          "gpt-3.5-turbo-16k-0613",
          "gpt-3.5-turbo-16k-0613",
          "gpt-3.5-turbo-16k-0613",
          "gpt-3.5-turbo-16k-0613",
          "gpt-3.5-turbo-16k-0613",
          "gpt-3.5-turbo-16k-0613",
          "gpt-3.5-turbo-16k-0613",
          "gpt-3.5-turbo-16k-0613",
          "gpt-3.5-turbo-16k-0613",
          "gpt-3.5-turbo-16k-0613",
          "gpt-3.5-turbo-16k-0613",
          "gpt-3.5-turbo-16k-0613",
          "gpt-3.5-turbo-16k-0613",
          "gpt-3.5-turbo-16k-0613",
          "gpt-3.5-turbo-16k-0613",
          "gpt-3.5-turbo-16k-0613",
          "gpt-3.5-turbo-16k-0613",
          "gpt-3.5-turbo-16k-0613",
          "gpt-3.5-turbo-16k-0613",
          "gpt-3.5-turbo-16k-0613",
          "gpt-3.5-turbo-16k-0613",
          "gpt-3.5-turbo-16k-0613",
          "gpt-3.5-turbo-16k-0613",
          "gpt-3.5-turbo-16k-0613",
          "gpt-3.5-turbo-16k-0613",
          "gpt-3.5-turbo-16k-0613",
          "gpt-3.5-turbo-16k-0613",
          "gpt-3.5-turbo-16k-0613",
          "gpt-3.5-turbo-16k-0613",
          "gpt-3.5-turbo-16k-0613",
          "gpt-3.5-turbo-16k-0613",
          "gpt-3.5-turbo-16k-0613",
          "gpt-3.5-turbo-16k-0613",
          "gpt-3.5-turbo-16k-0613",
          "gpt-3.5-turbo-16k-0613",
          "gpt-3.5-turbo-16k-0613",
          "gpt-3.5-turbo-16k-0613",
          "gpt-3.5-turbo-16k-0613",
          "gpt-3.5-turbo-16k-0613",
          "gpt-3.5-turbo-16k-0613",
          "gpt-3.5-turbo-16k-0613",
          "gpt-3.5-turbo-16k-0613",
          "gpt-3.5-turbo-16k-0613",
          "gpt-3.5-turbo-16k-0613",
          "gpt-3.5-turbo-16k-0613",
          "gpt-3.5-turbo-16k-0613",
          "gpt-3.5-turbo-16k-0613",
          "gpt-3.5-turbo-16k-0613",
          "gpt-3.5-turbo-16k-0613",
          "gpt-3.5-turbo-16k-0613",
          "gpt-3.5-turbo-16k-0613",
          "gpt-3.5-turbo-16k-0613",
          "gpt-3.5-turbo-16k-0613",
          "gpt-3.5-turbo-16k-0613",
          "gpt-3.5-turbo-16k-0613",
          "gpt-3.5-turbo-16k-0613",
          "gpt-3.5-turbo-16k-0613",
          "gpt-3.5-turbo-16k-0613",
          "gpt-3.5-turbo-16k-0613",
          "gpt-3.5-turbo-16k-0613",
          "gpt-3.5-turbo-16k-0613",
          "gpt-3.5-turbo-16k-0613",
          "gpt-3.5-turbo-16k-0613",
          "gpt-3.5-turbo-16k-0613",
          "gpt-3.5-turbo-16k-0613",
          "gpt-3.5-turbo-16k-0613",
          "gpt-3.5-turbo-16k-0613",
          "gpt-3.5-turbo-16k-0613",
          "gpt-3.5-turbo-16k-0613",
          "gpt-3.5-turbo-16k-0613",
          "gpt-3.5-turbo-16k-0613",
          "gpt-3.5-turbo-16k-0613",
          "gpt-3.5-turbo-16k-0613",
          "gpt-3.5-turbo-16k-0613",
          "gpt-3.5-turbo-16k-0613",
          "gpt-3.5-turbo-16k-0613",
          "gpt-3.5-turbo-16k-0613",
          "gpt-3.5-turbo-16k-0613",
          "gpt-3.5-turbo-16k-0613",
          "gpt-3.5-turbo-16k-0613",
          "gpt-3.5-turbo-16k-0613",
          "gpt-3.5-turbo-16k-0613",
          "gpt-3.5-turbo-16k-0613",
          "gpt-3.5-turbo-16k-0613"
         ],
         "y0": " ",
         "yaxis": "y"
        },
        {
         "alignmentgroup": "True",
         "box": {
          "visible": true
         },
         "hovertemplate": "model=%{y}<br>score=%{x}<extra></extra>",
         "legendgroup": "gpt-4-1106-preview",
         "marker": {
          "color": "#00cc96"
         },
         "name": "gpt-4-1106-preview",
         "offsetgroup": "gpt-4-1106-preview",
         "orientation": "h",
         "points": "all",
         "scalegroup": "True",
         "showlegend": true,
         "type": "violin",
         "x": [
          0.703796365906711,
          0.672703297705006,
          0.700456050509197,
          0.669114220614626,
          0.6648318488897981,
          0.6920829876073951,
          0.6633519952807491,
          0.6856499331382011,
          0.636738531492067,
          0.753201635565056,
          0.6587729053315461,
          0.7149712322248201,
          0.726804878150026,
          0.6588829159606551,
          0.6945125758799771,
          0.67761432828342,
          0.680708211891423,
          0.65750711363611,
          0.70273459382987,
          0.73051680318969,
          0.625599499508514,
          0.69514972567123,
          0.7010769350772861,
          0.6985678614899671,
          0.66197430210546,
          0.661032216953081,
          0.7214219674048881,
          0.69360502728992,
          0.6673020716868391,
          0.6965661418855531,
          0.723878187862244,
          0.6822782496153981,
          0.6882230304097751,
          0.675156391101359,
          0.655228919877434,
          0.654645280401081,
          0.670011918154886,
          0.674949013188437,
          0.644940040311167,
          0.686402302467596,
          0.666086572424267,
          0.650113644463302,
          0.723029462217317,
          0.6662245450929221,
          0.7349308751072231,
          0.668902568508255,
          0.6791893028744831,
          0.6735699296815351,
          0.655244657710609,
          0.6757282560522381,
          0.640701755634789,
          0.6992705910130841,
          0.694639669578606,
          0.765950178743327,
          0.7144471697832101,
          0.742272939443243,
          0.6941246626897011,
          0.6833258029440581,
          0.71027186745725,
          0.683719471593492,
          0.7410145271955481,
          0.6812666761857731,
          0.689529890200547,
          0.660477779719437,
          0.6690279762721151,
          0.662142645949052,
          0.678319000697281,
          0.661402685089298,
          0.6562361052591901,
          0.6653006555915051,
          0.6541151486440531,
          0.667848870679965,
          0.689644440821078,
          0.661714493049107,
          0.716851004372382,
          0.6441935946579961,
          0.6641085295903421,
          0.6733050299346951,
          0.7312724761741011,
          0.6825731374169111,
          0.730660160397103,
          0.671482459387699,
          0.7273991086643431,
          0.6856838507749321,
          0.7218859869443791,
          0.685220643468152,
          0.7283516044098951,
          0.705651501598591,
          0.701497549666042,
          0.7160150729619561,
          0.7232848629609541,
          0.651565811688515,
          0.6701318530288001,
          0.723302274764392,
          0.7671117308631541,
          0.715380548454413,
          0.714878356209645,
          0.6609902250322031
         ],
         "x0": " ",
         "xaxis": "x",
         "y": [
          "gpt-4-1106-preview",
          "gpt-4-1106-preview",
          "gpt-4-1106-preview",
          "gpt-4-1106-preview",
          "gpt-4-1106-preview",
          "gpt-4-1106-preview",
          "gpt-4-1106-preview",
          "gpt-4-1106-preview",
          "gpt-4-1106-preview",
          "gpt-4-1106-preview",
          "gpt-4-1106-preview",
          "gpt-4-1106-preview",
          "gpt-4-1106-preview",
          "gpt-4-1106-preview",
          "gpt-4-1106-preview",
          "gpt-4-1106-preview",
          "gpt-4-1106-preview",
          "gpt-4-1106-preview",
          "gpt-4-1106-preview",
          "gpt-4-1106-preview",
          "gpt-4-1106-preview",
          "gpt-4-1106-preview",
          "gpt-4-1106-preview",
          "gpt-4-1106-preview",
          "gpt-4-1106-preview",
          "gpt-4-1106-preview",
          "gpt-4-1106-preview",
          "gpt-4-1106-preview",
          "gpt-4-1106-preview",
          "gpt-4-1106-preview",
          "gpt-4-1106-preview",
          "gpt-4-1106-preview",
          "gpt-4-1106-preview",
          "gpt-4-1106-preview",
          "gpt-4-1106-preview",
          "gpt-4-1106-preview",
          "gpt-4-1106-preview",
          "gpt-4-1106-preview",
          "gpt-4-1106-preview",
          "gpt-4-1106-preview",
          "gpt-4-1106-preview",
          "gpt-4-1106-preview",
          "gpt-4-1106-preview",
          "gpt-4-1106-preview",
          "gpt-4-1106-preview",
          "gpt-4-1106-preview",
          "gpt-4-1106-preview",
          "gpt-4-1106-preview",
          "gpt-4-1106-preview",
          "gpt-4-1106-preview",
          "gpt-4-1106-preview",
          "gpt-4-1106-preview",
          "gpt-4-1106-preview",
          "gpt-4-1106-preview",
          "gpt-4-1106-preview",
          "gpt-4-1106-preview",
          "gpt-4-1106-preview",
          "gpt-4-1106-preview",
          "gpt-4-1106-preview",
          "gpt-4-1106-preview",
          "gpt-4-1106-preview",
          "gpt-4-1106-preview",
          "gpt-4-1106-preview",
          "gpt-4-1106-preview",
          "gpt-4-1106-preview",
          "gpt-4-1106-preview",
          "gpt-4-1106-preview",
          "gpt-4-1106-preview",
          "gpt-4-1106-preview",
          "gpt-4-1106-preview",
          "gpt-4-1106-preview",
          "gpt-4-1106-preview",
          "gpt-4-1106-preview",
          "gpt-4-1106-preview",
          "gpt-4-1106-preview",
          "gpt-4-1106-preview",
          "gpt-4-1106-preview",
          "gpt-4-1106-preview",
          "gpt-4-1106-preview",
          "gpt-4-1106-preview",
          "gpt-4-1106-preview",
          "gpt-4-1106-preview",
          "gpt-4-1106-preview",
          "gpt-4-1106-preview",
          "gpt-4-1106-preview",
          "gpt-4-1106-preview",
          "gpt-4-1106-preview",
          "gpt-4-1106-preview",
          "gpt-4-1106-preview",
          "gpt-4-1106-preview",
          "gpt-4-1106-preview",
          "gpt-4-1106-preview",
          "gpt-4-1106-preview",
          "gpt-4-1106-preview",
          "gpt-4-1106-preview",
          "gpt-4-1106-preview",
          "gpt-4-1106-preview",
          "gpt-4-1106-preview"
         ],
         "y0": " ",
         "yaxis": "y"
        },
        {
         "alignmentgroup": "True",
         "box": {
          "visible": true
         },
         "hovertemplate": "model=%{y}<br>score=%{x}<extra></extra>",
         "legendgroup": "gpt-4-1106-preview-v1.1",
         "marker": {
          "color": "#ab63fa"
         },
         "name": "gpt-4-1106-preview-v1.1",
         "offsetgroup": "gpt-4-1106-preview-v1.1",
         "orientation": "h",
         "points": "all",
         "scalegroup": "True",
         "showlegend": true,
         "type": "violin",
         "x": [
          0.693624081914296,
          0.636608515033337,
          0.6712225380027601,
          0.665514647214686,
          0.654254549643522,
          0.6823462005984351,
          0.646889124114005,
          0.6704372095351131,
          0.6290607453178141,
          0.734640266944188,
          0.6583463482100631,
          0.7056216468459731,
          0.6993750642019131,
          0.655542715827211,
          0.687833799451654,
          0.668062996377724,
          0.6668449779348831,
          0.641032614345859,
          0.6851259339771011,
          0.73073415333113,
          0.6111561495881971,
          0.6824997032954171,
          0.6877419607263701,
          0.685554063120128,
          0.6621780549734411,
          0.627942966363054,
          0.686536168096869,
          0.688269752407468,
          0.659118663716007,
          0.671719927259622,
          0.6984903610370461,
          0.6711468505289001,
          0.688635713346052,
          0.669516497840262,
          0.6373055148181711,
          0.647157701041955,
          0.6638730114212461,
          0.6779730490575461,
          0.650146475063984,
          0.664698874151466,
          0.662359663084928,
          0.638365057238887,
          0.706603162074639,
          0.662647474627953,
          0.7106742343938831,
          0.6523280705588791,
          0.6693489878807231,
          0.6534548621448311,
          0.651066915472253,
          0.6745329781521531,
          0.629534182272801,
          0.689199299090089,
          0.704321699584741,
          0.749721826587871,
          0.706273122148381,
          0.7028896641487661,
          0.674818503055837,
          0.675050318228233,
          0.7043055187099181,
          0.6670959247667471,
          0.7254165098188711,
          0.6704959200528471,
          0.697991257455945,
          0.635475371177152,
          0.6709751796519631,
          0.6578752145167981,
          0.670280245952349,
          0.662960921891224,
          0.652819531200422,
          0.6397920913538361,
          0.65397332355024,
          0.6398846536675631,
          0.6740463928676,
          0.655440930853135,
          0.711537462730069,
          0.6320580458824361,
          0.659456167200634,
          0.6981067263016321,
          0.720461944922124,
          0.667014376983153,
          0.6849067415730681,
          0.669336046148131,
          0.700060770752574,
          0.648653218006883,
          0.7143836281911671,
          0.6635326287940081,
          0.6920142374734171,
          0.7024087815470591,
          0.6858150561259171,
          0.6811988417865831,
          0.698672829061727,
          0.613866770275663,
          0.6691867314157941,
          0.695416254957624,
          0.7455543413767021,
          0.712059463872696,
          0.683941131374829,
          0.662319728924436
         ],
         "x0": " ",
         "xaxis": "x",
         "y": [
          "gpt-4-1106-preview-v1.1",
          "gpt-4-1106-preview-v1.1",
          "gpt-4-1106-preview-v1.1",
          "gpt-4-1106-preview-v1.1",
          "gpt-4-1106-preview-v1.1",
          "gpt-4-1106-preview-v1.1",
          "gpt-4-1106-preview-v1.1",
          "gpt-4-1106-preview-v1.1",
          "gpt-4-1106-preview-v1.1",
          "gpt-4-1106-preview-v1.1",
          "gpt-4-1106-preview-v1.1",
          "gpt-4-1106-preview-v1.1",
          "gpt-4-1106-preview-v1.1",
          "gpt-4-1106-preview-v1.1",
          "gpt-4-1106-preview-v1.1",
          "gpt-4-1106-preview-v1.1",
          "gpt-4-1106-preview-v1.1",
          "gpt-4-1106-preview-v1.1",
          "gpt-4-1106-preview-v1.1",
          "gpt-4-1106-preview-v1.1",
          "gpt-4-1106-preview-v1.1",
          "gpt-4-1106-preview-v1.1",
          "gpt-4-1106-preview-v1.1",
          "gpt-4-1106-preview-v1.1",
          "gpt-4-1106-preview-v1.1",
          "gpt-4-1106-preview-v1.1",
          "gpt-4-1106-preview-v1.1",
          "gpt-4-1106-preview-v1.1",
          "gpt-4-1106-preview-v1.1",
          "gpt-4-1106-preview-v1.1",
          "gpt-4-1106-preview-v1.1",
          "gpt-4-1106-preview-v1.1",
          "gpt-4-1106-preview-v1.1",
          "gpt-4-1106-preview-v1.1",
          "gpt-4-1106-preview-v1.1",
          "gpt-4-1106-preview-v1.1",
          "gpt-4-1106-preview-v1.1",
          "gpt-4-1106-preview-v1.1",
          "gpt-4-1106-preview-v1.1",
          "gpt-4-1106-preview-v1.1",
          "gpt-4-1106-preview-v1.1",
          "gpt-4-1106-preview-v1.1",
          "gpt-4-1106-preview-v1.1",
          "gpt-4-1106-preview-v1.1",
          "gpt-4-1106-preview-v1.1",
          "gpt-4-1106-preview-v1.1",
          "gpt-4-1106-preview-v1.1",
          "gpt-4-1106-preview-v1.1",
          "gpt-4-1106-preview-v1.1",
          "gpt-4-1106-preview-v1.1",
          "gpt-4-1106-preview-v1.1",
          "gpt-4-1106-preview-v1.1",
          "gpt-4-1106-preview-v1.1",
          "gpt-4-1106-preview-v1.1",
          "gpt-4-1106-preview-v1.1",
          "gpt-4-1106-preview-v1.1",
          "gpt-4-1106-preview-v1.1",
          "gpt-4-1106-preview-v1.1",
          "gpt-4-1106-preview-v1.1",
          "gpt-4-1106-preview-v1.1",
          "gpt-4-1106-preview-v1.1",
          "gpt-4-1106-preview-v1.1",
          "gpt-4-1106-preview-v1.1",
          "gpt-4-1106-preview-v1.1",
          "gpt-4-1106-preview-v1.1",
          "gpt-4-1106-preview-v1.1",
          "gpt-4-1106-preview-v1.1",
          "gpt-4-1106-preview-v1.1",
          "gpt-4-1106-preview-v1.1",
          "gpt-4-1106-preview-v1.1",
          "gpt-4-1106-preview-v1.1",
          "gpt-4-1106-preview-v1.1",
          "gpt-4-1106-preview-v1.1",
          "gpt-4-1106-preview-v1.1",
          "gpt-4-1106-preview-v1.1",
          "gpt-4-1106-preview-v1.1",
          "gpt-4-1106-preview-v1.1",
          "gpt-4-1106-preview-v1.1",
          "gpt-4-1106-preview-v1.1",
          "gpt-4-1106-preview-v1.1",
          "gpt-4-1106-preview-v1.1",
          "gpt-4-1106-preview-v1.1",
          "gpt-4-1106-preview-v1.1",
          "gpt-4-1106-preview-v1.1",
          "gpt-4-1106-preview-v1.1",
          "gpt-4-1106-preview-v1.1",
          "gpt-4-1106-preview-v1.1",
          "gpt-4-1106-preview-v1.1",
          "gpt-4-1106-preview-v1.1",
          "gpt-4-1106-preview-v1.1",
          "gpt-4-1106-preview-v1.1",
          "gpt-4-1106-preview-v1.1",
          "gpt-4-1106-preview-v1.1",
          "gpt-4-1106-preview-v1.1",
          "gpt-4-1106-preview-v1.1",
          "gpt-4-1106-preview-v1.1",
          "gpt-4-1106-preview-v1.1",
          "gpt-4-1106-preview-v1.1"
         ],
         "y0": " ",
         "yaxis": "y"
        }
       ],
       "layout": {
        "legend": {
         "title": {
          "text": "model"
         },
         "tracegroupgap": 0
        },
        "margin": {
         "t": 60
        },
        "template": {
         "data": {
          "bar": [
           {
            "error_x": {
             "color": "#2a3f5f"
            },
            "error_y": {
             "color": "#2a3f5f"
            },
            "marker": {
             "line": {
              "color": "#E5ECF6",
              "width": 0.5
             },
             "pattern": {
              "fillmode": "overlay",
              "size": 10,
              "solidity": 0.2
             }
            },
            "type": "bar"
           }
          ],
          "barpolar": [
           {
            "marker": {
             "line": {
              "color": "#E5ECF6",
              "width": 0.5
             },
             "pattern": {
              "fillmode": "overlay",
              "size": 10,
              "solidity": 0.2
             }
            },
            "type": "barpolar"
           }
          ],
          "carpet": [
           {
            "aaxis": {
             "endlinecolor": "#2a3f5f",
             "gridcolor": "white",
             "linecolor": "white",
             "minorgridcolor": "white",
             "startlinecolor": "#2a3f5f"
            },
            "baxis": {
             "endlinecolor": "#2a3f5f",
             "gridcolor": "white",
             "linecolor": "white",
             "minorgridcolor": "white",
             "startlinecolor": "#2a3f5f"
            },
            "type": "carpet"
           }
          ],
          "choropleth": [
           {
            "colorbar": {
             "outlinewidth": 0,
             "ticks": ""
            },
            "type": "choropleth"
           }
          ],
          "contour": [
           {
            "colorbar": {
             "outlinewidth": 0,
             "ticks": ""
            },
            "colorscale": [
             [
              0,
              "#0d0887"
             ],
             [
              0.1111111111111111,
              "#46039f"
             ],
             [
              0.2222222222222222,
              "#7201a8"
             ],
             [
              0.3333333333333333,
              "#9c179e"
             ],
             [
              0.4444444444444444,
              "#bd3786"
             ],
             [
              0.5555555555555556,
              "#d8576b"
             ],
             [
              0.6666666666666666,
              "#ed7953"
             ],
             [
              0.7777777777777778,
              "#fb9f3a"
             ],
             [
              0.8888888888888888,
              "#fdca26"
             ],
             [
              1,
              "#f0f921"
             ]
            ],
            "type": "contour"
           }
          ],
          "contourcarpet": [
           {
            "colorbar": {
             "outlinewidth": 0,
             "ticks": ""
            },
            "type": "contourcarpet"
           }
          ],
          "heatmap": [
           {
            "colorbar": {
             "outlinewidth": 0,
             "ticks": ""
            },
            "colorscale": [
             [
              0,
              "#0d0887"
             ],
             [
              0.1111111111111111,
              "#46039f"
             ],
             [
              0.2222222222222222,
              "#7201a8"
             ],
             [
              0.3333333333333333,
              "#9c179e"
             ],
             [
              0.4444444444444444,
              "#bd3786"
             ],
             [
              0.5555555555555556,
              "#d8576b"
             ],
             [
              0.6666666666666666,
              "#ed7953"
             ],
             [
              0.7777777777777778,
              "#fb9f3a"
             ],
             [
              0.8888888888888888,
              "#fdca26"
             ],
             [
              1,
              "#f0f921"
             ]
            ],
            "type": "heatmap"
           }
          ],
          "heatmapgl": [
           {
            "colorbar": {
             "outlinewidth": 0,
             "ticks": ""
            },
            "colorscale": [
             [
              0,
              "#0d0887"
             ],
             [
              0.1111111111111111,
              "#46039f"
             ],
             [
              0.2222222222222222,
              "#7201a8"
             ],
             [
              0.3333333333333333,
              "#9c179e"
             ],
             [
              0.4444444444444444,
              "#bd3786"
             ],
             [
              0.5555555555555556,
              "#d8576b"
             ],
             [
              0.6666666666666666,
              "#ed7953"
             ],
             [
              0.7777777777777778,
              "#fb9f3a"
             ],
             [
              0.8888888888888888,
              "#fdca26"
             ],
             [
              1,
              "#f0f921"
             ]
            ],
            "type": "heatmapgl"
           }
          ],
          "histogram": [
           {
            "marker": {
             "pattern": {
              "fillmode": "overlay",
              "size": 10,
              "solidity": 0.2
             }
            },
            "type": "histogram"
           }
          ],
          "histogram2d": [
           {
            "colorbar": {
             "outlinewidth": 0,
             "ticks": ""
            },
            "colorscale": [
             [
              0,
              "#0d0887"
             ],
             [
              0.1111111111111111,
              "#46039f"
             ],
             [
              0.2222222222222222,
              "#7201a8"
             ],
             [
              0.3333333333333333,
              "#9c179e"
             ],
             [
              0.4444444444444444,
              "#bd3786"
             ],
             [
              0.5555555555555556,
              "#d8576b"
             ],
             [
              0.6666666666666666,
              "#ed7953"
             ],
             [
              0.7777777777777778,
              "#fb9f3a"
             ],
             [
              0.8888888888888888,
              "#fdca26"
             ],
             [
              1,
              "#f0f921"
             ]
            ],
            "type": "histogram2d"
           }
          ],
          "histogram2dcontour": [
           {
            "colorbar": {
             "outlinewidth": 0,
             "ticks": ""
            },
            "colorscale": [
             [
              0,
              "#0d0887"
             ],
             [
              0.1111111111111111,
              "#46039f"
             ],
             [
              0.2222222222222222,
              "#7201a8"
             ],
             [
              0.3333333333333333,
              "#9c179e"
             ],
             [
              0.4444444444444444,
              "#bd3786"
             ],
             [
              0.5555555555555556,
              "#d8576b"
             ],
             [
              0.6666666666666666,
              "#ed7953"
             ],
             [
              0.7777777777777778,
              "#fb9f3a"
             ],
             [
              0.8888888888888888,
              "#fdca26"
             ],
             [
              1,
              "#f0f921"
             ]
            ],
            "type": "histogram2dcontour"
           }
          ],
          "mesh3d": [
           {
            "colorbar": {
             "outlinewidth": 0,
             "ticks": ""
            },
            "type": "mesh3d"
           }
          ],
          "parcoords": [
           {
            "line": {
             "colorbar": {
              "outlinewidth": 0,
              "ticks": ""
             }
            },
            "type": "parcoords"
           }
          ],
          "pie": [
           {
            "automargin": true,
            "type": "pie"
           }
          ],
          "scatter": [
           {
            "fillpattern": {
             "fillmode": "overlay",
             "size": 10,
             "solidity": 0.2
            },
            "type": "scatter"
           }
          ],
          "scatter3d": [
           {
            "line": {
             "colorbar": {
              "outlinewidth": 0,
              "ticks": ""
             }
            },
            "marker": {
             "colorbar": {
              "outlinewidth": 0,
              "ticks": ""
             }
            },
            "type": "scatter3d"
           }
          ],
          "scattercarpet": [
           {
            "marker": {
             "colorbar": {
              "outlinewidth": 0,
              "ticks": ""
             }
            },
            "type": "scattercarpet"
           }
          ],
          "scattergeo": [
           {
            "marker": {
             "colorbar": {
              "outlinewidth": 0,
              "ticks": ""
             }
            },
            "type": "scattergeo"
           }
          ],
          "scattergl": [
           {
            "marker": {
             "colorbar": {
              "outlinewidth": 0,
              "ticks": ""
             }
            },
            "type": "scattergl"
           }
          ],
          "scattermapbox": [
           {
            "marker": {
             "colorbar": {
              "outlinewidth": 0,
              "ticks": ""
             }
            },
            "type": "scattermapbox"
           }
          ],
          "scatterpolar": [
           {
            "marker": {
             "colorbar": {
              "outlinewidth": 0,
              "ticks": ""
             }
            },
            "type": "scatterpolar"
           }
          ],
          "scatterpolargl": [
           {
            "marker": {
             "colorbar": {
              "outlinewidth": 0,
              "ticks": ""
             }
            },
            "type": "scatterpolargl"
           }
          ],
          "scatterternary": [
           {
            "marker": {
             "colorbar": {
              "outlinewidth": 0,
              "ticks": ""
             }
            },
            "type": "scatterternary"
           }
          ],
          "surface": [
           {
            "colorbar": {
             "outlinewidth": 0,
             "ticks": ""
            },
            "colorscale": [
             [
              0,
              "#0d0887"
             ],
             [
              0.1111111111111111,
              "#46039f"
             ],
             [
              0.2222222222222222,
              "#7201a8"
             ],
             [
              0.3333333333333333,
              "#9c179e"
             ],
             [
              0.4444444444444444,
              "#bd3786"
             ],
             [
              0.5555555555555556,
              "#d8576b"
             ],
             [
              0.6666666666666666,
              "#ed7953"
             ],
             [
              0.7777777777777778,
              "#fb9f3a"
             ],
             [
              0.8888888888888888,
              "#fdca26"
             ],
             [
              1,
              "#f0f921"
             ]
            ],
            "type": "surface"
           }
          ],
          "table": [
           {
            "cells": {
             "fill": {
              "color": "#EBF0F8"
             },
             "line": {
              "color": "white"
             }
            },
            "header": {
             "fill": {
              "color": "#C8D4E3"
             },
             "line": {
              "color": "white"
             }
            },
            "type": "table"
           }
          ]
         },
         "layout": {
          "annotationdefaults": {
           "arrowcolor": "#2a3f5f",
           "arrowhead": 0,
           "arrowwidth": 1
          },
          "autotypenumbers": "strict",
          "coloraxis": {
           "colorbar": {
            "outlinewidth": 0,
            "ticks": ""
           }
          },
          "colorscale": {
           "diverging": [
            [
             0,
             "#8e0152"
            ],
            [
             0.1,
             "#c51b7d"
            ],
            [
             0.2,
             "#de77ae"
            ],
            [
             0.3,
             "#f1b6da"
            ],
            [
             0.4,
             "#fde0ef"
            ],
            [
             0.5,
             "#f7f7f7"
            ],
            [
             0.6,
             "#e6f5d0"
            ],
            [
             0.7,
             "#b8e186"
            ],
            [
             0.8,
             "#7fbc41"
            ],
            [
             0.9,
             "#4d9221"
            ],
            [
             1,
             "#276419"
            ]
           ],
           "sequential": [
            [
             0,
             "#0d0887"
            ],
            [
             0.1111111111111111,
             "#46039f"
            ],
            [
             0.2222222222222222,
             "#7201a8"
            ],
            [
             0.3333333333333333,
             "#9c179e"
            ],
            [
             0.4444444444444444,
             "#bd3786"
            ],
            [
             0.5555555555555556,
             "#d8576b"
            ],
            [
             0.6666666666666666,
             "#ed7953"
            ],
            [
             0.7777777777777778,
             "#fb9f3a"
            ],
            [
             0.8888888888888888,
             "#fdca26"
            ],
            [
             1,
             "#f0f921"
            ]
           ],
           "sequentialminus": [
            [
             0,
             "#0d0887"
            ],
            [
             0.1111111111111111,
             "#46039f"
            ],
            [
             0.2222222222222222,
             "#7201a8"
            ],
            [
             0.3333333333333333,
             "#9c179e"
            ],
            [
             0.4444444444444444,
             "#bd3786"
            ],
            [
             0.5555555555555556,
             "#d8576b"
            ],
            [
             0.6666666666666666,
             "#ed7953"
            ],
            [
             0.7777777777777778,
             "#fb9f3a"
            ],
            [
             0.8888888888888888,
             "#fdca26"
            ],
            [
             1,
             "#f0f921"
            ]
           ]
          },
          "colorway": [
           "#636efa",
           "#EF553B",
           "#00cc96",
           "#ab63fa",
           "#FFA15A",
           "#19d3f3",
           "#FF6692",
           "#B6E880",
           "#FF97FF",
           "#FECB52"
          ],
          "font": {
           "color": "#2a3f5f"
          },
          "geo": {
           "bgcolor": "white",
           "lakecolor": "white",
           "landcolor": "#E5ECF6",
           "showlakes": true,
           "showland": true,
           "subunitcolor": "white"
          },
          "hoverlabel": {
           "align": "left"
          },
          "hovermode": "closest",
          "mapbox": {
           "style": "light"
          },
          "paper_bgcolor": "white",
          "plot_bgcolor": "#E5ECF6",
          "polar": {
           "angularaxis": {
            "gridcolor": "white",
            "linecolor": "white",
            "ticks": ""
           },
           "bgcolor": "#E5ECF6",
           "radialaxis": {
            "gridcolor": "white",
            "linecolor": "white",
            "ticks": ""
           }
          },
          "scene": {
           "xaxis": {
            "backgroundcolor": "#E5ECF6",
            "gridcolor": "white",
            "gridwidth": 2,
            "linecolor": "white",
            "showbackground": true,
            "ticks": "",
            "zerolinecolor": "white"
           },
           "yaxis": {
            "backgroundcolor": "#E5ECF6",
            "gridcolor": "white",
            "gridwidth": 2,
            "linecolor": "white",
            "showbackground": true,
            "ticks": "",
            "zerolinecolor": "white"
           },
           "zaxis": {
            "backgroundcolor": "#E5ECF6",
            "gridcolor": "white",
            "gridwidth": 2,
            "linecolor": "white",
            "showbackground": true,
            "ticks": "",
            "zerolinecolor": "white"
           }
          },
          "shapedefaults": {
           "line": {
            "color": "#2a3f5f"
           }
          },
          "ternary": {
           "aaxis": {
            "gridcolor": "white",
            "linecolor": "white",
            "ticks": ""
           },
           "baxis": {
            "gridcolor": "white",
            "linecolor": "white",
            "ticks": ""
           },
           "bgcolor": "#E5ECF6",
           "caxis": {
            "gridcolor": "white",
            "linecolor": "white",
            "ticks": ""
           }
          },
          "title": {
           "x": 0.05
          },
          "xaxis": {
           "automargin": true,
           "gridcolor": "white",
           "linecolor": "white",
           "ticks": "",
           "title": {
            "standoff": 15
           },
           "zerolinecolor": "white",
           "zerolinewidth": 2
          },
          "yaxis": {
           "automargin": true,
           "gridcolor": "white",
           "linecolor": "white",
           "ticks": "",
           "title": {
            "standoff": 15
           },
           "zerolinecolor": "white",
           "zerolinewidth": 2
          }
         }
        },
        "violinmode": "overlay",
        "xaxis": {
         "anchor": "y",
         "domain": [
          0,
          1
         ],
         "tickangle": 0,
         "title": {
          "text": "score"
         }
        },
        "yaxis": {
         "anchor": "x",
         "categoryarray": [
          "gpt-4-1106-preview-v1.1",
          "gpt-4-1106-preview",
          "gpt-3.5-turbo-16k-0613",
          "gpt-4-0613"
         ],
         "categoryorder": "array",
         "domain": [
          0,
          1
         ],
         "title": {
          "text": "model"
         }
        }
       }
      }
     },
     "metadata": {},
     "output_type": "display_data"
    }
   ],
   "source": [
    "ragas_metrics = [col for col in dfs[table_names[0]].columns if \"ragas\" in col]\n",
    "plot_ragas_violin_metrics(dfs, table_names, ragas_metrics)"
   ]
  },
  {
   "cell_type": "code",
   "execution_count": 13,
   "metadata": {},
   "outputs": [
    {
     "data": {
      "application/vnd.plotly.v1+json": {
       "config": {
        "plotlyServerURL": "https://plot.ly"
       },
       "data": [
        {
         "alignmentgroup": "True",
         "box": {
          "visible": true
         },
         "hovertemplate": "model=%{y}<br>tokens=%{x}<extra></extra>",
         "legendgroup": "gpt-4-0613",
         "marker": {
          "color": "#636efa"
         },
         "name": "gpt-4-0613",
         "offsetgroup": "gpt-4-0613",
         "orientation": "h",
         "points": "all",
         "scalegroup": "True",
         "showlegend": true,
         "type": "violin",
         "x": [
          1475,
          857,
          1051,
          1217,
          2183,
          960,
          1470,
          797,
          1406,
          1040,
          2337,
          855,
          879,
          1017,
          1914,
          1395,
          1416,
          1445,
          1362,
          1852,
          899,
          1656,
          1653,
          979,
          1219,
          631,
          971,
          778,
          1061,
          1086,
          820,
          1065,
          611,
          696,
          1187,
          2704,
          1219,
          679,
          2023,
          1168,
          1084,
          1303,
          746,
          878,
          932,
          796,
          1989,
          1760,
          1079,
          987,
          2255,
          1575,
          814,
          1020,
          944,
          1180,
          1755,
          1570,
          3546,
          694,
          889,
          846,
          923,
          2379,
          1237,
          901,
          1270,
          1777,
          2095,
          590,
          1683,
          1309,
          2491,
          1440,
          1398,
          1426,
          975,
          1062,
          809,
          1571,
          762,
          978,
          955,
          4240,
          1103,
          811,
          775,
          1990,
          1217,
          1425,
          938,
          1370,
          2000,
          762,
          702,
          827,
          668,
          3615
         ],
         "x0": " ",
         "xaxis": "x",
         "y": [
          "gpt-4-0613",
          "gpt-4-0613",
          "gpt-4-0613",
          "gpt-4-0613",
          "gpt-4-0613",
          "gpt-4-0613",
          "gpt-4-0613",
          "gpt-4-0613",
          "gpt-4-0613",
          "gpt-4-0613",
          "gpt-4-0613",
          "gpt-4-0613",
          "gpt-4-0613",
          "gpt-4-0613",
          "gpt-4-0613",
          "gpt-4-0613",
          "gpt-4-0613",
          "gpt-4-0613",
          "gpt-4-0613",
          "gpt-4-0613",
          "gpt-4-0613",
          "gpt-4-0613",
          "gpt-4-0613",
          "gpt-4-0613",
          "gpt-4-0613",
          "gpt-4-0613",
          "gpt-4-0613",
          "gpt-4-0613",
          "gpt-4-0613",
          "gpt-4-0613",
          "gpt-4-0613",
          "gpt-4-0613",
          "gpt-4-0613",
          "gpt-4-0613",
          "gpt-4-0613",
          "gpt-4-0613",
          "gpt-4-0613",
          "gpt-4-0613",
          "gpt-4-0613",
          "gpt-4-0613",
          "gpt-4-0613",
          "gpt-4-0613",
          "gpt-4-0613",
          "gpt-4-0613",
          "gpt-4-0613",
          "gpt-4-0613",
          "gpt-4-0613",
          "gpt-4-0613",
          "gpt-4-0613",
          "gpt-4-0613",
          "gpt-4-0613",
          "gpt-4-0613",
          "gpt-4-0613",
          "gpt-4-0613",
          "gpt-4-0613",
          "gpt-4-0613",
          "gpt-4-0613",
          "gpt-4-0613",
          "gpt-4-0613",
          "gpt-4-0613",
          "gpt-4-0613",
          "gpt-4-0613",
          "gpt-4-0613",
          "gpt-4-0613",
          "gpt-4-0613",
          "gpt-4-0613",
          "gpt-4-0613",
          "gpt-4-0613",
          "gpt-4-0613",
          "gpt-4-0613",
          "gpt-4-0613",
          "gpt-4-0613",
          "gpt-4-0613",
          "gpt-4-0613",
          "gpt-4-0613",
          "gpt-4-0613",
          "gpt-4-0613",
          "gpt-4-0613",
          "gpt-4-0613",
          "gpt-4-0613",
          "gpt-4-0613",
          "gpt-4-0613",
          "gpt-4-0613",
          "gpt-4-0613",
          "gpt-4-0613",
          "gpt-4-0613",
          "gpt-4-0613",
          "gpt-4-0613",
          "gpt-4-0613",
          "gpt-4-0613",
          "gpt-4-0613",
          "gpt-4-0613",
          "gpt-4-0613",
          "gpt-4-0613",
          "gpt-4-0613",
          "gpt-4-0613",
          "gpt-4-0613",
          "gpt-4-0613"
         ],
         "y0": " ",
         "yaxis": "y"
        },
        {
         "alignmentgroup": "True",
         "box": {
          "visible": true
         },
         "hovertemplate": "model=%{y}<br>tokens=%{x}<extra></extra>",
         "legendgroup": "gpt-3.5-turbo-16k-0613",
         "marker": {
          "color": "#EF553B"
         },
         "name": "gpt-3.5-turbo-16k-0613",
         "offsetgroup": "gpt-3.5-turbo-16k-0613",
         "orientation": "h",
         "points": "all",
         "scalegroup": "True",
         "showlegend": true,
         "type": "violin",
         "x": [
          1475,
          857,
          1051,
          1217,
          2183,
          960,
          1470,
          864,
          1406,
          1040,
          2337,
          855,
          879,
          1017,
          1914,
          1395,
          1416,
          1445,
          1362,
          1852,
          899,
          1656,
          1653,
          979,
          1219,
          631,
          971,
          778,
          1061,
          1086,
          820,
          1065,
          611,
          696,
          1187,
          2704,
          1219,
          679,
          2023,
          1168,
          1084,
          1303,
          746,
          878,
          932,
          796,
          1989,
          1760,
          1079,
          987,
          2255,
          1575,
          814,
          1020,
          944,
          1180,
          1755,
          1570,
          3546,
          694,
          889,
          846,
          923,
          2379,
          1237,
          901,
          1270,
          1777,
          2095,
          590,
          1683,
          1309,
          2491,
          1440,
          1398,
          1426,
          975,
          1062,
          809,
          1571,
          762,
          978,
          955,
          4240,
          1103,
          811,
          775,
          1990,
          1217,
          1425,
          938,
          1370,
          2000,
          762,
          702,
          827,
          668,
          3615
         ],
         "x0": " ",
         "xaxis": "x",
         "y": [
          "gpt-3.5-turbo-16k-0613",
          "gpt-3.5-turbo-16k-0613",
          "gpt-3.5-turbo-16k-0613",
          "gpt-3.5-turbo-16k-0613",
          "gpt-3.5-turbo-16k-0613",
          "gpt-3.5-turbo-16k-0613",
          "gpt-3.5-turbo-16k-0613",
          "gpt-3.5-turbo-16k-0613",
          "gpt-3.5-turbo-16k-0613",
          "gpt-3.5-turbo-16k-0613",
          "gpt-3.5-turbo-16k-0613",
          "gpt-3.5-turbo-16k-0613",
          "gpt-3.5-turbo-16k-0613",
          "gpt-3.5-turbo-16k-0613",
          "gpt-3.5-turbo-16k-0613",
          "gpt-3.5-turbo-16k-0613",
          "gpt-3.5-turbo-16k-0613",
          "gpt-3.5-turbo-16k-0613",
          "gpt-3.5-turbo-16k-0613",
          "gpt-3.5-turbo-16k-0613",
          "gpt-3.5-turbo-16k-0613",
          "gpt-3.5-turbo-16k-0613",
          "gpt-3.5-turbo-16k-0613",
          "gpt-3.5-turbo-16k-0613",
          "gpt-3.5-turbo-16k-0613",
          "gpt-3.5-turbo-16k-0613",
          "gpt-3.5-turbo-16k-0613",
          "gpt-3.5-turbo-16k-0613",
          "gpt-3.5-turbo-16k-0613",
          "gpt-3.5-turbo-16k-0613",
          "gpt-3.5-turbo-16k-0613",
          "gpt-3.5-turbo-16k-0613",
          "gpt-3.5-turbo-16k-0613",
          "gpt-3.5-turbo-16k-0613",
          "gpt-3.5-turbo-16k-0613",
          "gpt-3.5-turbo-16k-0613",
          "gpt-3.5-turbo-16k-0613",
          "gpt-3.5-turbo-16k-0613",
          "gpt-3.5-turbo-16k-0613",
          "gpt-3.5-turbo-16k-0613",
          "gpt-3.5-turbo-16k-0613",
          "gpt-3.5-turbo-16k-0613",
          "gpt-3.5-turbo-16k-0613",
          "gpt-3.5-turbo-16k-0613",
          "gpt-3.5-turbo-16k-0613",
          "gpt-3.5-turbo-16k-0613",
          "gpt-3.5-turbo-16k-0613",
          "gpt-3.5-turbo-16k-0613",
          "gpt-3.5-turbo-16k-0613",
          "gpt-3.5-turbo-16k-0613",
          "gpt-3.5-turbo-16k-0613",
          "gpt-3.5-turbo-16k-0613",
          "gpt-3.5-turbo-16k-0613",
          "gpt-3.5-turbo-16k-0613",
          "gpt-3.5-turbo-16k-0613",
          "gpt-3.5-turbo-16k-0613",
          "gpt-3.5-turbo-16k-0613",
          "gpt-3.5-turbo-16k-0613",
          "gpt-3.5-turbo-16k-0613",
          "gpt-3.5-turbo-16k-0613",
          "gpt-3.5-turbo-16k-0613",
          "gpt-3.5-turbo-16k-0613",
          "gpt-3.5-turbo-16k-0613",
          "gpt-3.5-turbo-16k-0613",
          "gpt-3.5-turbo-16k-0613",
          "gpt-3.5-turbo-16k-0613",
          "gpt-3.5-turbo-16k-0613",
          "gpt-3.5-turbo-16k-0613",
          "gpt-3.5-turbo-16k-0613",
          "gpt-3.5-turbo-16k-0613",
          "gpt-3.5-turbo-16k-0613",
          "gpt-3.5-turbo-16k-0613",
          "gpt-3.5-turbo-16k-0613",
          "gpt-3.5-turbo-16k-0613",
          "gpt-3.5-turbo-16k-0613",
          "gpt-3.5-turbo-16k-0613",
          "gpt-3.5-turbo-16k-0613",
          "gpt-3.5-turbo-16k-0613",
          "gpt-3.5-turbo-16k-0613",
          "gpt-3.5-turbo-16k-0613",
          "gpt-3.5-turbo-16k-0613",
          "gpt-3.5-turbo-16k-0613",
          "gpt-3.5-turbo-16k-0613",
          "gpt-3.5-turbo-16k-0613",
          "gpt-3.5-turbo-16k-0613",
          "gpt-3.5-turbo-16k-0613",
          "gpt-3.5-turbo-16k-0613",
          "gpt-3.5-turbo-16k-0613",
          "gpt-3.5-turbo-16k-0613",
          "gpt-3.5-turbo-16k-0613",
          "gpt-3.5-turbo-16k-0613",
          "gpt-3.5-turbo-16k-0613",
          "gpt-3.5-turbo-16k-0613",
          "gpt-3.5-turbo-16k-0613",
          "gpt-3.5-turbo-16k-0613",
          "gpt-3.5-turbo-16k-0613",
          "gpt-3.5-turbo-16k-0613",
          "gpt-3.5-turbo-16k-0613"
         ],
         "y0": " ",
         "yaxis": "y"
        },
        {
         "alignmentgroup": "True",
         "box": {
          "visible": true
         },
         "hovertemplate": "model=%{y}<br>tokens=%{x}<extra></extra>",
         "legendgroup": "gpt-4-1106-preview",
         "marker": {
          "color": "#00cc96"
         },
         "name": "gpt-4-1106-preview",
         "offsetgroup": "gpt-4-1106-preview",
         "orientation": "h",
         "points": "all",
         "scalegroup": "True",
         "showlegend": true,
         "type": "violin",
         "x": [
          1475,
          857,
          1051,
          1217,
          2183,
          960,
          1470,
          864,
          1406,
          1040,
          2337,
          855,
          879,
          1017,
          1914,
          1395,
          1416,
          1445,
          1362,
          1852,
          899,
          1656,
          1653,
          979,
          1219,
          631,
          971,
          778,
          1061,
          1086,
          820,
          1065,
          611,
          696,
          1187,
          2704,
          1219,
          679,
          2023,
          1168,
          1084,
          1303,
          746,
          878,
          932,
          796,
          1989,
          1760,
          1079,
          987,
          2255,
          1575,
          814,
          1020,
          944,
          1180,
          1755,
          1570,
          3546,
          694,
          889,
          846,
          923,
          2379,
          1237,
          901,
          1270,
          1777,
          2095,
          590,
          1683,
          1309,
          2491,
          1440,
          1398,
          1426,
          975,
          1062,
          809,
          1571,
          762,
          978,
          955,
          4240,
          1103,
          811,
          775,
          1990,
          1217,
          1425,
          938,
          1370,
          2000,
          762,
          702,
          827,
          668,
          3615
         ],
         "x0": " ",
         "xaxis": "x",
         "y": [
          "gpt-4-1106-preview",
          "gpt-4-1106-preview",
          "gpt-4-1106-preview",
          "gpt-4-1106-preview",
          "gpt-4-1106-preview",
          "gpt-4-1106-preview",
          "gpt-4-1106-preview",
          "gpt-4-1106-preview",
          "gpt-4-1106-preview",
          "gpt-4-1106-preview",
          "gpt-4-1106-preview",
          "gpt-4-1106-preview",
          "gpt-4-1106-preview",
          "gpt-4-1106-preview",
          "gpt-4-1106-preview",
          "gpt-4-1106-preview",
          "gpt-4-1106-preview",
          "gpt-4-1106-preview",
          "gpt-4-1106-preview",
          "gpt-4-1106-preview",
          "gpt-4-1106-preview",
          "gpt-4-1106-preview",
          "gpt-4-1106-preview",
          "gpt-4-1106-preview",
          "gpt-4-1106-preview",
          "gpt-4-1106-preview",
          "gpt-4-1106-preview",
          "gpt-4-1106-preview",
          "gpt-4-1106-preview",
          "gpt-4-1106-preview",
          "gpt-4-1106-preview",
          "gpt-4-1106-preview",
          "gpt-4-1106-preview",
          "gpt-4-1106-preview",
          "gpt-4-1106-preview",
          "gpt-4-1106-preview",
          "gpt-4-1106-preview",
          "gpt-4-1106-preview",
          "gpt-4-1106-preview",
          "gpt-4-1106-preview",
          "gpt-4-1106-preview",
          "gpt-4-1106-preview",
          "gpt-4-1106-preview",
          "gpt-4-1106-preview",
          "gpt-4-1106-preview",
          "gpt-4-1106-preview",
          "gpt-4-1106-preview",
          "gpt-4-1106-preview",
          "gpt-4-1106-preview",
          "gpt-4-1106-preview",
          "gpt-4-1106-preview",
          "gpt-4-1106-preview",
          "gpt-4-1106-preview",
          "gpt-4-1106-preview",
          "gpt-4-1106-preview",
          "gpt-4-1106-preview",
          "gpt-4-1106-preview",
          "gpt-4-1106-preview",
          "gpt-4-1106-preview",
          "gpt-4-1106-preview",
          "gpt-4-1106-preview",
          "gpt-4-1106-preview",
          "gpt-4-1106-preview",
          "gpt-4-1106-preview",
          "gpt-4-1106-preview",
          "gpt-4-1106-preview",
          "gpt-4-1106-preview",
          "gpt-4-1106-preview",
          "gpt-4-1106-preview",
          "gpt-4-1106-preview",
          "gpt-4-1106-preview",
          "gpt-4-1106-preview",
          "gpt-4-1106-preview",
          "gpt-4-1106-preview",
          "gpt-4-1106-preview",
          "gpt-4-1106-preview",
          "gpt-4-1106-preview",
          "gpt-4-1106-preview",
          "gpt-4-1106-preview",
          "gpt-4-1106-preview",
          "gpt-4-1106-preview",
          "gpt-4-1106-preview",
          "gpt-4-1106-preview",
          "gpt-4-1106-preview",
          "gpt-4-1106-preview",
          "gpt-4-1106-preview",
          "gpt-4-1106-preview",
          "gpt-4-1106-preview",
          "gpt-4-1106-preview",
          "gpt-4-1106-preview",
          "gpt-4-1106-preview",
          "gpt-4-1106-preview",
          "gpt-4-1106-preview",
          "gpt-4-1106-preview",
          "gpt-4-1106-preview",
          "gpt-4-1106-preview",
          "gpt-4-1106-preview",
          "gpt-4-1106-preview"
         ],
         "y0": " ",
         "yaxis": "y"
        },
        {
         "alignmentgroup": "True",
         "box": {
          "visible": true
         },
         "hovertemplate": "model=%{y}<br>tokens=%{x}<extra></extra>",
         "legendgroup": "gpt-4-1106-preview-v1.1",
         "marker": {
          "color": "#ab63fa"
         },
         "name": "gpt-4-1106-preview-v1.1",
         "offsetgroup": "gpt-4-1106-preview-v1.1",
         "orientation": "h",
         "points": "all",
         "scalegroup": "True",
         "showlegend": true,
         "type": "violin",
         "x": [
          5026,
          3155,
          4163,
          7441,
          6945,
          5757,
          6016,
          7010,
          5440,
          5014,
          5818,
          4131,
          6066,
          6486,
          8685,
          5312,
          6866,
          7094,
          3964,
          4582,
          3728,
          6359,
          5436,
          6685,
          3899,
          4627,
          5487,
          7745,
          5385,
          4465,
          5196,
          5998,
          3319,
          5376,
          4353,
          5322,
          3233,
          6264,
          6273,
          3865,
          3580,
          5500,
          5586,
          3125,
          4634,
          7996,
          6185,
          4368,
          4492,
          4955,
          6094,
          6595,
          7719,
          6344,
          4625,
          4546,
          7004,
          7001,
          3783,
          6940,
          5936,
          6184,
          3489,
          8108,
          5865,
          3214,
          7226,
          6541,
          4584,
          7048,
          3256,
          4110,
          8232,
          5749,
          3641,
          5358,
          4368,
          6044,
          4264,
          8844,
          4211,
          7010,
          6981,
          7132,
          10612,
          4560,
          3152,
          6938,
          5233,
          7126,
          5412,
          5856,
          6948,
          3832,
          3668,
          3098,
          3717,
          8360
         ],
         "x0": " ",
         "xaxis": "x",
         "y": [
          "gpt-4-1106-preview-v1.1",
          "gpt-4-1106-preview-v1.1",
          "gpt-4-1106-preview-v1.1",
          "gpt-4-1106-preview-v1.1",
          "gpt-4-1106-preview-v1.1",
          "gpt-4-1106-preview-v1.1",
          "gpt-4-1106-preview-v1.1",
          "gpt-4-1106-preview-v1.1",
          "gpt-4-1106-preview-v1.1",
          "gpt-4-1106-preview-v1.1",
          "gpt-4-1106-preview-v1.1",
          "gpt-4-1106-preview-v1.1",
          "gpt-4-1106-preview-v1.1",
          "gpt-4-1106-preview-v1.1",
          "gpt-4-1106-preview-v1.1",
          "gpt-4-1106-preview-v1.1",
          "gpt-4-1106-preview-v1.1",
          "gpt-4-1106-preview-v1.1",
          "gpt-4-1106-preview-v1.1",
          "gpt-4-1106-preview-v1.1",
          "gpt-4-1106-preview-v1.1",
          "gpt-4-1106-preview-v1.1",
          "gpt-4-1106-preview-v1.1",
          "gpt-4-1106-preview-v1.1",
          "gpt-4-1106-preview-v1.1",
          "gpt-4-1106-preview-v1.1",
          "gpt-4-1106-preview-v1.1",
          "gpt-4-1106-preview-v1.1",
          "gpt-4-1106-preview-v1.1",
          "gpt-4-1106-preview-v1.1",
          "gpt-4-1106-preview-v1.1",
          "gpt-4-1106-preview-v1.1",
          "gpt-4-1106-preview-v1.1",
          "gpt-4-1106-preview-v1.1",
          "gpt-4-1106-preview-v1.1",
          "gpt-4-1106-preview-v1.1",
          "gpt-4-1106-preview-v1.1",
          "gpt-4-1106-preview-v1.1",
          "gpt-4-1106-preview-v1.1",
          "gpt-4-1106-preview-v1.1",
          "gpt-4-1106-preview-v1.1",
          "gpt-4-1106-preview-v1.1",
          "gpt-4-1106-preview-v1.1",
          "gpt-4-1106-preview-v1.1",
          "gpt-4-1106-preview-v1.1",
          "gpt-4-1106-preview-v1.1",
          "gpt-4-1106-preview-v1.1",
          "gpt-4-1106-preview-v1.1",
          "gpt-4-1106-preview-v1.1",
          "gpt-4-1106-preview-v1.1",
          "gpt-4-1106-preview-v1.1",
          "gpt-4-1106-preview-v1.1",
          "gpt-4-1106-preview-v1.1",
          "gpt-4-1106-preview-v1.1",
          "gpt-4-1106-preview-v1.1",
          "gpt-4-1106-preview-v1.1",
          "gpt-4-1106-preview-v1.1",
          "gpt-4-1106-preview-v1.1",
          "gpt-4-1106-preview-v1.1",
          "gpt-4-1106-preview-v1.1",
          "gpt-4-1106-preview-v1.1",
          "gpt-4-1106-preview-v1.1",
          "gpt-4-1106-preview-v1.1",
          "gpt-4-1106-preview-v1.1",
          "gpt-4-1106-preview-v1.1",
          "gpt-4-1106-preview-v1.1",
          "gpt-4-1106-preview-v1.1",
          "gpt-4-1106-preview-v1.1",
          "gpt-4-1106-preview-v1.1",
          "gpt-4-1106-preview-v1.1",
          "gpt-4-1106-preview-v1.1",
          "gpt-4-1106-preview-v1.1",
          "gpt-4-1106-preview-v1.1",
          "gpt-4-1106-preview-v1.1",
          "gpt-4-1106-preview-v1.1",
          "gpt-4-1106-preview-v1.1",
          "gpt-4-1106-preview-v1.1",
          "gpt-4-1106-preview-v1.1",
          "gpt-4-1106-preview-v1.1",
          "gpt-4-1106-preview-v1.1",
          "gpt-4-1106-preview-v1.1",
          "gpt-4-1106-preview-v1.1",
          "gpt-4-1106-preview-v1.1",
          "gpt-4-1106-preview-v1.1",
          "gpt-4-1106-preview-v1.1",
          "gpt-4-1106-preview-v1.1",
          "gpt-4-1106-preview-v1.1",
          "gpt-4-1106-preview-v1.1",
          "gpt-4-1106-preview-v1.1",
          "gpt-4-1106-preview-v1.1",
          "gpt-4-1106-preview-v1.1",
          "gpt-4-1106-preview-v1.1",
          "gpt-4-1106-preview-v1.1",
          "gpt-4-1106-preview-v1.1",
          "gpt-4-1106-preview-v1.1",
          "gpt-4-1106-preview-v1.1",
          "gpt-4-1106-preview-v1.1",
          "gpt-4-1106-preview-v1.1"
         ],
         "y0": " ",
         "yaxis": "y"
        }
       ],
       "layout": {
        "legend": {
         "title": {
          "text": "model"
         },
         "tracegroupgap": 0
        },
        "margin": {
         "t": 60
        },
        "template": {
         "data": {
          "bar": [
           {
            "error_x": {
             "color": "#2a3f5f"
            },
            "error_y": {
             "color": "#2a3f5f"
            },
            "marker": {
             "line": {
              "color": "#E5ECF6",
              "width": 0.5
             },
             "pattern": {
              "fillmode": "overlay",
              "size": 10,
              "solidity": 0.2
             }
            },
            "type": "bar"
           }
          ],
          "barpolar": [
           {
            "marker": {
             "line": {
              "color": "#E5ECF6",
              "width": 0.5
             },
             "pattern": {
              "fillmode": "overlay",
              "size": 10,
              "solidity": 0.2
             }
            },
            "type": "barpolar"
           }
          ],
          "carpet": [
           {
            "aaxis": {
             "endlinecolor": "#2a3f5f",
             "gridcolor": "white",
             "linecolor": "white",
             "minorgridcolor": "white",
             "startlinecolor": "#2a3f5f"
            },
            "baxis": {
             "endlinecolor": "#2a3f5f",
             "gridcolor": "white",
             "linecolor": "white",
             "minorgridcolor": "white",
             "startlinecolor": "#2a3f5f"
            },
            "type": "carpet"
           }
          ],
          "choropleth": [
           {
            "colorbar": {
             "outlinewidth": 0,
             "ticks": ""
            },
            "type": "choropleth"
           }
          ],
          "contour": [
           {
            "colorbar": {
             "outlinewidth": 0,
             "ticks": ""
            },
            "colorscale": [
             [
              0,
              "#0d0887"
             ],
             [
              0.1111111111111111,
              "#46039f"
             ],
             [
              0.2222222222222222,
              "#7201a8"
             ],
             [
              0.3333333333333333,
              "#9c179e"
             ],
             [
              0.4444444444444444,
              "#bd3786"
             ],
             [
              0.5555555555555556,
              "#d8576b"
             ],
             [
              0.6666666666666666,
              "#ed7953"
             ],
             [
              0.7777777777777778,
              "#fb9f3a"
             ],
             [
              0.8888888888888888,
              "#fdca26"
             ],
             [
              1,
              "#f0f921"
             ]
            ],
            "type": "contour"
           }
          ],
          "contourcarpet": [
           {
            "colorbar": {
             "outlinewidth": 0,
             "ticks": ""
            },
            "type": "contourcarpet"
           }
          ],
          "heatmap": [
           {
            "colorbar": {
             "outlinewidth": 0,
             "ticks": ""
            },
            "colorscale": [
             [
              0,
              "#0d0887"
             ],
             [
              0.1111111111111111,
              "#46039f"
             ],
             [
              0.2222222222222222,
              "#7201a8"
             ],
             [
              0.3333333333333333,
              "#9c179e"
             ],
             [
              0.4444444444444444,
              "#bd3786"
             ],
             [
              0.5555555555555556,
              "#d8576b"
             ],
             [
              0.6666666666666666,
              "#ed7953"
             ],
             [
              0.7777777777777778,
              "#fb9f3a"
             ],
             [
              0.8888888888888888,
              "#fdca26"
             ],
             [
              1,
              "#f0f921"
             ]
            ],
            "type": "heatmap"
           }
          ],
          "heatmapgl": [
           {
            "colorbar": {
             "outlinewidth": 0,
             "ticks": ""
            },
            "colorscale": [
             [
              0,
              "#0d0887"
             ],
             [
              0.1111111111111111,
              "#46039f"
             ],
             [
              0.2222222222222222,
              "#7201a8"
             ],
             [
              0.3333333333333333,
              "#9c179e"
             ],
             [
              0.4444444444444444,
              "#bd3786"
             ],
             [
              0.5555555555555556,
              "#d8576b"
             ],
             [
              0.6666666666666666,
              "#ed7953"
             ],
             [
              0.7777777777777778,
              "#fb9f3a"
             ],
             [
              0.8888888888888888,
              "#fdca26"
             ],
             [
              1,
              "#f0f921"
             ]
            ],
            "type": "heatmapgl"
           }
          ],
          "histogram": [
           {
            "marker": {
             "pattern": {
              "fillmode": "overlay",
              "size": 10,
              "solidity": 0.2
             }
            },
            "type": "histogram"
           }
          ],
          "histogram2d": [
           {
            "colorbar": {
             "outlinewidth": 0,
             "ticks": ""
            },
            "colorscale": [
             [
              0,
              "#0d0887"
             ],
             [
              0.1111111111111111,
              "#46039f"
             ],
             [
              0.2222222222222222,
              "#7201a8"
             ],
             [
              0.3333333333333333,
              "#9c179e"
             ],
             [
              0.4444444444444444,
              "#bd3786"
             ],
             [
              0.5555555555555556,
              "#d8576b"
             ],
             [
              0.6666666666666666,
              "#ed7953"
             ],
             [
              0.7777777777777778,
              "#fb9f3a"
             ],
             [
              0.8888888888888888,
              "#fdca26"
             ],
             [
              1,
              "#f0f921"
             ]
            ],
            "type": "histogram2d"
           }
          ],
          "histogram2dcontour": [
           {
            "colorbar": {
             "outlinewidth": 0,
             "ticks": ""
            },
            "colorscale": [
             [
              0,
              "#0d0887"
             ],
             [
              0.1111111111111111,
              "#46039f"
             ],
             [
              0.2222222222222222,
              "#7201a8"
             ],
             [
              0.3333333333333333,
              "#9c179e"
             ],
             [
              0.4444444444444444,
              "#bd3786"
             ],
             [
              0.5555555555555556,
              "#d8576b"
             ],
             [
              0.6666666666666666,
              "#ed7953"
             ],
             [
              0.7777777777777778,
              "#fb9f3a"
             ],
             [
              0.8888888888888888,
              "#fdca26"
             ],
             [
              1,
              "#f0f921"
             ]
            ],
            "type": "histogram2dcontour"
           }
          ],
          "mesh3d": [
           {
            "colorbar": {
             "outlinewidth": 0,
             "ticks": ""
            },
            "type": "mesh3d"
           }
          ],
          "parcoords": [
           {
            "line": {
             "colorbar": {
              "outlinewidth": 0,
              "ticks": ""
             }
            },
            "type": "parcoords"
           }
          ],
          "pie": [
           {
            "automargin": true,
            "type": "pie"
           }
          ],
          "scatter": [
           {
            "fillpattern": {
             "fillmode": "overlay",
             "size": 10,
             "solidity": 0.2
            },
            "type": "scatter"
           }
          ],
          "scatter3d": [
           {
            "line": {
             "colorbar": {
              "outlinewidth": 0,
              "ticks": ""
             }
            },
            "marker": {
             "colorbar": {
              "outlinewidth": 0,
              "ticks": ""
             }
            },
            "type": "scatter3d"
           }
          ],
          "scattercarpet": [
           {
            "marker": {
             "colorbar": {
              "outlinewidth": 0,
              "ticks": ""
             }
            },
            "type": "scattercarpet"
           }
          ],
          "scattergeo": [
           {
            "marker": {
             "colorbar": {
              "outlinewidth": 0,
              "ticks": ""
             }
            },
            "type": "scattergeo"
           }
          ],
          "scattergl": [
           {
            "marker": {
             "colorbar": {
              "outlinewidth": 0,
              "ticks": ""
             }
            },
            "type": "scattergl"
           }
          ],
          "scattermapbox": [
           {
            "marker": {
             "colorbar": {
              "outlinewidth": 0,
              "ticks": ""
             }
            },
            "type": "scattermapbox"
           }
          ],
          "scatterpolar": [
           {
            "marker": {
             "colorbar": {
              "outlinewidth": 0,
              "ticks": ""
             }
            },
            "type": "scatterpolar"
           }
          ],
          "scatterpolargl": [
           {
            "marker": {
             "colorbar": {
              "outlinewidth": 0,
              "ticks": ""
             }
            },
            "type": "scatterpolargl"
           }
          ],
          "scatterternary": [
           {
            "marker": {
             "colorbar": {
              "outlinewidth": 0,
              "ticks": ""
             }
            },
            "type": "scatterternary"
           }
          ],
          "surface": [
           {
            "colorbar": {
             "outlinewidth": 0,
             "ticks": ""
            },
            "colorscale": [
             [
              0,
              "#0d0887"
             ],
             [
              0.1111111111111111,
              "#46039f"
             ],
             [
              0.2222222222222222,
              "#7201a8"
             ],
             [
              0.3333333333333333,
              "#9c179e"
             ],
             [
              0.4444444444444444,
              "#bd3786"
             ],
             [
              0.5555555555555556,
              "#d8576b"
             ],
             [
              0.6666666666666666,
              "#ed7953"
             ],
             [
              0.7777777777777778,
              "#fb9f3a"
             ],
             [
              0.8888888888888888,
              "#fdca26"
             ],
             [
              1,
              "#f0f921"
             ]
            ],
            "type": "surface"
           }
          ],
          "table": [
           {
            "cells": {
             "fill": {
              "color": "#EBF0F8"
             },
             "line": {
              "color": "white"
             }
            },
            "header": {
             "fill": {
              "color": "#C8D4E3"
             },
             "line": {
              "color": "white"
             }
            },
            "type": "table"
           }
          ]
         },
         "layout": {
          "annotationdefaults": {
           "arrowcolor": "#2a3f5f",
           "arrowhead": 0,
           "arrowwidth": 1
          },
          "autotypenumbers": "strict",
          "coloraxis": {
           "colorbar": {
            "outlinewidth": 0,
            "ticks": ""
           }
          },
          "colorscale": {
           "diverging": [
            [
             0,
             "#8e0152"
            ],
            [
             0.1,
             "#c51b7d"
            ],
            [
             0.2,
             "#de77ae"
            ],
            [
             0.3,
             "#f1b6da"
            ],
            [
             0.4,
             "#fde0ef"
            ],
            [
             0.5,
             "#f7f7f7"
            ],
            [
             0.6,
             "#e6f5d0"
            ],
            [
             0.7,
             "#b8e186"
            ],
            [
             0.8,
             "#7fbc41"
            ],
            [
             0.9,
             "#4d9221"
            ],
            [
             1,
             "#276419"
            ]
           ],
           "sequential": [
            [
             0,
             "#0d0887"
            ],
            [
             0.1111111111111111,
             "#46039f"
            ],
            [
             0.2222222222222222,
             "#7201a8"
            ],
            [
             0.3333333333333333,
             "#9c179e"
            ],
            [
             0.4444444444444444,
             "#bd3786"
            ],
            [
             0.5555555555555556,
             "#d8576b"
            ],
            [
             0.6666666666666666,
             "#ed7953"
            ],
            [
             0.7777777777777778,
             "#fb9f3a"
            ],
            [
             0.8888888888888888,
             "#fdca26"
            ],
            [
             1,
             "#f0f921"
            ]
           ],
           "sequentialminus": [
            [
             0,
             "#0d0887"
            ],
            [
             0.1111111111111111,
             "#46039f"
            ],
            [
             0.2222222222222222,
             "#7201a8"
            ],
            [
             0.3333333333333333,
             "#9c179e"
            ],
            [
             0.4444444444444444,
             "#bd3786"
            ],
            [
             0.5555555555555556,
             "#d8576b"
            ],
            [
             0.6666666666666666,
             "#ed7953"
            ],
            [
             0.7777777777777778,
             "#fb9f3a"
            ],
            [
             0.8888888888888888,
             "#fdca26"
            ],
            [
             1,
             "#f0f921"
            ]
           ]
          },
          "colorway": [
           "#636efa",
           "#EF553B",
           "#00cc96",
           "#ab63fa",
           "#FFA15A",
           "#19d3f3",
           "#FF6692",
           "#B6E880",
           "#FF97FF",
           "#FECB52"
          ],
          "font": {
           "color": "#2a3f5f"
          },
          "geo": {
           "bgcolor": "white",
           "lakecolor": "white",
           "landcolor": "#E5ECF6",
           "showlakes": true,
           "showland": true,
           "subunitcolor": "white"
          },
          "hoverlabel": {
           "align": "left"
          },
          "hovermode": "closest",
          "mapbox": {
           "style": "light"
          },
          "paper_bgcolor": "white",
          "plot_bgcolor": "#E5ECF6",
          "polar": {
           "angularaxis": {
            "gridcolor": "white",
            "linecolor": "white",
            "ticks": ""
           },
           "bgcolor": "#E5ECF6",
           "radialaxis": {
            "gridcolor": "white",
            "linecolor": "white",
            "ticks": ""
           }
          },
          "scene": {
           "xaxis": {
            "backgroundcolor": "#E5ECF6",
            "gridcolor": "white",
            "gridwidth": 2,
            "linecolor": "white",
            "showbackground": true,
            "ticks": "",
            "zerolinecolor": "white"
           },
           "yaxis": {
            "backgroundcolor": "#E5ECF6",
            "gridcolor": "white",
            "gridwidth": 2,
            "linecolor": "white",
            "showbackground": true,
            "ticks": "",
            "zerolinecolor": "white"
           },
           "zaxis": {
            "backgroundcolor": "#E5ECF6",
            "gridcolor": "white",
            "gridwidth": 2,
            "linecolor": "white",
            "showbackground": true,
            "ticks": "",
            "zerolinecolor": "white"
           }
          },
          "shapedefaults": {
           "line": {
            "color": "#2a3f5f"
           }
          },
          "ternary": {
           "aaxis": {
            "gridcolor": "white",
            "linecolor": "white",
            "ticks": ""
           },
           "baxis": {
            "gridcolor": "white",
            "linecolor": "white",
            "ticks": ""
           },
           "bgcolor": "#E5ECF6",
           "caxis": {
            "gridcolor": "white",
            "linecolor": "white",
            "ticks": ""
           }
          },
          "title": {
           "x": 0.05
          },
          "xaxis": {
           "automargin": true,
           "gridcolor": "white",
           "linecolor": "white",
           "ticks": "",
           "title": {
            "standoff": 15
           },
           "zerolinecolor": "white",
           "zerolinewidth": 2
          },
          "yaxis": {
           "automargin": true,
           "gridcolor": "white",
           "linecolor": "white",
           "ticks": "",
           "title": {
            "standoff": 15
           },
           "zerolinecolor": "white",
           "zerolinewidth": 2
          }
         }
        },
        "violinmode": "overlay",
        "xaxis": {
         "anchor": "y",
         "domain": [
          0,
          1
         ],
         "tickangle": 0,
         "title": {
          "text": "tokens"
         }
        },
        "yaxis": {
         "anchor": "x",
         "categoryarray": [
          "gpt-4-1106-preview-v1.1",
          "gpt-4-1106-preview",
          "gpt-3.5-turbo-16k-0613",
          "gpt-4-0613"
         ],
         "categoryorder": "array",
         "domain": [
          0,
          1
         ],
         "title": {
          "text": "model"
         }
        }
       }
      }
     },
     "metadata": {},
     "output_type": "display_data"
    },
    {
     "data": {
      "application/vnd.plotly.v1+json": {
       "config": {
        "plotlyServerURL": "https://plot.ly"
       },
       "data": [
        {
         "alignmentgroup": "True",
         "box": {
          "visible": true
         },
         "hovertemplate": "model=%{y}<br>tokens=%{x}<extra></extra>",
         "legendgroup": "gpt-4-0613",
         "marker": {
          "color": "#636efa"
         },
         "name": "gpt-4-0613",
         "offsetgroup": "gpt-4-0613",
         "orientation": "h",
         "points": "all",
         "scalegroup": "True",
         "showlegend": true,
         "type": "violin",
         "x": [
          266,
          298,
          564,
          304,
          279,
          175,
          371,
          329,
          307,
          301,
          262,
          140,
          414,
          192,
          235,
          372,
          300,
          295,
          209,
          311,
          283,
          277,
          371,
          93,
          455,
          207,
          165,
          243,
          266,
          47,
          218,
          260,
          19,
          94,
          286,
          286,
          316,
          72,
          299,
          236,
          94,
          297,
          28,
          247,
          266,
          269,
          300,
          278,
          246,
          187,
          141,
          311,
          497,
          61,
          104,
          219,
          283,
          345,
          543,
          73,
          274,
          325,
          169,
          407,
          203,
          309,
          89,
          180,
          232,
          257,
          95,
          248,
          382,
          272,
          61,
          219,
          55,
          400,
          320,
          115,
          25,
          353,
          242,
          437,
          261,
          58,
          66,
          386,
          36,
          111,
          64,
          166,
          377,
          76,
          262,
          499,
          26,
          242
         ],
         "x0": " ",
         "xaxis": "x",
         "y": [
          "gpt-4-0613",
          "gpt-4-0613",
          "gpt-4-0613",
          "gpt-4-0613",
          "gpt-4-0613",
          "gpt-4-0613",
          "gpt-4-0613",
          "gpt-4-0613",
          "gpt-4-0613",
          "gpt-4-0613",
          "gpt-4-0613",
          "gpt-4-0613",
          "gpt-4-0613",
          "gpt-4-0613",
          "gpt-4-0613",
          "gpt-4-0613",
          "gpt-4-0613",
          "gpt-4-0613",
          "gpt-4-0613",
          "gpt-4-0613",
          "gpt-4-0613",
          "gpt-4-0613",
          "gpt-4-0613",
          "gpt-4-0613",
          "gpt-4-0613",
          "gpt-4-0613",
          "gpt-4-0613",
          "gpt-4-0613",
          "gpt-4-0613",
          "gpt-4-0613",
          "gpt-4-0613",
          "gpt-4-0613",
          "gpt-4-0613",
          "gpt-4-0613",
          "gpt-4-0613",
          "gpt-4-0613",
          "gpt-4-0613",
          "gpt-4-0613",
          "gpt-4-0613",
          "gpt-4-0613",
          "gpt-4-0613",
          "gpt-4-0613",
          "gpt-4-0613",
          "gpt-4-0613",
          "gpt-4-0613",
          "gpt-4-0613",
          "gpt-4-0613",
          "gpt-4-0613",
          "gpt-4-0613",
          "gpt-4-0613",
          "gpt-4-0613",
          "gpt-4-0613",
          "gpt-4-0613",
          "gpt-4-0613",
          "gpt-4-0613",
          "gpt-4-0613",
          "gpt-4-0613",
          "gpt-4-0613",
          "gpt-4-0613",
          "gpt-4-0613",
          "gpt-4-0613",
          "gpt-4-0613",
          "gpt-4-0613",
          "gpt-4-0613",
          "gpt-4-0613",
          "gpt-4-0613",
          "gpt-4-0613",
          "gpt-4-0613",
          "gpt-4-0613",
          "gpt-4-0613",
          "gpt-4-0613",
          "gpt-4-0613",
          "gpt-4-0613",
          "gpt-4-0613",
          "gpt-4-0613",
          "gpt-4-0613",
          "gpt-4-0613",
          "gpt-4-0613",
          "gpt-4-0613",
          "gpt-4-0613",
          "gpt-4-0613",
          "gpt-4-0613",
          "gpt-4-0613",
          "gpt-4-0613",
          "gpt-4-0613",
          "gpt-4-0613",
          "gpt-4-0613",
          "gpt-4-0613",
          "gpt-4-0613",
          "gpt-4-0613",
          "gpt-4-0613",
          "gpt-4-0613",
          "gpt-4-0613",
          "gpt-4-0613",
          "gpt-4-0613",
          "gpt-4-0613",
          "gpt-4-0613",
          "gpt-4-0613"
         ],
         "y0": " ",
         "yaxis": "y"
        },
        {
         "alignmentgroup": "True",
         "box": {
          "visible": true
         },
         "hovertemplate": "model=%{y}<br>tokens=%{x}<extra></extra>",
         "legendgroup": "gpt-3.5-turbo-16k-0613",
         "marker": {
          "color": "#EF553B"
         },
         "name": "gpt-3.5-turbo-16k-0613",
         "offsetgroup": "gpt-3.5-turbo-16k-0613",
         "orientation": "h",
         "points": "all",
         "scalegroup": "True",
         "showlegend": true,
         "type": "violin",
         "x": [
          197,
          203,
          462,
          295,
          269,
          250,
          552,
          273,
          337,
          487,
          269,
          246,
          266,
          226,
          158,
          469,
          256,
          200,
          228,
          290,
          158,
          283,
          381,
          102,
          333,
          454,
          201,
          343,
          394,
          37,
          233,
          282,
          116,
          244,
          433,
          222,
          315,
          236,
          288,
          215,
          190,
          284,
          458,
          223,
          194,
          365,
          303,
          211,
          263,
          192,
          176,
          202,
          647,
          126,
          71,
          194,
          80,
          432,
          416,
          163,
          283,
          359,
          628,
          431,
          433,
          371,
          84,
          154,
          547,
          323,
          107,
          232,
          270,
          276,
          60,
          254,
          102,
          618,
          297,
          104,
          139,
          133,
          471,
          202,
          370,
          129,
          51,
          283,
          57,
          238,
          81,
          127,
          319,
          68,
          354,
          421,
          54,
          287
         ],
         "x0": " ",
         "xaxis": "x",
         "y": [
          "gpt-3.5-turbo-16k-0613",
          "gpt-3.5-turbo-16k-0613",
          "gpt-3.5-turbo-16k-0613",
          "gpt-3.5-turbo-16k-0613",
          "gpt-3.5-turbo-16k-0613",
          "gpt-3.5-turbo-16k-0613",
          "gpt-3.5-turbo-16k-0613",
          "gpt-3.5-turbo-16k-0613",
          "gpt-3.5-turbo-16k-0613",
          "gpt-3.5-turbo-16k-0613",
          "gpt-3.5-turbo-16k-0613",
          "gpt-3.5-turbo-16k-0613",
          "gpt-3.5-turbo-16k-0613",
          "gpt-3.5-turbo-16k-0613",
          "gpt-3.5-turbo-16k-0613",
          "gpt-3.5-turbo-16k-0613",
          "gpt-3.5-turbo-16k-0613",
          "gpt-3.5-turbo-16k-0613",
          "gpt-3.5-turbo-16k-0613",
          "gpt-3.5-turbo-16k-0613",
          "gpt-3.5-turbo-16k-0613",
          "gpt-3.5-turbo-16k-0613",
          "gpt-3.5-turbo-16k-0613",
          "gpt-3.5-turbo-16k-0613",
          "gpt-3.5-turbo-16k-0613",
          "gpt-3.5-turbo-16k-0613",
          "gpt-3.5-turbo-16k-0613",
          "gpt-3.5-turbo-16k-0613",
          "gpt-3.5-turbo-16k-0613",
          "gpt-3.5-turbo-16k-0613",
          "gpt-3.5-turbo-16k-0613",
          "gpt-3.5-turbo-16k-0613",
          "gpt-3.5-turbo-16k-0613",
          "gpt-3.5-turbo-16k-0613",
          "gpt-3.5-turbo-16k-0613",
          "gpt-3.5-turbo-16k-0613",
          "gpt-3.5-turbo-16k-0613",
          "gpt-3.5-turbo-16k-0613",
          "gpt-3.5-turbo-16k-0613",
          "gpt-3.5-turbo-16k-0613",
          "gpt-3.5-turbo-16k-0613",
          "gpt-3.5-turbo-16k-0613",
          "gpt-3.5-turbo-16k-0613",
          "gpt-3.5-turbo-16k-0613",
          "gpt-3.5-turbo-16k-0613",
          "gpt-3.5-turbo-16k-0613",
          "gpt-3.5-turbo-16k-0613",
          "gpt-3.5-turbo-16k-0613",
          "gpt-3.5-turbo-16k-0613",
          "gpt-3.5-turbo-16k-0613",
          "gpt-3.5-turbo-16k-0613",
          "gpt-3.5-turbo-16k-0613",
          "gpt-3.5-turbo-16k-0613",
          "gpt-3.5-turbo-16k-0613",
          "gpt-3.5-turbo-16k-0613",
          "gpt-3.5-turbo-16k-0613",
          "gpt-3.5-turbo-16k-0613",
          "gpt-3.5-turbo-16k-0613",
          "gpt-3.5-turbo-16k-0613",
          "gpt-3.5-turbo-16k-0613",
          "gpt-3.5-turbo-16k-0613",
          "gpt-3.5-turbo-16k-0613",
          "gpt-3.5-turbo-16k-0613",
          "gpt-3.5-turbo-16k-0613",
          "gpt-3.5-turbo-16k-0613",
          "gpt-3.5-turbo-16k-0613",
          "gpt-3.5-turbo-16k-0613",
          "gpt-3.5-turbo-16k-0613",
          "gpt-3.5-turbo-16k-0613",
          "gpt-3.5-turbo-16k-0613",
          "gpt-3.5-turbo-16k-0613",
          "gpt-3.5-turbo-16k-0613",
          "gpt-3.5-turbo-16k-0613",
          "gpt-3.5-turbo-16k-0613",
          "gpt-3.5-turbo-16k-0613",
          "gpt-3.5-turbo-16k-0613",
          "gpt-3.5-turbo-16k-0613",
          "gpt-3.5-turbo-16k-0613",
          "gpt-3.5-turbo-16k-0613",
          "gpt-3.5-turbo-16k-0613",
          "gpt-3.5-turbo-16k-0613",
          "gpt-3.5-turbo-16k-0613",
          "gpt-3.5-turbo-16k-0613",
          "gpt-3.5-turbo-16k-0613",
          "gpt-3.5-turbo-16k-0613",
          "gpt-3.5-turbo-16k-0613",
          "gpt-3.5-turbo-16k-0613",
          "gpt-3.5-turbo-16k-0613",
          "gpt-3.5-turbo-16k-0613",
          "gpt-3.5-turbo-16k-0613",
          "gpt-3.5-turbo-16k-0613",
          "gpt-3.5-turbo-16k-0613",
          "gpt-3.5-turbo-16k-0613",
          "gpt-3.5-turbo-16k-0613",
          "gpt-3.5-turbo-16k-0613",
          "gpt-3.5-turbo-16k-0613",
          "gpt-3.5-turbo-16k-0613",
          "gpt-3.5-turbo-16k-0613"
         ],
         "y0": " ",
         "yaxis": "y"
        },
        {
         "alignmentgroup": "True",
         "box": {
          "visible": true
         },
         "hovertemplate": "model=%{y}<br>tokens=%{x}<extra></extra>",
         "legendgroup": "gpt-4-1106-preview",
         "marker": {
          "color": "#00cc96"
         },
         "name": "gpt-4-1106-preview",
         "offsetgroup": "gpt-4-1106-preview",
         "orientation": "h",
         "points": "all",
         "scalegroup": "True",
         "showlegend": true,
         "type": "violin",
         "x": [
          609,
          371,
          731,
          557,
          450,
          354,
          557,
          515,
          481,
          509,
          452,
          353,
          522,
          410,
          512,
          704,
          492,
          652,
          514,
          465,
          448,
          522,
          520,
          350,
          533,
          404,
          458,
          516,
          375,
          199,
          491,
          520,
          227,
          378,
          518,
          593,
          572,
          374,
          491,
          443,
          255,
          379,
          244,
          344,
          502,
          541,
          347,
          507,
          489,
          440,
          312,
          713,
          460,
          217,
          101,
          364,
          501,
          685,
          701,
          251,
          451,
          526,
          579,
          561,
          543,
          633,
          298,
          456,
          442,
          508,
          195,
          478,
          197,
          543,
          155,
          403,
          314,
          607,
          476,
          227,
          423,
          506,
          533,
          652,
          843,
          204,
          100,
          512,
          95,
          410,
          118,
          432,
          604,
          214,
          514,
          496,
          71,
          504
         ],
         "x0": " ",
         "xaxis": "x",
         "y": [
          "gpt-4-1106-preview",
          "gpt-4-1106-preview",
          "gpt-4-1106-preview",
          "gpt-4-1106-preview",
          "gpt-4-1106-preview",
          "gpt-4-1106-preview",
          "gpt-4-1106-preview",
          "gpt-4-1106-preview",
          "gpt-4-1106-preview",
          "gpt-4-1106-preview",
          "gpt-4-1106-preview",
          "gpt-4-1106-preview",
          "gpt-4-1106-preview",
          "gpt-4-1106-preview",
          "gpt-4-1106-preview",
          "gpt-4-1106-preview",
          "gpt-4-1106-preview",
          "gpt-4-1106-preview",
          "gpt-4-1106-preview",
          "gpt-4-1106-preview",
          "gpt-4-1106-preview",
          "gpt-4-1106-preview",
          "gpt-4-1106-preview",
          "gpt-4-1106-preview",
          "gpt-4-1106-preview",
          "gpt-4-1106-preview",
          "gpt-4-1106-preview",
          "gpt-4-1106-preview",
          "gpt-4-1106-preview",
          "gpt-4-1106-preview",
          "gpt-4-1106-preview",
          "gpt-4-1106-preview",
          "gpt-4-1106-preview",
          "gpt-4-1106-preview",
          "gpt-4-1106-preview",
          "gpt-4-1106-preview",
          "gpt-4-1106-preview",
          "gpt-4-1106-preview",
          "gpt-4-1106-preview",
          "gpt-4-1106-preview",
          "gpt-4-1106-preview",
          "gpt-4-1106-preview",
          "gpt-4-1106-preview",
          "gpt-4-1106-preview",
          "gpt-4-1106-preview",
          "gpt-4-1106-preview",
          "gpt-4-1106-preview",
          "gpt-4-1106-preview",
          "gpt-4-1106-preview",
          "gpt-4-1106-preview",
          "gpt-4-1106-preview",
          "gpt-4-1106-preview",
          "gpt-4-1106-preview",
          "gpt-4-1106-preview",
          "gpt-4-1106-preview",
          "gpt-4-1106-preview",
          "gpt-4-1106-preview",
          "gpt-4-1106-preview",
          "gpt-4-1106-preview",
          "gpt-4-1106-preview",
          "gpt-4-1106-preview",
          "gpt-4-1106-preview",
          "gpt-4-1106-preview",
          "gpt-4-1106-preview",
          "gpt-4-1106-preview",
          "gpt-4-1106-preview",
          "gpt-4-1106-preview",
          "gpt-4-1106-preview",
          "gpt-4-1106-preview",
          "gpt-4-1106-preview",
          "gpt-4-1106-preview",
          "gpt-4-1106-preview",
          "gpt-4-1106-preview",
          "gpt-4-1106-preview",
          "gpt-4-1106-preview",
          "gpt-4-1106-preview",
          "gpt-4-1106-preview",
          "gpt-4-1106-preview",
          "gpt-4-1106-preview",
          "gpt-4-1106-preview",
          "gpt-4-1106-preview",
          "gpt-4-1106-preview",
          "gpt-4-1106-preview",
          "gpt-4-1106-preview",
          "gpt-4-1106-preview",
          "gpt-4-1106-preview",
          "gpt-4-1106-preview",
          "gpt-4-1106-preview",
          "gpt-4-1106-preview",
          "gpt-4-1106-preview",
          "gpt-4-1106-preview",
          "gpt-4-1106-preview",
          "gpt-4-1106-preview",
          "gpt-4-1106-preview",
          "gpt-4-1106-preview",
          "gpt-4-1106-preview",
          "gpt-4-1106-preview",
          "gpt-4-1106-preview"
         ],
         "y0": " ",
         "yaxis": "y"
        },
        {
         "alignmentgroup": "True",
         "box": {
          "visible": true
         },
         "hovertemplate": "model=%{y}<br>tokens=%{x}<extra></extra>",
         "legendgroup": "gpt-4-1106-preview-v1.1",
         "marker": {
          "color": "#ab63fa"
         },
         "name": "gpt-4-1106-preview-v1.1",
         "offsetgroup": "gpt-4-1106-preview-v1.1",
         "orientation": "h",
         "points": "all",
         "scalegroup": "True",
         "showlegend": true,
         "type": "violin",
         "x": [
          482,
          407,
          733,
          596,
          443,
          381,
          449,
          604,
          423,
          426,
          521,
          358,
          612,
          415,
          621,
          665,
          504,
          773,
          620,
          507,
          355,
          588,
          756,
          327,
          475,
          326,
          576,
          463,
          473,
          313,
          436,
          452,
          435,
          380,
          431,
          538,
          599,
          409,
          370,
          448,
          479,
          458,
          288,
          349,
          508,
          432,
          578,
          650,
          446,
          337,
          359,
          815,
          964,
          403,
          184,
          411,
          538,
          604,
          771,
          230,
          482,
          639,
          425,
          731,
          582,
          584,
          445,
          477,
          478,
          403,
          307,
          654,
          472,
          427,
          275,
          485,
          248,
          705,
          472,
          263,
          431,
          623,
          436,
          647,
          659,
          278,
          307,
          518,
          164,
          497,
          283,
          324,
          628,
          185,
          504,
          446,
          315,
          682
         ],
         "x0": " ",
         "xaxis": "x",
         "y": [
          "gpt-4-1106-preview-v1.1",
          "gpt-4-1106-preview-v1.1",
          "gpt-4-1106-preview-v1.1",
          "gpt-4-1106-preview-v1.1",
          "gpt-4-1106-preview-v1.1",
          "gpt-4-1106-preview-v1.1",
          "gpt-4-1106-preview-v1.1",
          "gpt-4-1106-preview-v1.1",
          "gpt-4-1106-preview-v1.1",
          "gpt-4-1106-preview-v1.1",
          "gpt-4-1106-preview-v1.1",
          "gpt-4-1106-preview-v1.1",
          "gpt-4-1106-preview-v1.1",
          "gpt-4-1106-preview-v1.1",
          "gpt-4-1106-preview-v1.1",
          "gpt-4-1106-preview-v1.1",
          "gpt-4-1106-preview-v1.1",
          "gpt-4-1106-preview-v1.1",
          "gpt-4-1106-preview-v1.1",
          "gpt-4-1106-preview-v1.1",
          "gpt-4-1106-preview-v1.1",
          "gpt-4-1106-preview-v1.1",
          "gpt-4-1106-preview-v1.1",
          "gpt-4-1106-preview-v1.1",
          "gpt-4-1106-preview-v1.1",
          "gpt-4-1106-preview-v1.1",
          "gpt-4-1106-preview-v1.1",
          "gpt-4-1106-preview-v1.1",
          "gpt-4-1106-preview-v1.1",
          "gpt-4-1106-preview-v1.1",
          "gpt-4-1106-preview-v1.1",
          "gpt-4-1106-preview-v1.1",
          "gpt-4-1106-preview-v1.1",
          "gpt-4-1106-preview-v1.1",
          "gpt-4-1106-preview-v1.1",
          "gpt-4-1106-preview-v1.1",
          "gpt-4-1106-preview-v1.1",
          "gpt-4-1106-preview-v1.1",
          "gpt-4-1106-preview-v1.1",
          "gpt-4-1106-preview-v1.1",
          "gpt-4-1106-preview-v1.1",
          "gpt-4-1106-preview-v1.1",
          "gpt-4-1106-preview-v1.1",
          "gpt-4-1106-preview-v1.1",
          "gpt-4-1106-preview-v1.1",
          "gpt-4-1106-preview-v1.1",
          "gpt-4-1106-preview-v1.1",
          "gpt-4-1106-preview-v1.1",
          "gpt-4-1106-preview-v1.1",
          "gpt-4-1106-preview-v1.1",
          "gpt-4-1106-preview-v1.1",
          "gpt-4-1106-preview-v1.1",
          "gpt-4-1106-preview-v1.1",
          "gpt-4-1106-preview-v1.1",
          "gpt-4-1106-preview-v1.1",
          "gpt-4-1106-preview-v1.1",
          "gpt-4-1106-preview-v1.1",
          "gpt-4-1106-preview-v1.1",
          "gpt-4-1106-preview-v1.1",
          "gpt-4-1106-preview-v1.1",
          "gpt-4-1106-preview-v1.1",
          "gpt-4-1106-preview-v1.1",
          "gpt-4-1106-preview-v1.1",
          "gpt-4-1106-preview-v1.1",
          "gpt-4-1106-preview-v1.1",
          "gpt-4-1106-preview-v1.1",
          "gpt-4-1106-preview-v1.1",
          "gpt-4-1106-preview-v1.1",
          "gpt-4-1106-preview-v1.1",
          "gpt-4-1106-preview-v1.1",
          "gpt-4-1106-preview-v1.1",
          "gpt-4-1106-preview-v1.1",
          "gpt-4-1106-preview-v1.1",
          "gpt-4-1106-preview-v1.1",
          "gpt-4-1106-preview-v1.1",
          "gpt-4-1106-preview-v1.1",
          "gpt-4-1106-preview-v1.1",
          "gpt-4-1106-preview-v1.1",
          "gpt-4-1106-preview-v1.1",
          "gpt-4-1106-preview-v1.1",
          "gpt-4-1106-preview-v1.1",
          "gpt-4-1106-preview-v1.1",
          "gpt-4-1106-preview-v1.1",
          "gpt-4-1106-preview-v1.1",
          "gpt-4-1106-preview-v1.1",
          "gpt-4-1106-preview-v1.1",
          "gpt-4-1106-preview-v1.1",
          "gpt-4-1106-preview-v1.1",
          "gpt-4-1106-preview-v1.1",
          "gpt-4-1106-preview-v1.1",
          "gpt-4-1106-preview-v1.1",
          "gpt-4-1106-preview-v1.1",
          "gpt-4-1106-preview-v1.1",
          "gpt-4-1106-preview-v1.1",
          "gpt-4-1106-preview-v1.1",
          "gpt-4-1106-preview-v1.1",
          "gpt-4-1106-preview-v1.1",
          "gpt-4-1106-preview-v1.1"
         ],
         "y0": " ",
         "yaxis": "y"
        }
       ],
       "layout": {
        "legend": {
         "title": {
          "text": "model"
         },
         "tracegroupgap": 0
        },
        "margin": {
         "t": 60
        },
        "template": {
         "data": {
          "bar": [
           {
            "error_x": {
             "color": "#2a3f5f"
            },
            "error_y": {
             "color": "#2a3f5f"
            },
            "marker": {
             "line": {
              "color": "#E5ECF6",
              "width": 0.5
             },
             "pattern": {
              "fillmode": "overlay",
              "size": 10,
              "solidity": 0.2
             }
            },
            "type": "bar"
           }
          ],
          "barpolar": [
           {
            "marker": {
             "line": {
              "color": "#E5ECF6",
              "width": 0.5
             },
             "pattern": {
              "fillmode": "overlay",
              "size": 10,
              "solidity": 0.2
             }
            },
            "type": "barpolar"
           }
          ],
          "carpet": [
           {
            "aaxis": {
             "endlinecolor": "#2a3f5f",
             "gridcolor": "white",
             "linecolor": "white",
             "minorgridcolor": "white",
             "startlinecolor": "#2a3f5f"
            },
            "baxis": {
             "endlinecolor": "#2a3f5f",
             "gridcolor": "white",
             "linecolor": "white",
             "minorgridcolor": "white",
             "startlinecolor": "#2a3f5f"
            },
            "type": "carpet"
           }
          ],
          "choropleth": [
           {
            "colorbar": {
             "outlinewidth": 0,
             "ticks": ""
            },
            "type": "choropleth"
           }
          ],
          "contour": [
           {
            "colorbar": {
             "outlinewidth": 0,
             "ticks": ""
            },
            "colorscale": [
             [
              0,
              "#0d0887"
             ],
             [
              0.1111111111111111,
              "#46039f"
             ],
             [
              0.2222222222222222,
              "#7201a8"
             ],
             [
              0.3333333333333333,
              "#9c179e"
             ],
             [
              0.4444444444444444,
              "#bd3786"
             ],
             [
              0.5555555555555556,
              "#d8576b"
             ],
             [
              0.6666666666666666,
              "#ed7953"
             ],
             [
              0.7777777777777778,
              "#fb9f3a"
             ],
             [
              0.8888888888888888,
              "#fdca26"
             ],
             [
              1,
              "#f0f921"
             ]
            ],
            "type": "contour"
           }
          ],
          "contourcarpet": [
           {
            "colorbar": {
             "outlinewidth": 0,
             "ticks": ""
            },
            "type": "contourcarpet"
           }
          ],
          "heatmap": [
           {
            "colorbar": {
             "outlinewidth": 0,
             "ticks": ""
            },
            "colorscale": [
             [
              0,
              "#0d0887"
             ],
             [
              0.1111111111111111,
              "#46039f"
             ],
             [
              0.2222222222222222,
              "#7201a8"
             ],
             [
              0.3333333333333333,
              "#9c179e"
             ],
             [
              0.4444444444444444,
              "#bd3786"
             ],
             [
              0.5555555555555556,
              "#d8576b"
             ],
             [
              0.6666666666666666,
              "#ed7953"
             ],
             [
              0.7777777777777778,
              "#fb9f3a"
             ],
             [
              0.8888888888888888,
              "#fdca26"
             ],
             [
              1,
              "#f0f921"
             ]
            ],
            "type": "heatmap"
           }
          ],
          "heatmapgl": [
           {
            "colorbar": {
             "outlinewidth": 0,
             "ticks": ""
            },
            "colorscale": [
             [
              0,
              "#0d0887"
             ],
             [
              0.1111111111111111,
              "#46039f"
             ],
             [
              0.2222222222222222,
              "#7201a8"
             ],
             [
              0.3333333333333333,
              "#9c179e"
             ],
             [
              0.4444444444444444,
              "#bd3786"
             ],
             [
              0.5555555555555556,
              "#d8576b"
             ],
             [
              0.6666666666666666,
              "#ed7953"
             ],
             [
              0.7777777777777778,
              "#fb9f3a"
             ],
             [
              0.8888888888888888,
              "#fdca26"
             ],
             [
              1,
              "#f0f921"
             ]
            ],
            "type": "heatmapgl"
           }
          ],
          "histogram": [
           {
            "marker": {
             "pattern": {
              "fillmode": "overlay",
              "size": 10,
              "solidity": 0.2
             }
            },
            "type": "histogram"
           }
          ],
          "histogram2d": [
           {
            "colorbar": {
             "outlinewidth": 0,
             "ticks": ""
            },
            "colorscale": [
             [
              0,
              "#0d0887"
             ],
             [
              0.1111111111111111,
              "#46039f"
             ],
             [
              0.2222222222222222,
              "#7201a8"
             ],
             [
              0.3333333333333333,
              "#9c179e"
             ],
             [
              0.4444444444444444,
              "#bd3786"
             ],
             [
              0.5555555555555556,
              "#d8576b"
             ],
             [
              0.6666666666666666,
              "#ed7953"
             ],
             [
              0.7777777777777778,
              "#fb9f3a"
             ],
             [
              0.8888888888888888,
              "#fdca26"
             ],
             [
              1,
              "#f0f921"
             ]
            ],
            "type": "histogram2d"
           }
          ],
          "histogram2dcontour": [
           {
            "colorbar": {
             "outlinewidth": 0,
             "ticks": ""
            },
            "colorscale": [
             [
              0,
              "#0d0887"
             ],
             [
              0.1111111111111111,
              "#46039f"
             ],
             [
              0.2222222222222222,
              "#7201a8"
             ],
             [
              0.3333333333333333,
              "#9c179e"
             ],
             [
              0.4444444444444444,
              "#bd3786"
             ],
             [
              0.5555555555555556,
              "#d8576b"
             ],
             [
              0.6666666666666666,
              "#ed7953"
             ],
             [
              0.7777777777777778,
              "#fb9f3a"
             ],
             [
              0.8888888888888888,
              "#fdca26"
             ],
             [
              1,
              "#f0f921"
             ]
            ],
            "type": "histogram2dcontour"
           }
          ],
          "mesh3d": [
           {
            "colorbar": {
             "outlinewidth": 0,
             "ticks": ""
            },
            "type": "mesh3d"
           }
          ],
          "parcoords": [
           {
            "line": {
             "colorbar": {
              "outlinewidth": 0,
              "ticks": ""
             }
            },
            "type": "parcoords"
           }
          ],
          "pie": [
           {
            "automargin": true,
            "type": "pie"
           }
          ],
          "scatter": [
           {
            "fillpattern": {
             "fillmode": "overlay",
             "size": 10,
             "solidity": 0.2
            },
            "type": "scatter"
           }
          ],
          "scatter3d": [
           {
            "line": {
             "colorbar": {
              "outlinewidth": 0,
              "ticks": ""
             }
            },
            "marker": {
             "colorbar": {
              "outlinewidth": 0,
              "ticks": ""
             }
            },
            "type": "scatter3d"
           }
          ],
          "scattercarpet": [
           {
            "marker": {
             "colorbar": {
              "outlinewidth": 0,
              "ticks": ""
             }
            },
            "type": "scattercarpet"
           }
          ],
          "scattergeo": [
           {
            "marker": {
             "colorbar": {
              "outlinewidth": 0,
              "ticks": ""
             }
            },
            "type": "scattergeo"
           }
          ],
          "scattergl": [
           {
            "marker": {
             "colorbar": {
              "outlinewidth": 0,
              "ticks": ""
             }
            },
            "type": "scattergl"
           }
          ],
          "scattermapbox": [
           {
            "marker": {
             "colorbar": {
              "outlinewidth": 0,
              "ticks": ""
             }
            },
            "type": "scattermapbox"
           }
          ],
          "scatterpolar": [
           {
            "marker": {
             "colorbar": {
              "outlinewidth": 0,
              "ticks": ""
             }
            },
            "type": "scatterpolar"
           }
          ],
          "scatterpolargl": [
           {
            "marker": {
             "colorbar": {
              "outlinewidth": 0,
              "ticks": ""
             }
            },
            "type": "scatterpolargl"
           }
          ],
          "scatterternary": [
           {
            "marker": {
             "colorbar": {
              "outlinewidth": 0,
              "ticks": ""
             }
            },
            "type": "scatterternary"
           }
          ],
          "surface": [
           {
            "colorbar": {
             "outlinewidth": 0,
             "ticks": ""
            },
            "colorscale": [
             [
              0,
              "#0d0887"
             ],
             [
              0.1111111111111111,
              "#46039f"
             ],
             [
              0.2222222222222222,
              "#7201a8"
             ],
             [
              0.3333333333333333,
              "#9c179e"
             ],
             [
              0.4444444444444444,
              "#bd3786"
             ],
             [
              0.5555555555555556,
              "#d8576b"
             ],
             [
              0.6666666666666666,
              "#ed7953"
             ],
             [
              0.7777777777777778,
              "#fb9f3a"
             ],
             [
              0.8888888888888888,
              "#fdca26"
             ],
             [
              1,
              "#f0f921"
             ]
            ],
            "type": "surface"
           }
          ],
          "table": [
           {
            "cells": {
             "fill": {
              "color": "#EBF0F8"
             },
             "line": {
              "color": "white"
             }
            },
            "header": {
             "fill": {
              "color": "#C8D4E3"
             },
             "line": {
              "color": "white"
             }
            },
            "type": "table"
           }
          ]
         },
         "layout": {
          "annotationdefaults": {
           "arrowcolor": "#2a3f5f",
           "arrowhead": 0,
           "arrowwidth": 1
          },
          "autotypenumbers": "strict",
          "coloraxis": {
           "colorbar": {
            "outlinewidth": 0,
            "ticks": ""
           }
          },
          "colorscale": {
           "diverging": [
            [
             0,
             "#8e0152"
            ],
            [
             0.1,
             "#c51b7d"
            ],
            [
             0.2,
             "#de77ae"
            ],
            [
             0.3,
             "#f1b6da"
            ],
            [
             0.4,
             "#fde0ef"
            ],
            [
             0.5,
             "#f7f7f7"
            ],
            [
             0.6,
             "#e6f5d0"
            ],
            [
             0.7,
             "#b8e186"
            ],
            [
             0.8,
             "#7fbc41"
            ],
            [
             0.9,
             "#4d9221"
            ],
            [
             1,
             "#276419"
            ]
           ],
           "sequential": [
            [
             0,
             "#0d0887"
            ],
            [
             0.1111111111111111,
             "#46039f"
            ],
            [
             0.2222222222222222,
             "#7201a8"
            ],
            [
             0.3333333333333333,
             "#9c179e"
            ],
            [
             0.4444444444444444,
             "#bd3786"
            ],
            [
             0.5555555555555556,
             "#d8576b"
            ],
            [
             0.6666666666666666,
             "#ed7953"
            ],
            [
             0.7777777777777778,
             "#fb9f3a"
            ],
            [
             0.8888888888888888,
             "#fdca26"
            ],
            [
             1,
             "#f0f921"
            ]
           ],
           "sequentialminus": [
            [
             0,
             "#0d0887"
            ],
            [
             0.1111111111111111,
             "#46039f"
            ],
            [
             0.2222222222222222,
             "#7201a8"
            ],
            [
             0.3333333333333333,
             "#9c179e"
            ],
            [
             0.4444444444444444,
             "#bd3786"
            ],
            [
             0.5555555555555556,
             "#d8576b"
            ],
            [
             0.6666666666666666,
             "#ed7953"
            ],
            [
             0.7777777777777778,
             "#fb9f3a"
            ],
            [
             0.8888888888888888,
             "#fdca26"
            ],
            [
             1,
             "#f0f921"
            ]
           ]
          },
          "colorway": [
           "#636efa",
           "#EF553B",
           "#00cc96",
           "#ab63fa",
           "#FFA15A",
           "#19d3f3",
           "#FF6692",
           "#B6E880",
           "#FF97FF",
           "#FECB52"
          ],
          "font": {
           "color": "#2a3f5f"
          },
          "geo": {
           "bgcolor": "white",
           "lakecolor": "white",
           "landcolor": "#E5ECF6",
           "showlakes": true,
           "showland": true,
           "subunitcolor": "white"
          },
          "hoverlabel": {
           "align": "left"
          },
          "hovermode": "closest",
          "mapbox": {
           "style": "light"
          },
          "paper_bgcolor": "white",
          "plot_bgcolor": "#E5ECF6",
          "polar": {
           "angularaxis": {
            "gridcolor": "white",
            "linecolor": "white",
            "ticks": ""
           },
           "bgcolor": "#E5ECF6",
           "radialaxis": {
            "gridcolor": "white",
            "linecolor": "white",
            "ticks": ""
           }
          },
          "scene": {
           "xaxis": {
            "backgroundcolor": "#E5ECF6",
            "gridcolor": "white",
            "gridwidth": 2,
            "linecolor": "white",
            "showbackground": true,
            "ticks": "",
            "zerolinecolor": "white"
           },
           "yaxis": {
            "backgroundcolor": "#E5ECF6",
            "gridcolor": "white",
            "gridwidth": 2,
            "linecolor": "white",
            "showbackground": true,
            "ticks": "",
            "zerolinecolor": "white"
           },
           "zaxis": {
            "backgroundcolor": "#E5ECF6",
            "gridcolor": "white",
            "gridwidth": 2,
            "linecolor": "white",
            "showbackground": true,
            "ticks": "",
            "zerolinecolor": "white"
           }
          },
          "shapedefaults": {
           "line": {
            "color": "#2a3f5f"
           }
          },
          "ternary": {
           "aaxis": {
            "gridcolor": "white",
            "linecolor": "white",
            "ticks": ""
           },
           "baxis": {
            "gridcolor": "white",
            "linecolor": "white",
            "ticks": ""
           },
           "bgcolor": "#E5ECF6",
           "caxis": {
            "gridcolor": "white",
            "linecolor": "white",
            "ticks": ""
           }
          },
          "title": {
           "x": 0.05
          },
          "xaxis": {
           "automargin": true,
           "gridcolor": "white",
           "linecolor": "white",
           "ticks": "",
           "title": {
            "standoff": 15
           },
           "zerolinecolor": "white",
           "zerolinewidth": 2
          },
          "yaxis": {
           "automargin": true,
           "gridcolor": "white",
           "linecolor": "white",
           "ticks": "",
           "title": {
            "standoff": 15
           },
           "zerolinecolor": "white",
           "zerolinewidth": 2
          }
         }
        },
        "violinmode": "overlay",
        "xaxis": {
         "anchor": "y",
         "domain": [
          0,
          1
         ],
         "tickangle": 0,
         "title": {
          "text": "tokens"
         }
        },
        "yaxis": {
         "anchor": "x",
         "categoryarray": [
          "gpt-4-1106-preview-v1.1",
          "gpt-4-1106-preview",
          "gpt-3.5-turbo-16k-0613",
          "gpt-4-0613"
         ],
         "categoryorder": "array",
         "domain": [
          0,
          1
         ],
         "title": {
          "text": "model"
         }
        }
       }
      }
     },
     "metadata": {},
     "output_type": "display_data"
    },
    {
     "data": {
      "application/vnd.plotly.v1+json": {
       "config": {
        "plotlyServerURL": "https://plot.ly"
       },
       "data": [
        {
         "alignmentgroup": "True",
         "box": {
          "visible": true
         },
         "hovertemplate": "model=%{y}<br>tokens=%{x}<extra></extra>",
         "legendgroup": "gpt-4-0613",
         "marker": {
          "color": "#636efa"
         },
         "name": "gpt-4-0613",
         "offsetgroup": "gpt-4-0613",
         "orientation": "h",
         "points": "all",
         "scalegroup": "True",
         "showlegend": true,
         "type": "violin",
         "x": [
          1741,
          1155,
          1615,
          1521,
          2462,
          1135,
          1841,
          1126,
          1713,
          1341,
          2599,
          995,
          1293,
          1209,
          2149,
          1767,
          1716,
          1740,
          1571,
          2163,
          1182,
          1933,
          2024,
          1072,
          1674,
          838,
          1136,
          1021,
          1327,
          1133,
          1038,
          1325,
          630,
          790,
          1473,
          2990,
          1535,
          751,
          2322,
          1404,
          1178,
          1600,
          774,
          1125,
          1198,
          1065,
          2289,
          2038,
          1325,
          1174,
          2396,
          1886,
          1311,
          1081,
          1048,
          1399,
          2038,
          1915,
          4089,
          767,
          1163,
          1171,
          1092,
          2786,
          1440,
          1210,
          1359,
          1957,
          2327,
          847,
          1778,
          1557,
          2873,
          1712,
          1459,
          1645,
          1030,
          1462,
          1129,
          1686,
          787,
          1331,
          1197,
          4677,
          1364,
          869,
          841,
          2376,
          1253,
          1536,
          1002,
          1536,
          2377,
          838,
          964,
          1326,
          694,
          3857
         ],
         "x0": " ",
         "xaxis": "x",
         "y": [
          "gpt-4-0613",
          "gpt-4-0613",
          "gpt-4-0613",
          "gpt-4-0613",
          "gpt-4-0613",
          "gpt-4-0613",
          "gpt-4-0613",
          "gpt-4-0613",
          "gpt-4-0613",
          "gpt-4-0613",
          "gpt-4-0613",
          "gpt-4-0613",
          "gpt-4-0613",
          "gpt-4-0613",
          "gpt-4-0613",
          "gpt-4-0613",
          "gpt-4-0613",
          "gpt-4-0613",
          "gpt-4-0613",
          "gpt-4-0613",
          "gpt-4-0613",
          "gpt-4-0613",
          "gpt-4-0613",
          "gpt-4-0613",
          "gpt-4-0613",
          "gpt-4-0613",
          "gpt-4-0613",
          "gpt-4-0613",
          "gpt-4-0613",
          "gpt-4-0613",
          "gpt-4-0613",
          "gpt-4-0613",
          "gpt-4-0613",
          "gpt-4-0613",
          "gpt-4-0613",
          "gpt-4-0613",
          "gpt-4-0613",
          "gpt-4-0613",
          "gpt-4-0613",
          "gpt-4-0613",
          "gpt-4-0613",
          "gpt-4-0613",
          "gpt-4-0613",
          "gpt-4-0613",
          "gpt-4-0613",
          "gpt-4-0613",
          "gpt-4-0613",
          "gpt-4-0613",
          "gpt-4-0613",
          "gpt-4-0613",
          "gpt-4-0613",
          "gpt-4-0613",
          "gpt-4-0613",
          "gpt-4-0613",
          "gpt-4-0613",
          "gpt-4-0613",
          "gpt-4-0613",
          "gpt-4-0613",
          "gpt-4-0613",
          "gpt-4-0613",
          "gpt-4-0613",
          "gpt-4-0613",
          "gpt-4-0613",
          "gpt-4-0613",
          "gpt-4-0613",
          "gpt-4-0613",
          "gpt-4-0613",
          "gpt-4-0613",
          "gpt-4-0613",
          "gpt-4-0613",
          "gpt-4-0613",
          "gpt-4-0613",
          "gpt-4-0613",
          "gpt-4-0613",
          "gpt-4-0613",
          "gpt-4-0613",
          "gpt-4-0613",
          "gpt-4-0613",
          "gpt-4-0613",
          "gpt-4-0613",
          "gpt-4-0613",
          "gpt-4-0613",
          "gpt-4-0613",
          "gpt-4-0613",
          "gpt-4-0613",
          "gpt-4-0613",
          "gpt-4-0613",
          "gpt-4-0613",
          "gpt-4-0613",
          "gpt-4-0613",
          "gpt-4-0613",
          "gpt-4-0613",
          "gpt-4-0613",
          "gpt-4-0613",
          "gpt-4-0613",
          "gpt-4-0613",
          "gpt-4-0613",
          "gpt-4-0613"
         ],
         "y0": " ",
         "yaxis": "y"
        },
        {
         "alignmentgroup": "True",
         "box": {
          "visible": true
         },
         "hovertemplate": "model=%{y}<br>tokens=%{x}<extra></extra>",
         "legendgroup": "gpt-3.5-turbo-16k-0613",
         "marker": {
          "color": "#EF553B"
         },
         "name": "gpt-3.5-turbo-16k-0613",
         "offsetgroup": "gpt-3.5-turbo-16k-0613",
         "orientation": "h",
         "points": "all",
         "scalegroup": "True",
         "showlegend": true,
         "type": "violin",
         "x": [
          1672,
          1060,
          1513,
          1512,
          2452,
          1210,
          2022,
          1137,
          1743,
          1527,
          2606,
          1101,
          1145,
          1243,
          2072,
          1864,
          1672,
          1645,
          1590,
          2142,
          1057,
          1939,
          2034,
          1081,
          1552,
          1085,
          1172,
          1121,
          1455,
          1123,
          1053,
          1347,
          727,
          940,
          1620,
          2926,
          1534,
          915,
          2311,
          1383,
          1274,
          1587,
          1204,
          1101,
          1126,
          1161,
          2292,
          1971,
          1342,
          1179,
          2431,
          1777,
          1461,
          1146,
          1015,
          1374,
          1835,
          2002,
          3962,
          857,
          1172,
          1205,
          1551,
          2810,
          1670,
          1272,
          1354,
          1931,
          2642,
          913,
          1790,
          1541,
          2761,
          1716,
          1458,
          1680,
          1077,
          1680,
          1106,
          1675,
          901,
          1111,
          1426,
          4442,
          1473,
          940,
          826,
          2273,
          1274,
          1663,
          1019,
          1497,
          2319,
          830,
          1056,
          1248,
          722,
          3902
         ],
         "x0": " ",
         "xaxis": "x",
         "y": [
          "gpt-3.5-turbo-16k-0613",
          "gpt-3.5-turbo-16k-0613",
          "gpt-3.5-turbo-16k-0613",
          "gpt-3.5-turbo-16k-0613",
          "gpt-3.5-turbo-16k-0613",
          "gpt-3.5-turbo-16k-0613",
          "gpt-3.5-turbo-16k-0613",
          "gpt-3.5-turbo-16k-0613",
          "gpt-3.5-turbo-16k-0613",
          "gpt-3.5-turbo-16k-0613",
          "gpt-3.5-turbo-16k-0613",
          "gpt-3.5-turbo-16k-0613",
          "gpt-3.5-turbo-16k-0613",
          "gpt-3.5-turbo-16k-0613",
          "gpt-3.5-turbo-16k-0613",
          "gpt-3.5-turbo-16k-0613",
          "gpt-3.5-turbo-16k-0613",
          "gpt-3.5-turbo-16k-0613",
          "gpt-3.5-turbo-16k-0613",
          "gpt-3.5-turbo-16k-0613",
          "gpt-3.5-turbo-16k-0613",
          "gpt-3.5-turbo-16k-0613",
          "gpt-3.5-turbo-16k-0613",
          "gpt-3.5-turbo-16k-0613",
          "gpt-3.5-turbo-16k-0613",
          "gpt-3.5-turbo-16k-0613",
          "gpt-3.5-turbo-16k-0613",
          "gpt-3.5-turbo-16k-0613",
          "gpt-3.5-turbo-16k-0613",
          "gpt-3.5-turbo-16k-0613",
          "gpt-3.5-turbo-16k-0613",
          "gpt-3.5-turbo-16k-0613",
          "gpt-3.5-turbo-16k-0613",
          "gpt-3.5-turbo-16k-0613",
          "gpt-3.5-turbo-16k-0613",
          "gpt-3.5-turbo-16k-0613",
          "gpt-3.5-turbo-16k-0613",
          "gpt-3.5-turbo-16k-0613",
          "gpt-3.5-turbo-16k-0613",
          "gpt-3.5-turbo-16k-0613",
          "gpt-3.5-turbo-16k-0613",
          "gpt-3.5-turbo-16k-0613",
          "gpt-3.5-turbo-16k-0613",
          "gpt-3.5-turbo-16k-0613",
          "gpt-3.5-turbo-16k-0613",
          "gpt-3.5-turbo-16k-0613",
          "gpt-3.5-turbo-16k-0613",
          "gpt-3.5-turbo-16k-0613",
          "gpt-3.5-turbo-16k-0613",
          "gpt-3.5-turbo-16k-0613",
          "gpt-3.5-turbo-16k-0613",
          "gpt-3.5-turbo-16k-0613",
          "gpt-3.5-turbo-16k-0613",
          "gpt-3.5-turbo-16k-0613",
          "gpt-3.5-turbo-16k-0613",
          "gpt-3.5-turbo-16k-0613",
          "gpt-3.5-turbo-16k-0613",
          "gpt-3.5-turbo-16k-0613",
          "gpt-3.5-turbo-16k-0613",
          "gpt-3.5-turbo-16k-0613",
          "gpt-3.5-turbo-16k-0613",
          "gpt-3.5-turbo-16k-0613",
          "gpt-3.5-turbo-16k-0613",
          "gpt-3.5-turbo-16k-0613",
          "gpt-3.5-turbo-16k-0613",
          "gpt-3.5-turbo-16k-0613",
          "gpt-3.5-turbo-16k-0613",
          "gpt-3.5-turbo-16k-0613",
          "gpt-3.5-turbo-16k-0613",
          "gpt-3.5-turbo-16k-0613",
          "gpt-3.5-turbo-16k-0613",
          "gpt-3.5-turbo-16k-0613",
          "gpt-3.5-turbo-16k-0613",
          "gpt-3.5-turbo-16k-0613",
          "gpt-3.5-turbo-16k-0613",
          "gpt-3.5-turbo-16k-0613",
          "gpt-3.5-turbo-16k-0613",
          "gpt-3.5-turbo-16k-0613",
          "gpt-3.5-turbo-16k-0613",
          "gpt-3.5-turbo-16k-0613",
          "gpt-3.5-turbo-16k-0613",
          "gpt-3.5-turbo-16k-0613",
          "gpt-3.5-turbo-16k-0613",
          "gpt-3.5-turbo-16k-0613",
          "gpt-3.5-turbo-16k-0613",
          "gpt-3.5-turbo-16k-0613",
          "gpt-3.5-turbo-16k-0613",
          "gpt-3.5-turbo-16k-0613",
          "gpt-3.5-turbo-16k-0613",
          "gpt-3.5-turbo-16k-0613",
          "gpt-3.5-turbo-16k-0613",
          "gpt-3.5-turbo-16k-0613",
          "gpt-3.5-turbo-16k-0613",
          "gpt-3.5-turbo-16k-0613",
          "gpt-3.5-turbo-16k-0613",
          "gpt-3.5-turbo-16k-0613",
          "gpt-3.5-turbo-16k-0613",
          "gpt-3.5-turbo-16k-0613"
         ],
         "y0": " ",
         "yaxis": "y"
        },
        {
         "alignmentgroup": "True",
         "box": {
          "visible": true
         },
         "hovertemplate": "model=%{y}<br>tokens=%{x}<extra></extra>",
         "legendgroup": "gpt-4-1106-preview",
         "marker": {
          "color": "#00cc96"
         },
         "name": "gpt-4-1106-preview",
         "offsetgroup": "gpt-4-1106-preview",
         "orientation": "h",
         "points": "all",
         "scalegroup": "True",
         "showlegend": true,
         "type": "violin",
         "x": [
          2084,
          1228,
          1782,
          1774,
          2633,
          1314,
          2027,
          1379,
          1887,
          1549,
          2789,
          1208,
          1401,
          1427,
          2426,
          2099,
          1908,
          2097,
          1876,
          2317,
          1347,
          2178,
          2173,
          1329,
          1752,
          1035,
          1429,
          1294,
          1436,
          1285,
          1311,
          1585,
          838,
          1074,
          1705,
          3297,
          1791,
          1053,
          2514,
          1611,
          1339,
          1682,
          990,
          1222,
          1434,
          1337,
          2336,
          2267,
          1568,
          1427,
          2567,
          2288,
          1274,
          1237,
          1045,
          1544,
          2256,
          2255,
          4247,
          945,
          1340,
          1372,
          1502,
          2940,
          1780,
          1534,
          1568,
          2233,
          2537,
          1098,
          1878,
          1787,
          2688,
          1983,
          1553,
          1829,
          1289,
          1669,
          1285,
          1798,
          1185,
          1484,
          1488,
          4892,
          1946,
          1015,
          875,
          2502,
          1312,
          1835,
          1056,
          1802,
          2604,
          976,
          1216,
          1323,
          739,
          4119
         ],
         "x0": " ",
         "xaxis": "x",
         "y": [
          "gpt-4-1106-preview",
          "gpt-4-1106-preview",
          "gpt-4-1106-preview",
          "gpt-4-1106-preview",
          "gpt-4-1106-preview",
          "gpt-4-1106-preview",
          "gpt-4-1106-preview",
          "gpt-4-1106-preview",
          "gpt-4-1106-preview",
          "gpt-4-1106-preview",
          "gpt-4-1106-preview",
          "gpt-4-1106-preview",
          "gpt-4-1106-preview",
          "gpt-4-1106-preview",
          "gpt-4-1106-preview",
          "gpt-4-1106-preview",
          "gpt-4-1106-preview",
          "gpt-4-1106-preview",
          "gpt-4-1106-preview",
          "gpt-4-1106-preview",
          "gpt-4-1106-preview",
          "gpt-4-1106-preview",
          "gpt-4-1106-preview",
          "gpt-4-1106-preview",
          "gpt-4-1106-preview",
          "gpt-4-1106-preview",
          "gpt-4-1106-preview",
          "gpt-4-1106-preview",
          "gpt-4-1106-preview",
          "gpt-4-1106-preview",
          "gpt-4-1106-preview",
          "gpt-4-1106-preview",
          "gpt-4-1106-preview",
          "gpt-4-1106-preview",
          "gpt-4-1106-preview",
          "gpt-4-1106-preview",
          "gpt-4-1106-preview",
          "gpt-4-1106-preview",
          "gpt-4-1106-preview",
          "gpt-4-1106-preview",
          "gpt-4-1106-preview",
          "gpt-4-1106-preview",
          "gpt-4-1106-preview",
          "gpt-4-1106-preview",
          "gpt-4-1106-preview",
          "gpt-4-1106-preview",
          "gpt-4-1106-preview",
          "gpt-4-1106-preview",
          "gpt-4-1106-preview",
          "gpt-4-1106-preview",
          "gpt-4-1106-preview",
          "gpt-4-1106-preview",
          "gpt-4-1106-preview",
          "gpt-4-1106-preview",
          "gpt-4-1106-preview",
          "gpt-4-1106-preview",
          "gpt-4-1106-preview",
          "gpt-4-1106-preview",
          "gpt-4-1106-preview",
          "gpt-4-1106-preview",
          "gpt-4-1106-preview",
          "gpt-4-1106-preview",
          "gpt-4-1106-preview",
          "gpt-4-1106-preview",
          "gpt-4-1106-preview",
          "gpt-4-1106-preview",
          "gpt-4-1106-preview",
          "gpt-4-1106-preview",
          "gpt-4-1106-preview",
          "gpt-4-1106-preview",
          "gpt-4-1106-preview",
          "gpt-4-1106-preview",
          "gpt-4-1106-preview",
          "gpt-4-1106-preview",
          "gpt-4-1106-preview",
          "gpt-4-1106-preview",
          "gpt-4-1106-preview",
          "gpt-4-1106-preview",
          "gpt-4-1106-preview",
          "gpt-4-1106-preview",
          "gpt-4-1106-preview",
          "gpt-4-1106-preview",
          "gpt-4-1106-preview",
          "gpt-4-1106-preview",
          "gpt-4-1106-preview",
          "gpt-4-1106-preview",
          "gpt-4-1106-preview",
          "gpt-4-1106-preview",
          "gpt-4-1106-preview",
          "gpt-4-1106-preview",
          "gpt-4-1106-preview",
          "gpt-4-1106-preview",
          "gpt-4-1106-preview",
          "gpt-4-1106-preview",
          "gpt-4-1106-preview",
          "gpt-4-1106-preview",
          "gpt-4-1106-preview",
          "gpt-4-1106-preview"
         ],
         "y0": " ",
         "yaxis": "y"
        },
        {
         "alignmentgroup": "True",
         "box": {
          "visible": true
         },
         "hovertemplate": "model=%{y}<br>tokens=%{x}<extra></extra>",
         "legendgroup": "gpt-4-1106-preview-v1.1",
         "marker": {
          "color": "#ab63fa"
         },
         "name": "gpt-4-1106-preview-v1.1",
         "offsetgroup": "gpt-4-1106-preview-v1.1",
         "orientation": "h",
         "points": "all",
         "scalegroup": "True",
         "showlegend": true,
         "type": "violin",
         "x": [
          5508,
          3562,
          4896,
          8037,
          7388,
          6138,
          6465,
          7614,
          5863,
          5440,
          6339,
          4489,
          6678,
          6901,
          9306,
          5977,
          7370,
          7867,
          4584,
          5089,
          4083,
          6947,
          6192,
          7012,
          4374,
          4953,
          6063,
          8208,
          5858,
          4778,
          5632,
          6450,
          3754,
          5756,
          4784,
          5860,
          3832,
          6673,
          6643,
          4313,
          4059,
          5958,
          5874,
          3474,
          5142,
          8428,
          6763,
          5018,
          4938,
          5292,
          6453,
          7410,
          8683,
          6747,
          4809,
          4957,
          7542,
          7605,
          4554,
          7170,
          6418,
          6823,
          3914,
          8839,
          6447,
          3798,
          7671,
          7018,
          5062,
          7451,
          3563,
          4764,
          8704,
          6176,
          3916,
          5843,
          4616,
          6749,
          4736,
          9107,
          4642,
          7633,
          7417,
          7779,
          11271,
          4838,
          3459,
          7456,
          5397,
          7623,
          5695,
          6180,
          7576,
          4017,
          4172,
          3544,
          4032,
          9042
         ],
         "x0": " ",
         "xaxis": "x",
         "y": [
          "gpt-4-1106-preview-v1.1",
          "gpt-4-1106-preview-v1.1",
          "gpt-4-1106-preview-v1.1",
          "gpt-4-1106-preview-v1.1",
          "gpt-4-1106-preview-v1.1",
          "gpt-4-1106-preview-v1.1",
          "gpt-4-1106-preview-v1.1",
          "gpt-4-1106-preview-v1.1",
          "gpt-4-1106-preview-v1.1",
          "gpt-4-1106-preview-v1.1",
          "gpt-4-1106-preview-v1.1",
          "gpt-4-1106-preview-v1.1",
          "gpt-4-1106-preview-v1.1",
          "gpt-4-1106-preview-v1.1",
          "gpt-4-1106-preview-v1.1",
          "gpt-4-1106-preview-v1.1",
          "gpt-4-1106-preview-v1.1",
          "gpt-4-1106-preview-v1.1",
          "gpt-4-1106-preview-v1.1",
          "gpt-4-1106-preview-v1.1",
          "gpt-4-1106-preview-v1.1",
          "gpt-4-1106-preview-v1.1",
          "gpt-4-1106-preview-v1.1",
          "gpt-4-1106-preview-v1.1",
          "gpt-4-1106-preview-v1.1",
          "gpt-4-1106-preview-v1.1",
          "gpt-4-1106-preview-v1.1",
          "gpt-4-1106-preview-v1.1",
          "gpt-4-1106-preview-v1.1",
          "gpt-4-1106-preview-v1.1",
          "gpt-4-1106-preview-v1.1",
          "gpt-4-1106-preview-v1.1",
          "gpt-4-1106-preview-v1.1",
          "gpt-4-1106-preview-v1.1",
          "gpt-4-1106-preview-v1.1",
          "gpt-4-1106-preview-v1.1",
          "gpt-4-1106-preview-v1.1",
          "gpt-4-1106-preview-v1.1",
          "gpt-4-1106-preview-v1.1",
          "gpt-4-1106-preview-v1.1",
          "gpt-4-1106-preview-v1.1",
          "gpt-4-1106-preview-v1.1",
          "gpt-4-1106-preview-v1.1",
          "gpt-4-1106-preview-v1.1",
          "gpt-4-1106-preview-v1.1",
          "gpt-4-1106-preview-v1.1",
          "gpt-4-1106-preview-v1.1",
          "gpt-4-1106-preview-v1.1",
          "gpt-4-1106-preview-v1.1",
          "gpt-4-1106-preview-v1.1",
          "gpt-4-1106-preview-v1.1",
          "gpt-4-1106-preview-v1.1",
          "gpt-4-1106-preview-v1.1",
          "gpt-4-1106-preview-v1.1",
          "gpt-4-1106-preview-v1.1",
          "gpt-4-1106-preview-v1.1",
          "gpt-4-1106-preview-v1.1",
          "gpt-4-1106-preview-v1.1",
          "gpt-4-1106-preview-v1.1",
          "gpt-4-1106-preview-v1.1",
          "gpt-4-1106-preview-v1.1",
          "gpt-4-1106-preview-v1.1",
          "gpt-4-1106-preview-v1.1",
          "gpt-4-1106-preview-v1.1",
          "gpt-4-1106-preview-v1.1",
          "gpt-4-1106-preview-v1.1",
          "gpt-4-1106-preview-v1.1",
          "gpt-4-1106-preview-v1.1",
          "gpt-4-1106-preview-v1.1",
          "gpt-4-1106-preview-v1.1",
          "gpt-4-1106-preview-v1.1",
          "gpt-4-1106-preview-v1.1",
          "gpt-4-1106-preview-v1.1",
          "gpt-4-1106-preview-v1.1",
          "gpt-4-1106-preview-v1.1",
          "gpt-4-1106-preview-v1.1",
          "gpt-4-1106-preview-v1.1",
          "gpt-4-1106-preview-v1.1",
          "gpt-4-1106-preview-v1.1",
          "gpt-4-1106-preview-v1.1",
          "gpt-4-1106-preview-v1.1",
          "gpt-4-1106-preview-v1.1",
          "gpt-4-1106-preview-v1.1",
          "gpt-4-1106-preview-v1.1",
          "gpt-4-1106-preview-v1.1",
          "gpt-4-1106-preview-v1.1",
          "gpt-4-1106-preview-v1.1",
          "gpt-4-1106-preview-v1.1",
          "gpt-4-1106-preview-v1.1",
          "gpt-4-1106-preview-v1.1",
          "gpt-4-1106-preview-v1.1",
          "gpt-4-1106-preview-v1.1",
          "gpt-4-1106-preview-v1.1",
          "gpt-4-1106-preview-v1.1",
          "gpt-4-1106-preview-v1.1",
          "gpt-4-1106-preview-v1.1",
          "gpt-4-1106-preview-v1.1",
          "gpt-4-1106-preview-v1.1"
         ],
         "y0": " ",
         "yaxis": "y"
        }
       ],
       "layout": {
        "legend": {
         "title": {
          "text": "model"
         },
         "tracegroupgap": 0
        },
        "margin": {
         "t": 60
        },
        "template": {
         "data": {
          "bar": [
           {
            "error_x": {
             "color": "#2a3f5f"
            },
            "error_y": {
             "color": "#2a3f5f"
            },
            "marker": {
             "line": {
              "color": "#E5ECF6",
              "width": 0.5
             },
             "pattern": {
              "fillmode": "overlay",
              "size": 10,
              "solidity": 0.2
             }
            },
            "type": "bar"
           }
          ],
          "barpolar": [
           {
            "marker": {
             "line": {
              "color": "#E5ECF6",
              "width": 0.5
             },
             "pattern": {
              "fillmode": "overlay",
              "size": 10,
              "solidity": 0.2
             }
            },
            "type": "barpolar"
           }
          ],
          "carpet": [
           {
            "aaxis": {
             "endlinecolor": "#2a3f5f",
             "gridcolor": "white",
             "linecolor": "white",
             "minorgridcolor": "white",
             "startlinecolor": "#2a3f5f"
            },
            "baxis": {
             "endlinecolor": "#2a3f5f",
             "gridcolor": "white",
             "linecolor": "white",
             "minorgridcolor": "white",
             "startlinecolor": "#2a3f5f"
            },
            "type": "carpet"
           }
          ],
          "choropleth": [
           {
            "colorbar": {
             "outlinewidth": 0,
             "ticks": ""
            },
            "type": "choropleth"
           }
          ],
          "contour": [
           {
            "colorbar": {
             "outlinewidth": 0,
             "ticks": ""
            },
            "colorscale": [
             [
              0,
              "#0d0887"
             ],
             [
              0.1111111111111111,
              "#46039f"
             ],
             [
              0.2222222222222222,
              "#7201a8"
             ],
             [
              0.3333333333333333,
              "#9c179e"
             ],
             [
              0.4444444444444444,
              "#bd3786"
             ],
             [
              0.5555555555555556,
              "#d8576b"
             ],
             [
              0.6666666666666666,
              "#ed7953"
             ],
             [
              0.7777777777777778,
              "#fb9f3a"
             ],
             [
              0.8888888888888888,
              "#fdca26"
             ],
             [
              1,
              "#f0f921"
             ]
            ],
            "type": "contour"
           }
          ],
          "contourcarpet": [
           {
            "colorbar": {
             "outlinewidth": 0,
             "ticks": ""
            },
            "type": "contourcarpet"
           }
          ],
          "heatmap": [
           {
            "colorbar": {
             "outlinewidth": 0,
             "ticks": ""
            },
            "colorscale": [
             [
              0,
              "#0d0887"
             ],
             [
              0.1111111111111111,
              "#46039f"
             ],
             [
              0.2222222222222222,
              "#7201a8"
             ],
             [
              0.3333333333333333,
              "#9c179e"
             ],
             [
              0.4444444444444444,
              "#bd3786"
             ],
             [
              0.5555555555555556,
              "#d8576b"
             ],
             [
              0.6666666666666666,
              "#ed7953"
             ],
             [
              0.7777777777777778,
              "#fb9f3a"
             ],
             [
              0.8888888888888888,
              "#fdca26"
             ],
             [
              1,
              "#f0f921"
             ]
            ],
            "type": "heatmap"
           }
          ],
          "heatmapgl": [
           {
            "colorbar": {
             "outlinewidth": 0,
             "ticks": ""
            },
            "colorscale": [
             [
              0,
              "#0d0887"
             ],
             [
              0.1111111111111111,
              "#46039f"
             ],
             [
              0.2222222222222222,
              "#7201a8"
             ],
             [
              0.3333333333333333,
              "#9c179e"
             ],
             [
              0.4444444444444444,
              "#bd3786"
             ],
             [
              0.5555555555555556,
              "#d8576b"
             ],
             [
              0.6666666666666666,
              "#ed7953"
             ],
             [
              0.7777777777777778,
              "#fb9f3a"
             ],
             [
              0.8888888888888888,
              "#fdca26"
             ],
             [
              1,
              "#f0f921"
             ]
            ],
            "type": "heatmapgl"
           }
          ],
          "histogram": [
           {
            "marker": {
             "pattern": {
              "fillmode": "overlay",
              "size": 10,
              "solidity": 0.2
             }
            },
            "type": "histogram"
           }
          ],
          "histogram2d": [
           {
            "colorbar": {
             "outlinewidth": 0,
             "ticks": ""
            },
            "colorscale": [
             [
              0,
              "#0d0887"
             ],
             [
              0.1111111111111111,
              "#46039f"
             ],
             [
              0.2222222222222222,
              "#7201a8"
             ],
             [
              0.3333333333333333,
              "#9c179e"
             ],
             [
              0.4444444444444444,
              "#bd3786"
             ],
             [
              0.5555555555555556,
              "#d8576b"
             ],
             [
              0.6666666666666666,
              "#ed7953"
             ],
             [
              0.7777777777777778,
              "#fb9f3a"
             ],
             [
              0.8888888888888888,
              "#fdca26"
             ],
             [
              1,
              "#f0f921"
             ]
            ],
            "type": "histogram2d"
           }
          ],
          "histogram2dcontour": [
           {
            "colorbar": {
             "outlinewidth": 0,
             "ticks": ""
            },
            "colorscale": [
             [
              0,
              "#0d0887"
             ],
             [
              0.1111111111111111,
              "#46039f"
             ],
             [
              0.2222222222222222,
              "#7201a8"
             ],
             [
              0.3333333333333333,
              "#9c179e"
             ],
             [
              0.4444444444444444,
              "#bd3786"
             ],
             [
              0.5555555555555556,
              "#d8576b"
             ],
             [
              0.6666666666666666,
              "#ed7953"
             ],
             [
              0.7777777777777778,
              "#fb9f3a"
             ],
             [
              0.8888888888888888,
              "#fdca26"
             ],
             [
              1,
              "#f0f921"
             ]
            ],
            "type": "histogram2dcontour"
           }
          ],
          "mesh3d": [
           {
            "colorbar": {
             "outlinewidth": 0,
             "ticks": ""
            },
            "type": "mesh3d"
           }
          ],
          "parcoords": [
           {
            "line": {
             "colorbar": {
              "outlinewidth": 0,
              "ticks": ""
             }
            },
            "type": "parcoords"
           }
          ],
          "pie": [
           {
            "automargin": true,
            "type": "pie"
           }
          ],
          "scatter": [
           {
            "fillpattern": {
             "fillmode": "overlay",
             "size": 10,
             "solidity": 0.2
            },
            "type": "scatter"
           }
          ],
          "scatter3d": [
           {
            "line": {
             "colorbar": {
              "outlinewidth": 0,
              "ticks": ""
             }
            },
            "marker": {
             "colorbar": {
              "outlinewidth": 0,
              "ticks": ""
             }
            },
            "type": "scatter3d"
           }
          ],
          "scattercarpet": [
           {
            "marker": {
             "colorbar": {
              "outlinewidth": 0,
              "ticks": ""
             }
            },
            "type": "scattercarpet"
           }
          ],
          "scattergeo": [
           {
            "marker": {
             "colorbar": {
              "outlinewidth": 0,
              "ticks": ""
             }
            },
            "type": "scattergeo"
           }
          ],
          "scattergl": [
           {
            "marker": {
             "colorbar": {
              "outlinewidth": 0,
              "ticks": ""
             }
            },
            "type": "scattergl"
           }
          ],
          "scattermapbox": [
           {
            "marker": {
             "colorbar": {
              "outlinewidth": 0,
              "ticks": ""
             }
            },
            "type": "scattermapbox"
           }
          ],
          "scatterpolar": [
           {
            "marker": {
             "colorbar": {
              "outlinewidth": 0,
              "ticks": ""
             }
            },
            "type": "scatterpolar"
           }
          ],
          "scatterpolargl": [
           {
            "marker": {
             "colorbar": {
              "outlinewidth": 0,
              "ticks": ""
             }
            },
            "type": "scatterpolargl"
           }
          ],
          "scatterternary": [
           {
            "marker": {
             "colorbar": {
              "outlinewidth": 0,
              "ticks": ""
             }
            },
            "type": "scatterternary"
           }
          ],
          "surface": [
           {
            "colorbar": {
             "outlinewidth": 0,
             "ticks": ""
            },
            "colorscale": [
             [
              0,
              "#0d0887"
             ],
             [
              0.1111111111111111,
              "#46039f"
             ],
             [
              0.2222222222222222,
              "#7201a8"
             ],
             [
              0.3333333333333333,
              "#9c179e"
             ],
             [
              0.4444444444444444,
              "#bd3786"
             ],
             [
              0.5555555555555556,
              "#d8576b"
             ],
             [
              0.6666666666666666,
              "#ed7953"
             ],
             [
              0.7777777777777778,
              "#fb9f3a"
             ],
             [
              0.8888888888888888,
              "#fdca26"
             ],
             [
              1,
              "#f0f921"
             ]
            ],
            "type": "surface"
           }
          ],
          "table": [
           {
            "cells": {
             "fill": {
              "color": "#EBF0F8"
             },
             "line": {
              "color": "white"
             }
            },
            "header": {
             "fill": {
              "color": "#C8D4E3"
             },
             "line": {
              "color": "white"
             }
            },
            "type": "table"
           }
          ]
         },
         "layout": {
          "annotationdefaults": {
           "arrowcolor": "#2a3f5f",
           "arrowhead": 0,
           "arrowwidth": 1
          },
          "autotypenumbers": "strict",
          "coloraxis": {
           "colorbar": {
            "outlinewidth": 0,
            "ticks": ""
           }
          },
          "colorscale": {
           "diverging": [
            [
             0,
             "#8e0152"
            ],
            [
             0.1,
             "#c51b7d"
            ],
            [
             0.2,
             "#de77ae"
            ],
            [
             0.3,
             "#f1b6da"
            ],
            [
             0.4,
             "#fde0ef"
            ],
            [
             0.5,
             "#f7f7f7"
            ],
            [
             0.6,
             "#e6f5d0"
            ],
            [
             0.7,
             "#b8e186"
            ],
            [
             0.8,
             "#7fbc41"
            ],
            [
             0.9,
             "#4d9221"
            ],
            [
             1,
             "#276419"
            ]
           ],
           "sequential": [
            [
             0,
             "#0d0887"
            ],
            [
             0.1111111111111111,
             "#46039f"
            ],
            [
             0.2222222222222222,
             "#7201a8"
            ],
            [
             0.3333333333333333,
             "#9c179e"
            ],
            [
             0.4444444444444444,
             "#bd3786"
            ],
            [
             0.5555555555555556,
             "#d8576b"
            ],
            [
             0.6666666666666666,
             "#ed7953"
            ],
            [
             0.7777777777777778,
             "#fb9f3a"
            ],
            [
             0.8888888888888888,
             "#fdca26"
            ],
            [
             1,
             "#f0f921"
            ]
           ],
           "sequentialminus": [
            [
             0,
             "#0d0887"
            ],
            [
             0.1111111111111111,
             "#46039f"
            ],
            [
             0.2222222222222222,
             "#7201a8"
            ],
            [
             0.3333333333333333,
             "#9c179e"
            ],
            [
             0.4444444444444444,
             "#bd3786"
            ],
            [
             0.5555555555555556,
             "#d8576b"
            ],
            [
             0.6666666666666666,
             "#ed7953"
            ],
            [
             0.7777777777777778,
             "#fb9f3a"
            ],
            [
             0.8888888888888888,
             "#fdca26"
            ],
            [
             1,
             "#f0f921"
            ]
           ]
          },
          "colorway": [
           "#636efa",
           "#EF553B",
           "#00cc96",
           "#ab63fa",
           "#FFA15A",
           "#19d3f3",
           "#FF6692",
           "#B6E880",
           "#FF97FF",
           "#FECB52"
          ],
          "font": {
           "color": "#2a3f5f"
          },
          "geo": {
           "bgcolor": "white",
           "lakecolor": "white",
           "landcolor": "#E5ECF6",
           "showlakes": true,
           "showland": true,
           "subunitcolor": "white"
          },
          "hoverlabel": {
           "align": "left"
          },
          "hovermode": "closest",
          "mapbox": {
           "style": "light"
          },
          "paper_bgcolor": "white",
          "plot_bgcolor": "#E5ECF6",
          "polar": {
           "angularaxis": {
            "gridcolor": "white",
            "linecolor": "white",
            "ticks": ""
           },
           "bgcolor": "#E5ECF6",
           "radialaxis": {
            "gridcolor": "white",
            "linecolor": "white",
            "ticks": ""
           }
          },
          "scene": {
           "xaxis": {
            "backgroundcolor": "#E5ECF6",
            "gridcolor": "white",
            "gridwidth": 2,
            "linecolor": "white",
            "showbackground": true,
            "ticks": "",
            "zerolinecolor": "white"
           },
           "yaxis": {
            "backgroundcolor": "#E5ECF6",
            "gridcolor": "white",
            "gridwidth": 2,
            "linecolor": "white",
            "showbackground": true,
            "ticks": "",
            "zerolinecolor": "white"
           },
           "zaxis": {
            "backgroundcolor": "#E5ECF6",
            "gridcolor": "white",
            "gridwidth": 2,
            "linecolor": "white",
            "showbackground": true,
            "ticks": "",
            "zerolinecolor": "white"
           }
          },
          "shapedefaults": {
           "line": {
            "color": "#2a3f5f"
           }
          },
          "ternary": {
           "aaxis": {
            "gridcolor": "white",
            "linecolor": "white",
            "ticks": ""
           },
           "baxis": {
            "gridcolor": "white",
            "linecolor": "white",
            "ticks": ""
           },
           "bgcolor": "#E5ECF6",
           "caxis": {
            "gridcolor": "white",
            "linecolor": "white",
            "ticks": ""
           }
          },
          "title": {
           "x": 0.05
          },
          "xaxis": {
           "automargin": true,
           "gridcolor": "white",
           "linecolor": "white",
           "ticks": "",
           "title": {
            "standoff": 15
           },
           "zerolinecolor": "white",
           "zerolinewidth": 2
          },
          "yaxis": {
           "automargin": true,
           "gridcolor": "white",
           "linecolor": "white",
           "ticks": "",
           "title": {
            "standoff": 15
           },
           "zerolinecolor": "white",
           "zerolinewidth": 2
          }
         }
        },
        "violinmode": "overlay",
        "xaxis": {
         "anchor": "y",
         "domain": [
          0,
          1
         ],
         "tickangle": 0,
         "title": {
          "text": "tokens"
         }
        },
        "yaxis": {
         "anchor": "x",
         "categoryarray": [
          "gpt-4-1106-preview-v1.1",
          "gpt-4-1106-preview",
          "gpt-3.5-turbo-16k-0613",
          "gpt-4-0613"
         ],
         "categoryorder": "array",
         "domain": [
          0,
          1
         ],
         "title": {
          "text": "model"
         }
        }
       }
      }
     },
     "metadata": {},
     "output_type": "display_data"
    }
   ],
   "source": [
    "def plot_token_violins(dfs, table_names, token_cols):\n",
    "    for metric in token_cols:\n",
    "        metrics_df = table_metrics(\n",
    "            dfs,\n",
    "            table_names,\n",
    "            [metric],\n",
    "        )\n",
    "        tokens_df = metrics_df.rename(\n",
    "            columns={\"score\": \"tokens\", \"metric\": \"token_type\"}\n",
    "        )\n",
    "        fig = px.violin(\n",
    "            tokens_df,\n",
    "            x=\"tokens\",\n",
    "            y=\"model\",\n",
    "            color=\"model\",\n",
    "            box=True,  # draw box plot inside the violin\n",
    "            points=\"all\",  # can be 'outliers', or False\n",
    "            orientation=\"h\",\n",
    "        )\n",
    "\n",
    "        metric_name = tokens_df.iloc[0][\"token_type\"] + \" Tokens\"\n",
    "        # fig.update_layout(title_text=metric_name, title_x=0.5)\n",
    "        fig.update_xaxes(\n",
    "            tickangle=0\n",
    "        )  # update x-axis labels to vertical orientation\n",
    "        score_plot = wandb.Plotly(fig)\n",
    "        run.log({f\"{metric_name} Violinplot\": score_plot})\n",
    "        fig.show()\n",
    "\n",
    "\n",
    "token_columns = [\"prompt_tokens\", \"completion_tokens\", \"total_tokens\"]\n",
    "plot_token_violins(dfs, table_names, token_columns)"
   ]
  },
  {
   "cell_type": "code",
   "execution_count": 14,
   "metadata": {},
   "outputs": [],
   "source": [
    "def plot_context_metrics(dfs, table_names, metric_cols):\n",
    "    for metric in metric_cols:\n",
    "        metrics_df = table_metrics(\n",
    "            dfs,\n",
    "            table_names,\n",
    "            [metric],\n",
    "        )\n",
    "\n",
    "        fig = px.violin(\n",
    "            metrics_df,\n",
    "            x=\"score\",\n",
    "            y=\"model\",\n",
    "            color=\"model\",\n",
    "            box=True,  # draw box plot inside the violin\n",
    "            points=\"all\",  # can be 'outliers', or False\n",
    "            orientation=\"h\",\n",
    "        )\n",
    "        metric_name = metrics_df.iloc[0][\"metric\"]\n",
    "        # fig.update_layout(title_text=metric_name, title_x=0.5)\n",
    "        fig.update_xaxes(tickangle=0)\n",
    "        score_plot = wandb.Plotly(fig)\n",
    "        run.log({f\"{metric_name} Violinplot\": score_plot})\n",
    "        fig.show()"
   ]
  },
  {
   "cell_type": "code",
   "execution_count": 15,
   "metadata": {},
   "outputs": [
    {
     "data": {
      "application/vnd.plotly.v1+json": {
       "config": {
        "plotlyServerURL": "https://plot.ly"
       },
       "data": [
        {
         "alignmentgroup": "True",
         "box": {
          "visible": true
         },
         "hovertemplate": "model=%{y}<br>score=%{x}<extra></extra>",
         "legendgroup": "gpt-4-0613",
         "marker": {
          "color": "#636efa"
         },
         "name": "gpt-4-0613",
         "offsetgroup": "gpt-4-0613",
         "orientation": "h",
         "points": "all",
         "scalegroup": "True",
         "showlegend": true,
         "type": "violin",
         "x": [
          0.249999999975,
          0.699999999965,
          0,
          0,
          0.699999999965,
          0,
          0.7499999999625,
          0,
          0.416666666645833,
          0,
          0,
          0.9999999999666661,
          0.583333333304166,
          0.6388888888675921,
          0,
          0.866666666637777,
          0,
          0.9999999999,
          0,
          0.9999999999666661,
          0.866666666637777,
          0.9999999999666661,
          0.699999999965,
          0.9999999999499999,
          0.9999999999799999,
          0,
          0,
          0.33333333330000003,
          0.9999999999499999,
          0.583333333304166,
          0.7499999999625,
          0,
          0,
          0,
          0.9999999999499999,
          0.9999999999799999,
          0,
          0.9999999999,
          0.8055555555287031,
          0,
          0.9999999999499999,
          0.19999999997999998,
          0,
          0.499999999975,
          0.47777777776185104,
          0.9166666666361111,
          0.833333333291666,
          0,
          0,
          0,
          0.9999999999499999,
          0.9999999999799999,
          0.887499999977812,
          0,
          0.8055555555287031,
          0.4499999999775,
          0.416666666645833,
          0.9999999999,
          0,
          0.999999999975,
          0,
          0,
          0.999999999975,
          0,
          0.7499999999625,
          0.887499999977812,
          0,
          0.9999999999799999,
          0.94999999997625,
          0.36666666664833303,
          0.9999999999,
          0.9999999999,
          0,
          0.8055555555287031,
          0.49999999995,
          0.9999999999799999,
          0,
          0,
          0.9999999999666661,
          0.94999999997625,
          0,
          0,
          0,
          0,
          0.699999999965,
          0.7499999999625,
          0,
          0.49999999995,
          0.49999999995,
          0,
          0.9166666666361111,
          0.999999999975,
          0,
          0.9999999999,
          0.49999999995,
          0.9999999999799999,
          0.9999999999,
          0.9999999999799999
         ],
         "x0": " ",
         "xaxis": "x",
         "y": [
          "gpt-4-0613",
          "gpt-4-0613",
          "gpt-4-0613",
          "gpt-4-0613",
          "gpt-4-0613",
          "gpt-4-0613",
          "gpt-4-0613",
          "gpt-4-0613",
          "gpt-4-0613",
          "gpt-4-0613",
          "gpt-4-0613",
          "gpt-4-0613",
          "gpt-4-0613",
          "gpt-4-0613",
          "gpt-4-0613",
          "gpt-4-0613",
          "gpt-4-0613",
          "gpt-4-0613",
          "gpt-4-0613",
          "gpt-4-0613",
          "gpt-4-0613",
          "gpt-4-0613",
          "gpt-4-0613",
          "gpt-4-0613",
          "gpt-4-0613",
          "gpt-4-0613",
          "gpt-4-0613",
          "gpt-4-0613",
          "gpt-4-0613",
          "gpt-4-0613",
          "gpt-4-0613",
          "gpt-4-0613",
          "gpt-4-0613",
          "gpt-4-0613",
          "gpt-4-0613",
          "gpt-4-0613",
          "gpt-4-0613",
          "gpt-4-0613",
          "gpt-4-0613",
          "gpt-4-0613",
          "gpt-4-0613",
          "gpt-4-0613",
          "gpt-4-0613",
          "gpt-4-0613",
          "gpt-4-0613",
          "gpt-4-0613",
          "gpt-4-0613",
          "gpt-4-0613",
          "gpt-4-0613",
          "gpt-4-0613",
          "gpt-4-0613",
          "gpt-4-0613",
          "gpt-4-0613",
          "gpt-4-0613",
          "gpt-4-0613",
          "gpt-4-0613",
          "gpt-4-0613",
          "gpt-4-0613",
          "gpt-4-0613",
          "gpt-4-0613",
          "gpt-4-0613",
          "gpt-4-0613",
          "gpt-4-0613",
          "gpt-4-0613",
          "gpt-4-0613",
          "gpt-4-0613",
          "gpt-4-0613",
          "gpt-4-0613",
          "gpt-4-0613",
          "gpt-4-0613",
          "gpt-4-0613",
          "gpt-4-0613",
          "gpt-4-0613",
          "gpt-4-0613",
          "gpt-4-0613",
          "gpt-4-0613",
          "gpt-4-0613",
          "gpt-4-0613",
          "gpt-4-0613",
          "gpt-4-0613",
          "gpt-4-0613",
          "gpt-4-0613",
          "gpt-4-0613",
          "gpt-4-0613",
          "gpt-4-0613",
          "gpt-4-0613",
          "gpt-4-0613",
          "gpt-4-0613",
          "gpt-4-0613",
          "gpt-4-0613",
          "gpt-4-0613",
          "gpt-4-0613",
          "gpt-4-0613",
          "gpt-4-0613",
          "gpt-4-0613",
          "gpt-4-0613",
          "gpt-4-0613",
          "gpt-4-0613"
         ],
         "y0": " ",
         "yaxis": "y"
        },
        {
         "alignmentgroup": "True",
         "box": {
          "visible": true
         },
         "hovertemplate": "model=%{y}<br>score=%{x}<extra></extra>",
         "legendgroup": "gpt-3.5-turbo-16k-0613",
         "marker": {
          "color": "#EF553B"
         },
         "name": "gpt-3.5-turbo-16k-0613",
         "offsetgroup": "gpt-3.5-turbo-16k-0613",
         "orientation": "h",
         "points": "all",
         "scalegroup": "True",
         "showlegend": true,
         "type": "violin",
         "x": [
          0.249999999975,
          0.699999999965,
          0,
          0,
          0.699999999965,
          0,
          0.7499999999625,
          0,
          0.416666666645833,
          0.19999999997999998,
          0,
          0.9999999999666661,
          0.583333333304166,
          0.6388888888675921,
          0,
          0.866666666637777,
          0,
          0.9999999999,
          0,
          0.9999999999666661,
          0.866666666637777,
          0.9999999999666661,
          0.699999999965,
          0.9999999999499999,
          0.9999999999799999,
          0,
          0,
          0.33333333330000003,
          0.9999999999499999,
          0.583333333304166,
          0.7499999999625,
          0,
          0,
          0,
          0.9999999999499999,
          0.9999999999799999,
          0,
          0.9999999999,
          0.8055555555287031,
          0,
          0.9999999999499999,
          0.19999999997999998,
          0,
          0.499999999975,
          0.47777777776185104,
          0.9166666666361111,
          0.833333333291666,
          0,
          0,
          0.9999999999,
          0.9999999999499999,
          0.9999999999799999,
          0.533333333315555,
          0.9999999999,
          0.8055555555287031,
          0.4499999999775,
          0.416666666645833,
          0.9999999999,
          0,
          0.999999999975,
          0,
          0,
          0.9999999999799999,
          0,
          0.6999999999766661,
          0.887499999977812,
          0,
          0.9999999999799999,
          0.94999999997625,
          0.36666666664833303,
          0.9999999999,
          0.9999999999,
          0,
          0.8055555555287031,
          0.49999999995,
          0.9999999999799999,
          0,
          0,
          0.9999999999666661,
          0.94999999997625,
          0,
          0,
          0,
          0,
          0.699999999965,
          0.7499999999625,
          0,
          0.49999999995,
          0.49999999995,
          0,
          0.9166666666361111,
          0.999999999975,
          0,
          0.9999999999,
          0.49999999995,
          0.9999999999799999,
          0.9999999999,
          0.9999999999799999
         ],
         "x0": " ",
         "xaxis": "x",
         "y": [
          "gpt-3.5-turbo-16k-0613",
          "gpt-3.5-turbo-16k-0613",
          "gpt-3.5-turbo-16k-0613",
          "gpt-3.5-turbo-16k-0613",
          "gpt-3.5-turbo-16k-0613",
          "gpt-3.5-turbo-16k-0613",
          "gpt-3.5-turbo-16k-0613",
          "gpt-3.5-turbo-16k-0613",
          "gpt-3.5-turbo-16k-0613",
          "gpt-3.5-turbo-16k-0613",
          "gpt-3.5-turbo-16k-0613",
          "gpt-3.5-turbo-16k-0613",
          "gpt-3.5-turbo-16k-0613",
          "gpt-3.5-turbo-16k-0613",
          "gpt-3.5-turbo-16k-0613",
          "gpt-3.5-turbo-16k-0613",
          "gpt-3.5-turbo-16k-0613",
          "gpt-3.5-turbo-16k-0613",
          "gpt-3.5-turbo-16k-0613",
          "gpt-3.5-turbo-16k-0613",
          "gpt-3.5-turbo-16k-0613",
          "gpt-3.5-turbo-16k-0613",
          "gpt-3.5-turbo-16k-0613",
          "gpt-3.5-turbo-16k-0613",
          "gpt-3.5-turbo-16k-0613",
          "gpt-3.5-turbo-16k-0613",
          "gpt-3.5-turbo-16k-0613",
          "gpt-3.5-turbo-16k-0613",
          "gpt-3.5-turbo-16k-0613",
          "gpt-3.5-turbo-16k-0613",
          "gpt-3.5-turbo-16k-0613",
          "gpt-3.5-turbo-16k-0613",
          "gpt-3.5-turbo-16k-0613",
          "gpt-3.5-turbo-16k-0613",
          "gpt-3.5-turbo-16k-0613",
          "gpt-3.5-turbo-16k-0613",
          "gpt-3.5-turbo-16k-0613",
          "gpt-3.5-turbo-16k-0613",
          "gpt-3.5-turbo-16k-0613",
          "gpt-3.5-turbo-16k-0613",
          "gpt-3.5-turbo-16k-0613",
          "gpt-3.5-turbo-16k-0613",
          "gpt-3.5-turbo-16k-0613",
          "gpt-3.5-turbo-16k-0613",
          "gpt-3.5-turbo-16k-0613",
          "gpt-3.5-turbo-16k-0613",
          "gpt-3.5-turbo-16k-0613",
          "gpt-3.5-turbo-16k-0613",
          "gpt-3.5-turbo-16k-0613",
          "gpt-3.5-turbo-16k-0613",
          "gpt-3.5-turbo-16k-0613",
          "gpt-3.5-turbo-16k-0613",
          "gpt-3.5-turbo-16k-0613",
          "gpt-3.5-turbo-16k-0613",
          "gpt-3.5-turbo-16k-0613",
          "gpt-3.5-turbo-16k-0613",
          "gpt-3.5-turbo-16k-0613",
          "gpt-3.5-turbo-16k-0613",
          "gpt-3.5-turbo-16k-0613",
          "gpt-3.5-turbo-16k-0613",
          "gpt-3.5-turbo-16k-0613",
          "gpt-3.5-turbo-16k-0613",
          "gpt-3.5-turbo-16k-0613",
          "gpt-3.5-turbo-16k-0613",
          "gpt-3.5-turbo-16k-0613",
          "gpt-3.5-turbo-16k-0613",
          "gpt-3.5-turbo-16k-0613",
          "gpt-3.5-turbo-16k-0613",
          "gpt-3.5-turbo-16k-0613",
          "gpt-3.5-turbo-16k-0613",
          "gpt-3.5-turbo-16k-0613",
          "gpt-3.5-turbo-16k-0613",
          "gpt-3.5-turbo-16k-0613",
          "gpt-3.5-turbo-16k-0613",
          "gpt-3.5-turbo-16k-0613",
          "gpt-3.5-turbo-16k-0613",
          "gpt-3.5-turbo-16k-0613",
          "gpt-3.5-turbo-16k-0613",
          "gpt-3.5-turbo-16k-0613",
          "gpt-3.5-turbo-16k-0613",
          "gpt-3.5-turbo-16k-0613",
          "gpt-3.5-turbo-16k-0613",
          "gpt-3.5-turbo-16k-0613",
          "gpt-3.5-turbo-16k-0613",
          "gpt-3.5-turbo-16k-0613",
          "gpt-3.5-turbo-16k-0613",
          "gpt-3.5-turbo-16k-0613",
          "gpt-3.5-turbo-16k-0613",
          "gpt-3.5-turbo-16k-0613",
          "gpt-3.5-turbo-16k-0613",
          "gpt-3.5-turbo-16k-0613",
          "gpt-3.5-turbo-16k-0613",
          "gpt-3.5-turbo-16k-0613",
          "gpt-3.5-turbo-16k-0613",
          "gpt-3.5-turbo-16k-0613",
          "gpt-3.5-turbo-16k-0613",
          "gpt-3.5-turbo-16k-0613",
          "gpt-3.5-turbo-16k-0613"
         ],
         "y0": " ",
         "yaxis": "y"
        },
        {
         "alignmentgroup": "True",
         "box": {
          "visible": true
         },
         "hovertemplate": "model=%{y}<br>score=%{x}<extra></extra>",
         "legendgroup": "gpt-4-1106-preview",
         "marker": {
          "color": "#00cc96"
         },
         "name": "gpt-4-1106-preview",
         "offsetgroup": "gpt-4-1106-preview",
         "orientation": "h",
         "points": "all",
         "scalegroup": "True",
         "showlegend": true,
         "type": "violin",
         "x": [
          0.249999999975,
          0.699999999965,
          0,
          0,
          0.699999999965,
          0,
          0.7499999999625,
          0,
          0.416666666645833,
          0.19999999997999998,
          0,
          0.9999999999666661,
          0.583333333304166,
          0.6388888888675921,
          0,
          0.866666666637777,
          0,
          0.9999999999,
          0,
          0.9999999999666661,
          0.866666666637777,
          0.9999999999666661,
          0.699999999965,
          0.9999999999499999,
          0.9999999999799999,
          0,
          0,
          0.33333333330000003,
          0.9999999999499999,
          0.583333333304166,
          0.7499999999625,
          0,
          0,
          0,
          0.9999999999499999,
          0.9999999999799999,
          0,
          0.9999999999,
          0.8055555555287031,
          0,
          0.9999999999499999,
          0.19999999997999998,
          0,
          0.499999999975,
          0.47777777776185104,
          0.9166666666361111,
          0.833333333291666,
          0,
          0,
          0.9999999999,
          0.9999999999499999,
          0.9999999999799999,
          0.887499999977812,
          0,
          0.7499999999625,
          0.4499999999775,
          0.416666666645833,
          0.9999999999,
          0,
          0.999999999975,
          0,
          0,
          0.999999999975,
          0,
          0.6999999999766661,
          0.887499999977812,
          0,
          0.9999999999799999,
          0.94999999997625,
          0.36666666664833303,
          0.9999999999,
          0.9999999999,
          0,
          0.8055555555287031,
          0.49999999995,
          0.9999999999799999,
          0,
          0,
          0.9999999999666661,
          0.94999999997625,
          0,
          0,
          0,
          0,
          0.75555555553037,
          0.7499999999625,
          0,
          0.49999999995,
          0.49999999995,
          0,
          0.9166666666361111,
          0.999999999975,
          0,
          0.9999999999,
          0.49999999995,
          0.9999999999799999,
          0.9999999999,
          0.9999999999799999
         ],
         "x0": " ",
         "xaxis": "x",
         "y": [
          "gpt-4-1106-preview",
          "gpt-4-1106-preview",
          "gpt-4-1106-preview",
          "gpt-4-1106-preview",
          "gpt-4-1106-preview",
          "gpt-4-1106-preview",
          "gpt-4-1106-preview",
          "gpt-4-1106-preview",
          "gpt-4-1106-preview",
          "gpt-4-1106-preview",
          "gpt-4-1106-preview",
          "gpt-4-1106-preview",
          "gpt-4-1106-preview",
          "gpt-4-1106-preview",
          "gpt-4-1106-preview",
          "gpt-4-1106-preview",
          "gpt-4-1106-preview",
          "gpt-4-1106-preview",
          "gpt-4-1106-preview",
          "gpt-4-1106-preview",
          "gpt-4-1106-preview",
          "gpt-4-1106-preview",
          "gpt-4-1106-preview",
          "gpt-4-1106-preview",
          "gpt-4-1106-preview",
          "gpt-4-1106-preview",
          "gpt-4-1106-preview",
          "gpt-4-1106-preview",
          "gpt-4-1106-preview",
          "gpt-4-1106-preview",
          "gpt-4-1106-preview",
          "gpt-4-1106-preview",
          "gpt-4-1106-preview",
          "gpt-4-1106-preview",
          "gpt-4-1106-preview",
          "gpt-4-1106-preview",
          "gpt-4-1106-preview",
          "gpt-4-1106-preview",
          "gpt-4-1106-preview",
          "gpt-4-1106-preview",
          "gpt-4-1106-preview",
          "gpt-4-1106-preview",
          "gpt-4-1106-preview",
          "gpt-4-1106-preview",
          "gpt-4-1106-preview",
          "gpt-4-1106-preview",
          "gpt-4-1106-preview",
          "gpt-4-1106-preview",
          "gpt-4-1106-preview",
          "gpt-4-1106-preview",
          "gpt-4-1106-preview",
          "gpt-4-1106-preview",
          "gpt-4-1106-preview",
          "gpt-4-1106-preview",
          "gpt-4-1106-preview",
          "gpt-4-1106-preview",
          "gpt-4-1106-preview",
          "gpt-4-1106-preview",
          "gpt-4-1106-preview",
          "gpt-4-1106-preview",
          "gpt-4-1106-preview",
          "gpt-4-1106-preview",
          "gpt-4-1106-preview",
          "gpt-4-1106-preview",
          "gpt-4-1106-preview",
          "gpt-4-1106-preview",
          "gpt-4-1106-preview",
          "gpt-4-1106-preview",
          "gpt-4-1106-preview",
          "gpt-4-1106-preview",
          "gpt-4-1106-preview",
          "gpt-4-1106-preview",
          "gpt-4-1106-preview",
          "gpt-4-1106-preview",
          "gpt-4-1106-preview",
          "gpt-4-1106-preview",
          "gpt-4-1106-preview",
          "gpt-4-1106-preview",
          "gpt-4-1106-preview",
          "gpt-4-1106-preview",
          "gpt-4-1106-preview",
          "gpt-4-1106-preview",
          "gpt-4-1106-preview",
          "gpt-4-1106-preview",
          "gpt-4-1106-preview",
          "gpt-4-1106-preview",
          "gpt-4-1106-preview",
          "gpt-4-1106-preview",
          "gpt-4-1106-preview",
          "gpt-4-1106-preview",
          "gpt-4-1106-preview",
          "gpt-4-1106-preview",
          "gpt-4-1106-preview",
          "gpt-4-1106-preview",
          "gpt-4-1106-preview",
          "gpt-4-1106-preview",
          "gpt-4-1106-preview",
          "gpt-4-1106-preview"
         ],
         "y0": " ",
         "yaxis": "y"
        },
        {
         "alignmentgroup": "True",
         "box": {
          "visible": true
         },
         "hovertemplate": "model=%{y}<br>score=%{x}<extra></extra>",
         "legendgroup": "gpt-4-1106-preview-v1.1",
         "marker": {
          "color": "#ab63fa"
         },
         "name": "gpt-4-1106-preview-v1.1",
         "offsetgroup": "gpt-4-1106-preview-v1.1",
         "orientation": "h",
         "points": "all",
         "scalegroup": "True",
         "showlegend": true,
         "type": "violin",
         "x": [
          0,
          0.94999999997625,
          0.4499999999775,
          0,
          0.866666666637777,
          0,
          0,
          0,
          0.33333333330000003,
          0,
          0,
          0.9166666666361111,
          0,
          0,
          0,
          0.887499999977812,
          0,
          0.33333333330000003,
          0,
          0.9999999999499999,
          0.9999999999,
          0.583333333304166,
          0.19999999997999998,
          0.49999999995,
          0.9999999999799999,
          0,
          0,
          0,
          0.999999999975,
          0.583333333304166,
          0.6999999999766661,
          0,
          0,
          0,
          0.583333333304166,
          0.9999999999799999,
          0.9999999999,
          0.49999999995,
          0.9999999999,
          0,
          0.8055555555287031,
          0.833333333291666,
          0,
          0.9999999999,
          0.19999999997999998,
          0.49999999995,
          0.6388888888675921,
          0,
          0,
          0,
          0.583333333304166,
          0.999999999975,
          0.866666666637777,
          0,
          0.9166666666361111,
          0,
          0.33333333330000003,
          0.49999999995,
          0,
          0.9999999999499999,
          0,
          0,
          0.9999999999799999,
          0,
          0.866666666637777,
          0.8055555555287031,
          0,
          0.249999999975,
          0.75555555553037,
          0.19999999997999998,
          0.9999999999,
          0.33333333330000003,
          0,
          0.7499999999625,
          0.49999999995,
          0.7499999999625,
          0,
          0,
          0.94999999997625,
          0.7499999999625,
          0,
          0,
          0,
          0,
          0.9999999999,
          0,
          0.49999999995,
          0.49999999995,
          0.33333333330000003,
          0,
          0.9999999999666661,
          0.9999999999499999,
          0.49999999995,
          0,
          0.9999999999,
          0.6388888888675921,
          0.9999999999499999,
          0.8041666666465621
         ],
         "x0": " ",
         "xaxis": "x",
         "y": [
          "gpt-4-1106-preview-v1.1",
          "gpt-4-1106-preview-v1.1",
          "gpt-4-1106-preview-v1.1",
          "gpt-4-1106-preview-v1.1",
          "gpt-4-1106-preview-v1.1",
          "gpt-4-1106-preview-v1.1",
          "gpt-4-1106-preview-v1.1",
          "gpt-4-1106-preview-v1.1",
          "gpt-4-1106-preview-v1.1",
          "gpt-4-1106-preview-v1.1",
          "gpt-4-1106-preview-v1.1",
          "gpt-4-1106-preview-v1.1",
          "gpt-4-1106-preview-v1.1",
          "gpt-4-1106-preview-v1.1",
          "gpt-4-1106-preview-v1.1",
          "gpt-4-1106-preview-v1.1",
          "gpt-4-1106-preview-v1.1",
          "gpt-4-1106-preview-v1.1",
          "gpt-4-1106-preview-v1.1",
          "gpt-4-1106-preview-v1.1",
          "gpt-4-1106-preview-v1.1",
          "gpt-4-1106-preview-v1.1",
          "gpt-4-1106-preview-v1.1",
          "gpt-4-1106-preview-v1.1",
          "gpt-4-1106-preview-v1.1",
          "gpt-4-1106-preview-v1.1",
          "gpt-4-1106-preview-v1.1",
          "gpt-4-1106-preview-v1.1",
          "gpt-4-1106-preview-v1.1",
          "gpt-4-1106-preview-v1.1",
          "gpt-4-1106-preview-v1.1",
          "gpt-4-1106-preview-v1.1",
          "gpt-4-1106-preview-v1.1",
          "gpt-4-1106-preview-v1.1",
          "gpt-4-1106-preview-v1.1",
          "gpt-4-1106-preview-v1.1",
          "gpt-4-1106-preview-v1.1",
          "gpt-4-1106-preview-v1.1",
          "gpt-4-1106-preview-v1.1",
          "gpt-4-1106-preview-v1.1",
          "gpt-4-1106-preview-v1.1",
          "gpt-4-1106-preview-v1.1",
          "gpt-4-1106-preview-v1.1",
          "gpt-4-1106-preview-v1.1",
          "gpt-4-1106-preview-v1.1",
          "gpt-4-1106-preview-v1.1",
          "gpt-4-1106-preview-v1.1",
          "gpt-4-1106-preview-v1.1",
          "gpt-4-1106-preview-v1.1",
          "gpt-4-1106-preview-v1.1",
          "gpt-4-1106-preview-v1.1",
          "gpt-4-1106-preview-v1.1",
          "gpt-4-1106-preview-v1.1",
          "gpt-4-1106-preview-v1.1",
          "gpt-4-1106-preview-v1.1",
          "gpt-4-1106-preview-v1.1",
          "gpt-4-1106-preview-v1.1",
          "gpt-4-1106-preview-v1.1",
          "gpt-4-1106-preview-v1.1",
          "gpt-4-1106-preview-v1.1",
          "gpt-4-1106-preview-v1.1",
          "gpt-4-1106-preview-v1.1",
          "gpt-4-1106-preview-v1.1",
          "gpt-4-1106-preview-v1.1",
          "gpt-4-1106-preview-v1.1",
          "gpt-4-1106-preview-v1.1",
          "gpt-4-1106-preview-v1.1",
          "gpt-4-1106-preview-v1.1",
          "gpt-4-1106-preview-v1.1",
          "gpt-4-1106-preview-v1.1",
          "gpt-4-1106-preview-v1.1",
          "gpt-4-1106-preview-v1.1",
          "gpt-4-1106-preview-v1.1",
          "gpt-4-1106-preview-v1.1",
          "gpt-4-1106-preview-v1.1",
          "gpt-4-1106-preview-v1.1",
          "gpt-4-1106-preview-v1.1",
          "gpt-4-1106-preview-v1.1",
          "gpt-4-1106-preview-v1.1",
          "gpt-4-1106-preview-v1.1",
          "gpt-4-1106-preview-v1.1",
          "gpt-4-1106-preview-v1.1",
          "gpt-4-1106-preview-v1.1",
          "gpt-4-1106-preview-v1.1",
          "gpt-4-1106-preview-v1.1",
          "gpt-4-1106-preview-v1.1",
          "gpt-4-1106-preview-v1.1",
          "gpt-4-1106-preview-v1.1",
          "gpt-4-1106-preview-v1.1",
          "gpt-4-1106-preview-v1.1",
          "gpt-4-1106-preview-v1.1",
          "gpt-4-1106-preview-v1.1",
          "gpt-4-1106-preview-v1.1",
          "gpt-4-1106-preview-v1.1",
          "gpt-4-1106-preview-v1.1",
          "gpt-4-1106-preview-v1.1",
          "gpt-4-1106-preview-v1.1",
          "gpt-4-1106-preview-v1.1"
         ],
         "y0": " ",
         "yaxis": "y"
        }
       ],
       "layout": {
        "legend": {
         "title": {
          "text": "model"
         },
         "tracegroupgap": 0
        },
        "margin": {
         "t": 60
        },
        "template": {
         "data": {
          "bar": [
           {
            "error_x": {
             "color": "#2a3f5f"
            },
            "error_y": {
             "color": "#2a3f5f"
            },
            "marker": {
             "line": {
              "color": "#E5ECF6",
              "width": 0.5
             },
             "pattern": {
              "fillmode": "overlay",
              "size": 10,
              "solidity": 0.2
             }
            },
            "type": "bar"
           }
          ],
          "barpolar": [
           {
            "marker": {
             "line": {
              "color": "#E5ECF6",
              "width": 0.5
             },
             "pattern": {
              "fillmode": "overlay",
              "size": 10,
              "solidity": 0.2
             }
            },
            "type": "barpolar"
           }
          ],
          "carpet": [
           {
            "aaxis": {
             "endlinecolor": "#2a3f5f",
             "gridcolor": "white",
             "linecolor": "white",
             "minorgridcolor": "white",
             "startlinecolor": "#2a3f5f"
            },
            "baxis": {
             "endlinecolor": "#2a3f5f",
             "gridcolor": "white",
             "linecolor": "white",
             "minorgridcolor": "white",
             "startlinecolor": "#2a3f5f"
            },
            "type": "carpet"
           }
          ],
          "choropleth": [
           {
            "colorbar": {
             "outlinewidth": 0,
             "ticks": ""
            },
            "type": "choropleth"
           }
          ],
          "contour": [
           {
            "colorbar": {
             "outlinewidth": 0,
             "ticks": ""
            },
            "colorscale": [
             [
              0,
              "#0d0887"
             ],
             [
              0.1111111111111111,
              "#46039f"
             ],
             [
              0.2222222222222222,
              "#7201a8"
             ],
             [
              0.3333333333333333,
              "#9c179e"
             ],
             [
              0.4444444444444444,
              "#bd3786"
             ],
             [
              0.5555555555555556,
              "#d8576b"
             ],
             [
              0.6666666666666666,
              "#ed7953"
             ],
             [
              0.7777777777777778,
              "#fb9f3a"
             ],
             [
              0.8888888888888888,
              "#fdca26"
             ],
             [
              1,
              "#f0f921"
             ]
            ],
            "type": "contour"
           }
          ],
          "contourcarpet": [
           {
            "colorbar": {
             "outlinewidth": 0,
             "ticks": ""
            },
            "type": "contourcarpet"
           }
          ],
          "heatmap": [
           {
            "colorbar": {
             "outlinewidth": 0,
             "ticks": ""
            },
            "colorscale": [
             [
              0,
              "#0d0887"
             ],
             [
              0.1111111111111111,
              "#46039f"
             ],
             [
              0.2222222222222222,
              "#7201a8"
             ],
             [
              0.3333333333333333,
              "#9c179e"
             ],
             [
              0.4444444444444444,
              "#bd3786"
             ],
             [
              0.5555555555555556,
              "#d8576b"
             ],
             [
              0.6666666666666666,
              "#ed7953"
             ],
             [
              0.7777777777777778,
              "#fb9f3a"
             ],
             [
              0.8888888888888888,
              "#fdca26"
             ],
             [
              1,
              "#f0f921"
             ]
            ],
            "type": "heatmap"
           }
          ],
          "heatmapgl": [
           {
            "colorbar": {
             "outlinewidth": 0,
             "ticks": ""
            },
            "colorscale": [
             [
              0,
              "#0d0887"
             ],
             [
              0.1111111111111111,
              "#46039f"
             ],
             [
              0.2222222222222222,
              "#7201a8"
             ],
             [
              0.3333333333333333,
              "#9c179e"
             ],
             [
              0.4444444444444444,
              "#bd3786"
             ],
             [
              0.5555555555555556,
              "#d8576b"
             ],
             [
              0.6666666666666666,
              "#ed7953"
             ],
             [
              0.7777777777777778,
              "#fb9f3a"
             ],
             [
              0.8888888888888888,
              "#fdca26"
             ],
             [
              1,
              "#f0f921"
             ]
            ],
            "type": "heatmapgl"
           }
          ],
          "histogram": [
           {
            "marker": {
             "pattern": {
              "fillmode": "overlay",
              "size": 10,
              "solidity": 0.2
             }
            },
            "type": "histogram"
           }
          ],
          "histogram2d": [
           {
            "colorbar": {
             "outlinewidth": 0,
             "ticks": ""
            },
            "colorscale": [
             [
              0,
              "#0d0887"
             ],
             [
              0.1111111111111111,
              "#46039f"
             ],
             [
              0.2222222222222222,
              "#7201a8"
             ],
             [
              0.3333333333333333,
              "#9c179e"
             ],
             [
              0.4444444444444444,
              "#bd3786"
             ],
             [
              0.5555555555555556,
              "#d8576b"
             ],
             [
              0.6666666666666666,
              "#ed7953"
             ],
             [
              0.7777777777777778,
              "#fb9f3a"
             ],
             [
              0.8888888888888888,
              "#fdca26"
             ],
             [
              1,
              "#f0f921"
             ]
            ],
            "type": "histogram2d"
           }
          ],
          "histogram2dcontour": [
           {
            "colorbar": {
             "outlinewidth": 0,
             "ticks": ""
            },
            "colorscale": [
             [
              0,
              "#0d0887"
             ],
             [
              0.1111111111111111,
              "#46039f"
             ],
             [
              0.2222222222222222,
              "#7201a8"
             ],
             [
              0.3333333333333333,
              "#9c179e"
             ],
             [
              0.4444444444444444,
              "#bd3786"
             ],
             [
              0.5555555555555556,
              "#d8576b"
             ],
             [
              0.6666666666666666,
              "#ed7953"
             ],
             [
              0.7777777777777778,
              "#fb9f3a"
             ],
             [
              0.8888888888888888,
              "#fdca26"
             ],
             [
              1,
              "#f0f921"
             ]
            ],
            "type": "histogram2dcontour"
           }
          ],
          "mesh3d": [
           {
            "colorbar": {
             "outlinewidth": 0,
             "ticks": ""
            },
            "type": "mesh3d"
           }
          ],
          "parcoords": [
           {
            "line": {
             "colorbar": {
              "outlinewidth": 0,
              "ticks": ""
             }
            },
            "type": "parcoords"
           }
          ],
          "pie": [
           {
            "automargin": true,
            "type": "pie"
           }
          ],
          "scatter": [
           {
            "fillpattern": {
             "fillmode": "overlay",
             "size": 10,
             "solidity": 0.2
            },
            "type": "scatter"
           }
          ],
          "scatter3d": [
           {
            "line": {
             "colorbar": {
              "outlinewidth": 0,
              "ticks": ""
             }
            },
            "marker": {
             "colorbar": {
              "outlinewidth": 0,
              "ticks": ""
             }
            },
            "type": "scatter3d"
           }
          ],
          "scattercarpet": [
           {
            "marker": {
             "colorbar": {
              "outlinewidth": 0,
              "ticks": ""
             }
            },
            "type": "scattercarpet"
           }
          ],
          "scattergeo": [
           {
            "marker": {
             "colorbar": {
              "outlinewidth": 0,
              "ticks": ""
             }
            },
            "type": "scattergeo"
           }
          ],
          "scattergl": [
           {
            "marker": {
             "colorbar": {
              "outlinewidth": 0,
              "ticks": ""
             }
            },
            "type": "scattergl"
           }
          ],
          "scattermapbox": [
           {
            "marker": {
             "colorbar": {
              "outlinewidth": 0,
              "ticks": ""
             }
            },
            "type": "scattermapbox"
           }
          ],
          "scatterpolar": [
           {
            "marker": {
             "colorbar": {
              "outlinewidth": 0,
              "ticks": ""
             }
            },
            "type": "scatterpolar"
           }
          ],
          "scatterpolargl": [
           {
            "marker": {
             "colorbar": {
              "outlinewidth": 0,
              "ticks": ""
             }
            },
            "type": "scatterpolargl"
           }
          ],
          "scatterternary": [
           {
            "marker": {
             "colorbar": {
              "outlinewidth": 0,
              "ticks": ""
             }
            },
            "type": "scatterternary"
           }
          ],
          "surface": [
           {
            "colorbar": {
             "outlinewidth": 0,
             "ticks": ""
            },
            "colorscale": [
             [
              0,
              "#0d0887"
             ],
             [
              0.1111111111111111,
              "#46039f"
             ],
             [
              0.2222222222222222,
              "#7201a8"
             ],
             [
              0.3333333333333333,
              "#9c179e"
             ],
             [
              0.4444444444444444,
              "#bd3786"
             ],
             [
              0.5555555555555556,
              "#d8576b"
             ],
             [
              0.6666666666666666,
              "#ed7953"
             ],
             [
              0.7777777777777778,
              "#fb9f3a"
             ],
             [
              0.8888888888888888,
              "#fdca26"
             ],
             [
              1,
              "#f0f921"
             ]
            ],
            "type": "surface"
           }
          ],
          "table": [
           {
            "cells": {
             "fill": {
              "color": "#EBF0F8"
             },
             "line": {
              "color": "white"
             }
            },
            "header": {
             "fill": {
              "color": "#C8D4E3"
             },
             "line": {
              "color": "white"
             }
            },
            "type": "table"
           }
          ]
         },
         "layout": {
          "annotationdefaults": {
           "arrowcolor": "#2a3f5f",
           "arrowhead": 0,
           "arrowwidth": 1
          },
          "autotypenumbers": "strict",
          "coloraxis": {
           "colorbar": {
            "outlinewidth": 0,
            "ticks": ""
           }
          },
          "colorscale": {
           "diverging": [
            [
             0,
             "#8e0152"
            ],
            [
             0.1,
             "#c51b7d"
            ],
            [
             0.2,
             "#de77ae"
            ],
            [
             0.3,
             "#f1b6da"
            ],
            [
             0.4,
             "#fde0ef"
            ],
            [
             0.5,
             "#f7f7f7"
            ],
            [
             0.6,
             "#e6f5d0"
            ],
            [
             0.7,
             "#b8e186"
            ],
            [
             0.8,
             "#7fbc41"
            ],
            [
             0.9,
             "#4d9221"
            ],
            [
             1,
             "#276419"
            ]
           ],
           "sequential": [
            [
             0,
             "#0d0887"
            ],
            [
             0.1111111111111111,
             "#46039f"
            ],
            [
             0.2222222222222222,
             "#7201a8"
            ],
            [
             0.3333333333333333,
             "#9c179e"
            ],
            [
             0.4444444444444444,
             "#bd3786"
            ],
            [
             0.5555555555555556,
             "#d8576b"
            ],
            [
             0.6666666666666666,
             "#ed7953"
            ],
            [
             0.7777777777777778,
             "#fb9f3a"
            ],
            [
             0.8888888888888888,
             "#fdca26"
            ],
            [
             1,
             "#f0f921"
            ]
           ],
           "sequentialminus": [
            [
             0,
             "#0d0887"
            ],
            [
             0.1111111111111111,
             "#46039f"
            ],
            [
             0.2222222222222222,
             "#7201a8"
            ],
            [
             0.3333333333333333,
             "#9c179e"
            ],
            [
             0.4444444444444444,
             "#bd3786"
            ],
            [
             0.5555555555555556,
             "#d8576b"
            ],
            [
             0.6666666666666666,
             "#ed7953"
            ],
            [
             0.7777777777777778,
             "#fb9f3a"
            ],
            [
             0.8888888888888888,
             "#fdca26"
            ],
            [
             1,
             "#f0f921"
            ]
           ]
          },
          "colorway": [
           "#636efa",
           "#EF553B",
           "#00cc96",
           "#ab63fa",
           "#FFA15A",
           "#19d3f3",
           "#FF6692",
           "#B6E880",
           "#FF97FF",
           "#FECB52"
          ],
          "font": {
           "color": "#2a3f5f"
          },
          "geo": {
           "bgcolor": "white",
           "lakecolor": "white",
           "landcolor": "#E5ECF6",
           "showlakes": true,
           "showland": true,
           "subunitcolor": "white"
          },
          "hoverlabel": {
           "align": "left"
          },
          "hovermode": "closest",
          "mapbox": {
           "style": "light"
          },
          "paper_bgcolor": "white",
          "plot_bgcolor": "#E5ECF6",
          "polar": {
           "angularaxis": {
            "gridcolor": "white",
            "linecolor": "white",
            "ticks": ""
           },
           "bgcolor": "#E5ECF6",
           "radialaxis": {
            "gridcolor": "white",
            "linecolor": "white",
            "ticks": ""
           }
          },
          "scene": {
           "xaxis": {
            "backgroundcolor": "#E5ECF6",
            "gridcolor": "white",
            "gridwidth": 2,
            "linecolor": "white",
            "showbackground": true,
            "ticks": "",
            "zerolinecolor": "white"
           },
           "yaxis": {
            "backgroundcolor": "#E5ECF6",
            "gridcolor": "white",
            "gridwidth": 2,
            "linecolor": "white",
            "showbackground": true,
            "ticks": "",
            "zerolinecolor": "white"
           },
           "zaxis": {
            "backgroundcolor": "#E5ECF6",
            "gridcolor": "white",
            "gridwidth": 2,
            "linecolor": "white",
            "showbackground": true,
            "ticks": "",
            "zerolinecolor": "white"
           }
          },
          "shapedefaults": {
           "line": {
            "color": "#2a3f5f"
           }
          },
          "ternary": {
           "aaxis": {
            "gridcolor": "white",
            "linecolor": "white",
            "ticks": ""
           },
           "baxis": {
            "gridcolor": "white",
            "linecolor": "white",
            "ticks": ""
           },
           "bgcolor": "#E5ECF6",
           "caxis": {
            "gridcolor": "white",
            "linecolor": "white",
            "ticks": ""
           }
          },
          "title": {
           "x": 0.05
          },
          "xaxis": {
           "automargin": true,
           "gridcolor": "white",
           "linecolor": "white",
           "ticks": "",
           "title": {
            "standoff": 15
           },
           "zerolinecolor": "white",
           "zerolinewidth": 2
          },
          "yaxis": {
           "automargin": true,
           "gridcolor": "white",
           "linecolor": "white",
           "ticks": "",
           "title": {
            "standoff": 15
           },
           "zerolinecolor": "white",
           "zerolinewidth": 2
          }
         }
        },
        "violinmode": "overlay",
        "xaxis": {
         "anchor": "y",
         "domain": [
          0,
          1
         ],
         "tickangle": 0,
         "title": {
          "text": "score"
         }
        },
        "yaxis": {
         "anchor": "x",
         "categoryarray": [
          "gpt-4-1106-preview-v1.1",
          "gpt-4-1106-preview",
          "gpt-3.5-turbo-16k-0613",
          "gpt-4-0613"
         ],
         "categoryorder": "array",
         "domain": [
          0,
          1
         ],
         "title": {
          "text": "model"
         }
        }
       }
      }
     },
     "metadata": {},
     "output_type": "display_data"
    },
    {
     "data": {
      "application/vnd.plotly.v1+json": {
       "config": {
        "plotlyServerURL": "https://plot.ly"
       },
       "data": [
        {
         "alignmentgroup": "True",
         "box": {
          "visible": true
         },
         "hovertemplate": "model=%{y}<br>score=%{x}<extra></extra>",
         "legendgroup": "gpt-4-0613",
         "marker": {
          "color": "#636efa"
         },
         "name": "gpt-4-0613",
         "offsetgroup": "gpt-4-0613",
         "orientation": "h",
         "points": "all",
         "scalegroup": "True",
         "showlegend": true,
         "type": "violin",
         "x": [
          1,
          0.625,
          1,
          1,
          0.75,
          1,
          1,
          1,
          1,
          0.9375,
          0.625,
          0.2,
          1,
          1,
          0,
          1,
          1,
          0,
          1,
          0.11111111111111101,
          1,
          1,
          1,
          1,
          1,
          1,
          0.18181818181818102,
          1,
          1,
          1,
          1,
          1,
          0.4,
          0,
          1,
          1,
          1,
          1,
          0.08333333333333301,
          0,
          1,
          1,
          1,
          1,
          1,
          0.6000000000000001,
          1,
          1,
          0,
          0,
          1,
          1,
          0,
          1,
          0.5,
          1,
          1,
          1,
          0.2,
          1,
          1,
          0,
          0.33333333333333304,
          1,
          0.8571428571428571,
          1,
          1,
          0.25,
          1,
          1,
          1,
          1,
          1,
          1,
          1,
          1,
          0,
          0,
          1,
          1,
          1,
          1,
          1,
          1,
          1,
          0,
          1,
          0.833333333333333,
          1,
          0,
          1,
          1,
          0.9,
          0,
          1,
          1,
          1,
          1
         ],
         "x0": " ",
         "xaxis": "x",
         "y": [
          "gpt-4-0613",
          "gpt-4-0613",
          "gpt-4-0613",
          "gpt-4-0613",
          "gpt-4-0613",
          "gpt-4-0613",
          "gpt-4-0613",
          "gpt-4-0613",
          "gpt-4-0613",
          "gpt-4-0613",
          "gpt-4-0613",
          "gpt-4-0613",
          "gpt-4-0613",
          "gpt-4-0613",
          "gpt-4-0613",
          "gpt-4-0613",
          "gpt-4-0613",
          "gpt-4-0613",
          "gpt-4-0613",
          "gpt-4-0613",
          "gpt-4-0613",
          "gpt-4-0613",
          "gpt-4-0613",
          "gpt-4-0613",
          "gpt-4-0613",
          "gpt-4-0613",
          "gpt-4-0613",
          "gpt-4-0613",
          "gpt-4-0613",
          "gpt-4-0613",
          "gpt-4-0613",
          "gpt-4-0613",
          "gpt-4-0613",
          "gpt-4-0613",
          "gpt-4-0613",
          "gpt-4-0613",
          "gpt-4-0613",
          "gpt-4-0613",
          "gpt-4-0613",
          "gpt-4-0613",
          "gpt-4-0613",
          "gpt-4-0613",
          "gpt-4-0613",
          "gpt-4-0613",
          "gpt-4-0613",
          "gpt-4-0613",
          "gpt-4-0613",
          "gpt-4-0613",
          "gpt-4-0613",
          "gpt-4-0613",
          "gpt-4-0613",
          "gpt-4-0613",
          "gpt-4-0613",
          "gpt-4-0613",
          "gpt-4-0613",
          "gpt-4-0613",
          "gpt-4-0613",
          "gpt-4-0613",
          "gpt-4-0613",
          "gpt-4-0613",
          "gpt-4-0613",
          "gpt-4-0613",
          "gpt-4-0613",
          "gpt-4-0613",
          "gpt-4-0613",
          "gpt-4-0613",
          "gpt-4-0613",
          "gpt-4-0613",
          "gpt-4-0613",
          "gpt-4-0613",
          "gpt-4-0613",
          "gpt-4-0613",
          "gpt-4-0613",
          "gpt-4-0613",
          "gpt-4-0613",
          "gpt-4-0613",
          "gpt-4-0613",
          "gpt-4-0613",
          "gpt-4-0613",
          "gpt-4-0613",
          "gpt-4-0613",
          "gpt-4-0613",
          "gpt-4-0613",
          "gpt-4-0613",
          "gpt-4-0613",
          "gpt-4-0613",
          "gpt-4-0613",
          "gpt-4-0613",
          "gpt-4-0613",
          "gpt-4-0613",
          "gpt-4-0613",
          "gpt-4-0613",
          "gpt-4-0613",
          "gpt-4-0613",
          "gpt-4-0613",
          "gpt-4-0613",
          "gpt-4-0613",
          "gpt-4-0613"
         ],
         "y0": " ",
         "yaxis": "y"
        },
        {
         "alignmentgroup": "True",
         "box": {
          "visible": true
         },
         "hovertemplate": "model=%{y}<br>score=%{x}<extra></extra>",
         "legendgroup": "gpt-3.5-turbo-16k-0613",
         "marker": {
          "color": "#EF553B"
         },
         "name": "gpt-3.5-turbo-16k-0613",
         "offsetgroup": "gpt-3.5-turbo-16k-0613",
         "orientation": "h",
         "points": "all",
         "scalegroup": "True",
         "showlegend": true,
         "type": "violin",
         "x": [
          1,
          1,
          1,
          1,
          0.75,
          1,
          1,
          1,
          1,
          0.9375,
          0.625,
          0.2,
          1,
          1,
          1,
          1,
          1,
          0,
          1,
          0.11111111111111101,
          1,
          1,
          1,
          1,
          1,
          1,
          0.18181818181818102,
          1,
          1,
          1,
          1,
          1,
          0.28571428571428503,
          0,
          1,
          1,
          0.923076923076923,
          1,
          0.08333333333333301,
          0,
          1,
          1,
          1,
          1,
          1,
          0.33333333333333304,
          1,
          1,
          0,
          0,
          0.833333333333333,
          1,
          0,
          1,
          0.5,
          1,
          1,
          1,
          0.2,
          1,
          1,
          0,
          0.33333333333333304,
          1,
          0.8571428571428571,
          1,
          1,
          0.25,
          1,
          1,
          1,
          1,
          1,
          0.9090909090909091,
          1,
          1,
          0.461538461538461,
          0,
          1,
          1,
          1,
          1,
          1,
          1,
          1,
          0,
          1,
          0.833333333333333,
          1,
          0,
          1,
          1,
          0.9,
          0,
          1,
          1,
          1,
          1
         ],
         "x0": " ",
         "xaxis": "x",
         "y": [
          "gpt-3.5-turbo-16k-0613",
          "gpt-3.5-turbo-16k-0613",
          "gpt-3.5-turbo-16k-0613",
          "gpt-3.5-turbo-16k-0613",
          "gpt-3.5-turbo-16k-0613",
          "gpt-3.5-turbo-16k-0613",
          "gpt-3.5-turbo-16k-0613",
          "gpt-3.5-turbo-16k-0613",
          "gpt-3.5-turbo-16k-0613",
          "gpt-3.5-turbo-16k-0613",
          "gpt-3.5-turbo-16k-0613",
          "gpt-3.5-turbo-16k-0613",
          "gpt-3.5-turbo-16k-0613",
          "gpt-3.5-turbo-16k-0613",
          "gpt-3.5-turbo-16k-0613",
          "gpt-3.5-turbo-16k-0613",
          "gpt-3.5-turbo-16k-0613",
          "gpt-3.5-turbo-16k-0613",
          "gpt-3.5-turbo-16k-0613",
          "gpt-3.5-turbo-16k-0613",
          "gpt-3.5-turbo-16k-0613",
          "gpt-3.5-turbo-16k-0613",
          "gpt-3.5-turbo-16k-0613",
          "gpt-3.5-turbo-16k-0613",
          "gpt-3.5-turbo-16k-0613",
          "gpt-3.5-turbo-16k-0613",
          "gpt-3.5-turbo-16k-0613",
          "gpt-3.5-turbo-16k-0613",
          "gpt-3.5-turbo-16k-0613",
          "gpt-3.5-turbo-16k-0613",
          "gpt-3.5-turbo-16k-0613",
          "gpt-3.5-turbo-16k-0613",
          "gpt-3.5-turbo-16k-0613",
          "gpt-3.5-turbo-16k-0613",
          "gpt-3.5-turbo-16k-0613",
          "gpt-3.5-turbo-16k-0613",
          "gpt-3.5-turbo-16k-0613",
          "gpt-3.5-turbo-16k-0613",
          "gpt-3.5-turbo-16k-0613",
          "gpt-3.5-turbo-16k-0613",
          "gpt-3.5-turbo-16k-0613",
          "gpt-3.5-turbo-16k-0613",
          "gpt-3.5-turbo-16k-0613",
          "gpt-3.5-turbo-16k-0613",
          "gpt-3.5-turbo-16k-0613",
          "gpt-3.5-turbo-16k-0613",
          "gpt-3.5-turbo-16k-0613",
          "gpt-3.5-turbo-16k-0613",
          "gpt-3.5-turbo-16k-0613",
          "gpt-3.5-turbo-16k-0613",
          "gpt-3.5-turbo-16k-0613",
          "gpt-3.5-turbo-16k-0613",
          "gpt-3.5-turbo-16k-0613",
          "gpt-3.5-turbo-16k-0613",
          "gpt-3.5-turbo-16k-0613",
          "gpt-3.5-turbo-16k-0613",
          "gpt-3.5-turbo-16k-0613",
          "gpt-3.5-turbo-16k-0613",
          "gpt-3.5-turbo-16k-0613",
          "gpt-3.5-turbo-16k-0613",
          "gpt-3.5-turbo-16k-0613",
          "gpt-3.5-turbo-16k-0613",
          "gpt-3.5-turbo-16k-0613",
          "gpt-3.5-turbo-16k-0613",
          "gpt-3.5-turbo-16k-0613",
          "gpt-3.5-turbo-16k-0613",
          "gpt-3.5-turbo-16k-0613",
          "gpt-3.5-turbo-16k-0613",
          "gpt-3.5-turbo-16k-0613",
          "gpt-3.5-turbo-16k-0613",
          "gpt-3.5-turbo-16k-0613",
          "gpt-3.5-turbo-16k-0613",
          "gpt-3.5-turbo-16k-0613",
          "gpt-3.5-turbo-16k-0613",
          "gpt-3.5-turbo-16k-0613",
          "gpt-3.5-turbo-16k-0613",
          "gpt-3.5-turbo-16k-0613",
          "gpt-3.5-turbo-16k-0613",
          "gpt-3.5-turbo-16k-0613",
          "gpt-3.5-turbo-16k-0613",
          "gpt-3.5-turbo-16k-0613",
          "gpt-3.5-turbo-16k-0613",
          "gpt-3.5-turbo-16k-0613",
          "gpt-3.5-turbo-16k-0613",
          "gpt-3.5-turbo-16k-0613",
          "gpt-3.5-turbo-16k-0613",
          "gpt-3.5-turbo-16k-0613",
          "gpt-3.5-turbo-16k-0613",
          "gpt-3.5-turbo-16k-0613",
          "gpt-3.5-turbo-16k-0613",
          "gpt-3.5-turbo-16k-0613",
          "gpt-3.5-turbo-16k-0613",
          "gpt-3.5-turbo-16k-0613",
          "gpt-3.5-turbo-16k-0613",
          "gpt-3.5-turbo-16k-0613",
          "gpt-3.5-turbo-16k-0613",
          "gpt-3.5-turbo-16k-0613",
          "gpt-3.5-turbo-16k-0613"
         ],
         "y0": " ",
         "yaxis": "y"
        },
        {
         "alignmentgroup": "True",
         "box": {
          "visible": true
         },
         "hovertemplate": "model=%{y}<br>score=%{x}<extra></extra>",
         "legendgroup": "gpt-4-1106-preview",
         "marker": {
          "color": "#00cc96"
         },
         "name": "gpt-4-1106-preview",
         "offsetgroup": "gpt-4-1106-preview",
         "orientation": "h",
         "points": "all",
         "scalegroup": "True",
         "showlegend": true,
         "type": "violin",
         "x": [
          1,
          1,
          1,
          1,
          0.75,
          1,
          1,
          1,
          1,
          0.9375,
          0.625,
          0.2,
          1,
          1,
          0,
          1,
          1,
          0,
          1,
          0.11111111111111101,
          1,
          1,
          1,
          1,
          1,
          1,
          0.18181818181818102,
          1,
          1,
          1,
          1,
          1,
          0.4,
          0,
          1,
          1,
          1,
          1,
          0.08333333333333301,
          0,
          1,
          1,
          1,
          1,
          1,
          0.6000000000000001,
          1,
          1,
          0,
          0,
          0.833333333333333,
          1,
          0,
          1,
          0.5,
          1,
          1,
          1,
          0.2,
          1,
          1,
          0,
          0.33333333333333304,
          1,
          0.8571428571428571,
          1,
          1,
          0.25,
          1,
          1,
          1,
          1,
          1,
          0.9090909090909091,
          1,
          1,
          0.461538461538461,
          0,
          1,
          1,
          1,
          1,
          1,
          1,
          1,
          0.5,
          1,
          0.75,
          1,
          0,
          1,
          1,
          0.9,
          0,
          1,
          1,
          1,
          1
         ],
         "x0": " ",
         "xaxis": "x",
         "y": [
          "gpt-4-1106-preview",
          "gpt-4-1106-preview",
          "gpt-4-1106-preview",
          "gpt-4-1106-preview",
          "gpt-4-1106-preview",
          "gpt-4-1106-preview",
          "gpt-4-1106-preview",
          "gpt-4-1106-preview",
          "gpt-4-1106-preview",
          "gpt-4-1106-preview",
          "gpt-4-1106-preview",
          "gpt-4-1106-preview",
          "gpt-4-1106-preview",
          "gpt-4-1106-preview",
          "gpt-4-1106-preview",
          "gpt-4-1106-preview",
          "gpt-4-1106-preview",
          "gpt-4-1106-preview",
          "gpt-4-1106-preview",
          "gpt-4-1106-preview",
          "gpt-4-1106-preview",
          "gpt-4-1106-preview",
          "gpt-4-1106-preview",
          "gpt-4-1106-preview",
          "gpt-4-1106-preview",
          "gpt-4-1106-preview",
          "gpt-4-1106-preview",
          "gpt-4-1106-preview",
          "gpt-4-1106-preview",
          "gpt-4-1106-preview",
          "gpt-4-1106-preview",
          "gpt-4-1106-preview",
          "gpt-4-1106-preview",
          "gpt-4-1106-preview",
          "gpt-4-1106-preview",
          "gpt-4-1106-preview",
          "gpt-4-1106-preview",
          "gpt-4-1106-preview",
          "gpt-4-1106-preview",
          "gpt-4-1106-preview",
          "gpt-4-1106-preview",
          "gpt-4-1106-preview",
          "gpt-4-1106-preview",
          "gpt-4-1106-preview",
          "gpt-4-1106-preview",
          "gpt-4-1106-preview",
          "gpt-4-1106-preview",
          "gpt-4-1106-preview",
          "gpt-4-1106-preview",
          "gpt-4-1106-preview",
          "gpt-4-1106-preview",
          "gpt-4-1106-preview",
          "gpt-4-1106-preview",
          "gpt-4-1106-preview",
          "gpt-4-1106-preview",
          "gpt-4-1106-preview",
          "gpt-4-1106-preview",
          "gpt-4-1106-preview",
          "gpt-4-1106-preview",
          "gpt-4-1106-preview",
          "gpt-4-1106-preview",
          "gpt-4-1106-preview",
          "gpt-4-1106-preview",
          "gpt-4-1106-preview",
          "gpt-4-1106-preview",
          "gpt-4-1106-preview",
          "gpt-4-1106-preview",
          "gpt-4-1106-preview",
          "gpt-4-1106-preview",
          "gpt-4-1106-preview",
          "gpt-4-1106-preview",
          "gpt-4-1106-preview",
          "gpt-4-1106-preview",
          "gpt-4-1106-preview",
          "gpt-4-1106-preview",
          "gpt-4-1106-preview",
          "gpt-4-1106-preview",
          "gpt-4-1106-preview",
          "gpt-4-1106-preview",
          "gpt-4-1106-preview",
          "gpt-4-1106-preview",
          "gpt-4-1106-preview",
          "gpt-4-1106-preview",
          "gpt-4-1106-preview",
          "gpt-4-1106-preview",
          "gpt-4-1106-preview",
          "gpt-4-1106-preview",
          "gpt-4-1106-preview",
          "gpt-4-1106-preview",
          "gpt-4-1106-preview",
          "gpt-4-1106-preview",
          "gpt-4-1106-preview",
          "gpt-4-1106-preview",
          "gpt-4-1106-preview",
          "gpt-4-1106-preview",
          "gpt-4-1106-preview",
          "gpt-4-1106-preview",
          "gpt-4-1106-preview"
         ],
         "y0": " ",
         "yaxis": "y"
        },
        {
         "alignmentgroup": "True",
         "box": {
          "visible": true
         },
         "hovertemplate": "model=%{y}<br>score=%{x}<extra></extra>",
         "legendgroup": "gpt-4-1106-preview-v1.1",
         "marker": {
          "color": "#ab63fa"
         },
         "name": "gpt-4-1106-preview-v1.1",
         "offsetgroup": "gpt-4-1106-preview-v1.1",
         "orientation": "h",
         "points": "all",
         "scalegroup": "True",
         "showlegend": true,
         "type": "violin",
         "x": [
          1,
          0.625,
          0.777777777777777,
          1,
          1,
          1,
          1,
          1,
          1,
          1,
          0.625,
          0.125,
          0.9166666666666661,
          1,
          1,
          1,
          1,
          1,
          1,
          1,
          0.2,
          1,
          1,
          1,
          1,
          1,
          1,
          1,
          1,
          1,
          1,
          1,
          0.5714285714285711,
          1,
          0.4,
          1,
          1,
          1,
          1,
          0,
          1,
          1,
          1,
          0,
          1,
          0.833333333333333,
          1,
          1,
          1,
          1,
          1,
          1,
          1,
          1,
          1,
          1,
          1,
          1,
          1,
          1,
          1,
          0,
          0.6666666666666661,
          1,
          1,
          1,
          1,
          0.875,
          0.9090909090909091,
          1,
          1,
          1,
          1,
          0.5,
          1,
          1,
          0,
          1,
          1,
          1,
          1,
          1,
          1,
          1,
          1,
          0,
          1,
          1,
          1,
          0,
          1,
          1,
          0,
          0,
          1,
          1,
          1,
          1
         ],
         "x0": " ",
         "xaxis": "x",
         "y": [
          "gpt-4-1106-preview-v1.1",
          "gpt-4-1106-preview-v1.1",
          "gpt-4-1106-preview-v1.1",
          "gpt-4-1106-preview-v1.1",
          "gpt-4-1106-preview-v1.1",
          "gpt-4-1106-preview-v1.1",
          "gpt-4-1106-preview-v1.1",
          "gpt-4-1106-preview-v1.1",
          "gpt-4-1106-preview-v1.1",
          "gpt-4-1106-preview-v1.1",
          "gpt-4-1106-preview-v1.1",
          "gpt-4-1106-preview-v1.1",
          "gpt-4-1106-preview-v1.1",
          "gpt-4-1106-preview-v1.1",
          "gpt-4-1106-preview-v1.1",
          "gpt-4-1106-preview-v1.1",
          "gpt-4-1106-preview-v1.1",
          "gpt-4-1106-preview-v1.1",
          "gpt-4-1106-preview-v1.1",
          "gpt-4-1106-preview-v1.1",
          "gpt-4-1106-preview-v1.1",
          "gpt-4-1106-preview-v1.1",
          "gpt-4-1106-preview-v1.1",
          "gpt-4-1106-preview-v1.1",
          "gpt-4-1106-preview-v1.1",
          "gpt-4-1106-preview-v1.1",
          "gpt-4-1106-preview-v1.1",
          "gpt-4-1106-preview-v1.1",
          "gpt-4-1106-preview-v1.1",
          "gpt-4-1106-preview-v1.1",
          "gpt-4-1106-preview-v1.1",
          "gpt-4-1106-preview-v1.1",
          "gpt-4-1106-preview-v1.1",
          "gpt-4-1106-preview-v1.1",
          "gpt-4-1106-preview-v1.1",
          "gpt-4-1106-preview-v1.1",
          "gpt-4-1106-preview-v1.1",
          "gpt-4-1106-preview-v1.1",
          "gpt-4-1106-preview-v1.1",
          "gpt-4-1106-preview-v1.1",
          "gpt-4-1106-preview-v1.1",
          "gpt-4-1106-preview-v1.1",
          "gpt-4-1106-preview-v1.1",
          "gpt-4-1106-preview-v1.1",
          "gpt-4-1106-preview-v1.1",
          "gpt-4-1106-preview-v1.1",
          "gpt-4-1106-preview-v1.1",
          "gpt-4-1106-preview-v1.1",
          "gpt-4-1106-preview-v1.1",
          "gpt-4-1106-preview-v1.1",
          "gpt-4-1106-preview-v1.1",
          "gpt-4-1106-preview-v1.1",
          "gpt-4-1106-preview-v1.1",
          "gpt-4-1106-preview-v1.1",
          "gpt-4-1106-preview-v1.1",
          "gpt-4-1106-preview-v1.1",
          "gpt-4-1106-preview-v1.1",
          "gpt-4-1106-preview-v1.1",
          "gpt-4-1106-preview-v1.1",
          "gpt-4-1106-preview-v1.1",
          "gpt-4-1106-preview-v1.1",
          "gpt-4-1106-preview-v1.1",
          "gpt-4-1106-preview-v1.1",
          "gpt-4-1106-preview-v1.1",
          "gpt-4-1106-preview-v1.1",
          "gpt-4-1106-preview-v1.1",
          "gpt-4-1106-preview-v1.1",
          "gpt-4-1106-preview-v1.1",
          "gpt-4-1106-preview-v1.1",
          "gpt-4-1106-preview-v1.1",
          "gpt-4-1106-preview-v1.1",
          "gpt-4-1106-preview-v1.1",
          "gpt-4-1106-preview-v1.1",
          "gpt-4-1106-preview-v1.1",
          "gpt-4-1106-preview-v1.1",
          "gpt-4-1106-preview-v1.1",
          "gpt-4-1106-preview-v1.1",
          "gpt-4-1106-preview-v1.1",
          "gpt-4-1106-preview-v1.1",
          "gpt-4-1106-preview-v1.1",
          "gpt-4-1106-preview-v1.1",
          "gpt-4-1106-preview-v1.1",
          "gpt-4-1106-preview-v1.1",
          "gpt-4-1106-preview-v1.1",
          "gpt-4-1106-preview-v1.1",
          "gpt-4-1106-preview-v1.1",
          "gpt-4-1106-preview-v1.1",
          "gpt-4-1106-preview-v1.1",
          "gpt-4-1106-preview-v1.1",
          "gpt-4-1106-preview-v1.1",
          "gpt-4-1106-preview-v1.1",
          "gpt-4-1106-preview-v1.1",
          "gpt-4-1106-preview-v1.1",
          "gpt-4-1106-preview-v1.1",
          "gpt-4-1106-preview-v1.1",
          "gpt-4-1106-preview-v1.1",
          "gpt-4-1106-preview-v1.1",
          "gpt-4-1106-preview-v1.1"
         ],
         "y0": " ",
         "yaxis": "y"
        }
       ],
       "layout": {
        "legend": {
         "title": {
          "text": "model"
         },
         "tracegroupgap": 0
        },
        "margin": {
         "t": 60
        },
        "template": {
         "data": {
          "bar": [
           {
            "error_x": {
             "color": "#2a3f5f"
            },
            "error_y": {
             "color": "#2a3f5f"
            },
            "marker": {
             "line": {
              "color": "#E5ECF6",
              "width": 0.5
             },
             "pattern": {
              "fillmode": "overlay",
              "size": 10,
              "solidity": 0.2
             }
            },
            "type": "bar"
           }
          ],
          "barpolar": [
           {
            "marker": {
             "line": {
              "color": "#E5ECF6",
              "width": 0.5
             },
             "pattern": {
              "fillmode": "overlay",
              "size": 10,
              "solidity": 0.2
             }
            },
            "type": "barpolar"
           }
          ],
          "carpet": [
           {
            "aaxis": {
             "endlinecolor": "#2a3f5f",
             "gridcolor": "white",
             "linecolor": "white",
             "minorgridcolor": "white",
             "startlinecolor": "#2a3f5f"
            },
            "baxis": {
             "endlinecolor": "#2a3f5f",
             "gridcolor": "white",
             "linecolor": "white",
             "minorgridcolor": "white",
             "startlinecolor": "#2a3f5f"
            },
            "type": "carpet"
           }
          ],
          "choropleth": [
           {
            "colorbar": {
             "outlinewidth": 0,
             "ticks": ""
            },
            "type": "choropleth"
           }
          ],
          "contour": [
           {
            "colorbar": {
             "outlinewidth": 0,
             "ticks": ""
            },
            "colorscale": [
             [
              0,
              "#0d0887"
             ],
             [
              0.1111111111111111,
              "#46039f"
             ],
             [
              0.2222222222222222,
              "#7201a8"
             ],
             [
              0.3333333333333333,
              "#9c179e"
             ],
             [
              0.4444444444444444,
              "#bd3786"
             ],
             [
              0.5555555555555556,
              "#d8576b"
             ],
             [
              0.6666666666666666,
              "#ed7953"
             ],
             [
              0.7777777777777778,
              "#fb9f3a"
             ],
             [
              0.8888888888888888,
              "#fdca26"
             ],
             [
              1,
              "#f0f921"
             ]
            ],
            "type": "contour"
           }
          ],
          "contourcarpet": [
           {
            "colorbar": {
             "outlinewidth": 0,
             "ticks": ""
            },
            "type": "contourcarpet"
           }
          ],
          "heatmap": [
           {
            "colorbar": {
             "outlinewidth": 0,
             "ticks": ""
            },
            "colorscale": [
             [
              0,
              "#0d0887"
             ],
             [
              0.1111111111111111,
              "#46039f"
             ],
             [
              0.2222222222222222,
              "#7201a8"
             ],
             [
              0.3333333333333333,
              "#9c179e"
             ],
             [
              0.4444444444444444,
              "#bd3786"
             ],
             [
              0.5555555555555556,
              "#d8576b"
             ],
             [
              0.6666666666666666,
              "#ed7953"
             ],
             [
              0.7777777777777778,
              "#fb9f3a"
             ],
             [
              0.8888888888888888,
              "#fdca26"
             ],
             [
              1,
              "#f0f921"
             ]
            ],
            "type": "heatmap"
           }
          ],
          "heatmapgl": [
           {
            "colorbar": {
             "outlinewidth": 0,
             "ticks": ""
            },
            "colorscale": [
             [
              0,
              "#0d0887"
             ],
             [
              0.1111111111111111,
              "#46039f"
             ],
             [
              0.2222222222222222,
              "#7201a8"
             ],
             [
              0.3333333333333333,
              "#9c179e"
             ],
             [
              0.4444444444444444,
              "#bd3786"
             ],
             [
              0.5555555555555556,
              "#d8576b"
             ],
             [
              0.6666666666666666,
              "#ed7953"
             ],
             [
              0.7777777777777778,
              "#fb9f3a"
             ],
             [
              0.8888888888888888,
              "#fdca26"
             ],
             [
              1,
              "#f0f921"
             ]
            ],
            "type": "heatmapgl"
           }
          ],
          "histogram": [
           {
            "marker": {
             "pattern": {
              "fillmode": "overlay",
              "size": 10,
              "solidity": 0.2
             }
            },
            "type": "histogram"
           }
          ],
          "histogram2d": [
           {
            "colorbar": {
             "outlinewidth": 0,
             "ticks": ""
            },
            "colorscale": [
             [
              0,
              "#0d0887"
             ],
             [
              0.1111111111111111,
              "#46039f"
             ],
             [
              0.2222222222222222,
              "#7201a8"
             ],
             [
              0.3333333333333333,
              "#9c179e"
             ],
             [
              0.4444444444444444,
              "#bd3786"
             ],
             [
              0.5555555555555556,
              "#d8576b"
             ],
             [
              0.6666666666666666,
              "#ed7953"
             ],
             [
              0.7777777777777778,
              "#fb9f3a"
             ],
             [
              0.8888888888888888,
              "#fdca26"
             ],
             [
              1,
              "#f0f921"
             ]
            ],
            "type": "histogram2d"
           }
          ],
          "histogram2dcontour": [
           {
            "colorbar": {
             "outlinewidth": 0,
             "ticks": ""
            },
            "colorscale": [
             [
              0,
              "#0d0887"
             ],
             [
              0.1111111111111111,
              "#46039f"
             ],
             [
              0.2222222222222222,
              "#7201a8"
             ],
             [
              0.3333333333333333,
              "#9c179e"
             ],
             [
              0.4444444444444444,
              "#bd3786"
             ],
             [
              0.5555555555555556,
              "#d8576b"
             ],
             [
              0.6666666666666666,
              "#ed7953"
             ],
             [
              0.7777777777777778,
              "#fb9f3a"
             ],
             [
              0.8888888888888888,
              "#fdca26"
             ],
             [
              1,
              "#f0f921"
             ]
            ],
            "type": "histogram2dcontour"
           }
          ],
          "mesh3d": [
           {
            "colorbar": {
             "outlinewidth": 0,
             "ticks": ""
            },
            "type": "mesh3d"
           }
          ],
          "parcoords": [
           {
            "line": {
             "colorbar": {
              "outlinewidth": 0,
              "ticks": ""
             }
            },
            "type": "parcoords"
           }
          ],
          "pie": [
           {
            "automargin": true,
            "type": "pie"
           }
          ],
          "scatter": [
           {
            "fillpattern": {
             "fillmode": "overlay",
             "size": 10,
             "solidity": 0.2
            },
            "type": "scatter"
           }
          ],
          "scatter3d": [
           {
            "line": {
             "colorbar": {
              "outlinewidth": 0,
              "ticks": ""
             }
            },
            "marker": {
             "colorbar": {
              "outlinewidth": 0,
              "ticks": ""
             }
            },
            "type": "scatter3d"
           }
          ],
          "scattercarpet": [
           {
            "marker": {
             "colorbar": {
              "outlinewidth": 0,
              "ticks": ""
             }
            },
            "type": "scattercarpet"
           }
          ],
          "scattergeo": [
           {
            "marker": {
             "colorbar": {
              "outlinewidth": 0,
              "ticks": ""
             }
            },
            "type": "scattergeo"
           }
          ],
          "scattergl": [
           {
            "marker": {
             "colorbar": {
              "outlinewidth": 0,
              "ticks": ""
             }
            },
            "type": "scattergl"
           }
          ],
          "scattermapbox": [
           {
            "marker": {
             "colorbar": {
              "outlinewidth": 0,
              "ticks": ""
             }
            },
            "type": "scattermapbox"
           }
          ],
          "scatterpolar": [
           {
            "marker": {
             "colorbar": {
              "outlinewidth": 0,
              "ticks": ""
             }
            },
            "type": "scatterpolar"
           }
          ],
          "scatterpolargl": [
           {
            "marker": {
             "colorbar": {
              "outlinewidth": 0,
              "ticks": ""
             }
            },
            "type": "scatterpolargl"
           }
          ],
          "scatterternary": [
           {
            "marker": {
             "colorbar": {
              "outlinewidth": 0,
              "ticks": ""
             }
            },
            "type": "scatterternary"
           }
          ],
          "surface": [
           {
            "colorbar": {
             "outlinewidth": 0,
             "ticks": ""
            },
            "colorscale": [
             [
              0,
              "#0d0887"
             ],
             [
              0.1111111111111111,
              "#46039f"
             ],
             [
              0.2222222222222222,
              "#7201a8"
             ],
             [
              0.3333333333333333,
              "#9c179e"
             ],
             [
              0.4444444444444444,
              "#bd3786"
             ],
             [
              0.5555555555555556,
              "#d8576b"
             ],
             [
              0.6666666666666666,
              "#ed7953"
             ],
             [
              0.7777777777777778,
              "#fb9f3a"
             ],
             [
              0.8888888888888888,
              "#fdca26"
             ],
             [
              1,
              "#f0f921"
             ]
            ],
            "type": "surface"
           }
          ],
          "table": [
           {
            "cells": {
             "fill": {
              "color": "#EBF0F8"
             },
             "line": {
              "color": "white"
             }
            },
            "header": {
             "fill": {
              "color": "#C8D4E3"
             },
             "line": {
              "color": "white"
             }
            },
            "type": "table"
           }
          ]
         },
         "layout": {
          "annotationdefaults": {
           "arrowcolor": "#2a3f5f",
           "arrowhead": 0,
           "arrowwidth": 1
          },
          "autotypenumbers": "strict",
          "coloraxis": {
           "colorbar": {
            "outlinewidth": 0,
            "ticks": ""
           }
          },
          "colorscale": {
           "diverging": [
            [
             0,
             "#8e0152"
            ],
            [
             0.1,
             "#c51b7d"
            ],
            [
             0.2,
             "#de77ae"
            ],
            [
             0.3,
             "#f1b6da"
            ],
            [
             0.4,
             "#fde0ef"
            ],
            [
             0.5,
             "#f7f7f7"
            ],
            [
             0.6,
             "#e6f5d0"
            ],
            [
             0.7,
             "#b8e186"
            ],
            [
             0.8,
             "#7fbc41"
            ],
            [
             0.9,
             "#4d9221"
            ],
            [
             1,
             "#276419"
            ]
           ],
           "sequential": [
            [
             0,
             "#0d0887"
            ],
            [
             0.1111111111111111,
             "#46039f"
            ],
            [
             0.2222222222222222,
             "#7201a8"
            ],
            [
             0.3333333333333333,
             "#9c179e"
            ],
            [
             0.4444444444444444,
             "#bd3786"
            ],
            [
             0.5555555555555556,
             "#d8576b"
            ],
            [
             0.6666666666666666,
             "#ed7953"
            ],
            [
             0.7777777777777778,
             "#fb9f3a"
            ],
            [
             0.8888888888888888,
             "#fdca26"
            ],
            [
             1,
             "#f0f921"
            ]
           ],
           "sequentialminus": [
            [
             0,
             "#0d0887"
            ],
            [
             0.1111111111111111,
             "#46039f"
            ],
            [
             0.2222222222222222,
             "#7201a8"
            ],
            [
             0.3333333333333333,
             "#9c179e"
            ],
            [
             0.4444444444444444,
             "#bd3786"
            ],
            [
             0.5555555555555556,
             "#d8576b"
            ],
            [
             0.6666666666666666,
             "#ed7953"
            ],
            [
             0.7777777777777778,
             "#fb9f3a"
            ],
            [
             0.8888888888888888,
             "#fdca26"
            ],
            [
             1,
             "#f0f921"
            ]
           ]
          },
          "colorway": [
           "#636efa",
           "#EF553B",
           "#00cc96",
           "#ab63fa",
           "#FFA15A",
           "#19d3f3",
           "#FF6692",
           "#B6E880",
           "#FF97FF",
           "#FECB52"
          ],
          "font": {
           "color": "#2a3f5f"
          },
          "geo": {
           "bgcolor": "white",
           "lakecolor": "white",
           "landcolor": "#E5ECF6",
           "showlakes": true,
           "showland": true,
           "subunitcolor": "white"
          },
          "hoverlabel": {
           "align": "left"
          },
          "hovermode": "closest",
          "mapbox": {
           "style": "light"
          },
          "paper_bgcolor": "white",
          "plot_bgcolor": "#E5ECF6",
          "polar": {
           "angularaxis": {
            "gridcolor": "white",
            "linecolor": "white",
            "ticks": ""
           },
           "bgcolor": "#E5ECF6",
           "radialaxis": {
            "gridcolor": "white",
            "linecolor": "white",
            "ticks": ""
           }
          },
          "scene": {
           "xaxis": {
            "backgroundcolor": "#E5ECF6",
            "gridcolor": "white",
            "gridwidth": 2,
            "linecolor": "white",
            "showbackground": true,
            "ticks": "",
            "zerolinecolor": "white"
           },
           "yaxis": {
            "backgroundcolor": "#E5ECF6",
            "gridcolor": "white",
            "gridwidth": 2,
            "linecolor": "white",
            "showbackground": true,
            "ticks": "",
            "zerolinecolor": "white"
           },
           "zaxis": {
            "backgroundcolor": "#E5ECF6",
            "gridcolor": "white",
            "gridwidth": 2,
            "linecolor": "white",
            "showbackground": true,
            "ticks": "",
            "zerolinecolor": "white"
           }
          },
          "shapedefaults": {
           "line": {
            "color": "#2a3f5f"
           }
          },
          "ternary": {
           "aaxis": {
            "gridcolor": "white",
            "linecolor": "white",
            "ticks": ""
           },
           "baxis": {
            "gridcolor": "white",
            "linecolor": "white",
            "ticks": ""
           },
           "bgcolor": "#E5ECF6",
           "caxis": {
            "gridcolor": "white",
            "linecolor": "white",
            "ticks": ""
           }
          },
          "title": {
           "x": 0.05
          },
          "xaxis": {
           "automargin": true,
           "gridcolor": "white",
           "linecolor": "white",
           "ticks": "",
           "title": {
            "standoff": 15
           },
           "zerolinecolor": "white",
           "zerolinewidth": 2
          },
          "yaxis": {
           "automargin": true,
           "gridcolor": "white",
           "linecolor": "white",
           "ticks": "",
           "title": {
            "standoff": 15
           },
           "zerolinecolor": "white",
           "zerolinewidth": 2
          }
         }
        },
        "violinmode": "overlay",
        "xaxis": {
         "anchor": "y",
         "domain": [
          0,
          1
         ],
         "tickangle": 0,
         "title": {
          "text": "score"
         }
        },
        "yaxis": {
         "anchor": "x",
         "categoryarray": [
          "gpt-4-1106-preview-v1.1",
          "gpt-4-1106-preview",
          "gpt-3.5-turbo-16k-0613",
          "gpt-4-0613"
         ],
         "categoryorder": "array",
         "domain": [
          0,
          1
         ],
         "title": {
          "text": "model"
         }
        }
       }
      }
     },
     "metadata": {},
     "output_type": "display_data"
    }
   ],
   "source": [
    "context_metrics = [\"context_precision_score\", \"context_recall_score\"]\n",
    "\n",
    "plot_context_metrics(dfs, table_names, context_metrics)"
   ]
  },
  {
   "cell_type": "code",
   "execution_count": 16,
   "metadata": {},
   "outputs": [],
   "source": [
    "def plot_latency_metrics(dfs, table_names, metric_cols):\n",
    "    for metric in metric_cols:\n",
    "        metrics_df = table_metrics(\n",
    "            dfs,\n",
    "            table_names,\n",
    "            [metric],\n",
    "        )\n",
    "        metrics_df = metrics_df.rename(\n",
    "            columns={\n",
    "                \"score\": \"latency(s)\",\n",
    "            }\n",
    "        )\n",
    "        fig = px.violin(\n",
    "            metrics_df,\n",
    "            x=\"latency(s)\",\n",
    "            y=\"model\",\n",
    "            color=\"model\",\n",
    "            box=True,  # draw box plot inside the violin\n",
    "            points=\"all\",  # can be 'outliers', or False\n",
    "            orientation=\"h\",\n",
    "        )\n",
    "        metric_name = \"Time Taken\"\n",
    "        # fig.update_layout(title_text=metric_name, title_x=0.5)\n",
    "        fig.update_xaxes(tickangle=0)\n",
    "        score_plot = wandb.Plotly(fig)\n",
    "        run.log({f\"{metric_name} Violinplot\": score_plot})\n",
    "        fig.show()"
   ]
  },
  {
   "cell_type": "code",
   "execution_count": 17,
   "metadata": {},
   "outputs": [
    {
     "data": {
      "application/vnd.plotly.v1+json": {
       "config": {
        "plotlyServerURL": "https://plot.ly"
       },
       "data": [
        {
         "alignmentgroup": "True",
         "box": {
          "visible": true
         },
         "hovertemplate": "model=%{y}<br>latency(s)=%{x}<extra></extra>",
         "legendgroup": "gpt-4-0613",
         "marker": {
          "color": "#636efa"
         },
         "name": "gpt-4-0613",
         "offsetgroup": "gpt-4-0613",
         "orientation": "h",
         "points": "all",
         "scalegroup": "True",
         "showlegend": true,
         "type": "violin",
         "x": [
          28.152315,
          30.359424,
          58.848659,
          36.543935,
          28.047547,
          16.945823,
          39.566952,
          37.524447,
          19.903518,
          15.667796,
          30.254061,
          16.975495,
          41.899707,
          12.836614,
          22.199252,
          31.349249,
          28.875526999999998,
          24.521073,
          21.071664,
          28.994839,
          24.727966,
          28.16456,
          20.21587,
          9.96609,
          39.801293,
          13.864615,
          16.574099,
          25.37481,
          25.087715,
          5.111558,
          26.44654,
          22.426275,
          3.715122,
          6.079103,
          30.540628,
          27.598565999999998,
          35.923987,
          29.315022,
          29.050705,
          29.347861,
          13.057112,
          33.525941,
          3.265454,
          25.169479,
          21.938048,
          30.55557,
          16.959611,
          26.359252,
          24.444405,
          19.62221,
          13.069624,
          19.498214,
          24.135549,
          17.223309,
          10.319436,
          22.04976,
          27.837273,
          32.193718,
          50.648086,
          7.771974,
          28.086161,
          32.976776,
          17.843725,
          35.510686,
          20.472933,
          30.957346,
          9.999337,
          10.565785,
          23.23954,
          29.876154,
          11.742121,
          22.489228,
          40.060867,
          31.871881,
          7.1789439999999995,
          25.095787,
          5.030914,
          38.038881,
          32.159635,
          18.253493,
          3.4088950000000002,
          36.285384,
          27.378907,
          48.010722,
          32.808309,
          9.02952,
          8.714885,
          34.58437,
          6.331816,
          8.66712,
          8.333901000000001,
          21.261877,
          33.572058,
          8.928885,
          16.052384,
          50.61965,
          3.323417,
          26.154936
         ],
         "x0": " ",
         "xaxis": "x",
         "y": [
          "gpt-4-0613",
          "gpt-4-0613",
          "gpt-4-0613",
          "gpt-4-0613",
          "gpt-4-0613",
          "gpt-4-0613",
          "gpt-4-0613",
          "gpt-4-0613",
          "gpt-4-0613",
          "gpt-4-0613",
          "gpt-4-0613",
          "gpt-4-0613",
          "gpt-4-0613",
          "gpt-4-0613",
          "gpt-4-0613",
          "gpt-4-0613",
          "gpt-4-0613",
          "gpt-4-0613",
          "gpt-4-0613",
          "gpt-4-0613",
          "gpt-4-0613",
          "gpt-4-0613",
          "gpt-4-0613",
          "gpt-4-0613",
          "gpt-4-0613",
          "gpt-4-0613",
          "gpt-4-0613",
          "gpt-4-0613",
          "gpt-4-0613",
          "gpt-4-0613",
          "gpt-4-0613",
          "gpt-4-0613",
          "gpt-4-0613",
          "gpt-4-0613",
          "gpt-4-0613",
          "gpt-4-0613",
          "gpt-4-0613",
          "gpt-4-0613",
          "gpt-4-0613",
          "gpt-4-0613",
          "gpt-4-0613",
          "gpt-4-0613",
          "gpt-4-0613",
          "gpt-4-0613",
          "gpt-4-0613",
          "gpt-4-0613",
          "gpt-4-0613",
          "gpt-4-0613",
          "gpt-4-0613",
          "gpt-4-0613",
          "gpt-4-0613",
          "gpt-4-0613",
          "gpt-4-0613",
          "gpt-4-0613",
          "gpt-4-0613",
          "gpt-4-0613",
          "gpt-4-0613",
          "gpt-4-0613",
          "gpt-4-0613",
          "gpt-4-0613",
          "gpt-4-0613",
          "gpt-4-0613",
          "gpt-4-0613",
          "gpt-4-0613",
          "gpt-4-0613",
          "gpt-4-0613",
          "gpt-4-0613",
          "gpt-4-0613",
          "gpt-4-0613",
          "gpt-4-0613",
          "gpt-4-0613",
          "gpt-4-0613",
          "gpt-4-0613",
          "gpt-4-0613",
          "gpt-4-0613",
          "gpt-4-0613",
          "gpt-4-0613",
          "gpt-4-0613",
          "gpt-4-0613",
          "gpt-4-0613",
          "gpt-4-0613",
          "gpt-4-0613",
          "gpt-4-0613",
          "gpt-4-0613",
          "gpt-4-0613",
          "gpt-4-0613",
          "gpt-4-0613",
          "gpt-4-0613",
          "gpt-4-0613",
          "gpt-4-0613",
          "gpt-4-0613",
          "gpt-4-0613",
          "gpt-4-0613",
          "gpt-4-0613",
          "gpt-4-0613",
          "gpt-4-0613",
          "gpt-4-0613",
          "gpt-4-0613"
         ],
         "y0": " ",
         "yaxis": "y"
        },
        {
         "alignmentgroup": "True",
         "box": {
          "visible": true
         },
         "hovertemplate": "model=%{y}<br>latency(s)=%{x}<extra></extra>",
         "legendgroup": "gpt-3.5-turbo-16k-0613",
         "marker": {
          "color": "#EF553B"
         },
         "name": "gpt-3.5-turbo-16k-0613",
         "offsetgroup": "gpt-3.5-turbo-16k-0613",
         "orientation": "h",
         "points": "all",
         "scalegroup": "True",
         "showlegend": true,
         "type": "violin",
         "x": [
          7.009734,
          8.265244,
          14.49823,
          9.10049,
          10.963081,
          9.974128,
          19.062431,
          8.160789,
          13.448808,
          16.515169,
          9.923283,
          9.212508,
          8.101334,
          9.862659,
          6.782274,
          16.126599,
          9.402667,
          8.1063,
          7.462433,
          11.743975,
          6.496573,
          11.280875,
          15.727661,
          4.707159,
          11.812746,
          15.186524,
          8.044224,
          10.871137,
          12.755668,
          2.804253,
          8.407321,
          11.763985,
          4.555114,
          9.449374,
          15.853339,
          8.550969,
          10.042814,
          9.32191,
          11.987157,
          8.610813,
          7.53632,
          11.654751,
          16.587958,
          9.107869,
          7.696529,
          13.154779,
          11.813177,
          6.409289,
          9.262885,
          6.849839,
          7.929544,
          6.385092,
          19.65049,
          4.238372,
          3.3113960000000002,
          7.027377,
          5.769791,
          14.1973,
          12.160655,
          6.235773,
          9.745919,
          10.003116,
          17.667432,
          13.859286,
          12.219846,
          11.097512,
          3.9714039999999997,
          6.148497,
          14.715483,
          9.528871,
          4.404088,
          6.460036,
          10.160476,
          9.045183,
          3.652905,
          8.268051,
          4.985406,
          20.145004,
          14.746363,
          3.724624,
          6.806934,
          5.22717,
          13.321524,
          8.910095,
          10.05166,
          5.706349,
          3.368578,
          11.425485,
          3.48242,
          7.795291,
          3.7351710000000002,
          5.25458,
          9.776864,
          3.223493,
          11.535051,
          13.104307,
          3.473027,
          10.268056
         ],
         "x0": " ",
         "xaxis": "x",
         "y": [
          "gpt-3.5-turbo-16k-0613",
          "gpt-3.5-turbo-16k-0613",
          "gpt-3.5-turbo-16k-0613",
          "gpt-3.5-turbo-16k-0613",
          "gpt-3.5-turbo-16k-0613",
          "gpt-3.5-turbo-16k-0613",
          "gpt-3.5-turbo-16k-0613",
          "gpt-3.5-turbo-16k-0613",
          "gpt-3.5-turbo-16k-0613",
          "gpt-3.5-turbo-16k-0613",
          "gpt-3.5-turbo-16k-0613",
          "gpt-3.5-turbo-16k-0613",
          "gpt-3.5-turbo-16k-0613",
          "gpt-3.5-turbo-16k-0613",
          "gpt-3.5-turbo-16k-0613",
          "gpt-3.5-turbo-16k-0613",
          "gpt-3.5-turbo-16k-0613",
          "gpt-3.5-turbo-16k-0613",
          "gpt-3.5-turbo-16k-0613",
          "gpt-3.5-turbo-16k-0613",
          "gpt-3.5-turbo-16k-0613",
          "gpt-3.5-turbo-16k-0613",
          "gpt-3.5-turbo-16k-0613",
          "gpt-3.5-turbo-16k-0613",
          "gpt-3.5-turbo-16k-0613",
          "gpt-3.5-turbo-16k-0613",
          "gpt-3.5-turbo-16k-0613",
          "gpt-3.5-turbo-16k-0613",
          "gpt-3.5-turbo-16k-0613",
          "gpt-3.5-turbo-16k-0613",
          "gpt-3.5-turbo-16k-0613",
          "gpt-3.5-turbo-16k-0613",
          "gpt-3.5-turbo-16k-0613",
          "gpt-3.5-turbo-16k-0613",
          "gpt-3.5-turbo-16k-0613",
          "gpt-3.5-turbo-16k-0613",
          "gpt-3.5-turbo-16k-0613",
          "gpt-3.5-turbo-16k-0613",
          "gpt-3.5-turbo-16k-0613",
          "gpt-3.5-turbo-16k-0613",
          "gpt-3.5-turbo-16k-0613",
          "gpt-3.5-turbo-16k-0613",
          "gpt-3.5-turbo-16k-0613",
          "gpt-3.5-turbo-16k-0613",
          "gpt-3.5-turbo-16k-0613",
          "gpt-3.5-turbo-16k-0613",
          "gpt-3.5-turbo-16k-0613",
          "gpt-3.5-turbo-16k-0613",
          "gpt-3.5-turbo-16k-0613",
          "gpt-3.5-turbo-16k-0613",
          "gpt-3.5-turbo-16k-0613",
          "gpt-3.5-turbo-16k-0613",
          "gpt-3.5-turbo-16k-0613",
          "gpt-3.5-turbo-16k-0613",
          "gpt-3.5-turbo-16k-0613",
          "gpt-3.5-turbo-16k-0613",
          "gpt-3.5-turbo-16k-0613",
          "gpt-3.5-turbo-16k-0613",
          "gpt-3.5-turbo-16k-0613",
          "gpt-3.5-turbo-16k-0613",
          "gpt-3.5-turbo-16k-0613",
          "gpt-3.5-turbo-16k-0613",
          "gpt-3.5-turbo-16k-0613",
          "gpt-3.5-turbo-16k-0613",
          "gpt-3.5-turbo-16k-0613",
          "gpt-3.5-turbo-16k-0613",
          "gpt-3.5-turbo-16k-0613",
          "gpt-3.5-turbo-16k-0613",
          "gpt-3.5-turbo-16k-0613",
          "gpt-3.5-turbo-16k-0613",
          "gpt-3.5-turbo-16k-0613",
          "gpt-3.5-turbo-16k-0613",
          "gpt-3.5-turbo-16k-0613",
          "gpt-3.5-turbo-16k-0613",
          "gpt-3.5-turbo-16k-0613",
          "gpt-3.5-turbo-16k-0613",
          "gpt-3.5-turbo-16k-0613",
          "gpt-3.5-turbo-16k-0613",
          "gpt-3.5-turbo-16k-0613",
          "gpt-3.5-turbo-16k-0613",
          "gpt-3.5-turbo-16k-0613",
          "gpt-3.5-turbo-16k-0613",
          "gpt-3.5-turbo-16k-0613",
          "gpt-3.5-turbo-16k-0613",
          "gpt-3.5-turbo-16k-0613",
          "gpt-3.5-turbo-16k-0613",
          "gpt-3.5-turbo-16k-0613",
          "gpt-3.5-turbo-16k-0613",
          "gpt-3.5-turbo-16k-0613",
          "gpt-3.5-turbo-16k-0613",
          "gpt-3.5-turbo-16k-0613",
          "gpt-3.5-turbo-16k-0613",
          "gpt-3.5-turbo-16k-0613",
          "gpt-3.5-turbo-16k-0613",
          "gpt-3.5-turbo-16k-0613",
          "gpt-3.5-turbo-16k-0613",
          "gpt-3.5-turbo-16k-0613",
          "gpt-3.5-turbo-16k-0613"
         ],
         "y0": " ",
         "yaxis": "y"
        },
        {
         "alignmentgroup": "True",
         "box": {
          "visible": true
         },
         "hovertemplate": "model=%{y}<br>latency(s)=%{x}<extra></extra>",
         "legendgroup": "gpt-4-1106-preview",
         "marker": {
          "color": "#00cc96"
         },
         "name": "gpt-4-1106-preview",
         "offsetgroup": "gpt-4-1106-preview",
         "orientation": "h",
         "points": "all",
         "scalegroup": "True",
         "showlegend": true,
         "type": "violin",
         "x": [
          109.34122,
          31.340073,
          112.697802,
          39.21317,
          47.878506,
          26.710627,
          117.207257,
          37.493357,
          33.159813,
          35.805212,
          28.849173,
          29.635437,
          99.606823,
          28.623275,
          43.140715,
          51.984318,
          43.618794,
          51.320817,
          49.722861,
          30.537975,
          26.478059,
          32.305217,
          37.208062,
          23.79305,
          36.2782,
          35.345281,
          33.226754,
          36.470893,
          24.07443,
          19.856115,
          40.024836,
          42.122792,
          51.778234,
          41.374277,
          38.401192,
          45.976611,
          40.899973,
          31.366776,
          37.265091,
          53.013692,
          18.278562,
          25.895748,
          19.186688,
          24.108163,
          44.323186,
          45.480343,
          196.854679,
          104.289061,
          35.988037,
          33.081357,
          85.866218,
          51.197766,
          199.886828,
          19.724353999999998,
          9.179582,
          30.639269,
          37.964819,
          60.358826,
          56.016512,
          22.45171,
          32.936537,
          49.386778,
          43.634272,
          103.947102,
          44.063994,
          49.248283,
          25.228458,
          104.323593,
          35.738346,
          47.077743,
          23.437374,
          58.880296,
          191.879911,
          40.011125,
          12.824692,
          28.21202,
          38.62641,
          47.824601,
          50.658208,
          22.118379,
          36.382386,
          48.932371,
          110.711126,
          55.137749,
          118.771214,
          20.802652,
          9.041039,
          46.17602,
          9.672946,
          31.293644,
          11.518508,
          45.279541,
          177.988134,
          25.254183,
          109.401839,
          55.44177,
          9.547273,
          41.312166
         ],
         "x0": " ",
         "xaxis": "x",
         "y": [
          "gpt-4-1106-preview",
          "gpt-4-1106-preview",
          "gpt-4-1106-preview",
          "gpt-4-1106-preview",
          "gpt-4-1106-preview",
          "gpt-4-1106-preview",
          "gpt-4-1106-preview",
          "gpt-4-1106-preview",
          "gpt-4-1106-preview",
          "gpt-4-1106-preview",
          "gpt-4-1106-preview",
          "gpt-4-1106-preview",
          "gpt-4-1106-preview",
          "gpt-4-1106-preview",
          "gpt-4-1106-preview",
          "gpt-4-1106-preview",
          "gpt-4-1106-preview",
          "gpt-4-1106-preview",
          "gpt-4-1106-preview",
          "gpt-4-1106-preview",
          "gpt-4-1106-preview",
          "gpt-4-1106-preview",
          "gpt-4-1106-preview",
          "gpt-4-1106-preview",
          "gpt-4-1106-preview",
          "gpt-4-1106-preview",
          "gpt-4-1106-preview",
          "gpt-4-1106-preview",
          "gpt-4-1106-preview",
          "gpt-4-1106-preview",
          "gpt-4-1106-preview",
          "gpt-4-1106-preview",
          "gpt-4-1106-preview",
          "gpt-4-1106-preview",
          "gpt-4-1106-preview",
          "gpt-4-1106-preview",
          "gpt-4-1106-preview",
          "gpt-4-1106-preview",
          "gpt-4-1106-preview",
          "gpt-4-1106-preview",
          "gpt-4-1106-preview",
          "gpt-4-1106-preview",
          "gpt-4-1106-preview",
          "gpt-4-1106-preview",
          "gpt-4-1106-preview",
          "gpt-4-1106-preview",
          "gpt-4-1106-preview",
          "gpt-4-1106-preview",
          "gpt-4-1106-preview",
          "gpt-4-1106-preview",
          "gpt-4-1106-preview",
          "gpt-4-1106-preview",
          "gpt-4-1106-preview",
          "gpt-4-1106-preview",
          "gpt-4-1106-preview",
          "gpt-4-1106-preview",
          "gpt-4-1106-preview",
          "gpt-4-1106-preview",
          "gpt-4-1106-preview",
          "gpt-4-1106-preview",
          "gpt-4-1106-preview",
          "gpt-4-1106-preview",
          "gpt-4-1106-preview",
          "gpt-4-1106-preview",
          "gpt-4-1106-preview",
          "gpt-4-1106-preview",
          "gpt-4-1106-preview",
          "gpt-4-1106-preview",
          "gpt-4-1106-preview",
          "gpt-4-1106-preview",
          "gpt-4-1106-preview",
          "gpt-4-1106-preview",
          "gpt-4-1106-preview",
          "gpt-4-1106-preview",
          "gpt-4-1106-preview",
          "gpt-4-1106-preview",
          "gpt-4-1106-preview",
          "gpt-4-1106-preview",
          "gpt-4-1106-preview",
          "gpt-4-1106-preview",
          "gpt-4-1106-preview",
          "gpt-4-1106-preview",
          "gpt-4-1106-preview",
          "gpt-4-1106-preview",
          "gpt-4-1106-preview",
          "gpt-4-1106-preview",
          "gpt-4-1106-preview",
          "gpt-4-1106-preview",
          "gpt-4-1106-preview",
          "gpt-4-1106-preview",
          "gpt-4-1106-preview",
          "gpt-4-1106-preview",
          "gpt-4-1106-preview",
          "gpt-4-1106-preview",
          "gpt-4-1106-preview",
          "gpt-4-1106-preview",
          "gpt-4-1106-preview",
          "gpt-4-1106-preview"
         ],
         "y0": " ",
         "yaxis": "y"
        },
        {
         "alignmentgroup": "True",
         "box": {
          "visible": true
         },
         "hovertemplate": "model=%{y}<br>latency(s)=%{x}<extra></extra>",
         "legendgroup": "gpt-4-1106-preview-v1.1",
         "marker": {
          "color": "#ab63fa"
         },
         "name": "gpt-4-1106-preview-v1.1",
         "offsetgroup": "gpt-4-1106-preview-v1.1",
         "orientation": "h",
         "points": "all",
         "scalegroup": "True",
         "showlegend": true,
         "type": "violin",
         "x": [
          78.045797,
          42.697373999999996,
          105.91174,
          68.355766,
          101.62027,
          61.727823,
          92.536278,
          102.317183,
          47.605336,
          39.581598,
          81.915424,
          89.256048,
          112.029508,
          85.002865,
          85.65521,
          74.758651,
          51.079786,
          79.867034,
          77.502774,
          48.855054,
          62.366611,
          95.918485,
          68.629155,
          51.035205,
          72.764793,
          44.981381999999996,
          93.405568,
          85.356644,
          71.587287,
          52.379577,
          68.473432,
          48.961168,
          42.884051,
          47.835904,
          77.357709,
          71.780149,
          75.775638,
          46.877572,
          61.045384,
          68.849305,
          55.469622,
          71.094993,
          33.106178,
          59.317765,
          72.437207,
          80.500189,
          79.41869,
          83.683793,
          43.153635,
          58.648866,
          53.563604,
          104.869183,
          93.059426,
          58.562871,
          40.153557,
          51.052864,
          75.235385,
          93.213219,
          102.836324,
          47.197462,
          67.999961,
          87.933342,
          64.177505,
          88.252249,
          68.490914,
          70.563267,
          60.435032,
          80.123994,
          67.578381,
          54.822172,
          68.548019,
          83.54557199999999,
          59.407227,
          51.656701,
          45.455987,
          57.995745,
          42.177724,
          96.139263,
          72.63096,
          52.676766,
          88.273305,
          87.89356,
          58.080817,
          147.34863,
          51.584862,
          55.97073,
          61.670499,
          87.089203,
          44.819531,
          87.881914,
          53.906858,
          66.861515,
          63.31523,
          51.650295,
          70.056944,
          84.713787,
          45.023471,
          91.931354
         ],
         "x0": " ",
         "xaxis": "x",
         "y": [
          "gpt-4-1106-preview-v1.1",
          "gpt-4-1106-preview-v1.1",
          "gpt-4-1106-preview-v1.1",
          "gpt-4-1106-preview-v1.1",
          "gpt-4-1106-preview-v1.1",
          "gpt-4-1106-preview-v1.1",
          "gpt-4-1106-preview-v1.1",
          "gpt-4-1106-preview-v1.1",
          "gpt-4-1106-preview-v1.1",
          "gpt-4-1106-preview-v1.1",
          "gpt-4-1106-preview-v1.1",
          "gpt-4-1106-preview-v1.1",
          "gpt-4-1106-preview-v1.1",
          "gpt-4-1106-preview-v1.1",
          "gpt-4-1106-preview-v1.1",
          "gpt-4-1106-preview-v1.1",
          "gpt-4-1106-preview-v1.1",
          "gpt-4-1106-preview-v1.1",
          "gpt-4-1106-preview-v1.1",
          "gpt-4-1106-preview-v1.1",
          "gpt-4-1106-preview-v1.1",
          "gpt-4-1106-preview-v1.1",
          "gpt-4-1106-preview-v1.1",
          "gpt-4-1106-preview-v1.1",
          "gpt-4-1106-preview-v1.1",
          "gpt-4-1106-preview-v1.1",
          "gpt-4-1106-preview-v1.1",
          "gpt-4-1106-preview-v1.1",
          "gpt-4-1106-preview-v1.1",
          "gpt-4-1106-preview-v1.1",
          "gpt-4-1106-preview-v1.1",
          "gpt-4-1106-preview-v1.1",
          "gpt-4-1106-preview-v1.1",
          "gpt-4-1106-preview-v1.1",
          "gpt-4-1106-preview-v1.1",
          "gpt-4-1106-preview-v1.1",
          "gpt-4-1106-preview-v1.1",
          "gpt-4-1106-preview-v1.1",
          "gpt-4-1106-preview-v1.1",
          "gpt-4-1106-preview-v1.1",
          "gpt-4-1106-preview-v1.1",
          "gpt-4-1106-preview-v1.1",
          "gpt-4-1106-preview-v1.1",
          "gpt-4-1106-preview-v1.1",
          "gpt-4-1106-preview-v1.1",
          "gpt-4-1106-preview-v1.1",
          "gpt-4-1106-preview-v1.1",
          "gpt-4-1106-preview-v1.1",
          "gpt-4-1106-preview-v1.1",
          "gpt-4-1106-preview-v1.1",
          "gpt-4-1106-preview-v1.1",
          "gpt-4-1106-preview-v1.1",
          "gpt-4-1106-preview-v1.1",
          "gpt-4-1106-preview-v1.1",
          "gpt-4-1106-preview-v1.1",
          "gpt-4-1106-preview-v1.1",
          "gpt-4-1106-preview-v1.1",
          "gpt-4-1106-preview-v1.1",
          "gpt-4-1106-preview-v1.1",
          "gpt-4-1106-preview-v1.1",
          "gpt-4-1106-preview-v1.1",
          "gpt-4-1106-preview-v1.1",
          "gpt-4-1106-preview-v1.1",
          "gpt-4-1106-preview-v1.1",
          "gpt-4-1106-preview-v1.1",
          "gpt-4-1106-preview-v1.1",
          "gpt-4-1106-preview-v1.1",
          "gpt-4-1106-preview-v1.1",
          "gpt-4-1106-preview-v1.1",
          "gpt-4-1106-preview-v1.1",
          "gpt-4-1106-preview-v1.1",
          "gpt-4-1106-preview-v1.1",
          "gpt-4-1106-preview-v1.1",
          "gpt-4-1106-preview-v1.1",
          "gpt-4-1106-preview-v1.1",
          "gpt-4-1106-preview-v1.1",
          "gpt-4-1106-preview-v1.1",
          "gpt-4-1106-preview-v1.1",
          "gpt-4-1106-preview-v1.1",
          "gpt-4-1106-preview-v1.1",
          "gpt-4-1106-preview-v1.1",
          "gpt-4-1106-preview-v1.1",
          "gpt-4-1106-preview-v1.1",
          "gpt-4-1106-preview-v1.1",
          "gpt-4-1106-preview-v1.1",
          "gpt-4-1106-preview-v1.1",
          "gpt-4-1106-preview-v1.1",
          "gpt-4-1106-preview-v1.1",
          "gpt-4-1106-preview-v1.1",
          "gpt-4-1106-preview-v1.1",
          "gpt-4-1106-preview-v1.1",
          "gpt-4-1106-preview-v1.1",
          "gpt-4-1106-preview-v1.1",
          "gpt-4-1106-preview-v1.1",
          "gpt-4-1106-preview-v1.1",
          "gpt-4-1106-preview-v1.1",
          "gpt-4-1106-preview-v1.1",
          "gpt-4-1106-preview-v1.1"
         ],
         "y0": " ",
         "yaxis": "y"
        }
       ],
       "layout": {
        "legend": {
         "title": {
          "text": "model"
         },
         "tracegroupgap": 0
        },
        "margin": {
         "t": 60
        },
        "template": {
         "data": {
          "bar": [
           {
            "error_x": {
             "color": "#2a3f5f"
            },
            "error_y": {
             "color": "#2a3f5f"
            },
            "marker": {
             "line": {
              "color": "#E5ECF6",
              "width": 0.5
             },
             "pattern": {
              "fillmode": "overlay",
              "size": 10,
              "solidity": 0.2
             }
            },
            "type": "bar"
           }
          ],
          "barpolar": [
           {
            "marker": {
             "line": {
              "color": "#E5ECF6",
              "width": 0.5
             },
             "pattern": {
              "fillmode": "overlay",
              "size": 10,
              "solidity": 0.2
             }
            },
            "type": "barpolar"
           }
          ],
          "carpet": [
           {
            "aaxis": {
             "endlinecolor": "#2a3f5f",
             "gridcolor": "white",
             "linecolor": "white",
             "minorgridcolor": "white",
             "startlinecolor": "#2a3f5f"
            },
            "baxis": {
             "endlinecolor": "#2a3f5f",
             "gridcolor": "white",
             "linecolor": "white",
             "minorgridcolor": "white",
             "startlinecolor": "#2a3f5f"
            },
            "type": "carpet"
           }
          ],
          "choropleth": [
           {
            "colorbar": {
             "outlinewidth": 0,
             "ticks": ""
            },
            "type": "choropleth"
           }
          ],
          "contour": [
           {
            "colorbar": {
             "outlinewidth": 0,
             "ticks": ""
            },
            "colorscale": [
             [
              0,
              "#0d0887"
             ],
             [
              0.1111111111111111,
              "#46039f"
             ],
             [
              0.2222222222222222,
              "#7201a8"
             ],
             [
              0.3333333333333333,
              "#9c179e"
             ],
             [
              0.4444444444444444,
              "#bd3786"
             ],
             [
              0.5555555555555556,
              "#d8576b"
             ],
             [
              0.6666666666666666,
              "#ed7953"
             ],
             [
              0.7777777777777778,
              "#fb9f3a"
             ],
             [
              0.8888888888888888,
              "#fdca26"
             ],
             [
              1,
              "#f0f921"
             ]
            ],
            "type": "contour"
           }
          ],
          "contourcarpet": [
           {
            "colorbar": {
             "outlinewidth": 0,
             "ticks": ""
            },
            "type": "contourcarpet"
           }
          ],
          "heatmap": [
           {
            "colorbar": {
             "outlinewidth": 0,
             "ticks": ""
            },
            "colorscale": [
             [
              0,
              "#0d0887"
             ],
             [
              0.1111111111111111,
              "#46039f"
             ],
             [
              0.2222222222222222,
              "#7201a8"
             ],
             [
              0.3333333333333333,
              "#9c179e"
             ],
             [
              0.4444444444444444,
              "#bd3786"
             ],
             [
              0.5555555555555556,
              "#d8576b"
             ],
             [
              0.6666666666666666,
              "#ed7953"
             ],
             [
              0.7777777777777778,
              "#fb9f3a"
             ],
             [
              0.8888888888888888,
              "#fdca26"
             ],
             [
              1,
              "#f0f921"
             ]
            ],
            "type": "heatmap"
           }
          ],
          "heatmapgl": [
           {
            "colorbar": {
             "outlinewidth": 0,
             "ticks": ""
            },
            "colorscale": [
             [
              0,
              "#0d0887"
             ],
             [
              0.1111111111111111,
              "#46039f"
             ],
             [
              0.2222222222222222,
              "#7201a8"
             ],
             [
              0.3333333333333333,
              "#9c179e"
             ],
             [
              0.4444444444444444,
              "#bd3786"
             ],
             [
              0.5555555555555556,
              "#d8576b"
             ],
             [
              0.6666666666666666,
              "#ed7953"
             ],
             [
              0.7777777777777778,
              "#fb9f3a"
             ],
             [
              0.8888888888888888,
              "#fdca26"
             ],
             [
              1,
              "#f0f921"
             ]
            ],
            "type": "heatmapgl"
           }
          ],
          "histogram": [
           {
            "marker": {
             "pattern": {
              "fillmode": "overlay",
              "size": 10,
              "solidity": 0.2
             }
            },
            "type": "histogram"
           }
          ],
          "histogram2d": [
           {
            "colorbar": {
             "outlinewidth": 0,
             "ticks": ""
            },
            "colorscale": [
             [
              0,
              "#0d0887"
             ],
             [
              0.1111111111111111,
              "#46039f"
             ],
             [
              0.2222222222222222,
              "#7201a8"
             ],
             [
              0.3333333333333333,
              "#9c179e"
             ],
             [
              0.4444444444444444,
              "#bd3786"
             ],
             [
              0.5555555555555556,
              "#d8576b"
             ],
             [
              0.6666666666666666,
              "#ed7953"
             ],
             [
              0.7777777777777778,
              "#fb9f3a"
             ],
             [
              0.8888888888888888,
              "#fdca26"
             ],
             [
              1,
              "#f0f921"
             ]
            ],
            "type": "histogram2d"
           }
          ],
          "histogram2dcontour": [
           {
            "colorbar": {
             "outlinewidth": 0,
             "ticks": ""
            },
            "colorscale": [
             [
              0,
              "#0d0887"
             ],
             [
              0.1111111111111111,
              "#46039f"
             ],
             [
              0.2222222222222222,
              "#7201a8"
             ],
             [
              0.3333333333333333,
              "#9c179e"
             ],
             [
              0.4444444444444444,
              "#bd3786"
             ],
             [
              0.5555555555555556,
              "#d8576b"
             ],
             [
              0.6666666666666666,
              "#ed7953"
             ],
             [
              0.7777777777777778,
              "#fb9f3a"
             ],
             [
              0.8888888888888888,
              "#fdca26"
             ],
             [
              1,
              "#f0f921"
             ]
            ],
            "type": "histogram2dcontour"
           }
          ],
          "mesh3d": [
           {
            "colorbar": {
             "outlinewidth": 0,
             "ticks": ""
            },
            "type": "mesh3d"
           }
          ],
          "parcoords": [
           {
            "line": {
             "colorbar": {
              "outlinewidth": 0,
              "ticks": ""
             }
            },
            "type": "parcoords"
           }
          ],
          "pie": [
           {
            "automargin": true,
            "type": "pie"
           }
          ],
          "scatter": [
           {
            "fillpattern": {
             "fillmode": "overlay",
             "size": 10,
             "solidity": 0.2
            },
            "type": "scatter"
           }
          ],
          "scatter3d": [
           {
            "line": {
             "colorbar": {
              "outlinewidth": 0,
              "ticks": ""
             }
            },
            "marker": {
             "colorbar": {
              "outlinewidth": 0,
              "ticks": ""
             }
            },
            "type": "scatter3d"
           }
          ],
          "scattercarpet": [
           {
            "marker": {
             "colorbar": {
              "outlinewidth": 0,
              "ticks": ""
             }
            },
            "type": "scattercarpet"
           }
          ],
          "scattergeo": [
           {
            "marker": {
             "colorbar": {
              "outlinewidth": 0,
              "ticks": ""
             }
            },
            "type": "scattergeo"
           }
          ],
          "scattergl": [
           {
            "marker": {
             "colorbar": {
              "outlinewidth": 0,
              "ticks": ""
             }
            },
            "type": "scattergl"
           }
          ],
          "scattermapbox": [
           {
            "marker": {
             "colorbar": {
              "outlinewidth": 0,
              "ticks": ""
             }
            },
            "type": "scattermapbox"
           }
          ],
          "scatterpolar": [
           {
            "marker": {
             "colorbar": {
              "outlinewidth": 0,
              "ticks": ""
             }
            },
            "type": "scatterpolar"
           }
          ],
          "scatterpolargl": [
           {
            "marker": {
             "colorbar": {
              "outlinewidth": 0,
              "ticks": ""
             }
            },
            "type": "scatterpolargl"
           }
          ],
          "scatterternary": [
           {
            "marker": {
             "colorbar": {
              "outlinewidth": 0,
              "ticks": ""
             }
            },
            "type": "scatterternary"
           }
          ],
          "surface": [
           {
            "colorbar": {
             "outlinewidth": 0,
             "ticks": ""
            },
            "colorscale": [
             [
              0,
              "#0d0887"
             ],
             [
              0.1111111111111111,
              "#46039f"
             ],
             [
              0.2222222222222222,
              "#7201a8"
             ],
             [
              0.3333333333333333,
              "#9c179e"
             ],
             [
              0.4444444444444444,
              "#bd3786"
             ],
             [
              0.5555555555555556,
              "#d8576b"
             ],
             [
              0.6666666666666666,
              "#ed7953"
             ],
             [
              0.7777777777777778,
              "#fb9f3a"
             ],
             [
              0.8888888888888888,
              "#fdca26"
             ],
             [
              1,
              "#f0f921"
             ]
            ],
            "type": "surface"
           }
          ],
          "table": [
           {
            "cells": {
             "fill": {
              "color": "#EBF0F8"
             },
             "line": {
              "color": "white"
             }
            },
            "header": {
             "fill": {
              "color": "#C8D4E3"
             },
             "line": {
              "color": "white"
             }
            },
            "type": "table"
           }
          ]
         },
         "layout": {
          "annotationdefaults": {
           "arrowcolor": "#2a3f5f",
           "arrowhead": 0,
           "arrowwidth": 1
          },
          "autotypenumbers": "strict",
          "coloraxis": {
           "colorbar": {
            "outlinewidth": 0,
            "ticks": ""
           }
          },
          "colorscale": {
           "diverging": [
            [
             0,
             "#8e0152"
            ],
            [
             0.1,
             "#c51b7d"
            ],
            [
             0.2,
             "#de77ae"
            ],
            [
             0.3,
             "#f1b6da"
            ],
            [
             0.4,
             "#fde0ef"
            ],
            [
             0.5,
             "#f7f7f7"
            ],
            [
             0.6,
             "#e6f5d0"
            ],
            [
             0.7,
             "#b8e186"
            ],
            [
             0.8,
             "#7fbc41"
            ],
            [
             0.9,
             "#4d9221"
            ],
            [
             1,
             "#276419"
            ]
           ],
           "sequential": [
            [
             0,
             "#0d0887"
            ],
            [
             0.1111111111111111,
             "#46039f"
            ],
            [
             0.2222222222222222,
             "#7201a8"
            ],
            [
             0.3333333333333333,
             "#9c179e"
            ],
            [
             0.4444444444444444,
             "#bd3786"
            ],
            [
             0.5555555555555556,
             "#d8576b"
            ],
            [
             0.6666666666666666,
             "#ed7953"
            ],
            [
             0.7777777777777778,
             "#fb9f3a"
            ],
            [
             0.8888888888888888,
             "#fdca26"
            ],
            [
             1,
             "#f0f921"
            ]
           ],
           "sequentialminus": [
            [
             0,
             "#0d0887"
            ],
            [
             0.1111111111111111,
             "#46039f"
            ],
            [
             0.2222222222222222,
             "#7201a8"
            ],
            [
             0.3333333333333333,
             "#9c179e"
            ],
            [
             0.4444444444444444,
             "#bd3786"
            ],
            [
             0.5555555555555556,
             "#d8576b"
            ],
            [
             0.6666666666666666,
             "#ed7953"
            ],
            [
             0.7777777777777778,
             "#fb9f3a"
            ],
            [
             0.8888888888888888,
             "#fdca26"
            ],
            [
             1,
             "#f0f921"
            ]
           ]
          },
          "colorway": [
           "#636efa",
           "#EF553B",
           "#00cc96",
           "#ab63fa",
           "#FFA15A",
           "#19d3f3",
           "#FF6692",
           "#B6E880",
           "#FF97FF",
           "#FECB52"
          ],
          "font": {
           "color": "#2a3f5f"
          },
          "geo": {
           "bgcolor": "white",
           "lakecolor": "white",
           "landcolor": "#E5ECF6",
           "showlakes": true,
           "showland": true,
           "subunitcolor": "white"
          },
          "hoverlabel": {
           "align": "left"
          },
          "hovermode": "closest",
          "mapbox": {
           "style": "light"
          },
          "paper_bgcolor": "white",
          "plot_bgcolor": "#E5ECF6",
          "polar": {
           "angularaxis": {
            "gridcolor": "white",
            "linecolor": "white",
            "ticks": ""
           },
           "bgcolor": "#E5ECF6",
           "radialaxis": {
            "gridcolor": "white",
            "linecolor": "white",
            "ticks": ""
           }
          },
          "scene": {
           "xaxis": {
            "backgroundcolor": "#E5ECF6",
            "gridcolor": "white",
            "gridwidth": 2,
            "linecolor": "white",
            "showbackground": true,
            "ticks": "",
            "zerolinecolor": "white"
           },
           "yaxis": {
            "backgroundcolor": "#E5ECF6",
            "gridcolor": "white",
            "gridwidth": 2,
            "linecolor": "white",
            "showbackground": true,
            "ticks": "",
            "zerolinecolor": "white"
           },
           "zaxis": {
            "backgroundcolor": "#E5ECF6",
            "gridcolor": "white",
            "gridwidth": 2,
            "linecolor": "white",
            "showbackground": true,
            "ticks": "",
            "zerolinecolor": "white"
           }
          },
          "shapedefaults": {
           "line": {
            "color": "#2a3f5f"
           }
          },
          "ternary": {
           "aaxis": {
            "gridcolor": "white",
            "linecolor": "white",
            "ticks": ""
           },
           "baxis": {
            "gridcolor": "white",
            "linecolor": "white",
            "ticks": ""
           },
           "bgcolor": "#E5ECF6",
           "caxis": {
            "gridcolor": "white",
            "linecolor": "white",
            "ticks": ""
           }
          },
          "title": {
           "x": 0.05
          },
          "xaxis": {
           "automargin": true,
           "gridcolor": "white",
           "linecolor": "white",
           "ticks": "",
           "title": {
            "standoff": 15
           },
           "zerolinecolor": "white",
           "zerolinewidth": 2
          },
          "yaxis": {
           "automargin": true,
           "gridcolor": "white",
           "linecolor": "white",
           "ticks": "",
           "title": {
            "standoff": 15
           },
           "zerolinecolor": "white",
           "zerolinewidth": 2
          }
         }
        },
        "violinmode": "overlay",
        "xaxis": {
         "anchor": "y",
         "domain": [
          0,
          1
         ],
         "tickangle": 0,
         "title": {
          "text": "latency(s)"
         }
        },
        "yaxis": {
         "anchor": "x",
         "categoryarray": [
          "gpt-4-1106-preview-v1.1",
          "gpt-4-1106-preview",
          "gpt-3.5-turbo-16k-0613",
          "gpt-4-0613"
         ],
         "categoryorder": "array",
         "domain": [
          0,
          1
         ],
         "title": {
          "text": "model"
         }
        }
       }
      }
     },
     "metadata": {},
     "output_type": "display_data"
    }
   ],
   "source": [
    "latency_metrics = [\"time_taken\"]\n",
    "plot_latency_metrics(dfs, table_names, latency_metrics)"
   ]
  },
  {
   "cell_type": "code",
   "execution_count": 18,
   "metadata": {},
   "outputs": [],
   "source": [
    "def plot_latency_vs_metric(dfs, table_names, metric_cols):\n",
    "    # Extract latency and correctness metrics\n",
    "    latency_df = table_metrics(dfs, table_names, [\"time_taken\"])\n",
    "    for metric in metric_cols:\n",
    "        metric_df = table_metrics(dfs, table_names, [metric])\n",
    "\n",
    "        # Add an identifier for each evaluation\n",
    "        latency_df[\"id\"] = range(len(latency_df))\n",
    "        metric_df[\"id\"] = range(len(metric_df))\n",
    "\n",
    "        # Merge the two dataframes on the 'model' and 'id' columns\n",
    "        metric_suffix = f'_{metric.split(\"_\")[1]}'\n",
    "        merged_df = pd.merge(\n",
    "            latency_df,\n",
    "            metric_df,\n",
    "            on=[\"model\", \"id\"],\n",
    "            suffixes=(\"_latency\", metric_suffix),\n",
    "        )\n",
    "\n",
    "        metric_name = \" \".join(metric_df.iloc[0][\"metric\"].split(\"_\")).title()\n",
    "        # Create the violin plot\n",
    "        fig = px.box(\n",
    "            merged_df,\n",
    "            y=\"score_latency\",\n",
    "            x=f\"score{metric_suffix}\",\n",
    "            color=\"model\",\n",
    "            labels={\n",
    "                \"score_latency\": \"Latency\",\n",
    "                f\"score{metric_suffix}\": metric_name,\n",
    "            },\n",
    "            orientation=\"v\",\n",
    "        )\n",
    "        wandb_plot = wandb.Plotly(fig)\n",
    "        run.log({f\"{metric_name} vs Latency\": wandb_plot})\n",
    "        # Show the plot\n",
    "        fig.show()"
   ]
  },
  {
   "cell_type": "code",
   "execution_count": 19,
   "metadata": {},
   "outputs": [
    {
     "data": {
      "application/vnd.plotly.v1+json": {
       "config": {
        "plotlyServerURL": "https://plot.ly"
       },
       "data": [
        {
         "alignmentgroup": "True",
         "hovertemplate": "model=gpt-4-0613<br>Answer Correctness=%{x}<br>Latency=%{y}<extra></extra>",
         "legendgroup": "gpt-4-0613",
         "marker": {
          "color": "#636efa"
         },
         "name": "gpt-4-0613",
         "notched": false,
         "offsetgroup": "gpt-4-0613",
         "orientation": "v",
         "showlegend": true,
         "type": "box",
         "x": [
          1,
          3,
          2,
          2,
          3,
          3,
          1,
          2,
          1,
          2,
          3,
          1,
          2,
          2,
          1,
          1,
          3,
          2,
          1,
          3,
          1,
          3,
          2,
          2,
          2,
          2,
          2,
          1,
          2,
          3,
          3,
          3,
          3,
          2,
          2,
          2,
          2,
          1,
          3,
          2,
          2,
          3,
          1,
          2,
          3,
          1,
          2,
          2,
          2,
          2,
          3,
          2,
          2,
          2,
          2,
          2,
          3,
          2,
          2,
          1,
          2,
          3,
          2,
          1,
          2,
          3,
          2,
          2,
          2,
          2,
          3,
          3,
          2,
          3,
          2,
          2,
          1,
          2,
          2,
          2,
          1,
          2,
          2,
          2,
          3,
          1,
          3,
          2,
          1,
          2,
          2,
          3,
          3,
          3,
          2,
          3,
          3,
          3
         ],
         "x0": " ",
         "xaxis": "x",
         "y": [
          28.152315,
          30.359424,
          58.848659,
          36.543935,
          28.047547,
          16.945823,
          39.566952,
          37.524447,
          19.903518,
          15.667796,
          30.254061,
          16.975495,
          41.899707,
          12.836614,
          22.199252,
          31.349249,
          28.875526999999998,
          24.521073,
          21.071664,
          28.994839,
          24.727966,
          28.16456,
          20.21587,
          9.96609,
          39.801293,
          13.864615,
          16.574099,
          25.37481,
          25.087715,
          5.111558,
          26.44654,
          22.426275,
          3.715122,
          6.079103,
          30.540628,
          27.598565999999998,
          35.923987,
          29.315022,
          29.050705,
          29.347861,
          13.057112,
          33.525941,
          3.265454,
          25.169479,
          21.938048,
          30.55557,
          16.959611,
          26.359252,
          24.444405,
          19.62221,
          13.069624,
          19.498214,
          24.135549,
          17.223309,
          10.319436,
          22.04976,
          27.837273,
          32.193718,
          50.648086,
          7.771974,
          28.086161,
          32.976776,
          17.843725,
          35.510686,
          20.472933,
          30.957346,
          9.999337,
          10.565785,
          23.23954,
          29.876154,
          11.742121,
          22.489228,
          40.060867,
          31.871881,
          7.1789439999999995,
          25.095787,
          5.030914,
          38.038881,
          32.159635,
          18.253493,
          3.4088950000000002,
          36.285384,
          27.378907,
          48.010722,
          32.808309,
          9.02952,
          8.714885,
          34.58437,
          6.331816,
          8.66712,
          8.333901000000001,
          21.261877,
          33.572058,
          8.928885,
          16.052384,
          50.61965,
          3.323417,
          26.154936
         ],
         "y0": " ",
         "yaxis": "y"
        },
        {
         "alignmentgroup": "True",
         "hovertemplate": "model=gpt-3.5-turbo-16k-0613<br>Answer Correctness=%{x}<br>Latency=%{y}<extra></extra>",
         "legendgroup": "gpt-3.5-turbo-16k-0613",
         "marker": {
          "color": "#EF553B"
         },
         "name": "gpt-3.5-turbo-16k-0613",
         "notched": false,
         "offsetgroup": "gpt-3.5-turbo-16k-0613",
         "orientation": "v",
         "showlegend": true,
         "type": "box",
         "x": [
          3,
          2,
          2,
          2,
          3,
          2,
          2,
          2,
          1,
          2,
          1,
          1,
          2,
          1,
          2,
          2,
          2,
          1,
          1,
          1,
          1,
          3,
          1,
          2,
          2,
          1,
          2,
          1,
          1,
          3,
          1,
          3,
          2,
          1,
          1,
          1,
          2,
          2,
          1,
          2,
          3,
          3,
          1,
          1,
          3,
          1,
          2,
          2,
          1,
          1,
          3,
          3,
          2,
          3,
          3,
          3,
          1,
          3,
          2,
          3,
          2,
          2,
          3,
          2,
          2,
          3,
          2,
          1,
          3,
          1,
          3,
          3,
          2,
          2,
          1,
          1,
          1,
          2,
          2,
          2,
          3,
          1,
          1,
          1,
          3,
          1,
          1,
          2,
          3,
          2,
          2,
          1,
          1,
          1,
          2,
          2,
          3,
          2
         ],
         "x0": " ",
         "xaxis": "x",
         "y": [
          7.009734,
          8.265244,
          14.49823,
          9.10049,
          10.963081,
          9.974128,
          19.062431,
          8.160789,
          13.448808,
          16.515169,
          9.923283,
          9.212508,
          8.101334,
          9.862659,
          6.782274,
          16.126599,
          9.402667,
          8.1063,
          7.462433,
          11.743975,
          6.496573,
          11.280875,
          15.727661,
          4.707159,
          11.812746,
          15.186524,
          8.044224,
          10.871137,
          12.755668,
          2.804253,
          8.407321,
          11.763985,
          4.555114,
          9.449374,
          15.853339,
          8.550969,
          10.042814,
          9.32191,
          11.987157,
          8.610813,
          7.53632,
          11.654751,
          16.587958,
          9.107869,
          7.696529,
          13.154779,
          11.813177,
          6.409289,
          9.262885,
          6.849839,
          7.929544,
          6.385092,
          19.65049,
          4.238372,
          3.3113960000000002,
          7.027377,
          5.769791,
          14.1973,
          12.160655,
          6.235773,
          9.745919,
          10.003116,
          17.667432,
          13.859286,
          12.219846,
          11.097512,
          3.9714039999999997,
          6.148497,
          14.715483,
          9.528871,
          4.404088,
          6.460036,
          10.160476,
          9.045183,
          3.652905,
          8.268051,
          4.985406,
          20.145004,
          14.746363,
          3.724624,
          6.806934,
          5.22717,
          13.321524,
          8.910095,
          10.05166,
          5.706349,
          3.368578,
          11.425485,
          3.48242,
          7.795291,
          3.7351710000000002,
          5.25458,
          9.776864,
          3.223493,
          11.535051,
          13.104307,
          3.473027,
          10.268056
         ],
         "y0": " ",
         "yaxis": "y"
        },
        {
         "alignmentgroup": "True",
         "hovertemplate": "model=gpt-4-1106-preview<br>Answer Correctness=%{x}<br>Latency=%{y}<extra></extra>",
         "legendgroup": "gpt-4-1106-preview",
         "marker": {
          "color": "#00cc96"
         },
         "name": "gpt-4-1106-preview",
         "notched": false,
         "offsetgroup": "gpt-4-1106-preview",
         "orientation": "v",
         "showlegend": true,
         "type": "box",
         "x": [
          2,
          3,
          3,
          3,
          3,
          3,
          3,
          2,
          3,
          2,
          3,
          3,
          2,
          3,
          1,
          3,
          3,
          3,
          2,
          2,
          3,
          3,
          3,
          3,
          2,
          3,
          3,
          3,
          3,
          3,
          2,
          3,
          3,
          2,
          2,
          2,
          2,
          3,
          3,
          2,
          3,
          3,
          1,
          2,
          2,
          2,
          2,
          3,
          2,
          3,
          3,
          3,
          2,
          3,
          3,
          3,
          3,
          3,
          3,
          3,
          3,
          3,
          3,
          2,
          3,
          2,
          2,
          2,
          2,
          3,
          3,
          3,
          1,
          3,
          3,
          3,
          1,
          1,
          3,
          3,
          3,
          3,
          2,
          2,
          3,
          1,
          3,
          3,
          3,
          3,
          3,
          3,
          2,
          3,
          3,
          2,
          3,
          3
         ],
         "x0": " ",
         "xaxis": "x",
         "y": [
          109.34122,
          31.340073,
          112.697802,
          39.21317,
          47.878506,
          26.710627,
          117.207257,
          37.493357,
          33.159813,
          35.805212,
          28.849173,
          29.635437,
          99.606823,
          28.623275,
          43.140715,
          51.984318,
          43.618794,
          51.320817,
          49.722861,
          30.537975,
          26.478059,
          32.305217,
          37.208062,
          23.79305,
          36.2782,
          35.345281,
          33.226754,
          36.470893,
          24.07443,
          19.856115,
          40.024836,
          42.122792,
          51.778234,
          41.374277,
          38.401192,
          45.976611,
          40.899973,
          31.366776,
          37.265091,
          53.013692,
          18.278562,
          25.895748,
          19.186688,
          24.108163,
          44.323186,
          45.480343,
          196.854679,
          104.289061,
          35.988037,
          33.081357,
          85.866218,
          51.197766,
          199.886828,
          19.724353999999998,
          9.179582,
          30.639269,
          37.964819,
          60.358826,
          56.016512,
          22.45171,
          32.936537,
          49.386778,
          43.634272,
          103.947102,
          44.063994,
          49.248283,
          25.228458,
          104.323593,
          35.738346,
          47.077743,
          23.437374,
          58.880296,
          191.879911,
          40.011125,
          12.824692,
          28.21202,
          38.62641,
          47.824601,
          50.658208,
          22.118379,
          36.382386,
          48.932371,
          110.711126,
          55.137749,
          118.771214,
          20.802652,
          9.041039,
          46.17602,
          9.672946,
          31.293644,
          11.518508,
          45.279541,
          177.988134,
          25.254183,
          109.401839,
          55.44177,
          9.547273,
          41.312166
         ],
         "y0": " ",
         "yaxis": "y"
        },
        {
         "alignmentgroup": "True",
         "hovertemplate": "model=gpt-4-1106-preview-v1.1<br>Answer Correctness=%{x}<br>Latency=%{y}<extra></extra>",
         "legendgroup": "gpt-4-1106-preview-v1.1",
         "marker": {
          "color": "#ab63fa"
         },
         "name": "gpt-4-1106-preview-v1.1",
         "notched": false,
         "offsetgroup": "gpt-4-1106-preview-v1.1",
         "orientation": "v",
         "showlegend": true,
         "type": "box",
         "x": [
          2,
          3,
          3,
          3,
          3,
          3,
          2,
          2,
          3,
          2,
          3,
          1,
          2,
          3,
          1,
          3,
          3,
          3,
          3,
          3,
          1,
          3,
          3,
          3,
          2,
          3,
          3,
          3,
          1,
          3,
          3,
          2,
          3,
          2,
          3,
          3,
          2,
          3,
          3,
          3,
          3,
          3,
          1,
          2,
          3,
          2,
          3,
          3,
          3,
          3,
          3,
          3,
          3,
          3,
          3,
          3,
          3,
          3,
          2,
          3,
          3,
          3,
          2,
          3,
          2,
          3,
          3,
          2,
          2,
          3,
          3,
          3,
          3,
          3,
          3,
          2,
          1,
          3,
          3,
          3,
          2,
          3,
          3,
          2,
          3,
          1,
          3,
          3,
          3,
          3,
          2,
          3,
          3,
          3,
          2,
          2,
          3,
          3
         ],
         "x0": " ",
         "xaxis": "x",
         "y": [
          78.045797,
          42.697373999999996,
          105.91174,
          68.355766,
          101.62027,
          61.727823,
          92.536278,
          102.317183,
          47.605336,
          39.581598,
          81.915424,
          89.256048,
          112.029508,
          85.002865,
          85.65521,
          74.758651,
          51.079786,
          79.867034,
          77.502774,
          48.855054,
          62.366611,
          95.918485,
          68.629155,
          51.035205,
          72.764793,
          44.981381999999996,
          93.405568,
          85.356644,
          71.587287,
          52.379577,
          68.473432,
          48.961168,
          42.884051,
          47.835904,
          77.357709,
          71.780149,
          75.775638,
          46.877572,
          61.045384,
          68.849305,
          55.469622,
          71.094993,
          33.106178,
          59.317765,
          72.437207,
          80.500189,
          79.41869,
          83.683793,
          43.153635,
          58.648866,
          53.563604,
          104.869183,
          93.059426,
          58.562871,
          40.153557,
          51.052864,
          75.235385,
          93.213219,
          102.836324,
          47.197462,
          67.999961,
          87.933342,
          64.177505,
          88.252249,
          68.490914,
          70.563267,
          60.435032,
          80.123994,
          67.578381,
          54.822172,
          68.548019,
          83.54557199999999,
          59.407227,
          51.656701,
          45.455987,
          57.995745,
          42.177724,
          96.139263,
          72.63096,
          52.676766,
          88.273305,
          87.89356,
          58.080817,
          147.34863,
          51.584862,
          55.97073,
          61.670499,
          87.089203,
          44.819531,
          87.881914,
          53.906858,
          66.861515,
          63.31523,
          51.650295,
          70.056944,
          84.713787,
          45.023471,
          91.931354
         ],
         "y0": " ",
         "yaxis": "y"
        }
       ],
       "layout": {
        "boxmode": "group",
        "legend": {
         "title": {
          "text": "model"
         },
         "tracegroupgap": 0
        },
        "margin": {
         "t": 60
        },
        "template": {
         "data": {
          "bar": [
           {
            "error_x": {
             "color": "#2a3f5f"
            },
            "error_y": {
             "color": "#2a3f5f"
            },
            "marker": {
             "line": {
              "color": "#E5ECF6",
              "width": 0.5
             },
             "pattern": {
              "fillmode": "overlay",
              "size": 10,
              "solidity": 0.2
             }
            },
            "type": "bar"
           }
          ],
          "barpolar": [
           {
            "marker": {
             "line": {
              "color": "#E5ECF6",
              "width": 0.5
             },
             "pattern": {
              "fillmode": "overlay",
              "size": 10,
              "solidity": 0.2
             }
            },
            "type": "barpolar"
           }
          ],
          "carpet": [
           {
            "aaxis": {
             "endlinecolor": "#2a3f5f",
             "gridcolor": "white",
             "linecolor": "white",
             "minorgridcolor": "white",
             "startlinecolor": "#2a3f5f"
            },
            "baxis": {
             "endlinecolor": "#2a3f5f",
             "gridcolor": "white",
             "linecolor": "white",
             "minorgridcolor": "white",
             "startlinecolor": "#2a3f5f"
            },
            "type": "carpet"
           }
          ],
          "choropleth": [
           {
            "colorbar": {
             "outlinewidth": 0,
             "ticks": ""
            },
            "type": "choropleth"
           }
          ],
          "contour": [
           {
            "colorbar": {
             "outlinewidth": 0,
             "ticks": ""
            },
            "colorscale": [
             [
              0,
              "#0d0887"
             ],
             [
              0.1111111111111111,
              "#46039f"
             ],
             [
              0.2222222222222222,
              "#7201a8"
             ],
             [
              0.3333333333333333,
              "#9c179e"
             ],
             [
              0.4444444444444444,
              "#bd3786"
             ],
             [
              0.5555555555555556,
              "#d8576b"
             ],
             [
              0.6666666666666666,
              "#ed7953"
             ],
             [
              0.7777777777777778,
              "#fb9f3a"
             ],
             [
              0.8888888888888888,
              "#fdca26"
             ],
             [
              1,
              "#f0f921"
             ]
            ],
            "type": "contour"
           }
          ],
          "contourcarpet": [
           {
            "colorbar": {
             "outlinewidth": 0,
             "ticks": ""
            },
            "type": "contourcarpet"
           }
          ],
          "heatmap": [
           {
            "colorbar": {
             "outlinewidth": 0,
             "ticks": ""
            },
            "colorscale": [
             [
              0,
              "#0d0887"
             ],
             [
              0.1111111111111111,
              "#46039f"
             ],
             [
              0.2222222222222222,
              "#7201a8"
             ],
             [
              0.3333333333333333,
              "#9c179e"
             ],
             [
              0.4444444444444444,
              "#bd3786"
             ],
             [
              0.5555555555555556,
              "#d8576b"
             ],
             [
              0.6666666666666666,
              "#ed7953"
             ],
             [
              0.7777777777777778,
              "#fb9f3a"
             ],
             [
              0.8888888888888888,
              "#fdca26"
             ],
             [
              1,
              "#f0f921"
             ]
            ],
            "type": "heatmap"
           }
          ],
          "heatmapgl": [
           {
            "colorbar": {
             "outlinewidth": 0,
             "ticks": ""
            },
            "colorscale": [
             [
              0,
              "#0d0887"
             ],
             [
              0.1111111111111111,
              "#46039f"
             ],
             [
              0.2222222222222222,
              "#7201a8"
             ],
             [
              0.3333333333333333,
              "#9c179e"
             ],
             [
              0.4444444444444444,
              "#bd3786"
             ],
             [
              0.5555555555555556,
              "#d8576b"
             ],
             [
              0.6666666666666666,
              "#ed7953"
             ],
             [
              0.7777777777777778,
              "#fb9f3a"
             ],
             [
              0.8888888888888888,
              "#fdca26"
             ],
             [
              1,
              "#f0f921"
             ]
            ],
            "type": "heatmapgl"
           }
          ],
          "histogram": [
           {
            "marker": {
             "pattern": {
              "fillmode": "overlay",
              "size": 10,
              "solidity": 0.2
             }
            },
            "type": "histogram"
           }
          ],
          "histogram2d": [
           {
            "colorbar": {
             "outlinewidth": 0,
             "ticks": ""
            },
            "colorscale": [
             [
              0,
              "#0d0887"
             ],
             [
              0.1111111111111111,
              "#46039f"
             ],
             [
              0.2222222222222222,
              "#7201a8"
             ],
             [
              0.3333333333333333,
              "#9c179e"
             ],
             [
              0.4444444444444444,
              "#bd3786"
             ],
             [
              0.5555555555555556,
              "#d8576b"
             ],
             [
              0.6666666666666666,
              "#ed7953"
             ],
             [
              0.7777777777777778,
              "#fb9f3a"
             ],
             [
              0.8888888888888888,
              "#fdca26"
             ],
             [
              1,
              "#f0f921"
             ]
            ],
            "type": "histogram2d"
           }
          ],
          "histogram2dcontour": [
           {
            "colorbar": {
             "outlinewidth": 0,
             "ticks": ""
            },
            "colorscale": [
             [
              0,
              "#0d0887"
             ],
             [
              0.1111111111111111,
              "#46039f"
             ],
             [
              0.2222222222222222,
              "#7201a8"
             ],
             [
              0.3333333333333333,
              "#9c179e"
             ],
             [
              0.4444444444444444,
              "#bd3786"
             ],
             [
              0.5555555555555556,
              "#d8576b"
             ],
             [
              0.6666666666666666,
              "#ed7953"
             ],
             [
              0.7777777777777778,
              "#fb9f3a"
             ],
             [
              0.8888888888888888,
              "#fdca26"
             ],
             [
              1,
              "#f0f921"
             ]
            ],
            "type": "histogram2dcontour"
           }
          ],
          "mesh3d": [
           {
            "colorbar": {
             "outlinewidth": 0,
             "ticks": ""
            },
            "type": "mesh3d"
           }
          ],
          "parcoords": [
           {
            "line": {
             "colorbar": {
              "outlinewidth": 0,
              "ticks": ""
             }
            },
            "type": "parcoords"
           }
          ],
          "pie": [
           {
            "automargin": true,
            "type": "pie"
           }
          ],
          "scatter": [
           {
            "fillpattern": {
             "fillmode": "overlay",
             "size": 10,
             "solidity": 0.2
            },
            "type": "scatter"
           }
          ],
          "scatter3d": [
           {
            "line": {
             "colorbar": {
              "outlinewidth": 0,
              "ticks": ""
             }
            },
            "marker": {
             "colorbar": {
              "outlinewidth": 0,
              "ticks": ""
             }
            },
            "type": "scatter3d"
           }
          ],
          "scattercarpet": [
           {
            "marker": {
             "colorbar": {
              "outlinewidth": 0,
              "ticks": ""
             }
            },
            "type": "scattercarpet"
           }
          ],
          "scattergeo": [
           {
            "marker": {
             "colorbar": {
              "outlinewidth": 0,
              "ticks": ""
             }
            },
            "type": "scattergeo"
           }
          ],
          "scattergl": [
           {
            "marker": {
             "colorbar": {
              "outlinewidth": 0,
              "ticks": ""
             }
            },
            "type": "scattergl"
           }
          ],
          "scattermapbox": [
           {
            "marker": {
             "colorbar": {
              "outlinewidth": 0,
              "ticks": ""
             }
            },
            "type": "scattermapbox"
           }
          ],
          "scatterpolar": [
           {
            "marker": {
             "colorbar": {
              "outlinewidth": 0,
              "ticks": ""
             }
            },
            "type": "scatterpolar"
           }
          ],
          "scatterpolargl": [
           {
            "marker": {
             "colorbar": {
              "outlinewidth": 0,
              "ticks": ""
             }
            },
            "type": "scatterpolargl"
           }
          ],
          "scatterternary": [
           {
            "marker": {
             "colorbar": {
              "outlinewidth": 0,
              "ticks": ""
             }
            },
            "type": "scatterternary"
           }
          ],
          "surface": [
           {
            "colorbar": {
             "outlinewidth": 0,
             "ticks": ""
            },
            "colorscale": [
             [
              0,
              "#0d0887"
             ],
             [
              0.1111111111111111,
              "#46039f"
             ],
             [
              0.2222222222222222,
              "#7201a8"
             ],
             [
              0.3333333333333333,
              "#9c179e"
             ],
             [
              0.4444444444444444,
              "#bd3786"
             ],
             [
              0.5555555555555556,
              "#d8576b"
             ],
             [
              0.6666666666666666,
              "#ed7953"
             ],
             [
              0.7777777777777778,
              "#fb9f3a"
             ],
             [
              0.8888888888888888,
              "#fdca26"
             ],
             [
              1,
              "#f0f921"
             ]
            ],
            "type": "surface"
           }
          ],
          "table": [
           {
            "cells": {
             "fill": {
              "color": "#EBF0F8"
             },
             "line": {
              "color": "white"
             }
            },
            "header": {
             "fill": {
              "color": "#C8D4E3"
             },
             "line": {
              "color": "white"
             }
            },
            "type": "table"
           }
          ]
         },
         "layout": {
          "annotationdefaults": {
           "arrowcolor": "#2a3f5f",
           "arrowhead": 0,
           "arrowwidth": 1
          },
          "autotypenumbers": "strict",
          "coloraxis": {
           "colorbar": {
            "outlinewidth": 0,
            "ticks": ""
           }
          },
          "colorscale": {
           "diverging": [
            [
             0,
             "#8e0152"
            ],
            [
             0.1,
             "#c51b7d"
            ],
            [
             0.2,
             "#de77ae"
            ],
            [
             0.3,
             "#f1b6da"
            ],
            [
             0.4,
             "#fde0ef"
            ],
            [
             0.5,
             "#f7f7f7"
            ],
            [
             0.6,
             "#e6f5d0"
            ],
            [
             0.7,
             "#b8e186"
            ],
            [
             0.8,
             "#7fbc41"
            ],
            [
             0.9,
             "#4d9221"
            ],
            [
             1,
             "#276419"
            ]
           ],
           "sequential": [
            [
             0,
             "#0d0887"
            ],
            [
             0.1111111111111111,
             "#46039f"
            ],
            [
             0.2222222222222222,
             "#7201a8"
            ],
            [
             0.3333333333333333,
             "#9c179e"
            ],
            [
             0.4444444444444444,
             "#bd3786"
            ],
            [
             0.5555555555555556,
             "#d8576b"
            ],
            [
             0.6666666666666666,
             "#ed7953"
            ],
            [
             0.7777777777777778,
             "#fb9f3a"
            ],
            [
             0.8888888888888888,
             "#fdca26"
            ],
            [
             1,
             "#f0f921"
            ]
           ],
           "sequentialminus": [
            [
             0,
             "#0d0887"
            ],
            [
             0.1111111111111111,
             "#46039f"
            ],
            [
             0.2222222222222222,
             "#7201a8"
            ],
            [
             0.3333333333333333,
             "#9c179e"
            ],
            [
             0.4444444444444444,
             "#bd3786"
            ],
            [
             0.5555555555555556,
             "#d8576b"
            ],
            [
             0.6666666666666666,
             "#ed7953"
            ],
            [
             0.7777777777777778,
             "#fb9f3a"
            ],
            [
             0.8888888888888888,
             "#fdca26"
            ],
            [
             1,
             "#f0f921"
            ]
           ]
          },
          "colorway": [
           "#636efa",
           "#EF553B",
           "#00cc96",
           "#ab63fa",
           "#FFA15A",
           "#19d3f3",
           "#FF6692",
           "#B6E880",
           "#FF97FF",
           "#FECB52"
          ],
          "font": {
           "color": "#2a3f5f"
          },
          "geo": {
           "bgcolor": "white",
           "lakecolor": "white",
           "landcolor": "#E5ECF6",
           "showlakes": true,
           "showland": true,
           "subunitcolor": "white"
          },
          "hoverlabel": {
           "align": "left"
          },
          "hovermode": "closest",
          "mapbox": {
           "style": "light"
          },
          "paper_bgcolor": "white",
          "plot_bgcolor": "#E5ECF6",
          "polar": {
           "angularaxis": {
            "gridcolor": "white",
            "linecolor": "white",
            "ticks": ""
           },
           "bgcolor": "#E5ECF6",
           "radialaxis": {
            "gridcolor": "white",
            "linecolor": "white",
            "ticks": ""
           }
          },
          "scene": {
           "xaxis": {
            "backgroundcolor": "#E5ECF6",
            "gridcolor": "white",
            "gridwidth": 2,
            "linecolor": "white",
            "showbackground": true,
            "ticks": "",
            "zerolinecolor": "white"
           },
           "yaxis": {
            "backgroundcolor": "#E5ECF6",
            "gridcolor": "white",
            "gridwidth": 2,
            "linecolor": "white",
            "showbackground": true,
            "ticks": "",
            "zerolinecolor": "white"
           },
           "zaxis": {
            "backgroundcolor": "#E5ECF6",
            "gridcolor": "white",
            "gridwidth": 2,
            "linecolor": "white",
            "showbackground": true,
            "ticks": "",
            "zerolinecolor": "white"
           }
          },
          "shapedefaults": {
           "line": {
            "color": "#2a3f5f"
           }
          },
          "ternary": {
           "aaxis": {
            "gridcolor": "white",
            "linecolor": "white",
            "ticks": ""
           },
           "baxis": {
            "gridcolor": "white",
            "linecolor": "white",
            "ticks": ""
           },
           "bgcolor": "#E5ECF6",
           "caxis": {
            "gridcolor": "white",
            "linecolor": "white",
            "ticks": ""
           }
          },
          "title": {
           "x": 0.05
          },
          "xaxis": {
           "automargin": true,
           "gridcolor": "white",
           "linecolor": "white",
           "ticks": "",
           "title": {
            "standoff": 15
           },
           "zerolinecolor": "white",
           "zerolinewidth": 2
          },
          "yaxis": {
           "automargin": true,
           "gridcolor": "white",
           "linecolor": "white",
           "ticks": "",
           "title": {
            "standoff": 15
           },
           "zerolinecolor": "white",
           "zerolinewidth": 2
          }
         }
        },
        "xaxis": {
         "anchor": "y",
         "domain": [
          0,
          1
         ],
         "title": {
          "text": "Answer Correctness"
         }
        },
        "yaxis": {
         "anchor": "x",
         "domain": [
          0,
          1
         ],
         "title": {
          "text": "Latency"
         }
        }
       }
      }
     },
     "metadata": {},
     "output_type": "display_data"
    },
    {
     "data": {
      "application/vnd.plotly.v1+json": {
       "config": {
        "plotlyServerURL": "https://plot.ly"
       },
       "data": [
        {
         "alignmentgroup": "True",
         "hovertemplate": "model=gpt-4-0613<br>Answer Faithfulness=%{x}<br>Latency=%{y}<extra></extra>",
         "legendgroup": "gpt-4-0613",
         "marker": {
          "color": "#636efa"
         },
         "name": "gpt-4-0613",
         "notched": false,
         "offsetgroup": "gpt-4-0613",
         "orientation": "v",
         "showlegend": true,
         "type": "box",
         "x": [
          1,
          3,
          1,
          1,
          3,
          3,
          1,
          3,
          1,
          2,
          2,
          3,
          3,
          3,
          1,
          1,
          3,
          1,
          1,
          3,
          1,
          1,
          3,
          1,
          3,
          3,
          3,
          1,
          1,
          1,
          3,
          1,
          3,
          1,
          1,
          3,
          1,
          3,
          1,
          1,
          3,
          3,
          3,
          3,
          3,
          1,
          3,
          3,
          1,
          1,
          3,
          3,
          1,
          3,
          3,
          3,
          3,
          1,
          3,
          3,
          3,
          3,
          3,
          1,
          2,
          3,
          3,
          1,
          3,
          3,
          3,
          3,
          1,
          3,
          1,
          1,
          3,
          3,
          3,
          3,
          3,
          1,
          2,
          1,
          3,
          3,
          3,
          3,
          1,
          3,
          3,
          1,
          3,
          2,
          3,
          3,
          3,
          3
         ],
         "x0": " ",
         "xaxis": "x",
         "y": [
          28.152315,
          30.359424,
          58.848659,
          36.543935,
          28.047547,
          16.945823,
          39.566952,
          37.524447,
          19.903518,
          15.667796,
          30.254061,
          16.975495,
          41.899707,
          12.836614,
          22.199252,
          31.349249,
          28.875526999999998,
          24.521073,
          21.071664,
          28.994839,
          24.727966,
          28.16456,
          20.21587,
          9.96609,
          39.801293,
          13.864615,
          16.574099,
          25.37481,
          25.087715,
          5.111558,
          26.44654,
          22.426275,
          3.715122,
          6.079103,
          30.540628,
          27.598565999999998,
          35.923987,
          29.315022,
          29.050705,
          29.347861,
          13.057112,
          33.525941,
          3.265454,
          25.169479,
          21.938048,
          30.55557,
          16.959611,
          26.359252,
          24.444405,
          19.62221,
          13.069624,
          19.498214,
          24.135549,
          17.223309,
          10.319436,
          22.04976,
          27.837273,
          32.193718,
          50.648086,
          7.771974,
          28.086161,
          32.976776,
          17.843725,
          35.510686,
          20.472933,
          30.957346,
          9.999337,
          10.565785,
          23.23954,
          29.876154,
          11.742121,
          22.489228,
          40.060867,
          31.871881,
          7.1789439999999995,
          25.095787,
          5.030914,
          38.038881,
          32.159635,
          18.253493,
          3.4088950000000002,
          36.285384,
          27.378907,
          48.010722,
          32.808309,
          9.02952,
          8.714885,
          34.58437,
          6.331816,
          8.66712,
          8.333901000000001,
          21.261877,
          33.572058,
          8.928885,
          16.052384,
          50.61965,
          3.323417,
          26.154936
         ],
         "y0": " ",
         "yaxis": "y"
        },
        {
         "alignmentgroup": "True",
         "hovertemplate": "model=gpt-3.5-turbo-16k-0613<br>Answer Faithfulness=%{x}<br>Latency=%{y}<extra></extra>",
         "legendgroup": "gpt-3.5-turbo-16k-0613",
         "marker": {
          "color": "#EF553B"
         },
         "name": "gpt-3.5-turbo-16k-0613",
         "notched": false,
         "offsetgroup": "gpt-3.5-turbo-16k-0613",
         "orientation": "v",
         "showlegend": true,
         "type": "box",
         "x": [
          1,
          1,
          1,
          1,
          3,
          1,
          3,
          3,
          1,
          1,
          1,
          3,
          3,
          2,
          1,
          2,
          3,
          2,
          1,
          1,
          1,
          1,
          3,
          1,
          3,
          1,
          3,
          1,
          1,
          1,
          1,
          1,
          1,
          1,
          1,
          1,
          1,
          2,
          1,
          1,
          3,
          3,
          1,
          1,
          3,
          1,
          1,
          2,
          1,
          1,
          3,
          3,
          1,
          2,
          3,
          3,
          1,
          1,
          1,
          3,
          1,
          3,
          2,
          1,
          1,
          1,
          3,
          1,
          1,
          1,
          3,
          3,
          1,
          3,
          1,
          1,
          1,
          3,
          3,
          3,
          1,
          1,
          1,
          1,
          3,
          1,
          1,
          3,
          1,
          1,
          3,
          1,
          3,
          1,
          2,
          2,
          3,
          3
         ],
         "x0": " ",
         "xaxis": "x",
         "y": [
          7.009734,
          8.265244,
          14.49823,
          9.10049,
          10.963081,
          9.974128,
          19.062431,
          8.160789,
          13.448808,
          16.515169,
          9.923283,
          9.212508,
          8.101334,
          9.862659,
          6.782274,
          16.126599,
          9.402667,
          8.1063,
          7.462433,
          11.743975,
          6.496573,
          11.280875,
          15.727661,
          4.707159,
          11.812746,
          15.186524,
          8.044224,
          10.871137,
          12.755668,
          2.804253,
          8.407321,
          11.763985,
          4.555114,
          9.449374,
          15.853339,
          8.550969,
          10.042814,
          9.32191,
          11.987157,
          8.610813,
          7.53632,
          11.654751,
          16.587958,
          9.107869,
          7.696529,
          13.154779,
          11.813177,
          6.409289,
          9.262885,
          6.849839,
          7.929544,
          6.385092,
          19.65049,
          4.238372,
          3.3113960000000002,
          7.027377,
          5.769791,
          14.1973,
          12.160655,
          6.235773,
          9.745919,
          10.003116,
          17.667432,
          13.859286,
          12.219846,
          11.097512,
          3.9714039999999997,
          6.148497,
          14.715483,
          9.528871,
          4.404088,
          6.460036,
          10.160476,
          9.045183,
          3.652905,
          8.268051,
          4.985406,
          20.145004,
          14.746363,
          3.724624,
          6.806934,
          5.22717,
          13.321524,
          8.910095,
          10.05166,
          5.706349,
          3.368578,
          11.425485,
          3.48242,
          7.795291,
          3.7351710000000002,
          5.25458,
          9.776864,
          3.223493,
          11.535051,
          13.104307,
          3.473027,
          10.268056
         ],
         "y0": " ",
         "yaxis": "y"
        },
        {
         "alignmentgroup": "True",
         "hovertemplate": "model=gpt-4-1106-preview<br>Answer Faithfulness=%{x}<br>Latency=%{y}<extra></extra>",
         "legendgroup": "gpt-4-1106-preview",
         "marker": {
          "color": "#00cc96"
         },
         "name": "gpt-4-1106-preview",
         "notched": false,
         "offsetgroup": "gpt-4-1106-preview",
         "orientation": "v",
         "showlegend": true,
         "type": "box",
         "x": [
          1,
          3,
          1,
          1,
          3,
          1,
          1,
          3,
          1,
          1,
          3,
          2,
          3,
          3,
          1,
          1,
          3,
          3,
          1,
          3,
          2,
          1,
          3,
          1,
          3,
          3,
          3,
          1,
          1,
          1,
          1,
          1,
          1,
          1,
          1,
          3,
          1,
          2,
          3,
          1,
          3,
          3,
          1,
          3,
          3,
          1,
          1,
          3,
          1,
          1,
          3,
          3,
          2,
          3,
          3,
          3,
          3,
          1,
          2,
          3,
          2,
          3,
          3,
          1,
          2,
          1,
          3,
          1,
          1,
          3,
          1,
          3,
          1,
          3,
          1,
          1,
          3,
          1,
          2,
          3,
          1,
          1,
          3,
          1,
          3,
          1,
          3,
          3,
          1,
          1,
          3,
          2,
          2,
          1,
          2,
          3,
          3,
          3
         ],
         "x0": " ",
         "xaxis": "x",
         "y": [
          109.34122,
          31.340073,
          112.697802,
          39.21317,
          47.878506,
          26.710627,
          117.207257,
          37.493357,
          33.159813,
          35.805212,
          28.849173,
          29.635437,
          99.606823,
          28.623275,
          43.140715,
          51.984318,
          43.618794,
          51.320817,
          49.722861,
          30.537975,
          26.478059,
          32.305217,
          37.208062,
          23.79305,
          36.2782,
          35.345281,
          33.226754,
          36.470893,
          24.07443,
          19.856115,
          40.024836,
          42.122792,
          51.778234,
          41.374277,
          38.401192,
          45.976611,
          40.899973,
          31.366776,
          37.265091,
          53.013692,
          18.278562,
          25.895748,
          19.186688,
          24.108163,
          44.323186,
          45.480343,
          196.854679,
          104.289061,
          35.988037,
          33.081357,
          85.866218,
          51.197766,
          199.886828,
          19.724353999999998,
          9.179582,
          30.639269,
          37.964819,
          60.358826,
          56.016512,
          22.45171,
          32.936537,
          49.386778,
          43.634272,
          103.947102,
          44.063994,
          49.248283,
          25.228458,
          104.323593,
          35.738346,
          47.077743,
          23.437374,
          58.880296,
          191.879911,
          40.011125,
          12.824692,
          28.21202,
          38.62641,
          47.824601,
          50.658208,
          22.118379,
          36.382386,
          48.932371,
          110.711126,
          55.137749,
          118.771214,
          20.802652,
          9.041039,
          46.17602,
          9.672946,
          31.293644,
          11.518508,
          45.279541,
          177.988134,
          25.254183,
          109.401839,
          55.44177,
          9.547273,
          41.312166
         ],
         "y0": " ",
         "yaxis": "y"
        },
        {
         "alignmentgroup": "True",
         "hovertemplate": "model=gpt-4-1106-preview-v1.1<br>Answer Faithfulness=%{x}<br>Latency=%{y}<extra></extra>",
         "legendgroup": "gpt-4-1106-preview-v1.1",
         "marker": {
          "color": "#ab63fa"
         },
         "name": "gpt-4-1106-preview-v1.1",
         "notched": false,
         "offsetgroup": "gpt-4-1106-preview-v1.1",
         "orientation": "v",
         "showlegend": true,
         "type": "box",
         "x": [
          1,
          3,
          1,
          1,
          3,
          3,
          1,
          3,
          3,
          1,
          2,
          3,
          3,
          1,
          1,
          3,
          3,
          2,
          1,
          3,
          2,
          1,
          3,
          3,
          3,
          2,
          3,
          1,
          1,
          1,
          2,
          1,
          1,
          1,
          1,
          3,
          2,
          3,
          1,
          1,
          3,
          3,
          1,
          3,
          3,
          1,
          3,
          3,
          3,
          3,
          3,
          3,
          3,
          3,
          3,
          3,
          3,
          1,
          3,
          3,
          3,
          3,
          3,
          1,
          2,
          3,
          3,
          1,
          1,
          3,
          3,
          3,
          1,
          3,
          1,
          1,
          1,
          3,
          3,
          3,
          3,
          1,
          1,
          2,
          3,
          1,
          3,
          3,
          1,
          2,
          3,
          3,
          3,
          3,
          3,
          3,
          3,
          2
         ],
         "x0": " ",
         "xaxis": "x",
         "y": [
          78.045797,
          42.697373999999996,
          105.91174,
          68.355766,
          101.62027,
          61.727823,
          92.536278,
          102.317183,
          47.605336,
          39.581598,
          81.915424,
          89.256048,
          112.029508,
          85.002865,
          85.65521,
          74.758651,
          51.079786,
          79.867034,
          77.502774,
          48.855054,
          62.366611,
          95.918485,
          68.629155,
          51.035205,
          72.764793,
          44.981381999999996,
          93.405568,
          85.356644,
          71.587287,
          52.379577,
          68.473432,
          48.961168,
          42.884051,
          47.835904,
          77.357709,
          71.780149,
          75.775638,
          46.877572,
          61.045384,
          68.849305,
          55.469622,
          71.094993,
          33.106178,
          59.317765,
          72.437207,
          80.500189,
          79.41869,
          83.683793,
          43.153635,
          58.648866,
          53.563604,
          104.869183,
          93.059426,
          58.562871,
          40.153557,
          51.052864,
          75.235385,
          93.213219,
          102.836324,
          47.197462,
          67.999961,
          87.933342,
          64.177505,
          88.252249,
          68.490914,
          70.563267,
          60.435032,
          80.123994,
          67.578381,
          54.822172,
          68.548019,
          83.54557199999999,
          59.407227,
          51.656701,
          45.455987,
          57.995745,
          42.177724,
          96.139263,
          72.63096,
          52.676766,
          88.273305,
          87.89356,
          58.080817,
          147.34863,
          51.584862,
          55.97073,
          61.670499,
          87.089203,
          44.819531,
          87.881914,
          53.906858,
          66.861515,
          63.31523,
          51.650295,
          70.056944,
          84.713787,
          45.023471,
          91.931354
         ],
         "y0": " ",
         "yaxis": "y"
        }
       ],
       "layout": {
        "boxmode": "group",
        "legend": {
         "title": {
          "text": "model"
         },
         "tracegroupgap": 0
        },
        "margin": {
         "t": 60
        },
        "template": {
         "data": {
          "bar": [
           {
            "error_x": {
             "color": "#2a3f5f"
            },
            "error_y": {
             "color": "#2a3f5f"
            },
            "marker": {
             "line": {
              "color": "#E5ECF6",
              "width": 0.5
             },
             "pattern": {
              "fillmode": "overlay",
              "size": 10,
              "solidity": 0.2
             }
            },
            "type": "bar"
           }
          ],
          "barpolar": [
           {
            "marker": {
             "line": {
              "color": "#E5ECF6",
              "width": 0.5
             },
             "pattern": {
              "fillmode": "overlay",
              "size": 10,
              "solidity": 0.2
             }
            },
            "type": "barpolar"
           }
          ],
          "carpet": [
           {
            "aaxis": {
             "endlinecolor": "#2a3f5f",
             "gridcolor": "white",
             "linecolor": "white",
             "minorgridcolor": "white",
             "startlinecolor": "#2a3f5f"
            },
            "baxis": {
             "endlinecolor": "#2a3f5f",
             "gridcolor": "white",
             "linecolor": "white",
             "minorgridcolor": "white",
             "startlinecolor": "#2a3f5f"
            },
            "type": "carpet"
           }
          ],
          "choropleth": [
           {
            "colorbar": {
             "outlinewidth": 0,
             "ticks": ""
            },
            "type": "choropleth"
           }
          ],
          "contour": [
           {
            "colorbar": {
             "outlinewidth": 0,
             "ticks": ""
            },
            "colorscale": [
             [
              0,
              "#0d0887"
             ],
             [
              0.1111111111111111,
              "#46039f"
             ],
             [
              0.2222222222222222,
              "#7201a8"
             ],
             [
              0.3333333333333333,
              "#9c179e"
             ],
             [
              0.4444444444444444,
              "#bd3786"
             ],
             [
              0.5555555555555556,
              "#d8576b"
             ],
             [
              0.6666666666666666,
              "#ed7953"
             ],
             [
              0.7777777777777778,
              "#fb9f3a"
             ],
             [
              0.8888888888888888,
              "#fdca26"
             ],
             [
              1,
              "#f0f921"
             ]
            ],
            "type": "contour"
           }
          ],
          "contourcarpet": [
           {
            "colorbar": {
             "outlinewidth": 0,
             "ticks": ""
            },
            "type": "contourcarpet"
           }
          ],
          "heatmap": [
           {
            "colorbar": {
             "outlinewidth": 0,
             "ticks": ""
            },
            "colorscale": [
             [
              0,
              "#0d0887"
             ],
             [
              0.1111111111111111,
              "#46039f"
             ],
             [
              0.2222222222222222,
              "#7201a8"
             ],
             [
              0.3333333333333333,
              "#9c179e"
             ],
             [
              0.4444444444444444,
              "#bd3786"
             ],
             [
              0.5555555555555556,
              "#d8576b"
             ],
             [
              0.6666666666666666,
              "#ed7953"
             ],
             [
              0.7777777777777778,
              "#fb9f3a"
             ],
             [
              0.8888888888888888,
              "#fdca26"
             ],
             [
              1,
              "#f0f921"
             ]
            ],
            "type": "heatmap"
           }
          ],
          "heatmapgl": [
           {
            "colorbar": {
             "outlinewidth": 0,
             "ticks": ""
            },
            "colorscale": [
             [
              0,
              "#0d0887"
             ],
             [
              0.1111111111111111,
              "#46039f"
             ],
             [
              0.2222222222222222,
              "#7201a8"
             ],
             [
              0.3333333333333333,
              "#9c179e"
             ],
             [
              0.4444444444444444,
              "#bd3786"
             ],
             [
              0.5555555555555556,
              "#d8576b"
             ],
             [
              0.6666666666666666,
              "#ed7953"
             ],
             [
              0.7777777777777778,
              "#fb9f3a"
             ],
             [
              0.8888888888888888,
              "#fdca26"
             ],
             [
              1,
              "#f0f921"
             ]
            ],
            "type": "heatmapgl"
           }
          ],
          "histogram": [
           {
            "marker": {
             "pattern": {
              "fillmode": "overlay",
              "size": 10,
              "solidity": 0.2
             }
            },
            "type": "histogram"
           }
          ],
          "histogram2d": [
           {
            "colorbar": {
             "outlinewidth": 0,
             "ticks": ""
            },
            "colorscale": [
             [
              0,
              "#0d0887"
             ],
             [
              0.1111111111111111,
              "#46039f"
             ],
             [
              0.2222222222222222,
              "#7201a8"
             ],
             [
              0.3333333333333333,
              "#9c179e"
             ],
             [
              0.4444444444444444,
              "#bd3786"
             ],
             [
              0.5555555555555556,
              "#d8576b"
             ],
             [
              0.6666666666666666,
              "#ed7953"
             ],
             [
              0.7777777777777778,
              "#fb9f3a"
             ],
             [
              0.8888888888888888,
              "#fdca26"
             ],
             [
              1,
              "#f0f921"
             ]
            ],
            "type": "histogram2d"
           }
          ],
          "histogram2dcontour": [
           {
            "colorbar": {
             "outlinewidth": 0,
             "ticks": ""
            },
            "colorscale": [
             [
              0,
              "#0d0887"
             ],
             [
              0.1111111111111111,
              "#46039f"
             ],
             [
              0.2222222222222222,
              "#7201a8"
             ],
             [
              0.3333333333333333,
              "#9c179e"
             ],
             [
              0.4444444444444444,
              "#bd3786"
             ],
             [
              0.5555555555555556,
              "#d8576b"
             ],
             [
              0.6666666666666666,
              "#ed7953"
             ],
             [
              0.7777777777777778,
              "#fb9f3a"
             ],
             [
              0.8888888888888888,
              "#fdca26"
             ],
             [
              1,
              "#f0f921"
             ]
            ],
            "type": "histogram2dcontour"
           }
          ],
          "mesh3d": [
           {
            "colorbar": {
             "outlinewidth": 0,
             "ticks": ""
            },
            "type": "mesh3d"
           }
          ],
          "parcoords": [
           {
            "line": {
             "colorbar": {
              "outlinewidth": 0,
              "ticks": ""
             }
            },
            "type": "parcoords"
           }
          ],
          "pie": [
           {
            "automargin": true,
            "type": "pie"
           }
          ],
          "scatter": [
           {
            "fillpattern": {
             "fillmode": "overlay",
             "size": 10,
             "solidity": 0.2
            },
            "type": "scatter"
           }
          ],
          "scatter3d": [
           {
            "line": {
             "colorbar": {
              "outlinewidth": 0,
              "ticks": ""
             }
            },
            "marker": {
             "colorbar": {
              "outlinewidth": 0,
              "ticks": ""
             }
            },
            "type": "scatter3d"
           }
          ],
          "scattercarpet": [
           {
            "marker": {
             "colorbar": {
              "outlinewidth": 0,
              "ticks": ""
             }
            },
            "type": "scattercarpet"
           }
          ],
          "scattergeo": [
           {
            "marker": {
             "colorbar": {
              "outlinewidth": 0,
              "ticks": ""
             }
            },
            "type": "scattergeo"
           }
          ],
          "scattergl": [
           {
            "marker": {
             "colorbar": {
              "outlinewidth": 0,
              "ticks": ""
             }
            },
            "type": "scattergl"
           }
          ],
          "scattermapbox": [
           {
            "marker": {
             "colorbar": {
              "outlinewidth": 0,
              "ticks": ""
             }
            },
            "type": "scattermapbox"
           }
          ],
          "scatterpolar": [
           {
            "marker": {
             "colorbar": {
              "outlinewidth": 0,
              "ticks": ""
             }
            },
            "type": "scatterpolar"
           }
          ],
          "scatterpolargl": [
           {
            "marker": {
             "colorbar": {
              "outlinewidth": 0,
              "ticks": ""
             }
            },
            "type": "scatterpolargl"
           }
          ],
          "scatterternary": [
           {
            "marker": {
             "colorbar": {
              "outlinewidth": 0,
              "ticks": ""
             }
            },
            "type": "scatterternary"
           }
          ],
          "surface": [
           {
            "colorbar": {
             "outlinewidth": 0,
             "ticks": ""
            },
            "colorscale": [
             [
              0,
              "#0d0887"
             ],
             [
              0.1111111111111111,
              "#46039f"
             ],
             [
              0.2222222222222222,
              "#7201a8"
             ],
             [
              0.3333333333333333,
              "#9c179e"
             ],
             [
              0.4444444444444444,
              "#bd3786"
             ],
             [
              0.5555555555555556,
              "#d8576b"
             ],
             [
              0.6666666666666666,
              "#ed7953"
             ],
             [
              0.7777777777777778,
              "#fb9f3a"
             ],
             [
              0.8888888888888888,
              "#fdca26"
             ],
             [
              1,
              "#f0f921"
             ]
            ],
            "type": "surface"
           }
          ],
          "table": [
           {
            "cells": {
             "fill": {
              "color": "#EBF0F8"
             },
             "line": {
              "color": "white"
             }
            },
            "header": {
             "fill": {
              "color": "#C8D4E3"
             },
             "line": {
              "color": "white"
             }
            },
            "type": "table"
           }
          ]
         },
         "layout": {
          "annotationdefaults": {
           "arrowcolor": "#2a3f5f",
           "arrowhead": 0,
           "arrowwidth": 1
          },
          "autotypenumbers": "strict",
          "coloraxis": {
           "colorbar": {
            "outlinewidth": 0,
            "ticks": ""
           }
          },
          "colorscale": {
           "diverging": [
            [
             0,
             "#8e0152"
            ],
            [
             0.1,
             "#c51b7d"
            ],
            [
             0.2,
             "#de77ae"
            ],
            [
             0.3,
             "#f1b6da"
            ],
            [
             0.4,
             "#fde0ef"
            ],
            [
             0.5,
             "#f7f7f7"
            ],
            [
             0.6,
             "#e6f5d0"
            ],
            [
             0.7,
             "#b8e186"
            ],
            [
             0.8,
             "#7fbc41"
            ],
            [
             0.9,
             "#4d9221"
            ],
            [
             1,
             "#276419"
            ]
           ],
           "sequential": [
            [
             0,
             "#0d0887"
            ],
            [
             0.1111111111111111,
             "#46039f"
            ],
            [
             0.2222222222222222,
             "#7201a8"
            ],
            [
             0.3333333333333333,
             "#9c179e"
            ],
            [
             0.4444444444444444,
             "#bd3786"
            ],
            [
             0.5555555555555556,
             "#d8576b"
            ],
            [
             0.6666666666666666,
             "#ed7953"
            ],
            [
             0.7777777777777778,
             "#fb9f3a"
            ],
            [
             0.8888888888888888,
             "#fdca26"
            ],
            [
             1,
             "#f0f921"
            ]
           ],
           "sequentialminus": [
            [
             0,
             "#0d0887"
            ],
            [
             0.1111111111111111,
             "#46039f"
            ],
            [
             0.2222222222222222,
             "#7201a8"
            ],
            [
             0.3333333333333333,
             "#9c179e"
            ],
            [
             0.4444444444444444,
             "#bd3786"
            ],
            [
             0.5555555555555556,
             "#d8576b"
            ],
            [
             0.6666666666666666,
             "#ed7953"
            ],
            [
             0.7777777777777778,
             "#fb9f3a"
            ],
            [
             0.8888888888888888,
             "#fdca26"
            ],
            [
             1,
             "#f0f921"
            ]
           ]
          },
          "colorway": [
           "#636efa",
           "#EF553B",
           "#00cc96",
           "#ab63fa",
           "#FFA15A",
           "#19d3f3",
           "#FF6692",
           "#B6E880",
           "#FF97FF",
           "#FECB52"
          ],
          "font": {
           "color": "#2a3f5f"
          },
          "geo": {
           "bgcolor": "white",
           "lakecolor": "white",
           "landcolor": "#E5ECF6",
           "showlakes": true,
           "showland": true,
           "subunitcolor": "white"
          },
          "hoverlabel": {
           "align": "left"
          },
          "hovermode": "closest",
          "mapbox": {
           "style": "light"
          },
          "paper_bgcolor": "white",
          "plot_bgcolor": "#E5ECF6",
          "polar": {
           "angularaxis": {
            "gridcolor": "white",
            "linecolor": "white",
            "ticks": ""
           },
           "bgcolor": "#E5ECF6",
           "radialaxis": {
            "gridcolor": "white",
            "linecolor": "white",
            "ticks": ""
           }
          },
          "scene": {
           "xaxis": {
            "backgroundcolor": "#E5ECF6",
            "gridcolor": "white",
            "gridwidth": 2,
            "linecolor": "white",
            "showbackground": true,
            "ticks": "",
            "zerolinecolor": "white"
           },
           "yaxis": {
            "backgroundcolor": "#E5ECF6",
            "gridcolor": "white",
            "gridwidth": 2,
            "linecolor": "white",
            "showbackground": true,
            "ticks": "",
            "zerolinecolor": "white"
           },
           "zaxis": {
            "backgroundcolor": "#E5ECF6",
            "gridcolor": "white",
            "gridwidth": 2,
            "linecolor": "white",
            "showbackground": true,
            "ticks": "",
            "zerolinecolor": "white"
           }
          },
          "shapedefaults": {
           "line": {
            "color": "#2a3f5f"
           }
          },
          "ternary": {
           "aaxis": {
            "gridcolor": "white",
            "linecolor": "white",
            "ticks": ""
           },
           "baxis": {
            "gridcolor": "white",
            "linecolor": "white",
            "ticks": ""
           },
           "bgcolor": "#E5ECF6",
           "caxis": {
            "gridcolor": "white",
            "linecolor": "white",
            "ticks": ""
           }
          },
          "title": {
           "x": 0.05
          },
          "xaxis": {
           "automargin": true,
           "gridcolor": "white",
           "linecolor": "white",
           "ticks": "",
           "title": {
            "standoff": 15
           },
           "zerolinecolor": "white",
           "zerolinewidth": 2
          },
          "yaxis": {
           "automargin": true,
           "gridcolor": "white",
           "linecolor": "white",
           "ticks": "",
           "title": {
            "standoff": 15
           },
           "zerolinecolor": "white",
           "zerolinewidth": 2
          }
         }
        },
        "xaxis": {
         "anchor": "y",
         "domain": [
          0,
          1
         ],
         "title": {
          "text": "Answer Faithfulness"
         }
        },
        "yaxis": {
         "anchor": "x",
         "domain": [
          0,
          1
         ],
         "title": {
          "text": "Latency"
         }
        }
       }
      }
     },
     "metadata": {},
     "output_type": "display_data"
    },
    {
     "data": {
      "application/vnd.plotly.v1+json": {
       "config": {
        "plotlyServerURL": "https://plot.ly"
       },
       "data": [
        {
         "alignmentgroup": "True",
         "hovertemplate": "model=gpt-4-0613<br>Answer Relevancy=%{x}<br>Latency=%{y}<extra></extra>",
         "legendgroup": "gpt-4-0613",
         "marker": {
          "color": "#636efa"
         },
         "name": "gpt-4-0613",
         "notched": false,
         "offsetgroup": "gpt-4-0613",
         "orientation": "v",
         "showlegend": true,
         "type": "box",
         "x": [
          2,
          3,
          2,
          3,
          3,
          2,
          2,
          2,
          2,
          2,
          3,
          2,
          2,
          2,
          2,
          2,
          3,
          2,
          2,
          3,
          2,
          3,
          2,
          2,
          2,
          2,
          2,
          2,
          3,
          3,
          2,
          3,
          1,
          2,
          3,
          2,
          2,
          1,
          3,
          2,
          3,
          3,
          1,
          3,
          3,
          2,
          2,
          3,
          3,
          2,
          3,
          2,
          2,
          2,
          2,
          2,
          3,
          2,
          3,
          2,
          2,
          3,
          2,
          2,
          2,
          2,
          2,
          2,
          2,
          2,
          3,
          3,
          3,
          3,
          2,
          2,
          1,
          2,
          2,
          2,
          1,
          3,
          2,
          2,
          2,
          1,
          2,
          2,
          2,
          3,
          2,
          2,
          3,
          3,
          2,
          3,
          3,
          3
         ],
         "x0": " ",
         "xaxis": "x",
         "y": [
          28.152315,
          30.359424,
          58.848659,
          36.543935,
          28.047547,
          16.945823,
          39.566952,
          37.524447,
          19.903518,
          15.667796,
          30.254061,
          16.975495,
          41.899707,
          12.836614,
          22.199252,
          31.349249,
          28.875526999999998,
          24.521073,
          21.071664,
          28.994839,
          24.727966,
          28.16456,
          20.21587,
          9.96609,
          39.801293,
          13.864615,
          16.574099,
          25.37481,
          25.087715,
          5.111558,
          26.44654,
          22.426275,
          3.715122,
          6.079103,
          30.540628,
          27.598565999999998,
          35.923987,
          29.315022,
          29.050705,
          29.347861,
          13.057112,
          33.525941,
          3.265454,
          25.169479,
          21.938048,
          30.55557,
          16.959611,
          26.359252,
          24.444405,
          19.62221,
          13.069624,
          19.498214,
          24.135549,
          17.223309,
          10.319436,
          22.04976,
          27.837273,
          32.193718,
          50.648086,
          7.771974,
          28.086161,
          32.976776,
          17.843725,
          35.510686,
          20.472933,
          30.957346,
          9.999337,
          10.565785,
          23.23954,
          29.876154,
          11.742121,
          22.489228,
          40.060867,
          31.871881,
          7.1789439999999995,
          25.095787,
          5.030914,
          38.038881,
          32.159635,
          18.253493,
          3.4088950000000002,
          36.285384,
          27.378907,
          48.010722,
          32.808309,
          9.02952,
          8.714885,
          34.58437,
          6.331816,
          8.66712,
          8.333901000000001,
          21.261877,
          33.572058,
          8.928885,
          16.052384,
          50.61965,
          3.323417,
          26.154936
         ],
         "y0": " ",
         "yaxis": "y"
        },
        {
         "alignmentgroup": "True",
         "hovertemplate": "model=gpt-3.5-turbo-16k-0613<br>Answer Relevancy=%{x}<br>Latency=%{y}<extra></extra>",
         "legendgroup": "gpt-3.5-turbo-16k-0613",
         "marker": {
          "color": "#EF553B"
         },
         "name": "gpt-3.5-turbo-16k-0613",
         "notched": false,
         "offsetgroup": "gpt-3.5-turbo-16k-0613",
         "orientation": "v",
         "showlegend": true,
         "type": "box",
         "x": [
          3,
          3,
          2,
          2,
          3,
          2,
          3,
          2,
          1,
          3,
          1,
          2,
          2,
          2,
          2,
          2,
          3,
          1,
          2,
          2,
          1,
          3,
          2,
          2,
          3,
          2,
          3,
          2,
          2,
          3,
          2,
          3,
          3,
          2,
          1,
          2,
          2,
          2,
          3,
          2,
          3,
          3,
          2,
          2,
          2,
          2,
          3,
          2,
          2,
          2,
          3,
          2,
          2,
          3,
          3,
          2,
          2,
          3,
          2,
          3,
          2,
          3,
          3,
          3,
          2,
          3,
          2,
          1,
          3,
          2,
          3,
          2,
          2,
          3,
          2,
          1,
          3,
          2,
          2,
          2,
          3,
          2,
          1,
          1,
          3,
          3,
          1,
          2,
          2,
          3,
          3,
          2,
          3,
          3,
          3,
          3,
          3,
          2
         ],
         "x0": " ",
         "xaxis": "x",
         "y": [
          7.009734,
          8.265244,
          14.49823,
          9.10049,
          10.963081,
          9.974128,
          19.062431,
          8.160789,
          13.448808,
          16.515169,
          9.923283,
          9.212508,
          8.101334,
          9.862659,
          6.782274,
          16.126599,
          9.402667,
          8.1063,
          7.462433,
          11.743975,
          6.496573,
          11.280875,
          15.727661,
          4.707159,
          11.812746,
          15.186524,
          8.044224,
          10.871137,
          12.755668,
          2.804253,
          8.407321,
          11.763985,
          4.555114,
          9.449374,
          15.853339,
          8.550969,
          10.042814,
          9.32191,
          11.987157,
          8.610813,
          7.53632,
          11.654751,
          16.587958,
          9.107869,
          7.696529,
          13.154779,
          11.813177,
          6.409289,
          9.262885,
          6.849839,
          7.929544,
          6.385092,
          19.65049,
          4.238372,
          3.3113960000000002,
          7.027377,
          5.769791,
          14.1973,
          12.160655,
          6.235773,
          9.745919,
          10.003116,
          17.667432,
          13.859286,
          12.219846,
          11.097512,
          3.9714039999999997,
          6.148497,
          14.715483,
          9.528871,
          4.404088,
          6.460036,
          10.160476,
          9.045183,
          3.652905,
          8.268051,
          4.985406,
          20.145004,
          14.746363,
          3.724624,
          6.806934,
          5.22717,
          13.321524,
          8.910095,
          10.05166,
          5.706349,
          3.368578,
          11.425485,
          3.48242,
          7.795291,
          3.7351710000000002,
          5.25458,
          9.776864,
          3.223493,
          11.535051,
          13.104307,
          3.473027,
          10.268056
         ],
         "y0": " ",
         "yaxis": "y"
        },
        {
         "alignmentgroup": "True",
         "hovertemplate": "model=gpt-4-1106-preview<br>Answer Relevancy=%{x}<br>Latency=%{y}<extra></extra>",
         "legendgroup": "gpt-4-1106-preview",
         "marker": {
          "color": "#00cc96"
         },
         "name": "gpt-4-1106-preview",
         "notched": false,
         "offsetgroup": "gpt-4-1106-preview",
         "orientation": "v",
         "showlegend": true,
         "type": "box",
         "x": [
          3,
          3,
          3,
          3,
          3,
          3,
          3,
          3,
          3,
          3,
          3,
          3,
          2,
          3,
          3,
          3,
          3,
          2,
          3,
          2,
          3,
          3,
          3,
          3,
          3,
          3,
          3,
          3,
          3,
          3,
          3,
          3,
          3,
          3,
          3,
          3,
          3,
          3,
          3,
          3,
          3,
          3,
          3,
          3,
          3,
          3,
          2,
          3,
          3,
          3,
          3,
          3,
          2,
          3,
          3,
          3,
          3,
          3,
          3,
          3,
          3,
          3,
          3,
          3,
          3,
          3,
          3,
          3,
          3,
          3,
          3,
          3,
          2,
          3,
          3,
          3,
          3,
          2,
          3,
          3,
          3,
          3,
          3,
          2,
          3,
          3,
          3,
          3,
          3,
          3,
          3,
          3,
          3,
          3,
          3,
          3,
          3,
          2
         ],
         "x0": " ",
         "xaxis": "x",
         "y": [
          109.34122,
          31.340073,
          112.697802,
          39.21317,
          47.878506,
          26.710627,
          117.207257,
          37.493357,
          33.159813,
          35.805212,
          28.849173,
          29.635437,
          99.606823,
          28.623275,
          43.140715,
          51.984318,
          43.618794,
          51.320817,
          49.722861,
          30.537975,
          26.478059,
          32.305217,
          37.208062,
          23.79305,
          36.2782,
          35.345281,
          33.226754,
          36.470893,
          24.07443,
          19.856115,
          40.024836,
          42.122792,
          51.778234,
          41.374277,
          38.401192,
          45.976611,
          40.899973,
          31.366776,
          37.265091,
          53.013692,
          18.278562,
          25.895748,
          19.186688,
          24.108163,
          44.323186,
          45.480343,
          196.854679,
          104.289061,
          35.988037,
          33.081357,
          85.866218,
          51.197766,
          199.886828,
          19.724353999999998,
          9.179582,
          30.639269,
          37.964819,
          60.358826,
          56.016512,
          22.45171,
          32.936537,
          49.386778,
          43.634272,
          103.947102,
          44.063994,
          49.248283,
          25.228458,
          104.323593,
          35.738346,
          47.077743,
          23.437374,
          58.880296,
          191.879911,
          40.011125,
          12.824692,
          28.21202,
          38.62641,
          47.824601,
          50.658208,
          22.118379,
          36.382386,
          48.932371,
          110.711126,
          55.137749,
          118.771214,
          20.802652,
          9.041039,
          46.17602,
          9.672946,
          31.293644,
          11.518508,
          45.279541,
          177.988134,
          25.254183,
          109.401839,
          55.44177,
          9.547273,
          41.312166
         ],
         "y0": " ",
         "yaxis": "y"
        },
        {
         "alignmentgroup": "True",
         "hovertemplate": "model=gpt-4-1106-preview-v1.1<br>Answer Relevancy=%{x}<br>Latency=%{y}<extra></extra>",
         "legendgroup": "gpt-4-1106-preview-v1.1",
         "marker": {
          "color": "#ab63fa"
         },
         "name": "gpt-4-1106-preview-v1.1",
         "notched": false,
         "offsetgroup": "gpt-4-1106-preview-v1.1",
         "orientation": "v",
         "showlegend": true,
         "type": "box",
         "x": [
          2,
          3,
          3,
          3,
          3,
          3,
          2,
          3,
          3,
          2,
          3,
          2,
          2,
          3,
          3,
          3,
          3,
          3,
          3,
          3,
          2,
          3,
          3,
          3,
          3,
          3,
          3,
          3,
          2,
          3,
          3,
          2,
          3,
          3,
          3,
          3,
          3,
          3,
          3,
          3,
          3,
          3,
          3,
          3,
          3,
          2,
          3,
          3,
          3,
          3,
          3,
          3,
          3,
          3,
          3,
          3,
          3,
          3,
          3,
          3,
          2,
          3,
          2,
          3,
          2,
          3,
          3,
          2,
          2,
          3,
          3,
          3,
          2,
          3,
          3,
          2,
          3,
          3,
          3,
          3,
          3,
          3,
          3,
          2,
          3,
          3,
          3,
          3,
          3,
          3,
          3,
          3,
          3,
          3,
          3,
          3,
          3,
          3
         ],
         "x0": " ",
         "xaxis": "x",
         "y": [
          78.045797,
          42.697373999999996,
          105.91174,
          68.355766,
          101.62027,
          61.727823,
          92.536278,
          102.317183,
          47.605336,
          39.581598,
          81.915424,
          89.256048,
          112.029508,
          85.002865,
          85.65521,
          74.758651,
          51.079786,
          79.867034,
          77.502774,
          48.855054,
          62.366611,
          95.918485,
          68.629155,
          51.035205,
          72.764793,
          44.981381999999996,
          93.405568,
          85.356644,
          71.587287,
          52.379577,
          68.473432,
          48.961168,
          42.884051,
          47.835904,
          77.357709,
          71.780149,
          75.775638,
          46.877572,
          61.045384,
          68.849305,
          55.469622,
          71.094993,
          33.106178,
          59.317765,
          72.437207,
          80.500189,
          79.41869,
          83.683793,
          43.153635,
          58.648866,
          53.563604,
          104.869183,
          93.059426,
          58.562871,
          40.153557,
          51.052864,
          75.235385,
          93.213219,
          102.836324,
          47.197462,
          67.999961,
          87.933342,
          64.177505,
          88.252249,
          68.490914,
          70.563267,
          60.435032,
          80.123994,
          67.578381,
          54.822172,
          68.548019,
          83.54557199999999,
          59.407227,
          51.656701,
          45.455987,
          57.995745,
          42.177724,
          96.139263,
          72.63096,
          52.676766,
          88.273305,
          87.89356,
          58.080817,
          147.34863,
          51.584862,
          55.97073,
          61.670499,
          87.089203,
          44.819531,
          87.881914,
          53.906858,
          66.861515,
          63.31523,
          51.650295,
          70.056944,
          84.713787,
          45.023471,
          91.931354
         ],
         "y0": " ",
         "yaxis": "y"
        }
       ],
       "layout": {
        "boxmode": "group",
        "legend": {
         "title": {
          "text": "model"
         },
         "tracegroupgap": 0
        },
        "margin": {
         "t": 60
        },
        "template": {
         "data": {
          "bar": [
           {
            "error_x": {
             "color": "#2a3f5f"
            },
            "error_y": {
             "color": "#2a3f5f"
            },
            "marker": {
             "line": {
              "color": "#E5ECF6",
              "width": 0.5
             },
             "pattern": {
              "fillmode": "overlay",
              "size": 10,
              "solidity": 0.2
             }
            },
            "type": "bar"
           }
          ],
          "barpolar": [
           {
            "marker": {
             "line": {
              "color": "#E5ECF6",
              "width": 0.5
             },
             "pattern": {
              "fillmode": "overlay",
              "size": 10,
              "solidity": 0.2
             }
            },
            "type": "barpolar"
           }
          ],
          "carpet": [
           {
            "aaxis": {
             "endlinecolor": "#2a3f5f",
             "gridcolor": "white",
             "linecolor": "white",
             "minorgridcolor": "white",
             "startlinecolor": "#2a3f5f"
            },
            "baxis": {
             "endlinecolor": "#2a3f5f",
             "gridcolor": "white",
             "linecolor": "white",
             "minorgridcolor": "white",
             "startlinecolor": "#2a3f5f"
            },
            "type": "carpet"
           }
          ],
          "choropleth": [
           {
            "colorbar": {
             "outlinewidth": 0,
             "ticks": ""
            },
            "type": "choropleth"
           }
          ],
          "contour": [
           {
            "colorbar": {
             "outlinewidth": 0,
             "ticks": ""
            },
            "colorscale": [
             [
              0,
              "#0d0887"
             ],
             [
              0.1111111111111111,
              "#46039f"
             ],
             [
              0.2222222222222222,
              "#7201a8"
             ],
             [
              0.3333333333333333,
              "#9c179e"
             ],
             [
              0.4444444444444444,
              "#bd3786"
             ],
             [
              0.5555555555555556,
              "#d8576b"
             ],
             [
              0.6666666666666666,
              "#ed7953"
             ],
             [
              0.7777777777777778,
              "#fb9f3a"
             ],
             [
              0.8888888888888888,
              "#fdca26"
             ],
             [
              1,
              "#f0f921"
             ]
            ],
            "type": "contour"
           }
          ],
          "contourcarpet": [
           {
            "colorbar": {
             "outlinewidth": 0,
             "ticks": ""
            },
            "type": "contourcarpet"
           }
          ],
          "heatmap": [
           {
            "colorbar": {
             "outlinewidth": 0,
             "ticks": ""
            },
            "colorscale": [
             [
              0,
              "#0d0887"
             ],
             [
              0.1111111111111111,
              "#46039f"
             ],
             [
              0.2222222222222222,
              "#7201a8"
             ],
             [
              0.3333333333333333,
              "#9c179e"
             ],
             [
              0.4444444444444444,
              "#bd3786"
             ],
             [
              0.5555555555555556,
              "#d8576b"
             ],
             [
              0.6666666666666666,
              "#ed7953"
             ],
             [
              0.7777777777777778,
              "#fb9f3a"
             ],
             [
              0.8888888888888888,
              "#fdca26"
             ],
             [
              1,
              "#f0f921"
             ]
            ],
            "type": "heatmap"
           }
          ],
          "heatmapgl": [
           {
            "colorbar": {
             "outlinewidth": 0,
             "ticks": ""
            },
            "colorscale": [
             [
              0,
              "#0d0887"
             ],
             [
              0.1111111111111111,
              "#46039f"
             ],
             [
              0.2222222222222222,
              "#7201a8"
             ],
             [
              0.3333333333333333,
              "#9c179e"
             ],
             [
              0.4444444444444444,
              "#bd3786"
             ],
             [
              0.5555555555555556,
              "#d8576b"
             ],
             [
              0.6666666666666666,
              "#ed7953"
             ],
             [
              0.7777777777777778,
              "#fb9f3a"
             ],
             [
              0.8888888888888888,
              "#fdca26"
             ],
             [
              1,
              "#f0f921"
             ]
            ],
            "type": "heatmapgl"
           }
          ],
          "histogram": [
           {
            "marker": {
             "pattern": {
              "fillmode": "overlay",
              "size": 10,
              "solidity": 0.2
             }
            },
            "type": "histogram"
           }
          ],
          "histogram2d": [
           {
            "colorbar": {
             "outlinewidth": 0,
             "ticks": ""
            },
            "colorscale": [
             [
              0,
              "#0d0887"
             ],
             [
              0.1111111111111111,
              "#46039f"
             ],
             [
              0.2222222222222222,
              "#7201a8"
             ],
             [
              0.3333333333333333,
              "#9c179e"
             ],
             [
              0.4444444444444444,
              "#bd3786"
             ],
             [
              0.5555555555555556,
              "#d8576b"
             ],
             [
              0.6666666666666666,
              "#ed7953"
             ],
             [
              0.7777777777777778,
              "#fb9f3a"
             ],
             [
              0.8888888888888888,
              "#fdca26"
             ],
             [
              1,
              "#f0f921"
             ]
            ],
            "type": "histogram2d"
           }
          ],
          "histogram2dcontour": [
           {
            "colorbar": {
             "outlinewidth": 0,
             "ticks": ""
            },
            "colorscale": [
             [
              0,
              "#0d0887"
             ],
             [
              0.1111111111111111,
              "#46039f"
             ],
             [
              0.2222222222222222,
              "#7201a8"
             ],
             [
              0.3333333333333333,
              "#9c179e"
             ],
             [
              0.4444444444444444,
              "#bd3786"
             ],
             [
              0.5555555555555556,
              "#d8576b"
             ],
             [
              0.6666666666666666,
              "#ed7953"
             ],
             [
              0.7777777777777778,
              "#fb9f3a"
             ],
             [
              0.8888888888888888,
              "#fdca26"
             ],
             [
              1,
              "#f0f921"
             ]
            ],
            "type": "histogram2dcontour"
           }
          ],
          "mesh3d": [
           {
            "colorbar": {
             "outlinewidth": 0,
             "ticks": ""
            },
            "type": "mesh3d"
           }
          ],
          "parcoords": [
           {
            "line": {
             "colorbar": {
              "outlinewidth": 0,
              "ticks": ""
             }
            },
            "type": "parcoords"
           }
          ],
          "pie": [
           {
            "automargin": true,
            "type": "pie"
           }
          ],
          "scatter": [
           {
            "fillpattern": {
             "fillmode": "overlay",
             "size": 10,
             "solidity": 0.2
            },
            "type": "scatter"
           }
          ],
          "scatter3d": [
           {
            "line": {
             "colorbar": {
              "outlinewidth": 0,
              "ticks": ""
             }
            },
            "marker": {
             "colorbar": {
              "outlinewidth": 0,
              "ticks": ""
             }
            },
            "type": "scatter3d"
           }
          ],
          "scattercarpet": [
           {
            "marker": {
             "colorbar": {
              "outlinewidth": 0,
              "ticks": ""
             }
            },
            "type": "scattercarpet"
           }
          ],
          "scattergeo": [
           {
            "marker": {
             "colorbar": {
              "outlinewidth": 0,
              "ticks": ""
             }
            },
            "type": "scattergeo"
           }
          ],
          "scattergl": [
           {
            "marker": {
             "colorbar": {
              "outlinewidth": 0,
              "ticks": ""
             }
            },
            "type": "scattergl"
           }
          ],
          "scattermapbox": [
           {
            "marker": {
             "colorbar": {
              "outlinewidth": 0,
              "ticks": ""
             }
            },
            "type": "scattermapbox"
           }
          ],
          "scatterpolar": [
           {
            "marker": {
             "colorbar": {
              "outlinewidth": 0,
              "ticks": ""
             }
            },
            "type": "scatterpolar"
           }
          ],
          "scatterpolargl": [
           {
            "marker": {
             "colorbar": {
              "outlinewidth": 0,
              "ticks": ""
             }
            },
            "type": "scatterpolargl"
           }
          ],
          "scatterternary": [
           {
            "marker": {
             "colorbar": {
              "outlinewidth": 0,
              "ticks": ""
             }
            },
            "type": "scatterternary"
           }
          ],
          "surface": [
           {
            "colorbar": {
             "outlinewidth": 0,
             "ticks": ""
            },
            "colorscale": [
             [
              0,
              "#0d0887"
             ],
             [
              0.1111111111111111,
              "#46039f"
             ],
             [
              0.2222222222222222,
              "#7201a8"
             ],
             [
              0.3333333333333333,
              "#9c179e"
             ],
             [
              0.4444444444444444,
              "#bd3786"
             ],
             [
              0.5555555555555556,
              "#d8576b"
             ],
             [
              0.6666666666666666,
              "#ed7953"
             ],
             [
              0.7777777777777778,
              "#fb9f3a"
             ],
             [
              0.8888888888888888,
              "#fdca26"
             ],
             [
              1,
              "#f0f921"
             ]
            ],
            "type": "surface"
           }
          ],
          "table": [
           {
            "cells": {
             "fill": {
              "color": "#EBF0F8"
             },
             "line": {
              "color": "white"
             }
            },
            "header": {
             "fill": {
              "color": "#C8D4E3"
             },
             "line": {
              "color": "white"
             }
            },
            "type": "table"
           }
          ]
         },
         "layout": {
          "annotationdefaults": {
           "arrowcolor": "#2a3f5f",
           "arrowhead": 0,
           "arrowwidth": 1
          },
          "autotypenumbers": "strict",
          "coloraxis": {
           "colorbar": {
            "outlinewidth": 0,
            "ticks": ""
           }
          },
          "colorscale": {
           "diverging": [
            [
             0,
             "#8e0152"
            ],
            [
             0.1,
             "#c51b7d"
            ],
            [
             0.2,
             "#de77ae"
            ],
            [
             0.3,
             "#f1b6da"
            ],
            [
             0.4,
             "#fde0ef"
            ],
            [
             0.5,
             "#f7f7f7"
            ],
            [
             0.6,
             "#e6f5d0"
            ],
            [
             0.7,
             "#b8e186"
            ],
            [
             0.8,
             "#7fbc41"
            ],
            [
             0.9,
             "#4d9221"
            ],
            [
             1,
             "#276419"
            ]
           ],
           "sequential": [
            [
             0,
             "#0d0887"
            ],
            [
             0.1111111111111111,
             "#46039f"
            ],
            [
             0.2222222222222222,
             "#7201a8"
            ],
            [
             0.3333333333333333,
             "#9c179e"
            ],
            [
             0.4444444444444444,
             "#bd3786"
            ],
            [
             0.5555555555555556,
             "#d8576b"
            ],
            [
             0.6666666666666666,
             "#ed7953"
            ],
            [
             0.7777777777777778,
             "#fb9f3a"
            ],
            [
             0.8888888888888888,
             "#fdca26"
            ],
            [
             1,
             "#f0f921"
            ]
           ],
           "sequentialminus": [
            [
             0,
             "#0d0887"
            ],
            [
             0.1111111111111111,
             "#46039f"
            ],
            [
             0.2222222222222222,
             "#7201a8"
            ],
            [
             0.3333333333333333,
             "#9c179e"
            ],
            [
             0.4444444444444444,
             "#bd3786"
            ],
            [
             0.5555555555555556,
             "#d8576b"
            ],
            [
             0.6666666666666666,
             "#ed7953"
            ],
            [
             0.7777777777777778,
             "#fb9f3a"
            ],
            [
             0.8888888888888888,
             "#fdca26"
            ],
            [
             1,
             "#f0f921"
            ]
           ]
          },
          "colorway": [
           "#636efa",
           "#EF553B",
           "#00cc96",
           "#ab63fa",
           "#FFA15A",
           "#19d3f3",
           "#FF6692",
           "#B6E880",
           "#FF97FF",
           "#FECB52"
          ],
          "font": {
           "color": "#2a3f5f"
          },
          "geo": {
           "bgcolor": "white",
           "lakecolor": "white",
           "landcolor": "#E5ECF6",
           "showlakes": true,
           "showland": true,
           "subunitcolor": "white"
          },
          "hoverlabel": {
           "align": "left"
          },
          "hovermode": "closest",
          "mapbox": {
           "style": "light"
          },
          "paper_bgcolor": "white",
          "plot_bgcolor": "#E5ECF6",
          "polar": {
           "angularaxis": {
            "gridcolor": "white",
            "linecolor": "white",
            "ticks": ""
           },
           "bgcolor": "#E5ECF6",
           "radialaxis": {
            "gridcolor": "white",
            "linecolor": "white",
            "ticks": ""
           }
          },
          "scene": {
           "xaxis": {
            "backgroundcolor": "#E5ECF6",
            "gridcolor": "white",
            "gridwidth": 2,
            "linecolor": "white",
            "showbackground": true,
            "ticks": "",
            "zerolinecolor": "white"
           },
           "yaxis": {
            "backgroundcolor": "#E5ECF6",
            "gridcolor": "white",
            "gridwidth": 2,
            "linecolor": "white",
            "showbackground": true,
            "ticks": "",
            "zerolinecolor": "white"
           },
           "zaxis": {
            "backgroundcolor": "#E5ECF6",
            "gridcolor": "white",
            "gridwidth": 2,
            "linecolor": "white",
            "showbackground": true,
            "ticks": "",
            "zerolinecolor": "white"
           }
          },
          "shapedefaults": {
           "line": {
            "color": "#2a3f5f"
           }
          },
          "ternary": {
           "aaxis": {
            "gridcolor": "white",
            "linecolor": "white",
            "ticks": ""
           },
           "baxis": {
            "gridcolor": "white",
            "linecolor": "white",
            "ticks": ""
           },
           "bgcolor": "#E5ECF6",
           "caxis": {
            "gridcolor": "white",
            "linecolor": "white",
            "ticks": ""
           }
          },
          "title": {
           "x": 0.05
          },
          "xaxis": {
           "automargin": true,
           "gridcolor": "white",
           "linecolor": "white",
           "ticks": "",
           "title": {
            "standoff": 15
           },
           "zerolinecolor": "white",
           "zerolinewidth": 2
          },
          "yaxis": {
           "automargin": true,
           "gridcolor": "white",
           "linecolor": "white",
           "ticks": "",
           "title": {
            "standoff": 15
           },
           "zerolinecolor": "white",
           "zerolinewidth": 2
          }
         }
        },
        "xaxis": {
         "anchor": "y",
         "domain": [
          0,
          1
         ],
         "title": {
          "text": "Answer Relevancy"
         }
        },
        "yaxis": {
         "anchor": "x",
         "domain": [
          0,
          1
         ],
         "title": {
          "text": "Latency"
         }
        }
       }
      }
     },
     "metadata": {},
     "output_type": "display_data"
    }
   ],
   "source": [
    "plot_latency_vs_metric(dfs, table_names, categorical_metrics)"
   ]
  },
  {
   "cell_type": "code",
   "execution_count": 20,
   "metadata": {},
   "outputs": [],
   "source": [
    "def plot_model_radars(\n",
    "    dfs, table_names, categorical_metrics, ragas_metrics, context_metrics\n",
    "):\n",
    "    categorical_radar_df = (\n",
    "        table_metrics(dfs, table_names, categorical_metrics)\n",
    "        .groupby([\"model\", \"metric\"])\n",
    "        .mean()\n",
    "        .reset_index()\n",
    "    )\n",
    "    categorical_radar_df.loc[:, \"score\"] = categorical_radar_df[\"score\"].map(\n",
    "        lambda x: (x - 1) / (3 - 1)\n",
    "    )\n",
    "    ragas_radar_df = (\n",
    "        table_metrics(dfs, table_names, ragas_metrics, metric_prefix=\"RAGAS \")\n",
    "        .groupby([\"model\", \"metric\"])\n",
    "        .mean()\n",
    "        .reset_index()\n",
    "    )\n",
    "    context_radar_df = (\n",
    "        table_metrics(dfs, table_names, context_metrics)\n",
    "        .groupby([\"model\", \"metric\"])\n",
    "        .mean()\n",
    "        .reset_index()\n",
    "    )\n",
    "\n",
    "    radar_df = pd.concat(\n",
    "        [categorical_radar_df, ragas_radar_df, context_radar_df]\n",
    "    )\n",
    "\n",
    "    # first plot and log the combined radar plot\n",
    "\n",
    "    df_pivot = radar_df.pivot(\n",
    "        index=\"metric\", columns=\"model\", values=\"score\"\n",
    "    ).reset_index()\n",
    "\n",
    "    metrics = df_pivot[\"metric\"].values\n",
    "    models = df_pivot.columns[1:]\n",
    "\n",
    "    fig = go.Figure()\n",
    "\n",
    "    color_palette = [\n",
    "        \"rgba(255,0,0,0.5)\",\n",
    "        \"rgba(0,255,0,0.5)\",\n",
    "        \"rgba(0,0,255,0.5)\",\n",
    "        \"rgba(255,255,0,0.5)\",\n",
    "    ]  # Add more colors if needed\n",
    "\n",
    "    for idx, model in enumerate(models):\n",
    "        fig.add_trace(\n",
    "            go.Scatterpolar(\n",
    "                r=df_pivot[model].values,\n",
    "                theta=metrics,\n",
    "                # fill='toself',\n",
    "                name=model,\n",
    "                line_color=color_palette[idx % len(color_palette)],\n",
    "            )\n",
    "        )\n",
    "\n",
    "    fig.update_layout(\n",
    "        polar=dict(\n",
    "            radialaxis=dict(\n",
    "                visible=True, range=[0, 1]  # adjust this to fit your data\n",
    "            )\n",
    "        ),\n",
    "        showlegend=True,\n",
    "    )\n",
    "    run.log({\"Model Comparison RadarPlot\": wandb.Plotly(fig)})\n",
    "    fig.show()\n",
    "\n",
    "    for i, model in enumerate(models):\n",
    "        fig = go.Figure(\n",
    "            data=go.Scatterpolar(\n",
    "                r=df_pivot[model].values,\n",
    "                theta=metrics,\n",
    "                fill=\"toself\",\n",
    "                name=model,\n",
    "                line_color=color_palette[\n",
    "                    i % len(color_palette)\n",
    "                ],  # Use color palette\n",
    "                fillcolor=color_palette[\n",
    "                    i % len(color_palette)\n",
    "                ],  # Use color palette\n",
    "                hovertemplate=\"<i>Metric</i>: %{theta}<br><b>Score</b>: %{r}<extra></extra>\",  # Custom hover template\n",
    "            )\n",
    "        )\n",
    "        fig.update_layout(\n",
    "            # title_text=model,\n",
    "            # title_x=0.5,\n",
    "            polar=dict(\n",
    "                radialaxis=dict(\n",
    "                    visible=True, range=[0, 1]  # adjust this to fit your data\n",
    "                )\n",
    "            ),\n",
    "            showlegend=False,\n",
    "        )\n",
    "\n",
    "        run.log({f\"{model} RadarPlot\": wandb.Plotly(fig)})\n",
    "\n",
    "        fig.show()"
   ]
  },
  {
   "cell_type": "code",
   "execution_count": 21,
   "metadata": {},
   "outputs": [
    {
     "data": {
      "application/vnd.plotly.v1+json": {
       "config": {
        "plotlyServerURL": "https://plot.ly"
       },
       "data": [
        {
         "line": {
          "color": "rgba(255,0,0,0.5)"
         },
         "name": "gpt-3.5-turbo-16k-0613",
         "r": [
          0.4387755102040817,
          0.3622448979591837,
          0.6479591836734695,
          0.5235119047353829,
          0.7909046877159122,
          0.4129082174123944,
          0.5871320036330776,
          0.867806150599886,
          0.6894022626065336
         ],
         "theta": [
          "Answer Correctness",
          "Answer Faithfulness",
          "Answer Relevancy",
          "Context Precision",
          "Context Recall",
          "RAGAS Answer Correctness Score",
          "RAGAS Answer Faithfulness Score",
          "RAGAS Answer Relevancy Score",
          "RAGAS Answer Similarity Score"
         ],
         "type": "scatterpolar"
        },
        {
         "line": {
          "color": "rgba(0,255,0,0.5)"
         },
         "name": "gpt-4-0613",
         "r": [
          0.5561224489795917,
          0.6173469387755102,
          0.6377551020408163,
          0.5051870748054144,
          0.7794650219395117,
          0.3579988257995602,
          0.6138417704744233,
          0.8089953486519227,
          0.6906396450576788
         ],
         "theta": [
          "Answer Correctness",
          "Answer Faithfulness",
          "Answer Relevancy",
          "Context Precision",
          "Context Recall",
          "RAGAS Answer Correctness Score",
          "RAGAS Answer Faithfulness Score",
          "RAGAS Answer Relevancy Score",
          "RAGAS Answer Similarity Score"
         ],
         "type": "scatterpolar"
        },
        {
         "line": {
          "color": "rgba(0,0,255,0.5)"
         },
         "name": "gpt-4-1106-preview",
         "r": [
          0.7959183673469388,
          0.4948979591836735,
          0.9540816326530612,
          0.516921768681877,
          0.7896245053132808,
          0.33452574514257316,
          0.6941087965322658,
          0.814936097536511,
          0.6877096295850705
         ],
         "theta": [
          "Answer Correctness",
          "Answer Faithfulness",
          "Answer Relevancy",
          "Context Precision",
          "Context Recall",
          "RAGAS Answer Correctness Score",
          "RAGAS Answer Faithfulness Score",
          "RAGAS Answer Relevancy Score",
          "RAGAS Answer Similarity Score"
         ],
         "type": "scatterpolar"
        },
        {
         "line": {
          "color": "rgba(255,255,0,0.5)"
         },
         "name": "gpt-4-1106-preview-v1.1",
         "r": [
          0.8163265306122449,
          0.6224489795918366,
          0.9132653061224489,
          0.426048752810276,
          0.8676016727037136,
          0.32364761459427555,
          0.7064463880790411,
          0.8185427478757955,
          0.6746812298018944
         ],
         "theta": [
          "Answer Correctness",
          "Answer Faithfulness",
          "Answer Relevancy",
          "Context Precision",
          "Context Recall",
          "RAGAS Answer Correctness Score",
          "RAGAS Answer Faithfulness Score",
          "RAGAS Answer Relevancy Score",
          "RAGAS Answer Similarity Score"
         ],
         "type": "scatterpolar"
        }
       ],
       "layout": {
        "polar": {
         "radialaxis": {
          "range": [
           0,
           1
          ],
          "visible": true
         }
        },
        "showlegend": true,
        "template": {
         "data": {
          "bar": [
           {
            "error_x": {
             "color": "#2a3f5f"
            },
            "error_y": {
             "color": "#2a3f5f"
            },
            "marker": {
             "line": {
              "color": "#E5ECF6",
              "width": 0.5
             },
             "pattern": {
              "fillmode": "overlay",
              "size": 10,
              "solidity": 0.2
             }
            },
            "type": "bar"
           }
          ],
          "barpolar": [
           {
            "marker": {
             "line": {
              "color": "#E5ECF6",
              "width": 0.5
             },
             "pattern": {
              "fillmode": "overlay",
              "size": 10,
              "solidity": 0.2
             }
            },
            "type": "barpolar"
           }
          ],
          "carpet": [
           {
            "aaxis": {
             "endlinecolor": "#2a3f5f",
             "gridcolor": "white",
             "linecolor": "white",
             "minorgridcolor": "white",
             "startlinecolor": "#2a3f5f"
            },
            "baxis": {
             "endlinecolor": "#2a3f5f",
             "gridcolor": "white",
             "linecolor": "white",
             "minorgridcolor": "white",
             "startlinecolor": "#2a3f5f"
            },
            "type": "carpet"
           }
          ],
          "choropleth": [
           {
            "colorbar": {
             "outlinewidth": 0,
             "ticks": ""
            },
            "type": "choropleth"
           }
          ],
          "contour": [
           {
            "colorbar": {
             "outlinewidth": 0,
             "ticks": ""
            },
            "colorscale": [
             [
              0,
              "#0d0887"
             ],
             [
              0.1111111111111111,
              "#46039f"
             ],
             [
              0.2222222222222222,
              "#7201a8"
             ],
             [
              0.3333333333333333,
              "#9c179e"
             ],
             [
              0.4444444444444444,
              "#bd3786"
             ],
             [
              0.5555555555555556,
              "#d8576b"
             ],
             [
              0.6666666666666666,
              "#ed7953"
             ],
             [
              0.7777777777777778,
              "#fb9f3a"
             ],
             [
              0.8888888888888888,
              "#fdca26"
             ],
             [
              1,
              "#f0f921"
             ]
            ],
            "type": "contour"
           }
          ],
          "contourcarpet": [
           {
            "colorbar": {
             "outlinewidth": 0,
             "ticks": ""
            },
            "type": "contourcarpet"
           }
          ],
          "heatmap": [
           {
            "colorbar": {
             "outlinewidth": 0,
             "ticks": ""
            },
            "colorscale": [
             [
              0,
              "#0d0887"
             ],
             [
              0.1111111111111111,
              "#46039f"
             ],
             [
              0.2222222222222222,
              "#7201a8"
             ],
             [
              0.3333333333333333,
              "#9c179e"
             ],
             [
              0.4444444444444444,
              "#bd3786"
             ],
             [
              0.5555555555555556,
              "#d8576b"
             ],
             [
              0.6666666666666666,
              "#ed7953"
             ],
             [
              0.7777777777777778,
              "#fb9f3a"
             ],
             [
              0.8888888888888888,
              "#fdca26"
             ],
             [
              1,
              "#f0f921"
             ]
            ],
            "type": "heatmap"
           }
          ],
          "heatmapgl": [
           {
            "colorbar": {
             "outlinewidth": 0,
             "ticks": ""
            },
            "colorscale": [
             [
              0,
              "#0d0887"
             ],
             [
              0.1111111111111111,
              "#46039f"
             ],
             [
              0.2222222222222222,
              "#7201a8"
             ],
             [
              0.3333333333333333,
              "#9c179e"
             ],
             [
              0.4444444444444444,
              "#bd3786"
             ],
             [
              0.5555555555555556,
              "#d8576b"
             ],
             [
              0.6666666666666666,
              "#ed7953"
             ],
             [
              0.7777777777777778,
              "#fb9f3a"
             ],
             [
              0.8888888888888888,
              "#fdca26"
             ],
             [
              1,
              "#f0f921"
             ]
            ],
            "type": "heatmapgl"
           }
          ],
          "histogram": [
           {
            "marker": {
             "pattern": {
              "fillmode": "overlay",
              "size": 10,
              "solidity": 0.2
             }
            },
            "type": "histogram"
           }
          ],
          "histogram2d": [
           {
            "colorbar": {
             "outlinewidth": 0,
             "ticks": ""
            },
            "colorscale": [
             [
              0,
              "#0d0887"
             ],
             [
              0.1111111111111111,
              "#46039f"
             ],
             [
              0.2222222222222222,
              "#7201a8"
             ],
             [
              0.3333333333333333,
              "#9c179e"
             ],
             [
              0.4444444444444444,
              "#bd3786"
             ],
             [
              0.5555555555555556,
              "#d8576b"
             ],
             [
              0.6666666666666666,
              "#ed7953"
             ],
             [
              0.7777777777777778,
              "#fb9f3a"
             ],
             [
              0.8888888888888888,
              "#fdca26"
             ],
             [
              1,
              "#f0f921"
             ]
            ],
            "type": "histogram2d"
           }
          ],
          "histogram2dcontour": [
           {
            "colorbar": {
             "outlinewidth": 0,
             "ticks": ""
            },
            "colorscale": [
             [
              0,
              "#0d0887"
             ],
             [
              0.1111111111111111,
              "#46039f"
             ],
             [
              0.2222222222222222,
              "#7201a8"
             ],
             [
              0.3333333333333333,
              "#9c179e"
             ],
             [
              0.4444444444444444,
              "#bd3786"
             ],
             [
              0.5555555555555556,
              "#d8576b"
             ],
             [
              0.6666666666666666,
              "#ed7953"
             ],
             [
              0.7777777777777778,
              "#fb9f3a"
             ],
             [
              0.8888888888888888,
              "#fdca26"
             ],
             [
              1,
              "#f0f921"
             ]
            ],
            "type": "histogram2dcontour"
           }
          ],
          "mesh3d": [
           {
            "colorbar": {
             "outlinewidth": 0,
             "ticks": ""
            },
            "type": "mesh3d"
           }
          ],
          "parcoords": [
           {
            "line": {
             "colorbar": {
              "outlinewidth": 0,
              "ticks": ""
             }
            },
            "type": "parcoords"
           }
          ],
          "pie": [
           {
            "automargin": true,
            "type": "pie"
           }
          ],
          "scatter": [
           {
            "fillpattern": {
             "fillmode": "overlay",
             "size": 10,
             "solidity": 0.2
            },
            "type": "scatter"
           }
          ],
          "scatter3d": [
           {
            "line": {
             "colorbar": {
              "outlinewidth": 0,
              "ticks": ""
             }
            },
            "marker": {
             "colorbar": {
              "outlinewidth": 0,
              "ticks": ""
             }
            },
            "type": "scatter3d"
           }
          ],
          "scattercarpet": [
           {
            "marker": {
             "colorbar": {
              "outlinewidth": 0,
              "ticks": ""
             }
            },
            "type": "scattercarpet"
           }
          ],
          "scattergeo": [
           {
            "marker": {
             "colorbar": {
              "outlinewidth": 0,
              "ticks": ""
             }
            },
            "type": "scattergeo"
           }
          ],
          "scattergl": [
           {
            "marker": {
             "colorbar": {
              "outlinewidth": 0,
              "ticks": ""
             }
            },
            "type": "scattergl"
           }
          ],
          "scattermapbox": [
           {
            "marker": {
             "colorbar": {
              "outlinewidth": 0,
              "ticks": ""
             }
            },
            "type": "scattermapbox"
           }
          ],
          "scatterpolar": [
           {
            "marker": {
             "colorbar": {
              "outlinewidth": 0,
              "ticks": ""
             }
            },
            "type": "scatterpolar"
           }
          ],
          "scatterpolargl": [
           {
            "marker": {
             "colorbar": {
              "outlinewidth": 0,
              "ticks": ""
             }
            },
            "type": "scatterpolargl"
           }
          ],
          "scatterternary": [
           {
            "marker": {
             "colorbar": {
              "outlinewidth": 0,
              "ticks": ""
             }
            },
            "type": "scatterternary"
           }
          ],
          "surface": [
           {
            "colorbar": {
             "outlinewidth": 0,
             "ticks": ""
            },
            "colorscale": [
             [
              0,
              "#0d0887"
             ],
             [
              0.1111111111111111,
              "#46039f"
             ],
             [
              0.2222222222222222,
              "#7201a8"
             ],
             [
              0.3333333333333333,
              "#9c179e"
             ],
             [
              0.4444444444444444,
              "#bd3786"
             ],
             [
              0.5555555555555556,
              "#d8576b"
             ],
             [
              0.6666666666666666,
              "#ed7953"
             ],
             [
              0.7777777777777778,
              "#fb9f3a"
             ],
             [
              0.8888888888888888,
              "#fdca26"
             ],
             [
              1,
              "#f0f921"
             ]
            ],
            "type": "surface"
           }
          ],
          "table": [
           {
            "cells": {
             "fill": {
              "color": "#EBF0F8"
             },
             "line": {
              "color": "white"
             }
            },
            "header": {
             "fill": {
              "color": "#C8D4E3"
             },
             "line": {
              "color": "white"
             }
            },
            "type": "table"
           }
          ]
         },
         "layout": {
          "annotationdefaults": {
           "arrowcolor": "#2a3f5f",
           "arrowhead": 0,
           "arrowwidth": 1
          },
          "autotypenumbers": "strict",
          "coloraxis": {
           "colorbar": {
            "outlinewidth": 0,
            "ticks": ""
           }
          },
          "colorscale": {
           "diverging": [
            [
             0,
             "#8e0152"
            ],
            [
             0.1,
             "#c51b7d"
            ],
            [
             0.2,
             "#de77ae"
            ],
            [
             0.3,
             "#f1b6da"
            ],
            [
             0.4,
             "#fde0ef"
            ],
            [
             0.5,
             "#f7f7f7"
            ],
            [
             0.6,
             "#e6f5d0"
            ],
            [
             0.7,
             "#b8e186"
            ],
            [
             0.8,
             "#7fbc41"
            ],
            [
             0.9,
             "#4d9221"
            ],
            [
             1,
             "#276419"
            ]
           ],
           "sequential": [
            [
             0,
             "#0d0887"
            ],
            [
             0.1111111111111111,
             "#46039f"
            ],
            [
             0.2222222222222222,
             "#7201a8"
            ],
            [
             0.3333333333333333,
             "#9c179e"
            ],
            [
             0.4444444444444444,
             "#bd3786"
            ],
            [
             0.5555555555555556,
             "#d8576b"
            ],
            [
             0.6666666666666666,
             "#ed7953"
            ],
            [
             0.7777777777777778,
             "#fb9f3a"
            ],
            [
             0.8888888888888888,
             "#fdca26"
            ],
            [
             1,
             "#f0f921"
            ]
           ],
           "sequentialminus": [
            [
             0,
             "#0d0887"
            ],
            [
             0.1111111111111111,
             "#46039f"
            ],
            [
             0.2222222222222222,
             "#7201a8"
            ],
            [
             0.3333333333333333,
             "#9c179e"
            ],
            [
             0.4444444444444444,
             "#bd3786"
            ],
            [
             0.5555555555555556,
             "#d8576b"
            ],
            [
             0.6666666666666666,
             "#ed7953"
            ],
            [
             0.7777777777777778,
             "#fb9f3a"
            ],
            [
             0.8888888888888888,
             "#fdca26"
            ],
            [
             1,
             "#f0f921"
            ]
           ]
          },
          "colorway": [
           "#636efa",
           "#EF553B",
           "#00cc96",
           "#ab63fa",
           "#FFA15A",
           "#19d3f3",
           "#FF6692",
           "#B6E880",
           "#FF97FF",
           "#FECB52"
          ],
          "font": {
           "color": "#2a3f5f"
          },
          "geo": {
           "bgcolor": "white",
           "lakecolor": "white",
           "landcolor": "#E5ECF6",
           "showlakes": true,
           "showland": true,
           "subunitcolor": "white"
          },
          "hoverlabel": {
           "align": "left"
          },
          "hovermode": "closest",
          "mapbox": {
           "style": "light"
          },
          "paper_bgcolor": "white",
          "plot_bgcolor": "#E5ECF6",
          "polar": {
           "angularaxis": {
            "gridcolor": "white",
            "linecolor": "white",
            "ticks": ""
           },
           "bgcolor": "#E5ECF6",
           "radialaxis": {
            "gridcolor": "white",
            "linecolor": "white",
            "ticks": ""
           }
          },
          "scene": {
           "xaxis": {
            "backgroundcolor": "#E5ECF6",
            "gridcolor": "white",
            "gridwidth": 2,
            "linecolor": "white",
            "showbackground": true,
            "ticks": "",
            "zerolinecolor": "white"
           },
           "yaxis": {
            "backgroundcolor": "#E5ECF6",
            "gridcolor": "white",
            "gridwidth": 2,
            "linecolor": "white",
            "showbackground": true,
            "ticks": "",
            "zerolinecolor": "white"
           },
           "zaxis": {
            "backgroundcolor": "#E5ECF6",
            "gridcolor": "white",
            "gridwidth": 2,
            "linecolor": "white",
            "showbackground": true,
            "ticks": "",
            "zerolinecolor": "white"
           }
          },
          "shapedefaults": {
           "line": {
            "color": "#2a3f5f"
           }
          },
          "ternary": {
           "aaxis": {
            "gridcolor": "white",
            "linecolor": "white",
            "ticks": ""
           },
           "baxis": {
            "gridcolor": "white",
            "linecolor": "white",
            "ticks": ""
           },
           "bgcolor": "#E5ECF6",
           "caxis": {
            "gridcolor": "white",
            "linecolor": "white",
            "ticks": ""
           }
          },
          "title": {
           "x": 0.05
          },
          "xaxis": {
           "automargin": true,
           "gridcolor": "white",
           "linecolor": "white",
           "ticks": "",
           "title": {
            "standoff": 15
           },
           "zerolinecolor": "white",
           "zerolinewidth": 2
          },
          "yaxis": {
           "automargin": true,
           "gridcolor": "white",
           "linecolor": "white",
           "ticks": "",
           "title": {
            "standoff": 15
           },
           "zerolinecolor": "white",
           "zerolinewidth": 2
          }
         }
        }
       }
      }
     },
     "metadata": {},
     "output_type": "display_data"
    },
    {
     "data": {
      "application/vnd.plotly.v1+json": {
       "config": {
        "plotlyServerURL": "https://plot.ly"
       },
       "data": [
        {
         "fill": "toself",
         "fillcolor": "rgba(255,0,0,0.5)",
         "hovertemplate": "<i>Metric</i>: %{theta}<br><b>Score</b>: %{r}<extra></extra>",
         "line": {
          "color": "rgba(255,0,0,0.5)"
         },
         "name": "gpt-3.5-turbo-16k-0613",
         "r": [
          0.4387755102040817,
          0.3622448979591837,
          0.6479591836734695,
          0.5235119047353829,
          0.7909046877159122,
          0.4129082174123944,
          0.5871320036330776,
          0.867806150599886,
          0.6894022626065336
         ],
         "theta": [
          "Answer Correctness",
          "Answer Faithfulness",
          "Answer Relevancy",
          "Context Precision",
          "Context Recall",
          "RAGAS Answer Correctness Score",
          "RAGAS Answer Faithfulness Score",
          "RAGAS Answer Relevancy Score",
          "RAGAS Answer Similarity Score"
         ],
         "type": "scatterpolar"
        }
       ],
       "layout": {
        "polar": {
         "radialaxis": {
          "range": [
           0,
           1
          ],
          "visible": true
         }
        },
        "showlegend": false,
        "template": {
         "data": {
          "bar": [
           {
            "error_x": {
             "color": "#2a3f5f"
            },
            "error_y": {
             "color": "#2a3f5f"
            },
            "marker": {
             "line": {
              "color": "#E5ECF6",
              "width": 0.5
             },
             "pattern": {
              "fillmode": "overlay",
              "size": 10,
              "solidity": 0.2
             }
            },
            "type": "bar"
           }
          ],
          "barpolar": [
           {
            "marker": {
             "line": {
              "color": "#E5ECF6",
              "width": 0.5
             },
             "pattern": {
              "fillmode": "overlay",
              "size": 10,
              "solidity": 0.2
             }
            },
            "type": "barpolar"
           }
          ],
          "carpet": [
           {
            "aaxis": {
             "endlinecolor": "#2a3f5f",
             "gridcolor": "white",
             "linecolor": "white",
             "minorgridcolor": "white",
             "startlinecolor": "#2a3f5f"
            },
            "baxis": {
             "endlinecolor": "#2a3f5f",
             "gridcolor": "white",
             "linecolor": "white",
             "minorgridcolor": "white",
             "startlinecolor": "#2a3f5f"
            },
            "type": "carpet"
           }
          ],
          "choropleth": [
           {
            "colorbar": {
             "outlinewidth": 0,
             "ticks": ""
            },
            "type": "choropleth"
           }
          ],
          "contour": [
           {
            "colorbar": {
             "outlinewidth": 0,
             "ticks": ""
            },
            "colorscale": [
             [
              0,
              "#0d0887"
             ],
             [
              0.1111111111111111,
              "#46039f"
             ],
             [
              0.2222222222222222,
              "#7201a8"
             ],
             [
              0.3333333333333333,
              "#9c179e"
             ],
             [
              0.4444444444444444,
              "#bd3786"
             ],
             [
              0.5555555555555556,
              "#d8576b"
             ],
             [
              0.6666666666666666,
              "#ed7953"
             ],
             [
              0.7777777777777778,
              "#fb9f3a"
             ],
             [
              0.8888888888888888,
              "#fdca26"
             ],
             [
              1,
              "#f0f921"
             ]
            ],
            "type": "contour"
           }
          ],
          "contourcarpet": [
           {
            "colorbar": {
             "outlinewidth": 0,
             "ticks": ""
            },
            "type": "contourcarpet"
           }
          ],
          "heatmap": [
           {
            "colorbar": {
             "outlinewidth": 0,
             "ticks": ""
            },
            "colorscale": [
             [
              0,
              "#0d0887"
             ],
             [
              0.1111111111111111,
              "#46039f"
             ],
             [
              0.2222222222222222,
              "#7201a8"
             ],
             [
              0.3333333333333333,
              "#9c179e"
             ],
             [
              0.4444444444444444,
              "#bd3786"
             ],
             [
              0.5555555555555556,
              "#d8576b"
             ],
             [
              0.6666666666666666,
              "#ed7953"
             ],
             [
              0.7777777777777778,
              "#fb9f3a"
             ],
             [
              0.8888888888888888,
              "#fdca26"
             ],
             [
              1,
              "#f0f921"
             ]
            ],
            "type": "heatmap"
           }
          ],
          "heatmapgl": [
           {
            "colorbar": {
             "outlinewidth": 0,
             "ticks": ""
            },
            "colorscale": [
             [
              0,
              "#0d0887"
             ],
             [
              0.1111111111111111,
              "#46039f"
             ],
             [
              0.2222222222222222,
              "#7201a8"
             ],
             [
              0.3333333333333333,
              "#9c179e"
             ],
             [
              0.4444444444444444,
              "#bd3786"
             ],
             [
              0.5555555555555556,
              "#d8576b"
             ],
             [
              0.6666666666666666,
              "#ed7953"
             ],
             [
              0.7777777777777778,
              "#fb9f3a"
             ],
             [
              0.8888888888888888,
              "#fdca26"
             ],
             [
              1,
              "#f0f921"
             ]
            ],
            "type": "heatmapgl"
           }
          ],
          "histogram": [
           {
            "marker": {
             "pattern": {
              "fillmode": "overlay",
              "size": 10,
              "solidity": 0.2
             }
            },
            "type": "histogram"
           }
          ],
          "histogram2d": [
           {
            "colorbar": {
             "outlinewidth": 0,
             "ticks": ""
            },
            "colorscale": [
             [
              0,
              "#0d0887"
             ],
             [
              0.1111111111111111,
              "#46039f"
             ],
             [
              0.2222222222222222,
              "#7201a8"
             ],
             [
              0.3333333333333333,
              "#9c179e"
             ],
             [
              0.4444444444444444,
              "#bd3786"
             ],
             [
              0.5555555555555556,
              "#d8576b"
             ],
             [
              0.6666666666666666,
              "#ed7953"
             ],
             [
              0.7777777777777778,
              "#fb9f3a"
             ],
             [
              0.8888888888888888,
              "#fdca26"
             ],
             [
              1,
              "#f0f921"
             ]
            ],
            "type": "histogram2d"
           }
          ],
          "histogram2dcontour": [
           {
            "colorbar": {
             "outlinewidth": 0,
             "ticks": ""
            },
            "colorscale": [
             [
              0,
              "#0d0887"
             ],
             [
              0.1111111111111111,
              "#46039f"
             ],
             [
              0.2222222222222222,
              "#7201a8"
             ],
             [
              0.3333333333333333,
              "#9c179e"
             ],
             [
              0.4444444444444444,
              "#bd3786"
             ],
             [
              0.5555555555555556,
              "#d8576b"
             ],
             [
              0.6666666666666666,
              "#ed7953"
             ],
             [
              0.7777777777777778,
              "#fb9f3a"
             ],
             [
              0.8888888888888888,
              "#fdca26"
             ],
             [
              1,
              "#f0f921"
             ]
            ],
            "type": "histogram2dcontour"
           }
          ],
          "mesh3d": [
           {
            "colorbar": {
             "outlinewidth": 0,
             "ticks": ""
            },
            "type": "mesh3d"
           }
          ],
          "parcoords": [
           {
            "line": {
             "colorbar": {
              "outlinewidth": 0,
              "ticks": ""
             }
            },
            "type": "parcoords"
           }
          ],
          "pie": [
           {
            "automargin": true,
            "type": "pie"
           }
          ],
          "scatter": [
           {
            "fillpattern": {
             "fillmode": "overlay",
             "size": 10,
             "solidity": 0.2
            },
            "type": "scatter"
           }
          ],
          "scatter3d": [
           {
            "line": {
             "colorbar": {
              "outlinewidth": 0,
              "ticks": ""
             }
            },
            "marker": {
             "colorbar": {
              "outlinewidth": 0,
              "ticks": ""
             }
            },
            "type": "scatter3d"
           }
          ],
          "scattercarpet": [
           {
            "marker": {
             "colorbar": {
              "outlinewidth": 0,
              "ticks": ""
             }
            },
            "type": "scattercarpet"
           }
          ],
          "scattergeo": [
           {
            "marker": {
             "colorbar": {
              "outlinewidth": 0,
              "ticks": ""
             }
            },
            "type": "scattergeo"
           }
          ],
          "scattergl": [
           {
            "marker": {
             "colorbar": {
              "outlinewidth": 0,
              "ticks": ""
             }
            },
            "type": "scattergl"
           }
          ],
          "scattermapbox": [
           {
            "marker": {
             "colorbar": {
              "outlinewidth": 0,
              "ticks": ""
             }
            },
            "type": "scattermapbox"
           }
          ],
          "scatterpolar": [
           {
            "marker": {
             "colorbar": {
              "outlinewidth": 0,
              "ticks": ""
             }
            },
            "type": "scatterpolar"
           }
          ],
          "scatterpolargl": [
           {
            "marker": {
             "colorbar": {
              "outlinewidth": 0,
              "ticks": ""
             }
            },
            "type": "scatterpolargl"
           }
          ],
          "scatterternary": [
           {
            "marker": {
             "colorbar": {
              "outlinewidth": 0,
              "ticks": ""
             }
            },
            "type": "scatterternary"
           }
          ],
          "surface": [
           {
            "colorbar": {
             "outlinewidth": 0,
             "ticks": ""
            },
            "colorscale": [
             [
              0,
              "#0d0887"
             ],
             [
              0.1111111111111111,
              "#46039f"
             ],
             [
              0.2222222222222222,
              "#7201a8"
             ],
             [
              0.3333333333333333,
              "#9c179e"
             ],
             [
              0.4444444444444444,
              "#bd3786"
             ],
             [
              0.5555555555555556,
              "#d8576b"
             ],
             [
              0.6666666666666666,
              "#ed7953"
             ],
             [
              0.7777777777777778,
              "#fb9f3a"
             ],
             [
              0.8888888888888888,
              "#fdca26"
             ],
             [
              1,
              "#f0f921"
             ]
            ],
            "type": "surface"
           }
          ],
          "table": [
           {
            "cells": {
             "fill": {
              "color": "#EBF0F8"
             },
             "line": {
              "color": "white"
             }
            },
            "header": {
             "fill": {
              "color": "#C8D4E3"
             },
             "line": {
              "color": "white"
             }
            },
            "type": "table"
           }
          ]
         },
         "layout": {
          "annotationdefaults": {
           "arrowcolor": "#2a3f5f",
           "arrowhead": 0,
           "arrowwidth": 1
          },
          "autotypenumbers": "strict",
          "coloraxis": {
           "colorbar": {
            "outlinewidth": 0,
            "ticks": ""
           }
          },
          "colorscale": {
           "diverging": [
            [
             0,
             "#8e0152"
            ],
            [
             0.1,
             "#c51b7d"
            ],
            [
             0.2,
             "#de77ae"
            ],
            [
             0.3,
             "#f1b6da"
            ],
            [
             0.4,
             "#fde0ef"
            ],
            [
             0.5,
             "#f7f7f7"
            ],
            [
             0.6,
             "#e6f5d0"
            ],
            [
             0.7,
             "#b8e186"
            ],
            [
             0.8,
             "#7fbc41"
            ],
            [
             0.9,
             "#4d9221"
            ],
            [
             1,
             "#276419"
            ]
           ],
           "sequential": [
            [
             0,
             "#0d0887"
            ],
            [
             0.1111111111111111,
             "#46039f"
            ],
            [
             0.2222222222222222,
             "#7201a8"
            ],
            [
             0.3333333333333333,
             "#9c179e"
            ],
            [
             0.4444444444444444,
             "#bd3786"
            ],
            [
             0.5555555555555556,
             "#d8576b"
            ],
            [
             0.6666666666666666,
             "#ed7953"
            ],
            [
             0.7777777777777778,
             "#fb9f3a"
            ],
            [
             0.8888888888888888,
             "#fdca26"
            ],
            [
             1,
             "#f0f921"
            ]
           ],
           "sequentialminus": [
            [
             0,
             "#0d0887"
            ],
            [
             0.1111111111111111,
             "#46039f"
            ],
            [
             0.2222222222222222,
             "#7201a8"
            ],
            [
             0.3333333333333333,
             "#9c179e"
            ],
            [
             0.4444444444444444,
             "#bd3786"
            ],
            [
             0.5555555555555556,
             "#d8576b"
            ],
            [
             0.6666666666666666,
             "#ed7953"
            ],
            [
             0.7777777777777778,
             "#fb9f3a"
            ],
            [
             0.8888888888888888,
             "#fdca26"
            ],
            [
             1,
             "#f0f921"
            ]
           ]
          },
          "colorway": [
           "#636efa",
           "#EF553B",
           "#00cc96",
           "#ab63fa",
           "#FFA15A",
           "#19d3f3",
           "#FF6692",
           "#B6E880",
           "#FF97FF",
           "#FECB52"
          ],
          "font": {
           "color": "#2a3f5f"
          },
          "geo": {
           "bgcolor": "white",
           "lakecolor": "white",
           "landcolor": "#E5ECF6",
           "showlakes": true,
           "showland": true,
           "subunitcolor": "white"
          },
          "hoverlabel": {
           "align": "left"
          },
          "hovermode": "closest",
          "mapbox": {
           "style": "light"
          },
          "paper_bgcolor": "white",
          "plot_bgcolor": "#E5ECF6",
          "polar": {
           "angularaxis": {
            "gridcolor": "white",
            "linecolor": "white",
            "ticks": ""
           },
           "bgcolor": "#E5ECF6",
           "radialaxis": {
            "gridcolor": "white",
            "linecolor": "white",
            "ticks": ""
           }
          },
          "scene": {
           "xaxis": {
            "backgroundcolor": "#E5ECF6",
            "gridcolor": "white",
            "gridwidth": 2,
            "linecolor": "white",
            "showbackground": true,
            "ticks": "",
            "zerolinecolor": "white"
           },
           "yaxis": {
            "backgroundcolor": "#E5ECF6",
            "gridcolor": "white",
            "gridwidth": 2,
            "linecolor": "white",
            "showbackground": true,
            "ticks": "",
            "zerolinecolor": "white"
           },
           "zaxis": {
            "backgroundcolor": "#E5ECF6",
            "gridcolor": "white",
            "gridwidth": 2,
            "linecolor": "white",
            "showbackground": true,
            "ticks": "",
            "zerolinecolor": "white"
           }
          },
          "shapedefaults": {
           "line": {
            "color": "#2a3f5f"
           }
          },
          "ternary": {
           "aaxis": {
            "gridcolor": "white",
            "linecolor": "white",
            "ticks": ""
           },
           "baxis": {
            "gridcolor": "white",
            "linecolor": "white",
            "ticks": ""
           },
           "bgcolor": "#E5ECF6",
           "caxis": {
            "gridcolor": "white",
            "linecolor": "white",
            "ticks": ""
           }
          },
          "title": {
           "x": 0.05
          },
          "xaxis": {
           "automargin": true,
           "gridcolor": "white",
           "linecolor": "white",
           "ticks": "",
           "title": {
            "standoff": 15
           },
           "zerolinecolor": "white",
           "zerolinewidth": 2
          },
          "yaxis": {
           "automargin": true,
           "gridcolor": "white",
           "linecolor": "white",
           "ticks": "",
           "title": {
            "standoff": 15
           },
           "zerolinecolor": "white",
           "zerolinewidth": 2
          }
         }
        }
       }
      }
     },
     "metadata": {},
     "output_type": "display_data"
    },
    {
     "data": {
      "application/vnd.plotly.v1+json": {
       "config": {
        "plotlyServerURL": "https://plot.ly"
       },
       "data": [
        {
         "fill": "toself",
         "fillcolor": "rgba(0,255,0,0.5)",
         "hovertemplate": "<i>Metric</i>: %{theta}<br><b>Score</b>: %{r}<extra></extra>",
         "line": {
          "color": "rgba(0,255,0,0.5)"
         },
         "name": "gpt-4-0613",
         "r": [
          0.5561224489795917,
          0.6173469387755102,
          0.6377551020408163,
          0.5051870748054144,
          0.7794650219395117,
          0.3579988257995602,
          0.6138417704744233,
          0.8089953486519227,
          0.6906396450576788
         ],
         "theta": [
          "Answer Correctness",
          "Answer Faithfulness",
          "Answer Relevancy",
          "Context Precision",
          "Context Recall",
          "RAGAS Answer Correctness Score",
          "RAGAS Answer Faithfulness Score",
          "RAGAS Answer Relevancy Score",
          "RAGAS Answer Similarity Score"
         ],
         "type": "scatterpolar"
        }
       ],
       "layout": {
        "polar": {
         "radialaxis": {
          "range": [
           0,
           1
          ],
          "visible": true
         }
        },
        "showlegend": false,
        "template": {
         "data": {
          "bar": [
           {
            "error_x": {
             "color": "#2a3f5f"
            },
            "error_y": {
             "color": "#2a3f5f"
            },
            "marker": {
             "line": {
              "color": "#E5ECF6",
              "width": 0.5
             },
             "pattern": {
              "fillmode": "overlay",
              "size": 10,
              "solidity": 0.2
             }
            },
            "type": "bar"
           }
          ],
          "barpolar": [
           {
            "marker": {
             "line": {
              "color": "#E5ECF6",
              "width": 0.5
             },
             "pattern": {
              "fillmode": "overlay",
              "size": 10,
              "solidity": 0.2
             }
            },
            "type": "barpolar"
           }
          ],
          "carpet": [
           {
            "aaxis": {
             "endlinecolor": "#2a3f5f",
             "gridcolor": "white",
             "linecolor": "white",
             "minorgridcolor": "white",
             "startlinecolor": "#2a3f5f"
            },
            "baxis": {
             "endlinecolor": "#2a3f5f",
             "gridcolor": "white",
             "linecolor": "white",
             "minorgridcolor": "white",
             "startlinecolor": "#2a3f5f"
            },
            "type": "carpet"
           }
          ],
          "choropleth": [
           {
            "colorbar": {
             "outlinewidth": 0,
             "ticks": ""
            },
            "type": "choropleth"
           }
          ],
          "contour": [
           {
            "colorbar": {
             "outlinewidth": 0,
             "ticks": ""
            },
            "colorscale": [
             [
              0,
              "#0d0887"
             ],
             [
              0.1111111111111111,
              "#46039f"
             ],
             [
              0.2222222222222222,
              "#7201a8"
             ],
             [
              0.3333333333333333,
              "#9c179e"
             ],
             [
              0.4444444444444444,
              "#bd3786"
             ],
             [
              0.5555555555555556,
              "#d8576b"
             ],
             [
              0.6666666666666666,
              "#ed7953"
             ],
             [
              0.7777777777777778,
              "#fb9f3a"
             ],
             [
              0.8888888888888888,
              "#fdca26"
             ],
             [
              1,
              "#f0f921"
             ]
            ],
            "type": "contour"
           }
          ],
          "contourcarpet": [
           {
            "colorbar": {
             "outlinewidth": 0,
             "ticks": ""
            },
            "type": "contourcarpet"
           }
          ],
          "heatmap": [
           {
            "colorbar": {
             "outlinewidth": 0,
             "ticks": ""
            },
            "colorscale": [
             [
              0,
              "#0d0887"
             ],
             [
              0.1111111111111111,
              "#46039f"
             ],
             [
              0.2222222222222222,
              "#7201a8"
             ],
             [
              0.3333333333333333,
              "#9c179e"
             ],
             [
              0.4444444444444444,
              "#bd3786"
             ],
             [
              0.5555555555555556,
              "#d8576b"
             ],
             [
              0.6666666666666666,
              "#ed7953"
             ],
             [
              0.7777777777777778,
              "#fb9f3a"
             ],
             [
              0.8888888888888888,
              "#fdca26"
             ],
             [
              1,
              "#f0f921"
             ]
            ],
            "type": "heatmap"
           }
          ],
          "heatmapgl": [
           {
            "colorbar": {
             "outlinewidth": 0,
             "ticks": ""
            },
            "colorscale": [
             [
              0,
              "#0d0887"
             ],
             [
              0.1111111111111111,
              "#46039f"
             ],
             [
              0.2222222222222222,
              "#7201a8"
             ],
             [
              0.3333333333333333,
              "#9c179e"
             ],
             [
              0.4444444444444444,
              "#bd3786"
             ],
             [
              0.5555555555555556,
              "#d8576b"
             ],
             [
              0.6666666666666666,
              "#ed7953"
             ],
             [
              0.7777777777777778,
              "#fb9f3a"
             ],
             [
              0.8888888888888888,
              "#fdca26"
             ],
             [
              1,
              "#f0f921"
             ]
            ],
            "type": "heatmapgl"
           }
          ],
          "histogram": [
           {
            "marker": {
             "pattern": {
              "fillmode": "overlay",
              "size": 10,
              "solidity": 0.2
             }
            },
            "type": "histogram"
           }
          ],
          "histogram2d": [
           {
            "colorbar": {
             "outlinewidth": 0,
             "ticks": ""
            },
            "colorscale": [
             [
              0,
              "#0d0887"
             ],
             [
              0.1111111111111111,
              "#46039f"
             ],
             [
              0.2222222222222222,
              "#7201a8"
             ],
             [
              0.3333333333333333,
              "#9c179e"
             ],
             [
              0.4444444444444444,
              "#bd3786"
             ],
             [
              0.5555555555555556,
              "#d8576b"
             ],
             [
              0.6666666666666666,
              "#ed7953"
             ],
             [
              0.7777777777777778,
              "#fb9f3a"
             ],
             [
              0.8888888888888888,
              "#fdca26"
             ],
             [
              1,
              "#f0f921"
             ]
            ],
            "type": "histogram2d"
           }
          ],
          "histogram2dcontour": [
           {
            "colorbar": {
             "outlinewidth": 0,
             "ticks": ""
            },
            "colorscale": [
             [
              0,
              "#0d0887"
             ],
             [
              0.1111111111111111,
              "#46039f"
             ],
             [
              0.2222222222222222,
              "#7201a8"
             ],
             [
              0.3333333333333333,
              "#9c179e"
             ],
             [
              0.4444444444444444,
              "#bd3786"
             ],
             [
              0.5555555555555556,
              "#d8576b"
             ],
             [
              0.6666666666666666,
              "#ed7953"
             ],
             [
              0.7777777777777778,
              "#fb9f3a"
             ],
             [
              0.8888888888888888,
              "#fdca26"
             ],
             [
              1,
              "#f0f921"
             ]
            ],
            "type": "histogram2dcontour"
           }
          ],
          "mesh3d": [
           {
            "colorbar": {
             "outlinewidth": 0,
             "ticks": ""
            },
            "type": "mesh3d"
           }
          ],
          "parcoords": [
           {
            "line": {
             "colorbar": {
              "outlinewidth": 0,
              "ticks": ""
             }
            },
            "type": "parcoords"
           }
          ],
          "pie": [
           {
            "automargin": true,
            "type": "pie"
           }
          ],
          "scatter": [
           {
            "fillpattern": {
             "fillmode": "overlay",
             "size": 10,
             "solidity": 0.2
            },
            "type": "scatter"
           }
          ],
          "scatter3d": [
           {
            "line": {
             "colorbar": {
              "outlinewidth": 0,
              "ticks": ""
             }
            },
            "marker": {
             "colorbar": {
              "outlinewidth": 0,
              "ticks": ""
             }
            },
            "type": "scatter3d"
           }
          ],
          "scattercarpet": [
           {
            "marker": {
             "colorbar": {
              "outlinewidth": 0,
              "ticks": ""
             }
            },
            "type": "scattercarpet"
           }
          ],
          "scattergeo": [
           {
            "marker": {
             "colorbar": {
              "outlinewidth": 0,
              "ticks": ""
             }
            },
            "type": "scattergeo"
           }
          ],
          "scattergl": [
           {
            "marker": {
             "colorbar": {
              "outlinewidth": 0,
              "ticks": ""
             }
            },
            "type": "scattergl"
           }
          ],
          "scattermapbox": [
           {
            "marker": {
             "colorbar": {
              "outlinewidth": 0,
              "ticks": ""
             }
            },
            "type": "scattermapbox"
           }
          ],
          "scatterpolar": [
           {
            "marker": {
             "colorbar": {
              "outlinewidth": 0,
              "ticks": ""
             }
            },
            "type": "scatterpolar"
           }
          ],
          "scatterpolargl": [
           {
            "marker": {
             "colorbar": {
              "outlinewidth": 0,
              "ticks": ""
             }
            },
            "type": "scatterpolargl"
           }
          ],
          "scatterternary": [
           {
            "marker": {
             "colorbar": {
              "outlinewidth": 0,
              "ticks": ""
             }
            },
            "type": "scatterternary"
           }
          ],
          "surface": [
           {
            "colorbar": {
             "outlinewidth": 0,
             "ticks": ""
            },
            "colorscale": [
             [
              0,
              "#0d0887"
             ],
             [
              0.1111111111111111,
              "#46039f"
             ],
             [
              0.2222222222222222,
              "#7201a8"
             ],
             [
              0.3333333333333333,
              "#9c179e"
             ],
             [
              0.4444444444444444,
              "#bd3786"
             ],
             [
              0.5555555555555556,
              "#d8576b"
             ],
             [
              0.6666666666666666,
              "#ed7953"
             ],
             [
              0.7777777777777778,
              "#fb9f3a"
             ],
             [
              0.8888888888888888,
              "#fdca26"
             ],
             [
              1,
              "#f0f921"
             ]
            ],
            "type": "surface"
           }
          ],
          "table": [
           {
            "cells": {
             "fill": {
              "color": "#EBF0F8"
             },
             "line": {
              "color": "white"
             }
            },
            "header": {
             "fill": {
              "color": "#C8D4E3"
             },
             "line": {
              "color": "white"
             }
            },
            "type": "table"
           }
          ]
         },
         "layout": {
          "annotationdefaults": {
           "arrowcolor": "#2a3f5f",
           "arrowhead": 0,
           "arrowwidth": 1
          },
          "autotypenumbers": "strict",
          "coloraxis": {
           "colorbar": {
            "outlinewidth": 0,
            "ticks": ""
           }
          },
          "colorscale": {
           "diverging": [
            [
             0,
             "#8e0152"
            ],
            [
             0.1,
             "#c51b7d"
            ],
            [
             0.2,
             "#de77ae"
            ],
            [
             0.3,
             "#f1b6da"
            ],
            [
             0.4,
             "#fde0ef"
            ],
            [
             0.5,
             "#f7f7f7"
            ],
            [
             0.6,
             "#e6f5d0"
            ],
            [
             0.7,
             "#b8e186"
            ],
            [
             0.8,
             "#7fbc41"
            ],
            [
             0.9,
             "#4d9221"
            ],
            [
             1,
             "#276419"
            ]
           ],
           "sequential": [
            [
             0,
             "#0d0887"
            ],
            [
             0.1111111111111111,
             "#46039f"
            ],
            [
             0.2222222222222222,
             "#7201a8"
            ],
            [
             0.3333333333333333,
             "#9c179e"
            ],
            [
             0.4444444444444444,
             "#bd3786"
            ],
            [
             0.5555555555555556,
             "#d8576b"
            ],
            [
             0.6666666666666666,
             "#ed7953"
            ],
            [
             0.7777777777777778,
             "#fb9f3a"
            ],
            [
             0.8888888888888888,
             "#fdca26"
            ],
            [
             1,
             "#f0f921"
            ]
           ],
           "sequentialminus": [
            [
             0,
             "#0d0887"
            ],
            [
             0.1111111111111111,
             "#46039f"
            ],
            [
             0.2222222222222222,
             "#7201a8"
            ],
            [
             0.3333333333333333,
             "#9c179e"
            ],
            [
             0.4444444444444444,
             "#bd3786"
            ],
            [
             0.5555555555555556,
             "#d8576b"
            ],
            [
             0.6666666666666666,
             "#ed7953"
            ],
            [
             0.7777777777777778,
             "#fb9f3a"
            ],
            [
             0.8888888888888888,
             "#fdca26"
            ],
            [
             1,
             "#f0f921"
            ]
           ]
          },
          "colorway": [
           "#636efa",
           "#EF553B",
           "#00cc96",
           "#ab63fa",
           "#FFA15A",
           "#19d3f3",
           "#FF6692",
           "#B6E880",
           "#FF97FF",
           "#FECB52"
          ],
          "font": {
           "color": "#2a3f5f"
          },
          "geo": {
           "bgcolor": "white",
           "lakecolor": "white",
           "landcolor": "#E5ECF6",
           "showlakes": true,
           "showland": true,
           "subunitcolor": "white"
          },
          "hoverlabel": {
           "align": "left"
          },
          "hovermode": "closest",
          "mapbox": {
           "style": "light"
          },
          "paper_bgcolor": "white",
          "plot_bgcolor": "#E5ECF6",
          "polar": {
           "angularaxis": {
            "gridcolor": "white",
            "linecolor": "white",
            "ticks": ""
           },
           "bgcolor": "#E5ECF6",
           "radialaxis": {
            "gridcolor": "white",
            "linecolor": "white",
            "ticks": ""
           }
          },
          "scene": {
           "xaxis": {
            "backgroundcolor": "#E5ECF6",
            "gridcolor": "white",
            "gridwidth": 2,
            "linecolor": "white",
            "showbackground": true,
            "ticks": "",
            "zerolinecolor": "white"
           },
           "yaxis": {
            "backgroundcolor": "#E5ECF6",
            "gridcolor": "white",
            "gridwidth": 2,
            "linecolor": "white",
            "showbackground": true,
            "ticks": "",
            "zerolinecolor": "white"
           },
           "zaxis": {
            "backgroundcolor": "#E5ECF6",
            "gridcolor": "white",
            "gridwidth": 2,
            "linecolor": "white",
            "showbackground": true,
            "ticks": "",
            "zerolinecolor": "white"
           }
          },
          "shapedefaults": {
           "line": {
            "color": "#2a3f5f"
           }
          },
          "ternary": {
           "aaxis": {
            "gridcolor": "white",
            "linecolor": "white",
            "ticks": ""
           },
           "baxis": {
            "gridcolor": "white",
            "linecolor": "white",
            "ticks": ""
           },
           "bgcolor": "#E5ECF6",
           "caxis": {
            "gridcolor": "white",
            "linecolor": "white",
            "ticks": ""
           }
          },
          "title": {
           "x": 0.05
          },
          "xaxis": {
           "automargin": true,
           "gridcolor": "white",
           "linecolor": "white",
           "ticks": "",
           "title": {
            "standoff": 15
           },
           "zerolinecolor": "white",
           "zerolinewidth": 2
          },
          "yaxis": {
           "automargin": true,
           "gridcolor": "white",
           "linecolor": "white",
           "ticks": "",
           "title": {
            "standoff": 15
           },
           "zerolinecolor": "white",
           "zerolinewidth": 2
          }
         }
        }
       }
      }
     },
     "metadata": {},
     "output_type": "display_data"
    },
    {
     "data": {
      "application/vnd.plotly.v1+json": {
       "config": {
        "plotlyServerURL": "https://plot.ly"
       },
       "data": [
        {
         "fill": "toself",
         "fillcolor": "rgba(0,0,255,0.5)",
         "hovertemplate": "<i>Metric</i>: %{theta}<br><b>Score</b>: %{r}<extra></extra>",
         "line": {
          "color": "rgba(0,0,255,0.5)"
         },
         "name": "gpt-4-1106-preview",
         "r": [
          0.7959183673469388,
          0.4948979591836735,
          0.9540816326530612,
          0.516921768681877,
          0.7896245053132808,
          0.33452574514257316,
          0.6941087965322658,
          0.814936097536511,
          0.6877096295850705
         ],
         "theta": [
          "Answer Correctness",
          "Answer Faithfulness",
          "Answer Relevancy",
          "Context Precision",
          "Context Recall",
          "RAGAS Answer Correctness Score",
          "RAGAS Answer Faithfulness Score",
          "RAGAS Answer Relevancy Score",
          "RAGAS Answer Similarity Score"
         ],
         "type": "scatterpolar"
        }
       ],
       "layout": {
        "polar": {
         "radialaxis": {
          "range": [
           0,
           1
          ],
          "visible": true
         }
        },
        "showlegend": false,
        "template": {
         "data": {
          "bar": [
           {
            "error_x": {
             "color": "#2a3f5f"
            },
            "error_y": {
             "color": "#2a3f5f"
            },
            "marker": {
             "line": {
              "color": "#E5ECF6",
              "width": 0.5
             },
             "pattern": {
              "fillmode": "overlay",
              "size": 10,
              "solidity": 0.2
             }
            },
            "type": "bar"
           }
          ],
          "barpolar": [
           {
            "marker": {
             "line": {
              "color": "#E5ECF6",
              "width": 0.5
             },
             "pattern": {
              "fillmode": "overlay",
              "size": 10,
              "solidity": 0.2
             }
            },
            "type": "barpolar"
           }
          ],
          "carpet": [
           {
            "aaxis": {
             "endlinecolor": "#2a3f5f",
             "gridcolor": "white",
             "linecolor": "white",
             "minorgridcolor": "white",
             "startlinecolor": "#2a3f5f"
            },
            "baxis": {
             "endlinecolor": "#2a3f5f",
             "gridcolor": "white",
             "linecolor": "white",
             "minorgridcolor": "white",
             "startlinecolor": "#2a3f5f"
            },
            "type": "carpet"
           }
          ],
          "choropleth": [
           {
            "colorbar": {
             "outlinewidth": 0,
             "ticks": ""
            },
            "type": "choropleth"
           }
          ],
          "contour": [
           {
            "colorbar": {
             "outlinewidth": 0,
             "ticks": ""
            },
            "colorscale": [
             [
              0,
              "#0d0887"
             ],
             [
              0.1111111111111111,
              "#46039f"
             ],
             [
              0.2222222222222222,
              "#7201a8"
             ],
             [
              0.3333333333333333,
              "#9c179e"
             ],
             [
              0.4444444444444444,
              "#bd3786"
             ],
             [
              0.5555555555555556,
              "#d8576b"
             ],
             [
              0.6666666666666666,
              "#ed7953"
             ],
             [
              0.7777777777777778,
              "#fb9f3a"
             ],
             [
              0.8888888888888888,
              "#fdca26"
             ],
             [
              1,
              "#f0f921"
             ]
            ],
            "type": "contour"
           }
          ],
          "contourcarpet": [
           {
            "colorbar": {
             "outlinewidth": 0,
             "ticks": ""
            },
            "type": "contourcarpet"
           }
          ],
          "heatmap": [
           {
            "colorbar": {
             "outlinewidth": 0,
             "ticks": ""
            },
            "colorscale": [
             [
              0,
              "#0d0887"
             ],
             [
              0.1111111111111111,
              "#46039f"
             ],
             [
              0.2222222222222222,
              "#7201a8"
             ],
             [
              0.3333333333333333,
              "#9c179e"
             ],
             [
              0.4444444444444444,
              "#bd3786"
             ],
             [
              0.5555555555555556,
              "#d8576b"
             ],
             [
              0.6666666666666666,
              "#ed7953"
             ],
             [
              0.7777777777777778,
              "#fb9f3a"
             ],
             [
              0.8888888888888888,
              "#fdca26"
             ],
             [
              1,
              "#f0f921"
             ]
            ],
            "type": "heatmap"
           }
          ],
          "heatmapgl": [
           {
            "colorbar": {
             "outlinewidth": 0,
             "ticks": ""
            },
            "colorscale": [
             [
              0,
              "#0d0887"
             ],
             [
              0.1111111111111111,
              "#46039f"
             ],
             [
              0.2222222222222222,
              "#7201a8"
             ],
             [
              0.3333333333333333,
              "#9c179e"
             ],
             [
              0.4444444444444444,
              "#bd3786"
             ],
             [
              0.5555555555555556,
              "#d8576b"
             ],
             [
              0.6666666666666666,
              "#ed7953"
             ],
             [
              0.7777777777777778,
              "#fb9f3a"
             ],
             [
              0.8888888888888888,
              "#fdca26"
             ],
             [
              1,
              "#f0f921"
             ]
            ],
            "type": "heatmapgl"
           }
          ],
          "histogram": [
           {
            "marker": {
             "pattern": {
              "fillmode": "overlay",
              "size": 10,
              "solidity": 0.2
             }
            },
            "type": "histogram"
           }
          ],
          "histogram2d": [
           {
            "colorbar": {
             "outlinewidth": 0,
             "ticks": ""
            },
            "colorscale": [
             [
              0,
              "#0d0887"
             ],
             [
              0.1111111111111111,
              "#46039f"
             ],
             [
              0.2222222222222222,
              "#7201a8"
             ],
             [
              0.3333333333333333,
              "#9c179e"
             ],
             [
              0.4444444444444444,
              "#bd3786"
             ],
             [
              0.5555555555555556,
              "#d8576b"
             ],
             [
              0.6666666666666666,
              "#ed7953"
             ],
             [
              0.7777777777777778,
              "#fb9f3a"
             ],
             [
              0.8888888888888888,
              "#fdca26"
             ],
             [
              1,
              "#f0f921"
             ]
            ],
            "type": "histogram2d"
           }
          ],
          "histogram2dcontour": [
           {
            "colorbar": {
             "outlinewidth": 0,
             "ticks": ""
            },
            "colorscale": [
             [
              0,
              "#0d0887"
             ],
             [
              0.1111111111111111,
              "#46039f"
             ],
             [
              0.2222222222222222,
              "#7201a8"
             ],
             [
              0.3333333333333333,
              "#9c179e"
             ],
             [
              0.4444444444444444,
              "#bd3786"
             ],
             [
              0.5555555555555556,
              "#d8576b"
             ],
             [
              0.6666666666666666,
              "#ed7953"
             ],
             [
              0.7777777777777778,
              "#fb9f3a"
             ],
             [
              0.8888888888888888,
              "#fdca26"
             ],
             [
              1,
              "#f0f921"
             ]
            ],
            "type": "histogram2dcontour"
           }
          ],
          "mesh3d": [
           {
            "colorbar": {
             "outlinewidth": 0,
             "ticks": ""
            },
            "type": "mesh3d"
           }
          ],
          "parcoords": [
           {
            "line": {
             "colorbar": {
              "outlinewidth": 0,
              "ticks": ""
             }
            },
            "type": "parcoords"
           }
          ],
          "pie": [
           {
            "automargin": true,
            "type": "pie"
           }
          ],
          "scatter": [
           {
            "fillpattern": {
             "fillmode": "overlay",
             "size": 10,
             "solidity": 0.2
            },
            "type": "scatter"
           }
          ],
          "scatter3d": [
           {
            "line": {
             "colorbar": {
              "outlinewidth": 0,
              "ticks": ""
             }
            },
            "marker": {
             "colorbar": {
              "outlinewidth": 0,
              "ticks": ""
             }
            },
            "type": "scatter3d"
           }
          ],
          "scattercarpet": [
           {
            "marker": {
             "colorbar": {
              "outlinewidth": 0,
              "ticks": ""
             }
            },
            "type": "scattercarpet"
           }
          ],
          "scattergeo": [
           {
            "marker": {
             "colorbar": {
              "outlinewidth": 0,
              "ticks": ""
             }
            },
            "type": "scattergeo"
           }
          ],
          "scattergl": [
           {
            "marker": {
             "colorbar": {
              "outlinewidth": 0,
              "ticks": ""
             }
            },
            "type": "scattergl"
           }
          ],
          "scattermapbox": [
           {
            "marker": {
             "colorbar": {
              "outlinewidth": 0,
              "ticks": ""
             }
            },
            "type": "scattermapbox"
           }
          ],
          "scatterpolar": [
           {
            "marker": {
             "colorbar": {
              "outlinewidth": 0,
              "ticks": ""
             }
            },
            "type": "scatterpolar"
           }
          ],
          "scatterpolargl": [
           {
            "marker": {
             "colorbar": {
              "outlinewidth": 0,
              "ticks": ""
             }
            },
            "type": "scatterpolargl"
           }
          ],
          "scatterternary": [
           {
            "marker": {
             "colorbar": {
              "outlinewidth": 0,
              "ticks": ""
             }
            },
            "type": "scatterternary"
           }
          ],
          "surface": [
           {
            "colorbar": {
             "outlinewidth": 0,
             "ticks": ""
            },
            "colorscale": [
             [
              0,
              "#0d0887"
             ],
             [
              0.1111111111111111,
              "#46039f"
             ],
             [
              0.2222222222222222,
              "#7201a8"
             ],
             [
              0.3333333333333333,
              "#9c179e"
             ],
             [
              0.4444444444444444,
              "#bd3786"
             ],
             [
              0.5555555555555556,
              "#d8576b"
             ],
             [
              0.6666666666666666,
              "#ed7953"
             ],
             [
              0.7777777777777778,
              "#fb9f3a"
             ],
             [
              0.8888888888888888,
              "#fdca26"
             ],
             [
              1,
              "#f0f921"
             ]
            ],
            "type": "surface"
           }
          ],
          "table": [
           {
            "cells": {
             "fill": {
              "color": "#EBF0F8"
             },
             "line": {
              "color": "white"
             }
            },
            "header": {
             "fill": {
              "color": "#C8D4E3"
             },
             "line": {
              "color": "white"
             }
            },
            "type": "table"
           }
          ]
         },
         "layout": {
          "annotationdefaults": {
           "arrowcolor": "#2a3f5f",
           "arrowhead": 0,
           "arrowwidth": 1
          },
          "autotypenumbers": "strict",
          "coloraxis": {
           "colorbar": {
            "outlinewidth": 0,
            "ticks": ""
           }
          },
          "colorscale": {
           "diverging": [
            [
             0,
             "#8e0152"
            ],
            [
             0.1,
             "#c51b7d"
            ],
            [
             0.2,
             "#de77ae"
            ],
            [
             0.3,
             "#f1b6da"
            ],
            [
             0.4,
             "#fde0ef"
            ],
            [
             0.5,
             "#f7f7f7"
            ],
            [
             0.6,
             "#e6f5d0"
            ],
            [
             0.7,
             "#b8e186"
            ],
            [
             0.8,
             "#7fbc41"
            ],
            [
             0.9,
             "#4d9221"
            ],
            [
             1,
             "#276419"
            ]
           ],
           "sequential": [
            [
             0,
             "#0d0887"
            ],
            [
             0.1111111111111111,
             "#46039f"
            ],
            [
             0.2222222222222222,
             "#7201a8"
            ],
            [
             0.3333333333333333,
             "#9c179e"
            ],
            [
             0.4444444444444444,
             "#bd3786"
            ],
            [
             0.5555555555555556,
             "#d8576b"
            ],
            [
             0.6666666666666666,
             "#ed7953"
            ],
            [
             0.7777777777777778,
             "#fb9f3a"
            ],
            [
             0.8888888888888888,
             "#fdca26"
            ],
            [
             1,
             "#f0f921"
            ]
           ],
           "sequentialminus": [
            [
             0,
             "#0d0887"
            ],
            [
             0.1111111111111111,
             "#46039f"
            ],
            [
             0.2222222222222222,
             "#7201a8"
            ],
            [
             0.3333333333333333,
             "#9c179e"
            ],
            [
             0.4444444444444444,
             "#bd3786"
            ],
            [
             0.5555555555555556,
             "#d8576b"
            ],
            [
             0.6666666666666666,
             "#ed7953"
            ],
            [
             0.7777777777777778,
             "#fb9f3a"
            ],
            [
             0.8888888888888888,
             "#fdca26"
            ],
            [
             1,
             "#f0f921"
            ]
           ]
          },
          "colorway": [
           "#636efa",
           "#EF553B",
           "#00cc96",
           "#ab63fa",
           "#FFA15A",
           "#19d3f3",
           "#FF6692",
           "#B6E880",
           "#FF97FF",
           "#FECB52"
          ],
          "font": {
           "color": "#2a3f5f"
          },
          "geo": {
           "bgcolor": "white",
           "lakecolor": "white",
           "landcolor": "#E5ECF6",
           "showlakes": true,
           "showland": true,
           "subunitcolor": "white"
          },
          "hoverlabel": {
           "align": "left"
          },
          "hovermode": "closest",
          "mapbox": {
           "style": "light"
          },
          "paper_bgcolor": "white",
          "plot_bgcolor": "#E5ECF6",
          "polar": {
           "angularaxis": {
            "gridcolor": "white",
            "linecolor": "white",
            "ticks": ""
           },
           "bgcolor": "#E5ECF6",
           "radialaxis": {
            "gridcolor": "white",
            "linecolor": "white",
            "ticks": ""
           }
          },
          "scene": {
           "xaxis": {
            "backgroundcolor": "#E5ECF6",
            "gridcolor": "white",
            "gridwidth": 2,
            "linecolor": "white",
            "showbackground": true,
            "ticks": "",
            "zerolinecolor": "white"
           },
           "yaxis": {
            "backgroundcolor": "#E5ECF6",
            "gridcolor": "white",
            "gridwidth": 2,
            "linecolor": "white",
            "showbackground": true,
            "ticks": "",
            "zerolinecolor": "white"
           },
           "zaxis": {
            "backgroundcolor": "#E5ECF6",
            "gridcolor": "white",
            "gridwidth": 2,
            "linecolor": "white",
            "showbackground": true,
            "ticks": "",
            "zerolinecolor": "white"
           }
          },
          "shapedefaults": {
           "line": {
            "color": "#2a3f5f"
           }
          },
          "ternary": {
           "aaxis": {
            "gridcolor": "white",
            "linecolor": "white",
            "ticks": ""
           },
           "baxis": {
            "gridcolor": "white",
            "linecolor": "white",
            "ticks": ""
           },
           "bgcolor": "#E5ECF6",
           "caxis": {
            "gridcolor": "white",
            "linecolor": "white",
            "ticks": ""
           }
          },
          "title": {
           "x": 0.05
          },
          "xaxis": {
           "automargin": true,
           "gridcolor": "white",
           "linecolor": "white",
           "ticks": "",
           "title": {
            "standoff": 15
           },
           "zerolinecolor": "white",
           "zerolinewidth": 2
          },
          "yaxis": {
           "automargin": true,
           "gridcolor": "white",
           "linecolor": "white",
           "ticks": "",
           "title": {
            "standoff": 15
           },
           "zerolinecolor": "white",
           "zerolinewidth": 2
          }
         }
        }
       }
      }
     },
     "metadata": {},
     "output_type": "display_data"
    },
    {
     "data": {
      "application/vnd.plotly.v1+json": {
       "config": {
        "plotlyServerURL": "https://plot.ly"
       },
       "data": [
        {
         "fill": "toself",
         "fillcolor": "rgba(255,255,0,0.5)",
         "hovertemplate": "<i>Metric</i>: %{theta}<br><b>Score</b>: %{r}<extra></extra>",
         "line": {
          "color": "rgba(255,255,0,0.5)"
         },
         "name": "gpt-4-1106-preview-v1.1",
         "r": [
          0.8163265306122449,
          0.6224489795918366,
          0.9132653061224489,
          0.426048752810276,
          0.8676016727037136,
          0.32364761459427555,
          0.7064463880790411,
          0.8185427478757955,
          0.6746812298018944
         ],
         "theta": [
          "Answer Correctness",
          "Answer Faithfulness",
          "Answer Relevancy",
          "Context Precision",
          "Context Recall",
          "RAGAS Answer Correctness Score",
          "RAGAS Answer Faithfulness Score",
          "RAGAS Answer Relevancy Score",
          "RAGAS Answer Similarity Score"
         ],
         "type": "scatterpolar"
        }
       ],
       "layout": {
        "polar": {
         "radialaxis": {
          "range": [
           0,
           1
          ],
          "visible": true
         }
        },
        "showlegend": false,
        "template": {
         "data": {
          "bar": [
           {
            "error_x": {
             "color": "#2a3f5f"
            },
            "error_y": {
             "color": "#2a3f5f"
            },
            "marker": {
             "line": {
              "color": "#E5ECF6",
              "width": 0.5
             },
             "pattern": {
              "fillmode": "overlay",
              "size": 10,
              "solidity": 0.2
             }
            },
            "type": "bar"
           }
          ],
          "barpolar": [
           {
            "marker": {
             "line": {
              "color": "#E5ECF6",
              "width": 0.5
             },
             "pattern": {
              "fillmode": "overlay",
              "size": 10,
              "solidity": 0.2
             }
            },
            "type": "barpolar"
           }
          ],
          "carpet": [
           {
            "aaxis": {
             "endlinecolor": "#2a3f5f",
             "gridcolor": "white",
             "linecolor": "white",
             "minorgridcolor": "white",
             "startlinecolor": "#2a3f5f"
            },
            "baxis": {
             "endlinecolor": "#2a3f5f",
             "gridcolor": "white",
             "linecolor": "white",
             "minorgridcolor": "white",
             "startlinecolor": "#2a3f5f"
            },
            "type": "carpet"
           }
          ],
          "choropleth": [
           {
            "colorbar": {
             "outlinewidth": 0,
             "ticks": ""
            },
            "type": "choropleth"
           }
          ],
          "contour": [
           {
            "colorbar": {
             "outlinewidth": 0,
             "ticks": ""
            },
            "colorscale": [
             [
              0,
              "#0d0887"
             ],
             [
              0.1111111111111111,
              "#46039f"
             ],
             [
              0.2222222222222222,
              "#7201a8"
             ],
             [
              0.3333333333333333,
              "#9c179e"
             ],
             [
              0.4444444444444444,
              "#bd3786"
             ],
             [
              0.5555555555555556,
              "#d8576b"
             ],
             [
              0.6666666666666666,
              "#ed7953"
             ],
             [
              0.7777777777777778,
              "#fb9f3a"
             ],
             [
              0.8888888888888888,
              "#fdca26"
             ],
             [
              1,
              "#f0f921"
             ]
            ],
            "type": "contour"
           }
          ],
          "contourcarpet": [
           {
            "colorbar": {
             "outlinewidth": 0,
             "ticks": ""
            },
            "type": "contourcarpet"
           }
          ],
          "heatmap": [
           {
            "colorbar": {
             "outlinewidth": 0,
             "ticks": ""
            },
            "colorscale": [
             [
              0,
              "#0d0887"
             ],
             [
              0.1111111111111111,
              "#46039f"
             ],
             [
              0.2222222222222222,
              "#7201a8"
             ],
             [
              0.3333333333333333,
              "#9c179e"
             ],
             [
              0.4444444444444444,
              "#bd3786"
             ],
             [
              0.5555555555555556,
              "#d8576b"
             ],
             [
              0.6666666666666666,
              "#ed7953"
             ],
             [
              0.7777777777777778,
              "#fb9f3a"
             ],
             [
              0.8888888888888888,
              "#fdca26"
             ],
             [
              1,
              "#f0f921"
             ]
            ],
            "type": "heatmap"
           }
          ],
          "heatmapgl": [
           {
            "colorbar": {
             "outlinewidth": 0,
             "ticks": ""
            },
            "colorscale": [
             [
              0,
              "#0d0887"
             ],
             [
              0.1111111111111111,
              "#46039f"
             ],
             [
              0.2222222222222222,
              "#7201a8"
             ],
             [
              0.3333333333333333,
              "#9c179e"
             ],
             [
              0.4444444444444444,
              "#bd3786"
             ],
             [
              0.5555555555555556,
              "#d8576b"
             ],
             [
              0.6666666666666666,
              "#ed7953"
             ],
             [
              0.7777777777777778,
              "#fb9f3a"
             ],
             [
              0.8888888888888888,
              "#fdca26"
             ],
             [
              1,
              "#f0f921"
             ]
            ],
            "type": "heatmapgl"
           }
          ],
          "histogram": [
           {
            "marker": {
             "pattern": {
              "fillmode": "overlay",
              "size": 10,
              "solidity": 0.2
             }
            },
            "type": "histogram"
           }
          ],
          "histogram2d": [
           {
            "colorbar": {
             "outlinewidth": 0,
             "ticks": ""
            },
            "colorscale": [
             [
              0,
              "#0d0887"
             ],
             [
              0.1111111111111111,
              "#46039f"
             ],
             [
              0.2222222222222222,
              "#7201a8"
             ],
             [
              0.3333333333333333,
              "#9c179e"
             ],
             [
              0.4444444444444444,
              "#bd3786"
             ],
             [
              0.5555555555555556,
              "#d8576b"
             ],
             [
              0.6666666666666666,
              "#ed7953"
             ],
             [
              0.7777777777777778,
              "#fb9f3a"
             ],
             [
              0.8888888888888888,
              "#fdca26"
             ],
             [
              1,
              "#f0f921"
             ]
            ],
            "type": "histogram2d"
           }
          ],
          "histogram2dcontour": [
           {
            "colorbar": {
             "outlinewidth": 0,
             "ticks": ""
            },
            "colorscale": [
             [
              0,
              "#0d0887"
             ],
             [
              0.1111111111111111,
              "#46039f"
             ],
             [
              0.2222222222222222,
              "#7201a8"
             ],
             [
              0.3333333333333333,
              "#9c179e"
             ],
             [
              0.4444444444444444,
              "#bd3786"
             ],
             [
              0.5555555555555556,
              "#d8576b"
             ],
             [
              0.6666666666666666,
              "#ed7953"
             ],
             [
              0.7777777777777778,
              "#fb9f3a"
             ],
             [
              0.8888888888888888,
              "#fdca26"
             ],
             [
              1,
              "#f0f921"
             ]
            ],
            "type": "histogram2dcontour"
           }
          ],
          "mesh3d": [
           {
            "colorbar": {
             "outlinewidth": 0,
             "ticks": ""
            },
            "type": "mesh3d"
           }
          ],
          "parcoords": [
           {
            "line": {
             "colorbar": {
              "outlinewidth": 0,
              "ticks": ""
             }
            },
            "type": "parcoords"
           }
          ],
          "pie": [
           {
            "automargin": true,
            "type": "pie"
           }
          ],
          "scatter": [
           {
            "fillpattern": {
             "fillmode": "overlay",
             "size": 10,
             "solidity": 0.2
            },
            "type": "scatter"
           }
          ],
          "scatter3d": [
           {
            "line": {
             "colorbar": {
              "outlinewidth": 0,
              "ticks": ""
             }
            },
            "marker": {
             "colorbar": {
              "outlinewidth": 0,
              "ticks": ""
             }
            },
            "type": "scatter3d"
           }
          ],
          "scattercarpet": [
           {
            "marker": {
             "colorbar": {
              "outlinewidth": 0,
              "ticks": ""
             }
            },
            "type": "scattercarpet"
           }
          ],
          "scattergeo": [
           {
            "marker": {
             "colorbar": {
              "outlinewidth": 0,
              "ticks": ""
             }
            },
            "type": "scattergeo"
           }
          ],
          "scattergl": [
           {
            "marker": {
             "colorbar": {
              "outlinewidth": 0,
              "ticks": ""
             }
            },
            "type": "scattergl"
           }
          ],
          "scattermapbox": [
           {
            "marker": {
             "colorbar": {
              "outlinewidth": 0,
              "ticks": ""
             }
            },
            "type": "scattermapbox"
           }
          ],
          "scatterpolar": [
           {
            "marker": {
             "colorbar": {
              "outlinewidth": 0,
              "ticks": ""
             }
            },
            "type": "scatterpolar"
           }
          ],
          "scatterpolargl": [
           {
            "marker": {
             "colorbar": {
              "outlinewidth": 0,
              "ticks": ""
             }
            },
            "type": "scatterpolargl"
           }
          ],
          "scatterternary": [
           {
            "marker": {
             "colorbar": {
              "outlinewidth": 0,
              "ticks": ""
             }
            },
            "type": "scatterternary"
           }
          ],
          "surface": [
           {
            "colorbar": {
             "outlinewidth": 0,
             "ticks": ""
            },
            "colorscale": [
             [
              0,
              "#0d0887"
             ],
             [
              0.1111111111111111,
              "#46039f"
             ],
             [
              0.2222222222222222,
              "#7201a8"
             ],
             [
              0.3333333333333333,
              "#9c179e"
             ],
             [
              0.4444444444444444,
              "#bd3786"
             ],
             [
              0.5555555555555556,
              "#d8576b"
             ],
             [
              0.6666666666666666,
              "#ed7953"
             ],
             [
              0.7777777777777778,
              "#fb9f3a"
             ],
             [
              0.8888888888888888,
              "#fdca26"
             ],
             [
              1,
              "#f0f921"
             ]
            ],
            "type": "surface"
           }
          ],
          "table": [
           {
            "cells": {
             "fill": {
              "color": "#EBF0F8"
             },
             "line": {
              "color": "white"
             }
            },
            "header": {
             "fill": {
              "color": "#C8D4E3"
             },
             "line": {
              "color": "white"
             }
            },
            "type": "table"
           }
          ]
         },
         "layout": {
          "annotationdefaults": {
           "arrowcolor": "#2a3f5f",
           "arrowhead": 0,
           "arrowwidth": 1
          },
          "autotypenumbers": "strict",
          "coloraxis": {
           "colorbar": {
            "outlinewidth": 0,
            "ticks": ""
           }
          },
          "colorscale": {
           "diverging": [
            [
             0,
             "#8e0152"
            ],
            [
             0.1,
             "#c51b7d"
            ],
            [
             0.2,
             "#de77ae"
            ],
            [
             0.3,
             "#f1b6da"
            ],
            [
             0.4,
             "#fde0ef"
            ],
            [
             0.5,
             "#f7f7f7"
            ],
            [
             0.6,
             "#e6f5d0"
            ],
            [
             0.7,
             "#b8e186"
            ],
            [
             0.8,
             "#7fbc41"
            ],
            [
             0.9,
             "#4d9221"
            ],
            [
             1,
             "#276419"
            ]
           ],
           "sequential": [
            [
             0,
             "#0d0887"
            ],
            [
             0.1111111111111111,
             "#46039f"
            ],
            [
             0.2222222222222222,
             "#7201a8"
            ],
            [
             0.3333333333333333,
             "#9c179e"
            ],
            [
             0.4444444444444444,
             "#bd3786"
            ],
            [
             0.5555555555555556,
             "#d8576b"
            ],
            [
             0.6666666666666666,
             "#ed7953"
            ],
            [
             0.7777777777777778,
             "#fb9f3a"
            ],
            [
             0.8888888888888888,
             "#fdca26"
            ],
            [
             1,
             "#f0f921"
            ]
           ],
           "sequentialminus": [
            [
             0,
             "#0d0887"
            ],
            [
             0.1111111111111111,
             "#46039f"
            ],
            [
             0.2222222222222222,
             "#7201a8"
            ],
            [
             0.3333333333333333,
             "#9c179e"
            ],
            [
             0.4444444444444444,
             "#bd3786"
            ],
            [
             0.5555555555555556,
             "#d8576b"
            ],
            [
             0.6666666666666666,
             "#ed7953"
            ],
            [
             0.7777777777777778,
             "#fb9f3a"
            ],
            [
             0.8888888888888888,
             "#fdca26"
            ],
            [
             1,
             "#f0f921"
            ]
           ]
          },
          "colorway": [
           "#636efa",
           "#EF553B",
           "#00cc96",
           "#ab63fa",
           "#FFA15A",
           "#19d3f3",
           "#FF6692",
           "#B6E880",
           "#FF97FF",
           "#FECB52"
          ],
          "font": {
           "color": "#2a3f5f"
          },
          "geo": {
           "bgcolor": "white",
           "lakecolor": "white",
           "landcolor": "#E5ECF6",
           "showlakes": true,
           "showland": true,
           "subunitcolor": "white"
          },
          "hoverlabel": {
           "align": "left"
          },
          "hovermode": "closest",
          "mapbox": {
           "style": "light"
          },
          "paper_bgcolor": "white",
          "plot_bgcolor": "#E5ECF6",
          "polar": {
           "angularaxis": {
            "gridcolor": "white",
            "linecolor": "white",
            "ticks": ""
           },
           "bgcolor": "#E5ECF6",
           "radialaxis": {
            "gridcolor": "white",
            "linecolor": "white",
            "ticks": ""
           }
          },
          "scene": {
           "xaxis": {
            "backgroundcolor": "#E5ECF6",
            "gridcolor": "white",
            "gridwidth": 2,
            "linecolor": "white",
            "showbackground": true,
            "ticks": "",
            "zerolinecolor": "white"
           },
           "yaxis": {
            "backgroundcolor": "#E5ECF6",
            "gridcolor": "white",
            "gridwidth": 2,
            "linecolor": "white",
            "showbackground": true,
            "ticks": "",
            "zerolinecolor": "white"
           },
           "zaxis": {
            "backgroundcolor": "#E5ECF6",
            "gridcolor": "white",
            "gridwidth": 2,
            "linecolor": "white",
            "showbackground": true,
            "ticks": "",
            "zerolinecolor": "white"
           }
          },
          "shapedefaults": {
           "line": {
            "color": "#2a3f5f"
           }
          },
          "ternary": {
           "aaxis": {
            "gridcolor": "white",
            "linecolor": "white",
            "ticks": ""
           },
           "baxis": {
            "gridcolor": "white",
            "linecolor": "white",
            "ticks": ""
           },
           "bgcolor": "#E5ECF6",
           "caxis": {
            "gridcolor": "white",
            "linecolor": "white",
            "ticks": ""
           }
          },
          "title": {
           "x": 0.05
          },
          "xaxis": {
           "automargin": true,
           "gridcolor": "white",
           "linecolor": "white",
           "ticks": "",
           "title": {
            "standoff": 15
           },
           "zerolinecolor": "white",
           "zerolinewidth": 2
          },
          "yaxis": {
           "automargin": true,
           "gridcolor": "white",
           "linecolor": "white",
           "ticks": "",
           "title": {
            "standoff": 15
           },
           "zerolinecolor": "white",
           "zerolinewidth": 2
          }
         }
        }
       }
      }
     },
     "metadata": {},
     "output_type": "display_data"
    }
   ],
   "source": [
    "plot_model_radars(\n",
    "    dfs, table_names, categorical_metrics, ragas_metrics, context_metrics\n",
    ")"
   ]
  },
  {
   "cell_type": "code",
   "execution_count": 22,
   "metadata": {},
   "outputs": [],
   "source": [
    "def plot_metric_bars(\n",
    "    dfs, table_names, categorical_metrics, ragas_metrics, context_metrics\n",
    "):\n",
    "    category_sample_df = table_metrics(dfs, table_names, categorical_metrics)\n",
    "    ragas_sample_df = table_metrics(\n",
    "        dfs,\n",
    "        table_names,\n",
    "        ragas_metrics,\n",
    "    )\n",
    "    context_sample_df = table_metrics(dfs, table_names, context_metrics)\n",
    "\n",
    "    for idx, metric_df in enumerate(\n",
    "        [category_sample_df, ragas_sample_df, context_sample_df]\n",
    "    ):\n",
    "        # Aggregate the data to get mean and std deviation\n",
    "        agg_df = (\n",
    "            metric_df.groupby([\"model\", \"metric\"])\n",
    "            .agg([\"mean\", \"std\"])\n",
    "            .reset_index()\n",
    "        )\n",
    "        agg_df.columns = [\n",
    "            \"model\",\n",
    "            \"metric\",\n",
    "            \"mean_score\",\n",
    "            \"std_score\",\n",
    "        ]  # Flatten the column multi-index\n",
    "\n",
    "        fig = go.Figure()\n",
    "\n",
    "        for model in agg_df[\"model\"].unique():\n",
    "            subset = agg_df[agg_df[\"model\"] == model]\n",
    "            fig.add_trace(\n",
    "                go.Bar(\n",
    "                    x=subset[\"metric\"],\n",
    "                    y=subset[\"mean_score\"],\n",
    "                    name=model,\n",
    "                    error_y=dict(\n",
    "                        type=\"data\", array=subset[\"std_score\"], visible=True\n",
    "                    ),\n",
    "                )\n",
    "            )\n",
    "\n",
    "        fig.update_layout(\n",
    "            barmode=\"group\",\n",
    "            # title='Model Performance',\n",
    "            # title_x=0.5,\n",
    "            xaxis_title=\"Ragas Metric\" if idx == 1 else \"Metric\",\n",
    "            yaxis_title=\"Mean Score\",\n",
    "            legend_title=\"Model\",\n",
    "        )\n",
    "\n",
    "        # Show the figure\n",
    "\n",
    "        fig.show()"
   ]
  },
  {
   "cell_type": "code",
   "execution_count": 23,
   "metadata": {},
   "outputs": [],
   "source": [
    "def plot_metric_bars(\n",
    "    dfs, table_names, categorical_metrics, ragas_metrics, context_metrics\n",
    "):\n",
    "    category_sample_df = table_metrics(dfs, table_names, categorical_metrics)\n",
    "    ragas_sample_df = table_metrics(\n",
    "        dfs,\n",
    "        table_names,\n",
    "        ragas_metrics,\n",
    "    )\n",
    "    context_sample_df = table_metrics(dfs, table_names, context_metrics)\n",
    "\n",
    "    for idx, metric_df in enumerate(\n",
    "        [category_sample_df, ragas_sample_df, context_sample_df]\n",
    "    ):\n",
    "        # Aggregate the data to get mean and std deviation\n",
    "        agg_df = (\n",
    "            metric_df.groupby([\"model\", \"metric\"])\n",
    "            .agg([\"mean\", \"std\"])\n",
    "            .reset_index()\n",
    "        )\n",
    "        agg_df.columns = [\n",
    "            \"model\",\n",
    "            \"metric\",\n",
    "            \"mean_score\",\n",
    "            \"std_score\",\n",
    "        ]  # Flatten the column multi-index\n",
    "\n",
    "        for metric in agg_df[\"metric\"].unique():\n",
    "            fig = go.Figure()\n",
    "\n",
    "            for model in agg_df[\"model\"].unique():\n",
    "                subset = agg_df[\n",
    "                    (agg_df[\"model\"] == model) & (agg_df[\"metric\"] == metric)\n",
    "                ]\n",
    "                fig.add_trace(\n",
    "                    go.Bar(\n",
    "                        x=subset[\"metric\"],\n",
    "                        y=subset[\"mean_score\"],\n",
    "                        name=model,\n",
    "                        error_y=dict(\n",
    "                            type=\"data\", array=subset[\"std_score\"], visible=True\n",
    "                        ),\n",
    "                    )\n",
    "                )\n",
    "\n",
    "            fig.update_layout(\n",
    "                barmode=\"group\",\n",
    "                # title=f'Average Model Performance for {\"Ragas \" + metric if idx == 1 else metric}',\n",
    "                # title_x=0.5,\n",
    "                xaxis_title=\"Ragas Metric\" if idx == 1 else \"Metric\",\n",
    "                yaxis_title=\"Mean Score\",\n",
    "                legend_title=\"Model\",\n",
    "            )\n",
    "            run.log(\n",
    "                {\n",
    "                    f\"{'Ragas ' + metric if idx == 1 else metric} Barplot\": wandb.Plotly(\n",
    "                        fig\n",
    "                    )\n",
    "                }\n",
    "            )\n",
    "            # Show the figure\n",
    "            fig.show()"
   ]
  },
  {
   "cell_type": "code",
   "execution_count": 24,
   "metadata": {},
   "outputs": [
    {
     "data": {
      "application/vnd.plotly.v1+json": {
       "config": {
        "plotlyServerURL": "https://plot.ly"
       },
       "data": [
        {
         "error_y": {
          "array": [
           0.7767936493424374
          ],
          "type": "data",
          "visible": true
         },
         "name": "gpt-3.5-turbo-16k-0613",
         "type": "bar",
         "x": [
          "Answer Correctness"
         ],
         "y": [
          1.8775510204081634
         ]
        },
        {
         "error_y": {
          "array": [
           0.6868822894884362
          ],
          "type": "data",
          "visible": true
         },
         "name": "gpt-4-0613",
         "type": "bar",
         "x": [
          "Answer Correctness"
         ],
         "y": [
          2.1122448979591835
         ]
        },
        {
         "error_y": {
          "array": [
           0.6064385588391948
          ],
          "type": "data",
          "visible": true
         },
         "name": "gpt-4-1106-preview",
         "type": "bar",
         "x": [
          "Answer Correctness"
         ],
         "y": [
          2.5918367346938775
         ]
        },
        {
         "error_y": {
          "array": [
           0.6157344973087826
          ],
          "type": "data",
          "visible": true
         },
         "name": "gpt-4-1106-preview-v1.1",
         "type": "bar",
         "x": [
          "Answer Correctness"
         ],
         "y": [
          2.63265306122449
         ]
        }
       ],
       "layout": {
        "barmode": "group",
        "legend": {
         "title": {
          "text": "Model"
         }
        },
        "template": {
         "data": {
          "bar": [
           {
            "error_x": {
             "color": "#2a3f5f"
            },
            "error_y": {
             "color": "#2a3f5f"
            },
            "marker": {
             "line": {
              "color": "#E5ECF6",
              "width": 0.5
             },
             "pattern": {
              "fillmode": "overlay",
              "size": 10,
              "solidity": 0.2
             }
            },
            "type": "bar"
           }
          ],
          "barpolar": [
           {
            "marker": {
             "line": {
              "color": "#E5ECF6",
              "width": 0.5
             },
             "pattern": {
              "fillmode": "overlay",
              "size": 10,
              "solidity": 0.2
             }
            },
            "type": "barpolar"
           }
          ],
          "carpet": [
           {
            "aaxis": {
             "endlinecolor": "#2a3f5f",
             "gridcolor": "white",
             "linecolor": "white",
             "minorgridcolor": "white",
             "startlinecolor": "#2a3f5f"
            },
            "baxis": {
             "endlinecolor": "#2a3f5f",
             "gridcolor": "white",
             "linecolor": "white",
             "minorgridcolor": "white",
             "startlinecolor": "#2a3f5f"
            },
            "type": "carpet"
           }
          ],
          "choropleth": [
           {
            "colorbar": {
             "outlinewidth": 0,
             "ticks": ""
            },
            "type": "choropleth"
           }
          ],
          "contour": [
           {
            "colorbar": {
             "outlinewidth": 0,
             "ticks": ""
            },
            "colorscale": [
             [
              0,
              "#0d0887"
             ],
             [
              0.1111111111111111,
              "#46039f"
             ],
             [
              0.2222222222222222,
              "#7201a8"
             ],
             [
              0.3333333333333333,
              "#9c179e"
             ],
             [
              0.4444444444444444,
              "#bd3786"
             ],
             [
              0.5555555555555556,
              "#d8576b"
             ],
             [
              0.6666666666666666,
              "#ed7953"
             ],
             [
              0.7777777777777778,
              "#fb9f3a"
             ],
             [
              0.8888888888888888,
              "#fdca26"
             ],
             [
              1,
              "#f0f921"
             ]
            ],
            "type": "contour"
           }
          ],
          "contourcarpet": [
           {
            "colorbar": {
             "outlinewidth": 0,
             "ticks": ""
            },
            "type": "contourcarpet"
           }
          ],
          "heatmap": [
           {
            "colorbar": {
             "outlinewidth": 0,
             "ticks": ""
            },
            "colorscale": [
             [
              0,
              "#0d0887"
             ],
             [
              0.1111111111111111,
              "#46039f"
             ],
             [
              0.2222222222222222,
              "#7201a8"
             ],
             [
              0.3333333333333333,
              "#9c179e"
             ],
             [
              0.4444444444444444,
              "#bd3786"
             ],
             [
              0.5555555555555556,
              "#d8576b"
             ],
             [
              0.6666666666666666,
              "#ed7953"
             ],
             [
              0.7777777777777778,
              "#fb9f3a"
             ],
             [
              0.8888888888888888,
              "#fdca26"
             ],
             [
              1,
              "#f0f921"
             ]
            ],
            "type": "heatmap"
           }
          ],
          "heatmapgl": [
           {
            "colorbar": {
             "outlinewidth": 0,
             "ticks": ""
            },
            "colorscale": [
             [
              0,
              "#0d0887"
             ],
             [
              0.1111111111111111,
              "#46039f"
             ],
             [
              0.2222222222222222,
              "#7201a8"
             ],
             [
              0.3333333333333333,
              "#9c179e"
             ],
             [
              0.4444444444444444,
              "#bd3786"
             ],
             [
              0.5555555555555556,
              "#d8576b"
             ],
             [
              0.6666666666666666,
              "#ed7953"
             ],
             [
              0.7777777777777778,
              "#fb9f3a"
             ],
             [
              0.8888888888888888,
              "#fdca26"
             ],
             [
              1,
              "#f0f921"
             ]
            ],
            "type": "heatmapgl"
           }
          ],
          "histogram": [
           {
            "marker": {
             "pattern": {
              "fillmode": "overlay",
              "size": 10,
              "solidity": 0.2
             }
            },
            "type": "histogram"
           }
          ],
          "histogram2d": [
           {
            "colorbar": {
             "outlinewidth": 0,
             "ticks": ""
            },
            "colorscale": [
             [
              0,
              "#0d0887"
             ],
             [
              0.1111111111111111,
              "#46039f"
             ],
             [
              0.2222222222222222,
              "#7201a8"
             ],
             [
              0.3333333333333333,
              "#9c179e"
             ],
             [
              0.4444444444444444,
              "#bd3786"
             ],
             [
              0.5555555555555556,
              "#d8576b"
             ],
             [
              0.6666666666666666,
              "#ed7953"
             ],
             [
              0.7777777777777778,
              "#fb9f3a"
             ],
             [
              0.8888888888888888,
              "#fdca26"
             ],
             [
              1,
              "#f0f921"
             ]
            ],
            "type": "histogram2d"
           }
          ],
          "histogram2dcontour": [
           {
            "colorbar": {
             "outlinewidth": 0,
             "ticks": ""
            },
            "colorscale": [
             [
              0,
              "#0d0887"
             ],
             [
              0.1111111111111111,
              "#46039f"
             ],
             [
              0.2222222222222222,
              "#7201a8"
             ],
             [
              0.3333333333333333,
              "#9c179e"
             ],
             [
              0.4444444444444444,
              "#bd3786"
             ],
             [
              0.5555555555555556,
              "#d8576b"
             ],
             [
              0.6666666666666666,
              "#ed7953"
             ],
             [
              0.7777777777777778,
              "#fb9f3a"
             ],
             [
              0.8888888888888888,
              "#fdca26"
             ],
             [
              1,
              "#f0f921"
             ]
            ],
            "type": "histogram2dcontour"
           }
          ],
          "mesh3d": [
           {
            "colorbar": {
             "outlinewidth": 0,
             "ticks": ""
            },
            "type": "mesh3d"
           }
          ],
          "parcoords": [
           {
            "line": {
             "colorbar": {
              "outlinewidth": 0,
              "ticks": ""
             }
            },
            "type": "parcoords"
           }
          ],
          "pie": [
           {
            "automargin": true,
            "type": "pie"
           }
          ],
          "scatter": [
           {
            "fillpattern": {
             "fillmode": "overlay",
             "size": 10,
             "solidity": 0.2
            },
            "type": "scatter"
           }
          ],
          "scatter3d": [
           {
            "line": {
             "colorbar": {
              "outlinewidth": 0,
              "ticks": ""
             }
            },
            "marker": {
             "colorbar": {
              "outlinewidth": 0,
              "ticks": ""
             }
            },
            "type": "scatter3d"
           }
          ],
          "scattercarpet": [
           {
            "marker": {
             "colorbar": {
              "outlinewidth": 0,
              "ticks": ""
             }
            },
            "type": "scattercarpet"
           }
          ],
          "scattergeo": [
           {
            "marker": {
             "colorbar": {
              "outlinewidth": 0,
              "ticks": ""
             }
            },
            "type": "scattergeo"
           }
          ],
          "scattergl": [
           {
            "marker": {
             "colorbar": {
              "outlinewidth": 0,
              "ticks": ""
             }
            },
            "type": "scattergl"
           }
          ],
          "scattermapbox": [
           {
            "marker": {
             "colorbar": {
              "outlinewidth": 0,
              "ticks": ""
             }
            },
            "type": "scattermapbox"
           }
          ],
          "scatterpolar": [
           {
            "marker": {
             "colorbar": {
              "outlinewidth": 0,
              "ticks": ""
             }
            },
            "type": "scatterpolar"
           }
          ],
          "scatterpolargl": [
           {
            "marker": {
             "colorbar": {
              "outlinewidth": 0,
              "ticks": ""
             }
            },
            "type": "scatterpolargl"
           }
          ],
          "scatterternary": [
           {
            "marker": {
             "colorbar": {
              "outlinewidth": 0,
              "ticks": ""
             }
            },
            "type": "scatterternary"
           }
          ],
          "surface": [
           {
            "colorbar": {
             "outlinewidth": 0,
             "ticks": ""
            },
            "colorscale": [
             [
              0,
              "#0d0887"
             ],
             [
              0.1111111111111111,
              "#46039f"
             ],
             [
              0.2222222222222222,
              "#7201a8"
             ],
             [
              0.3333333333333333,
              "#9c179e"
             ],
             [
              0.4444444444444444,
              "#bd3786"
             ],
             [
              0.5555555555555556,
              "#d8576b"
             ],
             [
              0.6666666666666666,
              "#ed7953"
             ],
             [
              0.7777777777777778,
              "#fb9f3a"
             ],
             [
              0.8888888888888888,
              "#fdca26"
             ],
             [
              1,
              "#f0f921"
             ]
            ],
            "type": "surface"
           }
          ],
          "table": [
           {
            "cells": {
             "fill": {
              "color": "#EBF0F8"
             },
             "line": {
              "color": "white"
             }
            },
            "header": {
             "fill": {
              "color": "#C8D4E3"
             },
             "line": {
              "color": "white"
             }
            },
            "type": "table"
           }
          ]
         },
         "layout": {
          "annotationdefaults": {
           "arrowcolor": "#2a3f5f",
           "arrowhead": 0,
           "arrowwidth": 1
          },
          "autotypenumbers": "strict",
          "coloraxis": {
           "colorbar": {
            "outlinewidth": 0,
            "ticks": ""
           }
          },
          "colorscale": {
           "diverging": [
            [
             0,
             "#8e0152"
            ],
            [
             0.1,
             "#c51b7d"
            ],
            [
             0.2,
             "#de77ae"
            ],
            [
             0.3,
             "#f1b6da"
            ],
            [
             0.4,
             "#fde0ef"
            ],
            [
             0.5,
             "#f7f7f7"
            ],
            [
             0.6,
             "#e6f5d0"
            ],
            [
             0.7,
             "#b8e186"
            ],
            [
             0.8,
             "#7fbc41"
            ],
            [
             0.9,
             "#4d9221"
            ],
            [
             1,
             "#276419"
            ]
           ],
           "sequential": [
            [
             0,
             "#0d0887"
            ],
            [
             0.1111111111111111,
             "#46039f"
            ],
            [
             0.2222222222222222,
             "#7201a8"
            ],
            [
             0.3333333333333333,
             "#9c179e"
            ],
            [
             0.4444444444444444,
             "#bd3786"
            ],
            [
             0.5555555555555556,
             "#d8576b"
            ],
            [
             0.6666666666666666,
             "#ed7953"
            ],
            [
             0.7777777777777778,
             "#fb9f3a"
            ],
            [
             0.8888888888888888,
             "#fdca26"
            ],
            [
             1,
             "#f0f921"
            ]
           ],
           "sequentialminus": [
            [
             0,
             "#0d0887"
            ],
            [
             0.1111111111111111,
             "#46039f"
            ],
            [
             0.2222222222222222,
             "#7201a8"
            ],
            [
             0.3333333333333333,
             "#9c179e"
            ],
            [
             0.4444444444444444,
             "#bd3786"
            ],
            [
             0.5555555555555556,
             "#d8576b"
            ],
            [
             0.6666666666666666,
             "#ed7953"
            ],
            [
             0.7777777777777778,
             "#fb9f3a"
            ],
            [
             0.8888888888888888,
             "#fdca26"
            ],
            [
             1,
             "#f0f921"
            ]
           ]
          },
          "colorway": [
           "#636efa",
           "#EF553B",
           "#00cc96",
           "#ab63fa",
           "#FFA15A",
           "#19d3f3",
           "#FF6692",
           "#B6E880",
           "#FF97FF",
           "#FECB52"
          ],
          "font": {
           "color": "#2a3f5f"
          },
          "geo": {
           "bgcolor": "white",
           "lakecolor": "white",
           "landcolor": "#E5ECF6",
           "showlakes": true,
           "showland": true,
           "subunitcolor": "white"
          },
          "hoverlabel": {
           "align": "left"
          },
          "hovermode": "closest",
          "mapbox": {
           "style": "light"
          },
          "paper_bgcolor": "white",
          "plot_bgcolor": "#E5ECF6",
          "polar": {
           "angularaxis": {
            "gridcolor": "white",
            "linecolor": "white",
            "ticks": ""
           },
           "bgcolor": "#E5ECF6",
           "radialaxis": {
            "gridcolor": "white",
            "linecolor": "white",
            "ticks": ""
           }
          },
          "scene": {
           "xaxis": {
            "backgroundcolor": "#E5ECF6",
            "gridcolor": "white",
            "gridwidth": 2,
            "linecolor": "white",
            "showbackground": true,
            "ticks": "",
            "zerolinecolor": "white"
           },
           "yaxis": {
            "backgroundcolor": "#E5ECF6",
            "gridcolor": "white",
            "gridwidth": 2,
            "linecolor": "white",
            "showbackground": true,
            "ticks": "",
            "zerolinecolor": "white"
           },
           "zaxis": {
            "backgroundcolor": "#E5ECF6",
            "gridcolor": "white",
            "gridwidth": 2,
            "linecolor": "white",
            "showbackground": true,
            "ticks": "",
            "zerolinecolor": "white"
           }
          },
          "shapedefaults": {
           "line": {
            "color": "#2a3f5f"
           }
          },
          "ternary": {
           "aaxis": {
            "gridcolor": "white",
            "linecolor": "white",
            "ticks": ""
           },
           "baxis": {
            "gridcolor": "white",
            "linecolor": "white",
            "ticks": ""
           },
           "bgcolor": "#E5ECF6",
           "caxis": {
            "gridcolor": "white",
            "linecolor": "white",
            "ticks": ""
           }
          },
          "title": {
           "x": 0.05
          },
          "xaxis": {
           "automargin": true,
           "gridcolor": "white",
           "linecolor": "white",
           "ticks": "",
           "title": {
            "standoff": 15
           },
           "zerolinecolor": "white",
           "zerolinewidth": 2
          },
          "yaxis": {
           "automargin": true,
           "gridcolor": "white",
           "linecolor": "white",
           "ticks": "",
           "title": {
            "standoff": 15
           },
           "zerolinecolor": "white",
           "zerolinewidth": 2
          }
         }
        },
        "xaxis": {
         "title": {
          "text": "Metric"
         }
        },
        "yaxis": {
         "title": {
          "text": "Mean Score"
         }
        }
       }
      }
     },
     "metadata": {},
     "output_type": "display_data"
    },
    {
     "data": {
      "application/vnd.plotly.v1+json": {
       "config": {
        "plotlyServerURL": "https://plot.ly"
       },
       "data": [
        {
         "error_y": {
          "array": [
           0.9169718457369259
          ],
          "type": "data",
          "visible": true
         },
         "name": "gpt-3.5-turbo-16k-0613",
         "type": "bar",
         "x": [
          "Answer Faithfulness"
         ],
         "y": [
          1.7244897959183674
         ]
        },
        {
         "error_y": {
          "array": [
           0.9503230097439122
          ],
          "type": "data",
          "visible": true
         },
         "name": "gpt-4-0613",
         "type": "bar",
         "x": [
          "Answer Faithfulness"
         ],
         "y": [
          2.2346938775510203
         ]
        },
        {
         "error_y": {
          "array": [
           0.9469963145530096
          ],
          "type": "data",
          "visible": true
         },
         "name": "gpt-4-1106-preview",
         "type": "bar",
         "x": [
          "Answer Faithfulness"
         ],
         "y": [
          1.989795918367347
         ]
        },
        {
         "error_y": {
          "array": [
           0.9201212883944249
          ],
          "type": "data",
          "visible": true
         },
         "name": "gpt-4-1106-preview-v1.1",
         "type": "bar",
         "x": [
          "Answer Faithfulness"
         ],
         "y": [
          2.2448979591836733
         ]
        }
       ],
       "layout": {
        "barmode": "group",
        "legend": {
         "title": {
          "text": "Model"
         }
        },
        "template": {
         "data": {
          "bar": [
           {
            "error_x": {
             "color": "#2a3f5f"
            },
            "error_y": {
             "color": "#2a3f5f"
            },
            "marker": {
             "line": {
              "color": "#E5ECF6",
              "width": 0.5
             },
             "pattern": {
              "fillmode": "overlay",
              "size": 10,
              "solidity": 0.2
             }
            },
            "type": "bar"
           }
          ],
          "barpolar": [
           {
            "marker": {
             "line": {
              "color": "#E5ECF6",
              "width": 0.5
             },
             "pattern": {
              "fillmode": "overlay",
              "size": 10,
              "solidity": 0.2
             }
            },
            "type": "barpolar"
           }
          ],
          "carpet": [
           {
            "aaxis": {
             "endlinecolor": "#2a3f5f",
             "gridcolor": "white",
             "linecolor": "white",
             "minorgridcolor": "white",
             "startlinecolor": "#2a3f5f"
            },
            "baxis": {
             "endlinecolor": "#2a3f5f",
             "gridcolor": "white",
             "linecolor": "white",
             "minorgridcolor": "white",
             "startlinecolor": "#2a3f5f"
            },
            "type": "carpet"
           }
          ],
          "choropleth": [
           {
            "colorbar": {
             "outlinewidth": 0,
             "ticks": ""
            },
            "type": "choropleth"
           }
          ],
          "contour": [
           {
            "colorbar": {
             "outlinewidth": 0,
             "ticks": ""
            },
            "colorscale": [
             [
              0,
              "#0d0887"
             ],
             [
              0.1111111111111111,
              "#46039f"
             ],
             [
              0.2222222222222222,
              "#7201a8"
             ],
             [
              0.3333333333333333,
              "#9c179e"
             ],
             [
              0.4444444444444444,
              "#bd3786"
             ],
             [
              0.5555555555555556,
              "#d8576b"
             ],
             [
              0.6666666666666666,
              "#ed7953"
             ],
             [
              0.7777777777777778,
              "#fb9f3a"
             ],
             [
              0.8888888888888888,
              "#fdca26"
             ],
             [
              1,
              "#f0f921"
             ]
            ],
            "type": "contour"
           }
          ],
          "contourcarpet": [
           {
            "colorbar": {
             "outlinewidth": 0,
             "ticks": ""
            },
            "type": "contourcarpet"
           }
          ],
          "heatmap": [
           {
            "colorbar": {
             "outlinewidth": 0,
             "ticks": ""
            },
            "colorscale": [
             [
              0,
              "#0d0887"
             ],
             [
              0.1111111111111111,
              "#46039f"
             ],
             [
              0.2222222222222222,
              "#7201a8"
             ],
             [
              0.3333333333333333,
              "#9c179e"
             ],
             [
              0.4444444444444444,
              "#bd3786"
             ],
             [
              0.5555555555555556,
              "#d8576b"
             ],
             [
              0.6666666666666666,
              "#ed7953"
             ],
             [
              0.7777777777777778,
              "#fb9f3a"
             ],
             [
              0.8888888888888888,
              "#fdca26"
             ],
             [
              1,
              "#f0f921"
             ]
            ],
            "type": "heatmap"
           }
          ],
          "heatmapgl": [
           {
            "colorbar": {
             "outlinewidth": 0,
             "ticks": ""
            },
            "colorscale": [
             [
              0,
              "#0d0887"
             ],
             [
              0.1111111111111111,
              "#46039f"
             ],
             [
              0.2222222222222222,
              "#7201a8"
             ],
             [
              0.3333333333333333,
              "#9c179e"
             ],
             [
              0.4444444444444444,
              "#bd3786"
             ],
             [
              0.5555555555555556,
              "#d8576b"
             ],
             [
              0.6666666666666666,
              "#ed7953"
             ],
             [
              0.7777777777777778,
              "#fb9f3a"
             ],
             [
              0.8888888888888888,
              "#fdca26"
             ],
             [
              1,
              "#f0f921"
             ]
            ],
            "type": "heatmapgl"
           }
          ],
          "histogram": [
           {
            "marker": {
             "pattern": {
              "fillmode": "overlay",
              "size": 10,
              "solidity": 0.2
             }
            },
            "type": "histogram"
           }
          ],
          "histogram2d": [
           {
            "colorbar": {
             "outlinewidth": 0,
             "ticks": ""
            },
            "colorscale": [
             [
              0,
              "#0d0887"
             ],
             [
              0.1111111111111111,
              "#46039f"
             ],
             [
              0.2222222222222222,
              "#7201a8"
             ],
             [
              0.3333333333333333,
              "#9c179e"
             ],
             [
              0.4444444444444444,
              "#bd3786"
             ],
             [
              0.5555555555555556,
              "#d8576b"
             ],
             [
              0.6666666666666666,
              "#ed7953"
             ],
             [
              0.7777777777777778,
              "#fb9f3a"
             ],
             [
              0.8888888888888888,
              "#fdca26"
             ],
             [
              1,
              "#f0f921"
             ]
            ],
            "type": "histogram2d"
           }
          ],
          "histogram2dcontour": [
           {
            "colorbar": {
             "outlinewidth": 0,
             "ticks": ""
            },
            "colorscale": [
             [
              0,
              "#0d0887"
             ],
             [
              0.1111111111111111,
              "#46039f"
             ],
             [
              0.2222222222222222,
              "#7201a8"
             ],
             [
              0.3333333333333333,
              "#9c179e"
             ],
             [
              0.4444444444444444,
              "#bd3786"
             ],
             [
              0.5555555555555556,
              "#d8576b"
             ],
             [
              0.6666666666666666,
              "#ed7953"
             ],
             [
              0.7777777777777778,
              "#fb9f3a"
             ],
             [
              0.8888888888888888,
              "#fdca26"
             ],
             [
              1,
              "#f0f921"
             ]
            ],
            "type": "histogram2dcontour"
           }
          ],
          "mesh3d": [
           {
            "colorbar": {
             "outlinewidth": 0,
             "ticks": ""
            },
            "type": "mesh3d"
           }
          ],
          "parcoords": [
           {
            "line": {
             "colorbar": {
              "outlinewidth": 0,
              "ticks": ""
             }
            },
            "type": "parcoords"
           }
          ],
          "pie": [
           {
            "automargin": true,
            "type": "pie"
           }
          ],
          "scatter": [
           {
            "fillpattern": {
             "fillmode": "overlay",
             "size": 10,
             "solidity": 0.2
            },
            "type": "scatter"
           }
          ],
          "scatter3d": [
           {
            "line": {
             "colorbar": {
              "outlinewidth": 0,
              "ticks": ""
             }
            },
            "marker": {
             "colorbar": {
              "outlinewidth": 0,
              "ticks": ""
             }
            },
            "type": "scatter3d"
           }
          ],
          "scattercarpet": [
           {
            "marker": {
             "colorbar": {
              "outlinewidth": 0,
              "ticks": ""
             }
            },
            "type": "scattercarpet"
           }
          ],
          "scattergeo": [
           {
            "marker": {
             "colorbar": {
              "outlinewidth": 0,
              "ticks": ""
             }
            },
            "type": "scattergeo"
           }
          ],
          "scattergl": [
           {
            "marker": {
             "colorbar": {
              "outlinewidth": 0,
              "ticks": ""
             }
            },
            "type": "scattergl"
           }
          ],
          "scattermapbox": [
           {
            "marker": {
             "colorbar": {
              "outlinewidth": 0,
              "ticks": ""
             }
            },
            "type": "scattermapbox"
           }
          ],
          "scatterpolar": [
           {
            "marker": {
             "colorbar": {
              "outlinewidth": 0,
              "ticks": ""
             }
            },
            "type": "scatterpolar"
           }
          ],
          "scatterpolargl": [
           {
            "marker": {
             "colorbar": {
              "outlinewidth": 0,
              "ticks": ""
             }
            },
            "type": "scatterpolargl"
           }
          ],
          "scatterternary": [
           {
            "marker": {
             "colorbar": {
              "outlinewidth": 0,
              "ticks": ""
             }
            },
            "type": "scatterternary"
           }
          ],
          "surface": [
           {
            "colorbar": {
             "outlinewidth": 0,
             "ticks": ""
            },
            "colorscale": [
             [
              0,
              "#0d0887"
             ],
             [
              0.1111111111111111,
              "#46039f"
             ],
             [
              0.2222222222222222,
              "#7201a8"
             ],
             [
              0.3333333333333333,
              "#9c179e"
             ],
             [
              0.4444444444444444,
              "#bd3786"
             ],
             [
              0.5555555555555556,
              "#d8576b"
             ],
             [
              0.6666666666666666,
              "#ed7953"
             ],
             [
              0.7777777777777778,
              "#fb9f3a"
             ],
             [
              0.8888888888888888,
              "#fdca26"
             ],
             [
              1,
              "#f0f921"
             ]
            ],
            "type": "surface"
           }
          ],
          "table": [
           {
            "cells": {
             "fill": {
              "color": "#EBF0F8"
             },
             "line": {
              "color": "white"
             }
            },
            "header": {
             "fill": {
              "color": "#C8D4E3"
             },
             "line": {
              "color": "white"
             }
            },
            "type": "table"
           }
          ]
         },
         "layout": {
          "annotationdefaults": {
           "arrowcolor": "#2a3f5f",
           "arrowhead": 0,
           "arrowwidth": 1
          },
          "autotypenumbers": "strict",
          "coloraxis": {
           "colorbar": {
            "outlinewidth": 0,
            "ticks": ""
           }
          },
          "colorscale": {
           "diverging": [
            [
             0,
             "#8e0152"
            ],
            [
             0.1,
             "#c51b7d"
            ],
            [
             0.2,
             "#de77ae"
            ],
            [
             0.3,
             "#f1b6da"
            ],
            [
             0.4,
             "#fde0ef"
            ],
            [
             0.5,
             "#f7f7f7"
            ],
            [
             0.6,
             "#e6f5d0"
            ],
            [
             0.7,
             "#b8e186"
            ],
            [
             0.8,
             "#7fbc41"
            ],
            [
             0.9,
             "#4d9221"
            ],
            [
             1,
             "#276419"
            ]
           ],
           "sequential": [
            [
             0,
             "#0d0887"
            ],
            [
             0.1111111111111111,
             "#46039f"
            ],
            [
             0.2222222222222222,
             "#7201a8"
            ],
            [
             0.3333333333333333,
             "#9c179e"
            ],
            [
             0.4444444444444444,
             "#bd3786"
            ],
            [
             0.5555555555555556,
             "#d8576b"
            ],
            [
             0.6666666666666666,
             "#ed7953"
            ],
            [
             0.7777777777777778,
             "#fb9f3a"
            ],
            [
             0.8888888888888888,
             "#fdca26"
            ],
            [
             1,
             "#f0f921"
            ]
           ],
           "sequentialminus": [
            [
             0,
             "#0d0887"
            ],
            [
             0.1111111111111111,
             "#46039f"
            ],
            [
             0.2222222222222222,
             "#7201a8"
            ],
            [
             0.3333333333333333,
             "#9c179e"
            ],
            [
             0.4444444444444444,
             "#bd3786"
            ],
            [
             0.5555555555555556,
             "#d8576b"
            ],
            [
             0.6666666666666666,
             "#ed7953"
            ],
            [
             0.7777777777777778,
             "#fb9f3a"
            ],
            [
             0.8888888888888888,
             "#fdca26"
            ],
            [
             1,
             "#f0f921"
            ]
           ]
          },
          "colorway": [
           "#636efa",
           "#EF553B",
           "#00cc96",
           "#ab63fa",
           "#FFA15A",
           "#19d3f3",
           "#FF6692",
           "#B6E880",
           "#FF97FF",
           "#FECB52"
          ],
          "font": {
           "color": "#2a3f5f"
          },
          "geo": {
           "bgcolor": "white",
           "lakecolor": "white",
           "landcolor": "#E5ECF6",
           "showlakes": true,
           "showland": true,
           "subunitcolor": "white"
          },
          "hoverlabel": {
           "align": "left"
          },
          "hovermode": "closest",
          "mapbox": {
           "style": "light"
          },
          "paper_bgcolor": "white",
          "plot_bgcolor": "#E5ECF6",
          "polar": {
           "angularaxis": {
            "gridcolor": "white",
            "linecolor": "white",
            "ticks": ""
           },
           "bgcolor": "#E5ECF6",
           "radialaxis": {
            "gridcolor": "white",
            "linecolor": "white",
            "ticks": ""
           }
          },
          "scene": {
           "xaxis": {
            "backgroundcolor": "#E5ECF6",
            "gridcolor": "white",
            "gridwidth": 2,
            "linecolor": "white",
            "showbackground": true,
            "ticks": "",
            "zerolinecolor": "white"
           },
           "yaxis": {
            "backgroundcolor": "#E5ECF6",
            "gridcolor": "white",
            "gridwidth": 2,
            "linecolor": "white",
            "showbackground": true,
            "ticks": "",
            "zerolinecolor": "white"
           },
           "zaxis": {
            "backgroundcolor": "#E5ECF6",
            "gridcolor": "white",
            "gridwidth": 2,
            "linecolor": "white",
            "showbackground": true,
            "ticks": "",
            "zerolinecolor": "white"
           }
          },
          "shapedefaults": {
           "line": {
            "color": "#2a3f5f"
           }
          },
          "ternary": {
           "aaxis": {
            "gridcolor": "white",
            "linecolor": "white",
            "ticks": ""
           },
           "baxis": {
            "gridcolor": "white",
            "linecolor": "white",
            "ticks": ""
           },
           "bgcolor": "#E5ECF6",
           "caxis": {
            "gridcolor": "white",
            "linecolor": "white",
            "ticks": ""
           }
          },
          "title": {
           "x": 0.05
          },
          "xaxis": {
           "automargin": true,
           "gridcolor": "white",
           "linecolor": "white",
           "ticks": "",
           "title": {
            "standoff": 15
           },
           "zerolinecolor": "white",
           "zerolinewidth": 2
          },
          "yaxis": {
           "automargin": true,
           "gridcolor": "white",
           "linecolor": "white",
           "ticks": "",
           "title": {
            "standoff": 15
           },
           "zerolinecolor": "white",
           "zerolinewidth": 2
          }
         }
        },
        "xaxis": {
         "title": {
          "text": "Metric"
         }
        },
        "yaxis": {
         "title": {
          "text": "Mean Score"
         }
        }
       }
      }
     },
     "metadata": {},
     "output_type": "display_data"
    },
    {
     "data": {
      "application/vnd.plotly.v1+json": {
       "config": {
        "plotlyServerURL": "https://plot.ly"
       },
       "data": [
        {
         "error_y": {
          "array": [
           0.6455108050629185
          ],
          "type": "data",
          "visible": true
         },
         "name": "gpt-3.5-turbo-16k-0613",
         "type": "bar",
         "x": [
          "Answer Relevancy"
         ],
         "y": [
          2.295918367346939
         ]
        },
        {
         "error_y": {
          "array": [
           0.570415154381799
          ],
          "type": "data",
          "visible": true
         },
         "name": "gpt-4-0613",
         "type": "bar",
         "x": [
          "Answer Relevancy"
         ],
         "y": [
          2.2755102040816326
         ]
        },
        {
         "error_y": {
          "array": [
           0.2902801595145361
          ],
          "type": "data",
          "visible": true
         },
         "name": "gpt-4-1106-preview",
         "type": "bar",
         "x": [
          "Answer Relevancy"
         ],
         "y": [
          2.9081632653061225
         ]
        },
        {
         "error_y": {
          "array": [
           0.3805993700684862
          ],
          "type": "data",
          "visible": true
         },
         "name": "gpt-4-1106-preview-v1.1",
         "type": "bar",
         "x": [
          "Answer Relevancy"
         ],
         "y": [
          2.826530612244898
         ]
        }
       ],
       "layout": {
        "barmode": "group",
        "legend": {
         "title": {
          "text": "Model"
         }
        },
        "template": {
         "data": {
          "bar": [
           {
            "error_x": {
             "color": "#2a3f5f"
            },
            "error_y": {
             "color": "#2a3f5f"
            },
            "marker": {
             "line": {
              "color": "#E5ECF6",
              "width": 0.5
             },
             "pattern": {
              "fillmode": "overlay",
              "size": 10,
              "solidity": 0.2
             }
            },
            "type": "bar"
           }
          ],
          "barpolar": [
           {
            "marker": {
             "line": {
              "color": "#E5ECF6",
              "width": 0.5
             },
             "pattern": {
              "fillmode": "overlay",
              "size": 10,
              "solidity": 0.2
             }
            },
            "type": "barpolar"
           }
          ],
          "carpet": [
           {
            "aaxis": {
             "endlinecolor": "#2a3f5f",
             "gridcolor": "white",
             "linecolor": "white",
             "minorgridcolor": "white",
             "startlinecolor": "#2a3f5f"
            },
            "baxis": {
             "endlinecolor": "#2a3f5f",
             "gridcolor": "white",
             "linecolor": "white",
             "minorgridcolor": "white",
             "startlinecolor": "#2a3f5f"
            },
            "type": "carpet"
           }
          ],
          "choropleth": [
           {
            "colorbar": {
             "outlinewidth": 0,
             "ticks": ""
            },
            "type": "choropleth"
           }
          ],
          "contour": [
           {
            "colorbar": {
             "outlinewidth": 0,
             "ticks": ""
            },
            "colorscale": [
             [
              0,
              "#0d0887"
             ],
             [
              0.1111111111111111,
              "#46039f"
             ],
             [
              0.2222222222222222,
              "#7201a8"
             ],
             [
              0.3333333333333333,
              "#9c179e"
             ],
             [
              0.4444444444444444,
              "#bd3786"
             ],
             [
              0.5555555555555556,
              "#d8576b"
             ],
             [
              0.6666666666666666,
              "#ed7953"
             ],
             [
              0.7777777777777778,
              "#fb9f3a"
             ],
             [
              0.8888888888888888,
              "#fdca26"
             ],
             [
              1,
              "#f0f921"
             ]
            ],
            "type": "contour"
           }
          ],
          "contourcarpet": [
           {
            "colorbar": {
             "outlinewidth": 0,
             "ticks": ""
            },
            "type": "contourcarpet"
           }
          ],
          "heatmap": [
           {
            "colorbar": {
             "outlinewidth": 0,
             "ticks": ""
            },
            "colorscale": [
             [
              0,
              "#0d0887"
             ],
             [
              0.1111111111111111,
              "#46039f"
             ],
             [
              0.2222222222222222,
              "#7201a8"
             ],
             [
              0.3333333333333333,
              "#9c179e"
             ],
             [
              0.4444444444444444,
              "#bd3786"
             ],
             [
              0.5555555555555556,
              "#d8576b"
             ],
             [
              0.6666666666666666,
              "#ed7953"
             ],
             [
              0.7777777777777778,
              "#fb9f3a"
             ],
             [
              0.8888888888888888,
              "#fdca26"
             ],
             [
              1,
              "#f0f921"
             ]
            ],
            "type": "heatmap"
           }
          ],
          "heatmapgl": [
           {
            "colorbar": {
             "outlinewidth": 0,
             "ticks": ""
            },
            "colorscale": [
             [
              0,
              "#0d0887"
             ],
             [
              0.1111111111111111,
              "#46039f"
             ],
             [
              0.2222222222222222,
              "#7201a8"
             ],
             [
              0.3333333333333333,
              "#9c179e"
             ],
             [
              0.4444444444444444,
              "#bd3786"
             ],
             [
              0.5555555555555556,
              "#d8576b"
             ],
             [
              0.6666666666666666,
              "#ed7953"
             ],
             [
              0.7777777777777778,
              "#fb9f3a"
             ],
             [
              0.8888888888888888,
              "#fdca26"
             ],
             [
              1,
              "#f0f921"
             ]
            ],
            "type": "heatmapgl"
           }
          ],
          "histogram": [
           {
            "marker": {
             "pattern": {
              "fillmode": "overlay",
              "size": 10,
              "solidity": 0.2
             }
            },
            "type": "histogram"
           }
          ],
          "histogram2d": [
           {
            "colorbar": {
             "outlinewidth": 0,
             "ticks": ""
            },
            "colorscale": [
             [
              0,
              "#0d0887"
             ],
             [
              0.1111111111111111,
              "#46039f"
             ],
             [
              0.2222222222222222,
              "#7201a8"
             ],
             [
              0.3333333333333333,
              "#9c179e"
             ],
             [
              0.4444444444444444,
              "#bd3786"
             ],
             [
              0.5555555555555556,
              "#d8576b"
             ],
             [
              0.6666666666666666,
              "#ed7953"
             ],
             [
              0.7777777777777778,
              "#fb9f3a"
             ],
             [
              0.8888888888888888,
              "#fdca26"
             ],
             [
              1,
              "#f0f921"
             ]
            ],
            "type": "histogram2d"
           }
          ],
          "histogram2dcontour": [
           {
            "colorbar": {
             "outlinewidth": 0,
             "ticks": ""
            },
            "colorscale": [
             [
              0,
              "#0d0887"
             ],
             [
              0.1111111111111111,
              "#46039f"
             ],
             [
              0.2222222222222222,
              "#7201a8"
             ],
             [
              0.3333333333333333,
              "#9c179e"
             ],
             [
              0.4444444444444444,
              "#bd3786"
             ],
             [
              0.5555555555555556,
              "#d8576b"
             ],
             [
              0.6666666666666666,
              "#ed7953"
             ],
             [
              0.7777777777777778,
              "#fb9f3a"
             ],
             [
              0.8888888888888888,
              "#fdca26"
             ],
             [
              1,
              "#f0f921"
             ]
            ],
            "type": "histogram2dcontour"
           }
          ],
          "mesh3d": [
           {
            "colorbar": {
             "outlinewidth": 0,
             "ticks": ""
            },
            "type": "mesh3d"
           }
          ],
          "parcoords": [
           {
            "line": {
             "colorbar": {
              "outlinewidth": 0,
              "ticks": ""
             }
            },
            "type": "parcoords"
           }
          ],
          "pie": [
           {
            "automargin": true,
            "type": "pie"
           }
          ],
          "scatter": [
           {
            "fillpattern": {
             "fillmode": "overlay",
             "size": 10,
             "solidity": 0.2
            },
            "type": "scatter"
           }
          ],
          "scatter3d": [
           {
            "line": {
             "colorbar": {
              "outlinewidth": 0,
              "ticks": ""
             }
            },
            "marker": {
             "colorbar": {
              "outlinewidth": 0,
              "ticks": ""
             }
            },
            "type": "scatter3d"
           }
          ],
          "scattercarpet": [
           {
            "marker": {
             "colorbar": {
              "outlinewidth": 0,
              "ticks": ""
             }
            },
            "type": "scattercarpet"
           }
          ],
          "scattergeo": [
           {
            "marker": {
             "colorbar": {
              "outlinewidth": 0,
              "ticks": ""
             }
            },
            "type": "scattergeo"
           }
          ],
          "scattergl": [
           {
            "marker": {
             "colorbar": {
              "outlinewidth": 0,
              "ticks": ""
             }
            },
            "type": "scattergl"
           }
          ],
          "scattermapbox": [
           {
            "marker": {
             "colorbar": {
              "outlinewidth": 0,
              "ticks": ""
             }
            },
            "type": "scattermapbox"
           }
          ],
          "scatterpolar": [
           {
            "marker": {
             "colorbar": {
              "outlinewidth": 0,
              "ticks": ""
             }
            },
            "type": "scatterpolar"
           }
          ],
          "scatterpolargl": [
           {
            "marker": {
             "colorbar": {
              "outlinewidth": 0,
              "ticks": ""
             }
            },
            "type": "scatterpolargl"
           }
          ],
          "scatterternary": [
           {
            "marker": {
             "colorbar": {
              "outlinewidth": 0,
              "ticks": ""
             }
            },
            "type": "scatterternary"
           }
          ],
          "surface": [
           {
            "colorbar": {
             "outlinewidth": 0,
             "ticks": ""
            },
            "colorscale": [
             [
              0,
              "#0d0887"
             ],
             [
              0.1111111111111111,
              "#46039f"
             ],
             [
              0.2222222222222222,
              "#7201a8"
             ],
             [
              0.3333333333333333,
              "#9c179e"
             ],
             [
              0.4444444444444444,
              "#bd3786"
             ],
             [
              0.5555555555555556,
              "#d8576b"
             ],
             [
              0.6666666666666666,
              "#ed7953"
             ],
             [
              0.7777777777777778,
              "#fb9f3a"
             ],
             [
              0.8888888888888888,
              "#fdca26"
             ],
             [
              1,
              "#f0f921"
             ]
            ],
            "type": "surface"
           }
          ],
          "table": [
           {
            "cells": {
             "fill": {
              "color": "#EBF0F8"
             },
             "line": {
              "color": "white"
             }
            },
            "header": {
             "fill": {
              "color": "#C8D4E3"
             },
             "line": {
              "color": "white"
             }
            },
            "type": "table"
           }
          ]
         },
         "layout": {
          "annotationdefaults": {
           "arrowcolor": "#2a3f5f",
           "arrowhead": 0,
           "arrowwidth": 1
          },
          "autotypenumbers": "strict",
          "coloraxis": {
           "colorbar": {
            "outlinewidth": 0,
            "ticks": ""
           }
          },
          "colorscale": {
           "diverging": [
            [
             0,
             "#8e0152"
            ],
            [
             0.1,
             "#c51b7d"
            ],
            [
             0.2,
             "#de77ae"
            ],
            [
             0.3,
             "#f1b6da"
            ],
            [
             0.4,
             "#fde0ef"
            ],
            [
             0.5,
             "#f7f7f7"
            ],
            [
             0.6,
             "#e6f5d0"
            ],
            [
             0.7,
             "#b8e186"
            ],
            [
             0.8,
             "#7fbc41"
            ],
            [
             0.9,
             "#4d9221"
            ],
            [
             1,
             "#276419"
            ]
           ],
           "sequential": [
            [
             0,
             "#0d0887"
            ],
            [
             0.1111111111111111,
             "#46039f"
            ],
            [
             0.2222222222222222,
             "#7201a8"
            ],
            [
             0.3333333333333333,
             "#9c179e"
            ],
            [
             0.4444444444444444,
             "#bd3786"
            ],
            [
             0.5555555555555556,
             "#d8576b"
            ],
            [
             0.6666666666666666,
             "#ed7953"
            ],
            [
             0.7777777777777778,
             "#fb9f3a"
            ],
            [
             0.8888888888888888,
             "#fdca26"
            ],
            [
             1,
             "#f0f921"
            ]
           ],
           "sequentialminus": [
            [
             0,
             "#0d0887"
            ],
            [
             0.1111111111111111,
             "#46039f"
            ],
            [
             0.2222222222222222,
             "#7201a8"
            ],
            [
             0.3333333333333333,
             "#9c179e"
            ],
            [
             0.4444444444444444,
             "#bd3786"
            ],
            [
             0.5555555555555556,
             "#d8576b"
            ],
            [
             0.6666666666666666,
             "#ed7953"
            ],
            [
             0.7777777777777778,
             "#fb9f3a"
            ],
            [
             0.8888888888888888,
             "#fdca26"
            ],
            [
             1,
             "#f0f921"
            ]
           ]
          },
          "colorway": [
           "#636efa",
           "#EF553B",
           "#00cc96",
           "#ab63fa",
           "#FFA15A",
           "#19d3f3",
           "#FF6692",
           "#B6E880",
           "#FF97FF",
           "#FECB52"
          ],
          "font": {
           "color": "#2a3f5f"
          },
          "geo": {
           "bgcolor": "white",
           "lakecolor": "white",
           "landcolor": "#E5ECF6",
           "showlakes": true,
           "showland": true,
           "subunitcolor": "white"
          },
          "hoverlabel": {
           "align": "left"
          },
          "hovermode": "closest",
          "mapbox": {
           "style": "light"
          },
          "paper_bgcolor": "white",
          "plot_bgcolor": "#E5ECF6",
          "polar": {
           "angularaxis": {
            "gridcolor": "white",
            "linecolor": "white",
            "ticks": ""
           },
           "bgcolor": "#E5ECF6",
           "radialaxis": {
            "gridcolor": "white",
            "linecolor": "white",
            "ticks": ""
           }
          },
          "scene": {
           "xaxis": {
            "backgroundcolor": "#E5ECF6",
            "gridcolor": "white",
            "gridwidth": 2,
            "linecolor": "white",
            "showbackground": true,
            "ticks": "",
            "zerolinecolor": "white"
           },
           "yaxis": {
            "backgroundcolor": "#E5ECF6",
            "gridcolor": "white",
            "gridwidth": 2,
            "linecolor": "white",
            "showbackground": true,
            "ticks": "",
            "zerolinecolor": "white"
           },
           "zaxis": {
            "backgroundcolor": "#E5ECF6",
            "gridcolor": "white",
            "gridwidth": 2,
            "linecolor": "white",
            "showbackground": true,
            "ticks": "",
            "zerolinecolor": "white"
           }
          },
          "shapedefaults": {
           "line": {
            "color": "#2a3f5f"
           }
          },
          "ternary": {
           "aaxis": {
            "gridcolor": "white",
            "linecolor": "white",
            "ticks": ""
           },
           "baxis": {
            "gridcolor": "white",
            "linecolor": "white",
            "ticks": ""
           },
           "bgcolor": "#E5ECF6",
           "caxis": {
            "gridcolor": "white",
            "linecolor": "white",
            "ticks": ""
           }
          },
          "title": {
           "x": 0.05
          },
          "xaxis": {
           "automargin": true,
           "gridcolor": "white",
           "linecolor": "white",
           "ticks": "",
           "title": {
            "standoff": 15
           },
           "zerolinecolor": "white",
           "zerolinewidth": 2
          },
          "yaxis": {
           "automargin": true,
           "gridcolor": "white",
           "linecolor": "white",
           "ticks": "",
           "title": {
            "standoff": 15
           },
           "zerolinecolor": "white",
           "zerolinewidth": 2
          }
         }
        },
        "xaxis": {
         "title": {
          "text": "Metric"
         }
        },
        "yaxis": {
         "title": {
          "text": "Mean Score"
         }
        }
       }
      }
     },
     "metadata": {},
     "output_type": "display_data"
    },
    {
     "data": {
      "application/vnd.plotly.v1+json": {
       "config": {
        "plotlyServerURL": "https://plot.ly"
       },
       "data": [
        {
         "error_y": {
          "array": [
           0.2305027438232661
          ],
          "type": "data",
          "visible": true
         },
         "name": "gpt-3.5-turbo-16k-0613",
         "type": "bar",
         "x": [
          "Answer Correctness Score"
         ],
         "y": [
          0.4129082174123944
         ]
        },
        {
         "error_y": {
          "array": [
           0.17182789840357618
          ],
          "type": "data",
          "visible": true
         },
         "name": "gpt-4-0613",
         "type": "bar",
         "x": [
          "Answer Correctness Score"
         ],
         "y": [
          0.3579988257995602
         ]
        },
        {
         "error_y": {
          "array": [
           0.19122136237823775
          ],
          "type": "data",
          "visible": true
         },
         "name": "gpt-4-1106-preview",
         "type": "bar",
         "x": [
          "Answer Correctness Score"
         ],
         "y": [
          0.33452574514257316
         ]
        },
        {
         "error_y": {
          "array": [
           0.14422456760804597
          ],
          "type": "data",
          "visible": true
         },
         "name": "gpt-4-1106-preview-v1.1",
         "type": "bar",
         "x": [
          "Answer Correctness Score"
         ],
         "y": [
          0.32364761459427555
         ]
        }
       ],
       "layout": {
        "barmode": "group",
        "legend": {
         "title": {
          "text": "Model"
         }
        },
        "template": {
         "data": {
          "bar": [
           {
            "error_x": {
             "color": "#2a3f5f"
            },
            "error_y": {
             "color": "#2a3f5f"
            },
            "marker": {
             "line": {
              "color": "#E5ECF6",
              "width": 0.5
             },
             "pattern": {
              "fillmode": "overlay",
              "size": 10,
              "solidity": 0.2
             }
            },
            "type": "bar"
           }
          ],
          "barpolar": [
           {
            "marker": {
             "line": {
              "color": "#E5ECF6",
              "width": 0.5
             },
             "pattern": {
              "fillmode": "overlay",
              "size": 10,
              "solidity": 0.2
             }
            },
            "type": "barpolar"
           }
          ],
          "carpet": [
           {
            "aaxis": {
             "endlinecolor": "#2a3f5f",
             "gridcolor": "white",
             "linecolor": "white",
             "minorgridcolor": "white",
             "startlinecolor": "#2a3f5f"
            },
            "baxis": {
             "endlinecolor": "#2a3f5f",
             "gridcolor": "white",
             "linecolor": "white",
             "minorgridcolor": "white",
             "startlinecolor": "#2a3f5f"
            },
            "type": "carpet"
           }
          ],
          "choropleth": [
           {
            "colorbar": {
             "outlinewidth": 0,
             "ticks": ""
            },
            "type": "choropleth"
           }
          ],
          "contour": [
           {
            "colorbar": {
             "outlinewidth": 0,
             "ticks": ""
            },
            "colorscale": [
             [
              0,
              "#0d0887"
             ],
             [
              0.1111111111111111,
              "#46039f"
             ],
             [
              0.2222222222222222,
              "#7201a8"
             ],
             [
              0.3333333333333333,
              "#9c179e"
             ],
             [
              0.4444444444444444,
              "#bd3786"
             ],
             [
              0.5555555555555556,
              "#d8576b"
             ],
             [
              0.6666666666666666,
              "#ed7953"
             ],
             [
              0.7777777777777778,
              "#fb9f3a"
             ],
             [
              0.8888888888888888,
              "#fdca26"
             ],
             [
              1,
              "#f0f921"
             ]
            ],
            "type": "contour"
           }
          ],
          "contourcarpet": [
           {
            "colorbar": {
             "outlinewidth": 0,
             "ticks": ""
            },
            "type": "contourcarpet"
           }
          ],
          "heatmap": [
           {
            "colorbar": {
             "outlinewidth": 0,
             "ticks": ""
            },
            "colorscale": [
             [
              0,
              "#0d0887"
             ],
             [
              0.1111111111111111,
              "#46039f"
             ],
             [
              0.2222222222222222,
              "#7201a8"
             ],
             [
              0.3333333333333333,
              "#9c179e"
             ],
             [
              0.4444444444444444,
              "#bd3786"
             ],
             [
              0.5555555555555556,
              "#d8576b"
             ],
             [
              0.6666666666666666,
              "#ed7953"
             ],
             [
              0.7777777777777778,
              "#fb9f3a"
             ],
             [
              0.8888888888888888,
              "#fdca26"
             ],
             [
              1,
              "#f0f921"
             ]
            ],
            "type": "heatmap"
           }
          ],
          "heatmapgl": [
           {
            "colorbar": {
             "outlinewidth": 0,
             "ticks": ""
            },
            "colorscale": [
             [
              0,
              "#0d0887"
             ],
             [
              0.1111111111111111,
              "#46039f"
             ],
             [
              0.2222222222222222,
              "#7201a8"
             ],
             [
              0.3333333333333333,
              "#9c179e"
             ],
             [
              0.4444444444444444,
              "#bd3786"
             ],
             [
              0.5555555555555556,
              "#d8576b"
             ],
             [
              0.6666666666666666,
              "#ed7953"
             ],
             [
              0.7777777777777778,
              "#fb9f3a"
             ],
             [
              0.8888888888888888,
              "#fdca26"
             ],
             [
              1,
              "#f0f921"
             ]
            ],
            "type": "heatmapgl"
           }
          ],
          "histogram": [
           {
            "marker": {
             "pattern": {
              "fillmode": "overlay",
              "size": 10,
              "solidity": 0.2
             }
            },
            "type": "histogram"
           }
          ],
          "histogram2d": [
           {
            "colorbar": {
             "outlinewidth": 0,
             "ticks": ""
            },
            "colorscale": [
             [
              0,
              "#0d0887"
             ],
             [
              0.1111111111111111,
              "#46039f"
             ],
             [
              0.2222222222222222,
              "#7201a8"
             ],
             [
              0.3333333333333333,
              "#9c179e"
             ],
             [
              0.4444444444444444,
              "#bd3786"
             ],
             [
              0.5555555555555556,
              "#d8576b"
             ],
             [
              0.6666666666666666,
              "#ed7953"
             ],
             [
              0.7777777777777778,
              "#fb9f3a"
             ],
             [
              0.8888888888888888,
              "#fdca26"
             ],
             [
              1,
              "#f0f921"
             ]
            ],
            "type": "histogram2d"
           }
          ],
          "histogram2dcontour": [
           {
            "colorbar": {
             "outlinewidth": 0,
             "ticks": ""
            },
            "colorscale": [
             [
              0,
              "#0d0887"
             ],
             [
              0.1111111111111111,
              "#46039f"
             ],
             [
              0.2222222222222222,
              "#7201a8"
             ],
             [
              0.3333333333333333,
              "#9c179e"
             ],
             [
              0.4444444444444444,
              "#bd3786"
             ],
             [
              0.5555555555555556,
              "#d8576b"
             ],
             [
              0.6666666666666666,
              "#ed7953"
             ],
             [
              0.7777777777777778,
              "#fb9f3a"
             ],
             [
              0.8888888888888888,
              "#fdca26"
             ],
             [
              1,
              "#f0f921"
             ]
            ],
            "type": "histogram2dcontour"
           }
          ],
          "mesh3d": [
           {
            "colorbar": {
             "outlinewidth": 0,
             "ticks": ""
            },
            "type": "mesh3d"
           }
          ],
          "parcoords": [
           {
            "line": {
             "colorbar": {
              "outlinewidth": 0,
              "ticks": ""
             }
            },
            "type": "parcoords"
           }
          ],
          "pie": [
           {
            "automargin": true,
            "type": "pie"
           }
          ],
          "scatter": [
           {
            "fillpattern": {
             "fillmode": "overlay",
             "size": 10,
             "solidity": 0.2
            },
            "type": "scatter"
           }
          ],
          "scatter3d": [
           {
            "line": {
             "colorbar": {
              "outlinewidth": 0,
              "ticks": ""
             }
            },
            "marker": {
             "colorbar": {
              "outlinewidth": 0,
              "ticks": ""
             }
            },
            "type": "scatter3d"
           }
          ],
          "scattercarpet": [
           {
            "marker": {
             "colorbar": {
              "outlinewidth": 0,
              "ticks": ""
             }
            },
            "type": "scattercarpet"
           }
          ],
          "scattergeo": [
           {
            "marker": {
             "colorbar": {
              "outlinewidth": 0,
              "ticks": ""
             }
            },
            "type": "scattergeo"
           }
          ],
          "scattergl": [
           {
            "marker": {
             "colorbar": {
              "outlinewidth": 0,
              "ticks": ""
             }
            },
            "type": "scattergl"
           }
          ],
          "scattermapbox": [
           {
            "marker": {
             "colorbar": {
              "outlinewidth": 0,
              "ticks": ""
             }
            },
            "type": "scattermapbox"
           }
          ],
          "scatterpolar": [
           {
            "marker": {
             "colorbar": {
              "outlinewidth": 0,
              "ticks": ""
             }
            },
            "type": "scatterpolar"
           }
          ],
          "scatterpolargl": [
           {
            "marker": {
             "colorbar": {
              "outlinewidth": 0,
              "ticks": ""
             }
            },
            "type": "scatterpolargl"
           }
          ],
          "scatterternary": [
           {
            "marker": {
             "colorbar": {
              "outlinewidth": 0,
              "ticks": ""
             }
            },
            "type": "scatterternary"
           }
          ],
          "surface": [
           {
            "colorbar": {
             "outlinewidth": 0,
             "ticks": ""
            },
            "colorscale": [
             [
              0,
              "#0d0887"
             ],
             [
              0.1111111111111111,
              "#46039f"
             ],
             [
              0.2222222222222222,
              "#7201a8"
             ],
             [
              0.3333333333333333,
              "#9c179e"
             ],
             [
              0.4444444444444444,
              "#bd3786"
             ],
             [
              0.5555555555555556,
              "#d8576b"
             ],
             [
              0.6666666666666666,
              "#ed7953"
             ],
             [
              0.7777777777777778,
              "#fb9f3a"
             ],
             [
              0.8888888888888888,
              "#fdca26"
             ],
             [
              1,
              "#f0f921"
             ]
            ],
            "type": "surface"
           }
          ],
          "table": [
           {
            "cells": {
             "fill": {
              "color": "#EBF0F8"
             },
             "line": {
              "color": "white"
             }
            },
            "header": {
             "fill": {
              "color": "#C8D4E3"
             },
             "line": {
              "color": "white"
             }
            },
            "type": "table"
           }
          ]
         },
         "layout": {
          "annotationdefaults": {
           "arrowcolor": "#2a3f5f",
           "arrowhead": 0,
           "arrowwidth": 1
          },
          "autotypenumbers": "strict",
          "coloraxis": {
           "colorbar": {
            "outlinewidth": 0,
            "ticks": ""
           }
          },
          "colorscale": {
           "diverging": [
            [
             0,
             "#8e0152"
            ],
            [
             0.1,
             "#c51b7d"
            ],
            [
             0.2,
             "#de77ae"
            ],
            [
             0.3,
             "#f1b6da"
            ],
            [
             0.4,
             "#fde0ef"
            ],
            [
             0.5,
             "#f7f7f7"
            ],
            [
             0.6,
             "#e6f5d0"
            ],
            [
             0.7,
             "#b8e186"
            ],
            [
             0.8,
             "#7fbc41"
            ],
            [
             0.9,
             "#4d9221"
            ],
            [
             1,
             "#276419"
            ]
           ],
           "sequential": [
            [
             0,
             "#0d0887"
            ],
            [
             0.1111111111111111,
             "#46039f"
            ],
            [
             0.2222222222222222,
             "#7201a8"
            ],
            [
             0.3333333333333333,
             "#9c179e"
            ],
            [
             0.4444444444444444,
             "#bd3786"
            ],
            [
             0.5555555555555556,
             "#d8576b"
            ],
            [
             0.6666666666666666,
             "#ed7953"
            ],
            [
             0.7777777777777778,
             "#fb9f3a"
            ],
            [
             0.8888888888888888,
             "#fdca26"
            ],
            [
             1,
             "#f0f921"
            ]
           ],
           "sequentialminus": [
            [
             0,
             "#0d0887"
            ],
            [
             0.1111111111111111,
             "#46039f"
            ],
            [
             0.2222222222222222,
             "#7201a8"
            ],
            [
             0.3333333333333333,
             "#9c179e"
            ],
            [
             0.4444444444444444,
             "#bd3786"
            ],
            [
             0.5555555555555556,
             "#d8576b"
            ],
            [
             0.6666666666666666,
             "#ed7953"
            ],
            [
             0.7777777777777778,
             "#fb9f3a"
            ],
            [
             0.8888888888888888,
             "#fdca26"
            ],
            [
             1,
             "#f0f921"
            ]
           ]
          },
          "colorway": [
           "#636efa",
           "#EF553B",
           "#00cc96",
           "#ab63fa",
           "#FFA15A",
           "#19d3f3",
           "#FF6692",
           "#B6E880",
           "#FF97FF",
           "#FECB52"
          ],
          "font": {
           "color": "#2a3f5f"
          },
          "geo": {
           "bgcolor": "white",
           "lakecolor": "white",
           "landcolor": "#E5ECF6",
           "showlakes": true,
           "showland": true,
           "subunitcolor": "white"
          },
          "hoverlabel": {
           "align": "left"
          },
          "hovermode": "closest",
          "mapbox": {
           "style": "light"
          },
          "paper_bgcolor": "white",
          "plot_bgcolor": "#E5ECF6",
          "polar": {
           "angularaxis": {
            "gridcolor": "white",
            "linecolor": "white",
            "ticks": ""
           },
           "bgcolor": "#E5ECF6",
           "radialaxis": {
            "gridcolor": "white",
            "linecolor": "white",
            "ticks": ""
           }
          },
          "scene": {
           "xaxis": {
            "backgroundcolor": "#E5ECF6",
            "gridcolor": "white",
            "gridwidth": 2,
            "linecolor": "white",
            "showbackground": true,
            "ticks": "",
            "zerolinecolor": "white"
           },
           "yaxis": {
            "backgroundcolor": "#E5ECF6",
            "gridcolor": "white",
            "gridwidth": 2,
            "linecolor": "white",
            "showbackground": true,
            "ticks": "",
            "zerolinecolor": "white"
           },
           "zaxis": {
            "backgroundcolor": "#E5ECF6",
            "gridcolor": "white",
            "gridwidth": 2,
            "linecolor": "white",
            "showbackground": true,
            "ticks": "",
            "zerolinecolor": "white"
           }
          },
          "shapedefaults": {
           "line": {
            "color": "#2a3f5f"
           }
          },
          "ternary": {
           "aaxis": {
            "gridcolor": "white",
            "linecolor": "white",
            "ticks": ""
           },
           "baxis": {
            "gridcolor": "white",
            "linecolor": "white",
            "ticks": ""
           },
           "bgcolor": "#E5ECF6",
           "caxis": {
            "gridcolor": "white",
            "linecolor": "white",
            "ticks": ""
           }
          },
          "title": {
           "x": 0.05
          },
          "xaxis": {
           "automargin": true,
           "gridcolor": "white",
           "linecolor": "white",
           "ticks": "",
           "title": {
            "standoff": 15
           },
           "zerolinecolor": "white",
           "zerolinewidth": 2
          },
          "yaxis": {
           "automargin": true,
           "gridcolor": "white",
           "linecolor": "white",
           "ticks": "",
           "title": {
            "standoff": 15
           },
           "zerolinecolor": "white",
           "zerolinewidth": 2
          }
         }
        },
        "xaxis": {
         "title": {
          "text": "Ragas Metric"
         }
        },
        "yaxis": {
         "title": {
          "text": "Mean Score"
         }
        }
       }
      }
     },
     "metadata": {},
     "output_type": "display_data"
    },
    {
     "data": {
      "application/vnd.plotly.v1+json": {
       "config": {
        "plotlyServerURL": "https://plot.ly"
       },
       "data": [
        {
         "error_y": {
          "array": [
           0.36665272304870306
          ],
          "type": "data",
          "visible": true
         },
         "name": "gpt-3.5-turbo-16k-0613",
         "type": "bar",
         "x": [
          "Answer Faithfulness Score"
         ],
         "y": [
          0.5871320036330776
         ]
        },
        {
         "error_y": {
          "array": [
           0.34589143682725665
          ],
          "type": "data",
          "visible": true
         },
         "name": "gpt-4-0613",
         "type": "bar",
         "x": [
          "Answer Faithfulness Score"
         ],
         "y": [
          0.6138417704744233
         ]
        },
        {
         "error_y": {
          "array": [
           0.34716983299827137
          ],
          "type": "data",
          "visible": true
         },
         "name": "gpt-4-1106-preview",
         "type": "bar",
         "x": [
          "Answer Faithfulness Score"
         ],
         "y": [
          0.6941087965322658
         ]
        },
        {
         "error_y": {
          "array": [
           0.3224917139821531
          ],
          "type": "data",
          "visible": true
         },
         "name": "gpt-4-1106-preview-v1.1",
         "type": "bar",
         "x": [
          "Answer Faithfulness Score"
         ],
         "y": [
          0.7064463880790411
         ]
        }
       ],
       "layout": {
        "barmode": "group",
        "legend": {
         "title": {
          "text": "Model"
         }
        },
        "template": {
         "data": {
          "bar": [
           {
            "error_x": {
             "color": "#2a3f5f"
            },
            "error_y": {
             "color": "#2a3f5f"
            },
            "marker": {
             "line": {
              "color": "#E5ECF6",
              "width": 0.5
             },
             "pattern": {
              "fillmode": "overlay",
              "size": 10,
              "solidity": 0.2
             }
            },
            "type": "bar"
           }
          ],
          "barpolar": [
           {
            "marker": {
             "line": {
              "color": "#E5ECF6",
              "width": 0.5
             },
             "pattern": {
              "fillmode": "overlay",
              "size": 10,
              "solidity": 0.2
             }
            },
            "type": "barpolar"
           }
          ],
          "carpet": [
           {
            "aaxis": {
             "endlinecolor": "#2a3f5f",
             "gridcolor": "white",
             "linecolor": "white",
             "minorgridcolor": "white",
             "startlinecolor": "#2a3f5f"
            },
            "baxis": {
             "endlinecolor": "#2a3f5f",
             "gridcolor": "white",
             "linecolor": "white",
             "minorgridcolor": "white",
             "startlinecolor": "#2a3f5f"
            },
            "type": "carpet"
           }
          ],
          "choropleth": [
           {
            "colorbar": {
             "outlinewidth": 0,
             "ticks": ""
            },
            "type": "choropleth"
           }
          ],
          "contour": [
           {
            "colorbar": {
             "outlinewidth": 0,
             "ticks": ""
            },
            "colorscale": [
             [
              0,
              "#0d0887"
             ],
             [
              0.1111111111111111,
              "#46039f"
             ],
             [
              0.2222222222222222,
              "#7201a8"
             ],
             [
              0.3333333333333333,
              "#9c179e"
             ],
             [
              0.4444444444444444,
              "#bd3786"
             ],
             [
              0.5555555555555556,
              "#d8576b"
             ],
             [
              0.6666666666666666,
              "#ed7953"
             ],
             [
              0.7777777777777778,
              "#fb9f3a"
             ],
             [
              0.8888888888888888,
              "#fdca26"
             ],
             [
              1,
              "#f0f921"
             ]
            ],
            "type": "contour"
           }
          ],
          "contourcarpet": [
           {
            "colorbar": {
             "outlinewidth": 0,
             "ticks": ""
            },
            "type": "contourcarpet"
           }
          ],
          "heatmap": [
           {
            "colorbar": {
             "outlinewidth": 0,
             "ticks": ""
            },
            "colorscale": [
             [
              0,
              "#0d0887"
             ],
             [
              0.1111111111111111,
              "#46039f"
             ],
             [
              0.2222222222222222,
              "#7201a8"
             ],
             [
              0.3333333333333333,
              "#9c179e"
             ],
             [
              0.4444444444444444,
              "#bd3786"
             ],
             [
              0.5555555555555556,
              "#d8576b"
             ],
             [
              0.6666666666666666,
              "#ed7953"
             ],
             [
              0.7777777777777778,
              "#fb9f3a"
             ],
             [
              0.8888888888888888,
              "#fdca26"
             ],
             [
              1,
              "#f0f921"
             ]
            ],
            "type": "heatmap"
           }
          ],
          "heatmapgl": [
           {
            "colorbar": {
             "outlinewidth": 0,
             "ticks": ""
            },
            "colorscale": [
             [
              0,
              "#0d0887"
             ],
             [
              0.1111111111111111,
              "#46039f"
             ],
             [
              0.2222222222222222,
              "#7201a8"
             ],
             [
              0.3333333333333333,
              "#9c179e"
             ],
             [
              0.4444444444444444,
              "#bd3786"
             ],
             [
              0.5555555555555556,
              "#d8576b"
             ],
             [
              0.6666666666666666,
              "#ed7953"
             ],
             [
              0.7777777777777778,
              "#fb9f3a"
             ],
             [
              0.8888888888888888,
              "#fdca26"
             ],
             [
              1,
              "#f0f921"
             ]
            ],
            "type": "heatmapgl"
           }
          ],
          "histogram": [
           {
            "marker": {
             "pattern": {
              "fillmode": "overlay",
              "size": 10,
              "solidity": 0.2
             }
            },
            "type": "histogram"
           }
          ],
          "histogram2d": [
           {
            "colorbar": {
             "outlinewidth": 0,
             "ticks": ""
            },
            "colorscale": [
             [
              0,
              "#0d0887"
             ],
             [
              0.1111111111111111,
              "#46039f"
             ],
             [
              0.2222222222222222,
              "#7201a8"
             ],
             [
              0.3333333333333333,
              "#9c179e"
             ],
             [
              0.4444444444444444,
              "#bd3786"
             ],
             [
              0.5555555555555556,
              "#d8576b"
             ],
             [
              0.6666666666666666,
              "#ed7953"
             ],
             [
              0.7777777777777778,
              "#fb9f3a"
             ],
             [
              0.8888888888888888,
              "#fdca26"
             ],
             [
              1,
              "#f0f921"
             ]
            ],
            "type": "histogram2d"
           }
          ],
          "histogram2dcontour": [
           {
            "colorbar": {
             "outlinewidth": 0,
             "ticks": ""
            },
            "colorscale": [
             [
              0,
              "#0d0887"
             ],
             [
              0.1111111111111111,
              "#46039f"
             ],
             [
              0.2222222222222222,
              "#7201a8"
             ],
             [
              0.3333333333333333,
              "#9c179e"
             ],
             [
              0.4444444444444444,
              "#bd3786"
             ],
             [
              0.5555555555555556,
              "#d8576b"
             ],
             [
              0.6666666666666666,
              "#ed7953"
             ],
             [
              0.7777777777777778,
              "#fb9f3a"
             ],
             [
              0.8888888888888888,
              "#fdca26"
             ],
             [
              1,
              "#f0f921"
             ]
            ],
            "type": "histogram2dcontour"
           }
          ],
          "mesh3d": [
           {
            "colorbar": {
             "outlinewidth": 0,
             "ticks": ""
            },
            "type": "mesh3d"
           }
          ],
          "parcoords": [
           {
            "line": {
             "colorbar": {
              "outlinewidth": 0,
              "ticks": ""
             }
            },
            "type": "parcoords"
           }
          ],
          "pie": [
           {
            "automargin": true,
            "type": "pie"
           }
          ],
          "scatter": [
           {
            "fillpattern": {
             "fillmode": "overlay",
             "size": 10,
             "solidity": 0.2
            },
            "type": "scatter"
           }
          ],
          "scatter3d": [
           {
            "line": {
             "colorbar": {
              "outlinewidth": 0,
              "ticks": ""
             }
            },
            "marker": {
             "colorbar": {
              "outlinewidth": 0,
              "ticks": ""
             }
            },
            "type": "scatter3d"
           }
          ],
          "scattercarpet": [
           {
            "marker": {
             "colorbar": {
              "outlinewidth": 0,
              "ticks": ""
             }
            },
            "type": "scattercarpet"
           }
          ],
          "scattergeo": [
           {
            "marker": {
             "colorbar": {
              "outlinewidth": 0,
              "ticks": ""
             }
            },
            "type": "scattergeo"
           }
          ],
          "scattergl": [
           {
            "marker": {
             "colorbar": {
              "outlinewidth": 0,
              "ticks": ""
             }
            },
            "type": "scattergl"
           }
          ],
          "scattermapbox": [
           {
            "marker": {
             "colorbar": {
              "outlinewidth": 0,
              "ticks": ""
             }
            },
            "type": "scattermapbox"
           }
          ],
          "scatterpolar": [
           {
            "marker": {
             "colorbar": {
              "outlinewidth": 0,
              "ticks": ""
             }
            },
            "type": "scatterpolar"
           }
          ],
          "scatterpolargl": [
           {
            "marker": {
             "colorbar": {
              "outlinewidth": 0,
              "ticks": ""
             }
            },
            "type": "scatterpolargl"
           }
          ],
          "scatterternary": [
           {
            "marker": {
             "colorbar": {
              "outlinewidth": 0,
              "ticks": ""
             }
            },
            "type": "scatterternary"
           }
          ],
          "surface": [
           {
            "colorbar": {
             "outlinewidth": 0,
             "ticks": ""
            },
            "colorscale": [
             [
              0,
              "#0d0887"
             ],
             [
              0.1111111111111111,
              "#46039f"
             ],
             [
              0.2222222222222222,
              "#7201a8"
             ],
             [
              0.3333333333333333,
              "#9c179e"
             ],
             [
              0.4444444444444444,
              "#bd3786"
             ],
             [
              0.5555555555555556,
              "#d8576b"
             ],
             [
              0.6666666666666666,
              "#ed7953"
             ],
             [
              0.7777777777777778,
              "#fb9f3a"
             ],
             [
              0.8888888888888888,
              "#fdca26"
             ],
             [
              1,
              "#f0f921"
             ]
            ],
            "type": "surface"
           }
          ],
          "table": [
           {
            "cells": {
             "fill": {
              "color": "#EBF0F8"
             },
             "line": {
              "color": "white"
             }
            },
            "header": {
             "fill": {
              "color": "#C8D4E3"
             },
             "line": {
              "color": "white"
             }
            },
            "type": "table"
           }
          ]
         },
         "layout": {
          "annotationdefaults": {
           "arrowcolor": "#2a3f5f",
           "arrowhead": 0,
           "arrowwidth": 1
          },
          "autotypenumbers": "strict",
          "coloraxis": {
           "colorbar": {
            "outlinewidth": 0,
            "ticks": ""
           }
          },
          "colorscale": {
           "diverging": [
            [
             0,
             "#8e0152"
            ],
            [
             0.1,
             "#c51b7d"
            ],
            [
             0.2,
             "#de77ae"
            ],
            [
             0.3,
             "#f1b6da"
            ],
            [
             0.4,
             "#fde0ef"
            ],
            [
             0.5,
             "#f7f7f7"
            ],
            [
             0.6,
             "#e6f5d0"
            ],
            [
             0.7,
             "#b8e186"
            ],
            [
             0.8,
             "#7fbc41"
            ],
            [
             0.9,
             "#4d9221"
            ],
            [
             1,
             "#276419"
            ]
           ],
           "sequential": [
            [
             0,
             "#0d0887"
            ],
            [
             0.1111111111111111,
             "#46039f"
            ],
            [
             0.2222222222222222,
             "#7201a8"
            ],
            [
             0.3333333333333333,
             "#9c179e"
            ],
            [
             0.4444444444444444,
             "#bd3786"
            ],
            [
             0.5555555555555556,
             "#d8576b"
            ],
            [
             0.6666666666666666,
             "#ed7953"
            ],
            [
             0.7777777777777778,
             "#fb9f3a"
            ],
            [
             0.8888888888888888,
             "#fdca26"
            ],
            [
             1,
             "#f0f921"
            ]
           ],
           "sequentialminus": [
            [
             0,
             "#0d0887"
            ],
            [
             0.1111111111111111,
             "#46039f"
            ],
            [
             0.2222222222222222,
             "#7201a8"
            ],
            [
             0.3333333333333333,
             "#9c179e"
            ],
            [
             0.4444444444444444,
             "#bd3786"
            ],
            [
             0.5555555555555556,
             "#d8576b"
            ],
            [
             0.6666666666666666,
             "#ed7953"
            ],
            [
             0.7777777777777778,
             "#fb9f3a"
            ],
            [
             0.8888888888888888,
             "#fdca26"
            ],
            [
             1,
             "#f0f921"
            ]
           ]
          },
          "colorway": [
           "#636efa",
           "#EF553B",
           "#00cc96",
           "#ab63fa",
           "#FFA15A",
           "#19d3f3",
           "#FF6692",
           "#B6E880",
           "#FF97FF",
           "#FECB52"
          ],
          "font": {
           "color": "#2a3f5f"
          },
          "geo": {
           "bgcolor": "white",
           "lakecolor": "white",
           "landcolor": "#E5ECF6",
           "showlakes": true,
           "showland": true,
           "subunitcolor": "white"
          },
          "hoverlabel": {
           "align": "left"
          },
          "hovermode": "closest",
          "mapbox": {
           "style": "light"
          },
          "paper_bgcolor": "white",
          "plot_bgcolor": "#E5ECF6",
          "polar": {
           "angularaxis": {
            "gridcolor": "white",
            "linecolor": "white",
            "ticks": ""
           },
           "bgcolor": "#E5ECF6",
           "radialaxis": {
            "gridcolor": "white",
            "linecolor": "white",
            "ticks": ""
           }
          },
          "scene": {
           "xaxis": {
            "backgroundcolor": "#E5ECF6",
            "gridcolor": "white",
            "gridwidth": 2,
            "linecolor": "white",
            "showbackground": true,
            "ticks": "",
            "zerolinecolor": "white"
           },
           "yaxis": {
            "backgroundcolor": "#E5ECF6",
            "gridcolor": "white",
            "gridwidth": 2,
            "linecolor": "white",
            "showbackground": true,
            "ticks": "",
            "zerolinecolor": "white"
           },
           "zaxis": {
            "backgroundcolor": "#E5ECF6",
            "gridcolor": "white",
            "gridwidth": 2,
            "linecolor": "white",
            "showbackground": true,
            "ticks": "",
            "zerolinecolor": "white"
           }
          },
          "shapedefaults": {
           "line": {
            "color": "#2a3f5f"
           }
          },
          "ternary": {
           "aaxis": {
            "gridcolor": "white",
            "linecolor": "white",
            "ticks": ""
           },
           "baxis": {
            "gridcolor": "white",
            "linecolor": "white",
            "ticks": ""
           },
           "bgcolor": "#E5ECF6",
           "caxis": {
            "gridcolor": "white",
            "linecolor": "white",
            "ticks": ""
           }
          },
          "title": {
           "x": 0.05
          },
          "xaxis": {
           "automargin": true,
           "gridcolor": "white",
           "linecolor": "white",
           "ticks": "",
           "title": {
            "standoff": 15
           },
           "zerolinecolor": "white",
           "zerolinewidth": 2
          },
          "yaxis": {
           "automargin": true,
           "gridcolor": "white",
           "linecolor": "white",
           "ticks": "",
           "title": {
            "standoff": 15
           },
           "zerolinecolor": "white",
           "zerolinewidth": 2
          }
         }
        },
        "xaxis": {
         "title": {
          "text": "Ragas Metric"
         }
        },
        "yaxis": {
         "title": {
          "text": "Mean Score"
         }
        }
       }
      }
     },
     "metadata": {},
     "output_type": "display_data"
    },
    {
     "data": {
      "application/vnd.plotly.v1+json": {
       "config": {
        "plotlyServerURL": "https://plot.ly"
       },
       "data": [
        {
         "error_y": {
          "array": [
           0.08685538961520674
          ],
          "type": "data",
          "visible": true
         },
         "name": "gpt-3.5-turbo-16k-0613",
         "type": "bar",
         "x": [
          "Answer Relevancy Score"
         ],
         "y": [
          0.867806150599886
         ]
        },
        {
         "error_y": {
          "array": [
           0.1857320779115759
          ],
          "type": "data",
          "visible": true
         },
         "name": "gpt-4-0613",
         "type": "bar",
         "x": [
          "Answer Relevancy Score"
         ],
         "y": [
          0.8089953486519227
         ]
        },
        {
         "error_y": {
          "array": [
           0.16514588432407626
          ],
          "type": "data",
          "visible": true
         },
         "name": "gpt-4-1106-preview",
         "type": "bar",
         "x": [
          "Answer Relevancy Score"
         ],
         "y": [
          0.814936097536511
         ]
        },
        {
         "error_y": {
          "array": [
           0.07460424634528742
          ],
          "type": "data",
          "visible": true
         },
         "name": "gpt-4-1106-preview-v1.1",
         "type": "bar",
         "x": [
          "Answer Relevancy Score"
         ],
         "y": [
          0.8185427478757955
         ]
        }
       ],
       "layout": {
        "barmode": "group",
        "legend": {
         "title": {
          "text": "Model"
         }
        },
        "template": {
         "data": {
          "bar": [
           {
            "error_x": {
             "color": "#2a3f5f"
            },
            "error_y": {
             "color": "#2a3f5f"
            },
            "marker": {
             "line": {
              "color": "#E5ECF6",
              "width": 0.5
             },
             "pattern": {
              "fillmode": "overlay",
              "size": 10,
              "solidity": 0.2
             }
            },
            "type": "bar"
           }
          ],
          "barpolar": [
           {
            "marker": {
             "line": {
              "color": "#E5ECF6",
              "width": 0.5
             },
             "pattern": {
              "fillmode": "overlay",
              "size": 10,
              "solidity": 0.2
             }
            },
            "type": "barpolar"
           }
          ],
          "carpet": [
           {
            "aaxis": {
             "endlinecolor": "#2a3f5f",
             "gridcolor": "white",
             "linecolor": "white",
             "minorgridcolor": "white",
             "startlinecolor": "#2a3f5f"
            },
            "baxis": {
             "endlinecolor": "#2a3f5f",
             "gridcolor": "white",
             "linecolor": "white",
             "minorgridcolor": "white",
             "startlinecolor": "#2a3f5f"
            },
            "type": "carpet"
           }
          ],
          "choropleth": [
           {
            "colorbar": {
             "outlinewidth": 0,
             "ticks": ""
            },
            "type": "choropleth"
           }
          ],
          "contour": [
           {
            "colorbar": {
             "outlinewidth": 0,
             "ticks": ""
            },
            "colorscale": [
             [
              0,
              "#0d0887"
             ],
             [
              0.1111111111111111,
              "#46039f"
             ],
             [
              0.2222222222222222,
              "#7201a8"
             ],
             [
              0.3333333333333333,
              "#9c179e"
             ],
             [
              0.4444444444444444,
              "#bd3786"
             ],
             [
              0.5555555555555556,
              "#d8576b"
             ],
             [
              0.6666666666666666,
              "#ed7953"
             ],
             [
              0.7777777777777778,
              "#fb9f3a"
             ],
             [
              0.8888888888888888,
              "#fdca26"
             ],
             [
              1,
              "#f0f921"
             ]
            ],
            "type": "contour"
           }
          ],
          "contourcarpet": [
           {
            "colorbar": {
             "outlinewidth": 0,
             "ticks": ""
            },
            "type": "contourcarpet"
           }
          ],
          "heatmap": [
           {
            "colorbar": {
             "outlinewidth": 0,
             "ticks": ""
            },
            "colorscale": [
             [
              0,
              "#0d0887"
             ],
             [
              0.1111111111111111,
              "#46039f"
             ],
             [
              0.2222222222222222,
              "#7201a8"
             ],
             [
              0.3333333333333333,
              "#9c179e"
             ],
             [
              0.4444444444444444,
              "#bd3786"
             ],
             [
              0.5555555555555556,
              "#d8576b"
             ],
             [
              0.6666666666666666,
              "#ed7953"
             ],
             [
              0.7777777777777778,
              "#fb9f3a"
             ],
             [
              0.8888888888888888,
              "#fdca26"
             ],
             [
              1,
              "#f0f921"
             ]
            ],
            "type": "heatmap"
           }
          ],
          "heatmapgl": [
           {
            "colorbar": {
             "outlinewidth": 0,
             "ticks": ""
            },
            "colorscale": [
             [
              0,
              "#0d0887"
             ],
             [
              0.1111111111111111,
              "#46039f"
             ],
             [
              0.2222222222222222,
              "#7201a8"
             ],
             [
              0.3333333333333333,
              "#9c179e"
             ],
             [
              0.4444444444444444,
              "#bd3786"
             ],
             [
              0.5555555555555556,
              "#d8576b"
             ],
             [
              0.6666666666666666,
              "#ed7953"
             ],
             [
              0.7777777777777778,
              "#fb9f3a"
             ],
             [
              0.8888888888888888,
              "#fdca26"
             ],
             [
              1,
              "#f0f921"
             ]
            ],
            "type": "heatmapgl"
           }
          ],
          "histogram": [
           {
            "marker": {
             "pattern": {
              "fillmode": "overlay",
              "size": 10,
              "solidity": 0.2
             }
            },
            "type": "histogram"
           }
          ],
          "histogram2d": [
           {
            "colorbar": {
             "outlinewidth": 0,
             "ticks": ""
            },
            "colorscale": [
             [
              0,
              "#0d0887"
             ],
             [
              0.1111111111111111,
              "#46039f"
             ],
             [
              0.2222222222222222,
              "#7201a8"
             ],
             [
              0.3333333333333333,
              "#9c179e"
             ],
             [
              0.4444444444444444,
              "#bd3786"
             ],
             [
              0.5555555555555556,
              "#d8576b"
             ],
             [
              0.6666666666666666,
              "#ed7953"
             ],
             [
              0.7777777777777778,
              "#fb9f3a"
             ],
             [
              0.8888888888888888,
              "#fdca26"
             ],
             [
              1,
              "#f0f921"
             ]
            ],
            "type": "histogram2d"
           }
          ],
          "histogram2dcontour": [
           {
            "colorbar": {
             "outlinewidth": 0,
             "ticks": ""
            },
            "colorscale": [
             [
              0,
              "#0d0887"
             ],
             [
              0.1111111111111111,
              "#46039f"
             ],
             [
              0.2222222222222222,
              "#7201a8"
             ],
             [
              0.3333333333333333,
              "#9c179e"
             ],
             [
              0.4444444444444444,
              "#bd3786"
             ],
             [
              0.5555555555555556,
              "#d8576b"
             ],
             [
              0.6666666666666666,
              "#ed7953"
             ],
             [
              0.7777777777777778,
              "#fb9f3a"
             ],
             [
              0.8888888888888888,
              "#fdca26"
             ],
             [
              1,
              "#f0f921"
             ]
            ],
            "type": "histogram2dcontour"
           }
          ],
          "mesh3d": [
           {
            "colorbar": {
             "outlinewidth": 0,
             "ticks": ""
            },
            "type": "mesh3d"
           }
          ],
          "parcoords": [
           {
            "line": {
             "colorbar": {
              "outlinewidth": 0,
              "ticks": ""
             }
            },
            "type": "parcoords"
           }
          ],
          "pie": [
           {
            "automargin": true,
            "type": "pie"
           }
          ],
          "scatter": [
           {
            "fillpattern": {
             "fillmode": "overlay",
             "size": 10,
             "solidity": 0.2
            },
            "type": "scatter"
           }
          ],
          "scatter3d": [
           {
            "line": {
             "colorbar": {
              "outlinewidth": 0,
              "ticks": ""
             }
            },
            "marker": {
             "colorbar": {
              "outlinewidth": 0,
              "ticks": ""
             }
            },
            "type": "scatter3d"
           }
          ],
          "scattercarpet": [
           {
            "marker": {
             "colorbar": {
              "outlinewidth": 0,
              "ticks": ""
             }
            },
            "type": "scattercarpet"
           }
          ],
          "scattergeo": [
           {
            "marker": {
             "colorbar": {
              "outlinewidth": 0,
              "ticks": ""
             }
            },
            "type": "scattergeo"
           }
          ],
          "scattergl": [
           {
            "marker": {
             "colorbar": {
              "outlinewidth": 0,
              "ticks": ""
             }
            },
            "type": "scattergl"
           }
          ],
          "scattermapbox": [
           {
            "marker": {
             "colorbar": {
              "outlinewidth": 0,
              "ticks": ""
             }
            },
            "type": "scattermapbox"
           }
          ],
          "scatterpolar": [
           {
            "marker": {
             "colorbar": {
              "outlinewidth": 0,
              "ticks": ""
             }
            },
            "type": "scatterpolar"
           }
          ],
          "scatterpolargl": [
           {
            "marker": {
             "colorbar": {
              "outlinewidth": 0,
              "ticks": ""
             }
            },
            "type": "scatterpolargl"
           }
          ],
          "scatterternary": [
           {
            "marker": {
             "colorbar": {
              "outlinewidth": 0,
              "ticks": ""
             }
            },
            "type": "scatterternary"
           }
          ],
          "surface": [
           {
            "colorbar": {
             "outlinewidth": 0,
             "ticks": ""
            },
            "colorscale": [
             [
              0,
              "#0d0887"
             ],
             [
              0.1111111111111111,
              "#46039f"
             ],
             [
              0.2222222222222222,
              "#7201a8"
             ],
             [
              0.3333333333333333,
              "#9c179e"
             ],
             [
              0.4444444444444444,
              "#bd3786"
             ],
             [
              0.5555555555555556,
              "#d8576b"
             ],
             [
              0.6666666666666666,
              "#ed7953"
             ],
             [
              0.7777777777777778,
              "#fb9f3a"
             ],
             [
              0.8888888888888888,
              "#fdca26"
             ],
             [
              1,
              "#f0f921"
             ]
            ],
            "type": "surface"
           }
          ],
          "table": [
           {
            "cells": {
             "fill": {
              "color": "#EBF0F8"
             },
             "line": {
              "color": "white"
             }
            },
            "header": {
             "fill": {
              "color": "#C8D4E3"
             },
             "line": {
              "color": "white"
             }
            },
            "type": "table"
           }
          ]
         },
         "layout": {
          "annotationdefaults": {
           "arrowcolor": "#2a3f5f",
           "arrowhead": 0,
           "arrowwidth": 1
          },
          "autotypenumbers": "strict",
          "coloraxis": {
           "colorbar": {
            "outlinewidth": 0,
            "ticks": ""
           }
          },
          "colorscale": {
           "diverging": [
            [
             0,
             "#8e0152"
            ],
            [
             0.1,
             "#c51b7d"
            ],
            [
             0.2,
             "#de77ae"
            ],
            [
             0.3,
             "#f1b6da"
            ],
            [
             0.4,
             "#fde0ef"
            ],
            [
             0.5,
             "#f7f7f7"
            ],
            [
             0.6,
             "#e6f5d0"
            ],
            [
             0.7,
             "#b8e186"
            ],
            [
             0.8,
             "#7fbc41"
            ],
            [
             0.9,
             "#4d9221"
            ],
            [
             1,
             "#276419"
            ]
           ],
           "sequential": [
            [
             0,
             "#0d0887"
            ],
            [
             0.1111111111111111,
             "#46039f"
            ],
            [
             0.2222222222222222,
             "#7201a8"
            ],
            [
             0.3333333333333333,
             "#9c179e"
            ],
            [
             0.4444444444444444,
             "#bd3786"
            ],
            [
             0.5555555555555556,
             "#d8576b"
            ],
            [
             0.6666666666666666,
             "#ed7953"
            ],
            [
             0.7777777777777778,
             "#fb9f3a"
            ],
            [
             0.8888888888888888,
             "#fdca26"
            ],
            [
             1,
             "#f0f921"
            ]
           ],
           "sequentialminus": [
            [
             0,
             "#0d0887"
            ],
            [
             0.1111111111111111,
             "#46039f"
            ],
            [
             0.2222222222222222,
             "#7201a8"
            ],
            [
             0.3333333333333333,
             "#9c179e"
            ],
            [
             0.4444444444444444,
             "#bd3786"
            ],
            [
             0.5555555555555556,
             "#d8576b"
            ],
            [
             0.6666666666666666,
             "#ed7953"
            ],
            [
             0.7777777777777778,
             "#fb9f3a"
            ],
            [
             0.8888888888888888,
             "#fdca26"
            ],
            [
             1,
             "#f0f921"
            ]
           ]
          },
          "colorway": [
           "#636efa",
           "#EF553B",
           "#00cc96",
           "#ab63fa",
           "#FFA15A",
           "#19d3f3",
           "#FF6692",
           "#B6E880",
           "#FF97FF",
           "#FECB52"
          ],
          "font": {
           "color": "#2a3f5f"
          },
          "geo": {
           "bgcolor": "white",
           "lakecolor": "white",
           "landcolor": "#E5ECF6",
           "showlakes": true,
           "showland": true,
           "subunitcolor": "white"
          },
          "hoverlabel": {
           "align": "left"
          },
          "hovermode": "closest",
          "mapbox": {
           "style": "light"
          },
          "paper_bgcolor": "white",
          "plot_bgcolor": "#E5ECF6",
          "polar": {
           "angularaxis": {
            "gridcolor": "white",
            "linecolor": "white",
            "ticks": ""
           },
           "bgcolor": "#E5ECF6",
           "radialaxis": {
            "gridcolor": "white",
            "linecolor": "white",
            "ticks": ""
           }
          },
          "scene": {
           "xaxis": {
            "backgroundcolor": "#E5ECF6",
            "gridcolor": "white",
            "gridwidth": 2,
            "linecolor": "white",
            "showbackground": true,
            "ticks": "",
            "zerolinecolor": "white"
           },
           "yaxis": {
            "backgroundcolor": "#E5ECF6",
            "gridcolor": "white",
            "gridwidth": 2,
            "linecolor": "white",
            "showbackground": true,
            "ticks": "",
            "zerolinecolor": "white"
           },
           "zaxis": {
            "backgroundcolor": "#E5ECF6",
            "gridcolor": "white",
            "gridwidth": 2,
            "linecolor": "white",
            "showbackground": true,
            "ticks": "",
            "zerolinecolor": "white"
           }
          },
          "shapedefaults": {
           "line": {
            "color": "#2a3f5f"
           }
          },
          "ternary": {
           "aaxis": {
            "gridcolor": "white",
            "linecolor": "white",
            "ticks": ""
           },
           "baxis": {
            "gridcolor": "white",
            "linecolor": "white",
            "ticks": ""
           },
           "bgcolor": "#E5ECF6",
           "caxis": {
            "gridcolor": "white",
            "linecolor": "white",
            "ticks": ""
           }
          },
          "title": {
           "x": 0.05
          },
          "xaxis": {
           "automargin": true,
           "gridcolor": "white",
           "linecolor": "white",
           "ticks": "",
           "title": {
            "standoff": 15
           },
           "zerolinecolor": "white",
           "zerolinewidth": 2
          },
          "yaxis": {
           "automargin": true,
           "gridcolor": "white",
           "linecolor": "white",
           "ticks": "",
           "title": {
            "standoff": 15
           },
           "zerolinecolor": "white",
           "zerolinewidth": 2
          }
         }
        },
        "xaxis": {
         "title": {
          "text": "Ragas Metric"
         }
        },
        "yaxis": {
         "title": {
          "text": "Mean Score"
         }
        }
       }
      }
     },
     "metadata": {},
     "output_type": "display_data"
    },
    {
     "data": {
      "application/vnd.plotly.v1+json": {
       "config": {
        "plotlyServerURL": "https://plot.ly"
       },
       "data": [
        {
         "error_y": {
          "array": [
           0.029026123098401205
          ],
          "type": "data",
          "visible": true
         },
         "name": "gpt-3.5-turbo-16k-0613",
         "type": "bar",
         "x": [
          "Answer Similarity Score"
         ],
         "y": [
          0.6894022626065336
         ]
        },
        {
         "error_y": {
          "array": [
           0.029007606470340876
          ],
          "type": "data",
          "visible": true
         },
         "name": "gpt-4-0613",
         "type": "bar",
         "x": [
          "Answer Similarity Score"
         ],
         "y": [
          0.6906396450576788
         ]
        },
        {
         "error_y": {
          "array": [
           0.02956664522757561
          ],
          "type": "data",
          "visible": true
         },
         "name": "gpt-4-1106-preview",
         "type": "bar",
         "x": [
          "Answer Similarity Score"
         ],
         "y": [
          0.6877096295850705
         ]
        },
        {
         "error_y": {
          "array": [
           0.02770873351655538
          ],
          "type": "data",
          "visible": true
         },
         "name": "gpt-4-1106-preview-v1.1",
         "type": "bar",
         "x": [
          "Answer Similarity Score"
         ],
         "y": [
          0.6746812298018944
         ]
        }
       ],
       "layout": {
        "barmode": "group",
        "legend": {
         "title": {
          "text": "Model"
         }
        },
        "template": {
         "data": {
          "bar": [
           {
            "error_x": {
             "color": "#2a3f5f"
            },
            "error_y": {
             "color": "#2a3f5f"
            },
            "marker": {
             "line": {
              "color": "#E5ECF6",
              "width": 0.5
             },
             "pattern": {
              "fillmode": "overlay",
              "size": 10,
              "solidity": 0.2
             }
            },
            "type": "bar"
           }
          ],
          "barpolar": [
           {
            "marker": {
             "line": {
              "color": "#E5ECF6",
              "width": 0.5
             },
             "pattern": {
              "fillmode": "overlay",
              "size": 10,
              "solidity": 0.2
             }
            },
            "type": "barpolar"
           }
          ],
          "carpet": [
           {
            "aaxis": {
             "endlinecolor": "#2a3f5f",
             "gridcolor": "white",
             "linecolor": "white",
             "minorgridcolor": "white",
             "startlinecolor": "#2a3f5f"
            },
            "baxis": {
             "endlinecolor": "#2a3f5f",
             "gridcolor": "white",
             "linecolor": "white",
             "minorgridcolor": "white",
             "startlinecolor": "#2a3f5f"
            },
            "type": "carpet"
           }
          ],
          "choropleth": [
           {
            "colorbar": {
             "outlinewidth": 0,
             "ticks": ""
            },
            "type": "choropleth"
           }
          ],
          "contour": [
           {
            "colorbar": {
             "outlinewidth": 0,
             "ticks": ""
            },
            "colorscale": [
             [
              0,
              "#0d0887"
             ],
             [
              0.1111111111111111,
              "#46039f"
             ],
             [
              0.2222222222222222,
              "#7201a8"
             ],
             [
              0.3333333333333333,
              "#9c179e"
             ],
             [
              0.4444444444444444,
              "#bd3786"
             ],
             [
              0.5555555555555556,
              "#d8576b"
             ],
             [
              0.6666666666666666,
              "#ed7953"
             ],
             [
              0.7777777777777778,
              "#fb9f3a"
             ],
             [
              0.8888888888888888,
              "#fdca26"
             ],
             [
              1,
              "#f0f921"
             ]
            ],
            "type": "contour"
           }
          ],
          "contourcarpet": [
           {
            "colorbar": {
             "outlinewidth": 0,
             "ticks": ""
            },
            "type": "contourcarpet"
           }
          ],
          "heatmap": [
           {
            "colorbar": {
             "outlinewidth": 0,
             "ticks": ""
            },
            "colorscale": [
             [
              0,
              "#0d0887"
             ],
             [
              0.1111111111111111,
              "#46039f"
             ],
             [
              0.2222222222222222,
              "#7201a8"
             ],
             [
              0.3333333333333333,
              "#9c179e"
             ],
             [
              0.4444444444444444,
              "#bd3786"
             ],
             [
              0.5555555555555556,
              "#d8576b"
             ],
             [
              0.6666666666666666,
              "#ed7953"
             ],
             [
              0.7777777777777778,
              "#fb9f3a"
             ],
             [
              0.8888888888888888,
              "#fdca26"
             ],
             [
              1,
              "#f0f921"
             ]
            ],
            "type": "heatmap"
           }
          ],
          "heatmapgl": [
           {
            "colorbar": {
             "outlinewidth": 0,
             "ticks": ""
            },
            "colorscale": [
             [
              0,
              "#0d0887"
             ],
             [
              0.1111111111111111,
              "#46039f"
             ],
             [
              0.2222222222222222,
              "#7201a8"
             ],
             [
              0.3333333333333333,
              "#9c179e"
             ],
             [
              0.4444444444444444,
              "#bd3786"
             ],
             [
              0.5555555555555556,
              "#d8576b"
             ],
             [
              0.6666666666666666,
              "#ed7953"
             ],
             [
              0.7777777777777778,
              "#fb9f3a"
             ],
             [
              0.8888888888888888,
              "#fdca26"
             ],
             [
              1,
              "#f0f921"
             ]
            ],
            "type": "heatmapgl"
           }
          ],
          "histogram": [
           {
            "marker": {
             "pattern": {
              "fillmode": "overlay",
              "size": 10,
              "solidity": 0.2
             }
            },
            "type": "histogram"
           }
          ],
          "histogram2d": [
           {
            "colorbar": {
             "outlinewidth": 0,
             "ticks": ""
            },
            "colorscale": [
             [
              0,
              "#0d0887"
             ],
             [
              0.1111111111111111,
              "#46039f"
             ],
             [
              0.2222222222222222,
              "#7201a8"
             ],
             [
              0.3333333333333333,
              "#9c179e"
             ],
             [
              0.4444444444444444,
              "#bd3786"
             ],
             [
              0.5555555555555556,
              "#d8576b"
             ],
             [
              0.6666666666666666,
              "#ed7953"
             ],
             [
              0.7777777777777778,
              "#fb9f3a"
             ],
             [
              0.8888888888888888,
              "#fdca26"
             ],
             [
              1,
              "#f0f921"
             ]
            ],
            "type": "histogram2d"
           }
          ],
          "histogram2dcontour": [
           {
            "colorbar": {
             "outlinewidth": 0,
             "ticks": ""
            },
            "colorscale": [
             [
              0,
              "#0d0887"
             ],
             [
              0.1111111111111111,
              "#46039f"
             ],
             [
              0.2222222222222222,
              "#7201a8"
             ],
             [
              0.3333333333333333,
              "#9c179e"
             ],
             [
              0.4444444444444444,
              "#bd3786"
             ],
             [
              0.5555555555555556,
              "#d8576b"
             ],
             [
              0.6666666666666666,
              "#ed7953"
             ],
             [
              0.7777777777777778,
              "#fb9f3a"
             ],
             [
              0.8888888888888888,
              "#fdca26"
             ],
             [
              1,
              "#f0f921"
             ]
            ],
            "type": "histogram2dcontour"
           }
          ],
          "mesh3d": [
           {
            "colorbar": {
             "outlinewidth": 0,
             "ticks": ""
            },
            "type": "mesh3d"
           }
          ],
          "parcoords": [
           {
            "line": {
             "colorbar": {
              "outlinewidth": 0,
              "ticks": ""
             }
            },
            "type": "parcoords"
           }
          ],
          "pie": [
           {
            "automargin": true,
            "type": "pie"
           }
          ],
          "scatter": [
           {
            "fillpattern": {
             "fillmode": "overlay",
             "size": 10,
             "solidity": 0.2
            },
            "type": "scatter"
           }
          ],
          "scatter3d": [
           {
            "line": {
             "colorbar": {
              "outlinewidth": 0,
              "ticks": ""
             }
            },
            "marker": {
             "colorbar": {
              "outlinewidth": 0,
              "ticks": ""
             }
            },
            "type": "scatter3d"
           }
          ],
          "scattercarpet": [
           {
            "marker": {
             "colorbar": {
              "outlinewidth": 0,
              "ticks": ""
             }
            },
            "type": "scattercarpet"
           }
          ],
          "scattergeo": [
           {
            "marker": {
             "colorbar": {
              "outlinewidth": 0,
              "ticks": ""
             }
            },
            "type": "scattergeo"
           }
          ],
          "scattergl": [
           {
            "marker": {
             "colorbar": {
              "outlinewidth": 0,
              "ticks": ""
             }
            },
            "type": "scattergl"
           }
          ],
          "scattermapbox": [
           {
            "marker": {
             "colorbar": {
              "outlinewidth": 0,
              "ticks": ""
             }
            },
            "type": "scattermapbox"
           }
          ],
          "scatterpolar": [
           {
            "marker": {
             "colorbar": {
              "outlinewidth": 0,
              "ticks": ""
             }
            },
            "type": "scatterpolar"
           }
          ],
          "scatterpolargl": [
           {
            "marker": {
             "colorbar": {
              "outlinewidth": 0,
              "ticks": ""
             }
            },
            "type": "scatterpolargl"
           }
          ],
          "scatterternary": [
           {
            "marker": {
             "colorbar": {
              "outlinewidth": 0,
              "ticks": ""
             }
            },
            "type": "scatterternary"
           }
          ],
          "surface": [
           {
            "colorbar": {
             "outlinewidth": 0,
             "ticks": ""
            },
            "colorscale": [
             [
              0,
              "#0d0887"
             ],
             [
              0.1111111111111111,
              "#46039f"
             ],
             [
              0.2222222222222222,
              "#7201a8"
             ],
             [
              0.3333333333333333,
              "#9c179e"
             ],
             [
              0.4444444444444444,
              "#bd3786"
             ],
             [
              0.5555555555555556,
              "#d8576b"
             ],
             [
              0.6666666666666666,
              "#ed7953"
             ],
             [
              0.7777777777777778,
              "#fb9f3a"
             ],
             [
              0.8888888888888888,
              "#fdca26"
             ],
             [
              1,
              "#f0f921"
             ]
            ],
            "type": "surface"
           }
          ],
          "table": [
           {
            "cells": {
             "fill": {
              "color": "#EBF0F8"
             },
             "line": {
              "color": "white"
             }
            },
            "header": {
             "fill": {
              "color": "#C8D4E3"
             },
             "line": {
              "color": "white"
             }
            },
            "type": "table"
           }
          ]
         },
         "layout": {
          "annotationdefaults": {
           "arrowcolor": "#2a3f5f",
           "arrowhead": 0,
           "arrowwidth": 1
          },
          "autotypenumbers": "strict",
          "coloraxis": {
           "colorbar": {
            "outlinewidth": 0,
            "ticks": ""
           }
          },
          "colorscale": {
           "diverging": [
            [
             0,
             "#8e0152"
            ],
            [
             0.1,
             "#c51b7d"
            ],
            [
             0.2,
             "#de77ae"
            ],
            [
             0.3,
             "#f1b6da"
            ],
            [
             0.4,
             "#fde0ef"
            ],
            [
             0.5,
             "#f7f7f7"
            ],
            [
             0.6,
             "#e6f5d0"
            ],
            [
             0.7,
             "#b8e186"
            ],
            [
             0.8,
             "#7fbc41"
            ],
            [
             0.9,
             "#4d9221"
            ],
            [
             1,
             "#276419"
            ]
           ],
           "sequential": [
            [
             0,
             "#0d0887"
            ],
            [
             0.1111111111111111,
             "#46039f"
            ],
            [
             0.2222222222222222,
             "#7201a8"
            ],
            [
             0.3333333333333333,
             "#9c179e"
            ],
            [
             0.4444444444444444,
             "#bd3786"
            ],
            [
             0.5555555555555556,
             "#d8576b"
            ],
            [
             0.6666666666666666,
             "#ed7953"
            ],
            [
             0.7777777777777778,
             "#fb9f3a"
            ],
            [
             0.8888888888888888,
             "#fdca26"
            ],
            [
             1,
             "#f0f921"
            ]
           ],
           "sequentialminus": [
            [
             0,
             "#0d0887"
            ],
            [
             0.1111111111111111,
             "#46039f"
            ],
            [
             0.2222222222222222,
             "#7201a8"
            ],
            [
             0.3333333333333333,
             "#9c179e"
            ],
            [
             0.4444444444444444,
             "#bd3786"
            ],
            [
             0.5555555555555556,
             "#d8576b"
            ],
            [
             0.6666666666666666,
             "#ed7953"
            ],
            [
             0.7777777777777778,
             "#fb9f3a"
            ],
            [
             0.8888888888888888,
             "#fdca26"
            ],
            [
             1,
             "#f0f921"
            ]
           ]
          },
          "colorway": [
           "#636efa",
           "#EF553B",
           "#00cc96",
           "#ab63fa",
           "#FFA15A",
           "#19d3f3",
           "#FF6692",
           "#B6E880",
           "#FF97FF",
           "#FECB52"
          ],
          "font": {
           "color": "#2a3f5f"
          },
          "geo": {
           "bgcolor": "white",
           "lakecolor": "white",
           "landcolor": "#E5ECF6",
           "showlakes": true,
           "showland": true,
           "subunitcolor": "white"
          },
          "hoverlabel": {
           "align": "left"
          },
          "hovermode": "closest",
          "mapbox": {
           "style": "light"
          },
          "paper_bgcolor": "white",
          "plot_bgcolor": "#E5ECF6",
          "polar": {
           "angularaxis": {
            "gridcolor": "white",
            "linecolor": "white",
            "ticks": ""
           },
           "bgcolor": "#E5ECF6",
           "radialaxis": {
            "gridcolor": "white",
            "linecolor": "white",
            "ticks": ""
           }
          },
          "scene": {
           "xaxis": {
            "backgroundcolor": "#E5ECF6",
            "gridcolor": "white",
            "gridwidth": 2,
            "linecolor": "white",
            "showbackground": true,
            "ticks": "",
            "zerolinecolor": "white"
           },
           "yaxis": {
            "backgroundcolor": "#E5ECF6",
            "gridcolor": "white",
            "gridwidth": 2,
            "linecolor": "white",
            "showbackground": true,
            "ticks": "",
            "zerolinecolor": "white"
           },
           "zaxis": {
            "backgroundcolor": "#E5ECF6",
            "gridcolor": "white",
            "gridwidth": 2,
            "linecolor": "white",
            "showbackground": true,
            "ticks": "",
            "zerolinecolor": "white"
           }
          },
          "shapedefaults": {
           "line": {
            "color": "#2a3f5f"
           }
          },
          "ternary": {
           "aaxis": {
            "gridcolor": "white",
            "linecolor": "white",
            "ticks": ""
           },
           "baxis": {
            "gridcolor": "white",
            "linecolor": "white",
            "ticks": ""
           },
           "bgcolor": "#E5ECF6",
           "caxis": {
            "gridcolor": "white",
            "linecolor": "white",
            "ticks": ""
           }
          },
          "title": {
           "x": 0.05
          },
          "xaxis": {
           "automargin": true,
           "gridcolor": "white",
           "linecolor": "white",
           "ticks": "",
           "title": {
            "standoff": 15
           },
           "zerolinecolor": "white",
           "zerolinewidth": 2
          },
          "yaxis": {
           "automargin": true,
           "gridcolor": "white",
           "linecolor": "white",
           "ticks": "",
           "title": {
            "standoff": 15
           },
           "zerolinecolor": "white",
           "zerolinewidth": 2
          }
         }
        },
        "xaxis": {
         "title": {
          "text": "Ragas Metric"
         }
        },
        "yaxis": {
         "title": {
          "text": "Mean Score"
         }
        }
       }
      }
     },
     "metadata": {},
     "output_type": "display_data"
    },
    {
     "data": {
      "application/vnd.plotly.v1+json": {
       "config": {
        "plotlyServerURL": "https://plot.ly"
       },
       "data": [
        {
         "error_y": {
          "array": [
           0.42456799281803564
          ],
          "type": "data",
          "visible": true
         },
         "name": "gpt-3.5-turbo-16k-0613",
         "type": "bar",
         "x": [
          "Context Precision"
         ],
         "y": [
          0.5235119047353829
         ]
        },
        {
         "error_y": {
          "array": [
           0.42919377588551283
          ],
          "type": "data",
          "visible": true
         },
         "name": "gpt-4-0613",
         "type": "bar",
         "x": [
          "Context Precision"
         ],
         "y": [
          0.5051870748054144
         ]
        },
        {
         "error_y": {
          "array": [
           0.42662215722549646
          ],
          "type": "data",
          "visible": true
         },
         "name": "gpt-4-1106-preview",
         "type": "bar",
         "x": [
          "Context Precision"
         ],
         "y": [
          0.516921768681877
         ]
        },
        {
         "error_y": {
          "array": [
           0.4092132646031002
          ],
          "type": "data",
          "visible": true
         },
         "name": "gpt-4-1106-preview-v1.1",
         "type": "bar",
         "x": [
          "Context Precision"
         ],
         "y": [
          0.426048752810276
         ]
        }
       ],
       "layout": {
        "barmode": "group",
        "legend": {
         "title": {
          "text": "Model"
         }
        },
        "template": {
         "data": {
          "bar": [
           {
            "error_x": {
             "color": "#2a3f5f"
            },
            "error_y": {
             "color": "#2a3f5f"
            },
            "marker": {
             "line": {
              "color": "#E5ECF6",
              "width": 0.5
             },
             "pattern": {
              "fillmode": "overlay",
              "size": 10,
              "solidity": 0.2
             }
            },
            "type": "bar"
           }
          ],
          "barpolar": [
           {
            "marker": {
             "line": {
              "color": "#E5ECF6",
              "width": 0.5
             },
             "pattern": {
              "fillmode": "overlay",
              "size": 10,
              "solidity": 0.2
             }
            },
            "type": "barpolar"
           }
          ],
          "carpet": [
           {
            "aaxis": {
             "endlinecolor": "#2a3f5f",
             "gridcolor": "white",
             "linecolor": "white",
             "minorgridcolor": "white",
             "startlinecolor": "#2a3f5f"
            },
            "baxis": {
             "endlinecolor": "#2a3f5f",
             "gridcolor": "white",
             "linecolor": "white",
             "minorgridcolor": "white",
             "startlinecolor": "#2a3f5f"
            },
            "type": "carpet"
           }
          ],
          "choropleth": [
           {
            "colorbar": {
             "outlinewidth": 0,
             "ticks": ""
            },
            "type": "choropleth"
           }
          ],
          "contour": [
           {
            "colorbar": {
             "outlinewidth": 0,
             "ticks": ""
            },
            "colorscale": [
             [
              0,
              "#0d0887"
             ],
             [
              0.1111111111111111,
              "#46039f"
             ],
             [
              0.2222222222222222,
              "#7201a8"
             ],
             [
              0.3333333333333333,
              "#9c179e"
             ],
             [
              0.4444444444444444,
              "#bd3786"
             ],
             [
              0.5555555555555556,
              "#d8576b"
             ],
             [
              0.6666666666666666,
              "#ed7953"
             ],
             [
              0.7777777777777778,
              "#fb9f3a"
             ],
             [
              0.8888888888888888,
              "#fdca26"
             ],
             [
              1,
              "#f0f921"
             ]
            ],
            "type": "contour"
           }
          ],
          "contourcarpet": [
           {
            "colorbar": {
             "outlinewidth": 0,
             "ticks": ""
            },
            "type": "contourcarpet"
           }
          ],
          "heatmap": [
           {
            "colorbar": {
             "outlinewidth": 0,
             "ticks": ""
            },
            "colorscale": [
             [
              0,
              "#0d0887"
             ],
             [
              0.1111111111111111,
              "#46039f"
             ],
             [
              0.2222222222222222,
              "#7201a8"
             ],
             [
              0.3333333333333333,
              "#9c179e"
             ],
             [
              0.4444444444444444,
              "#bd3786"
             ],
             [
              0.5555555555555556,
              "#d8576b"
             ],
             [
              0.6666666666666666,
              "#ed7953"
             ],
             [
              0.7777777777777778,
              "#fb9f3a"
             ],
             [
              0.8888888888888888,
              "#fdca26"
             ],
             [
              1,
              "#f0f921"
             ]
            ],
            "type": "heatmap"
           }
          ],
          "heatmapgl": [
           {
            "colorbar": {
             "outlinewidth": 0,
             "ticks": ""
            },
            "colorscale": [
             [
              0,
              "#0d0887"
             ],
             [
              0.1111111111111111,
              "#46039f"
             ],
             [
              0.2222222222222222,
              "#7201a8"
             ],
             [
              0.3333333333333333,
              "#9c179e"
             ],
             [
              0.4444444444444444,
              "#bd3786"
             ],
             [
              0.5555555555555556,
              "#d8576b"
             ],
             [
              0.6666666666666666,
              "#ed7953"
             ],
             [
              0.7777777777777778,
              "#fb9f3a"
             ],
             [
              0.8888888888888888,
              "#fdca26"
             ],
             [
              1,
              "#f0f921"
             ]
            ],
            "type": "heatmapgl"
           }
          ],
          "histogram": [
           {
            "marker": {
             "pattern": {
              "fillmode": "overlay",
              "size": 10,
              "solidity": 0.2
             }
            },
            "type": "histogram"
           }
          ],
          "histogram2d": [
           {
            "colorbar": {
             "outlinewidth": 0,
             "ticks": ""
            },
            "colorscale": [
             [
              0,
              "#0d0887"
             ],
             [
              0.1111111111111111,
              "#46039f"
             ],
             [
              0.2222222222222222,
              "#7201a8"
             ],
             [
              0.3333333333333333,
              "#9c179e"
             ],
             [
              0.4444444444444444,
              "#bd3786"
             ],
             [
              0.5555555555555556,
              "#d8576b"
             ],
             [
              0.6666666666666666,
              "#ed7953"
             ],
             [
              0.7777777777777778,
              "#fb9f3a"
             ],
             [
              0.8888888888888888,
              "#fdca26"
             ],
             [
              1,
              "#f0f921"
             ]
            ],
            "type": "histogram2d"
           }
          ],
          "histogram2dcontour": [
           {
            "colorbar": {
             "outlinewidth": 0,
             "ticks": ""
            },
            "colorscale": [
             [
              0,
              "#0d0887"
             ],
             [
              0.1111111111111111,
              "#46039f"
             ],
             [
              0.2222222222222222,
              "#7201a8"
             ],
             [
              0.3333333333333333,
              "#9c179e"
             ],
             [
              0.4444444444444444,
              "#bd3786"
             ],
             [
              0.5555555555555556,
              "#d8576b"
             ],
             [
              0.6666666666666666,
              "#ed7953"
             ],
             [
              0.7777777777777778,
              "#fb9f3a"
             ],
             [
              0.8888888888888888,
              "#fdca26"
             ],
             [
              1,
              "#f0f921"
             ]
            ],
            "type": "histogram2dcontour"
           }
          ],
          "mesh3d": [
           {
            "colorbar": {
             "outlinewidth": 0,
             "ticks": ""
            },
            "type": "mesh3d"
           }
          ],
          "parcoords": [
           {
            "line": {
             "colorbar": {
              "outlinewidth": 0,
              "ticks": ""
             }
            },
            "type": "parcoords"
           }
          ],
          "pie": [
           {
            "automargin": true,
            "type": "pie"
           }
          ],
          "scatter": [
           {
            "fillpattern": {
             "fillmode": "overlay",
             "size": 10,
             "solidity": 0.2
            },
            "type": "scatter"
           }
          ],
          "scatter3d": [
           {
            "line": {
             "colorbar": {
              "outlinewidth": 0,
              "ticks": ""
             }
            },
            "marker": {
             "colorbar": {
              "outlinewidth": 0,
              "ticks": ""
             }
            },
            "type": "scatter3d"
           }
          ],
          "scattercarpet": [
           {
            "marker": {
             "colorbar": {
              "outlinewidth": 0,
              "ticks": ""
             }
            },
            "type": "scattercarpet"
           }
          ],
          "scattergeo": [
           {
            "marker": {
             "colorbar": {
              "outlinewidth": 0,
              "ticks": ""
             }
            },
            "type": "scattergeo"
           }
          ],
          "scattergl": [
           {
            "marker": {
             "colorbar": {
              "outlinewidth": 0,
              "ticks": ""
             }
            },
            "type": "scattergl"
           }
          ],
          "scattermapbox": [
           {
            "marker": {
             "colorbar": {
              "outlinewidth": 0,
              "ticks": ""
             }
            },
            "type": "scattermapbox"
           }
          ],
          "scatterpolar": [
           {
            "marker": {
             "colorbar": {
              "outlinewidth": 0,
              "ticks": ""
             }
            },
            "type": "scatterpolar"
           }
          ],
          "scatterpolargl": [
           {
            "marker": {
             "colorbar": {
              "outlinewidth": 0,
              "ticks": ""
             }
            },
            "type": "scatterpolargl"
           }
          ],
          "scatterternary": [
           {
            "marker": {
             "colorbar": {
              "outlinewidth": 0,
              "ticks": ""
             }
            },
            "type": "scatterternary"
           }
          ],
          "surface": [
           {
            "colorbar": {
             "outlinewidth": 0,
             "ticks": ""
            },
            "colorscale": [
             [
              0,
              "#0d0887"
             ],
             [
              0.1111111111111111,
              "#46039f"
             ],
             [
              0.2222222222222222,
              "#7201a8"
             ],
             [
              0.3333333333333333,
              "#9c179e"
             ],
             [
              0.4444444444444444,
              "#bd3786"
             ],
             [
              0.5555555555555556,
              "#d8576b"
             ],
             [
              0.6666666666666666,
              "#ed7953"
             ],
             [
              0.7777777777777778,
              "#fb9f3a"
             ],
             [
              0.8888888888888888,
              "#fdca26"
             ],
             [
              1,
              "#f0f921"
             ]
            ],
            "type": "surface"
           }
          ],
          "table": [
           {
            "cells": {
             "fill": {
              "color": "#EBF0F8"
             },
             "line": {
              "color": "white"
             }
            },
            "header": {
             "fill": {
              "color": "#C8D4E3"
             },
             "line": {
              "color": "white"
             }
            },
            "type": "table"
           }
          ]
         },
         "layout": {
          "annotationdefaults": {
           "arrowcolor": "#2a3f5f",
           "arrowhead": 0,
           "arrowwidth": 1
          },
          "autotypenumbers": "strict",
          "coloraxis": {
           "colorbar": {
            "outlinewidth": 0,
            "ticks": ""
           }
          },
          "colorscale": {
           "diverging": [
            [
             0,
             "#8e0152"
            ],
            [
             0.1,
             "#c51b7d"
            ],
            [
             0.2,
             "#de77ae"
            ],
            [
             0.3,
             "#f1b6da"
            ],
            [
             0.4,
             "#fde0ef"
            ],
            [
             0.5,
             "#f7f7f7"
            ],
            [
             0.6,
             "#e6f5d0"
            ],
            [
             0.7,
             "#b8e186"
            ],
            [
             0.8,
             "#7fbc41"
            ],
            [
             0.9,
             "#4d9221"
            ],
            [
             1,
             "#276419"
            ]
           ],
           "sequential": [
            [
             0,
             "#0d0887"
            ],
            [
             0.1111111111111111,
             "#46039f"
            ],
            [
             0.2222222222222222,
             "#7201a8"
            ],
            [
             0.3333333333333333,
             "#9c179e"
            ],
            [
             0.4444444444444444,
             "#bd3786"
            ],
            [
             0.5555555555555556,
             "#d8576b"
            ],
            [
             0.6666666666666666,
             "#ed7953"
            ],
            [
             0.7777777777777778,
             "#fb9f3a"
            ],
            [
             0.8888888888888888,
             "#fdca26"
            ],
            [
             1,
             "#f0f921"
            ]
           ],
           "sequentialminus": [
            [
             0,
             "#0d0887"
            ],
            [
             0.1111111111111111,
             "#46039f"
            ],
            [
             0.2222222222222222,
             "#7201a8"
            ],
            [
             0.3333333333333333,
             "#9c179e"
            ],
            [
             0.4444444444444444,
             "#bd3786"
            ],
            [
             0.5555555555555556,
             "#d8576b"
            ],
            [
             0.6666666666666666,
             "#ed7953"
            ],
            [
             0.7777777777777778,
             "#fb9f3a"
            ],
            [
             0.8888888888888888,
             "#fdca26"
            ],
            [
             1,
             "#f0f921"
            ]
           ]
          },
          "colorway": [
           "#636efa",
           "#EF553B",
           "#00cc96",
           "#ab63fa",
           "#FFA15A",
           "#19d3f3",
           "#FF6692",
           "#B6E880",
           "#FF97FF",
           "#FECB52"
          ],
          "font": {
           "color": "#2a3f5f"
          },
          "geo": {
           "bgcolor": "white",
           "lakecolor": "white",
           "landcolor": "#E5ECF6",
           "showlakes": true,
           "showland": true,
           "subunitcolor": "white"
          },
          "hoverlabel": {
           "align": "left"
          },
          "hovermode": "closest",
          "mapbox": {
           "style": "light"
          },
          "paper_bgcolor": "white",
          "plot_bgcolor": "#E5ECF6",
          "polar": {
           "angularaxis": {
            "gridcolor": "white",
            "linecolor": "white",
            "ticks": ""
           },
           "bgcolor": "#E5ECF6",
           "radialaxis": {
            "gridcolor": "white",
            "linecolor": "white",
            "ticks": ""
           }
          },
          "scene": {
           "xaxis": {
            "backgroundcolor": "#E5ECF6",
            "gridcolor": "white",
            "gridwidth": 2,
            "linecolor": "white",
            "showbackground": true,
            "ticks": "",
            "zerolinecolor": "white"
           },
           "yaxis": {
            "backgroundcolor": "#E5ECF6",
            "gridcolor": "white",
            "gridwidth": 2,
            "linecolor": "white",
            "showbackground": true,
            "ticks": "",
            "zerolinecolor": "white"
           },
           "zaxis": {
            "backgroundcolor": "#E5ECF6",
            "gridcolor": "white",
            "gridwidth": 2,
            "linecolor": "white",
            "showbackground": true,
            "ticks": "",
            "zerolinecolor": "white"
           }
          },
          "shapedefaults": {
           "line": {
            "color": "#2a3f5f"
           }
          },
          "ternary": {
           "aaxis": {
            "gridcolor": "white",
            "linecolor": "white",
            "ticks": ""
           },
           "baxis": {
            "gridcolor": "white",
            "linecolor": "white",
            "ticks": ""
           },
           "bgcolor": "#E5ECF6",
           "caxis": {
            "gridcolor": "white",
            "linecolor": "white",
            "ticks": ""
           }
          },
          "title": {
           "x": 0.05
          },
          "xaxis": {
           "automargin": true,
           "gridcolor": "white",
           "linecolor": "white",
           "ticks": "",
           "title": {
            "standoff": 15
           },
           "zerolinecolor": "white",
           "zerolinewidth": 2
          },
          "yaxis": {
           "automargin": true,
           "gridcolor": "white",
           "linecolor": "white",
           "ticks": "",
           "title": {
            "standoff": 15
           },
           "zerolinecolor": "white",
           "zerolinewidth": 2
          }
         }
        },
        "xaxis": {
         "title": {
          "text": "Metric"
         }
        },
        "yaxis": {
         "title": {
          "text": "Mean Score"
         }
        }
       }
      }
     },
     "metadata": {},
     "output_type": "display_data"
    },
    {
     "data": {
      "application/vnd.plotly.v1+json": {
       "config": {
        "plotlyServerURL": "https://plot.ly"
       },
       "data": [
        {
         "error_y": {
          "array": [
           0.3675481573021158
          ],
          "type": "data",
          "visible": true
         },
         "name": "gpt-3.5-turbo-16k-0613",
         "type": "bar",
         "x": [
          "Context Recall"
         ],
         "y": [
          0.7909046877159122
         ]
        },
        {
         "error_y": {
          "array": [
           0.37985771964598747
          ],
          "type": "data",
          "visible": true
         },
         "name": "gpt-4-0613",
         "type": "bar",
         "x": [
          "Context Recall"
         ],
         "y": [
          0.7794650219395117
         ]
        },
        {
         "error_y": {
          "array": [
           0.3646127796326756
          ],
          "type": "data",
          "visible": true
         },
         "name": "gpt-4-1106-preview",
         "type": "bar",
         "x": [
          "Context Recall"
         ],
         "y": [
          0.7896245053132808
         ]
        },
        {
         "error_y": {
          "array": [
           0.30429538194077277
          ],
          "type": "data",
          "visible": true
         },
         "name": "gpt-4-1106-preview-v1.1",
         "type": "bar",
         "x": [
          "Context Recall"
         ],
         "y": [
          0.8676016727037136
         ]
        }
       ],
       "layout": {
        "barmode": "group",
        "legend": {
         "title": {
          "text": "Model"
         }
        },
        "template": {
         "data": {
          "bar": [
           {
            "error_x": {
             "color": "#2a3f5f"
            },
            "error_y": {
             "color": "#2a3f5f"
            },
            "marker": {
             "line": {
              "color": "#E5ECF6",
              "width": 0.5
             },
             "pattern": {
              "fillmode": "overlay",
              "size": 10,
              "solidity": 0.2
             }
            },
            "type": "bar"
           }
          ],
          "barpolar": [
           {
            "marker": {
             "line": {
              "color": "#E5ECF6",
              "width": 0.5
             },
             "pattern": {
              "fillmode": "overlay",
              "size": 10,
              "solidity": 0.2
             }
            },
            "type": "barpolar"
           }
          ],
          "carpet": [
           {
            "aaxis": {
             "endlinecolor": "#2a3f5f",
             "gridcolor": "white",
             "linecolor": "white",
             "minorgridcolor": "white",
             "startlinecolor": "#2a3f5f"
            },
            "baxis": {
             "endlinecolor": "#2a3f5f",
             "gridcolor": "white",
             "linecolor": "white",
             "minorgridcolor": "white",
             "startlinecolor": "#2a3f5f"
            },
            "type": "carpet"
           }
          ],
          "choropleth": [
           {
            "colorbar": {
             "outlinewidth": 0,
             "ticks": ""
            },
            "type": "choropleth"
           }
          ],
          "contour": [
           {
            "colorbar": {
             "outlinewidth": 0,
             "ticks": ""
            },
            "colorscale": [
             [
              0,
              "#0d0887"
             ],
             [
              0.1111111111111111,
              "#46039f"
             ],
             [
              0.2222222222222222,
              "#7201a8"
             ],
             [
              0.3333333333333333,
              "#9c179e"
             ],
             [
              0.4444444444444444,
              "#bd3786"
             ],
             [
              0.5555555555555556,
              "#d8576b"
             ],
             [
              0.6666666666666666,
              "#ed7953"
             ],
             [
              0.7777777777777778,
              "#fb9f3a"
             ],
             [
              0.8888888888888888,
              "#fdca26"
             ],
             [
              1,
              "#f0f921"
             ]
            ],
            "type": "contour"
           }
          ],
          "contourcarpet": [
           {
            "colorbar": {
             "outlinewidth": 0,
             "ticks": ""
            },
            "type": "contourcarpet"
           }
          ],
          "heatmap": [
           {
            "colorbar": {
             "outlinewidth": 0,
             "ticks": ""
            },
            "colorscale": [
             [
              0,
              "#0d0887"
             ],
             [
              0.1111111111111111,
              "#46039f"
             ],
             [
              0.2222222222222222,
              "#7201a8"
             ],
             [
              0.3333333333333333,
              "#9c179e"
             ],
             [
              0.4444444444444444,
              "#bd3786"
             ],
             [
              0.5555555555555556,
              "#d8576b"
             ],
             [
              0.6666666666666666,
              "#ed7953"
             ],
             [
              0.7777777777777778,
              "#fb9f3a"
             ],
             [
              0.8888888888888888,
              "#fdca26"
             ],
             [
              1,
              "#f0f921"
             ]
            ],
            "type": "heatmap"
           }
          ],
          "heatmapgl": [
           {
            "colorbar": {
             "outlinewidth": 0,
             "ticks": ""
            },
            "colorscale": [
             [
              0,
              "#0d0887"
             ],
             [
              0.1111111111111111,
              "#46039f"
             ],
             [
              0.2222222222222222,
              "#7201a8"
             ],
             [
              0.3333333333333333,
              "#9c179e"
             ],
             [
              0.4444444444444444,
              "#bd3786"
             ],
             [
              0.5555555555555556,
              "#d8576b"
             ],
             [
              0.6666666666666666,
              "#ed7953"
             ],
             [
              0.7777777777777778,
              "#fb9f3a"
             ],
             [
              0.8888888888888888,
              "#fdca26"
             ],
             [
              1,
              "#f0f921"
             ]
            ],
            "type": "heatmapgl"
           }
          ],
          "histogram": [
           {
            "marker": {
             "pattern": {
              "fillmode": "overlay",
              "size": 10,
              "solidity": 0.2
             }
            },
            "type": "histogram"
           }
          ],
          "histogram2d": [
           {
            "colorbar": {
             "outlinewidth": 0,
             "ticks": ""
            },
            "colorscale": [
             [
              0,
              "#0d0887"
             ],
             [
              0.1111111111111111,
              "#46039f"
             ],
             [
              0.2222222222222222,
              "#7201a8"
             ],
             [
              0.3333333333333333,
              "#9c179e"
             ],
             [
              0.4444444444444444,
              "#bd3786"
             ],
             [
              0.5555555555555556,
              "#d8576b"
             ],
             [
              0.6666666666666666,
              "#ed7953"
             ],
             [
              0.7777777777777778,
              "#fb9f3a"
             ],
             [
              0.8888888888888888,
              "#fdca26"
             ],
             [
              1,
              "#f0f921"
             ]
            ],
            "type": "histogram2d"
           }
          ],
          "histogram2dcontour": [
           {
            "colorbar": {
             "outlinewidth": 0,
             "ticks": ""
            },
            "colorscale": [
             [
              0,
              "#0d0887"
             ],
             [
              0.1111111111111111,
              "#46039f"
             ],
             [
              0.2222222222222222,
              "#7201a8"
             ],
             [
              0.3333333333333333,
              "#9c179e"
             ],
             [
              0.4444444444444444,
              "#bd3786"
             ],
             [
              0.5555555555555556,
              "#d8576b"
             ],
             [
              0.6666666666666666,
              "#ed7953"
             ],
             [
              0.7777777777777778,
              "#fb9f3a"
             ],
             [
              0.8888888888888888,
              "#fdca26"
             ],
             [
              1,
              "#f0f921"
             ]
            ],
            "type": "histogram2dcontour"
           }
          ],
          "mesh3d": [
           {
            "colorbar": {
             "outlinewidth": 0,
             "ticks": ""
            },
            "type": "mesh3d"
           }
          ],
          "parcoords": [
           {
            "line": {
             "colorbar": {
              "outlinewidth": 0,
              "ticks": ""
             }
            },
            "type": "parcoords"
           }
          ],
          "pie": [
           {
            "automargin": true,
            "type": "pie"
           }
          ],
          "scatter": [
           {
            "fillpattern": {
             "fillmode": "overlay",
             "size": 10,
             "solidity": 0.2
            },
            "type": "scatter"
           }
          ],
          "scatter3d": [
           {
            "line": {
             "colorbar": {
              "outlinewidth": 0,
              "ticks": ""
             }
            },
            "marker": {
             "colorbar": {
              "outlinewidth": 0,
              "ticks": ""
             }
            },
            "type": "scatter3d"
           }
          ],
          "scattercarpet": [
           {
            "marker": {
             "colorbar": {
              "outlinewidth": 0,
              "ticks": ""
             }
            },
            "type": "scattercarpet"
           }
          ],
          "scattergeo": [
           {
            "marker": {
             "colorbar": {
              "outlinewidth": 0,
              "ticks": ""
             }
            },
            "type": "scattergeo"
           }
          ],
          "scattergl": [
           {
            "marker": {
             "colorbar": {
              "outlinewidth": 0,
              "ticks": ""
             }
            },
            "type": "scattergl"
           }
          ],
          "scattermapbox": [
           {
            "marker": {
             "colorbar": {
              "outlinewidth": 0,
              "ticks": ""
             }
            },
            "type": "scattermapbox"
           }
          ],
          "scatterpolar": [
           {
            "marker": {
             "colorbar": {
              "outlinewidth": 0,
              "ticks": ""
             }
            },
            "type": "scatterpolar"
           }
          ],
          "scatterpolargl": [
           {
            "marker": {
             "colorbar": {
              "outlinewidth": 0,
              "ticks": ""
             }
            },
            "type": "scatterpolargl"
           }
          ],
          "scatterternary": [
           {
            "marker": {
             "colorbar": {
              "outlinewidth": 0,
              "ticks": ""
             }
            },
            "type": "scatterternary"
           }
          ],
          "surface": [
           {
            "colorbar": {
             "outlinewidth": 0,
             "ticks": ""
            },
            "colorscale": [
             [
              0,
              "#0d0887"
             ],
             [
              0.1111111111111111,
              "#46039f"
             ],
             [
              0.2222222222222222,
              "#7201a8"
             ],
             [
              0.3333333333333333,
              "#9c179e"
             ],
             [
              0.4444444444444444,
              "#bd3786"
             ],
             [
              0.5555555555555556,
              "#d8576b"
             ],
             [
              0.6666666666666666,
              "#ed7953"
             ],
             [
              0.7777777777777778,
              "#fb9f3a"
             ],
             [
              0.8888888888888888,
              "#fdca26"
             ],
             [
              1,
              "#f0f921"
             ]
            ],
            "type": "surface"
           }
          ],
          "table": [
           {
            "cells": {
             "fill": {
              "color": "#EBF0F8"
             },
             "line": {
              "color": "white"
             }
            },
            "header": {
             "fill": {
              "color": "#C8D4E3"
             },
             "line": {
              "color": "white"
             }
            },
            "type": "table"
           }
          ]
         },
         "layout": {
          "annotationdefaults": {
           "arrowcolor": "#2a3f5f",
           "arrowhead": 0,
           "arrowwidth": 1
          },
          "autotypenumbers": "strict",
          "coloraxis": {
           "colorbar": {
            "outlinewidth": 0,
            "ticks": ""
           }
          },
          "colorscale": {
           "diverging": [
            [
             0,
             "#8e0152"
            ],
            [
             0.1,
             "#c51b7d"
            ],
            [
             0.2,
             "#de77ae"
            ],
            [
             0.3,
             "#f1b6da"
            ],
            [
             0.4,
             "#fde0ef"
            ],
            [
             0.5,
             "#f7f7f7"
            ],
            [
             0.6,
             "#e6f5d0"
            ],
            [
             0.7,
             "#b8e186"
            ],
            [
             0.8,
             "#7fbc41"
            ],
            [
             0.9,
             "#4d9221"
            ],
            [
             1,
             "#276419"
            ]
           ],
           "sequential": [
            [
             0,
             "#0d0887"
            ],
            [
             0.1111111111111111,
             "#46039f"
            ],
            [
             0.2222222222222222,
             "#7201a8"
            ],
            [
             0.3333333333333333,
             "#9c179e"
            ],
            [
             0.4444444444444444,
             "#bd3786"
            ],
            [
             0.5555555555555556,
             "#d8576b"
            ],
            [
             0.6666666666666666,
             "#ed7953"
            ],
            [
             0.7777777777777778,
             "#fb9f3a"
            ],
            [
             0.8888888888888888,
             "#fdca26"
            ],
            [
             1,
             "#f0f921"
            ]
           ],
           "sequentialminus": [
            [
             0,
             "#0d0887"
            ],
            [
             0.1111111111111111,
             "#46039f"
            ],
            [
             0.2222222222222222,
             "#7201a8"
            ],
            [
             0.3333333333333333,
             "#9c179e"
            ],
            [
             0.4444444444444444,
             "#bd3786"
            ],
            [
             0.5555555555555556,
             "#d8576b"
            ],
            [
             0.6666666666666666,
             "#ed7953"
            ],
            [
             0.7777777777777778,
             "#fb9f3a"
            ],
            [
             0.8888888888888888,
             "#fdca26"
            ],
            [
             1,
             "#f0f921"
            ]
           ]
          },
          "colorway": [
           "#636efa",
           "#EF553B",
           "#00cc96",
           "#ab63fa",
           "#FFA15A",
           "#19d3f3",
           "#FF6692",
           "#B6E880",
           "#FF97FF",
           "#FECB52"
          ],
          "font": {
           "color": "#2a3f5f"
          },
          "geo": {
           "bgcolor": "white",
           "lakecolor": "white",
           "landcolor": "#E5ECF6",
           "showlakes": true,
           "showland": true,
           "subunitcolor": "white"
          },
          "hoverlabel": {
           "align": "left"
          },
          "hovermode": "closest",
          "mapbox": {
           "style": "light"
          },
          "paper_bgcolor": "white",
          "plot_bgcolor": "#E5ECF6",
          "polar": {
           "angularaxis": {
            "gridcolor": "white",
            "linecolor": "white",
            "ticks": ""
           },
           "bgcolor": "#E5ECF6",
           "radialaxis": {
            "gridcolor": "white",
            "linecolor": "white",
            "ticks": ""
           }
          },
          "scene": {
           "xaxis": {
            "backgroundcolor": "#E5ECF6",
            "gridcolor": "white",
            "gridwidth": 2,
            "linecolor": "white",
            "showbackground": true,
            "ticks": "",
            "zerolinecolor": "white"
           },
           "yaxis": {
            "backgroundcolor": "#E5ECF6",
            "gridcolor": "white",
            "gridwidth": 2,
            "linecolor": "white",
            "showbackground": true,
            "ticks": "",
            "zerolinecolor": "white"
           },
           "zaxis": {
            "backgroundcolor": "#E5ECF6",
            "gridcolor": "white",
            "gridwidth": 2,
            "linecolor": "white",
            "showbackground": true,
            "ticks": "",
            "zerolinecolor": "white"
           }
          },
          "shapedefaults": {
           "line": {
            "color": "#2a3f5f"
           }
          },
          "ternary": {
           "aaxis": {
            "gridcolor": "white",
            "linecolor": "white",
            "ticks": ""
           },
           "baxis": {
            "gridcolor": "white",
            "linecolor": "white",
            "ticks": ""
           },
           "bgcolor": "#E5ECF6",
           "caxis": {
            "gridcolor": "white",
            "linecolor": "white",
            "ticks": ""
           }
          },
          "title": {
           "x": 0.05
          },
          "xaxis": {
           "automargin": true,
           "gridcolor": "white",
           "linecolor": "white",
           "ticks": "",
           "title": {
            "standoff": 15
           },
           "zerolinecolor": "white",
           "zerolinewidth": 2
          },
          "yaxis": {
           "automargin": true,
           "gridcolor": "white",
           "linecolor": "white",
           "ticks": "",
           "title": {
            "standoff": 15
           },
           "zerolinecolor": "white",
           "zerolinewidth": 2
          }
         }
        },
        "xaxis": {
         "title": {
          "text": "Metric"
         }
        },
        "yaxis": {
         "title": {
          "text": "Mean Score"
         }
        }
       }
      }
     },
     "metadata": {},
     "output_type": "display_data"
    }
   ],
   "source": [
    "plot_metric_bars(\n",
    "    dfs, table_names, categorical_metrics, ragas_metrics, context_metrics\n",
    ")"
   ]
  },
  {
   "cell_type": "code",
   "execution_count": 25,
   "metadata": {},
   "outputs": [
    {
     "name": "stderr",
     "output_type": "stream",
     "text": [
      "wandb: WARNING Source type is set to 'repo' but some required information is missing from the environment. A job will not be created from this run. See https://docs.wandb.ai/guides/launch/create-job\n"
     ]
    }
   ],
   "source": [
    "run.finish()"
   ]
  },
  {
   "cell_type": "code",
   "execution_count": null,
   "metadata": {},
   "outputs": [],
   "source": []
  },
  {
   "cell_type": "code",
   "execution_count": null,
   "metadata": {},
   "outputs": [],
   "source": []
  }
 ],
 "metadata": {
  "kernelspec": {
   "display_name": "wandbot-eval",
   "language": "python",
   "name": "python3"
  },
  "language_info": {
   "codemirror_mode": {
    "name": "ipython",
    "version": 3
   },
   "file_extension": ".py",
   "mimetype": "text/x-python",
   "name": "python",
   "nbconvert_exporter": "python",
   "pygments_lexer": "ipython3",
   "version": "3.10.13"
  }
 },
 "nbformat": 4,
 "nbformat_minor": 2
}
